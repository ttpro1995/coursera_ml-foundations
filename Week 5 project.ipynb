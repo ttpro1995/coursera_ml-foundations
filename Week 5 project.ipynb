{
 "cells": [
  {
   "cell_type": "code",
   "execution_count": 94,
   "metadata": {
    "collapsed": false
   },
   "outputs": [],
   "source": [
    "import graphlab"
   ]
  },
  {
   "cell_type": "code",
   "execution_count": 104,
   "metadata": {
    "collapsed": false
   },
   "outputs": [],
   "source": [
    "song_data = graphlab.SFrame('data/song_data.gl/')"
   ]
  },
  {
   "cell_type": "code",
   "execution_count": 96,
   "metadata": {
    "collapsed": true
   },
   "outputs": [],
   "source": [
    "users = song_data['user_id'].unique()"
   ]
  },
  {
   "cell_type": "code",
   "execution_count": 97,
   "metadata": {
    "collapsed": false
   },
   "outputs": [
    {
     "data": {
      "text/html": [
       "<div style=\"max-height:1000px;max-width:1500px;overflow:auto;\"><table frame=\"box\" rules=\"cols\">\n",
       "    <tr>\n",
       "        <th style=\"padding-left: 1em; padding-right: 1em; text-align: center\">user_id</th>\n",
       "        <th style=\"padding-left: 1em; padding-right: 1em; text-align: center\">song_id</th>\n",
       "        <th style=\"padding-left: 1em; padding-right: 1em; text-align: center\">listen_count</th>\n",
       "        <th style=\"padding-left: 1em; padding-right: 1em; text-align: center\">title</th>\n",
       "        <th style=\"padding-left: 1em; padding-right: 1em; text-align: center\">artist</th>\n",
       "    </tr>\n",
       "    <tr>\n",
       "        <td style=\"padding-left: 1em; padding-right: 1em; text-align: center; vertical-align: top\">b80344d063b5ccb3212f76538<br>f3d9e43d87dca9e ...</td>\n",
       "        <td style=\"padding-left: 1em; padding-right: 1em; text-align: center; vertical-align: top\">SOAKIMP12A8C130995</td>\n",
       "        <td style=\"padding-left: 1em; padding-right: 1em; text-align: center; vertical-align: top\">1</td>\n",
       "        <td style=\"padding-left: 1em; padding-right: 1em; text-align: center; vertical-align: top\">The Cove</td>\n",
       "        <td style=\"padding-left: 1em; padding-right: 1em; text-align: center; vertical-align: top\">Jack Johnson</td>\n",
       "    </tr>\n",
       "    <tr>\n",
       "        <td style=\"padding-left: 1em; padding-right: 1em; text-align: center; vertical-align: top\">b80344d063b5ccb3212f76538<br>f3d9e43d87dca9e ...</td>\n",
       "        <td style=\"padding-left: 1em; padding-right: 1em; text-align: center; vertical-align: top\">SOBBMDR12A8C13253B</td>\n",
       "        <td style=\"padding-left: 1em; padding-right: 1em; text-align: center; vertical-align: top\">2</td>\n",
       "        <td style=\"padding-left: 1em; padding-right: 1em; text-align: center; vertical-align: top\">Entre Dos Aguas</td>\n",
       "        <td style=\"padding-left: 1em; padding-right: 1em; text-align: center; vertical-align: top\">Paco De Lucia</td>\n",
       "    </tr>\n",
       "    <tr>\n",
       "        <td style=\"padding-left: 1em; padding-right: 1em; text-align: center; vertical-align: top\">b80344d063b5ccb3212f76538<br>f3d9e43d87dca9e ...</td>\n",
       "        <td style=\"padding-left: 1em; padding-right: 1em; text-align: center; vertical-align: top\">SOBXHDL12A81C204C0</td>\n",
       "        <td style=\"padding-left: 1em; padding-right: 1em; text-align: center; vertical-align: top\">1</td>\n",
       "        <td style=\"padding-left: 1em; padding-right: 1em; text-align: center; vertical-align: top\">Stronger</td>\n",
       "        <td style=\"padding-left: 1em; padding-right: 1em; text-align: center; vertical-align: top\">Kanye West</td>\n",
       "    </tr>\n",
       "    <tr>\n",
       "        <td style=\"padding-left: 1em; padding-right: 1em; text-align: center; vertical-align: top\">b80344d063b5ccb3212f76538<br>f3d9e43d87dca9e ...</td>\n",
       "        <td style=\"padding-left: 1em; padding-right: 1em; text-align: center; vertical-align: top\">SOBYHAJ12A6701BF1D</td>\n",
       "        <td style=\"padding-left: 1em; padding-right: 1em; text-align: center; vertical-align: top\">1</td>\n",
       "        <td style=\"padding-left: 1em; padding-right: 1em; text-align: center; vertical-align: top\">Constellations</td>\n",
       "        <td style=\"padding-left: 1em; padding-right: 1em; text-align: center; vertical-align: top\">Jack Johnson</td>\n",
       "    </tr>\n",
       "    <tr>\n",
       "        <td style=\"padding-left: 1em; padding-right: 1em; text-align: center; vertical-align: top\">b80344d063b5ccb3212f76538<br>f3d9e43d87dca9e ...</td>\n",
       "        <td style=\"padding-left: 1em; padding-right: 1em; text-align: center; vertical-align: top\">SODACBL12A8C13C273</td>\n",
       "        <td style=\"padding-left: 1em; padding-right: 1em; text-align: center; vertical-align: top\">1</td>\n",
       "        <td style=\"padding-left: 1em; padding-right: 1em; text-align: center; vertical-align: top\">Learn To Fly</td>\n",
       "        <td style=\"padding-left: 1em; padding-right: 1em; text-align: center; vertical-align: top\">Foo Fighters</td>\n",
       "    </tr>\n",
       "    <tr>\n",
       "        <td style=\"padding-left: 1em; padding-right: 1em; text-align: center; vertical-align: top\">b80344d063b5ccb3212f76538<br>f3d9e43d87dca9e ...</td>\n",
       "        <td style=\"padding-left: 1em; padding-right: 1em; text-align: center; vertical-align: top\">SODDNQT12A6D4F5F7E</td>\n",
       "        <td style=\"padding-left: 1em; padding-right: 1em; text-align: center; vertical-align: top\">5</td>\n",
       "        <td style=\"padding-left: 1em; padding-right: 1em; text-align: center; vertical-align: top\">Apuesta Por El Rock 'N'<br>Roll ...</td>\n",
       "        <td style=\"padding-left: 1em; padding-right: 1em; text-align: center; vertical-align: top\">Héroes del Silencio</td>\n",
       "    </tr>\n",
       "    <tr>\n",
       "        <td style=\"padding-left: 1em; padding-right: 1em; text-align: center; vertical-align: top\">b80344d063b5ccb3212f76538<br>f3d9e43d87dca9e ...</td>\n",
       "        <td style=\"padding-left: 1em; padding-right: 1em; text-align: center; vertical-align: top\">SODXRTY12AB0180F3B</td>\n",
       "        <td style=\"padding-left: 1em; padding-right: 1em; text-align: center; vertical-align: top\">1</td>\n",
       "        <td style=\"padding-left: 1em; padding-right: 1em; text-align: center; vertical-align: top\">Paper Gangsta</td>\n",
       "        <td style=\"padding-left: 1em; padding-right: 1em; text-align: center; vertical-align: top\">Lady GaGa</td>\n",
       "    </tr>\n",
       "    <tr>\n",
       "        <td style=\"padding-left: 1em; padding-right: 1em; text-align: center; vertical-align: top\">b80344d063b5ccb3212f76538<br>f3d9e43d87dca9e ...</td>\n",
       "        <td style=\"padding-left: 1em; padding-right: 1em; text-align: center; vertical-align: top\">SOFGUAY12AB017B0A8</td>\n",
       "        <td style=\"padding-left: 1em; padding-right: 1em; text-align: center; vertical-align: top\">1</td>\n",
       "        <td style=\"padding-left: 1em; padding-right: 1em; text-align: center; vertical-align: top\">Stacked Actors</td>\n",
       "        <td style=\"padding-left: 1em; padding-right: 1em; text-align: center; vertical-align: top\">Foo Fighters</td>\n",
       "    </tr>\n",
       "    <tr>\n",
       "        <td style=\"padding-left: 1em; padding-right: 1em; text-align: center; vertical-align: top\">b80344d063b5ccb3212f76538<br>f3d9e43d87dca9e ...</td>\n",
       "        <td style=\"padding-left: 1em; padding-right: 1em; text-align: center; vertical-align: top\">SOFRQTD12A81C233C0</td>\n",
       "        <td style=\"padding-left: 1em; padding-right: 1em; text-align: center; vertical-align: top\">1</td>\n",
       "        <td style=\"padding-left: 1em; padding-right: 1em; text-align: center; vertical-align: top\">Sehr kosmisch</td>\n",
       "        <td style=\"padding-left: 1em; padding-right: 1em; text-align: center; vertical-align: top\">Harmonia</td>\n",
       "    </tr>\n",
       "    <tr>\n",
       "        <td style=\"padding-left: 1em; padding-right: 1em; text-align: center; vertical-align: top\">b80344d063b5ccb3212f76538<br>f3d9e43d87dca9e ...</td>\n",
       "        <td style=\"padding-left: 1em; padding-right: 1em; text-align: center; vertical-align: top\">SOHQWYZ12A6D4FA701</td>\n",
       "        <td style=\"padding-left: 1em; padding-right: 1em; text-align: center; vertical-align: top\">1</td>\n",
       "        <td style=\"padding-left: 1em; padding-right: 1em; text-align: center; vertical-align: top\">Heaven's gonna burn your<br>eyes ...</td>\n",
       "        <td style=\"padding-left: 1em; padding-right: 1em; text-align: center; vertical-align: top\">Thievery Corporation<br>feat. Emiliana Torrini ...</td>\n",
       "    </tr>\n",
       "</table>\n",
       "<table frame=\"box\" rules=\"cols\">\n",
       "    <tr>\n",
       "        <th style=\"padding-left: 1em; padding-right: 1em; text-align: center\">song</th>\n",
       "    </tr>\n",
       "    <tr>\n",
       "        <td style=\"padding-left: 1em; padding-right: 1em; text-align: center; vertical-align: top\">The Cove - Jack Johnson</td>\n",
       "    </tr>\n",
       "    <tr>\n",
       "        <td style=\"padding-left: 1em; padding-right: 1em; text-align: center; vertical-align: top\">Entre Dos Aguas - Paco De<br>Lucia ...</td>\n",
       "    </tr>\n",
       "    <tr>\n",
       "        <td style=\"padding-left: 1em; padding-right: 1em; text-align: center; vertical-align: top\">Stronger - Kanye West</td>\n",
       "    </tr>\n",
       "    <tr>\n",
       "        <td style=\"padding-left: 1em; padding-right: 1em; text-align: center; vertical-align: top\">Constellations - Jack<br>Johnson ...</td>\n",
       "    </tr>\n",
       "    <tr>\n",
       "        <td style=\"padding-left: 1em; padding-right: 1em; text-align: center; vertical-align: top\">Learn To Fly - Foo<br>Fighters ...</td>\n",
       "    </tr>\n",
       "    <tr>\n",
       "        <td style=\"padding-left: 1em; padding-right: 1em; text-align: center; vertical-align: top\">Apuesta Por El Rock 'N'<br>Roll - Héroes del ...</td>\n",
       "    </tr>\n",
       "    <tr>\n",
       "        <td style=\"padding-left: 1em; padding-right: 1em; text-align: center; vertical-align: top\">Paper Gangsta - Lady GaGa</td>\n",
       "    </tr>\n",
       "    <tr>\n",
       "        <td style=\"padding-left: 1em; padding-right: 1em; text-align: center; vertical-align: top\">Stacked Actors - Foo<br>Fighters ...</td>\n",
       "    </tr>\n",
       "    <tr>\n",
       "        <td style=\"padding-left: 1em; padding-right: 1em; text-align: center; vertical-align: top\">Sehr kosmisch - Harmonia</td>\n",
       "    </tr>\n",
       "    <tr>\n",
       "        <td style=\"padding-left: 1em; padding-right: 1em; text-align: center; vertical-align: top\">Heaven's gonna burn your<br>eyes - Thievery ...</td>\n",
       "    </tr>\n",
       "</table>\n",
       "[10 rows x 6 columns]<br/>\n",
       "</div>"
      ],
      "text/plain": [
       "Columns:\n",
       "\tuser_id\tstr\n",
       "\tsong_id\tstr\n",
       "\tlisten_count\tint\n",
       "\ttitle\tstr\n",
       "\tartist\tstr\n",
       "\tsong\tstr\n",
       "\n",
       "Rows: 10\n",
       "\n",
       "Data:\n",
       "+-------------------------------+--------------------+--------------+\n",
       "|            user_id            |      song_id       | listen_count |\n",
       "+-------------------------------+--------------------+--------------+\n",
       "| b80344d063b5ccb3212f76538f... | SOAKIMP12A8C130995 |      1       |\n",
       "| b80344d063b5ccb3212f76538f... | SOBBMDR12A8C13253B |      2       |\n",
       "| b80344d063b5ccb3212f76538f... | SOBXHDL12A81C204C0 |      1       |\n",
       "| b80344d063b5ccb3212f76538f... | SOBYHAJ12A6701BF1D |      1       |\n",
       "| b80344d063b5ccb3212f76538f... | SODACBL12A8C13C273 |      1       |\n",
       "| b80344d063b5ccb3212f76538f... | SODDNQT12A6D4F5F7E |      5       |\n",
       "| b80344d063b5ccb3212f76538f... | SODXRTY12AB0180F3B |      1       |\n",
       "| b80344d063b5ccb3212f76538f... | SOFGUAY12AB017B0A8 |      1       |\n",
       "| b80344d063b5ccb3212f76538f... | SOFRQTD12A81C233C0 |      1       |\n",
       "| b80344d063b5ccb3212f76538f... | SOHQWYZ12A6D4FA701 |      1       |\n",
       "+-------------------------------+--------------------+--------------+\n",
       "+-------------------------------+-------------------------------+\n",
       "|             title             |             artist            |\n",
       "+-------------------------------+-------------------------------+\n",
       "|            The Cove           |          Jack Johnson         |\n",
       "|        Entre Dos Aguas        |         Paco De Lucia         |\n",
       "|            Stronger           |           Kanye West          |\n",
       "|         Constellations        |          Jack Johnson         |\n",
       "|          Learn To Fly         |          Foo Fighters         |\n",
       "|  Apuesta Por El Rock 'N' Roll |      Héroes del Silencio      |\n",
       "|         Paper Gangsta         |           Lady GaGa           |\n",
       "|         Stacked Actors        |          Foo Fighters         |\n",
       "|         Sehr kosmisch         |            Harmonia           |\n",
       "| Heaven's gonna burn your eyes | Thievery Corporation feat.... |\n",
       "+-------------------------------+-------------------------------+\n",
       "+-------------------------------+\n",
       "|              song             |\n",
       "+-------------------------------+\n",
       "|    The Cove - Jack Johnson    |\n",
       "| Entre Dos Aguas - Paco De ... |\n",
       "|     Stronger - Kanye West     |\n",
       "| Constellations - Jack Johnson |\n",
       "|  Learn To Fly - Foo Fighters  |\n",
       "| Apuesta Por El Rock 'N' Ro... |\n",
       "|   Paper Gangsta - Lady GaGa   |\n",
       "| Stacked Actors - Foo Fighters |\n",
       "|    Sehr kosmisch - Harmonia   |\n",
       "| Heaven's gonna burn your e... |\n",
       "+-------------------------------+\n",
       "[10 rows x 6 columns]"
      ]
     },
     "execution_count": 97,
     "metadata": {},
     "output_type": "execute_result"
    }
   ],
   "source": [
    "song_data.head()"
   ]
  },
  {
   "cell_type": "code",
   "execution_count": 98,
   "metadata": {
    "collapsed": false
   },
   "outputs": [
    {
     "data": {
      "text/plain": [
       "dtype: str\n",
       "Rows: 10\n",
       "['c66c10a9567f0d82ff31441a9fd5063e5cd9dfe8', '279292bb36dbfc7f505e36ebf038c81eb1d1d63e', 'c067c22072a17d33310d7223d7b79f819e48cf42', 'f6c596a519698c97f1591ad89f540d76f6a04f1a', '696787172dd3f5169dc94deef97e427cee86147d', '3a7111f4cdf3c5a85fd4053e3cc2333562e1e0cb', '31f6fd9d9936adb9f7d0f157fd960c0a676ccfd6', '532e98155cbfd1e1a474a28ed96e59e50f7c5baf', 'ee43b175ed753b2e2bce806c903d4661ad351a91', 'e372c27f6cb071518ae500589ae02c126954c148']"
      ]
     },
     "execution_count": 98,
     "metadata": {},
     "output_type": "execute_result"
    }
   ],
   "source": [
    "users.head()"
   ]
  },
  {
   "cell_type": "code",
   "execution_count": 99,
   "metadata": {
    "collapsed": false
   },
   "outputs": [
    {
     "data": {
      "text/plain": [
       "66346"
      ]
     },
     "execution_count": 99,
     "metadata": {},
     "output_type": "execute_result"
    }
   ],
   "source": [
    "len(users)"
   ]
  },
  {
   "cell_type": "code",
   "execution_count": 100,
   "metadata": {
    "collapsed": true
   },
   "outputs": [],
   "source": [
    "KanyeWestuser = song_data[song_data['artist']=='Kanye West']"
   ]
  },
  {
   "cell_type": "code",
   "execution_count": 101,
   "metadata": {
    "collapsed": false,
    "scrolled": true
   },
   "outputs": [
    {
     "data": {
      "text/html": [
       "<div style=\"max-height:1000px;max-width:1500px;overflow:auto;\"><table frame=\"box\" rules=\"cols\">\n",
       "    <tr>\n",
       "        <th style=\"padding-left: 1em; padding-right: 1em; text-align: center\">user_id</th>\n",
       "        <th style=\"padding-left: 1em; padding-right: 1em; text-align: center\">song_id</th>\n",
       "        <th style=\"padding-left: 1em; padding-right: 1em; text-align: center\">listen_count</th>\n",
       "        <th style=\"padding-left: 1em; padding-right: 1em; text-align: center\">title</th>\n",
       "        <th style=\"padding-left: 1em; padding-right: 1em; text-align: center\">artist</th>\n",
       "    </tr>\n",
       "    <tr>\n",
       "        <td style=\"padding-left: 1em; padding-right: 1em; text-align: center; vertical-align: top\">b80344d063b5ccb3212f76538<br>f3d9e43d87dca9e ...</td>\n",
       "        <td style=\"padding-left: 1em; padding-right: 1em; text-align: center; vertical-align: top\">SOBXHDL12A81C204C0</td>\n",
       "        <td style=\"padding-left: 1em; padding-right: 1em; text-align: center; vertical-align: top\">1</td>\n",
       "        <td style=\"padding-left: 1em; padding-right: 1em; text-align: center; vertical-align: top\">Stronger</td>\n",
       "        <td style=\"padding-left: 1em; padding-right: 1em; text-align: center; vertical-align: top\">Kanye West</td>\n",
       "    </tr>\n",
       "    <tr>\n",
       "        <td style=\"padding-left: 1em; padding-right: 1em; text-align: center; vertical-align: top\">b80344d063b5ccb3212f76538<br>f3d9e43d87dca9e ...</td>\n",
       "        <td style=\"padding-left: 1em; padding-right: 1em; text-align: center; vertical-align: top\">SOMLMKI12A81C204BC</td>\n",
       "        <td style=\"padding-left: 1em; padding-right: 1em; text-align: center; vertical-align: top\">1</td>\n",
       "        <td style=\"padding-left: 1em; padding-right: 1em; text-align: center; vertical-align: top\">Champion</td>\n",
       "        <td style=\"padding-left: 1em; padding-right: 1em; text-align: center; vertical-align: top\">Kanye West</td>\n",
       "    </tr>\n",
       "    <tr>\n",
       "        <td style=\"padding-left: 1em; padding-right: 1em; text-align: center; vertical-align: top\">5d5e0142e54c3bb7b69f548c2<br>ee55066c90700eb ...</td>\n",
       "        <td style=\"padding-left: 1em; padding-right: 1em; text-align: center; vertical-align: top\">SORFASW12A81C22AE7</td>\n",
       "        <td style=\"padding-left: 1em; padding-right: 1em; text-align: center; vertical-align: top\">2</td>\n",
       "        <td style=\"padding-left: 1em; padding-right: 1em; text-align: center; vertical-align: top\">Stronger</td>\n",
       "        <td style=\"padding-left: 1em; padding-right: 1em; text-align: center; vertical-align: top\">Kanye West</td>\n",
       "    </tr>\n",
       "    <tr>\n",
       "        <td style=\"padding-left: 1em; padding-right: 1em; text-align: center; vertical-align: top\">537340ff896dea11328910013<br>cfe759413e1eeb3 ...</td>\n",
       "        <td style=\"padding-left: 1em; padding-right: 1em; text-align: center; vertical-align: top\">SOBXHDL12A81C204C0</td>\n",
       "        <td style=\"padding-left: 1em; padding-right: 1em; text-align: center; vertical-align: top\">2</td>\n",
       "        <td style=\"padding-left: 1em; padding-right: 1em; text-align: center; vertical-align: top\">Stronger</td>\n",
       "        <td style=\"padding-left: 1em; padding-right: 1em; text-align: center; vertical-align: top\">Kanye West</td>\n",
       "    </tr>\n",
       "    <tr>\n",
       "        <td style=\"padding-left: 1em; padding-right: 1em; text-align: center; vertical-align: top\">7dd192c8bd4f27f573cb15e86<br>56442aadd7a9c01 ...</td>\n",
       "        <td style=\"padding-left: 1em; padding-right: 1em; text-align: center; vertical-align: top\">SOOLPFK12A58A7BDE3</td>\n",
       "        <td style=\"padding-left: 1em; padding-right: 1em; text-align: center; vertical-align: top\">5</td>\n",
       "        <td style=\"padding-left: 1em; padding-right: 1em; text-align: center; vertical-align: top\">Flashing Lights</td>\n",
       "        <td style=\"padding-left: 1em; padding-right: 1em; text-align: center; vertical-align: top\">Kanye West</td>\n",
       "    </tr>\n",
       "    <tr>\n",
       "        <td style=\"padding-left: 1em; padding-right: 1em; text-align: center; vertical-align: top\">8fce200f3912e9608e3b1463c<br>db9c3529aab5c08 ...</td>\n",
       "        <td style=\"padding-left: 1em; padding-right: 1em; text-align: center; vertical-align: top\">SOBXHDL12A81C204C0</td>\n",
       "        <td style=\"padding-left: 1em; padding-right: 1em; text-align: center; vertical-align: top\">2</td>\n",
       "        <td style=\"padding-left: 1em; padding-right: 1em; text-align: center; vertical-align: top\">Stronger</td>\n",
       "        <td style=\"padding-left: 1em; padding-right: 1em; text-align: center; vertical-align: top\">Kanye West</td>\n",
       "    </tr>\n",
       "    <tr>\n",
       "        <td style=\"padding-left: 1em; padding-right: 1em; text-align: center; vertical-align: top\">8fce200f3912e9608e3b1463c<br>db9c3529aab5c08 ...</td>\n",
       "        <td style=\"padding-left: 1em; padding-right: 1em; text-align: center; vertical-align: top\">SOIBSWV12A6D4F6AB3</td>\n",
       "        <td style=\"padding-left: 1em; padding-right: 1em; text-align: center; vertical-align: top\">1</td>\n",
       "        <td style=\"padding-left: 1em; padding-right: 1em; text-align: center; vertical-align: top\">Through The Wire</td>\n",
       "        <td style=\"padding-left: 1em; padding-right: 1em; text-align: center; vertical-align: top\">Kanye West</td>\n",
       "    </tr>\n",
       "    <tr>\n",
       "        <td style=\"padding-left: 1em; padding-right: 1em; text-align: center; vertical-align: top\">a56bf59af6edc5ae6c92d61dd<br>d214989332864e8 ...</td>\n",
       "        <td style=\"padding-left: 1em; padding-right: 1em; text-align: center; vertical-align: top\">SONGNHO12AB0183915</td>\n",
       "        <td style=\"padding-left: 1em; padding-right: 1em; text-align: center; vertical-align: top\">1</td>\n",
       "        <td style=\"padding-left: 1em; padding-right: 1em; text-align: center; vertical-align: top\">Bad News</td>\n",
       "        <td style=\"padding-left: 1em; padding-right: 1em; text-align: center; vertical-align: top\">Kanye West</td>\n",
       "    </tr>\n",
       "    <tr>\n",
       "        <td style=\"padding-left: 1em; padding-right: 1em; text-align: center; vertical-align: top\">8fa25e588aeedaa539674babb<br>75729ac9f31f15e ...</td>\n",
       "        <td style=\"padding-left: 1em; padding-right: 1em; text-align: center; vertical-align: top\">SOOLPFK12A58A7BDE3</td>\n",
       "        <td style=\"padding-left: 1em; padding-right: 1em; text-align: center; vertical-align: top\">1</td>\n",
       "        <td style=\"padding-left: 1em; padding-right: 1em; text-align: center; vertical-align: top\">Flashing Lights</td>\n",
       "        <td style=\"padding-left: 1em; padding-right: 1em; text-align: center; vertical-align: top\">Kanye West</td>\n",
       "    </tr>\n",
       "    <tr>\n",
       "        <td style=\"padding-left: 1em; padding-right: 1em; text-align: center; vertical-align: top\">e8612acfb1572297ea0eaaa1f<br>27927d55fdcec65 ...</td>\n",
       "        <td style=\"padding-left: 1em; padding-right: 1em; text-align: center; vertical-align: top\">SOIYWPZ12A81C204EF</td>\n",
       "        <td style=\"padding-left: 1em; padding-right: 1em; text-align: center; vertical-align: top\">2</td>\n",
       "        <td style=\"padding-left: 1em; padding-right: 1em; text-align: center; vertical-align: top\">Homecoming</td>\n",
       "        <td style=\"padding-left: 1em; padding-right: 1em; text-align: center; vertical-align: top\">Kanye West</td>\n",
       "    </tr>\n",
       "</table>\n",
       "<table frame=\"box\" rules=\"cols\">\n",
       "    <tr>\n",
       "        <th style=\"padding-left: 1em; padding-right: 1em; text-align: center\">song</th>\n",
       "    </tr>\n",
       "    <tr>\n",
       "        <td style=\"padding-left: 1em; padding-right: 1em; text-align: center; vertical-align: top\">Stronger - Kanye West</td>\n",
       "    </tr>\n",
       "    <tr>\n",
       "        <td style=\"padding-left: 1em; padding-right: 1em; text-align: center; vertical-align: top\">Champion - Kanye West</td>\n",
       "    </tr>\n",
       "    <tr>\n",
       "        <td style=\"padding-left: 1em; padding-right: 1em; text-align: center; vertical-align: top\">Stronger - Kanye West</td>\n",
       "    </tr>\n",
       "    <tr>\n",
       "        <td style=\"padding-left: 1em; padding-right: 1em; text-align: center; vertical-align: top\">Stronger - Kanye West</td>\n",
       "    </tr>\n",
       "    <tr>\n",
       "        <td style=\"padding-left: 1em; padding-right: 1em; text-align: center; vertical-align: top\">Flashing Lights - Kanye<br>West ...</td>\n",
       "    </tr>\n",
       "    <tr>\n",
       "        <td style=\"padding-left: 1em; padding-right: 1em; text-align: center; vertical-align: top\">Stronger - Kanye West</td>\n",
       "    </tr>\n",
       "    <tr>\n",
       "        <td style=\"padding-left: 1em; padding-right: 1em; text-align: center; vertical-align: top\">Through The Wire - Kanye<br>West ...</td>\n",
       "    </tr>\n",
       "    <tr>\n",
       "        <td style=\"padding-left: 1em; padding-right: 1em; text-align: center; vertical-align: top\">Bad News - Kanye West</td>\n",
       "    </tr>\n",
       "    <tr>\n",
       "        <td style=\"padding-left: 1em; padding-right: 1em; text-align: center; vertical-align: top\">Flashing Lights - Kanye<br>West ...</td>\n",
       "    </tr>\n",
       "    <tr>\n",
       "        <td style=\"padding-left: 1em; padding-right: 1em; text-align: center; vertical-align: top\">Homecoming - Kanye West</td>\n",
       "    </tr>\n",
       "</table>\n",
       "[10 rows x 6 columns]<br/>\n",
       "</div>"
      ],
      "text/plain": [
       "Columns:\n",
       "\tuser_id\tstr\n",
       "\tsong_id\tstr\n",
       "\tlisten_count\tint\n",
       "\ttitle\tstr\n",
       "\tartist\tstr\n",
       "\tsong\tstr\n",
       "\n",
       "Rows: 10\n",
       "\n",
       "Data:\n",
       "+-------------------------------+--------------------+--------------+\n",
       "|            user_id            |      song_id       | listen_count |\n",
       "+-------------------------------+--------------------+--------------+\n",
       "| b80344d063b5ccb3212f76538f... | SOBXHDL12A81C204C0 |      1       |\n",
       "| b80344d063b5ccb3212f76538f... | SOMLMKI12A81C204BC |      1       |\n",
       "| 5d5e0142e54c3bb7b69f548c2e... | SORFASW12A81C22AE7 |      2       |\n",
       "| 537340ff896dea11328910013c... | SOBXHDL12A81C204C0 |      2       |\n",
       "| 7dd192c8bd4f27f573cb15e865... | SOOLPFK12A58A7BDE3 |      5       |\n",
       "| 8fce200f3912e9608e3b1463cd... | SOBXHDL12A81C204C0 |      2       |\n",
       "| 8fce200f3912e9608e3b1463cd... | SOIBSWV12A6D4F6AB3 |      1       |\n",
       "| a56bf59af6edc5ae6c92d61ddd... | SONGNHO12AB0183915 |      1       |\n",
       "| 8fa25e588aeedaa539674babb7... | SOOLPFK12A58A7BDE3 |      1       |\n",
       "| e8612acfb1572297ea0eaaa1f2... | SOIYWPZ12A81C204EF |      2       |\n",
       "+-------------------------------+--------------------+--------------+\n",
       "+------------------+------------+-------------------------------+\n",
       "|      title       |   artist   |              song             |\n",
       "+------------------+------------+-------------------------------+\n",
       "|     Stronger     | Kanye West |     Stronger - Kanye West     |\n",
       "|     Champion     | Kanye West |     Champion - Kanye West     |\n",
       "|     Stronger     | Kanye West |     Stronger - Kanye West     |\n",
       "|     Stronger     | Kanye West |     Stronger - Kanye West     |\n",
       "| Flashing Lights  | Kanye West |  Flashing Lights - Kanye West |\n",
       "|     Stronger     | Kanye West |     Stronger - Kanye West     |\n",
       "| Through The Wire | Kanye West | Through The Wire - Kanye West |\n",
       "|     Bad News     | Kanye West |     Bad News - Kanye West     |\n",
       "| Flashing Lights  | Kanye West |  Flashing Lights - Kanye West |\n",
       "|    Homecoming    | Kanye West |    Homecoming - Kanye West    |\n",
       "+------------------+------------+-------------------------------+\n",
       "[10 rows x 6 columns]"
      ]
     },
     "execution_count": 101,
     "metadata": {},
     "output_type": "execute_result"
    }
   ],
   "source": [
    "KanyeWestuser.head()"
   ]
  },
  {
   "cell_type": "code",
   "execution_count": 102,
   "metadata": {
    "collapsed": true
   },
   "outputs": [],
   "source": [
    "graphlab.canvas.set_target('ipynb')"
   ]
  },
  {
   "cell_type": "code",
   "execution_count": 103,
   "metadata": {
    "collapsed": false
   },
   "outputs": [
    {
     "data": {
      "text/plain": [
       "2522"
      ]
     },
     "execution_count": 103,
     "metadata": {},
     "output_type": "execute_result"
    }
   ],
   "source": [
    "len(KanyeWestuser['user_id'].unique())"
   ]
  },
  {
   "cell_type": "code",
   "execution_count": 12,
   "metadata": {
    "collapsed": true
   },
   "outputs": [],
   "source": [
    "foouser = song_data[song_data['artist']=='Foo Fighters']"
   ]
  },
  {
   "cell_type": "code",
   "execution_count": 13,
   "metadata": {
    "collapsed": true
   },
   "outputs": [],
   "source": [
    "Tayloruser = song_data[song_data['artist']=='Taylor Swift']"
   ]
  },
  {
   "cell_type": "code",
   "execution_count": 14,
   "metadata": {
    "collapsed": true
   },
   "outputs": [],
   "source": [
    "Gagauser = song_data[song_data['artist']=='Lady GaGa']"
   ]
  },
  {
   "cell_type": "code",
   "execution_count": 24,
   "metadata": {
    "collapsed": true
   },
   "outputs": [],
   "source": [
    "kinguser = song_data[song_data['artist']=='Kings of Leon']"
   ]
  },
  {
   "cell_type": "code",
   "execution_count": 23,
   "metadata": {
    "collapsed": false
   },
   "outputs": [
    {
     "data": {
      "text/html": [
       "<div style=\"max-height:1000px;max-width:1500px;overflow:auto;\"><table frame=\"box\" rules=\"cols\">\n",
       "    <tr>\n",
       "        <th style=\"padding-left: 1em; padding-right: 1em; text-align: center\">user_id</th>\n",
       "        <th style=\"padding-left: 1em; padding-right: 1em; text-align: center\">song_id</th>\n",
       "        <th style=\"padding-left: 1em; padding-right: 1em; text-align: center\">listen_count</th>\n",
       "        <th style=\"padding-left: 1em; padding-right: 1em; text-align: center\">title</th>\n",
       "        <th style=\"padding-left: 1em; padding-right: 1em; text-align: center\">artist</th>\n",
       "        <th style=\"padding-left: 1em; padding-right: 1em; text-align: center\">song</th>\n",
       "    </tr>\n",
       "</table>\n",
       "[0 rows x 6 columns]<br/>\n",
       "</div>"
      ],
      "text/plain": [
       "Columns:\n",
       "\tuser_id\tstr\n",
       "\tsong_id\tstr\n",
       "\tlisten_count\tint\n",
       "\ttitle\tstr\n",
       "\tartist\tstr\n",
       "\tsong\tstr\n",
       "\n",
       "Rows: 0\n",
       "\n",
       "Data:\n",
       "\t[]"
      ]
     },
     "execution_count": 23,
     "metadata": {},
     "output_type": "execute_result"
    }
   ],
   "source": [
    "kinguser.head()"
   ]
  },
  {
   "cell_type": "code",
   "execution_count": 20,
   "metadata": {
    "collapsed": true
   },
   "outputs": [],
   "source": [
    "colduser = song_data[song_data['artist']=='Coldplay']"
   ]
  },
  {
   "cell_type": "code",
   "execution_count": 15,
   "metadata": {
    "collapsed": false
   },
   "outputs": [
    {
     "data": {
      "text/plain": [
       "2055"
      ]
     },
     "execution_count": 15,
     "metadata": {},
     "output_type": "execute_result"
    }
   ],
   "source": [
    "len(foouser['user_id'].unique())"
   ]
  },
  {
   "cell_type": "code",
   "execution_count": 16,
   "metadata": {
    "collapsed": false
   },
   "outputs": [
    {
     "data": {
      "text/plain": [
       "3246"
      ]
     },
     "execution_count": 16,
     "metadata": {},
     "output_type": "execute_result"
    }
   ],
   "source": [
    "len(Tayloruser['user_id'].unique())"
   ]
  },
  {
   "cell_type": "code",
   "execution_count": 17,
   "metadata": {
    "collapsed": false
   },
   "outputs": [
    {
     "data": {
      "text/plain": [
       "2928"
      ]
     },
     "execution_count": 17,
     "metadata": {},
     "output_type": "execute_result"
    }
   ],
   "source": [
    "len(Gagauser['user_id'].unique())"
   ]
  },
  {
   "cell_type": "code",
   "execution_count": 18,
   "metadata": {
    "collapsed": false
   },
   "outputs": [
    {
     "data": {
      "text/plain": [
       "19376L"
      ]
     },
     "execution_count": 18,
     "metadata": {},
     "output_type": "execute_result"
    }
   ],
   "source": [
    "sum(Tayloruser['listen_count'])"
   ]
  },
  {
   "cell_type": "markdown",
   "metadata": {},
   "source": [
    "# 1 Which of the artists below have had the most unique users listening to their songs? \n",
    "Taylor Swift"
   ]
  },
  {
   "cell_type": "code",
   "execution_count": 115,
   "metadata": {
    "collapsed": true
   },
   "outputs": [],
   "source": [
    "Tayloruser = song_data[song_data['artist']=='Taylor Swift']"
   ]
  },
  {
   "cell_type": "code",
   "execution_count": 125,
   "metadata": {
    "collapsed": true
   },
   "outputs": [],
   "source": [
    "kinguser = song_data[song_data['artist']=='Kings Of Leon']"
   ]
  },
  {
   "cell_type": "code",
   "execution_count": 126,
   "metadata": {
    "collapsed": true
   },
   "outputs": [],
   "source": [
    "coldruser = song_data[song_data['artist']=='Coldplay']"
   ]
  },
  {
   "cell_type": "code",
   "execution_count": 127,
   "metadata": {
    "collapsed": true
   },
   "outputs": [],
   "source": [
    "gagauser = song_data[song_data['artist']=='Lady GaGa']"
   ]
  },
  {
   "cell_type": "code",
   "execution_count": 128,
   "metadata": {
    "collapsed": false
   },
   "outputs": [
    {
     "data": {
      "text/plain": [
       "19376L"
      ]
     },
     "execution_count": 128,
     "metadata": {},
     "output_type": "execute_result"
    }
   ],
   "source": [
    "sum(Tayloruser['listen_count'])"
   ]
  },
  {
   "cell_type": "code",
   "execution_count": 129,
   "metadata": {
    "collapsed": false
   },
   "outputs": [
    {
     "data": {
      "text/plain": [
       "43218L"
      ]
     },
     "execution_count": 129,
     "metadata": {},
     "output_type": "execute_result"
    }
   ],
   "source": [
    "sum(kinguser['listen_count'])"
   ]
  },
  {
   "cell_type": "code",
   "execution_count": 130,
   "metadata": {
    "collapsed": false
   },
   "outputs": [
    {
     "data": {
      "text/plain": [
       "35362L"
      ]
     },
     "execution_count": 130,
     "metadata": {},
     "output_type": "execute_result"
    }
   ],
   "source": [
    "sum(coldruser['listen_count'])"
   ]
  },
  {
   "cell_type": "code",
   "execution_count": 131,
   "metadata": {
    "collapsed": false
   },
   "outputs": [
    {
     "data": {
      "text/plain": [
       "12224L"
      ]
     },
     "execution_count": 131,
     "metadata": {},
     "output_type": "execute_result"
    }
   ],
   "source": [
    "sum(gagauser['listen_count'])"
   ]
  },
  {
   "cell_type": "markdown",
   "metadata": {},
   "source": [
    "# 2 Which of the artists below is the most popular artist, the one with highest total listen_count, in the data set?\n",
    "Kings Of Leon\n"
   ]
  },
  {
   "cell_type": "code",
   "execution_count": 113,
   "metadata": {
    "collapsed": true
   },
   "outputs": [],
   "source": [
    "Tayloruser = song_data[song_data['artist']=='Taylor Swift']"
   ]
  },
  {
   "cell_type": "code",
   "execution_count": 105,
   "metadata": {
    "collapsed": true
   },
   "outputs": [],
   "source": [
    "willuser = song_data[song_data['artist']=='William Tabbert']"
   ]
  },
  {
   "cell_type": "code",
   "execution_count": 106,
   "metadata": {
    "collapsed": true
   },
   "outputs": [],
   "source": [
    "valvetuser = song_data[song_data['artist']=='Velvet Underground & Nico']"
   ]
  },
  {
   "cell_type": "code",
   "execution_count": 107,
   "metadata": {
    "collapsed": true
   },
   "outputs": [],
   "source": [
    "kanuser = song_data[song_data['artist']=='Kanye West']"
   ]
  },
  {
   "cell_type": "code",
   "execution_count": 108,
   "metadata": {
    "collapsed": true
   },
   "outputs": [],
   "source": [
    "cooluser = song_data[song_data['artist']=='The Cool Kids']"
   ]
  },
  {
   "cell_type": "code",
   "execution_count": 109,
   "metadata": {
    "collapsed": false
   },
   "outputs": [
    {
     "data": {
      "text/plain": [
       "14L"
      ]
     },
     "execution_count": 109,
     "metadata": {},
     "output_type": "execute_result"
    }
   ],
   "source": [
    "sum(willuser['listen_count'])"
   ]
  },
  {
   "cell_type": "code",
   "execution_count": 110,
   "metadata": {
    "collapsed": false
   },
   "outputs": [
    {
     "data": {
      "text/plain": [
       "80L"
      ]
     },
     "execution_count": 110,
     "metadata": {},
     "output_type": "execute_result"
    }
   ],
   "source": [
    "sum(valvetuser['listen_count'])"
   ]
  },
  {
   "cell_type": "code",
   "execution_count": 111,
   "metadata": {
    "collapsed": false
   },
   "outputs": [
    {
     "data": {
      "text/plain": [
       "9992L"
      ]
     },
     "execution_count": 111,
     "metadata": {},
     "output_type": "execute_result"
    }
   ],
   "source": [
    "sum(kanuser['listen_count'])"
   ]
  },
  {
   "cell_type": "code",
   "execution_count": 112,
   "metadata": {
    "collapsed": false
   },
   "outputs": [
    {
     "data": {
      "text/plain": [
       "73L"
      ]
     },
     "execution_count": 112,
     "metadata": {},
     "output_type": "execute_result"
    }
   ],
   "source": [
    "sum(cooluser['listen_count'])"
   ]
  },
  {
   "cell_type": "markdown",
   "metadata": {},
   "source": [
    "# 3 Which of the artists below is the least popular artist, the one with smallest total listen_count, in the data set?\n",
    "William Tabbert"
   ]
  },
  {
   "cell_type": "code",
   "execution_count": 47,
   "metadata": {
    "collapsed": true
   },
   "outputs": [],
   "source": [
    "train_data,test_data = song_data.random_split(.8,seed=0)"
   ]
  },
  {
   "cell_type": "code",
   "execution_count": 48,
   "metadata": {
    "collapsed": false
   },
   "outputs": [
    {
     "data": {
      "text/html": [
       "<pre>Warning: Ignoring columns song_id, listen_count, title, artist;</pre>"
      ],
      "text/plain": [
       "Warning: Ignoring columns song_id, listen_count, title, artist;"
      ]
     },
     "metadata": {},
     "output_type": "display_data"
    },
    {
     "data": {
      "text/html": [
       "<pre>    To use one of these as a target column, set target = <column_name></pre>"
      ],
      "text/plain": [
       "    To use one of these as a target column, set target = <column_name>"
      ]
     },
     "metadata": {},
     "output_type": "display_data"
    },
    {
     "data": {
      "text/html": [
       "<pre>    and use a method that allows the use of a target.</pre>"
      ],
      "text/plain": [
       "    and use a method that allows the use of a target."
      ]
     },
     "metadata": {},
     "output_type": "display_data"
    },
    {
     "data": {
      "text/html": [
       "<pre>Preparing data set.</pre>"
      ],
      "text/plain": [
       "Preparing data set."
      ]
     },
     "metadata": {},
     "output_type": "display_data"
    },
    {
     "data": {
      "text/html": [
       "<pre>    Data has 893580 observations with 66085 users and 9952 items.</pre>"
      ],
      "text/plain": [
       "    Data has 893580 observations with 66085 users and 9952 items."
      ]
     },
     "metadata": {},
     "output_type": "display_data"
    },
    {
     "data": {
      "text/html": [
       "<pre>    Data prepared in: 1.00571s</pre>"
      ],
      "text/plain": [
       "    Data prepared in: 1.00571s"
      ]
     },
     "metadata": {},
     "output_type": "display_data"
    },
    {
     "data": {
      "text/html": [
       "<pre>Computing item similarity statistics:</pre>"
      ],
      "text/plain": [
       "Computing item similarity statistics:"
      ]
     },
     "metadata": {},
     "output_type": "display_data"
    },
    {
     "data": {
      "text/html": [
       "<pre>Computing most similar items for 9952 items:</pre>"
      ],
      "text/plain": [
       "Computing most similar items for 9952 items:"
      ]
     },
     "metadata": {},
     "output_type": "display_data"
    },
    {
     "data": {
      "text/html": [
       "<pre>+-----------------+-----------------+</pre>"
      ],
      "text/plain": [
       "+-----------------+-----------------+"
      ]
     },
     "metadata": {},
     "output_type": "display_data"
    },
    {
     "data": {
      "text/html": [
       "<pre>| Number of items | Elapsed Time    |</pre>"
      ],
      "text/plain": [
       "| Number of items | Elapsed Time    |"
      ]
     },
     "metadata": {},
     "output_type": "display_data"
    },
    {
     "data": {
      "text/html": [
       "<pre>+-----------------+-----------------+</pre>"
      ],
      "text/plain": [
       "+-----------------+-----------------+"
      ]
     },
     "metadata": {},
     "output_type": "display_data"
    },
    {
     "data": {
      "text/html": [
       "<pre>| 1000            | 2.13927         |</pre>"
      ],
      "text/plain": [
       "| 1000            | 2.13927         |"
      ]
     },
     "metadata": {},
     "output_type": "display_data"
    },
    {
     "data": {
      "text/html": [
       "<pre>| 2000            | 2.23784         |</pre>"
      ],
      "text/plain": [
       "| 2000            | 2.23784         |"
      ]
     },
     "metadata": {},
     "output_type": "display_data"
    },
    {
     "data": {
      "text/html": [
       "<pre>| 3000            | 2.3269          |</pre>"
      ],
      "text/plain": [
       "| 3000            | 2.3269          |"
      ]
     },
     "metadata": {},
     "output_type": "display_data"
    },
    {
     "data": {
      "text/html": [
       "<pre>| 4000            | 2.41446         |</pre>"
      ],
      "text/plain": [
       "| 4000            | 2.41446         |"
      ]
     },
     "metadata": {},
     "output_type": "display_data"
    },
    {
     "data": {
      "text/html": [
       "<pre>| 5000            | 2.49702         |</pre>"
      ],
      "text/plain": [
       "| 5000            | 2.49702         |"
      ]
     },
     "metadata": {},
     "output_type": "display_data"
    },
    {
     "data": {
      "text/html": [
       "<pre>| 6000            | 2.57708         |</pre>"
      ],
      "text/plain": [
       "| 6000            | 2.57708         |"
      ]
     },
     "metadata": {},
     "output_type": "display_data"
    },
    {
     "data": {
      "text/html": [
       "<pre>| 7000            | 2.65363         |</pre>"
      ],
      "text/plain": [
       "| 7000            | 2.65363         |"
      ]
     },
     "metadata": {},
     "output_type": "display_data"
    },
    {
     "data": {
      "text/html": [
       "<pre>| 8000            | 2.7517          |</pre>"
      ],
      "text/plain": [
       "| 8000            | 2.7517          |"
      ]
     },
     "metadata": {},
     "output_type": "display_data"
    },
    {
     "data": {
      "text/html": [
       "<pre>| 9000            | 2.86979         |</pre>"
      ],
      "text/plain": [
       "| 9000            | 2.86979         |"
      ]
     },
     "metadata": {},
     "output_type": "display_data"
    },
    {
     "data": {
      "text/html": [
       "<pre>+-----------------+-----------------+</pre>"
      ],
      "text/plain": [
       "+-----------------+-----------------+"
      ]
     },
     "metadata": {},
     "output_type": "display_data"
    },
    {
     "data": {
      "text/html": [
       "<pre>Finished training in 3.24455s</pre>"
      ],
      "text/plain": [
       "Finished training in 3.24455s"
      ]
     },
     "metadata": {},
     "output_type": "display_data"
    }
   ],
   "source": [
    "personalized_model = graphlab.item_similarity_recommender.create(train_data,\n",
    "                                                                user_id='user_id',\n",
    "                                                                item_id='song')"
   ]
  },
  {
   "cell_type": "code",
   "execution_count": 55,
   "metadata": {
    "collapsed": false
   },
   "outputs": [
    {
     "name": "stderr",
     "output_type": "stream",
     "text": [
      "[ERROR] Toolkit error: Query data for recommend(...) cannot contain an item column.\n"
     ]
    },
    {
     "ename": "ToolkitError",
     "evalue": "Query data for recommend(...) cannot contain an item column.",
     "output_type": "error",
     "traceback": [
      "\u001b[1;31m---------------------------------------------------------------------------\u001b[0m",
      "\u001b[1;31mToolkitError\u001b[0m                              Traceback (most recent call last)",
      "\u001b[1;32m<ipython-input-55-45819a0daafd>\u001b[0m in \u001b[0;36m<module>\u001b[1;34m()\u001b[0m\n\u001b[1;32m----> 1\u001b[1;33m \u001b[0mpersonalized_model\u001b[0m\u001b[1;33m.\u001b[0m\u001b[0mrecommend\u001b[0m\u001b[1;33m(\u001b[0m\u001b[0musers\u001b[0m\u001b[1;33m=\u001b[0m\u001b[1;33m[\u001b[0m\u001b[0mtest_data\u001b[0m\u001b[1;33m[\u001b[0m\u001b[1;36m1\u001b[0m\u001b[1;33m]\u001b[0m\u001b[1;33m]\u001b[0m\u001b[1;33m)\u001b[0m\u001b[1;33m\u001b[0m\u001b[0m\n\u001b[0m",
      "\u001b[1;32mC:\\Anaconda2\\envs\\dato-env\\lib\\site-packages\\graphlab\\toolkits\\recommender\\util.pyc\u001b[0m in \u001b[0;36mrecommend\u001b[1;34m(self, users, k, exclude, items, new_observation_data, new_user_data, new_item_data, exclude_known, diversity, random_seed, verbose)\u001b[0m\n\u001b[0;32m   1392\u001b[0m                \u001b[1;34m'random_seed'\u001b[0m \u001b[1;33m:\u001b[0m \u001b[0mrandom_seed\u001b[0m\u001b[1;33m\u001b[0m\u001b[0m\n\u001b[0;32m   1393\u001b[0m                }\n\u001b[1;32m-> 1394\u001b[1;33m         \u001b[0mresponse\u001b[0m \u001b[1;33m=\u001b[0m \u001b[0m_graphlab\u001b[0m\u001b[1;33m.\u001b[0m\u001b[0mtoolkits\u001b[0m\u001b[1;33m.\u001b[0m\u001b[0m_main\u001b[0m\u001b[1;33m.\u001b[0m\u001b[0mrun\u001b[0m\u001b[1;33m(\u001b[0m\u001b[1;34m'recsys_recommend'\u001b[0m\u001b[1;33m,\u001b[0m \u001b[0mopt\u001b[0m\u001b[1;33m,\u001b[0m \u001b[0mverbose\u001b[0m\u001b[1;33m=\u001b[0m\u001b[0mverbose\u001b[0m\u001b[1;33m)\u001b[0m\u001b[1;33m\u001b[0m\u001b[0m\n\u001b[0m\u001b[0;32m   1395\u001b[0m         \u001b[0mrecs\u001b[0m \u001b[1;33m=\u001b[0m \u001b[0m_SFrame\u001b[0m\u001b[1;33m(\u001b[0m\u001b[0mNone\u001b[0m\u001b[1;33m,\u001b[0m \u001b[0m_proxy\u001b[0m\u001b[1;33m=\u001b[0m\u001b[0mresponse\u001b[0m\u001b[1;33m[\u001b[0m\u001b[1;34m'data'\u001b[0m\u001b[1;33m]\u001b[0m\u001b[1;33m)\u001b[0m\u001b[1;33m\u001b[0m\u001b[0m\n\u001b[0;32m   1396\u001b[0m         \u001b[1;32mreturn\u001b[0m \u001b[0mrecs\u001b[0m\u001b[1;33m\u001b[0m\u001b[0m\n",
      "\u001b[1;32mC:\\Anaconda2\\envs\\dato-env\\lib\\site-packages\\graphlab\\toolkits\\_main.pyc\u001b[0m in \u001b[0;36mrun\u001b[1;34m(toolkit_name, options, verbose, show_progress)\u001b[0m\n\u001b[0;32m     87\u001b[0m         \u001b[0m_get_metric_tracker\u001b[0m\u001b[1;33m(\u001b[0m\u001b[1;33m)\u001b[0m\u001b[1;33m.\u001b[0m\u001b[0mtrack\u001b[0m\u001b[1;33m(\u001b[0m\u001b[0mmetric_name\u001b[0m\u001b[1;33m,\u001b[0m \u001b[0mvalue\u001b[0m\u001b[1;33m=\u001b[0m\u001b[1;36m1\u001b[0m\u001b[1;33m,\u001b[0m \u001b[0mproperties\u001b[0m\u001b[1;33m=\u001b[0m\u001b[0mtrack_props\u001b[0m\u001b[1;33m,\u001b[0m \u001b[0msend_sys_info\u001b[0m\u001b[1;33m=\u001b[0m\u001b[0mFalse\u001b[0m\u001b[1;33m)\u001b[0m\u001b[1;33m\u001b[0m\u001b[0m\n\u001b[0;32m     88\u001b[0m \u001b[1;33m\u001b[0m\u001b[0m\n\u001b[1;32m---> 89\u001b[1;33m         \u001b[1;32mraise\u001b[0m \u001b[0mToolkitError\u001b[0m\u001b[1;33m(\u001b[0m\u001b[0mstr\u001b[0m\u001b[1;33m(\u001b[0m\u001b[0mmessage\u001b[0m\u001b[1;33m)\u001b[0m\u001b[1;33m)\u001b[0m\u001b[1;33m\u001b[0m\u001b[0m\n\u001b[0m",
      "\u001b[1;31mToolkitError\u001b[0m: Query data for recommend(...) cannot contain an item column."
     ]
    }
   ],
   "source": [
    "personalized_model.recommend(users=[test_data[1]])"
   ]
  },
  {
   "cell_type": "code",
   "execution_count": 56,
   "metadata": {
    "collapsed": false
   },
   "outputs": [
    {
     "ename": "NameError",
     "evalue": "name 'user' is not defined",
     "output_type": "error",
     "traceback": [
      "\u001b[1;31m---------------------------------------------------------------------------\u001b[0m",
      "\u001b[1;31mNameError\u001b[0m                                 Traceback (most recent call last)",
      "\u001b[1;32m<ipython-input-56-7fad40530c14>\u001b[0m in \u001b[0;36m<module>\u001b[1;34m()\u001b[0m\n\u001b[1;32m----> 1\u001b[1;33m \u001b[0muser\u001b[0m\u001b[1;33m[\u001b[0m\u001b[1;36m1\u001b[0m\u001b[1;33m]\u001b[0m\u001b[1;33m\u001b[0m\u001b[0m\n\u001b[0m",
      "\u001b[1;31mNameError\u001b[0m: name 'user' is not defined"
     ]
    }
   ],
   "source": [
    "user[1]"
   ]
  },
  {
   "cell_type": "code",
   "execution_count": 57,
   "metadata": {
    "collapsed": false
   },
   "outputs": [
    {
     "data": {
      "text/plain": [
       "'279292bb36dbfc7f505e36ebf038c81eb1d1d63e'"
      ]
     },
     "execution_count": 57,
     "metadata": {},
     "output_type": "execute_result"
    }
   ],
   "source": [
    "users[1]"
   ]
  },
  {
   "cell_type": "code",
   "execution_count": 59,
   "metadata": {
    "collapsed": false,
    "scrolled": true
   },
   "outputs": [
    {
     "data": {
      "text/plain": [
       "dtype: str\n",
       "Rows: 1000\n",
       "['c66c10a9567f0d82ff31441a9fd5063e5cd9dfe8', '279292bb36dbfc7f505e36ebf038c81eb1d1d63e', 'c067c22072a17d33310d7223d7b79f819e48cf42', 'f6c596a519698c97f1591ad89f540d76f6a04f1a', '696787172dd3f5169dc94deef97e427cee86147d', '3a7111f4cdf3c5a85fd4053e3cc2333562e1e0cb', '31f6fd9d9936adb9f7d0f157fd960c0a676ccfd6', '532e98155cbfd1e1a474a28ed96e59e50f7c5baf', 'ee43b175ed753b2e2bce806c903d4661ad351a91', 'e372c27f6cb071518ae500589ae02c126954c148', '83b1428917b47a6b130ed471b09033820be78a8c', '9b10c5b0569c679d9d7e258c37c0acb99cbbce02', '39487deef9345b1e22881245cabf4e7c53b6cf6e', '88325c1fc54d4227b223a7ca7c68c2bdc39df54b', '18325842a941bc58449ee71d659a08d1c1bd2383', '3f2a5636078d12dab36f61f92efc1fc62f72f815', '75864fe1e1674afe546612ecfd2217f062610a79', 'b472a8e0407792249a28e8a24f0f82e6cc860822', 'b2b08a84654f90585e0dc3c5155d330fb8e4ba59', 'ca60f0fa15783aac3827a9edb2e1b51ef3a4fe19', '507433946f534f5d25ad1be302edb9a2376f503c', '2e9cbd200d67910aeb97b36efe9cd4341cc06030', '647811338b3bed47a2a374e7d0dedb5f799188a3', '8b6cd3340224d31ffab18ba2731feebb9df73043', '18fafad477f9d72ff86f7d0bd838a6573de0f64a', 'fe85b96ba1983219b296f6b4869dd29eb2b72ff9', '046311081a8703bdee3be2e6d9da07ccdc135340', 'cc3ca967889ae3343e1325aef7c322bd8a830865', '225ea420b4bede50919d1bfe24a599691522d176', '95dc7e2b188b1148b2d25f4e6b6e94afacc4efc3', '8d14fcfb9d84cc6f696ca533fd97d8ade9f150dc', '2a806a33a9b8394ea22a14a06eafeb4b0aef0af3', '4a3a1ae2748f12f7ab921a47d6d79abf82e3e325', 'a2c1a593432f5e19a9174eb1b3b57e02d3212eb6', 'f9958d5c8e88f53bbbf6a5b82d3062b369497f64', 'c6a3854bd30fe15382815ca2c9196a1e15d01a39', 'c6d5086d22ba5a9c205877770f29bf97e3a5993b', '9bd4c3ace8717adbd277541d979af6acf6de54f6', '62c4bf887b7b1e5cf6ab62723481099c7f98377e', '0285d30c0892a0bd6169e018203da1e2c4365f21', '9fd403cf953d4bc8f77980f2bd9dbb174a567d15', 'e6a3b65d0f0d2d5f4b7b8d06a6a1bf7a2e844eb9', 'b7b5408ba99a68a4d8d9df6007e8516a8fabb43f', '92337c69d4ff1c13f5c9ad4e9c62a0654be9d230', 'e8813fe73c90d69b4f744251c68fce896ec2aede', '5eb761c242ec9d014a4c3f79d1496c342b2bf4f6', '36ba692bb04359e9cd3efff4cd3dfd12b6204883', '1c4735ef0f9e2b95524f8c92a70be8b355eeb651', '8eadbac97d6679515b8fe858d4d210a5249a224f', '9f6166dfd0e587b408c30aeb3cf694240262eaae', '23c026e0dd4526a2fd3533281f12520144da5a46', 'a42fdb32bf733517fb5be88ad6fd428cb0e68a4c', 'ccc4a6404ec1d4d7ab3add04eeacf79e4ef655de', '486fc2c57f6a4213bee54f9323a6668a7a306cc3', '40eb78cc05195299242ceb72873377a6cc37b721', '66515166dc465cb51af511db9f6e708095af31a6', '88b7f1ddc21c9f83e92e3a3f28650b44ab28ac98', 'a57f4ce047f84f3ffa21a0119cc8b7de548ac79a', '11e266d0d2d7a841bd1a2604b14cc05f4bcecd8e', '557af535722c4e6edab88151c354381d85dcf8bd', '5827384be24edd3bd6b981eb1f40950e1d985d02', '332c6355122179f10786c61fff699057b36a15c0', '98643f2e574f6d3e407c5f25bf5029916910fdd0', '2955374e2e24cd324c3fc41ecad4512640ebcac0', '4886fb3ba039dc4b6d0c6019276c000f7908b709', 'a3744fdc055bff8cc27ab95acfc1c0f39f89ba61', 'e1deb0afe4e908da20e96879a39601e28760d62f', 'b0983659c8a8b193166871fcc4a26d46b2b50ba3', '82c458f2e9bc30f87890b408e5b965114989edf4', '79f8ebdfb8ee78bef9b43251582dd329f0301e7a', '632af0475de5f2d90838520df96e4b681a383114', '7e7a4eede58db53c0b4837b5b302843d845259e8', '91ab14dcd7173ff5df8c38f2584477180b92135d', '0bfa607c9dcf72df25ccc748e147c42d203c6a89', '181d9c254ff957a396b8bbcec10228f84cfa5c2c', 'a58941e09a29f9f540e8af82386f08b09b6ebc05', '53ae48ebbe6e1fb426cd1f3e5be4e343e76abf51', '651d28cb6ce2a60c14faf8e510e94016cc54499d', 'a812535294328122910d15e4dbe7084140266938', 'c46038495c5f7fe43b12c3cea012517998fd78a0', '751774a078c559b9abf6aceaec9062c4213a92ac', 'a2498682dfb521861f0956256feaa338069cf303', 'f9c56a1a222ce6ce59021718916cce519d70d5b4', '37b97745b5649ca367aab9e4999528b470ecc692', '09790d63be53c025db51c39423ec6ad844b81f1f', '0a8befc6cf4978022588f13c379786101dfc67cd', 'd6dbb0578fe5baf513cad07fbf07801f89fd9313', 'e7e734371172b30fa331332c59984c7334b6a025', '7563909660feac4f23500550c6a813eab952d4c2', '99d724639a1e51f53770236f24c87e2ca9126ec6', '64d4b02087e9433c4a82aeba087cd8967453afa1', '3a67a46baabdc2f9bc2cd99370d8ae577068dca1', '9db1d7471ee3e8c1de53995435fd663a46ef9725', 'd95df4df9d6f25e76f13556ce6cf5b50f979c76c', '2e35cbc9c99533fd2757483f46329b41b0d646dc', '58fcc1ee8eb4bff5a9bedff6e7510f0167367c1a', '77d0df4368fe8fa3873ba387ca02a36da9c14299', 'cc1c5e821a36a788f9fab1834746a96089f7e972', 'bfe25236e58ac7915762fdcee75cfe8f72b062ac', '8ee5a2fbe1fea60a7148e0b50ac7fb4d87a81119', ... ]"
      ]
     },
     "execution_count": 59,
     "metadata": {},
     "output_type": "execute_result"
    }
   ],
   "source": [
    "users[:1000]"
   ]
  },
  {
   "cell_type": "code",
   "execution_count": 60,
   "metadata": {
    "collapsed": false
   },
   "outputs": [
    {
     "data": {
      "text/plain": [
       "{'artist': 'The Lonely Island',\n",
       " 'listen_count': 1L,\n",
       " 'song': 'The Old Saloon - The Lonely Island',\n",
       " 'song_id': 'SOLLGNU12AF72A4D4F',\n",
       " 'title': 'The Old Saloon',\n",
       " 'user_id': 'b80344d063b5ccb3212f76538f3d9e43d87dca9e'}"
      ]
     },
     "execution_count": 60,
     "metadata": {},
     "output_type": "execute_result"
    }
   ],
   "source": [
    "test_data[1]"
   ]
  },
  {
   "cell_type": "code",
   "execution_count": 61,
   "metadata": {
    "collapsed": true
   },
   "outputs": [],
   "source": [
    "test_user = test_data['user_id'].unique()"
   ]
  },
  {
   "cell_type": "code",
   "execution_count": 72,
   "metadata": {
    "collapsed": false
   },
   "outputs": [
    {
     "ename": "IndexError",
     "evalue": "Invalid type to use for indexing",
     "output_type": "error",
     "traceback": [
      "\u001b[1;31m---------------------------------------------------------------------------\u001b[0m",
      "\u001b[1;31mIndexError\u001b[0m                                Traceback (most recent call last)",
      "\u001b[1;32m<ipython-input-72-5c96afe96447>\u001b[0m in \u001b[0;36m<module>\u001b[1;34m()\u001b[0m\n\u001b[1;32m----> 1\u001b[1;33m \u001b[0mpersonalized_model\u001b[0m\u001b[1;33m.\u001b[0m\u001b[0mrecommend\u001b[0m\u001b[1;33m(\u001b[0m\u001b[0musers\u001b[0m\u001b[1;33m=\u001b[0m\u001b[1;33m[\u001b[0m\u001b[0musers\u001b[0m\u001b[1;33m[\u001b[0m\u001b[1;34m'user_id'\u001b[0m\u001b[1;33m]\u001b[0m\u001b[1;33m]\u001b[0m\u001b[1;33m,\u001b[0m \u001b[0mk\u001b[0m \u001b[1;33m=\u001b[0m \u001b[1;36m1\u001b[0m\u001b[1;33m)\u001b[0m\u001b[1;33m\u001b[0m\u001b[0m\n\u001b[0m",
      "\u001b[1;32mC:\\Anaconda2\\envs\\dato-env\\lib\\site-packages\\graphlab\\data_structures\\sarray.pyc\u001b[0m in \u001b[0;36m__getitem__\u001b[1;34m(self, other)\u001b[0m\n\u001b[0;32m   1078\u001b[0m             \u001b[1;32mreturn\u001b[0m \u001b[0mSArray\u001b[0m\u001b[1;33m(\u001b[0m\u001b[0m_proxy\u001b[0m \u001b[1;33m=\u001b[0m \u001b[0mself\u001b[0m\u001b[1;33m.\u001b[0m\u001b[0m__proxy__\u001b[0m\u001b[1;33m.\u001b[0m\u001b[0mcopy_range\u001b[0m\u001b[1;33m(\u001b[0m\u001b[0mstart\u001b[0m\u001b[1;33m,\u001b[0m \u001b[0mstep\u001b[0m\u001b[1;33m,\u001b[0m \u001b[0mstop\u001b[0m\u001b[1;33m)\u001b[0m\u001b[1;33m)\u001b[0m\u001b[1;33m\u001b[0m\u001b[0m\n\u001b[0;32m   1079\u001b[0m         \u001b[1;32melse\u001b[0m\u001b[1;33m:\u001b[0m\u001b[1;33m\u001b[0m\u001b[0m\n\u001b[1;32m-> 1080\u001b[1;33m             \u001b[1;32mraise\u001b[0m \u001b[0mIndexError\u001b[0m\u001b[1;33m(\u001b[0m\u001b[1;34m\"Invalid type to use for indexing\"\u001b[0m\u001b[1;33m)\u001b[0m\u001b[1;33m\u001b[0m\u001b[0m\n\u001b[0m\u001b[0;32m   1081\u001b[0m \u001b[1;33m\u001b[0m\u001b[0m\n\u001b[0;32m   1082\u001b[0m     \u001b[1;32mdef\u001b[0m \u001b[0m__materialize__\u001b[0m\u001b[1;33m(\u001b[0m\u001b[0mself\u001b[0m\u001b[1;33m)\u001b[0m\u001b[1;33m:\u001b[0m\u001b[1;33m\u001b[0m\u001b[0m\n",
      "\u001b[1;31mIndexError\u001b[0m: Invalid type to use for indexing"
     ]
    }
   ],
   "source": [
    "personalized_model.recommend(users=[users['user_id']], k = 1)"
   ]
  },
  {
   "cell_type": "code",
   "execution_count": 74,
   "metadata": {
    "collapsed": false
   },
   "outputs": [
    {
     "ename": "TypeError",
     "evalue": "Parameter users must be of type(s) SArray, list, SFrame, numpy.ndarray; Type '<type 'str'>' not recognized.",
     "output_type": "error",
     "traceback": [
      "\u001b[1;31m---------------------------------------------------------------------------\u001b[0m",
      "\u001b[1;31mTypeError\u001b[0m                                 Traceback (most recent call last)",
      "\u001b[1;32m<ipython-input-74-c703a57938ca>\u001b[0m in \u001b[0;36m<module>\u001b[1;34m()\u001b[0m\n\u001b[1;32m----> 1\u001b[1;33m \u001b[0mpersonalized_model\u001b[0m\u001b[1;33m.\u001b[0m\u001b[0mrecommend\u001b[0m\u001b[1;33m(\u001b[0m\u001b[0musers\u001b[0m\u001b[1;33m=\u001b[0m\u001b[0mtest_data\u001b[0m\u001b[1;33m[\u001b[0m\u001b[1;34m'user_id'\u001b[0m\u001b[1;33m]\u001b[0m\u001b[1;33m[\u001b[0m\u001b[1;36m1\u001b[0m\u001b[1;33m]\u001b[0m\u001b[1;33m,\u001b[0m \u001b[0mk\u001b[0m \u001b[1;33m=\u001b[0m \u001b[1;36m1\u001b[0m\u001b[1;33m)\u001b[0m\u001b[1;33m\u001b[0m\u001b[0m\n\u001b[0m",
      "\u001b[1;32mC:\\Anaconda2\\envs\\dato-env\\lib\\site-packages\\graphlab\\toolkits\\recommender\\util.pyc\u001b[0m in \u001b[0;36mrecommend\u001b[1;34m(self, users, k, exclude, items, new_observation_data, new_user_data, new_item_data, exclude_known, diversity, random_seed, verbose)\u001b[0m\n\u001b[0;32m   1357\u001b[0m                                 + \"; Type '\" + str(type(arg)) + \"' not recognized.\")\n\u001b[0;32m   1358\u001b[0m \u001b[1;33m\u001b[0m\u001b[0m\n\u001b[1;32m-> 1359\u001b[1;33m         \u001b[0mcheck_type\u001b[0m\u001b[1;33m(\u001b[0m\u001b[0musers\u001b[0m\u001b[1;33m,\u001b[0m \u001b[1;34m\"users\"\u001b[0m\u001b[1;33m,\u001b[0m \u001b[0m_SFrame\u001b[0m\u001b[1;33m,\u001b[0m \u001b[1;33m[\u001b[0m\u001b[1;34m\"SArray\"\u001b[0m\u001b[1;33m,\u001b[0m \u001b[1;34m\"list\"\u001b[0m\u001b[1;33m,\u001b[0m \u001b[1;34m\"SFrame\"\u001b[0m\u001b[1;33m,\u001b[0m \u001b[1;34m\"numpy.ndarray\"\u001b[0m\u001b[1;33m]\u001b[0m\u001b[1;33m)\u001b[0m\u001b[1;33m\u001b[0m\u001b[0m\n\u001b[0m\u001b[0;32m   1360\u001b[0m         \u001b[0mcheck_type\u001b[0m\u001b[1;33m(\u001b[0m\u001b[0mexclude\u001b[0m\u001b[1;33m,\u001b[0m \u001b[1;34m\"exclude\"\u001b[0m\u001b[1;33m,\u001b[0m \u001b[0m_SFrame\u001b[0m\u001b[1;33m,\u001b[0m \u001b[1;33m[\u001b[0m\u001b[1;34m\"SFrame\"\u001b[0m\u001b[1;33m]\u001b[0m\u001b[1;33m)\u001b[0m\u001b[1;33m\u001b[0m\u001b[0m\n\u001b[0;32m   1361\u001b[0m         \u001b[0mcheck_type\u001b[0m\u001b[1;33m(\u001b[0m\u001b[0mitems\u001b[0m\u001b[1;33m,\u001b[0m \u001b[1;34m\"items\"\u001b[0m\u001b[1;33m,\u001b[0m \u001b[0m_SFrame\u001b[0m\u001b[1;33m,\u001b[0m \u001b[1;33m[\u001b[0m\u001b[1;34m\"SFrame\"\u001b[0m\u001b[1;33m,\u001b[0m \u001b[1;34m\"SArray\"\u001b[0m\u001b[1;33m,\u001b[0m \u001b[1;34m\"list\"\u001b[0m\u001b[1;33m,\u001b[0m \u001b[1;34m\"numpy.ndarray\"\u001b[0m\u001b[1;33m]\u001b[0m\u001b[1;33m)\u001b[0m\u001b[1;33m\u001b[0m\u001b[0m\n",
      "\u001b[1;32mC:\\Anaconda2\\envs\\dato-env\\lib\\site-packages\\graphlab\\toolkits\\recommender\\util.pyc\u001b[0m in \u001b[0;36mcheck_type\u001b[1;34m(arg, arg_name, required_type, allowed_types)\u001b[0m\n\u001b[0;32m   1355\u001b[0m                 raise TypeError(\"Parameter \" + arg_name + \" must be of type(s) \"\n\u001b[0;32m   1356\u001b[0m                                 \u001b[1;33m+\u001b[0m \u001b[1;33m(\u001b[0m\u001b[1;34m\", \"\u001b[0m\u001b[1;33m.\u001b[0m\u001b[0mjoin\u001b[0m\u001b[1;33m(\u001b[0m\u001b[0mallowed_types\u001b[0m\u001b[1;33m)\u001b[0m\u001b[1;33m)\u001b[0m\u001b[1;33m\u001b[0m\u001b[0m\n\u001b[1;32m-> 1357\u001b[1;33m                                 + \"; Type '\" + str(type(arg)) + \"' not recognized.\")\n\u001b[0m\u001b[0;32m   1358\u001b[0m \u001b[1;33m\u001b[0m\u001b[0m\n\u001b[0;32m   1359\u001b[0m         \u001b[0mcheck_type\u001b[0m\u001b[1;33m(\u001b[0m\u001b[0musers\u001b[0m\u001b[1;33m,\u001b[0m \u001b[1;34m\"users\"\u001b[0m\u001b[1;33m,\u001b[0m \u001b[0m_SFrame\u001b[0m\u001b[1;33m,\u001b[0m \u001b[1;33m[\u001b[0m\u001b[1;34m\"SArray\"\u001b[0m\u001b[1;33m,\u001b[0m \u001b[1;34m\"list\"\u001b[0m\u001b[1;33m,\u001b[0m \u001b[1;34m\"SFrame\"\u001b[0m\u001b[1;33m,\u001b[0m \u001b[1;34m\"numpy.ndarray\"\u001b[0m\u001b[1;33m]\u001b[0m\u001b[1;33m)\u001b[0m\u001b[1;33m\u001b[0m\u001b[0m\n",
      "\u001b[1;31mTypeError\u001b[0m: Parameter users must be of type(s) SArray, list, SFrame, numpy.ndarray; Type '<type 'str'>' not recognized."
     ]
    }
   ],
   "source": [
    " personalized_model.recommend(users=test_data['user_id'][1], k = 1)"
   ]
  },
  {
   "cell_type": "code",
   "execution_count": 69,
   "metadata": {
    "collapsed": false
   },
   "outputs": [
    {
     "data": {
      "text/html": [
       "<div style=\"max-height:1000px;max-width:1500px;overflow:auto;\"><table frame=\"box\" rules=\"cols\">\n",
       "    <tr>\n",
       "        <th style=\"padding-left: 1em; padding-right: 1em; text-align: center\">user_id</th>\n",
       "        <th style=\"padding-left: 1em; padding-right: 1em; text-align: center\">song_id</th>\n",
       "        <th style=\"padding-left: 1em; padding-right: 1em; text-align: center\">listen_count</th>\n",
       "        <th style=\"padding-left: 1em; padding-right: 1em; text-align: center\">title</th>\n",
       "        <th style=\"padding-left: 1em; padding-right: 1em; text-align: center\">artist</th>\n",
       "    </tr>\n",
       "    <tr>\n",
       "        <td style=\"padding-left: 1em; padding-right: 1em; text-align: center; vertical-align: top\">b80344d063b5ccb3212f76538<br>f3d9e43d87dca9e ...</td>\n",
       "        <td style=\"padding-left: 1em; padding-right: 1em; text-align: center; vertical-align: top\">SOJNNUA12A8AE48C7A</td>\n",
       "        <td style=\"padding-left: 1em; padding-right: 1em; text-align: center; vertical-align: top\">1</td>\n",
       "        <td style=\"padding-left: 1em; padding-right: 1em; text-align: center; vertical-align: top\">Love Shack</td>\n",
       "        <td style=\"padding-left: 1em; padding-right: 1em; text-align: center; vertical-align: top\">The B-52's</td>\n",
       "    </tr>\n",
       "    <tr>\n",
       "        <td style=\"padding-left: 1em; padding-right: 1em; text-align: center; vertical-align: top\">b80344d063b5ccb3212f76538<br>f3d9e43d87dca9e ...</td>\n",
       "        <td style=\"padding-left: 1em; padding-right: 1em; text-align: center; vertical-align: top\">SOLLGNU12AF72A4D4F</td>\n",
       "        <td style=\"padding-left: 1em; padding-right: 1em; text-align: center; vertical-align: top\">1</td>\n",
       "        <td style=\"padding-left: 1em; padding-right: 1em; text-align: center; vertical-align: top\">The Old Saloon</td>\n",
       "        <td style=\"padding-left: 1em; padding-right: 1em; text-align: center; vertical-align: top\">The Lonely Island</td>\n",
       "    </tr>\n",
       "    <tr>\n",
       "        <td style=\"padding-left: 1em; padding-right: 1em; text-align: center; vertical-align: top\">b80344d063b5ccb3212f76538<br>f3d9e43d87dca9e ...</td>\n",
       "        <td style=\"padding-left: 1em; padding-right: 1em; text-align: center; vertical-align: top\">SORPMYJ12AF729EB90</td>\n",
       "        <td style=\"padding-left: 1em; padding-right: 1em; text-align: center; vertical-align: top\">1</td>\n",
       "        <td style=\"padding-left: 1em; padding-right: 1em; text-align: center; vertical-align: top\">Warning</td>\n",
       "        <td style=\"padding-left: 1em; padding-right: 1em; text-align: center; vertical-align: top\">Incubus</td>\n",
       "    </tr>\n",
       "    <tr>\n",
       "        <td style=\"padding-left: 1em; padding-right: 1em; text-align: center; vertical-align: top\">b80344d063b5ccb3212f76538<br>f3d9e43d87dca9e ...</td>\n",
       "        <td style=\"padding-left: 1em; padding-right: 1em; text-align: center; vertical-align: top\">SOSYBEV12AB0182933</td>\n",
       "        <td style=\"padding-left: 1em; padding-right: 1em; text-align: center; vertical-align: top\">1</td>\n",
       "        <td style=\"padding-left: 1em; padding-right: 1em; text-align: center; vertical-align: top\">All That We Perceive</td>\n",
       "        <td style=\"padding-left: 1em; padding-right: 1em; text-align: center; vertical-align: top\">Thievery Corporation</td>\n",
       "    </tr>\n",
       "    <tr>\n",
       "        <td style=\"padding-left: 1em; padding-right: 1em; text-align: center; vertical-align: top\">b80344d063b5ccb3212f76538<br>f3d9e43d87dca9e ...</td>\n",
       "        <td style=\"padding-left: 1em; padding-right: 1em; text-align: center; vertical-align: top\">SOTRSFZ12A8C142BF6</td>\n",
       "        <td style=\"padding-left: 1em; padding-right: 1em; text-align: center; vertical-align: top\">1</td>\n",
       "        <td style=\"padding-left: 1em; padding-right: 1em; text-align: center; vertical-align: top\">Are You In?</td>\n",
       "        <td style=\"padding-left: 1em; padding-right: 1em; text-align: center; vertical-align: top\">Incubus</td>\n",
       "    </tr>\n",
       "    <tr>\n",
       "        <td style=\"padding-left: 1em; padding-right: 1em; text-align: center; vertical-align: top\">b80344d063b5ccb3212f76538<br>f3d9e43d87dca9e ...</td>\n",
       "        <td style=\"padding-left: 1em; padding-right: 1em; text-align: center; vertical-align: top\">SOWSPUS12AC468BEE3</td>\n",
       "        <td style=\"padding-left: 1em; padding-right: 1em; text-align: center; vertical-align: top\">1</td>\n",
       "        <td style=\"padding-left: 1em; padding-right: 1em; text-align: center; vertical-align: top\">Bigger Isn't Better</td>\n",
       "        <td style=\"padding-left: 1em; padding-right: 1em; text-align: center; vertical-align: top\">The String Cheese<br>Incident ...</td>\n",
       "    </tr>\n",
       "    <tr>\n",
       "        <td style=\"padding-left: 1em; padding-right: 1em; text-align: center; vertical-align: top\">b80344d063b5ccb3212f76538<br>f3d9e43d87dca9e ...</td>\n",
       "        <td style=\"padding-left: 1em; padding-right: 1em; text-align: center; vertical-align: top\">SOXRXDG12A8C131DE5</td>\n",
       "        <td style=\"padding-left: 1em; padding-right: 1em; text-align: center; vertical-align: top\">1</td>\n",
       "        <td style=\"padding-left: 1em; padding-right: 1em; text-align: center; vertical-align: top\">City Love</td>\n",
       "        <td style=\"padding-left: 1em; padding-right: 1em; text-align: center; vertical-align: top\">John Mayer</td>\n",
       "    </tr>\n",
       "    <tr>\n",
       "        <td style=\"padding-left: 1em; padding-right: 1em; text-align: center; vertical-align: top\">969cc6fb74e076a68e36a0440<br>9cb9d3765757508 ...</td>\n",
       "        <td style=\"padding-left: 1em; padding-right: 1em; text-align: center; vertical-align: top\">SOABRAB12A6D4F7AAF</td>\n",
       "        <td style=\"padding-left: 1em; padding-right: 1em; text-align: center; vertical-align: top\">2</td>\n",
       "        <td style=\"padding-left: 1em; padding-right: 1em; text-align: center; vertical-align: top\">A Pain That I\u0019m Used To</td>\n",
       "        <td style=\"padding-left: 1em; padding-right: 1em; text-align: center; vertical-align: top\">Depeche Mode</td>\n",
       "    </tr>\n",
       "    <tr>\n",
       "        <td style=\"padding-left: 1em; padding-right: 1em; text-align: center; vertical-align: top\">969cc6fb74e076a68e36a0440<br>9cb9d3765757508 ...</td>\n",
       "        <td style=\"padding-left: 1em; padding-right: 1em; text-align: center; vertical-align: top\">SOERVXG12A6D4F5583</td>\n",
       "        <td style=\"padding-left: 1em; padding-right: 1em; text-align: center; vertical-align: top\">1</td>\n",
       "        <td style=\"padding-left: 1em; padding-right: 1em; text-align: center; vertical-align: top\">Besame Mucho</td>\n",
       "        <td style=\"padding-left: 1em; padding-right: 1em; text-align: center; vertical-align: top\">Andrea Bocelli</td>\n",
       "    </tr>\n",
       "    <tr>\n",
       "        <td style=\"padding-left: 1em; padding-right: 1em; text-align: center; vertical-align: top\">969cc6fb74e076a68e36a0440<br>9cb9d3765757508 ...</td>\n",
       "        <td style=\"padding-left: 1em; padding-right: 1em; text-align: center; vertical-align: top\">SOUFPNI12A8C142D19</td>\n",
       "        <td style=\"padding-left: 1em; padding-right: 1em; text-align: center; vertical-align: top\">1</td>\n",
       "        <td style=\"padding-left: 1em; padding-right: 1em; text-align: center; vertical-align: top\">Heartbreak Warfare</td>\n",
       "        <td style=\"padding-left: 1em; padding-right: 1em; text-align: center; vertical-align: top\">John Mayer</td>\n",
       "    </tr>\n",
       "</table>\n",
       "<table frame=\"box\" rules=\"cols\">\n",
       "    <tr>\n",
       "        <th style=\"padding-left: 1em; padding-right: 1em; text-align: center\">song</th>\n",
       "    </tr>\n",
       "    <tr>\n",
       "        <td style=\"padding-left: 1em; padding-right: 1em; text-align: center; vertical-align: top\">Love Shack - The B-52's</td>\n",
       "    </tr>\n",
       "    <tr>\n",
       "        <td style=\"padding-left: 1em; padding-right: 1em; text-align: center; vertical-align: top\">The Old Saloon - The<br>Lonely Island ...</td>\n",
       "    </tr>\n",
       "    <tr>\n",
       "        <td style=\"padding-left: 1em; padding-right: 1em; text-align: center; vertical-align: top\">Warning - Incubus</td>\n",
       "    </tr>\n",
       "    <tr>\n",
       "        <td style=\"padding-left: 1em; padding-right: 1em; text-align: center; vertical-align: top\">All That We Perceive -<br>Thievery Corporation ...</td>\n",
       "    </tr>\n",
       "    <tr>\n",
       "        <td style=\"padding-left: 1em; padding-right: 1em; text-align: center; vertical-align: top\">Are You In? - Incubus</td>\n",
       "    </tr>\n",
       "    <tr>\n",
       "        <td style=\"padding-left: 1em; padding-right: 1em; text-align: center; vertical-align: top\">Bigger Isn't Better - The<br>String Cheese Incident ...</td>\n",
       "    </tr>\n",
       "    <tr>\n",
       "        <td style=\"padding-left: 1em; padding-right: 1em; text-align: center; vertical-align: top\">City Love - John Mayer</td>\n",
       "    </tr>\n",
       "    <tr>\n",
       "        <td style=\"padding-left: 1em; padding-right: 1em; text-align: center; vertical-align: top\">A Pain That I\u0019m Used To -<br>Depeche Mode ...</td>\n",
       "    </tr>\n",
       "    <tr>\n",
       "        <td style=\"padding-left: 1em; padding-right: 1em; text-align: center; vertical-align: top\">Besame Mucho - Andrea<br>Bocelli ...</td>\n",
       "    </tr>\n",
       "    <tr>\n",
       "        <td style=\"padding-left: 1em; padding-right: 1em; text-align: center; vertical-align: top\">Heartbreak Warfare - John<br>Mayer ...</td>\n",
       "    </tr>\n",
       "</table>\n",
       "[10 rows x 6 columns]<br/>\n",
       "</div>"
      ],
      "text/plain": [
       "Columns:\n",
       "\tuser_id\tstr\n",
       "\tsong_id\tstr\n",
       "\tlisten_count\tint\n",
       "\ttitle\tstr\n",
       "\tartist\tstr\n",
       "\tsong\tstr\n",
       "\n",
       "Rows: 10\n",
       "\n",
       "Data:\n",
       "+-------------------------------+--------------------+--------------+\n",
       "|            user_id            |      song_id       | listen_count |\n",
       "+-------------------------------+--------------------+--------------+\n",
       "| b80344d063b5ccb3212f76538f... | SOJNNUA12A8AE48C7A |      1       |\n",
       "| b80344d063b5ccb3212f76538f... | SOLLGNU12AF72A4D4F |      1       |\n",
       "| b80344d063b5ccb3212f76538f... | SORPMYJ12AF729EB90 |      1       |\n",
       "| b80344d063b5ccb3212f76538f... | SOSYBEV12AB0182933 |      1       |\n",
       "| b80344d063b5ccb3212f76538f... | SOTRSFZ12A8C142BF6 |      1       |\n",
       "| b80344d063b5ccb3212f76538f... | SOWSPUS12AC468BEE3 |      1       |\n",
       "| b80344d063b5ccb3212f76538f... | SOXRXDG12A8C131DE5 |      1       |\n",
       "| 969cc6fb74e076a68e36a04409... | SOABRAB12A6D4F7AAF |      2       |\n",
       "| 969cc6fb74e076a68e36a04409... | SOERVXG12A6D4F5583 |      1       |\n",
       "| 969cc6fb74e076a68e36a04409... | SOUFPNI12A8C142D19 |      1       |\n",
       "+-------------------------------+--------------------+--------------+\n",
       "+-------------------------+----------------------------+\n",
       "|          title          |           artist           |\n",
       "+-------------------------+----------------------------+\n",
       "|        Love Shack       |         The B-52's         |\n",
       "|      The Old Saloon     |     The Lonely Island      |\n",
       "|         Warning         |          Incubus           |\n",
       "|   All That We Perceive  |    Thievery Corporation    |\n",
       "|       Are You In?       |          Incubus           |\n",
       "|   Bigger Isn't Better   | The String Cheese Incident |\n",
       "|        City Love        |         John Mayer         |\n",
       "| A Pain That I\u0019m Used To |        Depeche Mode        |\n",
       "|       Besame Mucho      |       Andrea Bocelli       |\n",
       "|    Heartbreak Warfare   |         John Mayer         |\n",
       "+-------------------------+----------------------------+\n",
       "+-------------------------------+\n",
       "|              song             |\n",
       "+-------------------------------+\n",
       "|    Love Shack - The B-52's    |\n",
       "| The Old Saloon - The Lonel... |\n",
       "|       Warning - Incubus       |\n",
       "| All That We Perceive - Thi... |\n",
       "|     Are You In? - Incubus     |\n",
       "| Bigger Isn't Better - The ... |\n",
       "|     City Love - John Mayer    |\n",
       "| A Pain That I\u0019m Used To - ... |\n",
       "| Besame Mucho - Andrea Bocelli |\n",
       "| Heartbreak Warfare - John ... |\n",
       "+-------------------------------+\n",
       "[10 rows x 6 columns]"
      ]
     },
     "execution_count": 69,
     "metadata": {},
     "output_type": "execute_result"
    }
   ],
   "source": [
    "test_data.head()"
   ]
  },
  {
   "cell_type": "code",
   "execution_count": 75,
   "metadata": {
    "collapsed": false
   },
   "outputs": [
    {
     "data": {
      "text/html": [
       "<div style=\"max-height:1000px;max-width:1500px;overflow:auto;\"><table frame=\"box\" rules=\"cols\">\n",
       "    <tr>\n",
       "        <th style=\"padding-left: 1em; padding-right: 1em; text-align: center\">user_id</th>\n",
       "        <th style=\"padding-left: 1em; padding-right: 1em; text-align: center\">song</th>\n",
       "        <th style=\"padding-left: 1em; padding-right: 1em; text-align: center\">score</th>\n",
       "        <th style=\"padding-left: 1em; padding-right: 1em; text-align: center\">rank</th>\n",
       "    </tr>\n",
       "    <tr>\n",
       "        <td style=\"padding-left: 1em; padding-right: 1em; text-align: center; vertical-align: top\">279292bb36dbfc7f505e36ebf<br>038c81eb1d1d63e ...</td>\n",
       "        <td style=\"padding-left: 1em; padding-right: 1em; text-align: center; vertical-align: top\">Riot In Cell Block Number<br>Nine - Dr Feelgood ...</td>\n",
       "        <td style=\"padding-left: 1em; padding-right: 1em; text-align: center; vertical-align: top\">0.0375</td>\n",
       "        <td style=\"padding-left: 1em; padding-right: 1em; text-align: center; vertical-align: top\">1</td>\n",
       "    </tr>\n",
       "</table>\n",
       "[1 rows x 4 columns]<br/>\n",
       "</div>"
      ],
      "text/plain": [
       "Columns:\n",
       "\tuser_id\tstr\n",
       "\tsong\tstr\n",
       "\tscore\tfloat\n",
       "\trank\tint\n",
       "\n",
       "Rows: 1\n",
       "\n",
       "Data:\n",
       "+-------------------------------+-------------------------------+--------+------+\n",
       "|            user_id            |              song             | score  | rank |\n",
       "+-------------------------------+-------------------------------+--------+------+\n",
       "| 279292bb36dbfc7f505e36ebf0... | Riot In Cell Block Number ... | 0.0375 |  1   |\n",
       "+-------------------------------+-------------------------------+--------+------+\n",
       "[1 rows x 4 columns]"
      ]
     },
     "execution_count": 75,
     "metadata": {},
     "output_type": "execute_result"
    }
   ],
   "source": [
    "personalized_model.recommend(users=[users[1]], k = 1)"
   ]
  },
  {
   "cell_type": "code",
   "execution_count": 81,
   "metadata": {
    "collapsed": false
   },
   "outputs": [
    {
     "data": {
      "text/plain": [
       "dtype: str\n",
       "Rows: 1\n",
       "['Riot In Cell Block Number Nine - Dr Feelgood']"
      ]
     },
     "execution_count": 81,
     "metadata": {},
     "output_type": "execute_result"
    }
   ],
   "source": [
    "personalized_model.recommend(users=[users[1]], k = 1)['song']"
   ]
  },
  {
   "cell_type": "code",
   "execution_count": 80,
   "metadata": {
    "collapsed": true
   },
   "outputs": [],
   "source": [
    "def recommend_function(userid):\n",
    "    return personalized_model.recommend(users=[userid], k = 1)['song']"
   ]
  },
  {
   "cell_type": "code",
   "execution_count": 85,
   "metadata": {
    "collapsed": false
   },
   "outputs": [
    {
     "data": {
      "text/html": [
       "<pre>recommendations finished on 1000/66346 queries. users per second: 1932.86</pre>"
      ],
      "text/plain": [
       "recommendations finished on 1000/66346 queries. users per second: 1932.86"
      ]
     },
     "metadata": {},
     "output_type": "display_data"
    },
    {
     "data": {
      "text/html": [
       "<pre>recommendations finished on 2000/66346 queries. users per second: 2080.77</pre>"
      ],
      "text/plain": [
       "recommendations finished on 2000/66346 queries. users per second: 2080.77"
      ]
     },
     "metadata": {},
     "output_type": "display_data"
    },
    {
     "data": {
      "text/html": [
       "<pre>recommendations finished on 3000/66346 queries. users per second: 2127.66</pre>"
      ],
      "text/plain": [
       "recommendations finished on 3000/66346 queries. users per second: 2127.66"
      ]
     },
     "metadata": {},
     "output_type": "display_data"
    },
    {
     "data": {
      "text/html": [
       "<pre>recommendations finished on 4000/66346 queries. users per second: 2162.96</pre>"
      ],
      "text/plain": [
       "recommendations finished on 4000/66346 queries. users per second: 2162.96"
      ]
     },
     "metadata": {},
     "output_type": "display_data"
    },
    {
     "data": {
      "text/html": [
       "<pre>recommendations finished on 5000/66346 queries. users per second: 2189.98</pre>"
      ],
      "text/plain": [
       "recommendations finished on 5000/66346 queries. users per second: 2189.98"
      ]
     },
     "metadata": {},
     "output_type": "display_data"
    },
    {
     "data": {
      "text/html": [
       "<pre>recommendations finished on 6000/66346 queries. users per second: 2210.82</pre>"
      ],
      "text/plain": [
       "recommendations finished on 6000/66346 queries. users per second: 2210.82"
      ]
     },
     "metadata": {},
     "output_type": "display_data"
    },
    {
     "data": {
      "text/html": [
       "<pre>recommendations finished on 7000/66346 queries. users per second: 2222.05</pre>"
      ],
      "text/plain": [
       "recommendations finished on 7000/66346 queries. users per second: 2222.05"
      ]
     },
     "metadata": {},
     "output_type": "display_data"
    },
    {
     "data": {
      "text/html": [
       "<pre>recommendations finished on 8000/66346 queries. users per second: 2222.49</pre>"
      ],
      "text/plain": [
       "recommendations finished on 8000/66346 queries. users per second: 2222.49"
      ]
     },
     "metadata": {},
     "output_type": "display_data"
    },
    {
     "data": {
      "text/html": [
       "<pre>recommendations finished on 9000/66346 queries. users per second: 2119.63</pre>"
      ],
      "text/plain": [
       "recommendations finished on 9000/66346 queries. users per second: 2119.63"
      ]
     },
     "metadata": {},
     "output_type": "display_data"
    },
    {
     "data": {
      "text/html": [
       "<pre>recommendations finished on 10000/66346 queries. users per second: 2117.59</pre>"
      ],
      "text/plain": [
       "recommendations finished on 10000/66346 queries. users per second: 2117.59"
      ]
     },
     "metadata": {},
     "output_type": "display_data"
    },
    {
     "data": {
      "text/html": [
       "<pre>recommendations finished on 11000/66346 queries. users per second: 2117.14</pre>"
      ],
      "text/plain": [
       "recommendations finished on 11000/66346 queries. users per second: 2117.14"
      ]
     },
     "metadata": {},
     "output_type": "display_data"
    },
    {
     "data": {
      "text/html": [
       "<pre>recommendations finished on 12000/66346 queries. users per second: 2128.03</pre>"
      ],
      "text/plain": [
       "recommendations finished on 12000/66346 queries. users per second: 2128.03"
      ]
     },
     "metadata": {},
     "output_type": "display_data"
    },
    {
     "data": {
      "text/html": [
       "<pre>recommendations finished on 13000/66346 queries. users per second: 2136.29</pre>"
      ],
      "text/plain": [
       "recommendations finished on 13000/66346 queries. users per second: 2136.29"
      ]
     },
     "metadata": {},
     "output_type": "display_data"
    },
    {
     "data": {
      "text/html": [
       "<pre>recommendations finished on 14000/66346 queries. users per second: 2144.4</pre>"
      ],
      "text/plain": [
       "recommendations finished on 14000/66346 queries. users per second: 2144.4"
      ]
     },
     "metadata": {},
     "output_type": "display_data"
    },
    {
     "data": {
      "text/html": [
       "<pre>recommendations finished on 15000/66346 queries. users per second: 2152.25</pre>"
      ],
      "text/plain": [
       "recommendations finished on 15000/66346 queries. users per second: 2152.25"
      ]
     },
     "metadata": {},
     "output_type": "display_data"
    },
    {
     "data": {
      "text/html": [
       "<pre>recommendations finished on 16000/66346 queries. users per second: 2155.09</pre>"
      ],
      "text/plain": [
       "recommendations finished on 16000/66346 queries. users per second: 2155.09"
      ]
     },
     "metadata": {},
     "output_type": "display_data"
    },
    {
     "data": {
      "text/html": [
       "<pre>recommendations finished on 17000/66346 queries. users per second: 2108.6</pre>"
      ],
      "text/plain": [
       "recommendations finished on 17000/66346 queries. users per second: 2108.6"
      ]
     },
     "metadata": {},
     "output_type": "display_data"
    },
    {
     "data": {
      "text/html": [
       "<pre>recommendations finished on 18000/66346 queries. users per second: 2118.51</pre>"
      ],
      "text/plain": [
       "recommendations finished on 18000/66346 queries. users per second: 2118.51"
      ]
     },
     "metadata": {},
     "output_type": "display_data"
    },
    {
     "data": {
      "text/html": [
       "<pre>recommendations finished on 19000/66346 queries. users per second: 2124.6</pre>"
      ],
      "text/plain": [
       "recommendations finished on 19000/66346 queries. users per second: 2124.6"
      ]
     },
     "metadata": {},
     "output_type": "display_data"
    },
    {
     "data": {
      "text/html": [
       "<pre>recommendations finished on 20000/66346 queries. users per second: 2132.73</pre>"
      ],
      "text/plain": [
       "recommendations finished on 20000/66346 queries. users per second: 2132.73"
      ]
     },
     "metadata": {},
     "output_type": "display_data"
    },
    {
     "data": {
      "text/html": [
       "<pre>recommendations finished on 21000/66346 queries. users per second: 2140.46</pre>"
      ],
      "text/plain": [
       "recommendations finished on 21000/66346 queries. users per second: 2140.46"
      ]
     },
     "metadata": {},
     "output_type": "display_data"
    },
    {
     "data": {
      "text/html": [
       "<pre>recommendations finished on 22000/66346 queries. users per second: 2146.49</pre>"
      ],
      "text/plain": [
       "recommendations finished on 22000/66346 queries. users per second: 2146.49"
      ]
     },
     "metadata": {},
     "output_type": "display_data"
    },
    {
     "data": {
      "text/html": [
       "<pre>recommendations finished on 23000/66346 queries. users per second: 2152.23</pre>"
      ],
      "text/plain": [
       "recommendations finished on 23000/66346 queries. users per second: 2152.23"
      ]
     },
     "metadata": {},
     "output_type": "display_data"
    },
    {
     "data": {
      "text/html": [
       "<pre>recommendations finished on 24000/66346 queries. users per second: 2156.84</pre>"
      ],
      "text/plain": [
       "recommendations finished on 24000/66346 queries. users per second: 2156.84"
      ]
     },
     "metadata": {},
     "output_type": "display_data"
    },
    {
     "data": {
      "text/html": [
       "<pre>recommendations finished on 25000/66346 queries. users per second: 2162.31</pre>"
      ],
      "text/plain": [
       "recommendations finished on 25000/66346 queries. users per second: 2162.31"
      ]
     },
     "metadata": {},
     "output_type": "display_data"
    },
    {
     "data": {
      "text/html": [
       "<pre>recommendations finished on 26000/66346 queries. users per second: 2165.49</pre>"
      ],
      "text/plain": [
       "recommendations finished on 26000/66346 queries. users per second: 2165.49"
      ]
     },
     "metadata": {},
     "output_type": "display_data"
    },
    {
     "data": {
      "text/html": [
       "<pre>recommendations finished on 27000/66346 queries. users per second: 2169.57</pre>"
      ],
      "text/plain": [
       "recommendations finished on 27000/66346 queries. users per second: 2169.57"
      ]
     },
     "metadata": {},
     "output_type": "display_data"
    },
    {
     "data": {
      "text/html": [
       "<pre>recommendations finished on 28000/66346 queries. users per second: 2173.38</pre>"
      ],
      "text/plain": [
       "recommendations finished on 28000/66346 queries. users per second: 2173.38"
      ]
     },
     "metadata": {},
     "output_type": "display_data"
    },
    {
     "data": {
      "text/html": [
       "<pre>recommendations finished on 29000/66346 queries. users per second: 2175.63</pre>"
      ],
      "text/plain": [
       "recommendations finished on 29000/66346 queries. users per second: 2175.63"
      ]
     },
     "metadata": {},
     "output_type": "display_data"
    },
    {
     "data": {
      "text/html": [
       "<pre>recommendations finished on 30000/66346 queries. users per second: 2176.94</pre>"
      ],
      "text/plain": [
       "recommendations finished on 30000/66346 queries. users per second: 2176.94"
      ]
     },
     "metadata": {},
     "output_type": "display_data"
    },
    {
     "data": {
      "text/html": [
       "<pre>recommendations finished on 31000/66346 queries. users per second: 2178.94</pre>"
      ],
      "text/plain": [
       "recommendations finished on 31000/66346 queries. users per second: 2178.94"
      ]
     },
     "metadata": {},
     "output_type": "display_data"
    },
    {
     "data": {
      "text/html": [
       "<pre>recommendations finished on 32000/66346 queries. users per second: 2181.85</pre>"
      ],
      "text/plain": [
       "recommendations finished on 32000/66346 queries. users per second: 2181.85"
      ]
     },
     "metadata": {},
     "output_type": "display_data"
    },
    {
     "data": {
      "text/html": [
       "<pre>recommendations finished on 33000/66346 queries. users per second: 2184.09</pre>"
      ],
      "text/plain": [
       "recommendations finished on 33000/66346 queries. users per second: 2184.09"
      ]
     },
     "metadata": {},
     "output_type": "display_data"
    },
    {
     "data": {
      "text/html": [
       "<pre>recommendations finished on 34000/66346 queries. users per second: 2187.05</pre>"
      ],
      "text/plain": [
       "recommendations finished on 34000/66346 queries. users per second: 2187.05"
      ]
     },
     "metadata": {},
     "output_type": "display_data"
    },
    {
     "data": {
      "text/html": [
       "<pre>recommendations finished on 35000/66346 queries. users per second: 2189.02</pre>"
      ],
      "text/plain": [
       "recommendations finished on 35000/66346 queries. users per second: 2189.02"
      ]
     },
     "metadata": {},
     "output_type": "display_data"
    },
    {
     "data": {
      "text/html": [
       "<pre>recommendations finished on 36000/66346 queries. users per second: 2191.69</pre>"
      ],
      "text/plain": [
       "recommendations finished on 36000/66346 queries. users per second: 2191.69"
      ]
     },
     "metadata": {},
     "output_type": "display_data"
    },
    {
     "data": {
      "text/html": [
       "<pre>recommendations finished on 37000/66346 queries. users per second: 2194.28</pre>"
      ],
      "text/plain": [
       "recommendations finished on 37000/66346 queries. users per second: 2194.28"
      ]
     },
     "metadata": {},
     "output_type": "display_data"
    },
    {
     "data": {
      "text/html": [
       "<pre>recommendations finished on 38000/66346 queries. users per second: 2196.49</pre>"
      ],
      "text/plain": [
       "recommendations finished on 38000/66346 queries. users per second: 2196.49"
      ]
     },
     "metadata": {},
     "output_type": "display_data"
    },
    {
     "data": {
      "text/html": [
       "<pre>recommendations finished on 39000/66346 queries. users per second: 2198.22</pre>"
      ],
      "text/plain": [
       "recommendations finished on 39000/66346 queries. users per second: 2198.22"
      ]
     },
     "metadata": {},
     "output_type": "display_data"
    },
    {
     "data": {
      "text/html": [
       "<pre>recommendations finished on 40000/66346 queries. users per second: 2161.68</pre>"
      ],
      "text/plain": [
       "recommendations finished on 40000/66346 queries. users per second: 2161.68"
      ]
     },
     "metadata": {},
     "output_type": "display_data"
    },
    {
     "data": {
      "text/html": [
       "<pre>recommendations finished on 41000/66346 queries. users per second: 2139.53</pre>"
      ],
      "text/plain": [
       "recommendations finished on 41000/66346 queries. users per second: 2139.53"
      ]
     },
     "metadata": {},
     "output_type": "display_data"
    },
    {
     "data": {
      "text/html": [
       "<pre>recommendations finished on 42000/66346 queries. users per second: 2142.65</pre>"
      ],
      "text/plain": [
       "recommendations finished on 42000/66346 queries. users per second: 2142.65"
      ]
     },
     "metadata": {},
     "output_type": "display_data"
    },
    {
     "data": {
      "text/html": [
       "<pre>recommendations finished on 43000/66346 queries. users per second: 2145.25</pre>"
      ],
      "text/plain": [
       "recommendations finished on 43000/66346 queries. users per second: 2145.25"
      ]
     },
     "metadata": {},
     "output_type": "display_data"
    },
    {
     "data": {
      "text/html": [
       "<pre>recommendations finished on 44000/66346 queries. users per second: 2148.38</pre>"
      ],
      "text/plain": [
       "recommendations finished on 44000/66346 queries. users per second: 2148.38"
      ]
     },
     "metadata": {},
     "output_type": "display_data"
    },
    {
     "data": {
      "text/html": [
       "<pre>recommendations finished on 45000/66346 queries. users per second: 2151.12</pre>"
      ],
      "text/plain": [
       "recommendations finished on 45000/66346 queries. users per second: 2151.12"
      ]
     },
     "metadata": {},
     "output_type": "display_data"
    },
    {
     "data": {
      "text/html": [
       "<pre>recommendations finished on 46000/66346 queries. users per second: 2153.79</pre>"
      ],
      "text/plain": [
       "recommendations finished on 46000/66346 queries. users per second: 2153.79"
      ]
     },
     "metadata": {},
     "output_type": "display_data"
    },
    {
     "data": {
      "text/html": [
       "<pre>recommendations finished on 47000/66346 queries. users per second: 2156.46</pre>"
      ],
      "text/plain": [
       "recommendations finished on 47000/66346 queries. users per second: 2156.46"
      ]
     },
     "metadata": {},
     "output_type": "display_data"
    },
    {
     "data": {
      "text/html": [
       "<pre>recommendations finished on 48000/66346 queries. users per second: 2158.1</pre>"
      ],
      "text/plain": [
       "recommendations finished on 48000/66346 queries. users per second: 2158.1"
      ]
     },
     "metadata": {},
     "output_type": "display_data"
    },
    {
     "data": {
      "text/html": [
       "<pre>recommendations finished on 49000/66346 queries. users per second: 2160.86</pre>"
      ],
      "text/plain": [
       "recommendations finished on 49000/66346 queries. users per second: 2160.86"
      ]
     },
     "metadata": {},
     "output_type": "display_data"
    },
    {
     "data": {
      "text/html": [
       "<pre>recommendations finished on 50000/66346 queries. users per second: 2163.06</pre>"
      ],
      "text/plain": [
       "recommendations finished on 50000/66346 queries. users per second: 2163.06"
      ]
     },
     "metadata": {},
     "output_type": "display_data"
    },
    {
     "data": {
      "text/html": [
       "<pre>recommendations finished on 51000/66346 queries. users per second: 2165.49</pre>"
      ],
      "text/plain": [
       "recommendations finished on 51000/66346 queries. users per second: 2165.49"
      ]
     },
     "metadata": {},
     "output_type": "display_data"
    },
    {
     "data": {
      "text/html": [
       "<pre>recommendations finished on 52000/66346 queries. users per second: 2155.11</pre>"
      ],
      "text/plain": [
       "recommendations finished on 52000/66346 queries. users per second: 2155.11"
      ]
     },
     "metadata": {},
     "output_type": "display_data"
    },
    {
     "data": {
      "text/html": [
       "<pre>recommendations finished on 53000/66346 queries. users per second: 2150.4</pre>"
      ],
      "text/plain": [
       "recommendations finished on 53000/66346 queries. users per second: 2150.4"
      ]
     },
     "metadata": {},
     "output_type": "display_data"
    },
    {
     "data": {
      "text/html": [
       "<pre>recommendations finished on 54000/66346 queries. users per second: 2150.21</pre>"
      ],
      "text/plain": [
       "recommendations finished on 54000/66346 queries. users per second: 2150.21"
      ]
     },
     "metadata": {},
     "output_type": "display_data"
    },
    {
     "data": {
      "text/html": [
       "<pre>recommendations finished on 55000/66346 queries. users per second: 2139.14</pre>"
      ],
      "text/plain": [
       "recommendations finished on 55000/66346 queries. users per second: 2139.14"
      ]
     },
     "metadata": {},
     "output_type": "display_data"
    },
    {
     "data": {
      "text/html": [
       "<pre>recommendations finished on 56000/66346 queries. users per second: 2125.26</pre>"
      ],
      "text/plain": [
       "recommendations finished on 56000/66346 queries. users per second: 2125.26"
      ]
     },
     "metadata": {},
     "output_type": "display_data"
    },
    {
     "data": {
      "text/html": [
       "<pre>recommendations finished on 57000/66346 queries. users per second: 2118.04</pre>"
      ],
      "text/plain": [
       "recommendations finished on 57000/66346 queries. users per second: 2118.04"
      ]
     },
     "metadata": {},
     "output_type": "display_data"
    },
    {
     "data": {
      "text/html": [
       "<pre>recommendations finished on 58000/66346 queries. users per second: 2120.78</pre>"
      ],
      "text/plain": [
       "recommendations finished on 58000/66346 queries. users per second: 2120.78"
      ]
     },
     "metadata": {},
     "output_type": "display_data"
    },
    {
     "data": {
      "text/html": [
       "<pre>recommendations finished on 59000/66346 queries. users per second: 2123.62</pre>"
      ],
      "text/plain": [
       "recommendations finished on 59000/66346 queries. users per second: 2123.62"
      ]
     },
     "metadata": {},
     "output_type": "display_data"
    },
    {
     "data": {
      "text/html": [
       "<pre>recommendations finished on 60000/66346 queries. users per second: 2125.69</pre>"
      ],
      "text/plain": [
       "recommendations finished on 60000/66346 queries. users per second: 2125.69"
      ]
     },
     "metadata": {},
     "output_type": "display_data"
    },
    {
     "data": {
      "text/html": [
       "<pre>recommendations finished on 61000/66346 queries. users per second: 2127.96</pre>"
      ],
      "text/plain": [
       "recommendations finished on 61000/66346 queries. users per second: 2127.96"
      ]
     },
     "metadata": {},
     "output_type": "display_data"
    },
    {
     "data": {
      "text/html": [
       "<pre>recommendations finished on 62000/66346 queries. users per second: 2119.89</pre>"
      ],
      "text/plain": [
       "recommendations finished on 62000/66346 queries. users per second: 2119.89"
      ]
     },
     "metadata": {},
     "output_type": "display_data"
    },
    {
     "data": {
      "text/html": [
       "<pre>recommendations finished on 63000/66346 queries. users per second: 2121.88</pre>"
      ],
      "text/plain": [
       "recommendations finished on 63000/66346 queries. users per second: 2121.88"
      ]
     },
     "metadata": {},
     "output_type": "display_data"
    },
    {
     "data": {
      "text/html": [
       "<pre>recommendations finished on 64000/66346 queries. users per second: 2123.71</pre>"
      ],
      "text/plain": [
       "recommendations finished on 64000/66346 queries. users per second: 2123.71"
      ]
     },
     "metadata": {},
     "output_type": "display_data"
    },
    {
     "data": {
      "text/html": [
       "<pre>recommendations finished on 65000/66346 queries. users per second: 2119.14</pre>"
      ],
      "text/plain": [
       "recommendations finished on 65000/66346 queries. users per second: 2119.14"
      ]
     },
     "metadata": {},
     "output_type": "display_data"
    },
    {
     "data": {
      "text/html": [
       "<pre>recommendations finished on 66000/66346 queries. users per second: 2119.38</pre>"
      ],
      "text/plain": [
       "recommendations finished on 66000/66346 queries. users per second: 2119.38"
      ]
     },
     "metadata": {},
     "output_type": "display_data"
    },
    {
     "data": {
      "text/plain": [
       "dtype: str\n",
       "Rows: 66346\n",
       "['Cuando Pase El Temblor - Soda Stereo', 'Riot In Cell Block Number Nine - Dr Feelgood', 'Grind With Me (Explicit Version) - Pretty Ricky', 'Hey_ Soul Sister - Train', 'Senza Una Donna (Without A Woman) - Zucchero / Paul Young', 'Heartbreak Warfare - John Mayer', 'Pick Up - Bonobo', \"Jive Talkin' (Album Version) - Bee Gees\", 'Ricordati Di Noi - Valerio Scanu', 'Fall Out - The Police', 'Clocks - Coldplay', 'Incentive (Bonus Track) - Epica', 'Black Mirror - Arcade Fire', 'Sweet Baby James - James Taylor', 'Goodnight And Goodbye - Jonas Brothers', \"Everything You Touch We Touch First (America'S Mexican) - George Lopez\", 'Hey There Mr. Brooks (feat. Feat. Shawn Mike of Alesana) - Asking Alexandria', 'Till You Return To Me - GROVER WASHINGTON_ JR.', 'Prenzlauerberg - Beirut', 'Bestrafe Mich - Rammstein', 'Find The Cost Of Freedom - Crosby_ Stills_ Nash & Young', 'Secrets - OneRepublic', 'Are You In? - Incubus', 'One Less Lonely Girl - Justin Bieber', 'Rabbit Heart (Raise It Up) - Florence + The Machine', 'Secrets - OneRepublic', \"You're The One - Dwight Yoakam\", 'What If (Film Version) - Kate Winslet', 'Alejandro - Lady GaGa', 'Bust a Move - Infected Mushroom', 'Murmullo - Buena Vista Social Club', 'Tengo Hambre - Calle 13', 'Isis (Spam Remix) - Alaska Y Dinarama', 'Felicidade - Suba  feat. Cibelle', 'This Is The Future - Owl City', 'Pages - 3 Doors Down', 'Secrets - OneRepublic', 'JUAN LOCO - Rodrigo y Gabriela', 'Revelry - Kings Of Leon', \"I CAN'T GET STARTED - Ron Carter\", 'Lump Sum - Bon Iver', 'Secrets - OneRepublic', 'Mr Blue - Yazoo', \"When I Get Home You're So Dead (New Version) (Album) - Mayday Parade\", 'Who Can Compare - Foolish Things', 'Feeling This - Blink-182', 'Infected - Bad Religion', 'Matinée - Franz Ferdinand', 'Lump Sum - Bon Iver', 'Streets On Fire (Explicit Album Version) - Lupe Fiasco', 'We Like Sportz - The Lonely Island', 'Fantasy - The xx', 'Long Nights - Eddie Vedder', 'Chantilly Lace - Big Bopper', 'Today Your Love_ Tomorrow The World (Remastered Album Version ) - Ramones', 'Fell On Black Days - Soundgarden', 'Never Know - Jack Johnson', 'My Life - Deviates', 'Revelry - Kings Of Leon', 'Inside Job - Pearl Jam', 'Three Times A Lady - Lionel Richie', 'Revelry - Kings Of Leon', 'Revelry - Kings Of Leon', 'Two Hearts - Phil Collins', 'Secrets - OneRepublic', 'Gente - Laura Pausini', 'Sueños - Juanes', 'Singing in the Rain - Gene Kelly', 'Horn Concerto No. 4 in E flat K495: II. Romance (Andante cantabile) - Barry Tuckwell/Academy of St Martin-in-the-Fields/Sir Neville Marriner', 'Vanished - Crystal Castles', 'The Webs We Weave - Escape The Fate', 'Twilight Galaxy - Metric', 'Dragon Queen - Yeah Yeah Yeahs', 'Twilight Galaxy - Metric', 'Future Reflections - MGMT', \"Who'll Stop The Rain - Creedence Clearwater Revival\", 'Cold Water - Damien Rice', 'Red Right Ankle - The Decemberists', 'The Water - Feist', 'Secrets - OneRepublic', \"Ain't Misbehavin - Sam Cooke\", 'Little Black Sandals - Sia', 'Shoulder to shoulder 2009 - What We Feel', 'Fences - Phoenix', 'Goccia - Cristina Donà', 'Mr Sandman - The Chordettes', 'Undo - Björk', 'Bard Dance - Enya', 'My Own Hell - Five Finger Death Punch', 'Secrets - OneRepublic', 'Horn Concerto No. 4 in E flat K495: II. Romance (Andante cantabile) - Barry Tuckwell/Academy of St Martin-in-the-Fields/Sir Neville Marriner', 'Christmas Card From A Hooker In Minneapolis - Tom Waits', 'Cudi Zone - Kid Cudi', 'Espera - Esperanza Spalding / Leo Genovese', 'Fortune Faded (Album Version) - Red Hot Chili Peppers', 'Solid State - Menno De Jong feat. Relocate', 'Incomplete And Insecure - The Avett Brothers', 'Melt! - Flying Lotus', 'Estadio Azteca - Andres Calamaro', 'Ich Will - Rammstein', ... ]"
      ]
     },
     "execution_count": 85,
     "metadata": {},
     "output_type": "execute_result"
    }
   ],
   "source": [
    " personalized_model.recommend(users=users, k = 1)['song']"
   ]
  },
  {
   "cell_type": "code",
   "execution_count": 86,
   "metadata": {
    "collapsed": false
   },
   "outputs": [
    {
     "data": {
      "text/plain": [
       "dtype: str\n",
       "Rows: 10\n",
       "['c66c10a9567f0d82ff31441a9fd5063e5cd9dfe8', 'c067c22072a17d33310d7223d7b79f819e48cf42', 'f6c596a519698c97f1591ad89f540d76f6a04f1a', '696787172dd3f5169dc94deef97e427cee86147d', '3a7111f4cdf3c5a85fd4053e3cc2333562e1e0cb', '532e98155cbfd1e1a474a28ed96e59e50f7c5baf', 'ee43b175ed753b2e2bce806c903d4661ad351a91', 'e372c27f6cb071518ae500589ae02c126954c148', '83b1428917b47a6b130ed471b09033820be78a8c', '39487deef9345b1e22881245cabf4e7c53b6cf6e']"
      ]
     },
     "execution_count": 86,
     "metadata": {},
     "output_type": "execute_result"
    }
   ],
   "source": [
    "test_user.head()"
   ]
  },
  {
   "cell_type": "code",
   "execution_count": 87,
   "metadata": {
    "collapsed": false
   },
   "outputs": [
    {
     "data": {
      "text/plain": [
       "dtype: str\n",
       "Rows: 10\n",
       "['c66c10a9567f0d82ff31441a9fd5063e5cd9dfe8', '279292bb36dbfc7f505e36ebf038c81eb1d1d63e', 'c067c22072a17d33310d7223d7b79f819e48cf42', 'f6c596a519698c97f1591ad89f540d76f6a04f1a', '696787172dd3f5169dc94deef97e427cee86147d', '3a7111f4cdf3c5a85fd4053e3cc2333562e1e0cb', '31f6fd9d9936adb9f7d0f157fd960c0a676ccfd6', '532e98155cbfd1e1a474a28ed96e59e50f7c5baf', 'ee43b175ed753b2e2bce806c903d4661ad351a91', 'e372c27f6cb071518ae500589ae02c126954c148']"
      ]
     },
     "execution_count": 87,
     "metadata": {},
     "output_type": "execute_result"
    }
   ],
   "source": [
    "users.head()"
   ]
  },
  {
   "cell_type": "code",
   "execution_count": 88,
   "metadata": {
    "collapsed": false
   },
   "outputs": [
    {
     "data": {
      "text/html": [
       "<pre>recommendations finished on 1000/58628 queries. users per second: 1786.05</pre>"
      ],
      "text/plain": [
       "recommendations finished on 1000/58628 queries. users per second: 1786.05"
      ]
     },
     "metadata": {},
     "output_type": "display_data"
    },
    {
     "data": {
      "text/html": [
       "<pre>recommendations finished on 2000/58628 queries. users per second: 1993.6</pre>"
      ],
      "text/plain": [
       "recommendations finished on 2000/58628 queries. users per second: 1993.6"
      ]
     },
     "metadata": {},
     "output_type": "display_data"
    },
    {
     "data": {
      "text/html": [
       "<pre>recommendations finished on 3000/58628 queries. users per second: 2073.93</pre>"
      ],
      "text/plain": [
       "recommendations finished on 3000/58628 queries. users per second: 2073.93"
      ]
     },
     "metadata": {},
     "output_type": "display_data"
    },
    {
     "data": {
      "text/html": [
       "<pre>recommendations finished on 4000/58628 queries. users per second: 2122.2</pre>"
      ],
      "text/plain": [
       "recommendations finished on 4000/58628 queries. users per second: 2122.2"
      ]
     },
     "metadata": {},
     "output_type": "display_data"
    },
    {
     "data": {
      "text/html": [
       "<pre>recommendations finished on 5000/58628 queries. users per second: 2145.32</pre>"
      ],
      "text/plain": [
       "recommendations finished on 5000/58628 queries. users per second: 2145.32"
      ]
     },
     "metadata": {},
     "output_type": "display_data"
    },
    {
     "data": {
      "text/html": [
       "<pre>recommendations finished on 6000/58628 queries. users per second: 2160.63</pre>"
      ],
      "text/plain": [
       "recommendations finished on 6000/58628 queries. users per second: 2160.63"
      ]
     },
     "metadata": {},
     "output_type": "display_data"
    },
    {
     "data": {
      "text/html": [
       "<pre>recommendations finished on 7000/58628 queries. users per second: 2169.67</pre>"
      ],
      "text/plain": [
       "recommendations finished on 7000/58628 queries. users per second: 2169.67"
      ]
     },
     "metadata": {},
     "output_type": "display_data"
    },
    {
     "data": {
      "text/html": [
       "<pre>recommendations finished on 8000/58628 queries. users per second: 2180.96</pre>"
      ],
      "text/plain": [
       "recommendations finished on 8000/58628 queries. users per second: 2180.96"
      ]
     },
     "metadata": {},
     "output_type": "display_data"
    },
    {
     "data": {
      "text/html": [
       "<pre>recommendations finished on 9000/58628 queries. users per second: 2193.83</pre>"
      ],
      "text/plain": [
       "recommendations finished on 9000/58628 queries. users per second: 2193.83"
      ]
     },
     "metadata": {},
     "output_type": "display_data"
    },
    {
     "data": {
      "text/html": [
       "<pre>recommendations finished on 10000/58628 queries. users per second: 2204.96</pre>"
      ],
      "text/plain": [
       "recommendations finished on 10000/58628 queries. users per second: 2204.96"
      ]
     },
     "metadata": {},
     "output_type": "display_data"
    },
    {
     "data": {
      "text/html": [
       "<pre>recommendations finished on 11000/58628 queries. users per second: 2212.6</pre>"
      ],
      "text/plain": [
       "recommendations finished on 11000/58628 queries. users per second: 2212.6"
      ]
     },
     "metadata": {},
     "output_type": "display_data"
    },
    {
     "data": {
      "text/html": [
       "<pre>recommendations finished on 12000/58628 queries. users per second: 2193.63</pre>"
      ],
      "text/plain": [
       "recommendations finished on 12000/58628 queries. users per second: 2193.63"
      ]
     },
     "metadata": {},
     "output_type": "display_data"
    },
    {
     "data": {
      "text/html": [
       "<pre>recommendations finished on 13000/58628 queries. users per second: 2145.11</pre>"
      ],
      "text/plain": [
       "recommendations finished on 13000/58628 queries. users per second: 2145.11"
      ]
     },
     "metadata": {},
     "output_type": "display_data"
    },
    {
     "data": {
      "text/html": [
       "<pre>recommendations finished on 14000/58628 queries. users per second: 2110.27</pre>"
      ],
      "text/plain": [
       "recommendations finished on 14000/58628 queries. users per second: 2110.27"
      ]
     },
     "metadata": {},
     "output_type": "display_data"
    },
    {
     "data": {
      "text/html": [
       "<pre>recommendations finished on 15000/58628 queries. users per second: 2121.48</pre>"
      ],
      "text/plain": [
       "recommendations finished on 15000/58628 queries. users per second: 2121.48"
      ]
     },
     "metadata": {},
     "output_type": "display_data"
    },
    {
     "data": {
      "text/html": [
       "<pre>recommendations finished on 16000/58628 queries. users per second: 2131.11</pre>"
      ],
      "text/plain": [
       "recommendations finished on 16000/58628 queries. users per second: 2131.11"
      ]
     },
     "metadata": {},
     "output_type": "display_data"
    },
    {
     "data": {
      "text/html": [
       "<pre>recommendations finished on 17000/58628 queries. users per second: 2139.13</pre>"
      ],
      "text/plain": [
       "recommendations finished on 17000/58628 queries. users per second: 2139.13"
      ]
     },
     "metadata": {},
     "output_type": "display_data"
    },
    {
     "data": {
      "text/html": [
       "<pre>recommendations finished on 18000/58628 queries. users per second: 2130.68</pre>"
      ],
      "text/plain": [
       "recommendations finished on 18000/58628 queries. users per second: 2130.68"
      ]
     },
     "metadata": {},
     "output_type": "display_data"
    },
    {
     "data": {
      "text/html": [
       "<pre>recommendations finished on 19000/58628 queries. users per second: 2124.96</pre>"
      ],
      "text/plain": [
       "recommendations finished on 19000/58628 queries. users per second: 2124.96"
      ]
     },
     "metadata": {},
     "output_type": "display_data"
    },
    {
     "data": {
      "text/html": [
       "<pre>recommendations finished on 20000/58628 queries. users per second: 2130.45</pre>"
      ],
      "text/plain": [
       "recommendations finished on 20000/58628 queries. users per second: 2130.45"
      ]
     },
     "metadata": {},
     "output_type": "display_data"
    },
    {
     "data": {
      "text/html": [
       "<pre>recommendations finished on 21000/58628 queries. users per second: 2137.84</pre>"
      ],
      "text/plain": [
       "recommendations finished on 21000/58628 queries. users per second: 2137.84"
      ]
     },
     "metadata": {},
     "output_type": "display_data"
    },
    {
     "data": {
      "text/html": [
       "<pre>recommendations finished on 22000/58628 queries. users per second: 2139.81</pre>"
      ],
      "text/plain": [
       "recommendations finished on 22000/58628 queries. users per second: 2139.81"
      ]
     },
     "metadata": {},
     "output_type": "display_data"
    },
    {
     "data": {
      "text/html": [
       "<pre>recommendations finished on 23000/58628 queries. users per second: 2132.36</pre>"
      ],
      "text/plain": [
       "recommendations finished on 23000/58628 queries. users per second: 2132.36"
      ]
     },
     "metadata": {},
     "output_type": "display_data"
    },
    {
     "data": {
      "text/html": [
       "<pre>recommendations finished on 24000/58628 queries. users per second: 2101.37</pre>"
      ],
      "text/plain": [
       "recommendations finished on 24000/58628 queries. users per second: 2101.37"
      ]
     },
     "metadata": {},
     "output_type": "display_data"
    },
    {
     "data": {
      "text/html": [
       "<pre>recommendations finished on 25000/58628 queries. users per second: 2100.58</pre>"
      ],
      "text/plain": [
       "recommendations finished on 25000/58628 queries. users per second: 2100.58"
      ]
     },
     "metadata": {},
     "output_type": "display_data"
    },
    {
     "data": {
      "text/html": [
       "<pre>recommendations finished on 26000/58628 queries. users per second: 2105.73</pre>"
      ],
      "text/plain": [
       "recommendations finished on 26000/58628 queries. users per second: 2105.73"
      ]
     },
     "metadata": {},
     "output_type": "display_data"
    },
    {
     "data": {
      "text/html": [
       "<pre>recommendations finished on 27000/58628 queries. users per second: 2111.84</pre>"
      ],
      "text/plain": [
       "recommendations finished on 27000/58628 queries. users per second: 2111.84"
      ]
     },
     "metadata": {},
     "output_type": "display_data"
    },
    {
     "data": {
      "text/html": [
       "<pre>recommendations finished on 28000/58628 queries. users per second: 2116.42</pre>"
      ],
      "text/plain": [
       "recommendations finished on 28000/58628 queries. users per second: 2116.42"
      ]
     },
     "metadata": {},
     "output_type": "display_data"
    },
    {
     "data": {
      "text/html": [
       "<pre>recommendations finished on 29000/58628 queries. users per second: 2088.91</pre>"
      ],
      "text/plain": [
       "recommendations finished on 29000/58628 queries. users per second: 2088.91"
      ]
     },
     "metadata": {},
     "output_type": "display_data"
    },
    {
     "data": {
      "text/html": [
       "<pre>recommendations finished on 30000/58628 queries. users per second: 2093.48</pre>"
      ],
      "text/plain": [
       "recommendations finished on 30000/58628 queries. users per second: 2093.48"
      ]
     },
     "metadata": {},
     "output_type": "display_data"
    },
    {
     "data": {
      "text/html": [
       "<pre>recommendations finished on 31000/58628 queries. users per second: 2098.64</pre>"
      ],
      "text/plain": [
       "recommendations finished on 31000/58628 queries. users per second: 2098.64"
      ]
     },
     "metadata": {},
     "output_type": "display_data"
    },
    {
     "data": {
      "text/html": [
       "<pre>recommendations finished on 32000/58628 queries. users per second: 2103.01</pre>"
      ],
      "text/plain": [
       "recommendations finished on 32000/58628 queries. users per second: 2103.01"
      ]
     },
     "metadata": {},
     "output_type": "display_data"
    },
    {
     "data": {
      "text/html": [
       "<pre>recommendations finished on 33000/58628 queries. users per second: 2107.33</pre>"
      ],
      "text/plain": [
       "recommendations finished on 33000/58628 queries. users per second: 2107.33"
      ]
     },
     "metadata": {},
     "output_type": "display_data"
    },
    {
     "data": {
      "text/html": [
       "<pre>recommendations finished on 34000/58628 queries. users per second: 2093.98</pre>"
      ],
      "text/plain": [
       "recommendations finished on 34000/58628 queries. users per second: 2093.98"
      ]
     },
     "metadata": {},
     "output_type": "display_data"
    },
    {
     "data": {
      "text/html": [
       "<pre>recommendations finished on 35000/58628 queries. users per second: 2082.53</pre>"
      ],
      "text/plain": [
       "recommendations finished on 35000/58628 queries. users per second: 2082.53"
      ]
     },
     "metadata": {},
     "output_type": "display_data"
    },
    {
     "data": {
      "text/html": [
       "<pre>recommendations finished on 36000/58628 queries. users per second: 2086.5</pre>"
      ],
      "text/plain": [
       "recommendations finished on 36000/58628 queries. users per second: 2086.5"
      ]
     },
     "metadata": {},
     "output_type": "display_data"
    },
    {
     "data": {
      "text/html": [
       "<pre>recommendations finished on 37000/58628 queries. users per second: 2091.1</pre>"
      ],
      "text/plain": [
       "recommendations finished on 37000/58628 queries. users per second: 2091.1"
      ]
     },
     "metadata": {},
     "output_type": "display_data"
    },
    {
     "data": {
      "text/html": [
       "<pre>recommendations finished on 38000/58628 queries. users per second: 2096.1</pre>"
      ],
      "text/plain": [
       "recommendations finished on 38000/58628 queries. users per second: 2096.1"
      ]
     },
     "metadata": {},
     "output_type": "display_data"
    },
    {
     "data": {
      "text/html": [
       "<pre>recommendations finished on 39000/58628 queries. users per second: 2100.31</pre>"
      ],
      "text/plain": [
       "recommendations finished on 39000/58628 queries. users per second: 2100.31"
      ]
     },
     "metadata": {},
     "output_type": "display_data"
    },
    {
     "data": {
      "text/html": [
       "<pre>recommendations finished on 40000/58628 queries. users per second: 2104.15</pre>"
      ],
      "text/plain": [
       "recommendations finished on 40000/58628 queries. users per second: 2104.15"
      ]
     },
     "metadata": {},
     "output_type": "display_data"
    },
    {
     "data": {
      "text/html": [
       "<pre>recommendations finished on 41000/58628 queries. users per second: 2084.08</pre>"
      ],
      "text/plain": [
       "recommendations finished on 41000/58628 queries. users per second: 2084.08"
      ]
     },
     "metadata": {},
     "output_type": "display_data"
    },
    {
     "data": {
      "text/html": [
       "<pre>recommendations finished on 42000/58628 queries. users per second: 2069.18</pre>"
      ],
      "text/plain": [
       "recommendations finished on 42000/58628 queries. users per second: 2069.18"
      ]
     },
     "metadata": {},
     "output_type": "display_data"
    },
    {
     "data": {
      "text/html": [
       "<pre>recommendations finished on 43000/58628 queries. users per second: 2066.14</pre>"
      ],
      "text/plain": [
       "recommendations finished on 43000/58628 queries. users per second: 2066.14"
      ]
     },
     "metadata": {},
     "output_type": "display_data"
    },
    {
     "data": {
      "text/html": [
       "<pre>recommendations finished on 44000/58628 queries. users per second: 2070.14</pre>"
      ],
      "text/plain": [
       "recommendations finished on 44000/58628 queries. users per second: 2070.14"
      ]
     },
     "metadata": {},
     "output_type": "display_data"
    },
    {
     "data": {
      "text/html": [
       "<pre>recommendations finished on 45000/58628 queries. users per second: 2074.27</pre>"
      ],
      "text/plain": [
       "recommendations finished on 45000/58628 queries. users per second: 2074.27"
      ]
     },
     "metadata": {},
     "output_type": "display_data"
    },
    {
     "data": {
      "text/html": [
       "<pre>recommendations finished on 46000/58628 queries. users per second: 2078.18</pre>"
      ],
      "text/plain": [
       "recommendations finished on 46000/58628 queries. users per second: 2078.18"
      ]
     },
     "metadata": {},
     "output_type": "display_data"
    },
    {
     "data": {
      "text/html": [
       "<pre>recommendations finished on 47000/58628 queries. users per second: 2070.2</pre>"
      ],
      "text/plain": [
       "recommendations finished on 47000/58628 queries. users per second: 2070.2"
      ]
     },
     "metadata": {},
     "output_type": "display_data"
    },
    {
     "data": {
      "text/html": [
       "<pre>recommendations finished on 48000/58628 queries. users per second: 2066.69</pre>"
      ],
      "text/plain": [
       "recommendations finished on 48000/58628 queries. users per second: 2066.69"
      ]
     },
     "metadata": {},
     "output_type": "display_data"
    },
    {
     "data": {
      "text/html": [
       "<pre>recommendations finished on 49000/58628 queries. users per second: 2070.41</pre>"
      ],
      "text/plain": [
       "recommendations finished on 49000/58628 queries. users per second: 2070.41"
      ]
     },
     "metadata": {},
     "output_type": "display_data"
    },
    {
     "data": {
      "text/html": [
       "<pre>recommendations finished on 50000/58628 queries. users per second: 2073.56</pre>"
      ],
      "text/plain": [
       "recommendations finished on 50000/58628 queries. users per second: 2073.56"
      ]
     },
     "metadata": {},
     "output_type": "display_data"
    },
    {
     "data": {
      "text/html": [
       "<pre>recommendations finished on 51000/58628 queries. users per second: 2066.95</pre>"
      ],
      "text/plain": [
       "recommendations finished on 51000/58628 queries. users per second: 2066.95"
      ]
     },
     "metadata": {},
     "output_type": "display_data"
    },
    {
     "data": {
      "text/html": [
       "<pre>recommendations finished on 52000/58628 queries. users per second: 2070.65</pre>"
      ],
      "text/plain": [
       "recommendations finished on 52000/58628 queries. users per second: 2070.65"
      ]
     },
     "metadata": {},
     "output_type": "display_data"
    },
    {
     "data": {
      "text/html": [
       "<pre>recommendations finished on 53000/58628 queries. users per second: 2074.23</pre>"
      ],
      "text/plain": [
       "recommendations finished on 53000/58628 queries. users per second: 2074.23"
      ]
     },
     "metadata": {},
     "output_type": "display_data"
    },
    {
     "data": {
      "text/html": [
       "<pre>recommendations finished on 54000/58628 queries. users per second: 2077.12</pre>"
      ],
      "text/plain": [
       "recommendations finished on 54000/58628 queries. users per second: 2077.12"
      ]
     },
     "metadata": {},
     "output_type": "display_data"
    },
    {
     "data": {
      "text/html": [
       "<pre>recommendations finished on 55000/58628 queries. users per second: 2065.66</pre>"
      ],
      "text/plain": [
       "recommendations finished on 55000/58628 queries. users per second: 2065.66"
      ]
     },
     "metadata": {},
     "output_type": "display_data"
    },
    {
     "data": {
      "text/html": [
       "<pre>recommendations finished on 56000/58628 queries. users per second: 2069.04</pre>"
      ],
      "text/plain": [
       "recommendations finished on 56000/58628 queries. users per second: 2069.04"
      ]
     },
     "metadata": {},
     "output_type": "display_data"
    },
    {
     "data": {
      "text/html": [
       "<pre>recommendations finished on 57000/58628 queries. users per second: 2071.93</pre>"
      ],
      "text/plain": [
       "recommendations finished on 57000/58628 queries. users per second: 2071.93"
      ]
     },
     "metadata": {},
     "output_type": "display_data"
    },
    {
     "data": {
      "text/html": [
       "<pre>recommendations finished on 58000/58628 queries. users per second: 2075.26</pre>"
      ],
      "text/plain": [
       "recommendations finished on 58000/58628 queries. users per second: 2075.26"
      ]
     },
     "metadata": {},
     "output_type": "display_data"
    },
    {
     "ename": "RuntimeError",
     "evalue": "Runtime Exception. Column \"recommend_song\" has different size than current columns!",
     "output_type": "error",
     "traceback": [
      "\u001b[1;31m---------------------------------------------------------------------------\u001b[0m",
      "\u001b[1;31mRuntimeError\u001b[0m                              Traceback (most recent call last)",
      "\u001b[1;32m<ipython-input-88-4ad9bdc4ef2d>\u001b[0m in \u001b[0;36m<module>\u001b[1;34m()\u001b[0m\n\u001b[1;32m----> 1\u001b[1;33m \u001b[0mtest_data\u001b[0m\u001b[1;33m[\u001b[0m\u001b[1;34m'recommend_song'\u001b[0m\u001b[1;33m]\u001b[0m \u001b[1;33m=\u001b[0m \u001b[0mpersonalized_model\u001b[0m\u001b[1;33m.\u001b[0m\u001b[0mrecommend\u001b[0m\u001b[1;33m(\u001b[0m\u001b[0musers\u001b[0m\u001b[1;33m=\u001b[0m\u001b[0mtest_user\u001b[0m\u001b[1;33m,\u001b[0m \u001b[0mk\u001b[0m \u001b[1;33m=\u001b[0m \u001b[1;36m1\u001b[0m\u001b[1;33m)\u001b[0m\u001b[1;33m[\u001b[0m\u001b[1;34m'song'\u001b[0m\u001b[1;33m]\u001b[0m\u001b[1;33m\u001b[0m\u001b[0m\n\u001b[0m",
      "\u001b[1;32mC:\\Anaconda2\\envs\\dato-env\\lib\\site-packages\\graphlab\\data_structures\\sframe.pyc\u001b[0m in \u001b[0;36m__setitem__\u001b[1;34m(self, key, value)\u001b[0m\n\u001b[0;32m   3962\u001b[0m             \u001b[1;32mif\u001b[0m \u001b[1;32mnot\u001b[0m \u001b[0mkey\u001b[0m \u001b[1;32min\u001b[0m \u001b[0mself\u001b[0m\u001b[1;33m.\u001b[0m\u001b[0mcolumn_names\u001b[0m\u001b[1;33m(\u001b[0m\u001b[1;33m)\u001b[0m\u001b[1;33m:\u001b[0m\u001b[1;33m\u001b[0m\u001b[0m\n\u001b[0;32m   3963\u001b[0m                 \u001b[1;32mwith\u001b[0m \u001b[0mcython_context\u001b[0m\u001b[1;33m(\u001b[0m\u001b[1;33m)\u001b[0m\u001b[1;33m:\u001b[0m\u001b[1;33m\u001b[0m\u001b[0m\n\u001b[1;32m-> 3964\u001b[1;33m                     \u001b[0mself\u001b[0m\u001b[1;33m.\u001b[0m\u001b[0madd_column\u001b[0m\u001b[1;33m(\u001b[0m\u001b[0msa_value\u001b[0m\u001b[1;33m,\u001b[0m \u001b[0mkey\u001b[0m\u001b[1;33m)\u001b[0m\u001b[1;33m\u001b[0m\u001b[0m\n\u001b[0m\u001b[0;32m   3965\u001b[0m             \u001b[1;32melse\u001b[0m\u001b[1;33m:\u001b[0m\u001b[1;33m\u001b[0m\u001b[0m\n\u001b[0;32m   3966\u001b[0m                 \u001b[1;31m# special case if replacing the only column.\u001b[0m\u001b[1;33m\u001b[0m\u001b[1;33m\u001b[0m\u001b[0m\n",
      "\u001b[1;32mC:\\Anaconda2\\envs\\dato-env\\lib\\site-packages\\graphlab\\cython\\context.pyc\u001b[0m in \u001b[0;36m__exit__\u001b[1;34m(self, exc_type, exc_value, traceback)\u001b[0m\n\u001b[0;32m     47\u001b[0m             \u001b[1;32mif\u001b[0m \u001b[1;32mnot\u001b[0m \u001b[0mself\u001b[0m\u001b[1;33m.\u001b[0m\u001b[0mshow_cython_trace\u001b[0m\u001b[1;33m:\u001b[0m\u001b[1;33m\u001b[0m\u001b[0m\n\u001b[0;32m     48\u001b[0m                 \u001b[1;31m# To hide cython trace, we re-raise from here\u001b[0m\u001b[1;33m\u001b[0m\u001b[1;33m\u001b[0m\u001b[0m\n\u001b[1;32m---> 49\u001b[1;33m                 \u001b[1;32mraise\u001b[0m \u001b[0mexc_type\u001b[0m\u001b[1;33m(\u001b[0m\u001b[0mexc_value\u001b[0m\u001b[1;33m)\u001b[0m\u001b[1;33m\u001b[0m\u001b[0m\n\u001b[0m\u001b[0;32m     50\u001b[0m             \u001b[1;32melse\u001b[0m\u001b[1;33m:\u001b[0m\u001b[1;33m\u001b[0m\u001b[0m\n\u001b[0;32m     51\u001b[0m                 \u001b[1;31m# To show the full trace, we do nothing and let exception propagate\u001b[0m\u001b[1;33m\u001b[0m\u001b[1;33m\u001b[0m\u001b[0m\n",
      "\u001b[1;31mRuntimeError\u001b[0m: Runtime Exception. Column \"recommend_song\" has different size than current columns!"
     ]
    }
   ],
   "source": [
    " test_data['recommend_song'] = personalized_model.recommend(users=test_user, k = 1)['song']"
   ]
  },
  {
   "cell_type": "code",
   "execution_count": 89,
   "metadata": {
    "collapsed": false
   },
   "outputs": [
    {
     "data": {
      "text/html": [
       "<div style=\"max-height:1000px;max-width:1500px;overflow:auto;\"><table frame=\"box\" rules=\"cols\">\n",
       "    <tr>\n",
       "        <th style=\"padding-left: 1em; padding-right: 1em; text-align: center\">user_id</th>\n",
       "        <th style=\"padding-left: 1em; padding-right: 1em; text-align: center\">song_id</th>\n",
       "        <th style=\"padding-left: 1em; padding-right: 1em; text-align: center\">listen_count</th>\n",
       "        <th style=\"padding-left: 1em; padding-right: 1em; text-align: center\">title</th>\n",
       "        <th style=\"padding-left: 1em; padding-right: 1em; text-align: center\">artist</th>\n",
       "    </tr>\n",
       "    <tr>\n",
       "        <td style=\"padding-left: 1em; padding-right: 1em; text-align: center; vertical-align: top\">b80344d063b5ccb3212f76538<br>f3d9e43d87dca9e ...</td>\n",
       "        <td style=\"padding-left: 1em; padding-right: 1em; text-align: center; vertical-align: top\">SOJNNUA12A8AE48C7A</td>\n",
       "        <td style=\"padding-left: 1em; padding-right: 1em; text-align: center; vertical-align: top\">1</td>\n",
       "        <td style=\"padding-left: 1em; padding-right: 1em; text-align: center; vertical-align: top\">Love Shack</td>\n",
       "        <td style=\"padding-left: 1em; padding-right: 1em; text-align: center; vertical-align: top\">The B-52's</td>\n",
       "    </tr>\n",
       "    <tr>\n",
       "        <td style=\"padding-left: 1em; padding-right: 1em; text-align: center; vertical-align: top\">b80344d063b5ccb3212f76538<br>f3d9e43d87dca9e ...</td>\n",
       "        <td style=\"padding-left: 1em; padding-right: 1em; text-align: center; vertical-align: top\">SOLLGNU12AF72A4D4F</td>\n",
       "        <td style=\"padding-left: 1em; padding-right: 1em; text-align: center; vertical-align: top\">1</td>\n",
       "        <td style=\"padding-left: 1em; padding-right: 1em; text-align: center; vertical-align: top\">The Old Saloon</td>\n",
       "        <td style=\"padding-left: 1em; padding-right: 1em; text-align: center; vertical-align: top\">The Lonely Island</td>\n",
       "    </tr>\n",
       "    <tr>\n",
       "        <td style=\"padding-left: 1em; padding-right: 1em; text-align: center; vertical-align: top\">b80344d063b5ccb3212f76538<br>f3d9e43d87dca9e ...</td>\n",
       "        <td style=\"padding-left: 1em; padding-right: 1em; text-align: center; vertical-align: top\">SORPMYJ12AF729EB90</td>\n",
       "        <td style=\"padding-left: 1em; padding-right: 1em; text-align: center; vertical-align: top\">1</td>\n",
       "        <td style=\"padding-left: 1em; padding-right: 1em; text-align: center; vertical-align: top\">Warning</td>\n",
       "        <td style=\"padding-left: 1em; padding-right: 1em; text-align: center; vertical-align: top\">Incubus</td>\n",
       "    </tr>\n",
       "    <tr>\n",
       "        <td style=\"padding-left: 1em; padding-right: 1em; text-align: center; vertical-align: top\">b80344d063b5ccb3212f76538<br>f3d9e43d87dca9e ...</td>\n",
       "        <td style=\"padding-left: 1em; padding-right: 1em; text-align: center; vertical-align: top\">SOSYBEV12AB0182933</td>\n",
       "        <td style=\"padding-left: 1em; padding-right: 1em; text-align: center; vertical-align: top\">1</td>\n",
       "        <td style=\"padding-left: 1em; padding-right: 1em; text-align: center; vertical-align: top\">All That We Perceive</td>\n",
       "        <td style=\"padding-left: 1em; padding-right: 1em; text-align: center; vertical-align: top\">Thievery Corporation</td>\n",
       "    </tr>\n",
       "    <tr>\n",
       "        <td style=\"padding-left: 1em; padding-right: 1em; text-align: center; vertical-align: top\">b80344d063b5ccb3212f76538<br>f3d9e43d87dca9e ...</td>\n",
       "        <td style=\"padding-left: 1em; padding-right: 1em; text-align: center; vertical-align: top\">SOTRSFZ12A8C142BF6</td>\n",
       "        <td style=\"padding-left: 1em; padding-right: 1em; text-align: center; vertical-align: top\">1</td>\n",
       "        <td style=\"padding-left: 1em; padding-right: 1em; text-align: center; vertical-align: top\">Are You In?</td>\n",
       "        <td style=\"padding-left: 1em; padding-right: 1em; text-align: center; vertical-align: top\">Incubus</td>\n",
       "    </tr>\n",
       "    <tr>\n",
       "        <td style=\"padding-left: 1em; padding-right: 1em; text-align: center; vertical-align: top\">b80344d063b5ccb3212f76538<br>f3d9e43d87dca9e ...</td>\n",
       "        <td style=\"padding-left: 1em; padding-right: 1em; text-align: center; vertical-align: top\">SOWSPUS12AC468BEE3</td>\n",
       "        <td style=\"padding-left: 1em; padding-right: 1em; text-align: center; vertical-align: top\">1</td>\n",
       "        <td style=\"padding-left: 1em; padding-right: 1em; text-align: center; vertical-align: top\">Bigger Isn't Better</td>\n",
       "        <td style=\"padding-left: 1em; padding-right: 1em; text-align: center; vertical-align: top\">The String Cheese<br>Incident ...</td>\n",
       "    </tr>\n",
       "    <tr>\n",
       "        <td style=\"padding-left: 1em; padding-right: 1em; text-align: center; vertical-align: top\">b80344d063b5ccb3212f76538<br>f3d9e43d87dca9e ...</td>\n",
       "        <td style=\"padding-left: 1em; padding-right: 1em; text-align: center; vertical-align: top\">SOXRXDG12A8C131DE5</td>\n",
       "        <td style=\"padding-left: 1em; padding-right: 1em; text-align: center; vertical-align: top\">1</td>\n",
       "        <td style=\"padding-left: 1em; padding-right: 1em; text-align: center; vertical-align: top\">City Love</td>\n",
       "        <td style=\"padding-left: 1em; padding-right: 1em; text-align: center; vertical-align: top\">John Mayer</td>\n",
       "    </tr>\n",
       "    <tr>\n",
       "        <td style=\"padding-left: 1em; padding-right: 1em; text-align: center; vertical-align: top\">969cc6fb74e076a68e36a0440<br>9cb9d3765757508 ...</td>\n",
       "        <td style=\"padding-left: 1em; padding-right: 1em; text-align: center; vertical-align: top\">SOABRAB12A6D4F7AAF</td>\n",
       "        <td style=\"padding-left: 1em; padding-right: 1em; text-align: center; vertical-align: top\">2</td>\n",
       "        <td style=\"padding-left: 1em; padding-right: 1em; text-align: center; vertical-align: top\">A Pain That I\u0019m Used To</td>\n",
       "        <td style=\"padding-left: 1em; padding-right: 1em; text-align: center; vertical-align: top\">Depeche Mode</td>\n",
       "    </tr>\n",
       "    <tr>\n",
       "        <td style=\"padding-left: 1em; padding-right: 1em; text-align: center; vertical-align: top\">969cc6fb74e076a68e36a0440<br>9cb9d3765757508 ...</td>\n",
       "        <td style=\"padding-left: 1em; padding-right: 1em; text-align: center; vertical-align: top\">SOERVXG12A6D4F5583</td>\n",
       "        <td style=\"padding-left: 1em; padding-right: 1em; text-align: center; vertical-align: top\">1</td>\n",
       "        <td style=\"padding-left: 1em; padding-right: 1em; text-align: center; vertical-align: top\">Besame Mucho</td>\n",
       "        <td style=\"padding-left: 1em; padding-right: 1em; text-align: center; vertical-align: top\">Andrea Bocelli</td>\n",
       "    </tr>\n",
       "    <tr>\n",
       "        <td style=\"padding-left: 1em; padding-right: 1em; text-align: center; vertical-align: top\">969cc6fb74e076a68e36a0440<br>9cb9d3765757508 ...</td>\n",
       "        <td style=\"padding-left: 1em; padding-right: 1em; text-align: center; vertical-align: top\">SOUFPNI12A8C142D19</td>\n",
       "        <td style=\"padding-left: 1em; padding-right: 1em; text-align: center; vertical-align: top\">1</td>\n",
       "        <td style=\"padding-left: 1em; padding-right: 1em; text-align: center; vertical-align: top\">Heartbreak Warfare</td>\n",
       "        <td style=\"padding-left: 1em; padding-right: 1em; text-align: center; vertical-align: top\">John Mayer</td>\n",
       "    </tr>\n",
       "</table>\n",
       "<table frame=\"box\" rules=\"cols\">\n",
       "    <tr>\n",
       "        <th style=\"padding-left: 1em; padding-right: 1em; text-align: center\">song</th>\n",
       "    </tr>\n",
       "    <tr>\n",
       "        <td style=\"padding-left: 1em; padding-right: 1em; text-align: center; vertical-align: top\">Love Shack - The B-52's</td>\n",
       "    </tr>\n",
       "    <tr>\n",
       "        <td style=\"padding-left: 1em; padding-right: 1em; text-align: center; vertical-align: top\">The Old Saloon - The<br>Lonely Island ...</td>\n",
       "    </tr>\n",
       "    <tr>\n",
       "        <td style=\"padding-left: 1em; padding-right: 1em; text-align: center; vertical-align: top\">Warning - Incubus</td>\n",
       "    </tr>\n",
       "    <tr>\n",
       "        <td style=\"padding-left: 1em; padding-right: 1em; text-align: center; vertical-align: top\">All That We Perceive -<br>Thievery Corporation ...</td>\n",
       "    </tr>\n",
       "    <tr>\n",
       "        <td style=\"padding-left: 1em; padding-right: 1em; text-align: center; vertical-align: top\">Are You In? - Incubus</td>\n",
       "    </tr>\n",
       "    <tr>\n",
       "        <td style=\"padding-left: 1em; padding-right: 1em; text-align: center; vertical-align: top\">Bigger Isn't Better - The<br>String Cheese Incident ...</td>\n",
       "    </tr>\n",
       "    <tr>\n",
       "        <td style=\"padding-left: 1em; padding-right: 1em; text-align: center; vertical-align: top\">City Love - John Mayer</td>\n",
       "    </tr>\n",
       "    <tr>\n",
       "        <td style=\"padding-left: 1em; padding-right: 1em; text-align: center; vertical-align: top\">A Pain That I\u0019m Used To -<br>Depeche Mode ...</td>\n",
       "    </tr>\n",
       "    <tr>\n",
       "        <td style=\"padding-left: 1em; padding-right: 1em; text-align: center; vertical-align: top\">Besame Mucho - Andrea<br>Bocelli ...</td>\n",
       "    </tr>\n",
       "    <tr>\n",
       "        <td style=\"padding-left: 1em; padding-right: 1em; text-align: center; vertical-align: top\">Heartbreak Warfare - John<br>Mayer ...</td>\n",
       "    </tr>\n",
       "</table>\n",
       "[223029 rows x 6 columns]<br/>Note: Only the head of the SFrame is printed.<br/>You can use print_rows(num_rows=m, num_columns=n) to print more rows and columns.\n",
       "</div>"
      ],
      "text/plain": [
       "Columns:\n",
       "\tuser_id\tstr\n",
       "\tsong_id\tstr\n",
       "\tlisten_count\tint\n",
       "\ttitle\tstr\n",
       "\tartist\tstr\n",
       "\tsong\tstr\n",
       "\n",
       "Rows: 223029\n",
       "\n",
       "Data:\n",
       "+-------------------------------+--------------------+--------------+\n",
       "|            user_id            |      song_id       | listen_count |\n",
       "+-------------------------------+--------------------+--------------+\n",
       "| b80344d063b5ccb3212f76538f... | SOJNNUA12A8AE48C7A |      1       |\n",
       "| b80344d063b5ccb3212f76538f... | SOLLGNU12AF72A4D4F |      1       |\n",
       "| b80344d063b5ccb3212f76538f... | SORPMYJ12AF729EB90 |      1       |\n",
       "| b80344d063b5ccb3212f76538f... | SOSYBEV12AB0182933 |      1       |\n",
       "| b80344d063b5ccb3212f76538f... | SOTRSFZ12A8C142BF6 |      1       |\n",
       "| b80344d063b5ccb3212f76538f... | SOWSPUS12AC468BEE3 |      1       |\n",
       "| b80344d063b5ccb3212f76538f... | SOXRXDG12A8C131DE5 |      1       |\n",
       "| 969cc6fb74e076a68e36a04409... | SOABRAB12A6D4F7AAF |      2       |\n",
       "| 969cc6fb74e076a68e36a04409... | SOERVXG12A6D4F5583 |      1       |\n",
       "| 969cc6fb74e076a68e36a04409... | SOUFPNI12A8C142D19 |      1       |\n",
       "+-------------------------------+--------------------+--------------+\n",
       "+-------------------------+----------------------------+\n",
       "|          title          |           artist           |\n",
       "+-------------------------+----------------------------+\n",
       "|        Love Shack       |         The B-52's         |\n",
       "|      The Old Saloon     |     The Lonely Island      |\n",
       "|         Warning         |          Incubus           |\n",
       "|   All That We Perceive  |    Thievery Corporation    |\n",
       "|       Are You In?       |          Incubus           |\n",
       "|   Bigger Isn't Better   | The String Cheese Incident |\n",
       "|        City Love        |         John Mayer         |\n",
       "| A Pain That I\u0019m Used To |        Depeche Mode        |\n",
       "|       Besame Mucho      |       Andrea Bocelli       |\n",
       "|    Heartbreak Warfare   |         John Mayer         |\n",
       "+-------------------------+----------------------------+\n",
       "+-------------------------------+\n",
       "|              song             |\n",
       "+-------------------------------+\n",
       "|    Love Shack - The B-52's    |\n",
       "| The Old Saloon - The Lonel... |\n",
       "|       Warning - Incubus       |\n",
       "| All That We Perceive - Thi... |\n",
       "|     Are You In? - Incubus     |\n",
       "| Bigger Isn't Better - The ... |\n",
       "|     City Love - John Mayer    |\n",
       "| A Pain That I\u0019m Used To - ... |\n",
       "| Besame Mucho - Andrea Bocelli |\n",
       "| Heartbreak Warfare - John ... |\n",
       "+-------------------------------+\n",
       "[223029 rows x 6 columns]\n",
       "Note: Only the head of the SFrame is printed.\n",
       "You can use print_rows(num_rows=m, num_columns=n) to print more rows and columns."
      ]
     },
     "execution_count": 89,
     "metadata": {},
     "output_type": "execute_result"
    }
   ],
   "source": [
    "test_data\n"
   ]
  },
  {
   "cell_type": "code",
   "execution_count": 90,
   "metadata": {
    "collapsed": false
   },
   "outputs": [
    {
     "ename": "RuntimeError",
     "evalue": "Runtime Exception. Column name recommend_song does not exist.",
     "output_type": "error",
     "traceback": [
      "\u001b[1;31m---------------------------------------------------------------------------\u001b[0m",
      "\u001b[1;31mRuntimeError\u001b[0m                              Traceback (most recent call last)",
      "\u001b[1;32m<ipython-input-90-5aba93052dc5>\u001b[0m in \u001b[0;36m<module>\u001b[1;34m()\u001b[0m\n\u001b[1;32m----> 1\u001b[1;33m \u001b[0mtest_data\u001b[0m\u001b[1;33m[\u001b[0m\u001b[1;34m'recommend_song'\u001b[0m\u001b[1;33m]\u001b[0m\u001b[1;33m\u001b[0m\u001b[0m\n\u001b[0m",
      "\u001b[1;32mC:\\Anaconda2\\envs\\dato-env\\lib\\site-packages\\graphlab\\data_structures\\sframe.pyc\u001b[0m in \u001b[0;36m__getitem__\u001b[1;34m(self, key)\u001b[0m\n\u001b[0;32m   3876\u001b[0m             \u001b[1;32mreturn\u001b[0m \u001b[0mself\u001b[0m\u001b[1;33m.\u001b[0m\u001b[0m_row_selector\u001b[0m\u001b[1;33m(\u001b[0m\u001b[0mkey\u001b[0m\u001b[1;33m)\u001b[0m\u001b[1;33m\u001b[0m\u001b[0m\n\u001b[0;32m   3877\u001b[0m         \u001b[1;32melif\u001b[0m \u001b[0mtype\u001b[0m\u001b[1;33m(\u001b[0m\u001b[0mkey\u001b[0m\u001b[1;33m)\u001b[0m \u001b[1;32mis\u001b[0m \u001b[0mstr\u001b[0m\u001b[1;33m:\u001b[0m\u001b[1;33m\u001b[0m\u001b[0m\n\u001b[1;32m-> 3878\u001b[1;33m             \u001b[1;32mreturn\u001b[0m \u001b[0mself\u001b[0m\u001b[1;33m.\u001b[0m\u001b[0mselect_column\u001b[0m\u001b[1;33m(\u001b[0m\u001b[0mkey\u001b[0m\u001b[1;33m)\u001b[0m\u001b[1;33m\u001b[0m\u001b[0m\n\u001b[0m\u001b[0;32m   3879\u001b[0m         \u001b[1;32melif\u001b[0m \u001b[0mtype\u001b[0m\u001b[1;33m(\u001b[0m\u001b[0mkey\u001b[0m\u001b[1;33m)\u001b[0m \u001b[1;32mis\u001b[0m \u001b[0mtype\u001b[0m\u001b[1;33m:\u001b[0m\u001b[1;33m\u001b[0m\u001b[0m\n\u001b[0;32m   3880\u001b[0m             \u001b[1;32mreturn\u001b[0m \u001b[0mself\u001b[0m\u001b[1;33m.\u001b[0m\u001b[0mselect_columns\u001b[0m\u001b[1;33m(\u001b[0m\u001b[1;33m[\u001b[0m\u001b[0mkey\u001b[0m\u001b[1;33m]\u001b[0m\u001b[1;33m)\u001b[0m\u001b[1;33m\u001b[0m\u001b[0m\n",
      "\u001b[1;32mC:\\Anaconda2\\envs\\dato-env\\lib\\site-packages\\graphlab\\data_structures\\sframe.pyc\u001b[0m in \u001b[0;36mselect_column\u001b[1;34m(self, key)\u001b[0m\n\u001b[0;32m   3481\u001b[0m             \u001b[1;32mraise\u001b[0m \u001b[0mTypeError\u001b[0m\u001b[1;33m(\u001b[0m\u001b[1;34m\"Invalid key type: must be str\"\u001b[0m\u001b[1;33m)\u001b[0m\u001b[1;33m\u001b[0m\u001b[0m\n\u001b[0;32m   3482\u001b[0m         \u001b[1;32mwith\u001b[0m \u001b[0mcython_context\u001b[0m\u001b[1;33m(\u001b[0m\u001b[1;33m)\u001b[0m\u001b[1;33m:\u001b[0m\u001b[1;33m\u001b[0m\u001b[0m\n\u001b[1;32m-> 3483\u001b[1;33m             \u001b[1;32mreturn\u001b[0m \u001b[0mSArray\u001b[0m\u001b[1;33m(\u001b[0m\u001b[0mdata\u001b[0m\u001b[1;33m=\u001b[0m\u001b[1;33m[\u001b[0m\u001b[1;33m]\u001b[0m\u001b[1;33m,\u001b[0m \u001b[0m_proxy\u001b[0m\u001b[1;33m=\u001b[0m\u001b[0mself\u001b[0m\u001b[1;33m.\u001b[0m\u001b[0m__proxy__\u001b[0m\u001b[1;33m.\u001b[0m\u001b[0mselect_column\u001b[0m\u001b[1;33m(\u001b[0m\u001b[0mkey\u001b[0m\u001b[1;33m)\u001b[0m\u001b[1;33m)\u001b[0m\u001b[1;33m\u001b[0m\u001b[0m\n\u001b[0m\u001b[0;32m   3484\u001b[0m \u001b[1;33m\u001b[0m\u001b[0m\n\u001b[0;32m   3485\u001b[0m     \u001b[1;32mdef\u001b[0m \u001b[0mselect_columns\u001b[0m\u001b[1;33m(\u001b[0m\u001b[0mself\u001b[0m\u001b[1;33m,\u001b[0m \u001b[0mkeylist\u001b[0m\u001b[1;33m)\u001b[0m\u001b[1;33m:\u001b[0m\u001b[1;33m\u001b[0m\u001b[0m\n",
      "\u001b[1;32mC:\\Anaconda2\\envs\\dato-env\\lib\\site-packages\\graphlab\\cython\\context.pyc\u001b[0m in \u001b[0;36m__exit__\u001b[1;34m(self, exc_type, exc_value, traceback)\u001b[0m\n\u001b[0;32m     47\u001b[0m             \u001b[1;32mif\u001b[0m \u001b[1;32mnot\u001b[0m \u001b[0mself\u001b[0m\u001b[1;33m.\u001b[0m\u001b[0mshow_cython_trace\u001b[0m\u001b[1;33m:\u001b[0m\u001b[1;33m\u001b[0m\u001b[0m\n\u001b[0;32m     48\u001b[0m                 \u001b[1;31m# To hide cython trace, we re-raise from here\u001b[0m\u001b[1;33m\u001b[0m\u001b[1;33m\u001b[0m\u001b[0m\n\u001b[1;32m---> 49\u001b[1;33m                 \u001b[1;32mraise\u001b[0m \u001b[0mexc_type\u001b[0m\u001b[1;33m(\u001b[0m\u001b[0mexc_value\u001b[0m\u001b[1;33m)\u001b[0m\u001b[1;33m\u001b[0m\u001b[0m\n\u001b[0m\u001b[0;32m     50\u001b[0m             \u001b[1;32melse\u001b[0m\u001b[1;33m:\u001b[0m\u001b[1;33m\u001b[0m\u001b[0m\n\u001b[0;32m     51\u001b[0m                 \u001b[1;31m# To show the full trace, we do nothing and let exception propagate\u001b[0m\u001b[1;33m\u001b[0m\u001b[1;33m\u001b[0m\u001b[0m\n",
      "\u001b[1;31mRuntimeError\u001b[0m: Runtime Exception. Column name recommend_song does not exist."
     ]
    }
   ],
   "source": [
    "res"
   ]
  },
  {
   "cell_type": "code",
   "execution_count": 91,
   "metadata": {
    "collapsed": false
   },
   "outputs": [
    {
     "data": {
      "text/html": [
       "<pre>recommendations finished on 1000/58628 queries. users per second: 1675.26</pre>"
      ],
      "text/plain": [
       "recommendations finished on 1000/58628 queries. users per second: 1675.26"
      ]
     },
     "metadata": {},
     "output_type": "display_data"
    },
    {
     "data": {
      "text/html": [
       "<pre>recommendations finished on 2000/58628 queries. users per second: 1897.63</pre>"
      ],
      "text/plain": [
       "recommendations finished on 2000/58628 queries. users per second: 1897.63"
      ]
     },
     "metadata": {},
     "output_type": "display_data"
    },
    {
     "data": {
      "text/html": [
       "<pre>recommendations finished on 3000/58628 queries. users per second: 1954.43</pre>"
      ],
      "text/plain": [
       "recommendations finished on 3000/58628 queries. users per second: 1954.43"
      ]
     },
     "metadata": {},
     "output_type": "display_data"
    },
    {
     "data": {
      "text/html": [
       "<pre>recommendations finished on 4000/58628 queries. users per second: 2000.69</pre>"
      ],
      "text/plain": [
       "recommendations finished on 4000/58628 queries. users per second: 2000.69"
      ]
     },
     "metadata": {},
     "output_type": "display_data"
    },
    {
     "data": {
      "text/html": [
       "<pre>recommendations finished on 5000/58628 queries. users per second: 2041.96</pre>"
      ],
      "text/plain": [
       "recommendations finished on 5000/58628 queries. users per second: 2041.96"
      ]
     },
     "metadata": {},
     "output_type": "display_data"
    },
    {
     "data": {
      "text/html": [
       "<pre>recommendations finished on 6000/58628 queries. users per second: 2070.79</pre>"
      ],
      "text/plain": [
       "recommendations finished on 6000/58628 queries. users per second: 2070.79"
      ]
     },
     "metadata": {},
     "output_type": "display_data"
    },
    {
     "data": {
      "text/html": [
       "<pre>recommendations finished on 7000/58628 queries. users per second: 2076.98</pre>"
      ],
      "text/plain": [
       "recommendations finished on 7000/58628 queries. users per second: 2076.98"
      ]
     },
     "metadata": {},
     "output_type": "display_data"
    },
    {
     "data": {
      "text/html": [
       "<pre>recommendations finished on 8000/58628 queries. users per second: 2021.69</pre>"
      ],
      "text/plain": [
       "recommendations finished on 8000/58628 queries. users per second: 2021.69"
      ]
     },
     "metadata": {},
     "output_type": "display_data"
    },
    {
     "data": {
      "text/html": [
       "<pre>recommendations finished on 9000/58628 queries. users per second: 2031.87</pre>"
      ],
      "text/plain": [
       "recommendations finished on 9000/58628 queries. users per second: 2031.87"
      ]
     },
     "metadata": {},
     "output_type": "display_data"
    },
    {
     "data": {
      "text/html": [
       "<pre>recommendations finished on 10000/58628 queries. users per second: 2019.88</pre>"
      ],
      "text/plain": [
       "recommendations finished on 10000/58628 queries. users per second: 2019.88"
      ]
     },
     "metadata": {},
     "output_type": "display_data"
    },
    {
     "data": {
      "text/html": [
       "<pre>recommendations finished on 11000/58628 queries. users per second: 2014.78</pre>"
      ],
      "text/plain": [
       "recommendations finished on 11000/58628 queries. users per second: 2014.78"
      ]
     },
     "metadata": {},
     "output_type": "display_data"
    },
    {
     "data": {
      "text/html": [
       "<pre>recommendations finished on 12000/58628 queries. users per second: 2010.55</pre>"
      ],
      "text/plain": [
       "recommendations finished on 12000/58628 queries. users per second: 2010.55"
      ]
     },
     "metadata": {},
     "output_type": "display_data"
    },
    {
     "data": {
      "text/html": [
       "<pre>recommendations finished on 13000/58628 queries. users per second: 2006.36</pre>"
      ],
      "text/plain": [
       "recommendations finished on 13000/58628 queries. users per second: 2006.36"
      ]
     },
     "metadata": {},
     "output_type": "display_data"
    },
    {
     "data": {
      "text/html": [
       "<pre>recommendations finished on 14000/58628 queries. users per second: 2018.98</pre>"
      ],
      "text/plain": [
       "recommendations finished on 14000/58628 queries. users per second: 2018.98"
      ]
     },
     "metadata": {},
     "output_type": "display_data"
    },
    {
     "data": {
      "text/html": [
       "<pre>recommendations finished on 15000/58628 queries. users per second: 2027.84</pre>"
      ],
      "text/plain": [
       "recommendations finished on 15000/58628 queries. users per second: 2027.84"
      ]
     },
     "metadata": {},
     "output_type": "display_data"
    },
    {
     "data": {
      "text/html": [
       "<pre>recommendations finished on 16000/58628 queries. users per second: 2029.33</pre>"
      ],
      "text/plain": [
       "recommendations finished on 16000/58628 queries. users per second: 2029.33"
      ]
     },
     "metadata": {},
     "output_type": "display_data"
    },
    {
     "data": {
      "text/html": [
       "<pre>recommendations finished on 17000/58628 queries. users per second: 1980.69</pre>"
      ],
      "text/plain": [
       "recommendations finished on 17000/58628 queries. users per second: 1980.69"
      ]
     },
     "metadata": {},
     "output_type": "display_data"
    },
    {
     "data": {
      "text/html": [
       "<pre>recommendations finished on 18000/58628 queries. users per second: 1936.65</pre>"
      ],
      "text/plain": [
       "recommendations finished on 18000/58628 queries. users per second: 1936.65"
      ]
     },
     "metadata": {},
     "output_type": "display_data"
    },
    {
     "data": {
      "text/html": [
       "<pre>recommendations finished on 19000/58628 queries. users per second: 1931.23</pre>"
      ],
      "text/plain": [
       "recommendations finished on 19000/58628 queries. users per second: 1931.23"
      ]
     },
     "metadata": {},
     "output_type": "display_data"
    },
    {
     "data": {
      "text/html": [
       "<pre>recommendations finished on 20000/58628 queries. users per second: 1901.28</pre>"
      ],
      "text/plain": [
       "recommendations finished on 20000/58628 queries. users per second: 1901.28"
      ]
     },
     "metadata": {},
     "output_type": "display_data"
    },
    {
     "data": {
      "text/html": [
       "<pre>recommendations finished on 21000/58628 queries. users per second: 1902.76</pre>"
      ],
      "text/plain": [
       "recommendations finished on 21000/58628 queries. users per second: 1902.76"
      ]
     },
     "metadata": {},
     "output_type": "display_data"
    },
    {
     "data": {
      "text/html": [
       "<pre>recommendations finished on 22000/58628 queries. users per second: 1909.23</pre>"
      ],
      "text/plain": [
       "recommendations finished on 22000/58628 queries. users per second: 1909.23"
      ]
     },
     "metadata": {},
     "output_type": "display_data"
    },
    {
     "data": {
      "text/html": [
       "<pre>recommendations finished on 23000/58628 queries. users per second: 1908.98</pre>"
      ],
      "text/plain": [
       "recommendations finished on 23000/58628 queries. users per second: 1908.98"
      ]
     },
     "metadata": {},
     "output_type": "display_data"
    },
    {
     "data": {
      "text/html": [
       "<pre>recommendations finished on 24000/58628 queries. users per second: 1919.13</pre>"
      ],
      "text/plain": [
       "recommendations finished on 24000/58628 queries. users per second: 1919.13"
      ]
     },
     "metadata": {},
     "output_type": "display_data"
    },
    {
     "data": {
      "text/html": [
       "<pre>recommendations finished on 25000/58628 queries. users per second: 1919.82</pre>"
      ],
      "text/plain": [
       "recommendations finished on 25000/58628 queries. users per second: 1919.82"
      ]
     },
     "metadata": {},
     "output_type": "display_data"
    },
    {
     "data": {
      "text/html": [
       "<pre>recommendations finished on 26000/58628 queries. users per second: 1919.26</pre>"
      ],
      "text/plain": [
       "recommendations finished on 26000/58628 queries. users per second: 1919.26"
      ]
     },
     "metadata": {},
     "output_type": "display_data"
    },
    {
     "data": {
      "text/html": [
       "<pre>recommendations finished on 27000/58628 queries. users per second: 1915.19</pre>"
      ],
      "text/plain": [
       "recommendations finished on 27000/58628 queries. users per second: 1915.19"
      ]
     },
     "metadata": {},
     "output_type": "display_data"
    },
    {
     "data": {
      "text/html": [
       "<pre>recommendations finished on 28000/58628 queries. users per second: 1903.18</pre>"
      ],
      "text/plain": [
       "recommendations finished on 28000/58628 queries. users per second: 1903.18"
      ]
     },
     "metadata": {},
     "output_type": "display_data"
    },
    {
     "data": {
      "text/html": [
       "<pre>recommendations finished on 29000/58628 queries. users per second: 1905.94</pre>"
      ],
      "text/plain": [
       "recommendations finished on 29000/58628 queries. users per second: 1905.94"
      ]
     },
     "metadata": {},
     "output_type": "display_data"
    },
    {
     "data": {
      "text/html": [
       "<pre>recommendations finished on 30000/58628 queries. users per second: 1914.14</pre>"
      ],
      "text/plain": [
       "recommendations finished on 30000/58628 queries. users per second: 1914.14"
      ]
     },
     "metadata": {},
     "output_type": "display_data"
    },
    {
     "data": {
      "text/html": [
       "<pre>recommendations finished on 31000/58628 queries. users per second: 1920.02</pre>"
      ],
      "text/plain": [
       "recommendations finished on 31000/58628 queries. users per second: 1920.02"
      ]
     },
     "metadata": {},
     "output_type": "display_data"
    },
    {
     "data": {
      "text/html": [
       "<pre>recommendations finished on 32000/58628 queries. users per second: 1924.06</pre>"
      ],
      "text/plain": [
       "recommendations finished on 32000/58628 queries. users per second: 1924.06"
      ]
     },
     "metadata": {},
     "output_type": "display_data"
    },
    {
     "data": {
      "text/html": [
       "<pre>recommendations finished on 33000/58628 queries. users per second: 1930.46</pre>"
      ],
      "text/plain": [
       "recommendations finished on 33000/58628 queries. users per second: 1930.46"
      ]
     },
     "metadata": {},
     "output_type": "display_data"
    },
    {
     "data": {
      "text/html": [
       "<pre>recommendations finished on 34000/58628 queries. users per second: 1937.41</pre>"
      ],
      "text/plain": [
       "recommendations finished on 34000/58628 queries. users per second: 1937.41"
      ]
     },
     "metadata": {},
     "output_type": "display_data"
    },
    {
     "data": {
      "text/html": [
       "<pre>recommendations finished on 35000/58628 queries. users per second: 1941.8</pre>"
      ],
      "text/plain": [
       "recommendations finished on 35000/58628 queries. users per second: 1941.8"
      ]
     },
     "metadata": {},
     "output_type": "display_data"
    },
    {
     "data": {
      "text/html": [
       "<pre>recommendations finished on 36000/58628 queries. users per second: 1937.94</pre>"
      ],
      "text/plain": [
       "recommendations finished on 36000/58628 queries. users per second: 1937.94"
      ]
     },
     "metadata": {},
     "output_type": "display_data"
    },
    {
     "data": {
      "text/html": [
       "<pre>recommendations finished on 37000/58628 queries. users per second: 1927.9</pre>"
      ],
      "text/plain": [
       "recommendations finished on 37000/58628 queries. users per second: 1927.9"
      ]
     },
     "metadata": {},
     "output_type": "display_data"
    },
    {
     "data": {
      "text/html": [
       "<pre>recommendations finished on 38000/58628 queries. users per second: 1919.6</pre>"
      ],
      "text/plain": [
       "recommendations finished on 38000/58628 queries. users per second: 1919.6"
      ]
     },
     "metadata": {},
     "output_type": "display_data"
    },
    {
     "data": {
      "text/html": [
       "<pre>recommendations finished on 39000/58628 queries. users per second: 1915.51</pre>"
      ],
      "text/plain": [
       "recommendations finished on 39000/58628 queries. users per second: 1915.51"
      ]
     },
     "metadata": {},
     "output_type": "display_data"
    },
    {
     "data": {
      "text/html": [
       "<pre>recommendations finished on 40000/58628 queries. users per second: 1912.41</pre>"
      ],
      "text/plain": [
       "recommendations finished on 40000/58628 queries. users per second: 1912.41"
      ]
     },
     "metadata": {},
     "output_type": "display_data"
    },
    {
     "data": {
      "text/html": [
       "<pre>recommendations finished on 41000/58628 queries. users per second: 1911.03</pre>"
      ],
      "text/plain": [
       "recommendations finished on 41000/58628 queries. users per second: 1911.03"
      ]
     },
     "metadata": {},
     "output_type": "display_data"
    },
    {
     "data": {
      "text/html": [
       "<pre>recommendations finished on 42000/58628 queries. users per second: 1911.98</pre>"
      ],
      "text/plain": [
       "recommendations finished on 42000/58628 queries. users per second: 1911.98"
      ]
     },
     "metadata": {},
     "output_type": "display_data"
    },
    {
     "data": {
      "text/html": [
       "<pre>recommendations finished on 43000/58628 queries. users per second: 1914.16</pre>"
      ],
      "text/plain": [
       "recommendations finished on 43000/58628 queries. users per second: 1914.16"
      ]
     },
     "metadata": {},
     "output_type": "display_data"
    },
    {
     "data": {
      "text/html": [
       "<pre>recommendations finished on 44000/58628 queries. users per second: 1916.88</pre>"
      ],
      "text/plain": [
       "recommendations finished on 44000/58628 queries. users per second: 1916.88"
      ]
     },
     "metadata": {},
     "output_type": "display_data"
    },
    {
     "data": {
      "text/html": [
       "<pre>recommendations finished on 45000/58628 queries. users per second: 1922.39</pre>"
      ],
      "text/plain": [
       "recommendations finished on 45000/58628 queries. users per second: 1922.39"
      ]
     },
     "metadata": {},
     "output_type": "display_data"
    },
    {
     "data": {
      "text/html": [
       "<pre>recommendations finished on 46000/58628 queries. users per second: 1926.24</pre>"
      ],
      "text/plain": [
       "recommendations finished on 46000/58628 queries. users per second: 1926.24"
      ]
     },
     "metadata": {},
     "output_type": "display_data"
    },
    {
     "data": {
      "text/html": [
       "<pre>recommendations finished on 47000/58628 queries. users per second: 1930.94</pre>"
      ],
      "text/plain": [
       "recommendations finished on 47000/58628 queries. users per second: 1930.94"
      ]
     },
     "metadata": {},
     "output_type": "display_data"
    },
    {
     "data": {
      "text/html": [
       "<pre>recommendations finished on 48000/58628 queries. users per second: 1928.49</pre>"
      ],
      "text/plain": [
       "recommendations finished on 48000/58628 queries. users per second: 1928.49"
      ]
     },
     "metadata": {},
     "output_type": "display_data"
    },
    {
     "data": {
      "text/html": [
       "<pre>recommendations finished on 49000/58628 queries. users per second: 1917.82</pre>"
      ],
      "text/plain": [
       "recommendations finished on 49000/58628 queries. users per second: 1917.82"
      ]
     },
     "metadata": {},
     "output_type": "display_data"
    },
    {
     "data": {
      "text/html": [
       "<pre>recommendations finished on 50000/58628 queries. users per second: 1910.56</pre>"
      ],
      "text/plain": [
       "recommendations finished on 50000/58628 queries. users per second: 1910.56"
      ]
     },
     "metadata": {},
     "output_type": "display_data"
    },
    {
     "data": {
      "text/html": [
       "<pre>recommendations finished on 51000/58628 queries. users per second: 1914.91</pre>"
      ],
      "text/plain": [
       "recommendations finished on 51000/58628 queries. users per second: 1914.91"
      ]
     },
     "metadata": {},
     "output_type": "display_data"
    },
    {
     "data": {
      "text/html": [
       "<pre>recommendations finished on 52000/58628 queries. users per second: 1918.04</pre>"
      ],
      "text/plain": [
       "recommendations finished on 52000/58628 queries. users per second: 1918.04"
      ]
     },
     "metadata": {},
     "output_type": "display_data"
    },
    {
     "data": {
      "text/html": [
       "<pre>recommendations finished on 53000/58628 queries. users per second: 1920.76</pre>"
      ],
      "text/plain": [
       "recommendations finished on 53000/58628 queries. users per second: 1920.76"
      ]
     },
     "metadata": {},
     "output_type": "display_data"
    },
    {
     "data": {
      "text/html": [
       "<pre>recommendations finished on 54000/58628 queries. users per second: 1922.24</pre>"
      ],
      "text/plain": [
       "recommendations finished on 54000/58628 queries. users per second: 1922.24"
      ]
     },
     "metadata": {},
     "output_type": "display_data"
    },
    {
     "data": {
      "text/html": [
       "<pre>recommendations finished on 55000/58628 queries. users per second: 1919.95</pre>"
      ],
      "text/plain": [
       "recommendations finished on 55000/58628 queries. users per second: 1919.95"
      ]
     },
     "metadata": {},
     "output_type": "display_data"
    },
    {
     "data": {
      "text/html": [
       "<pre>recommendations finished on 56000/58628 queries. users per second: 1918.8</pre>"
      ],
      "text/plain": [
       "recommendations finished on 56000/58628 queries. users per second: 1918.8"
      ]
     },
     "metadata": {},
     "output_type": "display_data"
    },
    {
     "data": {
      "text/html": [
       "<pre>recommendations finished on 57000/58628 queries. users per second: 1907.87</pre>"
      ],
      "text/plain": [
       "recommendations finished on 57000/58628 queries. users per second: 1907.87"
      ]
     },
     "metadata": {},
     "output_type": "display_data"
    },
    {
     "data": {
      "text/html": [
       "<pre>recommendations finished on 58000/58628 queries. users per second: 1877.75</pre>"
      ],
      "text/plain": [
       "recommendations finished on 58000/58628 queries. users per second: 1877.75"
      ]
     },
     "metadata": {},
     "output_type": "display_data"
    }
   ],
   "source": [
    "result = personalized_model.recommend(users=test_user, k = 1)['song']"
   ]
  },
  {
   "cell_type": "code",
   "execution_count": 92,
   "metadata": {
    "collapsed": false
   },
   "outputs": [
    {
     "data": {
      "text/plain": [
       "dtype: str\n",
       "Rows: 58628\n",
       "['Cuando Pase El Temblor - Soda Stereo', 'Grind With Me (Explicit Version) - Pretty Ricky', 'Hey_ Soul Sister - Train', 'Senza Una Donna (Without A Woman) - Zucchero / Paul Young', 'Heartbreak Warfare - John Mayer', \"Jive Talkin' (Album Version) - Bee Gees\", 'Ricordati Di Noi - Valerio Scanu', 'Fall Out - The Police', 'Clocks - Coldplay', 'Black Mirror - Arcade Fire', 'Sweet Baby James - James Taylor', 'Goodnight And Goodbye - Jonas Brothers', \"Everything You Touch We Touch First (America'S Mexican) - George Lopez\", 'Till You Return To Me - GROVER WASHINGTON_ JR.', 'Prenzlauerberg - Beirut', 'Find The Cost Of Freedom - Crosby_ Stills_ Nash & Young', 'Secrets - OneRepublic', 'Are You In? - Incubus', 'One Less Lonely Girl - Justin Bieber', 'Rabbit Heart (Raise It Up) - Florence + The Machine', 'Secrets - OneRepublic', \"You're The One - Dwight Yoakam\", 'What If (Film Version) - Kate Winslet', 'Alejandro - Lady GaGa', 'Bust a Move - Infected Mushroom', 'Murmullo - Buena Vista Social Club', 'Tengo Hambre - Calle 13', 'Isis (Spam Remix) - Alaska Y Dinarama', 'Felicidade - Suba  feat. Cibelle', 'This Is The Future - Owl City', 'Pages - 3 Doors Down', 'Secrets - OneRepublic', 'JUAN LOCO - Rodrigo y Gabriela', 'Revelry - Kings Of Leon', 'Lump Sum - Bon Iver', 'Secrets - OneRepublic', 'Mr Blue - Yazoo', \"When I Get Home You're So Dead (New Version) (Album) - Mayday Parade\", 'Who Can Compare - Foolish Things', 'Feeling This - Blink-182', 'Infected - Bad Religion', 'Matinée - Franz Ferdinand', 'Lump Sum - Bon Iver', 'Streets On Fire (Explicit Album Version) - Lupe Fiasco', 'We Like Sportz - The Lonely Island', 'Fantasy - The xx', 'Long Nights - Eddie Vedder', 'Chantilly Lace - Big Bopper', 'Fell On Black Days - Soundgarden', 'Never Know - Jack Johnson', 'My Life - Deviates', 'Revelry - Kings Of Leon', 'Inside Job - Pearl Jam', 'Three Times A Lady - Lionel Richie', 'Revelry - Kings Of Leon', 'Revelry - Kings Of Leon', 'Two Hearts - Phil Collins', 'Secrets - OneRepublic', 'Gente - Laura Pausini', 'Sueños - Juanes', 'Horn Concerto No. 4 in E flat K495: II. Romance (Andante cantabile) - Barry Tuckwell/Academy of St Martin-in-the-Fields/Sir Neville Marriner', 'Vanished - Crystal Castles', 'The Webs We Weave - Escape The Fate', 'Twilight Galaxy - Metric', 'Dragon Queen - Yeah Yeah Yeahs', 'Twilight Galaxy - Metric', 'Future Reflections - MGMT', \"Who'll Stop The Rain - Creedence Clearwater Revival\", 'Cold Water - Damien Rice', 'Red Right Ankle - The Decemberists', 'The Water - Feist', 'Secrets - OneRepublic', \"Ain't Misbehavin - Sam Cooke\", 'Little Black Sandals - Sia', 'Shoulder to shoulder 2009 - What We Feel', 'Fences - Phoenix', 'Goccia - Cristina Donà', 'Mr Sandman - The Chordettes', 'Undo - Björk', 'Bard Dance - Enya', 'My Own Hell - Five Finger Death Punch', 'Secrets - OneRepublic', 'Horn Concerto No. 4 in E flat K495: II. Romance (Andante cantabile) - Barry Tuckwell/Academy of St Martin-in-the-Fields/Sir Neville Marriner', 'Cudi Zone - Kid Cudi', 'Espera - Esperanza Spalding / Leo Genovese', 'Fortune Faded (Album Version) - Red Hot Chili Peppers', 'Solid State - Menno De Jong feat. Relocate', 'Melt! - Flying Lotus', 'Estadio Azteca - Andres Calamaro', 'Danny Boy - Celtic Woman', 'Oh What A Night - The Dells', 'Brand New Colony (Album) - Postal Service', 'The Wild Boys - Duran Duran', 'Hypnopaedia - Octopus Project', 'Fireflies - Charttraxx Karaoke', 'Catch You Baby (Steve Pitron & Max Sanna Radio Edit) - Lonnie Gordon', 'Succubus - Five Finger Death Punch', 'Hey_ Soul Sister - Train', 'RoboCop - Kanye West', 'We Like Sportz - The Lonely Island', ... ]"
      ]
     },
     "execution_count": 92,
     "metadata": {},
     "output_type": "execute_result"
    }
   ],
   "source": [
    "result\n"
   ]
  },
  {
   "cell_type": "code",
   "execution_count": 93,
   "metadata": {
    "collapsed": false
   },
   "outputs": [
    {
     "data": {
      "application/javascript": [
       "$(\"head\").append($(\"<link/>\").attr({\n",
       "  rel:  \"stylesheet\",\n",
       "  type: \"text/css\",\n",
       "  href: \"//cdnjs.cloudflare.com/ajax/libs/font-awesome/4.1.0/css/font-awesome.min.css\"\n",
       "}));\n",
       "$(\"head\").append($(\"<link/>\").attr({\n",
       "  rel:  \"stylesheet\",\n",
       "  type: \"text/css\",\n",
       "  href: \"//dato.com/files/canvas/1.8.2/css/canvas.css\"\n",
       "}));\n",
       "\n",
       "            (function(){\n",
       "\n",
       "                var e = null;\n",
       "                if (typeof element == 'undefined') {\n",
       "                    var scripts = document.getElementsByTagName('script');\n",
       "                    var thisScriptTag = scripts[scripts.length-1];\n",
       "                    var parentDiv = thisScriptTag.parentNode;\n",
       "                    e = document.createElement('div');\n",
       "                    parentDiv.appendChild(e);\n",
       "                } else {\n",
       "                    e = element[0];\n",
       "                }\n",
       "\n",
       "                if (typeof requirejs !== 'undefined') {\n",
       "                    // disable load timeout; ipython_app.js is large and can take a while to load.\n",
       "                    requirejs.config({waitSeconds: 0});\n",
       "                }\n",
       "\n",
       "                require(['//dato.com/files/canvas/1.8.2/js/ipython_app.js'], function(IPythonApp){\n",
       "                    var app = new IPythonApp();\n",
       "                    app.attachView('sarray','Categorical', {\"ipython\": true, \"sketch\": {\"complete\": true, \"numeric\": false, \"num_unique\": 5741, \"num_undefined\": 0, \"progress\": 1.0, \"frequent_items\": {\"Intro - Jay-Z\": {\"frequency\": 1, \"value\": \"Intro - Jay-Z\"}, \"Don't Be Shy - Cat Stevens\": {\"frequency\": 3, \"value\": \"Don't Be Shy - Cat ...\"}, \"Heavyweight - Infected Mushroom\": {\"frequency\": 3, \"value\": \"Heavyweight - ...\"}, \"I Could Fall In Love - Selena\": {\"frequency\": 7, \"value\": \"I Could Fall In ...\"}, \"I'm Still A Guy - Brad Paisley\": {\"frequency\": 10, \"value\": \"I'm Still A Guy - ...\"}, \"Rock Star - N.E.R.D.\": {\"frequency\": 19, \"value\": \"Rock Star - ...\"}, \"Some Unholy War - Amy Winehouse\": {\"frequency\": 32, \"value\": \"Some Unholy War - ...\"}, \"Kiss With A Fist - Florence + The Machine\": {\"frequency\": 19, \"value\": \"Kiss With A Fist - ...\"}, \"Tighten Up - The Black Keys\": {\"frequency\": 2, \"value\": \"Tighten Up - The ...\"}, \"Sehnsucht - Rammstein\": {\"frequency\": 1, \"value\": \"Sehnsucht - ...\"}, \"He's A Pirate - Klaus Badelt\": {\"frequency\": 3, \"value\": \"He's A Pirate - ...\"}, \"The Mess I Made - Parachute\": {\"frequency\": 2, \"value\": \"The Mess I Made - ...\"}, \"Too Much (LP Version) - Pepper\": {\"frequency\": 2, \"value\": \"Too Much (LP ...\"}, \"Nobody Weird Like Me (2003 Digital Remaster) - Red Hot Chili Peppers\": {\"frequency\": 4, \"value\": \"Nobody Weird Like ...\"}, \"Ghosts 'n' Stuff (Original Instrumental Mix) - Deadmau5\": {\"frequency\": 13, \"value\": \"Ghosts 'n' Stuff ...\"}, \"Opening Up (Ce Soir On Danse) - Chromeo\": {\"frequency\": 23, \"value\": \"Opening Up (Ce ...\"}, \"Three Cheers For Five Years - Mayday Parade\": {\"frequency\": 2, \"value\": \"Three Cheers For ...\"}, \"I So Hate Consequences (Album Version) - Relient K\": {\"frequency\": 5, \"value\": \"I So Hate ...\"}, \"Tacobel Canon - Ratatat\": {\"frequency\": 10, \"value\": \"Tacobel Canon - ...\"}, \"Me Demoro (vivo) - Joe Vasconcellos\": {\"frequency\": 2, \"value\": \"Me Demoro (vivo) - ...\"}, \"Fear - OneRepublic\": {\"frequency\": 29, \"value\": \"Fear - OneRepublic\"}, \"It Stops Today - Colbie Caillat\": {\"frequency\": 5, \"value\": \"It Stops Today - ...\"}, \"Blackest Eyes (Album Version) - Porcupine Tree\": {\"frequency\": 4, \"value\": \"Blackest Eyes ...\"}, \"Bandelero - Slightly Stoopid\": {\"frequency\": 7, \"value\": \"Bandelero - ...\"}, \"Guerrilla Monsoon Rap - Talib Kweli / Pharoahe Monch / Black Thought\": {\"frequency\": 8, \"value\": \"Guerrilla Monsoon ...\"}, \"Heart And Soul - Huey Lewis & The News\": {\"frequency\": 24, \"value\": \"Heart And Soul - ...\"}, \"Reckless - Crystal Castles\": {\"frequency\": 5, \"value\": \"Reckless - Crystal ...\"}, \"Surfacing (Live version) (Album Version) - Slipknot\": {\"frequency\": 39, \"value\": \"Surfacing (Live ...\"}, \"Get Crazy - LMFAO\": {\"frequency\": 17, \"value\": \"Get Crazy - LMFAO\"}, \"Girls On Film - Duran Duran\": {\"frequency\": 2, \"value\": \"Girls On Film - ...\"}, \"Fog. Vs. Mould For The Next Of Love - Interpol\": {\"frequency\": 2, \"value\": \"Fog. Vs. Mould For ...\"}, \"Don't Forget - Demi Lovato\": {\"frequency\": 1, \"value\": \"Don't Forget - ...\"}, \"She Don't Want The World - 3 Doors Down\": {\"frequency\": 1, \"value\": \"She Don't Want The ...\"}, \"Eruption (Album Version) - Van Halen\": {\"frequency\": 5, \"value\": \"Eruption (Album ...\"}, \"On The Road Again - Katie Melua\": {\"frequency\": 47, \"value\": \"On The Road Again ...\"}, \"The Truth (Sick Of It All Cover Version) - Bleeding Through\": {\"frequency\": 13, \"value\": \"The Truth (Sick Of ...\"}, \"Mr Wendal (Edit) - ARRESTED DEVELOPMENT\": {\"frequency\": 1, \"value\": \"Mr Wendal (Edit) - ...\"}, \"Brown Skin - India.Arie\": {\"frequency\": 2, \"value\": \"Brown Skin - ...\"}, \"Broken - Jack Johnson\": {\"frequency\": 9, \"value\": \"Broken - Jack ...\"}, \"Amazing Grace (1999 Digital Remaster) - Bryan Ferry\": {\"frequency\": 1, \"value\": \"Amazing Grace ...\"}, \"Hypnos - Madder Mortem\": {\"frequency\": 5, \"value\": \"Hypnos - Madder ...\"}, \"Melodies & Desires - Lykke Li\": {\"frequency\": 6, \"value\": \"Melodies & Desires ...\"}, \"16 Candles - The Crests\": {\"frequency\": 27, \"value\": \"16 Candles - The ...\"}, \"Sludge Factory - Alice In Chains\": {\"frequency\": 5, \"value\": \"Sludge Factory - ...\"}, \"Music Box - The Cinematic Orchestra feat. Lou Rhodes\": {\"frequency\": 4, \"value\": \"Music Box - The ...\"}, \"I'm Ready (Album Version) - Jack's Mannequin\": {\"frequency\": 2, \"value\": \"I'm Ready (Album ...\"}, \"Pink Triangle - Weezer\": {\"frequency\": 7, \"value\": \"Pink Triangle - ...\"}, \"Paulina - No Doubt\": {\"frequency\": 5, \"value\": \"Paulina - No Doubt\"}, \"You Only Live Twice (Live From Norway) - Coldplay\": {\"frequency\": 7, \"value\": \"You Only Live ...\"}, \"You Give Love A Bad Name - Bon Jovi\": {\"frequency\": 8, \"value\": \"You Give Love A ...\"}, \"She Is My Sin - Nightwish\": {\"frequency\": 5, \"value\": \"She Is My Sin - ...\"}, \"Some Kind Of Miracle - Kelly Clarkson\": {\"frequency\": 2, \"value\": \"Some Kind Of ...\"}, \"The Stallion - Ween\": {\"frequency\": 16, \"value\": \"The Stallion - ...\"}, \"Cocaine Habit - Old Crow Medicine Show\": {\"frequency\": 13, \"value\": \"Cocaine Habit - ...\"}, \"Fiery Crash - Andrew Bird\": {\"frequency\": 3, \"value\": \"Fiery Crash - ...\"}, \"Speak Of The Devil (Album Version) - A Day To Remember\": {\"frequency\": 4, \"value\": \"Speak Of The Devil ...\"}, \"When You Come Back Down - Nickel Creek\": {\"frequency\": 4, \"value\": \"When You Come Back ...\"}, \"Better Than Me - Hinder\": {\"frequency\": 2, \"value\": \"Better Than Me - ...\"}, \"Paper Aeroplane - Angus & Julia Stone\": {\"frequency\": 1, \"value\": \"Paper Aeroplane - ...\"}, \"Twilight Galaxy - Metric\": {\"frequency\": 74, \"value\": \"Twilight Galaxy - ...\"}, \"I Think Ur A Contra - Vampire Weekend\": {\"frequency\": 4, \"value\": \"I Think Ur A ...\"}, \"Mas Vale Cholo - Molotov\": {\"frequency\": 8, \"value\": \"Mas Vale Cholo - ...\"}, \"Lucky (Album Version) - Jason Mraz & Colbie Caillat\": {\"frequency\": 19, \"value\": \"Lucky (Album ...\"}, \"StreetLove - Lloyd\": {\"frequency\": 2, \"value\": \"StreetLove - Lloyd\"}, \"Call U Out (Album Version) - Cassie\": {\"frequency\": 13, \"value\": \"Call U Out (Album ...\"}, \"So In Love (The Real Deal) (Frankie Foncett Vocal Mix) - Judy Cheeks\": {\"frequency\": 6, \"value\": \"So In Love (The ...\"}, \"My Doorbell (Album Version) - The White Stripes\": {\"frequency\": 2, \"value\": \"My Doorbell (Album ...\"}, \"Just A Little Heat - The Black Keys\": {\"frequency\": 1, \"value\": \"Just A Little Heat ...\"}, \"Mad House - Rihanna\": {\"frequency\": 1, \"value\": \"Mad House - ...\"}, \"Society - Eddie Vedder\": {\"frequency\": 34, \"value\": \"Society - Eddie ...\"}, \"I Was Meant For the Stage - The Decemberists\": {\"frequency\": 17, \"value\": \"I Was Meant For ...\"}, \"Written On The Sky - Max Richter\": {\"frequency\": 2, \"value\": \"Written On The Sky ...\"}, \"I'm Goin' Down - Bruce Springsteen\": {\"frequency\": 2, \"value\": \"I'm Goin' Down - ...\"}, \"I'm On Fire - Bruce Springsteen\": {\"frequency\": 2, \"value\": \"I'm On Fire - ...\"}, \"Aerodynamic - Daft Punk\": {\"frequency\": 3, \"value\": \"Aerodynamic - Daft ...\"}, \"Phoenix (Basement Jaxx Remix) - Daft Punk\": {\"frequency\": 6, \"value\": \"Phoenix (Basement ...\"}, \"This Is Your Life - The Killers\": {\"frequency\": 7, \"value\": \"This Is Your Life ...\"}, \"Starlight - Muse\": {\"frequency\": 5, \"value\": \"Starlight - Muse\"}, \"Hail To Whatever You Found In The Sunlight That Surrounds You - Rilo Kiley\": {\"frequency\": 1, \"value\": \"Hail To Whatever ...\"}, \"Octavo D\\ufffd\\ufffda - Shakira\": {\"frequency\": 18, \"value\": \"Octavo D\\u00eda - ...\"}, \"B-B-B-Baby - The Disco Boys\": {\"frequency\": 9, \"value\": \"B-B-B-Baby - The ...\"}, \"I Got A Feelin' - Billy Currington\": {\"frequency\": 14, \"value\": \"I Got A Feelin' - ...\"}, \"Condom (Album Version) - Todd Barry\": {\"frequency\": 1, \"value\": \"Condom (Album ...\"}, \"Drunken Lullabies - Flogging Molly\": {\"frequency\": 3, \"value\": \"Drunken Lullabies ...\"}, \"Violet - Hole\": {\"frequency\": 3, \"value\": \"Violet - Hole\"}, \"Ain't Misbehavin - Sam Cooke\": {\"frequency\": 121, \"value\": \"Ain't Misbehavin - ...\"}, \"Black Heroes - Ratatat\": {\"frequency\": 4, \"value\": \"Black Heroes - ...\"}, \"Miss Your Touch (Album Version) - Cassie\": {\"frequency\": 12, \"value\": \"Miss Your Touch ...\"}, \"Savior - Rise Against\": {\"frequency\": 2, \"value\": \"Savior - Rise ...\"}, \"Read My Mind - The Killers\": {\"frequency\": 4, \"value\": \"Read My Mind - The ...\"}, \"Every Morning - Basshunter\": {\"frequency\": 4, \"value\": \"Every Morning - ...\"}, \"The Wrestle - Frightened Rabbit\": {\"frequency\": 1, \"value\": \"The Wrestle - ...\"}, \"Strict Machine - Goldfrapp\": {\"frequency\": 3, \"value\": \"Strict Machine - ...\"}, \"Call Me When You Get This - Corinne Bailey Rae\": {\"frequency\": 3, \"value\": \"Call Me When You ...\"}, \"You'll Never Know (My Love) (Bovellian 07 Mix) - Edwyn Collins\": {\"frequency\": 22, \"value\": \"You'll Never Know ...\"}, \"Your Mother's Here To Stay  (LP Version) - Allan Sherman\": {\"frequency\": 14, \"value\": \"Your Mother's Here ...\"}, \"It's Tricky - RUN-DMC\": {\"frequency\": 1, \"value\": \"It's Tricky - RUN- ...\"}, \"Heys\\ufffd\\ufffdtan - Sigur R\\ufffd\\ufffds\": {\"frequency\": 5, \"value\": \"Heys\\u00e1tan - Sigur ...\"}, \"Rollercoaster Ride - The Whitest Boy Alive\": {\"frequency\": 14, \"value\": \"Rollercoaster Ride ...\"}, \"American Idiot [feat. Green Day & The Cast Of American Idiot] (Album Version) - Green Day\": {\"frequency\": 1, \"value\": \"American Idiot ...\"}, \"Flesh Into Gear - CKY\": {\"frequency\": 2, \"value\": \"Flesh Into Gear - ...\"}, \"Last Caress - The Misfits\": {\"frequency\": 4, \"value\": \"Last Caress - The ...\"}, \"Move Away - The Killers\": {\"frequency\": 2, \"value\": \"Move Away - The ...\"}, \"Jailhouse Rock - The Blues Brothers\": {\"frequency\": 2, \"value\": \"Jailhouse Rock - ...\"}, \"Love Is Here - Tenth Avenue North\": {\"frequency\": 30, \"value\": \"Love Is Here - ...\"}, \"Suena tu guitarra - Fernando Soto\": {\"frequency\": 5, \"value\": \"Suena tu guitarra ...\"}, \"We Could Forever - Bonobo\": {\"frequency\": 16, \"value\": \"We Could Forever - ...\"}, \"Holiday - Weezer\": {\"frequency\": 21, \"value\": \"Holiday - Weezer\"}, \"Falling for You - Jem\": {\"frequency\": 1, \"value\": \"Falling for You - ...\"}, \"Pimpa's Paradise - Damian Marley / Stephen Marley / Black Thought\": {\"frequency\": 7, \"value\": \"Pimpa's Paradise - ...\"}, \"I Can Talk - Two Door Cinema Club\": {\"frequency\": 15, \"value\": \"I Can Talk - Two ...\"}, \"One Day Too Late (Album Version) - Skillet\": {\"frequency\": 50, \"value\": \"One Day Too Late ...\"}, \"End Of The Road - Eddie Vedder\": {\"frequency\": 21, \"value\": \"End Of The Road - ...\"}, \"El Capitalismo For\\ufffd\\ufffdneo - Gotan Project\": {\"frequency\": 8, \"value\": \"El Capitalismo ...\"}, \"Bag Lady - Erykah Badu\": {\"frequency\": 3, \"value\": \"Bag Lady - Erykah ...\"}, \"Hiding - Violet Indiana\": {\"frequency\": 22, \"value\": \"Hiding - Violet ...\"}, \"Orestes - A Perfect Circle\": {\"frequency\": 33, \"value\": \"Orestes - A ...\"}, \"Little House - Amanda Seyfried\": {\"frequency\": 9, \"value\": \"Little House - ...\"}, \"Saxuality - Candy Dulfer\": {\"frequency\": 1, \"value\": \"Saxuality - Candy ...\"}, \"Itchy Feet - Leggo Beast\": {\"frequency\": 1, \"value\": \"Itchy Feet - Leggo ...\"}, \"El tiempo no para - Bersuit Vergarabat\": {\"frequency\": 1, \"value\": \"El tiempo no para ...\"}, \"Bewildered - The Notting Hillbillies\": {\"frequency\": 1, \"value\": \"Bewildered - The ...\"}, \"Para Tu Amor - Juanes\": {\"frequency\": 19, \"value\": \"Para Tu Amor - ...\"}, \"Blue - A Perfect Circle\": {\"frequency\": 2, \"value\": \"Blue - A Perfect ...\"}, \"Our House - Crosby_ Stills_ Nash and Young\": {\"frequency\": 3, \"value\": \"Our House - ...\"}, \"Tied Together With A Smile - Taylor Swift\": {\"frequency\": 50, \"value\": \"Tied Together With ...\"}, \"Rainy Days And Mondays - Carpenters\": {\"frequency\": 4, \"value\": \"Rainy Days And ...\"}, \"Phenomenon - Thousand Foot Krutch\": {\"frequency\": 5, \"value\": \"Phenomenon - ...\"}, \"Infected - Bad Religion\": {\"frequency\": 1, \"value\": \"Infected - Bad ...\"}, \"I'm Not Calling You A Liar - Florence + The Machine\": {\"frequency\": 153, \"value\": \"I'm Not Calling ...\"}, \"Murguita Del Sur - Bersuit Vergarabat\": {\"frequency\": 16, \"value\": \"Murguita Del Sur - ...\"}, \"To All The Girls I've Loved Before (With Julio Iglesias) - Julio Iglesias duet with Willie Nelson\": {\"frequency\": 1, \"value\": \"To All The Girls ...\"}, \"The Way You Do The Things You Do (2009 Digital Remaster) - UB40\": {\"frequency\": 3, \"value\": \"The Way You Do The ...\"}, \"The Greatest View (Album Version) - Silverchair\": {\"frequency\": 1, \"value\": \"The Greatest View ...\"}, \"The Food - Common\": {\"frequency\": 3, \"value\": \"The Food - Common\"}, \"Espera - Esperanza Spalding / Leo Genovese\": {\"frequency\": 10, \"value\": \"Espera - Esperanza ...\"}, \"Long Way Home - ATB\": {\"frequency\": 10, \"value\": \"Long Way Home - ...\"}, \"Roses Are Red - Aqua\": {\"frequency\": 8, \"value\": \"Roses Are Red - ...\"}, \"Fire Water Burn - Bloodhound Gang\": {\"frequency\": 9, \"value\": \"Fire Water Burn - ...\"}, \"Come To Me - Bj\\ufffd\\ufffdrk\": {\"frequency\": 1, \"value\": \"Come To Me - Bj\\u00f6rk\"}, \"Stormtrooper (LP Version) - Pepper\": {\"frequency\": 5, \"value\": \"Stormtrooper (LP ...\"}, \"Never As Good As The First Time - Sade\": {\"frequency\": 37, \"value\": \"Never As Good As ...\"}, \"She Don't Have To Know - John Legend\": {\"frequency\": 1, \"value\": \"She Don't Have To ...\"}, \"King of Spain - The Tallest Man On Earth\": {\"frequency\": 1, \"value\": \"King of Spain - ...\"}, \"Bust a Move - Infected Mushroom\": {\"frequency\": 3, \"value\": \"Bust a Move - ...\"}, \"Reign of Terror - Beneath the Massacre\": {\"frequency\": 21, \"value\": \"Reign of Terror - ...\"}, \"Bebot - Black Eyed Peas\": {\"frequency\": 1, \"value\": \"Bebot - Black Eyed ...\"}, \"Yes_ I Would - Frightened Rabbit\": {\"frequency\": 1, \"value\": \"Yes_ I Would - ...\"}, \"To Zion - Lauryn Hill Featuring Carlos Santana\": {\"frequency\": 17, \"value\": \"To Zion - Lauryn ...\"}, \"Time Flies - Lykke Li\": {\"frequency\": 24, \"value\": \"Time Flies - Lykke ...\"}, \"Serve The Servants - Nirvana\": {\"frequency\": 2, \"value\": \"Serve The Servants ...\"}, \"Postcards From Far Away - Coldplay\": {\"frequency\": 1, \"value\": \"Postcards From Far ...\"}, \"Ballad Of Big Nothing - Elliott Smith\": {\"frequency\": 11, \"value\": \"Ballad Of Big ...\"}, \"Gia - Despina Vandi\": {\"frequency\": 2, \"value\": \"Gia - Despina ...\"}, \"The End Of Medicine - The New Pornographers\": {\"frequency\": 1, \"value\": \"The End Of ...\"}, \"Walcott (Album) - Vampire Weekend\": {\"frequency\": 7, \"value\": \"Walcott (Album) - ...\"}, \"Used To Love Her - Guns N' Roses\": {\"frequency\": 2, \"value\": \"Used To Love Her - ...\"}, \"Underground - 1001\": {\"frequency\": 2, \"value\": \"Underground - 1001\"}, \"Pain Redefined (Album Version) - Disturbed\": {\"frequency\": 1, \"value\": \"Pain Redefined ...\"}, \"Sofa King - Dangerdoom\": {\"frequency\": 11, \"value\": \"Sofa King - ...\"}, \"Survival - Pursuit Of Happiness\": {\"frequency\": 1, \"value\": \"Survival - Pursuit ...\"}, \"En La Ciudad De La Furia - Soda Stereo\": {\"frequency\": 2, \"value\": \"En La Ciudad De La ...\"}, \"The Meaning Of Love (Single Version) - Depeche Mode\": {\"frequency\": 3, \"value\": \"The Meaning Of ...\"}, \"Cuando Me Enamoro (Quando M'Innamoro) - Andrea Bocelli\": {\"frequency\": 15, \"value\": \"Cuando Me Enamoro ...\"}, \"Patience - Guns N' Roses\": {\"frequency\": 13, \"value\": \"Patience - Guns N' ...\"}, \"The Resistance - Anberlin\": {\"frequency\": 1, \"value\": \"The Resistance - ...\"}, \"Di\\ufffd\\ufffdkdal - Szarka Gyula\": {\"frequency\": 1, \"value\": \"Di\\u00e1kdal - Szarka ...\"}, \"I've Got Your Number - Passion Pit\": {\"frequency\": 13, \"value\": \"I've Got Your ...\"}, \"Again - Pnau\": {\"frequency\": 1, \"value\": \"Again - Pnau\"}, \"Interstate 8 - Modest Mouse\": {\"frequency\": 3, \"value\": \"Interstate 8 - ...\"}, \"Save The World - Venus Hum\": {\"frequency\": 2, \"value\": \"Save The World - ...\"}, \"Life Burns! - Apocalyptica\": {\"frequency\": 3, \"value\": \"Life Burns! - ...\"}, \"John The Fisherman - Primus\": {\"frequency\": 1, \"value\": \"John The Fisherman ...\"}, \"B\\ufffd\\ufffdck Dich - Rammstein\": {\"frequency\": 1, \"value\": \"B\\u00fcck Dich - ...\"}, \"Sic 'Em On A Chicken (Album) - Zac Brown Band\": {\"frequency\": 3, \"value\": \"Sic 'Em On A ...\"}, \"Dance To The Music - Sly & The Family Stone\": {\"frequency\": 6, \"value\": \"Dance To The Music ...\"}, \"Debaser - Pixies\": {\"frequency\": 12, \"value\": \"Debaser - Pixies\"}, \"No Limit - 2 Unlimited\": {\"frequency\": 1, \"value\": \"No Limit - 2 ...\"}, \"Naked Sunday (LP Version) - Stone Temple Pilots\": {\"frequency\": 4, \"value\": \"Naked Sunday (LP ...\"}, \"Don't Stop The Music - Rihanna\": {\"frequency\": 8, \"value\": \"Don't Stop The ...\"}, \"Life Ain't Always Beautiful - Gary Allan\": {\"frequency\": 6, \"value\": \"Life Ain't Always ...\"}, \"Carnival - The Cardigans\": {\"frequency\": 1, \"value\": \"Carnival - The ...\"}, \"(Antichrist Television Blues) - Arcade Fire\": {\"frequency\": 7, \"value\": \"(Antichrist ...\"}, \"Everything Changes (Album Version) - Staind\": {\"frequency\": 1, \"value\": \"Everything Changes ...\"}, \"Kryptonite - 3 Doors Down\": {\"frequency\": 31, \"value\": \"Kryptonite - 3 ...\"}, \"The Finish Line - Snow Patrol\": {\"frequency\": 5, \"value\": \"The Finish Line - ...\"}, \"Your House - Jimmy Eat World\": {\"frequency\": 2, \"value\": \"Your House - Jimmy ...\"}, \"My Name Is - Eminem\": {\"frequency\": 82, \"value\": \"My Name Is - ...\"}, \"Honey_ This Mirror Isn't Big Enough For The Two Of Us - My Chemical Romance\": {\"frequency\": 6, \"value\": \"Honey_ This Mirror ...\"}, \"The Technicolor Phase - Owl City\": {\"frequency\": 1, \"value\": \"The Technicolor ...\"}, \"Can't Stop - Maroon 5\": {\"frequency\": 11, \"value\": \"Can't Stop - ...\"}, \"I Am The Resurrection - The Stone Roses\": {\"frequency\": 3, \"value\": \"I Am The ...\"}, \"Car Crash - Matt Nathanson\": {\"frequency\": 3, \"value\": \"Car Crash - Matt ...\"}, \"Situations - Jack Johnson\": {\"frequency\": 7, \"value\": \"Situations - Jack ...\"}, \"Courtship Dating - Crystal Castles\": {\"frequency\": 2, \"value\": \"Courtship Dating - ...\"}, \"Stupid In Love - Rihanna\": {\"frequency\": 13, \"value\": \"Stupid In Love - ...\"}, \"Shooting Star - Bad Company\": {\"frequency\": 1, \"value\": \"Shooting Star - ...\"}, \"I'll Give All My Love To You (feat. Monica) - Keith Sweat\": {\"frequency\": 1, \"value\": \"I'll Give All My ...\"}, \"Earth Angel - Penguins\": {\"frequency\": 1, \"value\": \"Earth Angel - ...\"}, \"Run Run Run - Phoenix\": {\"frequency\": 7, \"value\": \"Run Run Run - ...\"}, \"Used To Be - Beach House\": {\"frequency\": 11, \"value\": \"Used To Be - Beach ...\"}, \"Faust Arp - Radiohead\": {\"frequency\": 28, \"value\": \"Faust Arp - ...\"}, \"Purple Rain - Prince & The Revolution\": {\"frequency\": 3, \"value\": \"Purple Rain - ...\"}, \"Conteo - Don Omar\": {\"frequency\": 1, \"value\": \"Conteo - Don Omar\"}, \"Janglin - Edward Sharpe & The Magnetic Zeros\": {\"frequency\": 3, \"value\": \"Janglin - Edward ...\"}, \"Slow Moves - Jos\\ufffd\\ufffd Gonz\\ufffd\\ufffdlez\": {\"frequency\": 10, \"value\": \"Slow Moves - Jos\\u00e9 ...\"}, \"Voy a Extra\\ufffd\\ufffdarte - Andr\\ufffd\\ufffds Cepeda\": {\"frequency\": 7, \"value\": \"Voy a Extra\\u00f1arte - ...\"}, \"O Segundo Sol - Nando Reis\": {\"frequency\": 4, \"value\": \"O Segundo Sol - ...\"}, \"Smile Jamaica - Bob Marley & The Wailers\": {\"frequency\": 8, \"value\": \"Smile Jamaica - ...\"}, \"Doin' It - LL Cool J\": {\"frequency\": 2, \"value\": \"Doin' It - LL Cool ...\"}, \"Talamak - Toro Y Moi\": {\"frequency\": 2, \"value\": \"Talamak - Toro Y ...\"}, \"Congratulations - Traveling Wilburys\": {\"frequency\": 25, \"value\": \"Congratulations - ...\"}, \"Alive (2006 Remastered Album Version) - P.O.D.\": {\"frequency\": 3, \"value\": \"Alive (2006 ...\"}, \"A Book Like This - Angus & Julia Stone\": {\"frequency\": 4, \"value\": \"A Book Like This - ...\"}, \"One Minute To Midnight - Justice\": {\"frequency\": 13, \"value\": \"One Minute To ...\"}, \"Esperame - Barricada\": {\"frequency\": 1, \"value\": \"Esperame - ...\"}, \"It's Not Over - Daughtry\": {\"frequency\": 6, \"value\": \"It's Not Over - ...\"}, \"Empty Skies - Kosheen\": {\"frequency\": 11, \"value\": \"Empty Skies - ...\"}, \"So Confused (feat. Butta Creame) (amended album version) - Pretty Ricky\": {\"frequency\": 7, \"value\": \"So Confused (feat. ...\"}, \"Swagger - Flogging Molly\": {\"frequency\": 44, \"value\": \"Swagger - Flogging ...\"}, \"Keep A Secret - The Whitest Boy Alive\": {\"frequency\": 15, \"value\": \"Keep A Secret - ...\"}, \"Holdin' On Together - Phoenix\": {\"frequency\": 1, \"value\": \"Holdin' On ...\"}, \"Shake Down - Akon\": {\"frequency\": 1, \"value\": \"Shake Down - Akon\"}, \"Brand New Day - Sting\": {\"frequency\": 2, \"value\": \"Brand New Day - ...\"}, \"Airwar - Crystal Castles\": {\"frequency\": 1, \"value\": \"Airwar - Crystal ...\"}, \"All We Are - OneRepublic\": {\"frequency\": 1, \"value\": \"All We Are - ...\"}, \"Glorious - Muse\": {\"frequency\": 18, \"value\": \"Glorious - Muse\"}, \"Slightly Drifting - The Mercury Program\": {\"frequency\": 2, \"value\": \"Slightly Drifting ...\"}, \"Question Existing - Rihanna\": {\"frequency\": 3, \"value\": \"Question Existing ...\"}, \"Terre Promise - O'Rosko Raricim\": {\"frequency\": 4, \"value\": \"Terre Promise - ...\"}, \"Desire - Ryan Adams\": {\"frequency\": 1, \"value\": \"Desire - Ryan ...\"}, \"Grease (LP Version) - Frankie Valli\": {\"frequency\": 8, \"value\": \"Grease (LP ...\"}, \"Why - Sticky Fingaz / Still Living / X-1\": {\"frequency\": 51, \"value\": \"Why - Sticky ...\"}, \"Under The Sun (Album Version) - Sugar Ray\": {\"frequency\": 1, \"value\": \"Under The Sun ...\"}, \"Whisper - Evanescence\": {\"frequency\": 14, \"value\": \"Whisper - ...\"}, \"Sidewinder (Album Version) - Avenged Sevenfold\": {\"frequency\": 12, \"value\": \"Sidewinder (Album ...\"}, \"Long Black Train - Josh Turner\": {\"frequency\": 20, \"value\": \"Long Black Train - ...\"}, \"Latin Static - Sound 5\": {\"frequency\": 4, \"value\": \"Latin Static - ...\"}, \"Furious Rose - Lisa Loeb\": {\"frequency\": 15, \"value\": \"Furious Rose - ...\"}, \"Shadow Feet - Brooke Fraser\": {\"frequency\": 6, \"value\": \"Shadow Feet - ...\"}, \"Pumpkin Soup - Kate Nash\": {\"frequency\": 4, \"value\": \"Pumpkin Soup - ...\"}, \"Mujeres - Silvio Rodr\\ufffd\\ufffdguez\": {\"frequency\": 2, \"value\": \"Mujeres - Silvio ...\"}, \"I Found A Whistle - MGMT\": {\"frequency\": 8, \"value\": \"I Found A Whistle ...\"}, \"Story - Maroon 5\": {\"frequency\": 2, \"value\": \"Story - Maroon 5\"}, \"Electric Bloom - Foals\": {\"frequency\": 2, \"value\": \"Electric Bloom - ...\"}, \"Drunk Girls - LCD Soundsystem\": {\"frequency\": 4, \"value\": \"Drunk Girls - LCD ...\"}, \"Ego - Beyonc\\ufffd\\ufffd\": {\"frequency\": 2, \"value\": \"Ego - Beyonc\\u00e9\"}, \"Helena (So Long & Goodnight) (Album Version) - My Chemical Romance\": {\"frequency\": 4, \"value\": \"Helena (So Long & ...\"}, \"Poison Lips - Vitalic\": {\"frequency\": 1, \"value\": \"Poison Lips - ...\"}, \"Bring Your Daughter...To The Slaughter (1998 Digital Remaster) - Iron Maiden\": {\"frequency\": 6, \"value\": \"Bring Your ...\"}, \"Only You - Portishead\": {\"frequency\": 10, \"value\": \"Only You - ...\"}, \"Shh - Frou Frou\": {\"frequency\": 2, \"value\": \"Shh - Frou Frou\"}, \"Gunpowder - Strike Anywhere\": {\"frequency\": 3, \"value\": \"Gunpowder - Strike ...\"}, \"Cold Water - Damien Rice\": {\"frequency\": 12, \"value\": \"Cold Water - ...\"}, \"These Streets [Album Version] - Paolo Nutini\": {\"frequency\": 2, \"value\": \"These Streets ...\"}, \"Costume Party - Two Door Cinema Club\": {\"frequency\": 7, \"value\": \"Costume Party - ...\"}, \"Demon Speeding - Rob Zombie\": {\"frequency\": 5, \"value\": \"Demon Speeding - ...\"}, \"Only Happy When It Rains - Garbage\": {\"frequency\": 4, \"value\": \"Only Happy When It ...\"}, \"If I Had You - Adam Lambert\": {\"frequency\": 12, \"value\": \"If I Had You - ...\"}, \"Nothing Can Come Between Us - Sade\": {\"frequency\": 2, \"value\": \"Nothing Can Come ...\"}, \"Oh_ La - Ra Ra Riot\": {\"frequency\": 2, \"value\": \"Oh_ La - Ra Ra ...\"}, \"Colossal - Wolfmother\": {\"frequency\": 1, \"value\": \"Colossal - ...\"}, \"Luno - Bloc Party\": {\"frequency\": 1, \"value\": \"Luno - Bloc Party\"}, \"Leaf House - Animal Collective\": {\"frequency\": 2, \"value\": \"Leaf House - ...\"}, \"The Hardest Part - Ryan Adams & The Cardinals\": {\"frequency\": 9, \"value\": \"The Hardest Part - ...\"}, \"Let It Die - Feist\": {\"frequency\": 3, \"value\": \"Let It Die - Feist\"}, \"Ruby Soho (Album Version) - Rancid\": {\"frequency\": 7, \"value\": \"Ruby Soho (Album ...\"}, \"Heresy  (LP Version) - Pantera\": {\"frequency\": 10, \"value\": \"Heresy  (LP ...\"}, \"The KKK Took My Baby Away (LP Version ) - Ramones\": {\"frequency\": 1, \"value\": \"The KKK Took My ...\"}, \"Con Te Partir\\ufffd\\ufffd - Andrea Bocelli\": {\"frequency\": 2, \"value\": \"Con Te Partir\\u00f2 - ...\"}, \"Hard Headed Woman - Cat Stevens\": {\"frequency\": 46, \"value\": \"Hard Headed Woman ...\"}, \"Can I Get Witcha (Featuring Lil' Cease)(Album Version) - The Notorious B.I.G.\": {\"frequency\": 3, \"value\": \"Can I Get Witcha ...\"}, \"I Won't - Colbie Caillat\": {\"frequency\": 11, \"value\": \"I Won't - Colbie ...\"}, \"Bulls On Parade - Rage Against The Machine\": {\"frequency\": 1, \"value\": \"Bulls On Parade - ...\"}, \"Meadowlarks - Fleet Foxes\": {\"frequency\": 65, \"value\": \"Meadowlarks - ...\"}, \"OHNE DICH - Rammstein\": {\"frequency\": 24, \"value\": \"OHNE DICH - ...\"}, \"Yet Another Day - Armin van Buuren\": {\"frequency\": 9, \"value\": \"Yet Another Day - ...\"}, \"Big Trouble - Man Man\": {\"frequency\": 2, \"value\": \"Big Trouble - Man ...\"}, \"Wet Blanket - Metric\": {\"frequency\": 1, \"value\": \"Wet Blanket - ...\"}, \"Dream A Little Dream Of Me - The Mamas & The Papas\": {\"frequency\": 2, \"value\": \"Dream A Little ...\"}, \"Out There On The Ice - Cut Copy\": {\"frequency\": 3, \"value\": \"Out There On The ...\"}, \"Lamb on the Lam (In the City) (Album) - Band Of Horses\": {\"frequency\": 2, \"value\": \"Lamb on the Lam ...\"}, \"Your Arms Feel Like home - 3 Doors Down\": {\"frequency\": 6, \"value\": \"Your Arms Feel ...\"}, \"Hope There's Someone - Antony & The Johnsons\": {\"frequency\": 3, \"value\": \"Hope There's ...\"}, \"Shots - LMFAO / Lil Jon\": {\"frequency\": 19, \"value\": \"Shots - LMFAO / ...\"}, \"Intuition - Keri Hilson\": {\"frequency\": 1, \"value\": \"Intuition - Keri ...\"}, \"Peacebone - Animal Collective\": {\"frequency\": 1, \"value\": \"Peacebone - Animal ...\"}, \"The Whole World - Outkast Featuring Killer Mike\": {\"frequency\": 5, \"value\": \"The Whole World - ...\"}, \"Costruire - Niccol\\ufffd\\ufffd Fabi\": {\"frequency\": 57, \"value\": \"Costruire - ...\"}, \"Magic Bus - The Who\": {\"frequency\": 1, \"value\": \"Magic Bus - The ...\"}, \"Thank You - Dido\": {\"frequency\": 1, \"value\": \"Thank You - Dido\"}, \"Me Da Igual - Camila\": {\"frequency\": 13, \"value\": \"Me Da Igual - ...\"}, \"Got Some - Pearl Jam\": {\"frequency\": 8, \"value\": \"Got Some - Pearl ...\"}, \"Chump (Album Version) - Green Day\": {\"frequency\": 9, \"value\": \"Chump (Album ...\"}, \"Wind It Up - Gwen Stefani\": {\"frequency\": 1, \"value\": \"Wind It Up - Gwen ...\"}, \"Entre Canibales - Soda Stereo\": {\"frequency\": 5, \"value\": \"Entre Canibales - ...\"}, \"Plastic Jungle - Miike Snow\": {\"frequency\": 5, \"value\": \"Plastic Jungle - ...\"}, \"Keep Away - Godsmack\": {\"frequency\": 16, \"value\": \"Keep Away - ...\"}, \"My Beloved Monster - Eels\": {\"frequency\": 5, \"value\": \"My Beloved Monster ...\"}, \"Cheap And Cheerful - The Kills\": {\"frequency\": 2, \"value\": \"Cheap And Cheerful ...\"}, \"Into The Hollow - Queens Of The Stone Age\": {\"frequency\": 15, \"value\": \"Into The Hollow - ...\"}, \"Louder Than Boom - Ti\\ufffd\\ufffdsto\": {\"frequency\": 3, \"value\": \"Louder Than Boom - ...\"}, \"First Thing - Four Tet\": {\"frequency\": 3, \"value\": \"First Thing - Four ...\"}, \"Fast Cars - U2\": {\"frequency\": 10, \"value\": \"Fast Cars - U2\"}, \"Crown Of Love - Arcade Fire\": {\"frequency\": 8, \"value\": \"Crown Of Love - ...\"}, \"Roll Right - Rage Against The Machine\": {\"frequency\": 10, \"value\": \"Roll Right - Rage ...\"}, \"Dig - Incubus\": {\"frequency\": 2, \"value\": \"Dig - Incubus\"}, \"Make You Mine - Miami Horror\": {\"frequency\": 2, \"value\": \"Make You Mine - ...\"}, \"One Time Too Many - Phoenix\": {\"frequency\": 3, \"value\": \"One Time Too Many ...\"}, \"Beautiful - Moby\": {\"frequency\": 12, \"value\": \"Beautiful - Moby\"}, \"Nada Es Para Siempre - Luis Fonsi\": {\"frequency\": 1, \"value\": \"Nada Es Para ...\"}, \"I'm On A Boat - The Lonely Island / T-Pain\": {\"frequency\": 3, \"value\": \"I'm On A Boat - ...\"}, \"Holiday - Vampire Weekend\": {\"frequency\": 1, \"value\": \"Holiday - Vampire ...\"}, \"Steady Mobbin - Young Money / Gucci Mane\": {\"frequency\": 6, \"value\": \"Steady Mobbin - ...\"}, \"One Step Beyond - Madness\": {\"frequency\": 1, \"value\": \"One Step Beyond - ...\"}, \"Latin Simone (Que Pasa Contigo) - Gorillaz\": {\"frequency\": 6, \"value\": \"Latin Simone (Que ...\"}, \"East Northumberland High - Miley Cyrus\": {\"frequency\": 2, \"value\": \"East ...\"}, \"Celestica - Crystal Castles\": {\"frequency\": 4, \"value\": \"Celestica - ...\"}, \"Sunspots - Nine Inch Nails\": {\"frequency\": 4, \"value\": \"Sunspots - Nine ...\"}, \"Sandman - America\": {\"frequency\": 3, \"value\": \"Sandman - America\"}, \"Any Colour You Like - Easy Star All-Stars\": {\"frequency\": 11, \"value\": \"Any Colour You ...\"}, \"How Can I Keep From Singing? - Enya\": {\"frequency\": 1, \"value\": \"How Can I Keep ...\"}, \"Metal Heart - Cat Power\": {\"frequency\": 6, \"value\": \"Metal Heart - Cat ...\"}, \"All We Know (Album Version) - Paramore\": {\"frequency\": 4, \"value\": \"All We Know (Album ...\"}, \"Naomi - Neutral Milk Hotel\": {\"frequency\": 1, \"value\": \"Naomi - Neutral ...\"}, \"Reason I'm Alive (Explicit) - Drowning Pool\": {\"frequency\": 6, \"value\": \"Reason I'm Alive ...\"}, \"One Summer Night - The Danleers\": {\"frequency\": 1, \"value\": \"One Summer Night - ...\"}, \"You Only Live Once - The Strokes\": {\"frequency\": 1, \"value\": \"You Only Live Once ...\"}, \"You Belong With Me - Taylor Swift\": {\"frequency\": 62, \"value\": \"You Belong With Me ...\"}, \"Sue\\ufffd\\ufffdos - Juanes\": {\"frequency\": 5, \"value\": \"Sue\\u00f1os - Juanes\"}, \"Mansard Roof (Album) - Vampire Weekend\": {\"frequency\": 23, \"value\": \"Mansard Roof ...\"}, \"Satin In A Coffin - Modest Mouse\": {\"frequency\": 20, \"value\": \"Satin In A Coffin ...\"}, \"Keep The Car Running - Arcade Fire\": {\"frequency\": 2, \"value\": \"Keep The Car ...\"}, \"Unfold (Eagles Ballroom Live Version) - Jason Mraz\": {\"frequency\": 8, \"value\": \"Unfold (Eagles ...\"}, \"Hearts Burst Into Fire - Bullet For My Valentine\": {\"frequency\": 10, \"value\": \"Hearts Burst Into ...\"}, \"Walk Idiot Walk - The Hives\": {\"frequency\": 1, \"value\": \"Walk Idiot Walk - ...\"}, \"Lollipop - Chordettes\": {\"frequency\": 1, \"value\": \"Lollipop - ...\"}, \"Love Is A Losing Game - Amy Winehouse\": {\"frequency\": 23, \"value\": \"Love Is A Losing ...\"}, \"Suzy 2003 (Live) - Diam's\": {\"frequency\": 6, \"value\": \"Suzy 2003 (Live) - ...\"}, \"Utopian Dream - Dimension 5\": {\"frequency\": 13, \"value\": \"Utopian Dream - ...\"}, \"Closer To The Heart - Rush\": {\"frequency\": 11, \"value\": \"Closer To The ...\"}, \"Wire To Wire - Razorlight\": {\"frequency\": 5, \"value\": \"Wire To Wire - ...\"}, \"It's Working - MGMT\": {\"frequency\": 11, \"value\": \"It's Working - ...\"}, \"Miserable Lie - The Smiths\": {\"frequency\": 17, \"value\": \"Miserable Lie - ...\"}, \"Nostrand - Ratatat\": {\"frequency\": 7, \"value\": \"Nostrand - Ratatat\"}, \"Face To Face (Cosmo VItelli Remix) - Daft Punk\": {\"frequency\": 5, \"value\": \"Face To Face ...\"}, \"Get:On - Moguai\": {\"frequency\": 1, \"value\": \"Get:On - Moguai\"}, \"Tonight She Comes (LP Version) - The Cars\": {\"frequency\": 1, \"value\": \"Tonight She Comes ...\"}, \"Shake A Fist - Hot Chip\": {\"frequency\": 1, \"value\": \"Shake A Fist - Hot ...\"}, \"Lo  Que Tengo Yo Adentro - Pereza\": {\"frequency\": 4, \"value\": \"Lo  Que Tengo Yo ...\"}, \"A Warm Place - Nine Inch Nails\": {\"frequency\": 2, \"value\": \"A Warm Place - ...\"}, \"Fight For Your Life - The Casualties\": {\"frequency\": 3, \"value\": \"Fight For Your ...\"}, \"The Rocky Road to Dublin (Album Version) - Dropkick Murphys\": {\"frequency\": 6, \"value\": \"The Rocky Road to ...\"}, \"Rock It - Sub Focus\": {\"frequency\": 1, \"value\": \"Rock It - Sub ...\"}, \"Just Missed The Train - Kelly Clarkson\": {\"frequency\": 2, \"value\": \"Just Missed The ...\"}, \"My Plague (Album Version) - Slipknot\": {\"frequency\": 6, \"value\": \"My Plague (Album ...\"}, \"How - The Cranberries\": {\"frequency\": 6, \"value\": \"How - The ...\"}, \"Cotton Fields (The Cotton Song) (Digitally Remastered 01) - The Beach Boys\": {\"frequency\": 1, \"value\": \"Cotton Fields (The ...\"}, \"Long Cool Woman In A Black Dress - The Hollies\": {\"frequency\": 1, \"value\": \"Long Cool Woman In ...\"}, \"The Man Who Sold The World - Nirvana\": {\"frequency\": 3, \"value\": \"The Man Who Sold ...\"}, \"You're Gonna Miss Me When I'm Gone - Brooks & Dunn\": {\"frequency\": 3, \"value\": \"You're Gonna Miss ...\"}, \"Osaka Loop Line - Discovery\": {\"frequency\": 2, \"value\": \"Osaka Loop Line - ...\"}, \"Shrinking Universe - Muse\": {\"frequency\": 1, \"value\": \"Shrinking Universe ...\"}, \"California English - Vampire Weekend\": {\"frequency\": 3, \"value\": \"California English ...\"}, \"The Only Exception (Album Version) - Paramore\": {\"frequency\": 51, \"value\": \"The Only Exception ...\"}, \"Chi Mai (El Profesional) - Ennio Morricone\": {\"frequency\": 1, \"value\": \"Chi Mai (El ...\"}, \"I Love The Dough (Featuring Jay-Z & Angel Winbush) (Amended Version) - The Notorious B.I.G.\": {\"frequency\": 4, \"value\": \"I Love The Dough ...\"}, \"I'm Back (Album Version) - Lil Scrappy\": {\"frequency\": 7, \"value\": \"I'm Back (Album ...\"}, \"Mad Season (LP Version) - matchbox twenty\": {\"frequency\": 19, \"value\": \"Mad Season (LP ...\"}, \"The Last One - Hieroglyphics\": {\"frequency\": 10, \"value\": \"The Last One - ...\"}, \"Lies - The Black Keys\": {\"frequency\": 38, \"value\": \"Lies - The Black ...\"}, \"G.N.O. (Girl's Night Out) (Live) - Miley Cyrus\": {\"frequency\": 5, \"value\": \"G.N.O. (Girl's ...\"}, \"I Know You Know - Esperanza Spalding / Leo Genovese\": {\"frequency\": 8, \"value\": \"I Know You Know - ...\"}, \"Stand Here With Me - Creed\": {\"frequency\": 1, \"value\": \"Stand Here With Me ...\"}, \"La Bayamesa - Buena Vista Social Club\": {\"frequency\": 9, \"value\": \"La Bayamesa - ...\"}, \"The Girl - City And Colour\": {\"frequency\": 2, \"value\": \"The Girl - City ...\"}, \"Higher Messiah - Corona\": {\"frequency\": 1, \"value\": \"Higher Messiah - ...\"}, \"Rock Bottom - Eminem\": {\"frequency\": 22, \"value\": \"Rock Bottom - ...\"}, \"Everyone's At It - Lily Allen\": {\"frequency\": 44, \"value\": \"Everyone's At It - ...\"}, \"It's Natural To Be Afraid - Explosions In The Sky\": {\"frequency\": 9, \"value\": \"It's Natural To Be ...\"}, \"You - Radiohead\": {\"frequency\": 1, \"value\": \"You - Radiohead\"}, \"Old White Lincoln - The Gaslight Anthem\": {\"frequency\": 20, \"value\": \"Old White Lincoln ...\"}, \"Jazz Street - Jaco Pastorius_ Brian Melvin\": {\"frequency\": 3, \"value\": \"Jazz Street - Jaco ...\"}, \"My Time [Rehearsal] - Jane's Addiction\": {\"frequency\": 2, \"value\": \"My Time ...\"}, \"This Love (Will Be Your Downfall) - Ellie Goulding\": {\"frequency\": 20, \"value\": \"This Love (Will Be ...\"}, \"Hardest Of Hearts - Florence + The Machine\": {\"frequency\": 6, \"value\": \"Hardest Of Hearts ...\"}, \"Lost - Anouk\": {\"frequency\": 1, \"value\": \"Lost - Anouk\"}, \"The Moon (Album version) - Glen Hansard & Marketa Irglova\": {\"frequency\": 2, \"value\": \"The Moon (Album ...\"}, \"Rock The BeaT - LMFAO\": {\"frequency\": 2, \"value\": \"Rock The BeaT - ...\"}, \"Waking The Demon - Bullet For My Valentine\": {\"frequency\": 34, \"value\": \"Waking The Demon - ...\"}, \"Ask about me - Girl Talk\": {\"frequency\": 9, \"value\": \"Ask about me - ...\"}, \"Damage Inc. - Metallica\": {\"frequency\": 42, \"value\": \"Damage Inc. - ...\"}, \"I'm Just A Man - Jason Aldean\": {\"frequency\": 7, \"value\": \"I'm Just A Man - ...\"}, \"Skyway Avenue - We The Kings\": {\"frequency\": 5, \"value\": \"Skyway Avenue - We ...\"}, \"Hump de Bump (Album Version) - Red Hot Chili Peppers\": {\"frequency\": 3, \"value\": \"Hump de Bump ...\"}, \"Floaty - Foo Fighters\": {\"frequency\": 14, \"value\": \"Floaty - Foo ...\"}, \"Kun Puut Tekee Seitti\\ufffd\\ufffd - Scandinavian Music Group\": {\"frequency\": 1, \"value\": \"Kun Puut Tekee ...\"}, \"Faint Resemblance - Rise Against\": {\"frequency\": 14, \"value\": \"Faint Resemblance ...\"}, \"Shop Around - New Edition\": {\"frequency\": 6, \"value\": \"Shop Around - New ...\"}, \"Needle In The Hay - Elliott Smith\": {\"frequency\": 1, \"value\": \"Needle In The Hay ...\"}, \"When Darkness Falls (Album Version) - Killswitch Engage\": {\"frequency\": 5, \"value\": \"When Darkness ...\"}, \"Ricordati Di Noi - Valerio Scanu\": {\"frequency\": 6, \"value\": \"Ricordati Di Noi - ...\"}, \"Wave of Mutilation (UK Surf Version) - Pixies\": {\"frequency\": 17, \"value\": \"Wave of Mutilation ...\"}, \"Paradise - Sade\": {\"frequency\": 3, \"value\": \"Paradise - Sade\"}, \"Banquet - Bloc Party\": {\"frequency\": 2, \"value\": \"Banquet - Bloc ...\"}, \"mOBSCENE - Marilyn Manson\": {\"frequency\": 8, \"value\": \"mOBSCENE - Marilyn ...\"}, \"A Pain That I\\u0019m Used To - Depeche Mode\": {\"frequency\": 3, \"value\": \"A Pain That I\\u0019m ...\"}, \"Close My Eyes - Matisyahu\": {\"frequency\": 4, \"value\": \"Close My Eyes - ...\"}, \"Elegante - Orishas\": {\"frequency\": 11, \"value\": \"Elegante - Orishas\"}, \"These Photographs - Joshua Radin\": {\"frequency\": 2, \"value\": \"These Photographs ...\"}, \"Tu Guardian - Juanes\": {\"frequency\": 11, \"value\": \"Tu Guardian - ...\"}, \"Mal D'Africa (2004 Digital Remaster) - Franco Battiato\": {\"frequency\": 12, \"value\": \"Mal D'Africa (2004 ...\"}, \"Lived In Bars - Cat Power\": {\"frequency\": 3, \"value\": \"Lived In Bars - ...\"}, \"Buffalo Stance - Neneh Cherry\": {\"frequency\": 1, \"value\": \"Buffalo Stance - ...\"}, \"City Of Delusion - Muse\": {\"frequency\": 1, \"value\": \"City Of Delusion - ...\"}, \"Nothing On But The Radio - Gary Allan\": {\"frequency\": 17, \"value\": \"Nothing On But The ...\"}, \"Say What You Say - Eminem / Dr. Dre\": {\"frequency\": 17, \"value\": \"Say What You Say - ...\"}, \"Photographs - Rihanna / will.i.am\": {\"frequency\": 21, \"value\": \"Photographs - ...\"}, \"People - Journey\": {\"frequency\": 1, \"value\": \"People - Journey\"}, \"Angel Of Death - Slayer\": {\"frequency\": 2, \"value\": \"Angel Of Death - ...\"}, \"You Go To My Head - Keely Smith\": {\"frequency\": 1, \"value\": \"You Go To My Head ...\"}, \"The Call Of Ktulu - Metallica\": {\"frequency\": 4, \"value\": \"The Call Of Ktulu ...\"}, \"Dirty Dishes - Deer Tick\": {\"frequency\": 3, \"value\": \"Dirty Dishes - ...\"}, \"Swordfish Hotkiss Night - Empire Of The Sun\": {\"frequency\": 6, \"value\": \"Swordfish Hotkiss ...\"}, \"Rio - Another Sunny Day\": {\"frequency\": 2, \"value\": \"Rio - Another ...\"}, \"Bella's Lullaby (Twilight Soundtrack Version) - Carter Burwell\": {\"frequency\": 2, \"value\": \"Bella's Lullaby ...\"}, \"When The Son Begins To Reign (Degarmo And Key Album Version) - DeGarmo & Key\": {\"frequency\": 17, \"value\": \"When The Son ...\"}, \"Duerme Conmigo - Jarabe De Palo\": {\"frequency\": 3, \"value\": \"Duerme Conmigo - ...\"}, \"The Real Slim Shady - Eminem\": {\"frequency\": 93, \"value\": \"The Real Slim ...\"}, \"Get Back - Demi Lovato\": {\"frequency\": 3, \"value\": \"Get Back - Demi ...\"}, \"Unprotected Sex With Multiple Partners - Against Me!\": {\"frequency\": 7, \"value\": \"Unprotected Sex ...\"}, \"As I Rise - The Decemberists\": {\"frequency\": 10, \"value\": \"As I Rise - The ...\"}, \"Ready Or Not - The Fugees\": {\"frequency\": 2, \"value\": \"Ready Or Not - The ...\"}, \"Top Down - Swizz Beatz\": {\"frequency\": 2, \"value\": \"Top Down - Swizz ...\"}, \"Amame - Juanes\": {\"frequency\": 3, \"value\": \"Amame - Juanes\"}, \"Punk Jazz (Live Verison) - Jaco Pastorius\": {\"frequency\": 5, \"value\": \"Punk Jazz (Live ...\"}, \"Let The Flames Begin (Album Version) - Paramore\": {\"frequency\": 13, \"value\": \"Let The Flames ...\"}, \"Busted - The Black Keys\": {\"frequency\": 27, \"value\": \"Busted - The Black ...\"}, \"Tonight - Jonas Brothers\": {\"frequency\": 2, \"value\": \"Tonight - Jonas ...\"}, \"T\\ufffd\\ufffd - Shakira\": {\"frequency\": 63, \"value\": \"T\\u00fa - Shakira\"}, \"Marching Theme - Neutral Milk Hotel\": {\"frequency\": 1, \"value\": \"Marching Theme - ...\"}, \"Too Long (Gonzales Version) - Daft Punk\": {\"frequency\": 1, \"value\": \"Too Long (Gonzales ...\"}, \"The Heart Of The Matter - India.Arie\": {\"frequency\": 2, \"value\": \"The Heart Of The ...\"}, \"Dumpweed - Blink-182\": {\"frequency\": 8, \"value\": \"Dumpweed - ...\"}, \"If I Can't Have You - Yvonne Elliman\": {\"frequency\": 1, \"value\": \"If I Can't Have ...\"}, \"Stripper Vicar - Mansun\": {\"frequency\": 2, \"value\": \"Stripper Vicar - ...\"}, \"Obsesion - Aventura\": {\"frequency\": 8, \"value\": \"Obsesion - ...\"}, \"The World - Empire Of The Sun\": {\"frequency\": 25, \"value\": \"The World - Empire ...\"}, \"I'll Do Anything (LP Version) - Jason Mraz\": {\"frequency\": 3, \"value\": \"I'll Do Anything ...\"}, \"Prenzlauerberg - Beirut\": {\"frequency\": 5, \"value\": \"Prenzlauerberg - ...\"}, \"Beautiful Life - Ace of Base\": {\"frequency\": 6, \"value\": \"Beautiful Life - ...\"}, \"The Flying Club Cup - Beirut\": {\"frequency\": 24, \"value\": \"The Flying Club ...\"}, \"Call On Me - Eric Prydz\": {\"frequency\": 4, \"value\": \"Call On Me - Eric ...\"}, \"Ironic (Acoustic Album Version) - Alanis Morissette\": {\"frequency\": 6, \"value\": \"Ironic (Acoustic ...\"}, \"My Perfect Cousin - The Undertones\": {\"frequency\": 3, \"value\": \"My Perfect Cousin ...\"}, \"Train Underwater - Bright Eyes\": {\"frequency\": 2, \"value\": \"Train Underwater - ...\"}, \"And It Spread - The Avett Brothers\": {\"frequency\": 7, \"value\": \"And It Spread - ...\"}, \"The Time Is Now (2006 Digital Remaster) - Moloko\": {\"frequency\": 1, \"value\": \"The Time Is Now ...\"}, \"Carrion - Parkway Drive\": {\"frequency\": 2, \"value\": \"Carrion - Parkway ...\"}, \"Tuolumne - Eddie Vedder\": {\"frequency\": 1, \"value\": \"Tuolumne - Eddie ...\"}, \"Down To The Market - The Kooks\": {\"frequency\": 8, \"value\": \"Down To The Market ...\"}, \"Taking My Ball - Eminem\": {\"frequency\": 5, \"value\": \"Taking My Ball - ...\"}, \"Noc... - Justyna Steczkowska\": {\"frequency\": 3, \"value\": \"Noc... - Justyna ...\"}, \"All The Pretty Faces - The Killers\": {\"frequency\": 4, \"value\": \"All The Pretty ...\"}, \"Washed By The Water (Album Version) - NEEDTOBREATHE\": {\"frequency\": 9, \"value\": \"Washed By The ...\"}, \"Se Quiere_ Se Mata - Shakira\": {\"frequency\": 44, \"value\": \"Se Quiere_ Se Mata ...\"}, \"Under A Killing Moon - Thrice\": {\"frequency\": 6, \"value\": \"Under A Killing ...\"}, \"House Of Cards - Radiohead\": {\"frequency\": 6, \"value\": \"House Of Cards - ...\"}, \"Droplets - Colbie Caillat / Jason Reeves\": {\"frequency\": 1, \"value\": \"Droplets - Colbie ...\"}, \"Do U Wanna Ride - Jay-Z / John Legend\": {\"frequency\": 1, \"value\": \"Do U Wanna Ride - ...\"}, \"Pursuit Of Happiness (nightmare) - Kid Cudi / MGMT / Ratatat\": {\"frequency\": 41, \"value\": \"Pursuit Of ...\"}, \"Blue Orchid - The White Stripes\": {\"frequency\": 7, \"value\": \"Blue Orchid - The ...\"}, \"Hard To Concentrate (Album Version) - Red Hot Chili Peppers\": {\"frequency\": 2, \"value\": \"Hard To ...\"}, \"The Trickster - Radiohead\": {\"frequency\": 4, \"value\": \"The Trickster - ...\"}, \"We Are Your Friends (Reprise) (Album Version) - Justice\": {\"frequency\": 2, \"value\": \"We Are Your ...\"}, \"You Don't Love Me (No_ No_ No) - Rihanna / Vybz Kartel\": {\"frequency\": 1, \"value\": \"You Don't Love Me ...\"}, \"Have You Ever Seen The Rain - Creedence Clearwater Revival\": {\"frequency\": 14, \"value\": \"Have You Ever Seen ...\"}, \"Teardrop - Underworld\": {\"frequency\": 1, \"value\": \"Teardrop - ...\"}, \"Guns And Horses - Ellie Goulding\": {\"frequency\": 2, \"value\": \"Guns And Horses - ...\"}, \"Cold Summer - A Love Ends Suicide\": {\"frequency\": 1, \"value\": \"Cold Summer - A ...\"}, \"Alienated - Keri Hilson\": {\"frequency\": 1, \"value\": \"Alienated - Keri ...\"}, \"Heartbreak Warfare - John Mayer\": {\"frequency\": 51, \"value\": \"Heartbreak Warfare ...\"}, \"Layla [Unplugged Version] - Eric Clapton\": {\"frequency\": 1, \"value\": \"Layla [Unplugged ...\"}, \"Virtual Diva - Don Omar\": {\"frequency\": 1, \"value\": \"Virtual Diva - Don ...\"}, \"Charmless Man - Blur\": {\"frequency\": 4, \"value\": \"Charmless Man - ...\"}, \"The Captain - The Knife\": {\"frequency\": 2, \"value\": \"The Captain - The ...\"}, \"Jungle Gym - Jack Johnson / G. Love\": {\"frequency\": 1, \"value\": \"Jungle Gym - Jack ...\"}, \"Let Down - Radiohead\": {\"frequency\": 6, \"value\": \"Let Down - ...\"}, \"P.I.M.P. - 50 Cent\": {\"frequency\": 1, \"value\": \"P.I.M.P. - 50 Cent\"}, \"Forget It - Breaking Benjamin\": {\"frequency\": 1, \"value\": \"Forget It - ...\"}, \"William_ It Was Really Nothing - The Smiths\": {\"frequency\": 1, \"value\": \"William_ It Was ...\"}, \"Lola soledad - Alejandro Sanz\": {\"frequency\": 1, \"value\": \"Lola soledad - ...\"}, \"Done With You - The Whitest Boy Alive\": {\"frequency\": 2, \"value\": \"Done With You - ...\"}, \"Sunny Day - Akon / Wyclef Jean\": {\"frequency\": 7, \"value\": \"Sunny Day - Akon / ...\"}, \"The Nameless (Album Version) - Slipknot\": {\"frequency\": 4, \"value\": \"The Nameless ...\"}, \"Feeling This - Blink-182\": {\"frequency\": 11, \"value\": \"Feeling This - ...\"}, \"Rock 'n' Roll Lifestyle - Cake\": {\"frequency\": 1, \"value\": \"Rock 'n' Roll ...\"}, \"Lady (Album Version) - Regina Spektor\": {\"frequency\": 7, \"value\": \"Lady (Album ...\"}, \"Dontchange - Musiq\": {\"frequency\": 6, \"value\": \"Dontchange - Musiq\"}, \"Enchantment - Corinne Bailey Rae\": {\"frequency\": 22, \"value\": \"Enchantment - ...\"}, \"Black Mud - The Black Keys\": {\"frequency\": 3, \"value\": \"Black Mud - The ...\"}, \"Flor Venenosa - H\\ufffd\\ufffdroes del Silencio\": {\"frequency\": 5, \"value\": \"Flor Venenosa - ...\"}, \"Mariposa traicionera - Man\\ufffd\\ufffd\": {\"frequency\": 29, \"value\": \"Mariposa ...\"}, \"Every Time I Look For You - Blink-182\": {\"frequency\": 2, \"value\": \"Every Time I Look ...\"}, \"S.O.S. - Jonas Brothers\": {\"frequency\": 2, \"value\": \"S.O.S. - Jonas ...\"}, \"City Love - John Mayer\": {\"frequency\": 6, \"value\": \"City Love - John ...\"}, \"Wavin'  Flag - K'Naan\": {\"frequency\": 1, \"value\": \"Wavin'  Flag - ...\"}, \"Shrooms - The Lonely Island\": {\"frequency\": 5, \"value\": \"Shrooms - The ...\"}, \"Don't Trust The Kids - Ashra\": {\"frequency\": 1, \"value\": \"Don't Trust The ...\"}, \"I Used To Have A Best Friend (But Then He Gave Me An STD) - Asking Alexandria\": {\"frequency\": 8, \"value\": \"I Used To Have A ...\"}, \"Please Mr. Postman - Carpenters\": {\"frequency\": 12, \"value\": \"Please Mr. Postman ...\"}, \"Starz In Their Eyes - Just Jack\": {\"frequency\": 4, \"value\": \"Starz In Their ...\"}, \"Recruiting Soldiers (2002 Digital Remaster) - Peter Tosh\": {\"frequency\": 31, \"value\": \"Recruiting ...\"}, \"Bryn (Album) - Vampire Weekend\": {\"frequency\": 57, \"value\": \"Bryn (Album) - ...\"}, \"Broken - Secondhand Serenade\": {\"frequency\": 2, \"value\": \"Broken - ...\"}, \"Hurt Me Soul (Explicit Album Version) - Lupe Fiasco\": {\"frequency\": 20, \"value\": \"Hurt Me Soul ...\"}, \"All To All - Broken Social Scene\": {\"frequency\": 1, \"value\": \"All To All - ...\"}, \"Gettysburg - Ratatat\": {\"frequency\": 6, \"value\": \"Gettysburg - ...\"}, \"Second To None - Phoenix\": {\"frequency\": 3, \"value\": \"Second To None - ...\"}, \"Not The Doctor (LP Version) - Alanis Morissette\": {\"frequency\": 1, \"value\": \"Not The Doctor (LP ...\"}, \"Centre For Holy Wars - The New Pornographers\": {\"frequency\": 2, \"value\": \"Centre For Holy ...\"}, \"Better To Reign In Hell - Cradle Of Filth\": {\"frequency\": 4, \"value\": \"Better To Reign In ...\"}, \"I Should Be... - Dru Hill\": {\"frequency\": 5, \"value\": \"I Should Be... - ...\"}, \"A Night In Torino - Parov Stelar\": {\"frequency\": 37, \"value\": \"A Night In Torino ...\"}, \"Genocide - The Offspring\": {\"frequency\": 7, \"value\": \"Genocide - The ...\"}, \"D.O.A. Part 2 - Ignition\": {\"frequency\": 2, \"value\": \"D.O.A. Part 2 - ...\"}, \"Luvstruck - Southside Spinners\": {\"frequency\": 2, \"value\": \"Luvstruck - ...\"}, \"Space Cowboy - Jamiroquai\": {\"frequency\": 9, \"value\": \"Space Cowboy - ...\"}, \"Designer Skyline - Owl City\": {\"frequency\": 28, \"value\": \"Designer Skyline - ...\"}, \"Remember December - Demi Lovato\": {\"frequency\": 7, \"value\": \"Remember December ...\"}, \"Ten Cent Pistol - The Black Keys\": {\"frequency\": 63, \"value\": \"Ten Cent Pistol - ...\"}, \"Lying From You (Album Version) - Linkin Park\": {\"frequency\": 23, \"value\": \"Lying From You ...\"}, \"Everything (Album Version) - Buckcherry\": {\"frequency\": 1, \"value\": \"Everything (Album ...\"}, \"Year Of The Rat - Badly Drawn Boy\": {\"frequency\": 4, \"value\": \"Year Of The Rat - ...\"}, \"It's My Life - Bon Jovi\": {\"frequency\": 10, \"value\": \"It's My Life - Bon ...\"}, \"Crazy In The Night (Barking At Airplanes) - Kim Carnes\": {\"frequency\": 4, \"value\": \"Crazy In The Night ...\"}, \"Mi Princesa - Gondwana\": {\"frequency\": 1, \"value\": \"Mi Princesa - ...\"}, \"Fiddlin' Bill - The Nashville Bluegrass Band\": {\"frequency\": 1, \"value\": \"Fiddlin' Bill - ...\"}, \"Do You Remember The First Time? - Pulp\": {\"frequency\": 1, \"value\": \"Do You Remember ...\"}, \"T-R-O-U-B-L-E - Travis Tritt\": {\"frequency\": 5, \"value\": \"T-R-O-U-B-L-E - ...\"}, \"Sowing The Seeds Of Love - Tears For Fears\": {\"frequency\": 7, \"value\": \"Sowing The Seeds ...\"}, \"Steady State (2001 Digital Remaster) - Penguin Caf\\ufffd\\ufffd Orchestra\": {\"frequency\": 8, \"value\": \"Steady State (2001 ...\"}, \"Til Sommer - Nikolaj N\\ufffd\\ufffdrlund\": {\"frequency\": 1, \"value\": \"Til Sommer - ...\"}, \"Cubism Dream - Local Natives\": {\"frequency\": 4, \"value\": \"Cubism Dream - ...\"}, \"As The World Turns - Eminem\": {\"frequency\": 17, \"value\": \"As The World Turns ...\"}, \"The First Cut Is The Deepest - Cat Stevens\": {\"frequency\": 14, \"value\": \"The First Cut Is ...\"}, \"Falsa Baiana - Jo\\ufffd\\ufffdo Gilberto\": {\"frequency\": 8, \"value\": \"Falsa Baiana - ...\"}, \"Jesus Walks - Kanye West\": {\"frequency\": 2, \"value\": \"Jesus Walks - ...\"}, \"Lobo Bobo - Walter Wanderley\": {\"frequency\": 1, \"value\": \"Lobo Bobo - Walter ...\"}, \"Me In You - Kings Of Convenience\": {\"frequency\": 2, \"value\": \"Me In You - Kings ...\"}, \"Hey Sexy Lady - Shaggy / Brian & Tony Gold\": {\"frequency\": 1, \"value\": \"Hey Sexy Lady - ...\"}, \"You Got Me - The Roots / Erykah Badu\": {\"frequency\": 2, \"value\": \"You Got Me - The ...\"}, \"Sic Transit Gloria ... Glory Fades - Brand New\": {\"frequency\": 7, \"value\": \"Sic Transit Gloria ...\"}, \"Children_ Go Where I Send Thee - Ralph Stanley\": {\"frequency\": 20, \"value\": \"Children_ Go Where ...\"}, \"Let It Ride - Bachman-Turner Overdrive\": {\"frequency\": 3, \"value\": \"Let It Ride - ...\"}, \"Bombtrack - Rage Against The Machine\": {\"frequency\": 8, \"value\": \"Bombtrack - Rage ...\"}, \"Just Friends - Amy Winehouse\": {\"frequency\": 77, \"value\": \"Just Friends - Amy ...\"}, \"Waitin' On A Woman - Brad Paisley With Andy Griffith\": {\"frequency\": 5, \"value\": \"Waitin' On A Woman ...\"}, \"Failure by Design - Brand New\": {\"frequency\": 7, \"value\": \"Failure by Design ...\"}, \"Tron - Foals\": {\"frequency\": 2, \"value\": \"Tron - Foals\"}, \"Spybreak! - Propellerheads\": {\"frequency\": 1, \"value\": \"Spybreak! - ...\"}, \"Good Man - Josh Ritter\": {\"frequency\": 1, \"value\": \"Good Man - Josh ...\"}, \"Palmdale - Afroman\": {\"frequency\": 1, \"value\": \"Palmdale - Afroman\"}, \"Soulstar - Musiq / DJ Aktive / Carol Riddick\": {\"frequency\": 10, \"value\": \"Soulstar - Musiq / ...\"}, \"One More Time (Short Radio Edit) - Daft Punk\": {\"frequency\": 5, \"value\": \"One More Time ...\"}, \"People - Gorillaz\": {\"frequency\": 4, \"value\": \"People - Gorillaz\"}, \"Wake Up Mr. West - Kanye West\": {\"frequency\": 2, \"value\": \"Wake Up Mr. West - ...\"}, \"Dungeon Master - EPMD / Nocturnal\": {\"frequency\": 1, \"value\": \"Dungeon Master - ...\"}, \"Wicked Garden (LP Version) - Stone Temple Pilots\": {\"frequency\": 6, \"value\": \"Wicked Garden (LP ...\"}, \"Little Weapon (feat. Bishop G and Nikki Jean) (Amended Album Version) - Lupe Fiasco feat. Biship G and Nikki Jean\": {\"frequency\": 3, \"value\": \"Little Weapon ...\"}, \"Conflict (Album Version) - Disturbed\": {\"frequency\": 33, \"value\": \"Conflict (Album ...\"}, \"Bulgarian  Chicks - Balkan Beat Box\": {\"frequency\": 5, \"value\": \"Bulgarian  Chicks ...\"}, \"Congratulations - Phoenix\": {\"frequency\": 25, \"value\": \"Congratulations - ...\"}, \"Swisha - Ratatat\": {\"frequency\": 2, \"value\": \"Swisha - Ratatat\"}, \"Noctuary - Bonobo\": {\"frequency\": 6, \"value\": \"Noctuary - Bonobo\"}, \"Citizen/Soldier - 3 Doors Down\": {\"frequency\": 2, \"value\": \"Citizen/Soldier - ...\"}, \"The Well And The Lighthouse - Arcade Fire\": {\"frequency\": 4, \"value\": \"The Well And The ...\"}, \"Fish Eye - Bailter Space\": {\"frequency\": 1, \"value\": \"Fish Eye - Bailter ...\"}, \"Always Remember - Train\": {\"frequency\": 41, \"value\": \"Always Remember - ...\"}, \"Do You Remember - Jack Johnson\": {\"frequency\": 11, \"value\": \"Do You Remember - ...\"}, \"Why Don't We Just Dance - Josh Turner\": {\"frequency\": 7, \"value\": \"Why Don't We Just ...\"}, \"The Die (feat. GemStones) (Amended Album Version) - Lupe Fiasco feat. GemStones\": {\"frequency\": 5, \"value\": \"The Die (feat. ...\"}, \"Reign Of The Tyrants - Jag Panzer\": {\"frequency\": 10, \"value\": \"Reign Of The ...\"}, \"paranoid android - Christopher O'Riley\": {\"frequency\": 12, \"value\": \"paranoid android - ...\"}, \"Never Gonna Give You Up - Rick Astley\": {\"frequency\": 4, \"value\": \"Never Gonna Give ...\"}, \"Sugar Ray (LP Version) - Todd Barry\": {\"frequency\": 2, \"value\": \"Sugar Ray (LP ...\"}, \"One Tribe - Black Eyed Peas\": {\"frequency\": 2, \"value\": \"One Tribe - Black ...\"}, \"Show Me How To Live - Audioslave\": {\"frequency\": 8, \"value\": \"Show Me How To ...\"}, \"Song For No One - Miike Snow\": {\"frequency\": 3, \"value\": \"Song For No One - ...\"}, \"Know You Now - Amy Winehouse\": {\"frequency\": 5, \"value\": \"Know You Now - Amy ...\"}, \"Sin Exagerar - Calle 13 Featuring Tego Calder\\ufffd\\ufffdn\": {\"frequency\": 7, \"value\": \"Sin Exagerar - ...\"}, \"Marshall Examines His Carcass - Octopus Project\": {\"frequency\": 1, \"value\": \"Marshall Examines ...\"}, \"Warning Sign - Local Natives\": {\"frequency\": 17, \"value\": \"Warning Sign - ...\"}, \"Open Your Eyes - Alter Bridge\": {\"frequency\": 6, \"value\": \"Open Your Eyes - ...\"}, \"Photograph - Jamie Cullum\": {\"frequency\": 3, \"value\": \"Photograph - Jamie ...\"}, \"Bad Sneakers - Steely Dan\": {\"frequency\": 9, \"value\": \"Bad Sneakers - ...\"}, \"Unbelievable (Amended Version) - The Notorious B.I.G.\": {\"frequency\": 33, \"value\": \"Unbelievable ...\"}, \"The Shadow Of Your Smile - Wes Montgomery\": {\"frequency\": 5, \"value\": \"The Shadow Of Your ...\"}, \"Suffragette City (1990 Digital Remaster) - David Bowie\": {\"frequency\": 1, \"value\": \"Suffragette City ...\"}, \"Ana - Pixies\": {\"frequency\": 4, \"value\": \"Ana - Pixies\"}, \"What If (Film Version) - Kate Winslet\": {\"frequency\": 27, \"value\": \"What If (Film ...\"}, \"In Person - The Pussycat Dolls\": {\"frequency\": 3, \"value\": \"In Person - The ...\"}, \"Jungle Love - Steve Miller\": {\"frequency\": 3, \"value\": \"Jungle Love - ...\"}, \"Alaska - Camera Obscura\": {\"frequency\": 1, \"value\": \"Alaska - Camera ...\"}, \"You Don\\u0019t Know What Love Is (You Just Do What You\\u0019re Told) - The White Stripes\": {\"frequency\": 1, \"value\": \"You Don\\u0019t Know ...\"}, \"Curtains Close - Eminem\": {\"frequency\": 7, \"value\": \"Curtains Close - ...\"}, \"The Dirty Glass - Dropkick Murphys\": {\"frequency\": 23, \"value\": \"The Dirty Glass - ...\"}, \"Here we go Again - Angus & Julia Stone\": {\"frequency\": 22, \"value\": \"Here we go Again - ...\"}, \"Dark Matter - Andrew Bird\": {\"frequency\": 4, \"value\": \"Dark Matter - ...\"}, \"The Birds - Telefon Tel Aviv\": {\"frequency\": 1, \"value\": \"The Birds - ...\"}, \"Burn My Shadow - UNKLE\": {\"frequency\": 2, \"value\": \"Burn My Shadow - ...\"}, \"Fall Back - Blacks ft. P Money\": {\"frequency\": 1, \"value\": \"Fall Back - Blacks ...\"}, \"Schwarze Biene (Black Maja) - Bohren & Der Club Of Gore\": {\"frequency\": 54, \"value\": \"Schwarze Biene ...\"}, \"Sing - Travis\": {\"frequency\": 1, \"value\": \"Sing - Travis\"}, \"All That We Perceive - Thievery Corporation\": {\"frequency\": 4, \"value\": \"All That We ...\"}, \"Stand My Ground (Album Version) - Within Temptation\": {\"frequency\": 7, \"value\": \"Stand My Ground ...\"}, \"Dirty Little Secret - The All-American Rejects\": {\"frequency\": 7, \"value\": \"Dirty Little ...\"}, \"Doll Parts - Hole\": {\"frequency\": 4, \"value\": \"Doll Parts - Hole\"}, \"End - Secondhand Serenade\": {\"frequency\": 1, \"value\": \"End - Secondhand ...\"}, \"Across The Universe - Jim Sturgess\": {\"frequency\": 24, \"value\": \"Across The ...\"}, \"Don\\ufffd\\ufffdt Leave Me Now - Amparanoia\": {\"frequency\": 1, \"value\": \"Don\\u00b4t Leave Me Now ...\"}, \"Three Or Four - The New Pornographers\": {\"frequency\": 1, \"value\": \"Three Or Four - ...\"}, \"I'll Be OK (Instrumental Reprise) - Sondre Lerche\": {\"frequency\": 1, \"value\": \"I'll Be OK ...\"}, \"Modern Way - Kaiser Chiefs\": {\"frequency\": 2, \"value\": \"Modern Way - ...\"}, \"There Goes The Fear - Doves\": {\"frequency\": 2, \"value\": \"There Goes The ...\"}, \"EMCEE Murdah - K-OS\": {\"frequency\": 5, \"value\": \"EMCEE Murdah - ...\"}, \"Great Awakening - Rise Against\": {\"frequency\": 13, \"value\": \"Great Awakening - ...\"}, \"The Rip - Portishead\": {\"frequency\": 1, \"value\": \"The Rip - ...\"}, \"Hang On To This - Days Of The New\": {\"frequency\": 2, \"value\": \"Hang On To This - ...\"}, \"Come Back To Bed - John Mayer\": {\"frequency\": 4, \"value\": \"Come Back To Bed - ...\"}, \"Stay Lit - Holy Fuck\": {\"frequency\": 1, \"value\": \"Stay Lit - Holy ...\"}, \"Gross - Balkan Beat Box\": {\"frequency\": 12, \"value\": \"Gross - Balkan ...\"}, \"One Time - Justin Bieber\": {\"frequency\": 56, \"value\": \"One Time - Justin ...\"}, \"Number One - John Legend featuring Kanye west\": {\"frequency\": 6, \"value\": \"Number One - John ...\"}, \"Sound Of Silver (c2 rmx rev.3) - LCD Soundsystem\": {\"frequency\": 2, \"value\": \"Sound Of Silver ...\"}, \"Same Old Thing - The Black Keys\": {\"frequency\": 10, \"value\": \"Same Old Thing - ...\"}, \"Phantom Part 1.5 (Album Version) - Justice\": {\"frequency\": 4, \"value\": \"Phantom Part 1.5 ...\"}, \"Jackolantern's Weather - 311\": {\"frequency\": 2, \"value\": \"Jackolantern's ...\"}, \"Mexico - Cake\": {\"frequency\": 1, \"value\": \"Mexico - Cake\"}, \"The Downfall Of Us All - A Day To Remember\": {\"frequency\": 36, \"value\": \"The Downfall Of Us ...\"}, \"(You Drive Me) Crazy (The Stop Remix!) - Britney Spears\": {\"frequency\": 1, \"value\": \"(You Drive Me) ...\"}, \"Pitter-Pat - Erin McCarley\": {\"frequency\": 5, \"value\": \"Pitter-Pat - Erin ...\"}, \"Psychotic Girl - The Black Keys\": {\"frequency\": 4, \"value\": \"Psychotic Girl - ...\"}, \"Somebody Told Me - The Killers\": {\"frequency\": 1, \"value\": \"Somebody Told Me - ...\"}, \"Overjoyed - Stevie Wonder\": {\"frequency\": 3, \"value\": \"Overjoyed - Stevie ...\"}, \"Margaret In Captivity - The Decemberists\": {\"frequency\": 5, \"value\": \"Margaret In ...\"}, \"Pretty Noose - Soundgarden\": {\"frequency\": 2, \"value\": \"Pretty Noose - ...\"}, \"Don't Give Up - The Whitest Boy Alive\": {\"frequency\": 7, \"value\": \"Don't Give Up - ...\"}, \"Patriach On A Vespa - Metric\": {\"frequency\": 6, \"value\": \"Patriach On A ...\"}, \"Last Living Souls - Gorillaz\": {\"frequency\": 9, \"value\": \"Last Living Souls ...\"}, \"Tobacco Island - Flogging Molly\": {\"frequency\": 4, \"value\": \"Tobacco Island - ...\"}, \"The News - Jack Johnson\": {\"frequency\": 23, \"value\": \"The News - Jack ...\"}, \"Code Monkey - Jonathan Coulton\": {\"frequency\": 13, \"value\": \"Code Monkey - ...\"}, \"Us V Them - LCD Soundsystem\": {\"frequency\": 3, \"value\": \"Us V Them - LCD ...\"}, \"Cassius (album version) - Foals\": {\"frequency\": 2, \"value\": \"Cassius (album ...\"}, \"Only In Dreams - Weezer\": {\"frequency\": 7, \"value\": \"Only In Dreams - ...\"}, \"Stagger - Skream\": {\"frequency\": 33, \"value\": \"Stagger - Skream\"}, \"Royksopp Forever - Royksopp\": {\"frequency\": 2, \"value\": \"Royksopp Forever - ...\"}, \"Countdown - The Black Keys\": {\"frequency\": 8, \"value\": \"Countdown - The ...\"}, \"Inevitable - Shakira\": {\"frequency\": 2, \"value\": \"Inevitable - ...\"}, \"The Soldiering Life - The Decemberists\": {\"frequency\": 2, \"value\": \"The Soldiering ...\"}, \"Afortunada - Francisca Valenzuela\": {\"frequency\": 13, \"value\": \"Afortunada - ...\"}, \"Looking Up (Album Version) - Paramore\": {\"frequency\": 22, \"value\": \"Looking Up (Album ...\"}, \"Birds and the Bees - the bird and the bee\": {\"frequency\": 5, \"value\": \"Birds and the Bees ...\"}, \"Swimmers - Broken Social Scene\": {\"frequency\": 2, \"value\": \"Swimmers - Broken ...\"}, \"The Memory Remains - Metallica / Marianne Faithfull\": {\"frequency\": 17, \"value\": \"The Memory Remains ...\"}, \"Stop Me If You Think You've Heard This One Before - The Smiths\": {\"frequency\": 1, \"value\": \"Stop Me If You ...\"}, \"A Dirge for the Underground - Attica! Attica!\": {\"frequency\": 2, \"value\": \"A Dirge for the ...\"}, \"Real Feat. Sarah Green (Album Version) - Lupe Fiasco\": {\"frequency\": 3, \"value\": \"Real Feat. Sarah ...\"}, \"Let's Shake Hands - The White Stripes\": {\"frequency\": 1, \"value\": \"Let's Shake Hands ...\"}, \"Money (featuring Gary \\\"Nesta\\\" Pine & Dollarman) - Easy Star All-Stars\": {\"frequency\": 1, \"value\": \"Money (featuring ...\"}, \"Ocean View - Pieces Of A Dream\": {\"frequency\": 1, \"value\": \"Ocean View - ...\"}, \"Total Life Forever - Foals\": {\"frequency\": 4, \"value\": \"Total Life Forever ...\"}, \"Sin With A Grin (Album Version) - Shinedown\": {\"frequency\": 18, \"value\": \"Sin With A Grin ...\"}, \"Take It Back - She & Him\": {\"frequency\": 2, \"value\": \"Take It Back - She ...\"}, \"Three Days (2006 Remastered Album Version) - Jane's Addiction\": {\"frequency\": 4, \"value\": \"Three Days (2006 ...\"}, \"Mundo Roto - Macaco\": {\"frequency\": 1, \"value\": \"Mundo Roto - ...\"}, \"I'm Back - Eminem\": {\"frequency\": 4, \"value\": \"I'm Back - Eminem\"}, \"Milord - Cher\": {\"frequency\": 15, \"value\": \"Milord - Cher\"}, \"Caroline - CREMATORY\": {\"frequency\": 2, \"value\": \"Caroline - ...\"}, \"Come Into My World - Kylie Minogue\": {\"frequency\": 2, \"value\": \"Come Into My World ...\"}, \"Kids With Guns - Gorillaz\": {\"frequency\": 2, \"value\": \"Kids With Guns - ...\"}, \"La Cruz De Su Hijo - Los Traileros Del Norte\": {\"frequency\": 17, \"value\": \"La Cruz De Su Hijo ...\"}, \"Gravity - The Whitest Boy Alive\": {\"frequency\": 8, \"value\": \"Gravity - The ...\"}, \"Hay Un Son - Orishas\": {\"frequency\": 10, \"value\": \"Hay Un Son - ...\"}, \"Would You Please - Rachael Yamagata;Malcolm Burn\": {\"frequency\": 1, \"value\": \"Would You Please - ...\"}, \"Rudy - Supertramp\": {\"frequency\": 1, \"value\": \"Rudy - Supertramp\"}, \"Tengo Un Trato - Mala Rodriguez\": {\"frequency\": 6, \"value\": \"Tengo Un Trato - ...\"}, \"Thank You for Being a Friend - Andrew Gold\": {\"frequency\": 24, \"value\": \"Thank You for ...\"}, \"Pills - Bo Diddley\": {\"frequency\": 8, \"value\": \"Pills - Bo Diddley\"}, \"Broken_ Beat & Scarred - Metallica\": {\"frequency\": 6, \"value\": \"Broken_ Beat & ...\"}, \"Para Hacerme Perdonar (En Vivo Teatro Metropolitan) - Ely Guerra\": {\"frequency\": 1, \"value\": \"Para Hacerme ...\"}, \"G4L - Rihanna\": {\"frequency\": 8, \"value\": \"G4L - Rihanna\"}, \"Creep (Explicit) - Radiohead\": {\"frequency\": 1, \"value\": \"Creep (Explicit) - ...\"}, \"Breathe - Jill Scott\": {\"frequency\": 19, \"value\": \"Breathe - Jill ...\"}, \"Smell Of Desire. - Enigma\": {\"frequency\": 10, \"value\": \"Smell Of Desire. - ...\"}, \"To Go Beyond (II) - Enya\": {\"frequency\": 20, \"value\": \"To Go Beyond (II) ...\"}, \"Ave Maria - Celtic Woman\": {\"frequency\": 13, \"value\": \"Ave Maria - Celtic ...\"}, \"You've Got Everything Now - The Smiths\": {\"frequency\": 13, \"value\": \"You've Got ...\"}, \"Tropicana - Ratatat\": {\"frequency\": 16, \"value\": \"Tropicana - ...\"}, \"Family Tree - TV On The Radio\": {\"frequency\": 2, \"value\": \"Family Tree - TV ...\"}, \"Paris_ Tokyo (Explicit Album Version) - Lupe Fiasco\": {\"frequency\": 1, \"value\": \"Paris_ Tokyo ...\"}, \"Head Like A Hole - Nine Inch Nails\": {\"frequency\": 3, \"value\": \"Head Like A Hole - ...\"}, \"Samba Tranquille - Thievery Corporation\": {\"frequency\": 17, \"value\": \"Samba Tranquille - ...\"}, \"Challengers - The New Pornographers\": {\"frequency\": 1, \"value\": \"Challengers - The ...\"}, \"Endlessly - Muse\": {\"frequency\": 9, \"value\": \"Endlessly - Muse\"}, \"Before You Accuse Me (Album Version) - Eric Clapton\": {\"frequency\": 2, \"value\": \"Before You Accuse ...\"}, \"Lo Mismo Que Yo - Bacilos\": {\"frequency\": 2, \"value\": \"Lo Mismo Que Yo - ...\"}, \"Gonna Make You Sweat  (Everybody Dance Now) - C & C Music Factory Feat. Freedom Williams\": {\"frequency\": 1, \"value\": \"Gonna Make You ...\"}, \"So Long_ Lonesome - Explosions In The Sky\": {\"frequency\": 3, \"value\": \"So Long_ Lonesome ...\"}, \"Creepin Up The Backstairs - The Fratellis\": {\"frequency\": 4, \"value\": \"Creepin Up The ...\"}, \"Feel It - Black Eyed Peas\": {\"frequency\": 1, \"value\": \"Feel It - Black ...\"}, \"Indestructible - Ray Barretto\": {\"frequency\": 1, \"value\": \"Indestructible - ...\"}, \"NJ Legion Iced Tea - A Day To Remember\": {\"frequency\": 18, \"value\": \"NJ Legion Iced Tea ...\"}, \"Fire Bomb - Rihanna\": {\"frequency\": 41, \"value\": \"Fire Bomb - ...\"}, \"Eu Quero Um Samba - Jo\\ufffd\\ufffdo Gilberto\": {\"frequency\": 14, \"value\": \"Eu Quero Um Samba ...\"}, \"Big Big Love (Fig .2) - Foals\": {\"frequency\": 9, \"value\": \"Big Big Love (Fig ...\"}, \"Weird Fishes/Arpeggi - Radiohead\": {\"frequency\": 62, \"value\": \"Weird ...\"}, \"North Of the Yukon - Klaus Schulze\": {\"frequency\": 19, \"value\": \"North Of the Yukon ...\"}, \"Mary Jane (Acoustic Album Version) - Alanis Morissette\": {\"frequency\": 21, \"value\": \"Mary Jane ...\"}, \"Dear Catastrophe Waitress - Belle & Sebastian\": {\"frequency\": 8, \"value\": \"Dear Catastrophe ...\"}, \"Ain't Got A Lot of Money - Slightly Stoopid\": {\"frequency\": 2, \"value\": \"Ain't Got A Lot of ...\"}, \"La Perla - Calle 13 Feat. Rub\\ufffd\\ufffdn Blades Y La Chilinga\": {\"frequency\": 6, \"value\": \"La Perla - Calle ...\"}, \"Burial - Miike Snow\": {\"frequency\": 8, \"value\": \"Burial - Miike ...\"}, \"Found Out - Caribou\": {\"frequency\": 8, \"value\": \"Found Out - ...\"}, \"C'mon Girl (Album Version) - Red Hot Chili Peppers\": {\"frequency\": 13, \"value\": \"C'mon Girl (Album ...\"}, \"View From Heaven - Yellowcard\": {\"frequency\": 8, \"value\": \"View From Heaven - ...\"}, \"Mu\\ufffd\\ufffdrdete la lengua - Francisca Valenzuela\": {\"frequency\": 14, \"value\": \"Mu\\u00e9rdete la lengua ...\"}, \"I Want I Want - Digitalism\": {\"frequency\": 3, \"value\": \"I Want I Want - ...\"}, \"Where Did He Go - Keri Hilson\": {\"frequency\": 2, \"value\": \"Where Did He Go - ...\"}, \"Over The Rainbow - Eva Cassidy\": {\"frequency\": 1, \"value\": \"Over The Rainbow - ...\"}, \"Costumbres Argentinas - Los Abuelos De La Nada\": {\"frequency\": 2, \"value\": \"Costumbres ...\"}, \"Zero - The Pain Machinery\": {\"frequency\": 4, \"value\": \"Zero - The Pain ...\"}, \"Uptown - Drake / Bun B / Lil Wayne\": {\"frequency\": 1, \"value\": \"Uptown - Drake / ...\"}, \"Soco Amaretto Lime - Brand New\": {\"frequency\": 1, \"value\": \"Soco Amaretto Lime ...\"}, \"Jazz (We've Got) - A Tribe Called Quest\": {\"frequency\": 2, \"value\": \"Jazz (We've Got) - ...\"}, \"Ikea - Jonathan Coulton\": {\"frequency\": 5, \"value\": \"Ikea - Jonathan ...\"}, \"Ten Commandments (Amended Version) - The Notorious B.I.G.\": {\"frequency\": 1, \"value\": \"Ten Commandments ...\"}, \"Tetragrammaton - The Mars Volta\": {\"frequency\": 1, \"value\": \"Tetragrammaton - ...\"}, \"Day Too Soon (Album Version) - Sia\": {\"frequency\": 4, \"value\": \"Day Too Soon ...\"}, \"We Got The Beat (Single Mix) - The Go-Go's\": {\"frequency\": 2, \"value\": \"We Got The Beat ...\"}, \"Growing Old Is Getting Old (Album Version) - Silversun Pickups\": {\"frequency\": 3, \"value\": \"Growing Old Is ...\"}, \"High - Lighthouse Family\": {\"frequency\": 1, \"value\": \"High - Lighthouse ...\"}, \"Sole Nero - Litfiba\": {\"frequency\": 1, \"value\": \"Sole Nero - ...\"}, \"Pray - Apocalyptica\": {\"frequency\": 4, \"value\": \"Pray - ...\"}, \"In League With Satan - Krisiun\": {\"frequency\": 1, \"value\": \"In League With ...\"}, \"Hell Yes - Beck\": {\"frequency\": 2, \"value\": \"Hell Yes - Beck\"}, \"Ghost Of A Good Thing - Dashboard Confessional\": {\"frequency\": 1, \"value\": \"Ghost Of A Good ...\"}, \"Day 'N' Nite - Kid Cudi Vs Crookers\": {\"frequency\": 5, \"value\": \"Day 'N' Nite - Kid ...\"}, \"Anyone Else But You - The Moldy Peaches\": {\"frequency\": 2, \"value\": \"Anyone Else But ...\"}, \"Holes To Heaven - Jack Johnson\": {\"frequency\": 1, \"value\": \"Holes To Heaven - ...\"}, \"Here Without You - 3 Doors Down\": {\"frequency\": 26, \"value\": \"Here Without You - ...\"}, \"Your Hand In Mine - Explosions In The Sky\": {\"frequency\": 2, \"value\": \"Your Hand In Mine ...\"}, \"Poison Oak (Album Version) - Bright Eyes\": {\"frequency\": 1, \"value\": \"Poison Oak (Album ...\"}, \"Another Time Another Place - U2\": {\"frequency\": 10, \"value\": \"Another Time ...\"}, \"Cycling Trivialities - Jose Gonzalez\": {\"frequency\": 10, \"value\": \"Cycling ...\"}, \"For Beginners - M Ward\": {\"frequency\": 2, \"value\": \"For Beginners - M ...\"}, \"Stare At The Sun - Thrice\": {\"frequency\": 1, \"value\": \"Stare At The Sun - ...\"}, \"Soon As I Get Home(Album Version) - Faith Evans\": {\"frequency\": 1, \"value\": \"Soon As I Get ...\"}, \"Easier To Run (Album Version) - Linkin Park\": {\"frequency\": 30, \"value\": \"Easier To Run ...\"}, \"Got To Get My Heart Back - Keyshia Cole\": {\"frequency\": 4, \"value\": \"Got To Get My ...\"}, \"Gears - Future Rock\": {\"frequency\": 4, \"value\": \"Gears - Future ...\"}, \"Tidal Wave - Owl City\": {\"frequency\": 22, \"value\": \"Tidal Wave - Owl ...\"}, \"Wildcat - Ratatat\": {\"frequency\": 5, \"value\": \"Wildcat - Ratatat\"}, \"Ol' Lady (Explicit Album Version) - Plies\": {\"frequency\": 3, \"value\": \"Ol' Lady (Explicit ...\"}, \"I Hate Everything About You - Three Days Grace\": {\"frequency\": 1, \"value\": \"I Hate Everything ...\"}, \"Cabe-c-o - Calle 13\": {\"frequency\": 7, \"value\": \"Cabe-c-o - Calle ...\"}, \"The Nurse Who Loved Me - A Perfect Circle\": {\"frequency\": 2, \"value\": \"The Nurse Who ...\"}, \"My Heart (Album Version) - Paramore\": {\"frequency\": 17, \"value\": \"My Heart (Album ...\"}, \"Keep Your Hands Off Her - The Black Keys\": {\"frequency\": 9, \"value\": \"Keep Your Hands ...\"}, \"Re-Hash - Gorillaz\": {\"frequency\": 2, \"value\": \"Re-Hash - Gorillaz\"}, \"Come On Come On (Digital Album Version) - JET\": {\"frequency\": 4, \"value\": \"Come On Come On ...\"}, \"Headlong - Queen\": {\"frequency\": 3, \"value\": \"Headlong - Queen\"}, \"Destination Calabria - Alex Gaudino Feat. Crystal Waters\": {\"frequency\": 2, \"value\": \"Destination ...\"}, \"Arma dispuesta - Che Sudaka\": {\"frequency\": 7, \"value\": \"Arma dispuesta - ...\"}, \"Fall In - Esperanza Spalding / Leo Genovese\": {\"frequency\": 14, \"value\": \"Fall In - ...\"}, \"Fresh - Daft Punk\": {\"frequency\": 2, \"value\": \"Fresh - Daft Punk\"}, \"Hairline Fracture - Rise Against\": {\"frequency\": 14, \"value\": \"Hairline Fracture ...\"}, \"Captains and Cruise Ships - Owl City\": {\"frequency\": 12, \"value\": \"Captains and ...\"}, \"Do You Believe In Love - Huey Lewis And The News\": {\"frequency\": 1, \"value\": \"Do You Believe In ...\"}, \"No es lo mismo - Alejandro Sanz\": {\"frequency\": 10, \"value\": \"No es lo mismo - ...\"}, \"My Own Hell - Five Finger Death Punch\": {\"frequency\": 10, \"value\": \"My Own Hell - Five ...\"}, \"Bad Trails - Battles\": {\"frequency\": 1, \"value\": \"Bad Trails - ...\"}, \"All She Wants Is - Duran Duran\": {\"frequency\": 1, \"value\": \"All She Wants Is - ...\"}, \"Long Black Road - Slim Dusty\": {\"frequency\": 13, \"value\": \"Long Black Road - ...\"}, \"Down River - The Temper Trap\": {\"frequency\": 23, \"value\": \"Down River - The ...\"}, \"Stroke You Up (LP Version) - Changing Faces\": {\"frequency\": 1, \"value\": \"Stroke You Up (LP ...\"}, \"Spring nicht - Tokio Hotel\": {\"frequency\": 3, \"value\": \"Spring nicht - ...\"}, \"Forgiven (Acoustic Album Version) - Alanis Morissette\": {\"frequency\": 8, \"value\": \"Forgiven (Acoustic ...\"}, \"Possible Grenade - Broken Social Scene Presents: Brendan Canning\": {\"frequency\": 12, \"value\": \"Possible Grenade - ...\"}, \"The Great Escape (Album Version) (Explicit) - We Are Scientists\": {\"frequency\": 1, \"value\": \"The Great Escape ...\"}, \"Isn\\u0019t It A Lovely Night? - The Decemberists\": {\"frequency\": 1, \"value\": \"Isn\\u0019t It A Lovely ...\"}, \"Asche Zu Asche - Rammstein\": {\"frequency\": 5, \"value\": \"Asche Zu Asche - ...\"}, \"Heroes (Album Version) - Shinedown\": {\"frequency\": 1, \"value\": \"Heroes (Album ...\"}, \"He Loves Me - Jill Scott\": {\"frequency\": 3, \"value\": \"He Loves Me - Jill ...\"}, \"Midlife Crisis - Faith No More\": {\"frequency\": 9, \"value\": \"Midlife Crisis - ...\"}, \"A Million Ways - Ok Go\": {\"frequency\": 1, \"value\": \"A Million Ways - ...\"}, \"The Only One - The Black Keys\": {\"frequency\": 10, \"value\": \"The Only One - The ...\"}, \"Don't Turn Around - Ace of Base\": {\"frequency\": 4, \"value\": \"Don't Turn Around ...\"}, \"2080 - Yeasayer\": {\"frequency\": 1, \"value\": \"2080 - Yeasayer\"}, \"Aldebaran - Enya\": {\"frequency\": 32, \"value\": \"Aldebaran - Enya\"}, \"Mountains - Biffy Clyro\": {\"frequency\": 3, \"value\": \"Mountains - Biffy ...\"}, \"Carousels - Beirut\": {\"frequency\": 1, \"value\": \"Carousels - Beirut\"}, \"Cataracts - Andrew Bird\": {\"frequency\": 1, \"value\": \"Cataracts - Andrew ...\"}, \"Hey Brittany - Forever The Sickest Kids\": {\"frequency\": 2, \"value\": \"Hey Brittany - ...\"}, \"The Go Getter - The Black Keys\": {\"frequency\": 16, \"value\": \"The Go Getter - ...\"}, \"Driven To Tears - The Police\": {\"frequency\": 3, \"value\": \"Driven To Tears - ...\"}, \"If You're Into It - Flight Of The Conchords\": {\"frequency\": 1, \"value\": \"If You're Into It ...\"}, \"Mutter - Rammstein\": {\"frequency\": 1, \"value\": \"Mutter - Rammstein\"}, \"When In Rome - Nickel Creek\": {\"frequency\": 3, \"value\": \"When In Rome - ...\"}, \"Have Mercy On Me - The Black Keys\": {\"frequency\": 3, \"value\": \"Have Mercy On Me - ...\"}, \"..Come Around - Collie Buddz\": {\"frequency\": 3, \"value\": \"..Come Around - ...\"}, \"Absolutely Zero (LP Version) - Jason Mraz\": {\"frequency\": 2, \"value\": \"Absolutely Zero ...\"}, \"Freewill - Rush\": {\"frequency\": 4, \"value\": \"Freewill - Rush\"}, \"Shelter - Bedouin Soundclash\": {\"frequency\": 3, \"value\": \"Shelter - Bedouin ...\"}, \"Me_ Myself And I - Beyonc\\ufffd\\ufffd\": {\"frequency\": 11, \"value\": \"Me_ Myself And I - ...\"}, \"Everybody Everybody - Black Box\": {\"frequency\": 7, \"value\": \"Everybody ...\"}, \"I Will Still Love You - Britney Spears duet with Don Phillip\": {\"frequency\": 1, \"value\": \"I Will Still Love ...\"}, \"Underwater World - ATB\": {\"frequency\": 1, \"value\": \"Underwater World - ...\"}, \"Mia - Emmy The Great\": {\"frequency\": 124, \"value\": \"Mia - Emmy The ...\"}, \"Trouble Sleeping - Corinne Bailey Rae\": {\"frequency\": 6, \"value\": \"Trouble Sleeping - ...\"}, \"Standing O - Mariah Carey\": {\"frequency\": 2, \"value\": \"Standing O - ...\"}, \"Neighborhood #3 (Power Out) - Arcade Fire\": {\"frequency\": 3, \"value\": \"Neighborhood #3 ...\"}, \"Brian Eno - MGMT\": {\"frequency\": 4, \"value\": \"Brian Eno - MGMT\"}, \"Under The Gun - The Killers\": {\"frequency\": 1, \"value\": \"Under The Gun - ...\"}, \"Sparks - Royksopp\": {\"frequency\": 17, \"value\": \"Sparks - Royksopp\"}, \"Napoleon Says - Phoenix\": {\"frequency\": 6, \"value\": \"Napoleon Says - ...\"}, \"I'm Real - Jennifer Lopez featuring Ja Rule\": {\"frequency\": 1, \"value\": \"I'm Real - ...\"}, \"Too Bad - Nickelback\": {\"frequency\": 10, \"value\": \"Too Bad - ...\"}, \"Point Of Know Return - Kansas\": {\"frequency\": 1, \"value\": \"Point Of Know ...\"}, \"Let There Be Lite (Album Version) - Justice\": {\"frequency\": 1, \"value\": \"Let There Be Lite ...\"}, \"The Perfect Kiss - New Order\": {\"frequency\": 3, \"value\": \"The Perfect Kiss - ...\"}, \"Miniature Disasters - KT Tunstall\": {\"frequency\": 8, \"value\": \"Miniature ...\"}, \"Let\\ufffd\\ufffds Buy Happiness - Boys Noize\": {\"frequency\": 4, \"value\": \"Let\\u00b4s Buy ...\"}, \"Video - India.Arie\": {\"frequency\": 1, \"value\": \"Video - India.Arie\"}, \"Stuck Between - Riverside\": {\"frequency\": 1, \"value\": \"Stuck Between - ...\"}, \"On A Plain - Nirvana\": {\"frequency\": 5, \"value\": \"On A Plain - ...\"}, \"St. Jimmy [feat. Green Day & The Cast Of American Idiot] (Album Version) - Green Day\": {\"frequency\": 19, \"value\": \"St. Jimmy [feat. ...\"}, \"Dry And Dusty - Fever Ray\": {\"frequency\": 21, \"value\": \"Dry And Dusty - ...\"}, \"Mr Blue - Yazoo\": {\"frequency\": 15, \"value\": \"Mr Blue - Yazoo\"}, \"Heart Of The City (Ain't No Love) - Jay-Z\": {\"frequency\": 5, \"value\": \"Heart Of The City ...\"}, \"Disco Infiltrator (FK's Infiltrated Vocal) - LCD Soundsystem\": {\"frequency\": 4, \"value\": \"Disco Infiltrator ...\"}, \"Go Go Gadget Flow (Explicit Album Version) - Lupe Fiasco\": {\"frequency\": 1, \"value\": \"Go Go Gadget Flow ...\"}, \"Nightvision - Daft Punk\": {\"frequency\": 12, \"value\": \"Nightvision - Daft ...\"}, \"Poor Leno - R\\ufffd\\ufffdyksopp\": {\"frequency\": 13, \"value\": \"Poor Leno - ...\"}, \"Love You More - Alexi Murdoch\": {\"frequency\": 5, \"value\": \"Love You More - ...\"}, \"Rosemary - Scott Walker\": {\"frequency\": 10, \"value\": \"Rosemary - Scott ...\"}, \"She (Remastered Album Version) - Gram Parsons\": {\"frequency\": 6, \"value\": \"She (Remastered ...\"}, \"If You're Gone (Remastered Version) - matchbox twenty\": {\"frequency\": 15, \"value\": \"If You're Gone ...\"}, \"Why!... - Enigma\": {\"frequency\": 6, \"value\": \"Why!... - Enigma\"}, \"Eazy-Er Said Than Dunn - Eazy-E\": {\"frequency\": 1, \"value\": \"Eazy-Er Said Than ...\"}, \"Shake A Tail Feather - The Cheetah Girls\": {\"frequency\": 5, \"value\": \"Shake A Tail ...\"}, \"Booksmart Devil - Silversun Pickups\": {\"frequency\": 1, \"value\": \"Booksmart Devil - ...\"}, \"Never Enough - Epica\": {\"frequency\": 2, \"value\": \"Never Enough - ...\"}, \"If Looks Could Kill... - A Day To Remember\": {\"frequency\": 2, \"value\": \"If Looks Could ...\"}, \"smile around the face - Four Tet\": {\"frequency\": 3, \"value\": \"smile around the ...\"}, \"Make It With You (LP Version) - Bread\": {\"frequency\": 4, \"value\": \"Make It With You ...\"}, \"Red To Black (Album Version) - Fort Minor (Featuring Kenna_ Jonah Matranga And Styles Of Beyond)\": {\"frequency\": 2, \"value\": \"Red To Black ...\"}, \"The Heart Of Life - John Mayer\": {\"frequency\": 1, \"value\": \"The Heart Of Life ...\"}, \"Old Soul Song - Bright Eyes\": {\"frequency\": 2, \"value\": \"Old Soul Song - ...\"}, \"Pow Pow - LCD Soundsystem\": {\"frequency\": 7, \"value\": \"Pow Pow - LCD ...\"}, \"No More Mosquitoes - Four Tet\": {\"frequency\": 1, \"value\": \"No More Mosquitoes ...\"}, \"Ain't That A Bitch - Lil Wayne\": {\"frequency\": 2, \"value\": \"Ain't That A Bitch ...\"}, \"Loud Pipes - Ratatat\": {\"frequency\": 11, \"value\": \"Loud Pipes - ...\"}, \"Disconnect_ Disconnect - Osker\": {\"frequency\": 1, \"value\": \"Disconnect_ ...\"}, \"Buzzin' - Shwayze\": {\"frequency\": 2, \"value\": \"Buzzin' - Shwayze\"}, \"You Are My Sunshine - Norman Blake\": {\"frequency\": 2, \"value\": \"You Are My ...\"}, \"Never Enough - Five Finger Death Punch\": {\"frequency\": 2, \"value\": \"Never Enough - ...\"}, \"Disappearing World (Album Version) - David Gray\": {\"frequency\": 3, \"value\": \"Disappearing World ...\"}, \"Little Brother - Grizzly Bear\": {\"frequency\": 15, \"value\": \"Little Brother - ...\"}, \"Heart Shaped Box - Nirvana\": {\"frequency\": 8, \"value\": \"Heart Shaped Box - ...\"}, \"Sunshine Of Your Love - Cream\": {\"frequency\": 2, \"value\": \"Sunshine Of Your ...\"}, \"Here We Are (Family In The Hallways) - The Appleseed Cast\": {\"frequency\": 3, \"value\": \"Here We Are ...\"}, \"Dance_ Dance - Fall Out Boy\": {\"frequency\": 10, \"value\": \"Dance_ Dance - ...\"}, \"Firestarter - The Prodigy\": {\"frequency\": 2, \"value\": \"Firestarter - The ...\"}, \"She Had The World (Album Version) - Panic At The Disco\": {\"frequency\": 2, \"value\": \"She Had The World ...\"}, \"Modern Times - The Black Keys\": {\"frequency\": 5, \"value\": \"Modern Times - The ...\"}, \"Thin Line - Jurassic 5 / Nelly Furtado\": {\"frequency\": 2, \"value\": \"Thin Line - ...\"}, \"Mr. Man - Alicia Keys;Jimmy Cozier\": {\"frequency\": 3, \"value\": \"Mr. Man - Alicia ...\"}, \"Snare Hangar - Battles\": {\"frequency\": 4, \"value\": \"Snare Hangar - ...\"}, \"The Bitter End - Placebo\": {\"frequency\": 4, \"value\": \"The Bitter End - ...\"}, \"Exogenesis: Symphony Part 3 [Redemption] - Muse\": {\"frequency\": 10, \"value\": \"Exogenesis: ...\"}, \"Pollockshields - 1990s\": {\"frequency\": 2, \"value\": \"Pollockshields - ...\"}, \"Effigy - Andrew Bird\": {\"frequency\": 1, \"value\": \"Effigy - Andrew ...\"}, \"This Fire - Franz Ferdinand\": {\"frequency\": 2, \"value\": \"This Fire - Franz ...\"}, \"Maundy Thursday - Air France\": {\"frequency\": 19, \"value\": \"Maundy Thursday - ...\"}, \"Hiatus (feat. NO) - Asking Alexandria\": {\"frequency\": 2, \"value\": \"Hiatus (feat. NO) ...\"}, \"I'm Not A Loser - Descendents\": {\"frequency\": 1, \"value\": \"I'm Not A Loser - ...\"}, \"Tiger Mountain Peasant Song - Fleet Foxes\": {\"frequency\": 6, \"value\": \"Tiger Mountain ...\"}, \"Lara's Castle - Yann Tiersen\": {\"frequency\": 2, \"value\": \"Lara's Castle - ...\"}, \"Breathe In - Frou Frou\": {\"frequency\": 1, \"value\": \"Breathe In - Frou ...\"}, \"Live High (Album Version) - Jason Mraz\": {\"frequency\": 3, \"value\": \"Live High (Album ...\"}, \"That's Just The Way We Roll - Jonas Brothers\": {\"frequency\": 2, \"value\": \"That's Just The ...\"}, \"All That She Wants - Ace of Base\": {\"frequency\": 2, \"value\": \"All That She Wants ...\"}, \"Crunk Juice - Lil Jon / The East Side Boyz\": {\"frequency\": 2, \"value\": \"Crunk Juice - Lil ...\"}, \"Lord Have Mercy (Amended Version) - Lil Scrappy\": {\"frequency\": 14, \"value\": \"Lord Have Mercy ...\"}, \"Jambalaya (On The Bayou) - Carpenters\": {\"frequency\": 7, \"value\": \"Jambalaya (On The ...\"}, \"Tourette's - Nirvana\": {\"frequency\": 1, \"value\": \"Tourette's - ...\"}, \"Dom De Iludir - Gal Costa\": {\"frequency\": 6, \"value\": \"Dom De Iludir - ...\"}, \"Voy A Pasarmelo Bien - Hombres G\": {\"frequency\": 8, \"value\": \"Voy A Pasarmelo ...\"}, \"Walking - The Dodos\": {\"frequency\": 4, \"value\": \"Walking - The ...\"}, \"Don't Walk Away - Miley Cyrus\": {\"frequency\": 1, \"value\": \"Don't Walk Away - ...\"}, \"Dental Care - Owl City\": {\"frequency\": 9, \"value\": \"Dental Care - Owl ...\"}, \"Sleeping In (Album) - Postal Service\": {\"frequency\": 9, \"value\": \"Sleeping In ...\"}, \"Take Care - Beach House\": {\"frequency\": 7, \"value\": \"Take Care - Beach ...\"}, \"You're Not Alone - Saosin\": {\"frequency\": 2, \"value\": \"You're Not Alone - ...\"}, \"Breakin' At The Cracks - Colbie Caillat\": {\"frequency\": 4, \"value\": \"Breakin' At The ...\"}, \"Roll With It - Easton Corbin\": {\"frequency\": 23, \"value\": \"Roll With It - ...\"}, \"Love Like Honey (amended album version) - Pretty Ricky\": {\"frequency\": 16, \"value\": \"Love Like Honey ...\"}, \"I Never Told You - Colbie Caillat\": {\"frequency\": 2, \"value\": \"I Never Told You - ...\"}, \"James River Blues - Old Crow Medicine Show\": {\"frequency\": 4, \"value\": \"James River Blues ...\"}, \"Tomorrow - Avril Lavigne\": {\"frequency\": 43, \"value\": \"Tomorrow - Avril ...\"}, \"Absolution: Of Flight and Failure - A Hope For Home\": {\"frequency\": 3, \"value\": \"Absolution: Of ...\"}, \"That's All (Album Version) - Michael Bubl\\ufffd\\ufffd\": {\"frequency\": 47, \"value\": \"That's All (Album ...\"}, \"Fortunate Son - Creedence Clearwater Revival\": {\"frequency\": 41, \"value\": \"Fortunate Son - ...\"}, \"Change - F.I.R.\": {\"frequency\": 20, \"value\": \"Change - F.I.R.\"}, \"Go Skate! (Possessed To Skate '97) - Suicidal Tendencies\": {\"frequency\": 3, \"value\": \"Go Skate! ...\"}, \"Scumbag Blues - Them Crooked Vultures\": {\"frequency\": 2, \"value\": \"Scumbag Blues - ...\"}, \"Red Light Indicates Doors Are Secured - Arctic Monkeys\": {\"frequency\": 13, \"value\": \"Red Light ...\"}, \"I Still Remember - Bloc Party\": {\"frequency\": 1, \"value\": \"I Still Remember - ...\"}, \"Lacrymosa - Evanescence\": {\"frequency\": 2, \"value\": \"Lacrymosa - ...\"}, \"Tigerlily - La Roux\": {\"frequency\": 2, \"value\": \"Tigerlily - La ...\"}, \"My Dad's Gone Crazy - Eminem / Hailie Jade\": {\"frequency\": 42, \"value\": \"My Dad's Gone ...\"}, \"More Time (Album Version) - NEEDTOBREATHE\": {\"frequency\": 7, \"value\": \"More Time (Album ...\"}, \"A Day Late - Anberlin\": {\"frequency\": 1, \"value\": \"A Day Late - ...\"}, \"You and Me - SOJA\": {\"frequency\": 9, \"value\": \"You and Me - SOJA\"}, \"Hit Or Miss - New Found Glory\": {\"frequency\": 2, \"value\": \"Hit Or Miss - New ...\"}, \"Which Will - Nick Drake\": {\"frequency\": 4, \"value\": \"Which Will - Nick ...\"}, \"Kiss Of Life - Sade\": {\"frequency\": 10, \"value\": \"Kiss Of Life - ...\"}, \"Everybody Know - Guts\": {\"frequency\": 9, \"value\": \"Everybody Know - ...\"}, \"For All The Cows - Foo Fighters\": {\"frequency\": 5, \"value\": \"For All The Cows - ...\"}, \"(Anaesthesia) Pulling Teath - Metallica\": {\"frequency\": 1, \"value\": \"(Anaesthesia) ...\"}, \"Cosmic Dancer - T. Rex\": {\"frequency\": 3, \"value\": \"Cosmic Dancer - T. ...\"}, \"The Sweetest Thing - Camera Obscura\": {\"frequency\": 1, \"value\": \"The Sweetest Thing ...\"}, \"El Scorcho - Weezer\": {\"frequency\": 2, \"value\": \"El Scorcho - ...\"}, \"Dove And Grenade - Hollywood Undead\": {\"frequency\": 3, \"value\": \"Dove And Grenade - ...\"}, \"Three Seed - Silversun Pickups\": {\"frequency\": 2, \"value\": \"Three Seed - ...\"}, \"Wake Up Call - Maroon 5\": {\"frequency\": 19, \"value\": \"Wake Up Call - ...\"}, \"Two Is Better Than One - Boys Like Girls featuring Taylor Swift\": {\"frequency\": 1, \"value\": \"Two Is Better Than ...\"}, \"Lacrimosa - Regina Spektor\": {\"frequency\": 1, \"value\": \"Lacrimosa - Regina ...\"}, \"Length Of Love - Interpol\": {\"frequency\": 4, \"value\": \"Length Of Love - ...\"}, \"Finnegan's Wake (Album Version) - Dropkick Murphys\": {\"frequency\": 1, \"value\": \"Finnegan's Wake ...\"}, \"Fly - Ludovico Einaudi\": {\"frequency\": 15, \"value\": \"Fly - Ludovico ...\"}, \"Ojos De Video Tape - Charly Garc\\ufffd\\ufffda\": {\"frequency\": 2, \"value\": \"Ojos De Video Tape ...\"}, \"July Jones - The New Pornographers\": {\"frequency\": 1, \"value\": \"July Jones - The ...\"}, \"Kill The Poor - Dead Kennedys\": {\"frequency\": 4, \"value\": \"Kill The Poor - ...\"}, \"God - OutKast\": {\"frequency\": 2, \"value\": \"God - OutKast\"}, \"Right Where It Belongs - Nine Inch Nails\": {\"frequency\": 2, \"value\": \"Right Where It ...\"}, \"The Water - Feist\": {\"frequency\": 8, \"value\": \"The Water - Feist\"}, \"If Only - The Kooks\": {\"frequency\": 5, \"value\": \"If Only - The ...\"}, \"Act Naturally (Album Version) - Leon Russell\": {\"frequency\": 1, \"value\": \"Act Naturally ...\"}, \"Come A Little Closer - Dierks Bentley\": {\"frequency\": 4, \"value\": \"Come A Little ...\"}, \"Mother In-Law - Ernie K-Doe\": {\"frequency\": 3, \"value\": \"Mother In-Law - ...\"}, \"Never Met The Gooch - Kid Dynamite\": {\"frequency\": 5, \"value\": \"Never Met The ...\"}, \"Dance Little Liar - Arctic Monkeys\": {\"frequency\": 7, \"value\": \"Dance Little Liar ...\"}, \"My Oh My - Aqua\": {\"frequency\": 13, \"value\": \"My Oh My - Aqua\"}, \"Almost Grown - Chuck Berry\": {\"frequency\": 2, \"value\": \"Almost Grown - ...\"}, \"Eqypt - The Mercury Program\": {\"frequency\": 3, \"value\": \"Eqypt - The ...\"}, \"It's So Easy - Guns N' Roses\": {\"frequency\": 3, \"value\": \"It's So Easy - ...\"}, \"Bubble Toes - Jack Johnson\": {\"frequency\": 29, \"value\": \"Bubble Toes - Jack ...\"}, \"Just A Man - Faith No More\": {\"frequency\": 6, \"value\": \"Just A Man - Faith ...\"}, \"Friends_ Lovers Or Nothing - John Mayer\": {\"frequency\": 53, \"value\": \"Friends_ Lovers Or ...\"}, \"Catch You Baby (Steve Pitron & Max Sanna Radio Edit) - Lonnie Gordon\": {\"frequency\": 160, \"value\": \"Catch You Baby ...\"}, \"Got Me - She & Him\": {\"frequency\": 40, \"value\": \"Got Me - She & Him\"}, \"Can't Buy Me Love (Album Version) - Michael Bubl\\ufffd\\ufffd\": {\"frequency\": 2, \"value\": \"Can't Buy Me Love ...\"}, \"Clementine - Elliott Smith\": {\"frequency\": 3, \"value\": \"Clementine - ...\"}, \"Lazy Days - Enya\": {\"frequency\": 6, \"value\": \"Lazy Days - Enya\"}, \"If I Had - Eminem\": {\"frequency\": 17, \"value\": \"If I Had - Eminem\"}, \"Shoulder to shoulder 2009 - What We Feel\": {\"frequency\": 11, \"value\": \"Shoulder to ...\"}, \"Dream Lover - Bobby Darin\": {\"frequency\": 1, \"value\": \"Dream Lover - ...\"}, \"Southside - Common / Kanye West\": {\"frequency\": 1, \"value\": \"Southside - Common ...\"}, \"In My Arms - Snow Patrol\": {\"frequency\": 2, \"value\": \"In My Arms - Snow ...\"}, \"Boogie Shoes - KC & The Sunshine Band\": {\"frequency\": 4, \"value\": \"Boogie Shoes - KC ...\"}, \"All For Love - Bryan Adams / Sting / Rod Stewart\": {\"frequency\": 3, \"value\": \"All For Love - ...\"}, \"10:15 Saturday Night - The Cure\": {\"frequency\": 1, \"value\": \"10:15 Saturday ...\"}, \"Yer So Bad - Tom Petty\": {\"frequency\": 2, \"value\": \"Yer So Bad - Tom ...\"}, \"The Unthinking Majority (Album Version) - Serj Tankian\": {\"frequency\": 1, \"value\": \"The Unthinking ...\"}, \"I Can See Clearly Now - Donny Osmond\": {\"frequency\": 1, \"value\": \"I Can See Clearly ...\"}, \"Impossible Germany - Wilco\": {\"frequency\": 1, \"value\": \"Impossible Germany ...\"}, \"Horn Concerto No. 4 in E flat K495: II. Romance (Andante cantabile) - Barry Tuckwell/Academy of St Martin-in-the-Fields/Sir Neville Marriner\": {\"frequency\": 522, \"value\": \"Horn Concerto No. ...\"}, \"Invocation: Attica Blues - Archie Shepp / William Kunstler\": {\"frequency\": 4, \"value\": \"Invocation: Attica ...\"}, \"Surprise Ice - Kings Of Convenience\": {\"frequency\": 2, \"value\": \"Surprise Ice - ...\"}, \"Fistful of Love - Antony & The Johnsons\": {\"frequency\": 4, \"value\": \"Fistful of Love - ...\"}, \"Better in time - Leona Lewis\": {\"frequency\": 4, \"value\": \"Better in time - ...\"}, \"Walking Through The Country - The Grass Roots\": {\"frequency\": 1, \"value\": \"Walking Through ...\"}, \"Kalopsia - Mark Otten\": {\"frequency\": 15, \"value\": \"Kalopsia - Mark ...\"}, \"Hombre Al Agua - Soda Stereo\": {\"frequency\": 1, \"value\": \"Hombre Al Agua - ...\"}, \"Violet Hill - Coldplay\": {\"frequency\": 7, \"value\": \"Violet Hill - ...\"}, \"Dreamin' - Amos Lee\": {\"frequency\": 15, \"value\": \"Dreamin' - Amos ...\"}, \"So Com Voce - Thievery Corporation\": {\"frequency\": 4, \"value\": \"So Com Voce - ...\"}, \"Tranquilize - The Killers / Lou Reed\": {\"frequency\": 1, \"value\": \"Tranquilize - The ...\"}, \"Mr Bojangles - Robbie Williams\": {\"frequency\": 1, \"value\": \"Mr Bojangles - ...\"}, \"Maybe I'm Amazed (Album Version) - Jem\": {\"frequency\": 1, \"value\": \"Maybe I'm Amazed ...\"}, \"This Is Not A Test - She & Him\": {\"frequency\": 9, \"value\": \"This Is Not A Test ...\"}, \"Point And Shoot (Explicit Album Version) - Pepper\": {\"frequency\": 1, \"value\": \"Point And Shoot ...\"}, \"Way Out of Here [Album Version] - Porcupine Tree\": {\"frequency\": 2, \"value\": \"Way Out of Here ...\"}, \"Mud On The Tires - Brad Paisley\": {\"frequency\": 7, \"value\": \"Mud On The Tires - ...\"}, \"Hear You Me - Jimmy Eat World\": {\"frequency\": 1, \"value\": \"Hear You Me - ...\"}, \"Pieces - Chase & Status ft. Plan B\": {\"frequency\": 6, \"value\": \"Pieces - Chase & ...\"}, \"Michael - Franz Ferdinand\": {\"frequency\": 3, \"value\": \"Michael - Franz ...\"}, \"Tailgunner (1998 Digital Remaster) - Iron Maiden\": {\"frequency\": 2, \"value\": \"Tailgunner (1998 ...\"}, \"Coleccionista De Canciones - Camila\": {\"frequency\": 35, \"value\": \"Coleccionista De ...\"}, \"Just Dance - Lady GaGa / Colby O'Donis\": {\"frequency\": 84, \"value\": \"Just Dance - Lady ...\"}, \"Golden Cage - The Whitest Boy Alive\": {\"frequency\": 10, \"value\": \"Golden Cage - The ...\"}, \"Arriving Somewhere But Not Here (Album Version) - Porcupine Tree\": {\"frequency\": 4, \"value\": \"Arriving Somewhere ...\"}, \"Glass Of Water - Coldplay\": {\"frequency\": 1, \"value\": \"Glass Of Water - ...\"}, \"Whalebones - Man Man\": {\"frequency\": 1, \"value\": \"Whalebones - Man ...\"}, \"Get Out - Train\": {\"frequency\": 5, \"value\": \"Get Out - Train\"}, \"Hold You - ATB\": {\"frequency\": 2, \"value\": \"Hold You - ATB\"}, \"Bleeding Love - Leona Lewis\": {\"frequency\": 4, \"value\": \"Bleeding Love - ...\"}, \"You (featuring Tank) (Amended Album Version) - Plies featuring Tank\": {\"frequency\": 1, \"value\": \"You (featuring ...\"}, \"Ten Thousand Fists (Album Version) - Disturbed\": {\"frequency\": 3, \"value\": \"Ten Thousand Fists ...\"}, \"Questions - Jack Johnson\": {\"frequency\": 8, \"value\": \"Questions - Jack ...\"}, \"Leave (Get Out) - JoJo\": {\"frequency\": 3, \"value\": \"Leave (Get Out) - ...\"}, \"Space Olympics - The Lonely Island\": {\"frequency\": 1, \"value\": \"Space Olympics - ...\"}, \"Restless - Alison Krauss / Union Station\": {\"frequency\": 20, \"value\": \"Restless - Alison ...\"}, \"Willie O'Winsbury - Meg Baird\": {\"frequency\": 3, \"value\": \"Willie O'Winsbury ...\"}, \"One Life Stand - Hot Chip\": {\"frequency\": 7, \"value\": \"One Life Stand - ...\"}, \"I'll Meet You There - Owl City\": {\"frequency\": 24, \"value\": \"I'll Meet You ...\"}, \"Pass This On - The Knife\": {\"frequency\": 1, \"value\": \"Pass This On - The ...\"}, \"I CAN'T GET STARTED - Ron Carter\": {\"frequency\": 143, \"value\": \"I CAN'T GET ...\"}, \"Shelter Me - Train\": {\"frequency\": 21, \"value\": \"Shelter Me - Train\"}, \"Aeroplane Blues - The Black Keys\": {\"frequency\": 2, \"value\": \"Aeroplane Blues - ...\"}, \"The Crow & The Butterfly (Album Version) - Shinedown\": {\"frequency\": 17, \"value\": \"The Crow & The ...\"}, \"Meet Virginia - Train\": {\"frequency\": 1, \"value\": \"Meet Virginia - ...\"}, \"Stranger Things - Local Natives\": {\"frequency\": 5, \"value\": \"Stranger Things - ...\"}, \"Addams Groove - MC Hammer\": {\"frequency\": 4, \"value\": \"Addams Groove - MC ...\"}, \"What's My Name - DMX\": {\"frequency\": 1, \"value\": \"What's My Name - ...\"}, \"Universe & U - KT Tunstall\": {\"frequency\": 10, \"value\": \"Universe & U - KT ...\"}, \"Try Sleeping With A Broken Heart - Alicia Keys\": {\"frequency\": 4, \"value\": \"Try Sleeping With ...\"}, \"One Step Too Far - Faithless Featuring Dido\": {\"frequency\": 1, \"value\": \"One Step Too Far - ...\"}, \"Love Is Gone (Original Mix) - David Guetta - Joachim Garraud - Chris Willis\": {\"frequency\": 1, \"value\": \"Love Is Gone ...\"}, \"Rain - Subhumans\": {\"frequency\": 22, \"value\": \"Rain - Subhumans\"}, \"Lights & Music - Cut Copy\": {\"frequency\": 20, \"value\": \"Lights & Music - ...\"}, \"Fortunate Son (Live) - Dropkick Murphys\": {\"frequency\": 35, \"value\": \"Fortunate Son ...\"}, \"Down In A Hole - Alice In Chains\": {\"frequency\": 33, \"value\": \"Down In A Hole - ...\"}, \"Live And Let Die - Guns N' Roses\": {\"frequency\": 45, \"value\": \"Live And Let Die - ...\"}, \"Art Isn't Real (City Of Sin) - Deer Tick\": {\"frequency\": 5, \"value\": \"Art Isn't Real ...\"}, \"Man To Man - Gary Allan\": {\"frequency\": 28, \"value\": \"Man To Man - Gary ...\"}, \"Drunk and Hot Girls - Kanye West / Mos Def\": {\"frequency\": 1, \"value\": \"Drunk and Hot ...\"}, \"Now Behold The Lamb - Kirk Franklin & The Family\": {\"frequency\": 13, \"value\": \"Now Behold The ...\"}, \"Johnny Guitar - Pearl Jam\": {\"frequency\": 7, \"value\": \"Johnny Guitar - ...\"}, \"I Love To Boogie - T.Rex\": {\"frequency\": 2, \"value\": \"I Love To Boogie - ...\"}, \"Venus In Furs - The Velvet Underground / Nico\": {\"frequency\": 13, \"value\": \"Venus In Furs - ...\"}, \"Bounce - LMFAO\": {\"frequency\": 11, \"value\": \"Bounce - LMFAO\"}, \"One Step Closer (Album Version) - Linkin Park\": {\"frequency\": 43, \"value\": \"One Step Closer ...\"}, \"Neon Bible - Arcade Fire\": {\"frequency\": 37, \"value\": \"Neon Bible - ...\"}, \"Fly - Nick Drake\": {\"frequency\": 1, \"value\": \"Fly - Nick Drake\"}, \"Far Away - Cut Copy\": {\"frequency\": 16, \"value\": \"Far Away - Cut ...\"}, \"A Million Miles Away - Rihanna\": {\"frequency\": 3, \"value\": \"A Million Miles ...\"}, \"Freedom - Akon\": {\"frequency\": 12, \"value\": \"Freedom - Akon\"}, \"Lonely Lonely - Feist\": {\"frequency\": 1, \"value\": \"Lonely Lonely - ...\"}, \"I Wanna Love You (Akon Cover) ( Compilation) - The Maine\": {\"frequency\": 1, \"value\": \"I Wanna Love You ...\"}, \"Rusted Wheel - Silversun Pickups\": {\"frequency\": 8, \"value\": \"Rusted Wheel - ...\"}, \"How Can You Mend A Broken Heart? - Bee Gees\": {\"frequency\": 5, \"value\": \"How Can You Mend A ...\"}, \"Only One (Live) (Sessions@AOL) - Yellowcard\": {\"frequency\": 1, \"value\": \"Only One (Live) ...\"}, \"The Drying of the Lawns - The Tallest Man On Earth\": {\"frequency\": 18, \"value\": \"The Drying of the ...\"}, \"Back In Time (LP Version) - Huey Lewis And The News\": {\"frequency\": 7, \"value\": \"Back In Time (LP ...\"}, \"More Than Everything - Gareth Emery\": {\"frequency\": 31, \"value\": \"More Than ...\"}, \"Miami - Foals\": {\"frequency\": 7, \"value\": \"Miami - Foals\"}, \"Heartless - The Fray\": {\"frequency\": 1, \"value\": \"Heartless - The ...\"}, \"Gut Feeling - Devo\": {\"frequency\": 1, \"value\": \"Gut Feeling - Devo\"}, \"Resistance - Muse\": {\"frequency\": 19, \"value\": \"Resistance - Muse\"}, \"Eye Of The Tiger - Survivor\": {\"frequency\": 1, \"value\": \"Eye Of The Tiger - ...\"}, \"Hands Held High (Album Version) - Linkin Park\": {\"frequency\": 3, \"value\": \"Hands Held High ...\"}, \"Broken - Gorillaz\": {\"frequency\": 1, \"value\": \"Broken - Gorillaz\"}, \"Vicinity Of Obscenity - System of a Down\": {\"frequency\": 1, \"value\": \"Vicinity Of ...\"}, \"Gimme The Loot (Album Version) - The Notorious B.I.G.\": {\"frequency\": 8, \"value\": \"Gimme The Loot ...\"}, \"By Your Side - Tenth Avenue North\": {\"frequency\": 4, \"value\": \"By Your Side - ...\"}, \"(Oh) Pretty Woman (Remastered Album Version) - Van Halen\": {\"frequency\": 2, \"value\": \"(Oh) Pretty Woman ...\"}, \"Tessie - Dropkick Murphys\": {\"frequency\": 3, \"value\": \"Tessie - Dropkick ...\"}, \"Play On - Carrie Underwood\": {\"frequency\": 1, \"value\": \"Play On - Carrie ...\"}, \"I'm Sorry - Flyleaf\": {\"frequency\": 3, \"value\": \"I'm Sorry - ...\"}, \"Public Pervert - Interpol\": {\"frequency\": 25, \"value\": \"Public Pervert - ...\"}, \"Kid A - Radiohead\": {\"frequency\": 16, \"value\": \"Kid A - Radiohead\"}, \"A Certain Romance - Arctic Monkeys\": {\"frequency\": 10, \"value\": \"A Certain Romance ...\"}, \"Wet Sand (Album Version) - Red Hot Chili Peppers\": {\"frequency\": 5, \"value\": \"Wet Sand (Album ...\"}, \"Singing in the Rain - Gene Kelly\": {\"frequency\": 2, \"value\": \"Singing in the ...\"}, \"It's Coming Down - Danzig\": {\"frequency\": 3, \"value\": \"It's Coming Down - ...\"}, \"Milk - Kings Of Leon\": {\"frequency\": 3, \"value\": \"Milk - Kings Of ...\"}, \"Let It Be (Intro) - Jill Scott\": {\"frequency\": 1, \"value\": \"Let It Be (Intro) ...\"}, \"Buddy Holly - Weezer\": {\"frequency\": 8, \"value\": \"Buddy Holly - ...\"}, \"Empire Ants (Feat. Little Dragon) - Gorillaz\": {\"frequency\": 4, \"value\": \"Empire Ants (Feat. ...\"}, \"Criminal - Eminem\": {\"frequency\": 4, \"value\": \"Criminal - Eminem\"}, \"My Father's Eyes - Eric Clapton\": {\"frequency\": 2, \"value\": \"My Father's Eyes - ...\"}, \"Fighting the Stall - Aimee Mann\": {\"frequency\": 3, \"value\": \"Fighting the Stall ...\"}, \"Wish You Were Intro/Wish You Were - Kate Voegele\": {\"frequency\": 1, \"value\": \"Wish You Were ...\"}, \"Free Chilly (feat. Sarah Green and GemStones) (Interlude) (Explicit Album Version) - Lupe Fiasco feat. Sarah Green and GemStones\": {\"frequency\": 4, \"value\": \"Free Chilly (feat. ...\"}, \"Odalisque - The Decemberists\": {\"frequency\": 1, \"value\": \"Odalisque - The ...\"}, \"Simple - Simian Mobile Disco\": {\"frequency\": 50, \"value\": \"Simple - Simian ...\"}, \"Speak - Godsmack\": {\"frequency\": 1, \"value\": \"Speak - Godsmack\"}, \"Grace - Beth Quist\": {\"frequency\": 19, \"value\": \"Grace - Beth Quist\"}, \"Princesa - Joaquin Sabina Y Viceversa\": {\"frequency\": 4, \"value\": \"Princesa - Joaquin ...\"}, \"Yeah! - Usher Featuring Lil' Jon & Ludacris\": {\"frequency\": 2, \"value\": \"Yeah! - Usher ...\"}, \"Evil - Interpol\": {\"frequency\": 10, \"value\": \"Evil - Interpol\"}, \"Heart of Chambers - Beach House\": {\"frequency\": 2, \"value\": \"Heart of Chambers ...\"}, \"Teach U a Lesson - Robin Thicke\": {\"frequency\": 9, \"value\": \"Teach U a Lesson - ...\"}, \"Better The Devil You Know (Showgirl Tour) - Kylie Minogue\": {\"frequency\": 2, \"value\": \"Better The Devil ...\"}, \"What Difference Does It Make? - The Smiths\": {\"frequency\": 16, \"value\": \"What Difference ...\"}, \"Los Aviones - Andres Calamaro\": {\"frequency\": 1, \"value\": \"Los Aviones - ...\"}, \"Did You Get My Message? (Live From Montalvo) - Jason Mraz\": {\"frequency\": 8, \"value\": \"Did You Get My ...\"}, \"You'll Never Find Another Love Like Mine (Album Version) - Michael Bubl\\ufffd\\ufffd\": {\"frequency\": 45, \"value\": \"You'll Never Find ...\"}, \"Arco Arena - Cake\": {\"frequency\": 3, \"value\": \"Arco Arena - Cake\"}, \"Electricity - Moby\": {\"frequency\": 9, \"value\": \"Electricity - Moby\"}, \"Don't Let Go (Love) - En Vogue\": {\"frequency\": 3, \"value\": \"Don't Let Go ...\"}, \"Everything Is Alright - Four Tet\": {\"frequency\": 1, \"value\": \"Everything Is ...\"}, \"Praise You In This Storm (Medium w/o background vocals) - Casting Crowns\": {\"frequency\": 7, \"value\": \"Praise You In This ...\"}, \"I'm Sleeping In A Submarine - Arcade Fire\": {\"frequency\": 8, \"value\": \"I'm Sleeping In A ...\"}, \"Eat That Up_ It's Good For You - Two Door Cinema Club\": {\"frequency\": 49, \"value\": \"Eat That Up_ It's ...\"}, \"Ripcord - Radiohead\": {\"frequency\": 20, \"value\": \"Ripcord - ...\"}, \"Arise - Flyleaf\": {\"frequency\": 2, \"value\": \"Arise - Flyleaf\"}, \"Annie (Album Version) - James Blunt\": {\"frequency\": 14, \"value\": \"Annie (Album ...\"}, \"Walking For You - The Avett Brothers\": {\"frequency\": 4, \"value\": \"Walking For You - ...\"}, \"Victim Of The Crime - Phoenix\": {\"frequency\": 8, \"value\": \"Victim Of The ...\"}, \"Matricide - Nevermore\": {\"frequency\": 3, \"value\": \"Matricide - ...\"}, \"The Other Side (album version) - Pendulum\": {\"frequency\": 2, \"value\": \"The Other Side ...\"}, \"Dollars & Cents - Radiohead\": {\"frequency\": 4, \"value\": \"Dollars & Cents - ...\"}, \"Sunshine (Feat. Anthony Hamilton) (Edited Album Version) - Twista\": {\"frequency\": 13, \"value\": \"Sunshine (Feat. ...\"}, \"Don't Push Me - 50 Cent / Lloyd Banks / Eminem\": {\"frequency\": 3, \"value\": \"Don't Push Me - 50 ...\"}, \"Bleed It Out [Live At Milton Keynes] - Linkin Park\": {\"frequency\": 45, \"value\": \"Bleed It Out [Live ...\"}, \"Rock 'N' Roll High School (Album Version) - Ramones\": {\"frequency\": 1, \"value\": \"Rock 'N' Roll High ...\"}, \"Little Annie's Christmas Wish - The Oak Ridge Boys\": {\"frequency\": 6, \"value\": \"Little Annie's ...\"}, \"The Way I Was - Maroon 5\": {\"frequency\": 3, \"value\": \"The Way I Was - ...\"}, \"Beach Party - Hot Chip\": {\"frequency\": 3, \"value\": \"Beach Party - Hot ...\"}, \"Like Me (Amended Version) - Lil Scrappy\": {\"frequency\": 13, \"value\": \"Like Me (Amended ...\"}, \"Nighttime - Oscar Peterson\": {\"frequency\": 3, \"value\": \"Nighttime - Oscar ...\"}, \"Manhattan - Kings Of Leon\": {\"frequency\": 11, \"value\": \"Manhattan - Kings ...\"}, \"What If - Coldplay\": {\"frequency\": 3, \"value\": \"What If - Coldplay\"}, \"Le Corps de Notre Seigneur - Choeur Arm\\ufffd\\ufffdnien de Sofia\": {\"frequency\": 3, \"value\": \"Le Corps de Notre ...\"}, \"Holy Smoke - Iron Maiden\": {\"frequency\": 5, \"value\": \"Holy Smoke - Iron ...\"}, \"Call To Arms - Angels and Airwaves\": {\"frequency\": 13, \"value\": \"Call To Arms - ...\"}, \"Communication Part 3 - Armin van Buuren\": {\"frequency\": 15, \"value\": \"Communication Part ...\"}, \"Jingle Bell Rock - Bobby Helms\": {\"frequency\": 34, \"value\": \"Jingle Bell Rock - ...\"}, \"Ready For Love - India.Arie\": {\"frequency\": 3, \"value\": \"Ready For Love - ...\"}, \"I Used To Love Him - Lauryn Hill Featuring Mary J. Blige\": {\"frequency\": 3, \"value\": \"I Used To Love Him ...\"}, \"The Tempest (album version) - Pendulum\": {\"frequency\": 33, \"value\": \"The Tempest (album ...\"}, \"HAIFISCH - Rammstein\": {\"frequency\": 5, \"value\": \"HAIFISCH - ...\"}, \"Death Is The Road To Awe - Clint Mansell\": {\"frequency\": 3, \"value\": \"Death Is The Road ...\"}, \"Tripled Manic State - CKY\": {\"frequency\": 12, \"value\": \"Tripled Manic ...\"}, \"No Good 4 You - Cherise\": {\"frequency\": 19, \"value\": \"No Good 4 You - ...\"}, \"Messages - Xavier Rudd\": {\"frequency\": 3, \"value\": \"Messages - Xavier ...\"}, \"All I Do Is Win (feat. T-Pain_ Ludacris_ Snoop Dogg & Rick Ross) - DJ Khaled\": {\"frequency\": 12, \"value\": \"All I Do Is Win ...\"}, \"Neon - John Mayer\": {\"frequency\": 2, \"value\": \"Neon - John Mayer\"}, \"Coldest Winter - Kanye West\": {\"frequency\": 1, \"value\": \"Coldest Winter - ...\"}, \"Caught In A Mosh - Anthrax\": {\"frequency\": 2, \"value\": \"Caught In A Mosh - ...\"}, \"The park - Feist\": {\"frequency\": 11, \"value\": \"The park - Feist\"}, \"Spilt Needles (Album) - The Shins\": {\"frequency\": 2, \"value\": \"Spilt Needles ...\"}, \"Paperthin Hymn - Anberlin\": {\"frequency\": 3, \"value\": \"Paperthin Hymn - ...\"}, \"Sad Lisa - Cat Stevens\": {\"frequency\": 6, \"value\": \"Sad Lisa - Cat ...\"}, \"Three Times A Lady - Lionel Richie\": {\"frequency\": 9, \"value\": \"Three Times A Lady ...\"}, \"Kut-Off - Skream\": {\"frequency\": 38, \"value\": \"Kut-Off - Skream\"}, \"Check Yes Juliet - We The Kings\": {\"frequency\": 1, \"value\": \"Check Yes Juliet - ...\"}, \"On a Bayonet - Beirut\": {\"frequency\": 4, \"value\": \"On a Bayonet - ...\"}, \"Anywhere Is - Enya\": {\"frequency\": 1, \"value\": \"Anywhere Is - Enya\"}, \"Crazy Little Thing Called Love (Album Version) - Michael Bubl\\ufffd\\ufffd\": {\"frequency\": 3, \"value\": \"Crazy Little Thing ...\"}, \"Highway Star - Deep Purple\": {\"frequency\": 2, \"value\": \"Highway Star - ...\"}, \"Lovely Ladies - Les Mis\\ufffd\\ufffdrables - 10th Anniversary Concert\": {\"frequency\": 7, \"value\": \"Lovely Ladies - ...\"}, \"Happiness Is Overrated - The Airborne Toxic Event\": {\"frequency\": 1, \"value\": \"Happiness Is ...\"}, \"Who By Fire - Leonard Cohen\": {\"frequency\": 4, \"value\": \"Who By Fire - ...\"}, \"Clint Eastwood (Ed Case/Sweetie Irie Refix) (Edit) - Gorillaz\": {\"frequency\": 2, \"value\": \"Clint Eastwood (Ed ...\"}, \"All My Life - Foo Fighters\": {\"frequency\": 2, \"value\": \"All My Life - Foo ...\"}, \"Save Room - John Legend\": {\"frequency\": 3, \"value\": \"Save Room - John ...\"}, \"Bella - Angus & Julia Stone\": {\"frequency\": 42, \"value\": \"Bella - Angus & ...\"}, \"Somebody To Love - Justin Bieber\": {\"frequency\": 152, \"value\": \"Somebody To Love - ...\"}, \"Wild Packs Of Family Dogs - Modest Mouse\": {\"frequency\": 7, \"value\": \"Wild Packs Of ...\"}, \"Senza Una Donna (Without A Woman) - Zucchero / Paul Young\": {\"frequency\": 16, \"value\": \"Senza Una Donna ...\"}, \"How Do You Know You? - Days Of The New\": {\"frequency\": 22, \"value\": \"How Do You Know ...\"}, \"Converting Vegetarians - Infected Mushroom\": {\"frequency\": 3, \"value\": \"Converting ...\"}, \"Not Even Jail - Interpol\": {\"frequency\": 5, \"value\": \"Not Even Jail - ...\"}, \"Can't You See - The Marshall Tucker Band\": {\"frequency\": 1, \"value\": \"Can't You See - ...\"}, \"What I Wouldn't Do - A Fine Frenzy\": {\"frequency\": 3, \"value\": \"What I Wouldn't Do ...\"}, \"Should've When You Could've (Album Version) - Skillet\": {\"frequency\": 26, \"value\": \"Should've When You ...\"}, \"Window Blues - Lykke Li\": {\"frequency\": 37, \"value\": \"Window Blues - ...\"}, \"Shout - Tears For Fears\": {\"frequency\": 1, \"value\": \"Shout - Tears For ...\"}, \"The Waiting - Tom Petty And The Heartbreakers\": {\"frequency\": 1, \"value\": \"The Waiting - Tom ...\"}, \"Saints And Sailors - Dashboard Confessional\": {\"frequency\": 8, \"value\": \"Saints And Sailors ...\"}, \"We'll Be A Dream (featuring Demi Lovato) - We The Kings featuring Demi Lovato\": {\"frequency\": 1, \"value\": \"We'll Be A Dream ...\"}, \"L'Excessive - Carla Bruni\": {\"frequency\": 17, \"value\": \"L'Excessive - ...\"}, \"Parklife - Blur\": {\"frequency\": 1, \"value\": \"Parklife - Blur\"}, \"Keine Lust - Rammstein\": {\"frequency\": 5, \"value\": \"Keine Lust - ...\"}, \"Dead Horse - Guns N' Roses\": {\"frequency\": 1, \"value\": \"Dead Horse - Guns ...\"}, \"The Light - Common\": {\"frequency\": 1, \"value\": \"The Light - Common\"}, \"Rule My World - Kings Of Convenience\": {\"frequency\": 6, \"value\": \"Rule My World - ...\"}, \"My Heart Is An Apple - Arcade Fire\": {\"frequency\": 14, \"value\": \"My Heart Is An ...\"}, \"Feel So Numb - Rob Zombie\": {\"frequency\": 12, \"value\": \"Feel So Numb - Rob ...\"}, \"Salgo Pa' La Calle - Daddy Yankee / Randy\": {\"frequency\": 1, \"value\": \"Salgo Pa' La Calle ...\"}, \"Courtesy Laughs - Phoenix\": {\"frequency\": 9, \"value\": \"Courtesy Laughs - ...\"}, \"Once In A Lifetime - Wolfsheim\": {\"frequency\": 12, \"value\": \"Once In A Lifetime ...\"}, \"High Road (Album Version) - Fort Minor (Featuring John Legend)\": {\"frequency\": 2, \"value\": \"High Road (Album ...\"}, \"Undone - Five Finger Death Punch\": {\"frequency\": 15, \"value\": \"Undone - Five ...\"}, \"If I Only Had The Heart - The Maine\": {\"frequency\": 12, \"value\": \"If I Only Had The ...\"}, \"Fell In Love With A Girl - The White Stripes\": {\"frequency\": 14, \"value\": \"Fell In Love With ...\"}, \"U Smile - Justin Bieber\": {\"frequency\": 230, \"value\": \"U Smile - Justin ...\"}, \"Technologic - Daft Punk\": {\"frequency\": 1, \"value\": \"Technologic - Daft ...\"}, \"When Your Mind's Made Up (Album version) - Glen Hansard & Marketa Irglova\": {\"frequency\": 9, \"value\": \"When Your Mind's ...\"}, \"God Complex - Tech N9ne\": {\"frequency\": 1, \"value\": \"God Complex - Tech ...\"}, \"Queer - Garbage\": {\"frequency\": 22, \"value\": \"Queer - Garbage\"}, \"Cupid - Jack Johnson\": {\"frequency\": 1, \"value\": \"Cupid - Jack ...\"}, \"Tengo Hambre - Calle 13\": {\"frequency\": 21, \"value\": \"Tengo Hambre - ...\"}, \"Ain't Nobody - Chaka Khan\": {\"frequency\": 1, \"value\": \"Ain't Nobody - ...\"}, \"Baby Daddy (Amended Version) - Lil Scrappy\": {\"frequency\": 18, \"value\": \"Baby Daddy ...\"}, \"Sincerit\\ufffd\\ufffd Et Jalousie - Alliance Ethnik\": {\"frequency\": 83, \"value\": \"Sincerit\\u00e9 Et ...\"}, \"Honestly Ok - Dido\": {\"frequency\": 16, \"value\": \"Honestly Ok - Dido\"}, \"What I Want - Dead Or Alive\": {\"frequency\": 3, \"value\": \"What I Want - Dead ...\"}, \"Apple Orchard - Beach House\": {\"frequency\": 4, \"value\": \"Apple Orchard - ...\"}, \"I Found A Reason - Cat Power\": {\"frequency\": 1, \"value\": \"I Found A Reason - ...\"}, \"Safari - Holy Fuck\": {\"frequency\": 4, \"value\": \"Safari - Holy Fuck\"}, \"Strange World (1998 Digital Remaster) - Iron Maiden\": {\"frequency\": 7, \"value\": \"Strange World ...\"}, \"Disko Partizani - Shantel\": {\"frequency\": 1, \"value\": \"Disko Partizani - ...\"}, \"Alpha Male - R\\ufffd\\ufffdyksopp\": {\"frequency\": 22, \"value\": \"Alpha Male - ...\"}, \"Bleeding Mascara (Album Version) - Atreyu\": {\"frequency\": 1, \"value\": \"Bleeding Mascara ...\"}, \"Cantaloop (Flip Fantasia) - US3 Featuring Rahsaan And Gerard Presencer\": {\"frequency\": 12, \"value\": \"Cantaloop (Flip ...\"}, \"San Simeon - Goldfinger\": {\"frequency\": 1, \"value\": \"San Simeon - ...\"}, \"Le Monde - Thievery Corporation\": {\"frequency\": 14, \"value\": \"Le Monde - ...\"}, \"Seven - DAVE MATTHEWS BAND\": {\"frequency\": 4, \"value\": \"Seven - DAVE ...\"}, \"Top Yourself - The Raconteurs\": {\"frequency\": 2, \"value\": \"Top Yourself - The ...\"}, \"Outta Sight - Chromeo\": {\"frequency\": 8, \"value\": \"Outta Sight - ...\"}, \"Every Little Thing She Does Is Magic - The Police\": {\"frequency\": 5, \"value\": \"Every Little Thing ...\"}, \"Eple - R\\ufffd\\ufffdyksopp\": {\"frequency\": 1, \"value\": \"Eple - R\\u00f6yksopp\"}, \"How Come - Ray LaMontagne\": {\"frequency\": 5, \"value\": \"How Come - Ray ...\"}, \"Highway Song - Blackfoot\": {\"frequency\": 1, \"value\": \"Highway Song - ...\"}, \"Let Me Be Myself - 3 Doors Down\": {\"frequency\": 10, \"value\": \"Let Me Be Myself - ...\"}, \"Hold On - Hot Chip\": {\"frequency\": 2, \"value\": \"Hold On - Hot Chip\"}, \"Toxic - Britney Spears\": {\"frequency\": 3, \"value\": \"Toxic - Britney ...\"}, \"Guys Like You Make Us Look Bad (Album Version) - blessthefall\": {\"frequency\": 1, \"value\": \"Guys Like You Make ...\"}, \"In God's Hands - Nelly Furtado\": {\"frequency\": 1, \"value\": \"In God's Hands - ...\"}, \"Losing My Mind - Maroon 5\": {\"frequency\": 5, \"value\": \"Losing My Mind - ...\"}, \"The Black Pearl - Klaus Badelt\": {\"frequency\": 6, \"value\": \"The Black Pearl - ...\"}, \"Chattanooga Choo Choo (2004 Digital Remaster) - Matt Monro\": {\"frequency\": 1, \"value\": \"Chattanooga Choo ...\"}, \"Wait - Alexi Murdoch\": {\"frequency\": 3, \"value\": \"Wait - Alexi ...\"}, \"Millstone - Brand New\": {\"frequency\": 1, \"value\": \"Millstone - Brand ...\"}, \"Short Circuit - Daft Punk\": {\"frequency\": 18, \"value\": \"Short Circuit - ...\"}, \"The Approaching Curve - Rise Against\": {\"frequency\": 4, \"value\": \"The Approaching ...\"}, \"Sail Away - David Gray\": {\"frequency\": 2, \"value\": \"Sail Away - David ...\"}, \"Colony Of Birchmen (Album Version) - Mastodon\": {\"frequency\": 4, \"value\": \"Colony Of Birchmen ...\"}, \"I Might Be Wrong - Radiohead\": {\"frequency\": 4, \"value\": \"I Might Be Wrong - ...\"}, \"Porno Disaster - Octopus Project\": {\"frequency\": 1, \"value\": \"Porno Disaster - ...\"}, \"Ghost Highway - Mazzy Star\": {\"frequency\": 3, \"value\": \"Ghost Highway - ...\"}, \"Hannah - Ray LaMontagne\": {\"frequency\": 10, \"value\": \"Hannah - Ray ...\"}, \"So I Thought - Flyleaf\": {\"frequency\": 2, \"value\": \"So I Thought - ...\"}, \"Can You Tell - Ra Ra Riot\": {\"frequency\": 1, \"value\": \"Can You Tell - Ra ...\"}, \"White Tooth Man (Album) - Iron And Wine\": {\"frequency\": 2, \"value\": \"White Tooth Man ...\"}, \"Labios compartidos [En vivo] - Man\\ufffd\\ufffd\": {\"frequency\": 11, \"value\": \"Labios compartidos ...\"}, \"What Was I Thinkin' - Dierks Bentley\": {\"frequency\": 1, \"value\": \"What Was I ...\"}, \"Die Die Die - The Avett Brothers\": {\"frequency\": 4, \"value\": \"Die Die Die - The ...\"}, \"Teach Me Tiger - April Stevens\": {\"frequency\": 5, \"value\": \"Teach Me Tiger - ...\"}, \"Umbrella Beach - Owl City\": {\"frequency\": 20, \"value\": \"Umbrella Beach - ...\"}, \"He Doesn't Know Why - Fleet Foxes\": {\"frequency\": 28, \"value\": \"He Doesn't Know ...\"}, \"Celebration - Kanye West\": {\"frequency\": 1, \"value\": \"Celebration - ...\"}, \"Dressed In Decay - CKY\": {\"frequency\": 6, \"value\": \"Dressed In Decay - ...\"}, \"Fitz And The Dizzy Spells - Andrew Bird\": {\"frequency\": 1, \"value\": \"Fitz And The Dizzy ...\"}, \"Everything In Its Right Place - Radiohead\": {\"frequency\": 4, \"value\": \"Everything In Its ...\"}, \"Tradewinds (LP Version) - Pepper\": {\"frequency\": 15, \"value\": \"Tradewinds (LP ...\"}, \"Terrible Lie - Nine Inch Nails\": {\"frequency\": 4, \"value\": \"Terrible Lie - ...\"}, \"Laura - Scissor Sisters\": {\"frequency\": 1, \"value\": \"Laura - Scissor ...\"}, \"Machine Gun - Portishead\": {\"frequency\": 1, \"value\": \"Machine Gun - ...\"}, \"Battle For The Sun - Placebo\": {\"frequency\": 1, \"value\": \"Battle For The Sun ...\"}, \"You Really Got Me (Album Version) - Van Halen\": {\"frequency\": 6, \"value\": \"You Really Got Me ...\"}, \"We're An American Band (2002 Digital Remaster) - Grand Funk\": {\"frequency\": 1, \"value\": \"We're An American ...\"}, \"Dreams (Remastered Version) - Van Halen\": {\"frequency\": 11, \"value\": \"Dreams (Remastered ...\"}, \"Underground - Eminem\": {\"frequency\": 1, \"value\": \"Underground - ...\"}, \"Lounge Fly (LP Version) - Stone Temple Pilots\": {\"frequency\": 1, \"value\": \"Lounge Fly (LP ...\"}, \"Between The Lines - Sara Bareilles\": {\"frequency\": 1, \"value\": \"Between The Lines ...\"}, \"Billionaire - Rick Ross\": {\"frequency\": 2, \"value\": \"Billionaire - Rick ...\"}, \"Teeth - Lady GaGa\": {\"frequency\": 8, \"value\": \"Teeth - Lady GaGa\"}, \"Forgot About Dre - Dr. Dre / Eminem\": {\"frequency\": 2, \"value\": \"Forgot About Dre - ...\"}, \"It's Beginning To Get To Me - Snow Patrol\": {\"frequency\": 7, \"value\": \"It's Beginning To ...\"}, \"No Dejes Que... - Caifanes\": {\"frequency\": 4, \"value\": \"No Dejes Que... - ...\"}, \"I Love You Always - Travis\": {\"frequency\": 8, \"value\": \"I Love You Always ...\"}, \"Blood sugar - Pendulum\": {\"frequency\": 1, \"value\": \"Blood sugar - ...\"}, \"Hey (Album Version) - Red Hot Chili Peppers\": {\"frequency\": 2, \"value\": \"Hey (Album ...\"}, \"Baby I'm A Fool - Melody Gardot\": {\"frequency\": 2, \"value\": \"Baby I'm A Fool - ...\"}, \"Get Down Woman - Creedence Clearwater Revival\": {\"frequency\": 1, \"value\": \"Get Down Woman - ...\"}, \"Planet Caravan - Black Sabbath\": {\"frequency\": 1, \"value\": \"Planet Caravan - ...\"}, \"My Humps - Black Eyed Peas\": {\"frequency\": 4, \"value\": \"My Humps - Black ...\"}, \"It's Time I Go (Jazz) - Joyce Cooling\": {\"frequency\": 5, \"value\": \"It's Time I Go ...\"}, \"This Is The Life - Two Door Cinema Club\": {\"frequency\": 2, \"value\": \"This Is The Life - ...\"}, \"Shout (Album Version) - Disturbed\": {\"frequency\": 5, \"value\": \"Shout (Album ...\"}, \"No One - Cold\": {\"frequency\": 1, \"value\": \"No One - Cold\"}, \"Only If - Enya\": {\"frequency\": 20, \"value\": \"Only If - Enya\"}, \"American Wedding - Gogol Bordello\": {\"frequency\": 6, \"value\": \"American Wedding - ...\"}, \"Chevy Smile (featuring Trick Daddy_ Block & Jazze Pha) (Amended Album Version) - Yung Joc feat Trick Daddy_ Block & Jazze Pha\": {\"frequency\": 4, \"value\": \"Chevy Smile ...\"}, \"Player's Ball - OutKast\": {\"frequency\": 1, \"value\": \"Player's Ball - ...\"}, \"In Cairo - Hot Hot Heat\": {\"frequency\": 1, \"value\": \"In Cairo - Hot Hot ...\"}, \"Get Innocuous! - LCD Soundsystem\": {\"frequency\": 9, \"value\": \"Get Innocuous! - ...\"}, \"Boy With The Coin - Iron And Wine\": {\"frequency\": 1, \"value\": \"Boy With The Coin ...\"}, \"Take It In - Hot Chip\": {\"frequency\": 4, \"value\": \"Take It In - Hot ...\"}, \"The Logical Song - Scooter\": {\"frequency\": 1, \"value\": \"The Logical Song - ...\"}, \"Vi sitter i Ventrilo och Spelar DotA (Club Version) - Basshunter\": {\"frequency\": 2, \"value\": \"Vi sitter i ...\"}, \"There's A Good Reason These Tables Are Numbered Honey_ You Just Haven't Thought of It Yet [Live In Chicago] - Panic At The Disco\": {\"frequency\": 1, \"value\": \"There's A Good ...\"}, \"You Are Mine - Frankie Avalon\": {\"frequency\": 17, \"value\": \"You Are Mine - ...\"}, \"Anyone Else But You - Michael Cera & Ellen Page\": {\"frequency\": 2, \"value\": \"Anyone Else But ...\"}, \"Next Evil - Interpol\": {\"frequency\": 1, \"value\": \"Next Evil - ...\"}, \"Starshine - Gorillaz\": {\"frequency\": 2, \"value\": \"Starshine - ...\"}, \"The Girl You Lost (Sander van Doorn Edit) - Sia\": {\"frequency\": 2, \"value\": \"The Girl You Lost ...\"}, \"Flume - Bon Iver\": {\"frequency\": 26, \"value\": \"Flume - Bon Iver\"}, \"BENZIN - Rammstein\": {\"frequency\": 1, \"value\": \"BENZIN - Rammstein\"}, \"No Rain - Blind Melon\": {\"frequency\": 1, \"value\": \"No Rain - Blind ...\"}, \"Skinny Genes - Eliza Doolittle\": {\"frequency\": 1, \"value\": \"Skinny Genes - ...\"}, \"Crumpshit - Philippe Rochard\": {\"frequency\": 7, \"value\": \"Crumpshit - ...\"}, \"Alpha Beta Gaga - Air\": {\"frequency\": 4, \"value\": \"Alpha Beta Gaga - ...\"}, \"Nac\\ufffd\\ufffd Orishas - Orishas\": {\"frequency\": 18, \"value\": \"Nac\\u00ed Orishas - ...\"}, \"Wrecking Ball - Interpol\": {\"frequency\": 1, \"value\": \"Wrecking Ball - ...\"}, \"Last Night On Earth [feat. Green Day & The Cast Of American Idiot] (Album Version) - Green Day\": {\"frequency\": 11, \"value\": \"Last Night On ...\"}, \"Just A Boy - Angus & Julia Stone\": {\"frequency\": 9, \"value\": \"Just A Boy - Angus ...\"}, \"Auburn and Ivory - Beach House\": {\"frequency\": 3, \"value\": \"Auburn and Ivory - ...\"}, \"Over - Portishead\": {\"frequency\": 4, \"value\": \"Over - Portishead\"}, \"Leper Messiah - Metallica\": {\"frequency\": 3, \"value\": \"Leper Messiah - ...\"}, \"Limelight - Rush\": {\"frequency\": 2, \"value\": \"Limelight - Rush\"}, \"Scared Of Lonely - Beyonc\\ufffd\\ufffd\": {\"frequency\": 1, \"value\": \"Scared Of Lonely - ...\"}, \"Arms Of A Woman - Amos Lee\": {\"frequency\": 3, \"value\": \"Arms Of A Woman - ...\"}, \"Fire It Up - Thousand Foot Krutch\": {\"frequency\": 10, \"value\": \"Fire It Up - ...\"}, \"King Of The Rodeo - Kings Of Leon\": {\"frequency\": 2, \"value\": \"King Of The Rodeo ...\"}, \"The Four Horsemen - Metallica\": {\"frequency\": 2, \"value\": \"The Four Horsemen ...\"}, \"Venus - Bananarama\": {\"frequency\": 1, \"value\": \"Venus - Bananarama\"}, \"Careful Where You Stand - Coldplay\": {\"frequency\": 1, \"value\": \"Careful Where You ...\"}, \"IXTAPA - Rodrigo y Gabriela\": {\"frequency\": 11, \"value\": \"IXTAPA - Rodrigo y ...\"}, \"Pimp On - Big Tymers / Unplugged / Official\": {\"frequency\": 1, \"value\": \"Pimp On - Big ...\"}, \"You're Not Alone - Olive\": {\"frequency\": 1, \"value\": \"You're Not Alone - ...\"}, \"Sweet home Alabama - Lynyrd Skynyrd\": {\"frequency\": 4, \"value\": \"Sweet home Alabama ...\"}, \"Candy Rain - Soul For Real\": {\"frequency\": 2, \"value\": \"Candy Rain - Soul ...\"}, \"Forever & Always - Taylor Swift\": {\"frequency\": 81, \"value\": \"Forever & Always - ...\"}, \"Vanished - Crystal Castles\": {\"frequency\": 15, \"value\": \"Vanished - Crystal ...\"}, \"The First Of The Gang To Die - Morrissey\": {\"frequency\": 1, \"value\": \"The First Of The ...\"}, \"Stupid Girl - Garbage\": {\"frequency\": 5, \"value\": \"Stupid Girl - ...\"}, \"Moving To New York (album version) - The Wombats\": {\"frequency\": 10, \"value\": \"Moving To New York ...\"}, \"Rock A My Soul - Pixies\": {\"frequency\": 8, \"value\": \"Rock A My Soul - ...\"}, \"The Stroke - Billy Squier\": {\"frequency\": 2, \"value\": \"The Stroke - Billy ...\"}, \"Easy - Faith No More\": {\"frequency\": 8, \"value\": \"Easy - Faith No ...\"}, \"Nice & Slow - Usher\": {\"frequency\": 2, \"value\": \"Nice & Slow - ...\"}, \"Running Away - Kevin Blechdom\": {\"frequency\": 3, \"value\": \"Running Away - ...\"}, \"Leave The Bourbon On The Shelf - The Killers\": {\"frequency\": 1, \"value\": \"Leave The Bourbon ...\"}, \"Lotus - Cage The Elephant\": {\"frequency\": 8, \"value\": \"Lotus - Cage The ...\"}, \"Mourning Air - Portishead\": {\"frequency\": 2, \"value\": \"Mourning Air - ...\"}, \"Mechanical Animals - Marilyn Manson\": {\"frequency\": 1, \"value\": \"Mechanical Animals ...\"}, \"It's Not Ok (Album) - Zac Brown Band\": {\"frequency\": 13, \"value\": \"It's Not Ok ...\"}, \"Generator - Foo Fighters\": {\"frequency\": 3, \"value\": \"Generator - Foo ...\"}, \"I'm Done - The Pussycat Dolls\": {\"frequency\": 1, \"value\": \"I'm Done - The ...\"}, \"Born On The Bayou - Creedence Clearwater Revival\": {\"frequency\": 4, \"value\": \"Born On The Bayou ...\"}, \"Como La Flor - Selena Y Los Dinos\": {\"frequency\": 28, \"value\": \"Como La Flor - ...\"}, \"Dulce Condena - Los Rodriguez\": {\"frequency\": 3, \"value\": \"Dulce Condena - ...\"}, \"New Born - Muse\": {\"frequency\": 4, \"value\": \"New Born - Muse\"}, \"Kill The Director [Radio Edit] - The Wombats\": {\"frequency\": 16, \"value\": \"Kill The Director ...\"}, \"Show Me - John Legend\": {\"frequency\": 4, \"value\": \"Show Me - John ...\"}, \"Nineteen (Album Version) - Tegan And Sara\": {\"frequency\": 2, \"value\": \"Nineteen (Album ...\"}, \"Mr. Jones - Counting Crows\": {\"frequency\": 1, \"value\": \"Mr. Jones - ...\"}, \"Besos - Lucas Masciano\": {\"frequency\": 13, \"value\": \"Besos - Lucas ...\"}, \"Tell Him The Truth - Keri Hilson\": {\"frequency\": 1, \"value\": \"Tell Him The Truth ...\"}, \"Face Plant (LP Version) - Pepper\": {\"frequency\": 1, \"value\": \"Face Plant (LP ...\"}, \"Where I Stood (Album Version) - Missy Higgins\": {\"frequency\": 1, \"value\": \"Where I Stood ...\"}, \"Everywhere I Go - The Black Keys\": {\"frequency\": 3, \"value\": \"Everywhere I Go - ...\"}, \"Forks And Knives (La F\\ufffd\\ufffdte) - Beirut\": {\"frequency\": 28, \"value\": \"Forks And Knives ...\"}, \"Arc Of Time (time Code) (Album Version) - Bright Eyes\": {\"frequency\": 1, \"value\": \"Arc Of Time (time ...\"}, \"It's My Life (Radio Edit) - Dr. Alban\": {\"frequency\": 1, \"value\": \"It's My Life ...\"}, \"Modern Man's Hustle - Atmosphere\": {\"frequency\": 5, \"value\": \"Modern Man's ...\"}, \"Deepest Blue - Deepest Blue\": {\"frequency\": 1, \"value\": \"Deepest Blue - ...\"}, \"Cuts Like A Knife - Bryan Adams\": {\"frequency\": 1, \"value\": \"Cuts Like A Knife ...\"}, \"Red October - Lange\": {\"frequency\": 10, \"value\": \"Red October - ...\"}, \"Over The Pond - The Album Leaf\": {\"frequency\": 1, \"value\": \"Over The Pond - ...\"}, \"Campus (Album) - Vampire Weekend\": {\"frequency\": 64, \"value\": \"Campus (Album) - ...\"}, \"I Try - Talib Kweli / Mary J. Blige\": {\"frequency\": 1, \"value\": \"I Try - Talib ...\"}, \"Inseparable - Mariah Carey\": {\"frequency\": 2, \"value\": \"Inseparable - ...\"}, \"Sin Documentos - Los Rodriguez\": {\"frequency\": 3, \"value\": \"Sin Documentos - ...\"}, \"Si Te Vas - Marc Anthony\": {\"frequency\": 22, \"value\": \"Si Te Vas - Marc ...\"}, \"Gunpowder & Lead - Miranda Lambert\": {\"frequency\": 2, \"value\": \"Gunpowder & Lead - ...\"}, \"Now You're Gone - Basshunter Feat. DJ Mental Theo\\u0019s Bazzheadz\": {\"frequency\": 16, \"value\": \"Now You're Gone - ...\"}, \"Andvari - Sigur R\\ufffd\\ufffds\": {\"frequency\": 1, \"value\": \"Andvari - Sigur ...\"}, \"Adios - Gustavo Cerati\": {\"frequency\": 1, \"value\": \"Adios - Gustavo ...\"}, \"Goodnight And Goodbye - Jonas Brothers\": {\"frequency\": 3, \"value\": \"Goodnight And ...\"}, \"I Own You (Bonus Version) - Shinedown\": {\"frequency\": 2, \"value\": \"I Own You (Bonus ...\"}, \"I'm So Sick - Flyleaf\": {\"frequency\": 15, \"value\": \"I'm So Sick - ...\"}, \"Sobredosis De T.V. - Soda Stereo\": {\"frequency\": 14, \"value\": \"Sobredosis De T.V. ...\"}, \"Just Like A Woman - Bob Dylan\": {\"frequency\": 1, \"value\": \"Just Like A Woman ...\"}, \"The Scale - Interpol\": {\"frequency\": 1, \"value\": \"The Scale - ...\"}, \"Ain't No Rest For The Wicked (Original Version) - Cage The Elephant\": {\"frequency\": 6, \"value\": \"Ain't No Rest For ...\"}, \"A Party Song (The Walk of Shame) - All Time Low\": {\"frequency\": 8, \"value\": \"A Party Song (The ...\"}, \"Siete Horas - Bebe\": {\"frequency\": 1, \"value\": \"Siete Horas - Bebe\"}, \"Love All The Pain Away - Ronski Speed\": {\"frequency\": 103, \"value\": \"Love All The Pain ...\"}, \"Move Bitch - Disturbing Tha Peace / Ludacris / Mystikal / I-20\": {\"frequency\": 1, \"value\": \"Move Bitch - ...\"}, \"Get Me Away From Here_ I'm Dying - Belle & Sebastian\": {\"frequency\": 7, \"value\": \"Get Me Away From ...\"}, \"I'm Your Man - Leonard Cohen\": {\"frequency\": 1, \"value\": \"I'm Your Man - ...\"}, \"Salt Skin - Ellie Goulding\": {\"frequency\": 4, \"value\": \"Salt Skin - Ellie ...\"}, \"Nobody Not Really (Interlude) - Alicia Keys\": {\"frequency\": 10, \"value\": \"Nobody Not Really ...\"}, \"Bowls - Caribou\": {\"frequency\": 15, \"value\": \"Bowls - Caribou\"}, \"A Reminder - Radiohead\": {\"frequency\": 1, \"value\": \"A Reminder - ...\"}, \"Hazey Jane II - Nick Drake\": {\"frequency\": 3, \"value\": \"Hazey Jane II - ...\"}, \"Caroline - Old Crow Medicine Show\": {\"frequency\": 1, \"value\": \"Caroline - Old ...\"}, \"Songs Of The Season - Soltero\": {\"frequency\": 11, \"value\": \"Songs Of The ...\"}, \"Desert Song - Edward Sharpe & The Magnetic Zeros\": {\"frequency\": 15, \"value\": \"Desert Song - ...\"}, \"Yes - Beyonc\\ufffd\\ufffd\": {\"frequency\": 9, \"value\": \"Yes - Beyonc\\u00e9\"}, \"When You Were Young - The Killers\": {\"frequency\": 5, \"value\": \"When You Were ...\"}, \"Experiencia Religiosa - Enrique Iglesias\": {\"frequency\": 5, \"value\": \"Experiencia ...\"}, \"My Friend Dario - Vitalic\": {\"frequency\": 1, \"value\": \"My Friend Dario - ...\"}, \"Questo Pazzo Pazzo Mondo Di Tasse - Afterhours\": {\"frequency\": 16, \"value\": \"Questo Pazzo Pazzo ...\"}, \"You Love Me (Album Version) - Devotchka\": {\"frequency\": 9, \"value\": \"You Love Me (Album ...\"}, \"Warning - Incubus\": {\"frequency\": 3, \"value\": \"Warning - Incubus\"}, \"Big Weenie - Eminem\": {\"frequency\": 1, \"value\": \"Big Weenie - ...\"}, \"Jersey (Album) - Mayday Parade\": {\"frequency\": 7, \"value\": \"Jersey (Album) - ...\"}, \"Sparks - Coldplay\": {\"frequency\": 64, \"value\": \"Sparks - Coldplay\"}, \"Come Fly With Me (Album Version) - Michael Bubl\\ufffd\\ufffd\": {\"frequency\": 36, \"value\": \"Come Fly With Me ...\"}, \"I Am Trying to Break Your Heart - Wilco\": {\"frequency\": 5, \"value\": \"I Am Trying to ...\"}, \"Out Of Town - Zero 7\": {\"frequency\": 1, \"value\": \"Out Of Town - Zero ...\"}, \"Shout Me Out - TV On The Radio\": {\"frequency\": 4, \"value\": \"Shout Me Out - TV ...\"}, \"Dreaming - System of a Down\": {\"frequency\": 3, \"value\": \"Dreaming - System ...\"}, \"Holiday From Real (Album Version) - Jack's Mannequin\": {\"frequency\": 6, \"value\": \"Holiday From Real ...\"}, \"All I Need - Air\": {\"frequency\": 1, \"value\": \"All I Need - Air\"}, \"La Margarita Dijo No - Alejandro Sanz\": {\"frequency\": 1, \"value\": \"La Margarita Dijo ...\"}, \"Shoulder Holster - Morcheeba\": {\"frequency\": 26, \"value\": \"Shoulder Holster - ...\"}, \"Cliquot - Beirut\": {\"frequency\": 20, \"value\": \"Cliquot - Beirut\"}, \"Marrakech - ATB\": {\"frequency\": 8, \"value\": \"Marrakech - ATB\"}, \"Your Visits Are Getting Shorter - Bloc Party\": {\"frequency\": 7, \"value\": \"Your Visits Are ...\"}, \"Suffering - Rebelution\": {\"frequency\": 1, \"value\": \"Suffering - ...\"}, \"Teenage Dirtbag - Wheatus\": {\"frequency\": 2, \"value\": \"Teenage Dirtbag - ...\"}, \"Kiss Me_ I'm Sh*tfaced - Dropkick Murphys\": {\"frequency\": 5, \"value\": \"Kiss Me_ I'm ...\"}, \"Milonga Del Marinero Y El Capitan - Los Rodriguez\": {\"frequency\": 6, \"value\": \"Milonga Del ...\"}, \"No Sunlight (Album Version) - Death Cab for Cutie\": {\"frequency\": 3, \"value\": \"No Sunlight (Album ...\"}, \"Where The River Goes (LP Version) - Stone Temple Pilots\": {\"frequency\": 5, \"value\": \"Where The River ...\"}, \"Dreaming Of You - Selena\": {\"frequency\": 1, \"value\": \"Dreaming Of You - ...\"}, \"Common Reactor - Silversun Pickups\": {\"frequency\": 6, \"value\": \"Common Reactor - ...\"}, \"Auto rojo - Vilma Palma e Vampiros\": {\"frequency\": 5, \"value\": \"Auto rojo - Vilma ...\"}, \"Sugar Candy Kisses - Jonathan Butler\": {\"frequency\": 11, \"value\": \"Sugar Candy Kisses ...\"}, \"Beautiful - India.Arie\": {\"frequency\": 4, \"value\": \"Beautiful - ...\"}, \"Tant Que L'on S'aimera - Charles Aznavour\": {\"frequency\": 12, \"value\": \"Tant Que L'on ...\"}, \"Medias Negras - Joaquin Sabina\": {\"frequency\": 3, \"value\": \"Medias Negras - ...\"}, \"Brother - Edward Sharpe & The Magnetic Zeros\": {\"frequency\": 2, \"value\": \"Brother - Edward ...\"}, \"Incentive (Bonus Track) - Epica\": {\"frequency\": 12, \"value\": \"Incentive (Bonus ...\"}, \"We Can Work It Out - Stevie Wonder\": {\"frequency\": 1, \"value\": \"We Can Work It Out ...\"}, \"Silver And Cold - AFI\": {\"frequency\": 4, \"value\": \"Silver And Cold - ...\"}, \"Freak Train - Kurt Vile\": {\"frequency\": 39, \"value\": \"Freak Train - Kurt ...\"}, \"I Want You - The Kooks\": {\"frequency\": 4, \"value\": \"I Want You - The ...\"}, \"Strut - Adam Lambert\": {\"frequency\": 5, \"value\": \"Strut - Adam ...\"}, \"Red Hats For The Masses - Operahouse\": {\"frequency\": 2, \"value\": \"Red Hats For The ...\"}, \"Is She Weird - Pixies\": {\"frequency\": 4, \"value\": \"Is She Weird - ...\"}, \"Ort - Cows\": {\"frequency\": 1, \"value\": \"Ort - Cows\"}, \"Remember When (Side A) - The Black Keys\": {\"frequency\": 3, \"value\": \"Remember When ...\"}, \"Sweetest Kill - Broken Social Scene\": {\"frequency\": 2, \"value\": \"Sweetest Kill - ...\"}, \"Something More - Sugarland\": {\"frequency\": 9, \"value\": \"Something More - ...\"}, \"(Sittin' On) The Dock Of The Bay - Otis Redding\": {\"frequency\": 3, \"value\": \"(Sittin' On) The ...\"}, \"Healing Is In Your Hands - Christy Nockels\": {\"frequency\": 11, \"value\": \"Healing Is In Your ...\"}, \"Give It To Me - 3 Doors Down\": {\"frequency\": 8, \"value\": \"Give It To Me - 3 ...\"}, \"I Don't Wanna Wait (Album Version) - The Veronicas\": {\"frequency\": 2, \"value\": \"I Don't Wanna Wait ...\"}, \"Map Of The Problematique - Muse\": {\"frequency\": 7, \"value\": \"Map Of The ...\"}, \"Bury Me With It - Modest Mouse\": {\"frequency\": 4, \"value\": \"Bury Me With It - ...\"}, \"Fried My Little Brains - The Kills\": {\"frequency\": 1, \"value\": \"Fried My Little ...\"}, \"Back 2 Good (LP Version) - matchbox twenty\": {\"frequency\": 12, \"value\": \"Back 2 Good (LP ...\"}, \"Good Golly Miss Molly - Creedence Clearwater Revival\": {\"frequency\": 1, \"value\": \"Good Golly Miss ...\"}, \"Don't Leave Me - The All-American Rejects\": {\"frequency\": 5, \"value\": \"Don't Leave Me - ...\"}, \"Another Saturday Night - Cat Stevens\": {\"frequency\": 5, \"value\": \"Another Saturday ...\"}, \"Go To Sleep - Radiohead\": {\"frequency\": 5, \"value\": \"Go To Sleep - ...\"}, \"Crossfire - Rick Cua\": {\"frequency\": 12, \"value\": \"Crossfire - Rick ...\"}, \"Faces In The Hall - Gym Class Heroes\": {\"frequency\": 9, \"value\": \"Faces In The Hall ...\"}, \"I'm Gonna Miss Her - Brad Paisley\": {\"frequency\": 3, \"value\": \"I'm Gonna Miss Her ...\"}, \"Train To Skaville - The Ethiopians\": {\"frequency\": 8, \"value\": \"Train To Skaville ...\"}, \"Weak - Skunk Anansie\": {\"frequency\": 5, \"value\": \"Weak - Skunk ...\"}, \"Down South (Album Version) - Tom Petty\": {\"frequency\": 5, \"value\": \"Down South (Album ...\"}, \"Me Pregunto - Belanova\": {\"frequency\": 2, \"value\": \"Me Pregunto - ...\"}, \"I Want Tomorrow - Enya\": {\"frequency\": 12, \"value\": \"I Want Tomorrow - ...\"}, \"Teenagers (Album Version) - My Chemical Romance\": {\"frequency\": 1, \"value\": \"Teenagers (Album ...\"}, \"WAIDMANNS HEIL - Rammstein\": {\"frequency\": 7, \"value\": \"WAIDMANNS HEIL - ...\"}, \"Mary (Album) - Zac Brown Band\": {\"frequency\": 14, \"value\": \"Mary (Album) - Zac ...\"}, \"Sparkover - Tom Colontonio\": {\"frequency\": 1, \"value\": \"Sparkover - Tom ...\"}, \"911 - Wyclef Jean / Mary J. Blige\": {\"frequency\": 2, \"value\": \"911 - Wyclef Jean ...\"}, \"Make Yourself - Incubus\": {\"frequency\": 3, \"value\": \"Make Yourself - ...\"}, \"Here I Am (Come And Take Me) - UB40\": {\"frequency\": 4, \"value\": \"Here I Am (Come ...\"}, \"La Nina - Aventura\": {\"frequency\": 1, \"value\": \"La Nina - Aventura\"}, \"Australia (Album) - The Shins\": {\"frequency\": 2, \"value\": \"Australia (Album) ...\"}, \"The Good Life - Weezer\": {\"frequency\": 2, \"value\": \"The Good Life - ...\"}, \"Pump It - Black Eyed Peas\": {\"frequency\": 2, \"value\": \"Pump It - Black ...\"}, \"Pressure [feat. Jay-Z] (Explicit Album Version) - Lupe Fiasco\": {\"frequency\": 1, \"value\": \"Pressure [feat. ...\"}, \"The Only Moment We Were Alone - Explosions In The Sky\": {\"frequency\": 39, \"value\": \"The Only Moment We ...\"}, \"Whatsername [feat. Green Day & The Cast Of American Idiot] (Album Version) - Green Day\": {\"frequency\": 13, \"value\": \"Whatsername [feat. ...\"}, \"Comatose (Comes Alive Version) - Skillet\": {\"frequency\": 20, \"value\": \"Comatose (Comes ...\"}, \"Beautiful - 10 Years\": {\"frequency\": 2, \"value\": \"Beautiful - 10 ...\"}, \"Rosario Tijeras - Juanes\": {\"frequency\": 2, \"value\": \"Rosario Tijeras - ...\"}, \"Love Song - Sara Bareilles\": {\"frequency\": 1, \"value\": \"Love Song - Sara ...\"}, \"Alright - Darius Rucker\": {\"frequency\": 16, \"value\": \"Alright - Darius ...\"}, \"The General - Dispatch\": {\"frequency\": 2, \"value\": \"The General - ...\"}, \"El Cantante - Andres Calamaro\": {\"frequency\": 9, \"value\": \"El Cantante - ...\"}, \"Far Far - Yael Na\\ufffd\\ufffdm\": {\"frequency\": 7, \"value\": \"Far Far - Yael ...\"}, \"Boom (Album Version) - Flight Of The Conchords\": {\"frequency\": 20, \"value\": \"Boom (Album ...\"}, \"Waterfall (Spirit Of The Rainforest Album Version) - David Arkenstone\": {\"frequency\": 2, \"value\": \"Waterfall (Spirit ...\"}, \"O Death - Ralph Stanley\": {\"frequency\": 1, \"value\": \"O Death - Ralph ...\"}, \"No Seu Lugar - Kid Abelha\": {\"frequency\": 1, \"value\": \"No Seu Lugar - Kid ...\"}, \"White Winter Hymnal - Fleet Foxes\": {\"frequency\": 3, \"value\": \"White Winter ...\"}, \"Nitpickin' - Danny Gatton\": {\"frequency\": 8, \"value\": \"Nitpickin' - Danny ...\"}, \"Respect - Otis Redding\": {\"frequency\": 2, \"value\": \"Respect - Otis ...\"}, \"Poor Jackie - Man Man\": {\"frequency\": 1, \"value\": \"Poor Jackie - Man ...\"}, \"Once again - Girl Talk\": {\"frequency\": 3, \"value\": \"Once again - Girl ...\"}, \"Don't Bring Me Down - Sia\": {\"frequency\": 2, \"value\": \"Don't Bring Me ...\"}, \"Perfectly Lonely - John Mayer\": {\"frequency\": 17, \"value\": \"Perfectly Lonely - ...\"}, \"I.nner Indulgence - DESTRUCTION\": {\"frequency\": 3, \"value\": \"I.nner Indulgence ...\"}, \"Con Mis Manos - Bebe\": {\"frequency\": 10, \"value\": \"Con Mis Manos - ...\"}, \"Speechless - Beyonc\\ufffd\\ufffd\": {\"frequency\": 11, \"value\": \"Speechless - ...\"}, \"Out Ta Get Me - Guns N' Roses\": {\"frequency\": 1, \"value\": \"Out Ta Get Me - ...\"}, \"Cockney Thug - Rusko\": {\"frequency\": 1, \"value\": \"Cockney Thug - ...\"}, \"Shy Boy - Katie Melua\": {\"frequency\": 3, \"value\": \"Shy Boy - Katie ...\"}, \"Long Division (Album Version) - Death Cab for Cutie\": {\"frequency\": 2, \"value\": \"Long Division ...\"}, \"Fireflies - Charttraxx Karaoke\": {\"frequency\": 658, \"value\": \"Fireflies - ...\"}, \"Taking Over Me (Live in Europe) - Evanescence\": {\"frequency\": 85, \"value\": \"Taking Over Me ...\"}, \"Hints - Jos\\ufffd\\ufffd Gonz\\ufffd\\ufffdlez\": {\"frequency\": 14, \"value\": \"Hints - Jos\\u00e9 ...\"}, \"Life In Technicolor - Coldplay\": {\"frequency\": 3, \"value\": \"Life In ...\"}, \"Stuck In The Moment - Justin Bieber\": {\"frequency\": 136, \"value\": \"Stuck In The ...\"}, \"Make It Wit Chu - Queens Of The Stone Age\": {\"frequency\": 2, \"value\": \"Make It Wit Chu - ...\"}, \"Raphael - Carla Bruni\": {\"frequency\": 9, \"value\": \"Raphael - Carla ...\"}, \"Untrust us - Crystal Castles\": {\"frequency\": 12, \"value\": \"Untrust us - ...\"}, \"Korg Rhythm Afro - Holy Fuck\": {\"frequency\": 3, \"value\": \"Korg Rhythm Afro - ...\"}, \"Chop 'em Down - Matisyahu\": {\"frequency\": 3, \"value\": \"Chop 'em Down - ...\"}, \"Good Bye Emily (feat. Gabriella Hanninen) - Parov Stelar\": {\"frequency\": 9, \"value\": \"Good Bye Emily ...\"}, \"Heaven's On Fire - The Radio Dept.\": {\"frequency\": 1, \"value\": \"Heaven's On Fire - ...\"}, \"Over You - Roxy Music\": {\"frequency\": 5, \"value\": \"Over You - Roxy ...\"}, \"These Old Shoes - Deer Tick\": {\"frequency\": 7, \"value\": \"These Old Shoes - ...\"}, \"Jezebel - Sade\": {\"frequency\": 32, \"value\": \"Jezebel - Sade\"}, \"Primer Dia - Julieta Venegas A Dueto Con Dante\": {\"frequency\": 2, \"value\": \"Primer Dia - ...\"}, \"Zebra - Beach House\": {\"frequency\": 2, \"value\": \"Zebra - Beach ...\"}, \"Brothers - Hot Chip\": {\"frequency\": 10, \"value\": \"Brothers - Hot ...\"}, \"New York_ I Love You But You're Bringing Me Down - LCD Soundsystem\": {\"frequency\": 3, \"value\": \"New York_ I Love ...\"}, \"Davidian (Hellalive) (Album Version) - Machine Head\": {\"frequency\": 8, \"value\": \"Davidian ...\"}, \"Habalim - Voo Doo Phunk\": {\"frequency\": 2, \"value\": \"Habalim - Voo Doo ...\"}, \"C'mere - Interpol\": {\"frequency\": 1, \"value\": \"C'mere - Interpol\"}, \"Mama Said Knock You Out - LL Cool J\": {\"frequency\": 3, \"value\": \"Mama Said Knock ...\"}, \"Hit The Lights - Metallica\": {\"frequency\": 1, \"value\": \"Hit The Lights - ...\"}, \"Miles Apart - Yellowcard\": {\"frequency\": 7, \"value\": \"Miles Apart - ...\"}, \"Sad Songs (Say So Much) - Elton John\": {\"frequency\": 1, \"value\": \"Sad Songs (Say So ...\"}, \"Square One - Coldplay\": {\"frequency\": 3, \"value\": \"Square One - ...\"}, \"Contra La Corriente - Marc Anthony\": {\"frequency\": 18, \"value\": \"Contra La ...\"}, \"Isis (Spam Remix) - Alaska Y Dinarama\": {\"frequency\": 5, \"value\": \"Isis (Spam Remix) ...\"}, \"La Valse D'Am\\ufffd\\ufffdlie (Version Piano) - Yann Tiersen\": {\"frequency\": 17, \"value\": \"La Valse D'Am\\u00e9lie ...\"}, \"It's My Own Fault - Johnny Winter\": {\"frequency\": 28, \"value\": \"It's My Own Fault ...\"}, \"Walk On Water - Basshunter\": {\"frequency\": 23, \"value\": \"Walk On Water - ...\"}, \"Ready to Flow 2008 - Mike Nero\": {\"frequency\": 16, \"value\": \"Ready to Flow 2008 ...\"}, \"Nutshell - Alice In Chains\": {\"frequency\": 6, \"value\": \"Nutshell - Alice ...\"}, \"Crown Royal - Jill Scott\": {\"frequency\": 6, \"value\": \"Crown Royal - Jill ...\"}, \"Prove Yourself - Radiohead\": {\"frequency\": 9, \"value\": \"Prove Yourself - ...\"}, \"I'm Gonna Find Another You - John Mayer\": {\"frequency\": 12, \"value\": \"I'm Gonna Find ...\"}, \"Blackbird - Sony Wonder\": {\"frequency\": 1, \"value\": \"Blackbird - Sony ...\"}, \"Sweet And Wild - Radney Foster\": {\"frequency\": 33, \"value\": \"Sweet And Wild - ...\"}, \"Ameno - Era\": {\"frequency\": 1, \"value\": \"Ameno - Era\"}, \"Window In The Skies - U2\": {\"frequency\": 17, \"value\": \"Window In The ...\"}, \"Pink - Aerosmith\": {\"frequency\": 3, \"value\": \"Pink - Aerosmith\"}, \"Me & Mr Jones - Amy Winehouse\": {\"frequency\": 8, \"value\": \"Me & Mr Jones - ...\"}, \"Pojo Pojo - Cyberfit\": {\"frequency\": 2, \"value\": \"Pojo Pojo - ...\"}, \"Cowboys - Portishead\": {\"frequency\": 10, \"value\": \"Cowboys - ...\"}, \"Dance4life - Ti\\ufffd\\ufffdsto\": {\"frequency\": 2, \"value\": \"Dance4life - ...\"}, \"Front Row - Metric\": {\"frequency\": 9, \"value\": \"Front Row - Metric\"}, \"Gold Watch (Amended Album Version) - Lupe Fiasco\": {\"frequency\": 31, \"value\": \"Gold Watch ...\"}, \"Eddie's Gun - The Kooks\": {\"frequency\": 4, \"value\": \"Eddie's Gun - The ...\"}, \"Corrido de Boxeo - Ry Cooder\": {\"frequency\": 1, \"value\": \"Corrido de Boxeo - ...\"}, \"To Know Him Is To Love Him - Amy Winehouse\": {\"frequency\": 2, \"value\": \"To Know Him Is To ...\"}, \"Masters Of The Universe - Binary Star\": {\"frequency\": 12, \"value\": \"Masters Of The ...\"}, \"Stoned - Dido\": {\"frequency\": 2, \"value\": \"Stoned - Dido\"}, \"Won\\u0019t Want For Love (Margaret In The Taiga) - The Decemberists\": {\"frequency\": 11, \"value\": \"Won\\u0019t Want For ...\"}, \"I Wish - Infected Mushroom\": {\"frequency\": 1, \"value\": \"I Wish - Infected ...\"}, \"The Best Day - Taylor Swift\": {\"frequency\": 6, \"value\": \"The Best Day - ...\"}, \"Shadows Of Ourselves - Thievery Corporation\": {\"frequency\": 1, \"value\": \"Shadows Of ...\"}, \"Lit Up - Buckcherry\": {\"frequency\": 1, \"value\": \"Lit Up - ...\"}, \"Shadow Of A Man - Bedouin Soundclash\": {\"frequency\": 1, \"value\": \"Shadow Of A Man - ...\"}, \"Shadow On The Sun - Audioslave\": {\"frequency\": 11, \"value\": \"Shadow On The Sun ...\"}, \"Landlocked Blues - Bright Eyes\": {\"frequency\": 9, \"value\": \"Landlocked Blues - ...\"}, \"American Soldier - Toby Keith\": {\"frequency\": 1, \"value\": \"American Soldier - ...\"}, \"Divenire - Ludovico Einaudi\": {\"frequency\": 25, \"value\": \"Divenire - ...\"}, \"Happy Endings - The All-American Rejects\": {\"frequency\": 3, \"value\": \"Happy Endings - ...\"}, \"Hasta Que Te Conoci - Marc Anthony\": {\"frequency\": 16, \"value\": \"Hasta Que Te ...\"}, \"Tears In Heaven - Eric Clapton\": {\"frequency\": 1, \"value\": \"Tears In Heaven - ...\"}, \"Shadow Of The Day (Album Version) - Linkin Park\": {\"frequency\": 1, \"value\": \"Shadow Of The Day ...\"}, \"So Ambitious [Jay-Z + Pharrell] (Explicit Album Version) - Jay-Z\": {\"frequency\": 1, \"value\": \"So Ambitious ...\"}, \"Drunkship Of Lanterns - The Mars Volta\": {\"frequency\": 8, \"value\": \"Drunkship Of ...\"}, \"The Handshake - MGMT\": {\"frequency\": 6, \"value\": \"The Handshake - ...\"}, \"To The Moon & Back - Savage Garden\": {\"frequency\": 3, \"value\": \"To The Moon & Back ...\"}, \"Phantom - Justice\": {\"frequency\": 1, \"value\": \"Phantom - Justice\"}, \"I'm So Bored With The U.S.A. - The Clash\": {\"frequency\": 1, \"value\": \"I'm So Bored With ...\"}, \"Cousins - Vampire Weekend\": {\"frequency\": 2, \"value\": \"Cousins - Vampire ...\"}, \"Rome - Yeasayer\": {\"frequency\": 3, \"value\": \"Rome - Yeasayer\"}, \"Love So Right - Bee Gees\": {\"frequency\": 3, \"value\": \"Love So Right - ...\"}, \"Cancer - Sick Puppies\": {\"frequency\": 2, \"value\": \"Cancer - Sick ...\"}, \"Jennifer Lost The War - The Offspring\": {\"frequency\": 2, \"value\": \"Jennifer Lost The ...\"}, \"Neon Tiger - The Killers\": {\"frequency\": 3, \"value\": \"Neon Tiger - The ...\"}, \"Soldier - Angus & Julia Stone\": {\"frequency\": 22, \"value\": \"Soldier - Angus & ...\"}, \"The Modern Age - The Strokes\": {\"frequency\": 2, \"value\": \"The Modern Age - ...\"}, \"You Yourself are Too Serious - The Mercury Program\": {\"frequency\": 2, \"value\": \"You Yourself are ...\"}, \"Mayday!!! - Flobots\": {\"frequency\": 5, \"value\": \"Mayday!!! - ...\"}, \"Hell Breaks Loose - Eminem / Dr. Dre\": {\"frequency\": 1, \"value\": \"Hell Breaks Loose ...\"}, \"Can't Get Away (2006 Remastered LP Version) - Third Eye Blind\": {\"frequency\": 1, \"value\": \"Can't Get Away ...\"}, \"The Big Gundown - The Prodigy\": {\"frequency\": 2, \"value\": \"The Big Gundown - ...\"}, \"Fuck Kitty - Frumpies\": {\"frequency\": 12, \"value\": \"Fuck Kitty - ...\"}, \"All Night - Damian Marley / Stephen Marley\": {\"frequency\": 3, \"value\": \"All Night - Damian ...\"}, \"Don't - Billy Curringham\": {\"frequency\": 1, \"value\": \"Don't - Billy ...\"}, \"Blake\\u0019s View - M Ward\": {\"frequency\": 2, \"value\": \"Blake\\u0019s View - M ...\"}, \"Ring The Alarm - Beyonc\\ufffd\\ufffd\": {\"frequency\": 11, \"value\": \"Ring The Alarm - ...\"}, \"Entertainment - Rise Against\": {\"frequency\": 15, \"value\": \"Entertainment - ...\"}, \"Grizelda - Yeasayer\": {\"frequency\": 1, \"value\": \"Grizelda - ...\"}, \"Psycho - Puddle Of Mudd\": {\"frequency\": 2, \"value\": \"Psycho - Puddle Of ...\"}, \"Carol - Spook And The Guay\": {\"frequency\": 1, \"value\": \"Carol - Spook And ...\"}, \"Jimmy James - Beastie Boys\": {\"frequency\": 9, \"value\": \"Jimmy James - ...\"}, \"Vino Tinto - Estopa\": {\"frequency\": 5, \"value\": \"Vino Tinto - ...\"}, \"Oil And Water - Incubus\": {\"frequency\": 6, \"value\": \"Oil And Water - ...\"}, \"Daniel Cowman - Regina Spektor\": {\"frequency\": 2, \"value\": \"Daniel Cowman - ...\"}, \"I've Got The World On A String - Michael Bubl\\ufffd\\ufffd\": {\"frequency\": 1, \"value\": \"I've Got The World ...\"}, \"The Twist - Frightened Rabbit\": {\"frequency\": 1, \"value\": \"The Twist - ...\"}, \"All That's Left - Thrice\": {\"frequency\": 4, \"value\": \"All That's Left - ...\"}, \"Book Of Brilliant Things (2002 Digital Remaster) - Simple Minds\": {\"frequency\": 1, \"value\": \"Book Of Brilliant ...\"}, \"Shakawkaw - Infected Mushroom\": {\"frequency\": 2, \"value\": \"Shakawkaw - ...\"}, \"Always Something There To Remind Me - Naked Eyes\": {\"frequency\": 1, \"value\": \"Always Something ...\"}, \"Peces - Francisca Valenzuela\": {\"frequency\": 9, \"value\": \"Peces - Francisca ...\"}, \"Highway 20 Ride (Album) - Zac Brown Band\": {\"frequency\": 13, \"value\": \"Highway 20 Ride ...\"}, \"Blindsided - Bon Iver\": {\"frequency\": 30, \"value\": \"Blindsided - Bon ...\"}, \"Country Road - James Taylor\": {\"frequency\": 8, \"value\": \"Country Road - ...\"}, \"The Nest - Jos\\ufffd\\ufffd Gonz\\ufffd\\ufffdlez\": {\"frequency\": 11, \"value\": \"The Nest - Jos\\u00e9 ...\"}, \"All The Way (Single Version) - Craig David\": {\"frequency\": 2, \"value\": \"All The Way ...\"}, \"Daylight - Aesop Rock\": {\"frequency\": 5, \"value\": \"Daylight - Aesop ...\"}, \"Baby I'm-A Want You (LP Version) - Bread\": {\"frequency\": 7, \"value\": \"Baby I'm-A Want ...\"}, \"Now Or Never - Three Days Grace\": {\"frequency\": 1, \"value\": \"Now Or Never - ...\"}, \"Brother Sport - Animal Collective\": {\"frequency\": 1, \"value\": \"Brother Sport - ...\"}, \"Long Nights - Eddie Vedder\": {\"frequency\": 26, \"value\": \"Long Nights - ...\"}, \"Hard Sun - Eddie Vedder\": {\"frequency\": 5, \"value\": \"Hard Sun - Eddie ...\"}, \"Asleep - The Smiths\": {\"frequency\": 7, \"value\": \"Asleep - The ...\"}, \"If You See Me - The Black Keys\": {\"frequency\": 1, \"value\": \"If You See Me - ...\"}, \"Curs in the Weeds - Horse Feathers\": {\"frequency\": 1, \"value\": \"Curs in the Weeds ...\"}, \"Watch Over You - Alter Bridge\": {\"frequency\": 3, \"value\": \"Watch Over You - ...\"}, \"These Boots - Eric Church\": {\"frequency\": 32, \"value\": \"These Boots - Eric ...\"}, \"Can't Go Back Now - The Weepies\": {\"frequency\": 1, \"value\": \"Can't Go Back Now ...\"}, \"Walking On A Dream - Empire Of The Sun\": {\"frequency\": 1, \"value\": \"Walking On A Dream ...\"}, \"Debo partirme en dos - Silvio Rodr\\ufffd\\ufffdguez\": {\"frequency\": 2, \"value\": \"Debo partirme en ...\"}, \"Superhero - Jane's Addiction\": {\"frequency\": 1, \"value\": \"Superhero - Jane's ...\"}, \"Isobel - Bj\\ufffd\\ufffdrk\": {\"frequency\": 4, \"value\": \"Isobel - Bj\\u00f6rk\"}, \"Hang 'Em High (Album Version) - My Chemical Romance\": {\"frequency\": 2, \"value\": \"Hang 'Em High ...\"}, \"Outshined - Soundgarden\": {\"frequency\": 4, \"value\": \"Outshined - ...\"}, \"Final Goodbye - Rihanna\": {\"frequency\": 3, \"value\": \"Final Goodbye - ...\"}, \"Savin' Me - Nickelback\": {\"frequency\": 4, \"value\": \"Savin' Me - ...\"}, \"For You (Amended/Radio Edit LP) - Staind\": {\"frequency\": 9, \"value\": \"For You ...\"}, \"En El Septimo Dia - Soda Stereo\": {\"frequency\": 1, \"value\": \"En El Septimo Dia ...\"}, \"Real Love - Beach House\": {\"frequency\": 4, \"value\": \"Real Love - Beach ...\"}, \"Fully Alive - Flyleaf\": {\"frequency\": 28, \"value\": \"Fully Alive - ...\"}, \"Embrujo - Andr\\ufffd\\ufffds Cepeda\": {\"frequency\": 6, \"value\": \"Embrujo - Andr\\u00e9s ...\"}, \"One More Sad Song - The All-American Rejects\": {\"frequency\": 3, \"value\": \"One More Sad Song ...\"}, \"The Way We Get By - Spoon\": {\"frequency\": 1, \"value\": \"The Way We Get By ...\"}, \"Remember - Air\": {\"frequency\": 4, \"value\": \"Remember - Air\"}, \"You And Me Jesus - Jake Hess\": {\"frequency\": 1, \"value\": \"You And Me Jesus - ...\"}, \"Crack The Skye (Album Version) - Mastodon\": {\"frequency\": 1, \"value\": \"Crack The Skye ...\"}, \"Men Who Love Women Who Love Men - Steve Goodman\": {\"frequency\": 20, \"value\": \"Men Who Love Women ...\"}, \"Djobi_ Djoba - Gipsy Kings\": {\"frequency\": 2, \"value\": \"Djobi_ Djoba - ...\"}, \"Empathy - Crystal Castles\": {\"frequency\": 3, \"value\": \"Empathy - Crystal ...\"}, \"Good Time - Crystal Castles\": {\"frequency\": 29, \"value\": \"Good Time - ...\"}, \"Street Dreams - Nas featuring R. Kelly\": {\"frequency\": 1, \"value\": \"Street Dreams - ...\"}, \"She's Only 18 (Album Version) - Red Hot Chili Peppers\": {\"frequency\": 11, \"value\": \"She's Only 18 ...\"}, \"Work It Out - Keyshia Cole\": {\"frequency\": 4, \"value\": \"Work It Out - ...\"}, \"Harmony One - Four Tet\": {\"frequency\": 1, \"value\": \"Harmony One - Four ...\"}, \"Entre Dos Tierras (2000 Digital Remaster) - H\\ufffd\\ufffdroes del Silencio\": {\"frequency\": 1, \"value\": \"Entre Dos Tierras ...\"}, \"Naughty Girl - Beyonc\\ufffd\\ufffd\": {\"frequency\": 2, \"value\": \"Naughty Girl - ...\"}, \"This Place is a Prison (Album) - Postal Service\": {\"frequency\": 1, \"value\": \"This Place is a ...\"}, \"The Ice Is Getting Thinner (Album Version) - Death Cab for Cutie\": {\"frequency\": 2, \"value\": \"The Ice Is Getting ...\"}, \"For The Dishwasher - GRANDADDY\": {\"frequency\": 6, \"value\": \"For The Dishwasher ...\"}, \"Soul Survivor - Young Jeezy / Akon\": {\"frequency\": 1, \"value\": \"Soul Survivor - ...\"}, \"How To Disappear Completely - Radiohead\": {\"frequency\": 1, \"value\": \"How To Disappear ...\"}, \"Move The Crowd - Eric B. & Rakim\": {\"frequency\": 1, \"value\": \"Move The Crowd - ...\"}, \"Breakdown - Jack Johnson\": {\"frequency\": 1, \"value\": \"Breakdown - Jack ...\"}, \"Ramblin\\u0019 (Wo)man - Cat Power\": {\"frequency\": 2, \"value\": \"Ramblin\\u0019 (Wo)man - ...\"}, \"Sad Songs And Waltzes - Cake\": {\"frequency\": 1, \"value\": \"Sad Songs And ...\"}, \"Fallen Leaves - Billy Talent\": {\"frequency\": 7, \"value\": \"Fallen Leaves - ...\"}, \"Pulk/Pull Revolving Doors - Radiohead\": {\"frequency\": 1, \"value\": \"Pulk/Pull ...\"}, \"Strawberry Swing - Coldplay\": {\"frequency\": 15, \"value\": \"Strawberry Swing - ...\"}, \"Through The Wire - Kanye West\": {\"frequency\": 9, \"value\": \"Through The Wire - ...\"}, \"Big Poppa - The Notorious B.I.G.\": {\"frequency\": 2, \"value\": \"Big Poppa - The ...\"}, \"More Than A Feeling - Boston\": {\"frequency\": 2, \"value\": \"More Than A ...\"}, \"Made For You - OneRepublic\": {\"frequency\": 5, \"value\": \"Made For You - ...\"}, \"Yellow Ledbetter - Pearl Jam\": {\"frequency\": 3, \"value\": \"Yellow Ledbetter - ...\"}, \"Damaged Goods - Gang Of Four\": {\"frequency\": 2, \"value\": \"Damaged Goods - ...\"}, \"Eenie Meenie - Sean Kingston and Justin Bieber\": {\"frequency\": 20, \"value\": \"Eenie Meenie - ...\"}, \"World Looking In (Radio Edit) - Morcheeba\": {\"frequency\": 1, \"value\": \"World Looking In ...\"}, \"Music My Rock - Bedouin Soundclash\": {\"frequency\": 3, \"value\": \"Music My Rock - ...\"}, \"Deireadh An Tuath - Enya\": {\"frequency\": 11, \"value\": \"Deireadh An Tuath ...\"}, \"Beautiful_ Dirty_ Rich - Lady GaGa\": {\"frequency\": 25, \"value\": \"Beautiful_ Dirty_ ...\"}, \"Words Of Love - The Mamas & The Papas\": {\"frequency\": 1, \"value\": \"Words Of Love - ...\"}, \"Can't Get Enough Of Your Love_ Babe - Barry White\": {\"frequency\": 5, \"value\": \"Can't Get Enough ...\"}, \"I'll Take Everything  (Album Version) - James Blunt\": {\"frequency\": 16, \"value\": \"I'll Take ...\"}, \"Look After Me - Hot Chip\": {\"frequency\": 2, \"value\": \"Look After Me - ...\"}, \"Fistful Of Steel - Rage Against The Machine\": {\"frequency\": 11, \"value\": \"Fistful Of Steel - ...\"}, \"Clocks - Coldplay\": {\"frequency\": 215, \"value\": \"Clocks - Coldplay\"}, \"Somersault (Album Version) - Zero 7\": {\"frequency\": 4, \"value\": \"Somersault (Album ...\"}, \"Lucky - Holy Fuck\": {\"frequency\": 1, \"value\": \"Lucky - Holy Fuck\"}, \"Tiger By My Side - Empire Of The Sun\": {\"frequency\": 10, \"value\": \"Tiger By My Side - ...\"}, \"Point/Counterpoint (Album Version) - Streetlight Manifesto\": {\"frequency\": 5, \"value\": \"Point/Counterpoint ...\"}, \"Backdrifts - Radiohead\": {\"frequency\": 6, \"value\": \"Backdrifts - ...\"}, \"OMG - Usher featuring will.i.am\": {\"frequency\": 363, \"value\": \"OMG - Usher ...\"}, \"Confessions - Usher\": {\"frequency\": 1, \"value\": \"Confessions - ...\"}, \"Frijolero - Molotov\": {\"frequency\": 10, \"value\": \"Frijolero - ...\"}, \"Cadillac - Andrew W.K.\": {\"frequency\": 3, \"value\": \"Cadillac - Andrew ...\"}, \"All Summer Long - The Beach Boys\": {\"frequency\": 2, \"value\": \"All Summer Long - ...\"}, \"Scream My Name - LMFAO\": {\"frequency\": 1, \"value\": \"Scream My Name - ...\"}, \"Pick Up - Bonobo\": {\"frequency\": 19, \"value\": \"Pick Up - Bonobo\"}, \"Camisado [Live In Chicago] - Panic At The Disco\": {\"frequency\": 53, \"value\": \"Camisado [Live In ...\"}, \"Ajde sonce zajde - Leb I Sol\": {\"frequency\": 5, \"value\": \"Ajde sonce zajde - ...\"}, \"Para No Olvidar - Los Rodriguez\": {\"frequency\": 3, \"value\": \"Para No Olvidar - ...\"}, \"April Showers - Sugarland\": {\"frequency\": 4, \"value\": \"April Showers - ...\"}, \"Grand Theft Autumn/Where Is Your Boy (Album Version) - Fall Out Boy\": {\"frequency\": 2, \"value\": \"Grand Theft ...\"}, \"The Last Time - Rihanna\": {\"frequency\": 2, \"value\": \"The Last Time - ...\"}, \"Mean Old World - Otis Rush\": {\"frequency\": 1, \"value\": \"Mean Old World - ...\"}, \"The Fear - Lily Allen\": {\"frequency\": 15, \"value\": \"The Fear - Lily ...\"}, \"The Goldrush - Coldplay\": {\"frequency\": 7, \"value\": \"The Goldrush - ...\"}, \"Rome - Phoenix\": {\"frequency\": 43, \"value\": \"Rome - Phoenix\"}, \"Under The Sheets - Ellie Goulding\": {\"frequency\": 3, \"value\": \"Under The Sheets - ...\"}, \"Bad Actors - Flying Lotus\": {\"frequency\": 4, \"value\": \"Bad Actors - ...\"}, \"Olympic Airways - Foals\": {\"frequency\": 5, \"value\": \"Olympic Airways - ...\"}, \"Fireworks (bonus track) - The Whitest Boy Alive\": {\"frequency\": 2, \"value\": \"Fireworks (bonus ...\"}, \"Please Forgive Me - Bryan Adams\": {\"frequency\": 5, \"value\": \"Please Forgive Me ...\"}, \"Devotion And Desire - Bayside\": {\"frequency\": 1, \"value\": \"Devotion And ...\"}, \"I'm Like A Lawyer With The Way I'm Always Trying To Get You Off (Me & You) - Fall Out Boy\": {\"frequency\": 9, \"value\": \"I'm Like A Lawyer ...\"}, \"Ice Ice Baby (Radio Edit) - Vanilla Ice\": {\"frequency\": 2, \"value\": \"Ice Ice Baby ...\"}, \"Estranged - Guns N' Roses\": {\"frequency\": 3, \"value\": \"Estranged - Guns ...\"}, \"Enter Sandman - Metallica\": {\"frequency\": 6, \"value\": \"Enter Sandman - ...\"}, \"I Thought I Saw Your Face Today - She & Him\": {\"frequency\": 18, \"value\": \"I Thought I Saw ...\"}, \"Kelly's 12 Play - The-Dream\": {\"frequency\": 8, \"value\": \"Kelly's 12 Play - ...\"}, \"For Once In My Life (Album Version) - Michael Bubl\\ufffd\\ufffd\": {\"frequency\": 36, \"value\": \"For Once In My ...\"}, \"Try A Little Tenderness (Album Version) - Michael Bubl\\ufffd\\ufffd\": {\"frequency\": 58, \"value\": \"Try A Little ...\"}, \"The Children - Yeasayer\": {\"frequency\": 3, \"value\": \"The Children - ...\"}, \"I'm Not Who I Was - Brandon Heath\": {\"frequency\": 6, \"value\": \"I'm Not Who I Was ...\"}, \"My Name Is Jonas - Weezer\": {\"frequency\": 21, \"value\": \"My Name Is Jonas - ...\"}, \"On Bended Knee - Boyz II Men\": {\"frequency\": 13, \"value\": \"On Bended Knee - ...\"}, \"Paradise - Inner City\": {\"frequency\": 4, \"value\": \"Paradise - Inner ...\"}, \"Charlotte Sometimes - The Cure\": {\"frequency\": 1, \"value\": \"Charlotte ...\"}, \"Champagne's For Celebrating (I'll Have A Martini) (Album) - Mayday Parade\": {\"frequency\": 1, \"value\": \"Champagne's For ...\"}, \"We Change_ We Wait - The Maine\": {\"frequency\": 13, \"value\": \"We Change_ We Wait ...\"}, \"White Sky - Vampire Weekend\": {\"frequency\": 1, \"value\": \"White Sky - ...\"}, \"Greece 2000 - Three Drives\": {\"frequency\": 15, \"value\": \"Greece 2000 - ...\"}, \"This Cowboy Song - Sting\": {\"frequency\": 11, \"value\": \"This Cowboy Song - ...\"}, \"The Look Of Love - Dusty Springfield\": {\"frequency\": 2, \"value\": \"The Look Of Love - ...\"}, \"Photograph - Weezer\": {\"frequency\": 8, \"value\": \"Photograph - ...\"}, \"Momma's Boy - Chromeo\": {\"frequency\": 3, \"value\": \"Momma's Boy - ...\"}, \"La Se\\ufffd\\ufffdal - Daddy Yankee\": {\"frequency\": 11, \"value\": \"La Se\\u00f1al - Daddy ...\"}, \"The World Has Turned And Left Me Here - Weezer\": {\"frequency\": 2, \"value\": \"The World Has ...\"}, \"Year Of Silence - Crystal Castles\": {\"frequency\": 5, \"value\": \"Year Of Silence - ...\"}, \"Love Is Never-Ending - Brad Paisley\": {\"frequency\": 1, \"value\": \"Love Is Never- ...\"}, \"Nobody Does It Better - Nate Dogg feat.  Warren G\": {\"frequency\": 1, \"value\": \"Nobody Does It ...\"}, \"Until The End Of Time - Justin Timberlake duet with Beyonce\": {\"frequency\": 1, \"value\": \"Until The End Of ...\"}, \"Girl Sailor (Album) - The Shins\": {\"frequency\": 8, \"value\": \"Girl Sailor ...\"}, \"I Remember - Damien Rice\": {\"frequency\": 41, \"value\": \"I Remember - ...\"}, \"The Invisible Man - Michael Cretu\": {\"frequency\": 2, \"value\": \"The Invisible Man ...\"}, \"Six - All That Remains\": {\"frequency\": 1, \"value\": \"Six - All That ...\"}, \"The Animals Were Gone - Damien Rice\": {\"frequency\": 3, \"value\": \"The Animals Were ...\"}, \"Happy New Year - Camera Obscura\": {\"frequency\": 1, \"value\": \"Happy New Year - ...\"}, \"Ghost - Neutral Milk Hotel\": {\"frequency\": 8, \"value\": \"Ghost - Neutral ...\"}, \"You Won't Know - Brand New\": {\"frequency\": 11, \"value\": \"You Won't Know - ...\"}, \"In Another Life (Album Version) - The Veronicas\": {\"frequency\": 2, \"value\": \"In Another Life ...\"}, \"You Be The Anchor That Keeps My Feet On The Ground_ I'll Be The Wings That Keep Your Heart In The Clouds (Album) - Mayday Parade\": {\"frequency\": 8, \"value\": \"You Be The Anchor ...\"}, \"Skeletons - Yeah Yeah Yeahs\": {\"frequency\": 6, \"value\": \"Skeletons - Yeah ...\"}, \"Pearly - Radiohead\": {\"frequency\": 1, \"value\": \"Pearly - Radiohead\"}, \"Te Mando Flores - Fonseca\": {\"frequency\": 1, \"value\": \"Te Mando Flores - ...\"}, \"Relegate the Judge - Amity in fame\": {\"frequency\": 2, \"value\": \"Relegate the Judge ...\"}, \"Young - Hollywood Undead\": {\"frequency\": 7, \"value\": \"Young - Hollywood ...\"}, \"Tive Sim - Cartola\": {\"frequency\": 77, \"value\": \"Tive Sim - Cartola\"}, \"Hemma F\\ufffd\\ufffdre M\\ufffd\\ufffdrkret - Totta N\\ufffd\\ufffdslund\": {\"frequency\": 16, \"value\": \"Hemma F\\u00f6re M\\u00f6rkret ...\"}, \"Sway (Album Version) - Michael Bubl\\ufffd\\ufffd\": {\"frequency\": 8, \"value\": \"Sway (Album ...\"}, \"Burnin' (Edit version) - Daft Punk\": {\"frequency\": 3, \"value\": \"Burnin' (Edit ...\"}, \"By Your Side - Lifehouse\": {\"frequency\": 8, \"value\": \"By Your Side - ...\"}, \"Si Te Contara - Ibrahim Ferrer\": {\"frequency\": 25, \"value\": \"Si Te Contara - ...\"}, \"Kalopsia - The Blizzard\": {\"frequency\": 1, \"value\": \"Kalopsia - The ...\"}, \"Con La Mano Levant\\ufffd\\ufffd - Macaco\": {\"frequency\": 3, \"value\": \"Con La Mano ...\"}, \"On My Way Back Home - Band Of Horses\": {\"frequency\": 1, \"value\": \"On My Way Back ...\"}, \"Fall Back Down (Album Version) - Rancid\": {\"frequency\": 4, \"value\": \"Fall Back Down ...\"}, \"The Kindness Of Strangers - Radney Foster\": {\"frequency\": 5, \"value\": \"The Kindness Of ...\"}, \"Little Black Sandals - Sia\": {\"frequency\": 13, \"value\": \"Little Black ...\"}, \"Lucy (Album Version) - Skillet\": {\"frequency\": 13, \"value\": \"Lucy (Album ...\"}, \"Ain't No Way (You Won't Love Me) - Chris Brown\": {\"frequency\": 1, \"value\": \"Ain't No Way (You ...\"}, \"Jesu_ Joy Of Man's Desiring (Featuring Lili Haydn) (Album Version) - Josh Groban (Featuring Lili Haydn)\": {\"frequency\": 3, \"value\": \"Jesu_ Joy Of Man's ...\"}, \"Bleeding Hearts - Soltero\": {\"frequency\": 14, \"value\": \"Bleeding Hearts - ...\"}, \"Stockholm Syndrome - Muse\": {\"frequency\": 43, \"value\": \"Stockholm Syndrome ...\"}, \"This Photograph Is Proof {I Know You Know] (Album Version) - Taking Back Sunday\": {\"frequency\": 7, \"value\": \"This Photograph Is ...\"}, \"She's So Lovely - Scouting for Girls\": {\"frequency\": 1, \"value\": \"She's So Lovely - ...\"}, \"Pages - 3 Doors Down\": {\"frequency\": 18, \"value\": \"Pages - 3 Doors ...\"}, \"Flash - Johan Gielen\": {\"frequency\": 35, \"value\": \"Flash - Johan ...\"}, \"Girl With One Eye (Bayou Percussion Version) - Florence + The Machine\": {\"frequency\": 2, \"value\": \"Girl With One Eye ...\"}, \"Oliver James - Fleet Foxes\": {\"frequency\": 6, \"value\": \"Oliver James - ...\"}, \"Mouth For War (LP Version) - Pantera\": {\"frequency\": 3, \"value\": \"Mouth For War (LP ...\"}, \"Brothers on a Hotel Bed (Rolling Stone Original) - Death Cab for Cutie\": {\"frequency\": 2, \"value\": \"Brothers on a ...\"}, \"Favorite Girl - Justin Bieber\": {\"frequency\": 25, \"value\": \"Favorite Girl - ...\"}, \"I Constantly Thank God For Esteban [Live In Chicago] - Panic At The Disco\": {\"frequency\": 14, \"value\": \"I Constantly Thank ...\"}, \"She's Not The Cheatin' Kind - Brooks & Dunn\": {\"frequency\": 1, \"value\": \"She's Not The ...\"}, \"Think About It (Album Version) - Flight Of The Conchords\": {\"frequency\": 26, \"value\": \"Think About It ...\"}, \"Enemy - Jack Johnson\": {\"frequency\": 1, \"value\": \"Enemy - Jack ...\"}, \"Different Kind Of Fine (Album) - Zac Brown Band\": {\"frequency\": 12, \"value\": \"Different Kind Of ...\"}, \"Wonder - Embrace\": {\"frequency\": 1, \"value\": \"Wonder - Embrace\"}, \"More Than A Woman - Aaliyah\": {\"frequency\": 1, \"value\": \"More Than A Woman ...\"}, \"Parachute - Train\": {\"frequency\": 6, \"value\": \"Parachute - Train\"}, \"Rent - Pet Shop Boys\": {\"frequency\": 3, \"value\": \"Rent - Pet Shop ...\"}, \"Kissing Behind The Rubbery Grinder - Major Organ And The Adding Machine\": {\"frequency\": 3, \"value\": \"Kissing Behind The ...\"}, \"Tire Swing - Kimya Dawson\": {\"frequency\": 17, \"value\": \"Tire Swing - Kimya ...\"}, \"Last Night - Traveling Wilburys\": {\"frequency\": 10, \"value\": \"Last Night - ...\"}, \"House Of 1000 Corpses - Rob Zombie\": {\"frequency\": 1, \"value\": \"House Of 1000 ...\"}, \"February Song (Album Version) - Josh Groban\": {\"frequency\": 13, \"value\": \"February Song ...\"}, \"The Wicked End (Album Version) - Avenged Sevenfold\": {\"frequency\": 6, \"value\": \"The Wicked End ...\"}, \"Always - Blink-182\": {\"frequency\": 29, \"value\": \"Always - Blink-182\"}, \"Mary's In India - Dido\": {\"frequency\": 11, \"value\": \"Mary's In India - ...\"}, \"Where Corn Don't Grow - The Grascals\": {\"frequency\": 4, \"value\": \"Where Corn Don't ...\"}, \"X-Static - Foo Fighters\": {\"frequency\": 3, \"value\": \"X-Static - Foo ...\"}, \"Black Mirror - Arcade Fire\": {\"frequency\": 35, \"value\": \"Black Mirror - ...\"}, \"Falling To Pieces - Faith No More\": {\"frequency\": 19, \"value\": \"Falling To Pieces ...\"}, \"Melt! - Flying Lotus\": {\"frequency\": 10, \"value\": \"Melt! - Flying ...\"}, \"Emergency (Album Version) - Paramore\": {\"frequency\": 5, \"value\": \"Emergency (Album ...\"}, \"Fader - The Temper Trap\": {\"frequency\": 2, \"value\": \"Fader - The Temper ...\"}, \"Imagine - Armin van Buuren\": {\"frequency\": 1, \"value\": \"Imagine - Armin ...\"}, \"These Stones Will Shout - The Raconteurs\": {\"frequency\": 4, \"value\": \"These Stones Will ...\"}, \"Boys Will Be Boys - The Ordinary Boys\": {\"frequency\": 9, \"value\": \"Boys Will Be Boys ...\"}, \"Who Said We're Wack? - The Lonely Island\": {\"frequency\": 21, \"value\": \"Who Said We're ...\"}, \"Too Far Gone - The All-American Rejects\": {\"frequency\": 11, \"value\": \"Too Far Gone - The ...\"}, \"Before You Cry - Camera Obscura\": {\"frequency\": 1, \"value\": \"Before You Cry - ...\"}, \"Yellin' At The Xmas Tree - Billy Idol\": {\"frequency\": 3, \"value\": \"Yellin' At The ...\"}, \"Frankie And Johnny - Sidney Bechet\": {\"frequency\": 4, \"value\": \"Frankie And Johnny ...\"}, \"This Is Nowhere - The Airborne Toxic Event\": {\"frequency\": 3, \"value\": \"This Is Nowhere - ...\"}, \"I Adore You - Esperanza Spalding / Leo Genovese\": {\"frequency\": 21, \"value\": \"I Adore You - ...\"}, \"The Last Baron [Score] - Mastodon\": {\"frequency\": 14, \"value\": \"The Last Baron ...\"}, \"Femme Fatale - The Velvet Underground / Nico\": {\"frequency\": 5, \"value\": \"Femme Fatale - The ...\"}, \"Let Me Get Down - The Notorious B.I.G.\": {\"frequency\": 2, \"value\": \"Let Me Get Down - ...\"}, \"'97 Bonnie & Clyde - Eminem\": {\"frequency\": 1, \"value\": \"'97 Bonnie & Clyde ...\"}, \"The Artist In The Ambulance - Thrice\": {\"frequency\": 5, \"value\": \"The Artist In The ...\"}, \"Responsible Stu - Octopus Project\": {\"frequency\": 1, \"value\": \"Responsible Stu - ...\"}, \"Up From Below - Edward Sharpe & The Magnetic Zeros\": {\"frequency\": 16, \"value\": \"Up From Below - ...\"}, \"11 am - Incubus\": {\"frequency\": 9, \"value\": \"11 am - Incubus\"}, \"Little River - harvey summers\": {\"frequency\": 5, \"value\": \"Little River - ...\"}, \"Bold As Love - John Mayer\": {\"frequency\": 11, \"value\": \"Bold As Love - ...\"}, \"Summer Shudder - AFI\": {\"frequency\": 1, \"value\": \"Summer Shudder - ...\"}, \"BedRock (Radio Edit) (feat.Lloyd) - Young Money featuring Lloyd\": {\"frequency\": 1, \"value\": \"BedRock (Radio ...\"}, \"Lay All Your Love On Me - Abba\": {\"frequency\": 12, \"value\": \"Lay All Your Love ...\"}, \"Isolation - Joy Division\": {\"frequency\": 4, \"value\": \"Isolation - Joy ...\"}, \"\\ufffd\\ufffdLo Ves? [Piano Y Voz] - Alejandro Sanz\": {\"frequency\": 2, \"value\": \"\\u00bfLo Ves? [Piano Y ...\"}, \"Tenderoni (Radio edit) - Chromeo\": {\"frequency\": 5, \"value\": \"Tenderoni (Radio ...\"}, \"Respira - Misfatto\": {\"frequency\": 6, \"value\": \"Respira - Misfatto\"}, \"Nomenclature - Andrew Bird\": {\"frequency\": 1, \"value\": \"Nomenclature - ...\"}, \"Dejame entrar (En vivo ) - Man\\ufffd\\ufffd\": {\"frequency\": 9, \"value\": \"Dejame entrar (En ...\"}, \"A Dying Cub Fan's Last Request - Steve Goodman\": {\"frequency\": 1, \"value\": \"A Dying Cub Fan's ...\"}, \"Kicking And Screaming - Miley Cyrus\": {\"frequency\": 3, \"value\": \"Kicking And ...\"}, \"Amor de Loca Juventud - Buena Vista Social Club\": {\"frequency\": 8, \"value\": \"Amor de Loca ...\"}, \"It's A Fire - Portishead\": {\"frequency\": 2, \"value\": \"It's A Fire - ...\"}, \"Given Up (Album Version) - Linkin Park\": {\"frequency\": 8, \"value\": \"Given Up (Album ...\"}, \"Judas y Lucifer - Los Originales De San Juan\": {\"frequency\": 2, \"value\": \"Judas y Lucifer - ...\"}, \"Say_ Say - Kristian Stanfill\": {\"frequency\": 14, \"value\": \"Say_ Say - ...\"}, \"Goodbye - Miley Cyrus\": {\"frequency\": 2, \"value\": \"Goodbye - Miley ...\"}, \"Whores (2006 Remastered Album Version) - Jane's Addiction\": {\"frequency\": 1, \"value\": \"Whores (2006 ...\"}, \"Feuer Frei - Rammstein\": {\"frequency\": 5, \"value\": \"Feuer Frei - ...\"}, \"Rock Steady - Gul 3\": {\"frequency\": 6, \"value\": \"Rock Steady - Gul ...\"}, \"Winding Wind - Big Country\": {\"frequency\": 2, \"value\": \"Winding Wind - Big ...\"}, \"Aqui No Es Asi - Caifanes\": {\"frequency\": 7, \"value\": \"Aqui No Es Asi - ...\"}, \"Tiempo - Jarabe De Palo\": {\"frequency\": 4, \"value\": \"Tiempo - Jarabe De ...\"}, \"Seven - Fever Ray\": {\"frequency\": 4, \"value\": \"Seven - Fever Ray\"}, \"Human - The Killers\": {\"frequency\": 1, \"value\": \"Human - The ...\"}, \"Happier - A Fine Frenzy\": {\"frequency\": 3, \"value\": \"Happier - A Fine ...\"}, \"Cry For Help (Album Version) - Shinedown\": {\"frequency\": 21, \"value\": \"Cry For Help ...\"}, \"Our Filmscore - Nicolai Dunger\": {\"frequency\": 2, \"value\": \"Our Filmscore - ...\"}, \"Meteor Shower - Owl City\": {\"frequency\": 7, \"value\": \"Meteor Shower - ...\"}, \"Parallel Lines - Kings Of Convenience\": {\"frequency\": 14, \"value\": \"Parallel Lines - ...\"}, \"Fury - Muse\": {\"frequency\": 15, \"value\": \"Fury - Muse\"}, \"Planet Telex - Radiohead\": {\"frequency\": 2, \"value\": \"Planet Telex - ...\"}, \"Warning (Album Version) - The Notorious B.I.G.\": {\"frequency\": 1, \"value\": \"Warning (Album ...\"}, \"Work On You - MSTRKRFT\": {\"frequency\": 4, \"value\": \"Work On You - ...\"}, \"Me And John And Paul - The Grascals\": {\"frequency\": 25, \"value\": \"Me And John And ...\"}, \"Illan kaunein nainen (Tava-live) - Sir Elwoodin Hiljaiset Varit\": {\"frequency\": 2, \"value\": \"Illan kaunein ...\"}, \"The Wild Boys - Duran Duran\": {\"frequency\": 3, \"value\": \"The Wild Boys - ...\"}, \"Way Away - Yellowcard\": {\"frequency\": 2, \"value\": \"Way Away - ...\"}, \"Jesus Just Left Chicago - ZZ Top\": {\"frequency\": 3, \"value\": \"Jesus Just Left ...\"}, \"La Tripleta - Calle 13\": {\"frequency\": 19, \"value\": \"La Tripleta - ...\"}, \"Thump - Simon Patterson\": {\"frequency\": 1, \"value\": \"Thump - Simon ...\"}, \"W - Perfect Stranger\": {\"frequency\": 9, \"value\": \"W - Perfect ...\"}, \"Swimming In The Flood - Passion Pit\": {\"frequency\": 8, \"value\": \"Swimming In The ...\"}, \"Magia Veneno - Catupecu Machu\": {\"frequency\": 3, \"value\": \"Magia Veneno - ...\"}, \"She\\u0019s Long Gone - The Black Keys\": {\"frequency\": 44, \"value\": \"She\\u0019s Long Gone - ...\"}, \"What I Want - Daughtry featuring Slash\": {\"frequency\": 2, \"value\": \"What I Want - ...\"}, \"Jumpin'_ Jumpin' - Destiny's Child\": {\"frequency\": 1, \"value\": \"Jumpin'_ Jumpin' - ...\"}, \"In The Flowers - Animal Collective\": {\"frequency\": 2, \"value\": \"In The Flowers - ...\"}, \"Fucking Hostile  (LP Version) - Pantera\": {\"frequency\": 14, \"value\": \"Fucking Hostile ...\"}, \"Bruised (Snakes Remix) - Jack's Mannequin\": {\"frequency\": 1, \"value\": \"Bruised (Snakes ...\"}, \"Rikki Don't Lose That Number - Steely Dan\": {\"frequency\": 2, \"value\": \"Rikki Don't Lose ...\"}, \"Right Now (Radio Edit) - Atomic Kitten\": {\"frequency\": 6, \"value\": \"Right Now (Radio ...\"}, \"Sorry County Blues - Lonesome River Band\": {\"frequency\": 6, \"value\": \"Sorry County Blues ...\"}, \"The Wolf - Eddie Vedder\": {\"frequency\": 76, \"value\": \"The Wolf - Eddie ...\"}, \"Quiero Quererte Querer - El Arrebato\": {\"frequency\": 12, \"value\": \"Quiero Quererte ...\"}, \"Margaritaville - Alan Jackson Duet with Jimmy Buffett\": {\"frequency\": 1, \"value\": \"Margaritaville - ...\"}, \"The Power Of Love (You Are My Lady) - Air Supply\": {\"frequency\": 1, \"value\": \"The Power Of Love ...\"}, \"American Terrorist [feat. Matthew Santos] (Explicit Album Version) - Lupe Fiasco\": {\"frequency\": 20, \"value\": \"American Terrorist ...\"}, \"Tonight (Featuring Mobb Deep & Joe Hooker)(Album Version) - The Notorious B.I.G.\": {\"frequency\": 4, \"value\": \"Tonight (Featuring ...\"}, \"Jade - Edward Sharpe & The Magnetic Zeros\": {\"frequency\": 58, \"value\": \"Jade - Edward ...\"}, \"All In Forms - Bonobo\": {\"frequency\": 10, \"value\": \"All In Forms - ...\"}, \"Do You Wanna - The Kooks\": {\"frequency\": 1, \"value\": \"Do You Wanna - The ...\"}, \"Ember Drive - Walls Of Jericho\": {\"frequency\": 7, \"value\": \"Ember Drive - ...\"}, \"My Life For Hire - A Day To Remember\": {\"frequency\": 31, \"value\": \"My Life For Hire - ...\"}, \"Here's A Quarter [Call Someone Who Cares] - Travis Tritt\": {\"frequency\": 2, \"value\": \"Here's A Quarter ...\"}, \"Amor Prohibido - Selena\": {\"frequency\": 23, \"value\": \"Amor Prohibido - ...\"}, \"Cards & Quarters - Local Natives\": {\"frequency\": 7, \"value\": \"Cards & Quarters - ...\"}, \"I'm Still Breathing - Katy Perry\": {\"frequency\": 3, \"value\": \"I'm Still ...\"}, \"Si Una Vez - Selena\": {\"frequency\": 8, \"value\": \"Si Una Vez - ...\"}, \"What A Feeling - Irene Cara\": {\"frequency\": 1, \"value\": \"What A Feeling - ...\"}, \"Stickshifts And Safetybelts - Cake\": {\"frequency\": 3, \"value\": \"Stickshifts And ...\"}, \"The Power of the Mind - Headhunterz\": {\"frequency\": 1, \"value\": \"The Power of the ...\"}, \"Nothin' On You [feat. Bruno Mars] (Album Version) - B.o.B\": {\"frequency\": 1, \"value\": \"Nothin' On You ...\"}, \"Weekend! - Scooter\": {\"frequency\": 1, \"value\": \"Weekend! - Scooter\"}, \"No Names (Black Debbie) - Dangerdoom\": {\"frequency\": 12, \"value\": \"No Names (Black ...\"}, \"Primera Vez - Ricardo Arjona\": {\"frequency\": 8, \"value\": \"Primera Vez - ...\"}, \"Nothing Better (Album) - Postal Service\": {\"frequency\": 20, \"value\": \"Nothing Better ...\"}, \"Madder Red - Yeasayer\": {\"frequency\": 1, \"value\": \"Madder Red - ...\"}, \"This Love  (Remastered LP Version) - Pantera\": {\"frequency\": 25, \"value\": \"This Love ...\"}, \"With Everything - Hillsong United\": {\"frequency\": 9, \"value\": \"With Everything - ...\"}, \"Ride The Lightning - Metallica\": {\"frequency\": 31, \"value\": \"Ride The Lightning ...\"}, \"Sparkles - Ti\\ufffd\\ufffdsto\": {\"frequency\": 2, \"value\": \"Sparkles - Ti\\u00ebsto\"}, \"The Flood - Escape The Fate\": {\"frequency\": 7, \"value\": \"The Flood - Escape ...\"}, \"Taxi Cab - Vampire Weekend\": {\"frequency\": 17, \"value\": \"Taxi Cab - Vampire ...\"}, \"Trigger Hippie - Morcheeba\": {\"frequency\": 3, \"value\": \"Trigger Hippie - ...\"}, \"Where Is My Love - Cat Power\": {\"frequency\": 12, \"value\": \"Where Is My Love - ...\"}, \"Moje Mieszkanie - Mikromusic\": {\"frequency\": 3, \"value\": \"Moje Mieszkanie - ...\"}, \"You Learn (Album Version) - Alanis Morissette\": {\"frequency\": 6, \"value\": \"You Learn (Album ...\"}, \"Alone In Kyoto - Air\": {\"frequency\": 4, \"value\": \"Alone In Kyoto - ...\"}, \"Under Your Spell - Cosmic Gate feat. Aruna\": {\"frequency\": 3, \"value\": \"Under Your Spell - ...\"}, \"There's No Sympathy For The Dead (Album Version) - Escape The Fate\": {\"frequency\": 32, \"value\": \"There's No ...\"}, \"Gatekeeper - Feist\": {\"frequency\": 2, \"value\": \"Gatekeeper - Feist\"}, \"Anonanimal - Andrew Bird\": {\"frequency\": 3, \"value\": \"Anonanimal - ...\"}, \"This Song Is Called (Album Version) - The Devil Wears Prada\": {\"frequency\": 1, \"value\": \"This Song Is ...\"}, \"Six Days - DJ Shadow\": {\"frequency\": 1, \"value\": \"Six Days - DJ ...\"}, \"Did it Again - Shakira\": {\"frequency\": 1, \"value\": \"Did it Again - ...\"}, \"Changed My Mind - Iration\": {\"frequency\": 12, \"value\": \"Changed My Mind - ...\"}, \"Psyche - Massive Attack\": {\"frequency\": 6, \"value\": \"Psyche - Massive ...\"}, \"That Box - TECH N9NE feat. Kutt Calhoun_ Big Krizz Kaliko_ Snug Brim_ Greed_ and Skatterman\": {\"frequency\": 1, \"value\": \"That Box - TECH ...\"}, \"My Apocalypse - Escape The Fate\": {\"frequency\": 18, \"value\": \"My Apocalypse - ...\"}, \"Epiphany (LP Version) - Staind\": {\"frequency\": 6, \"value\": \"Epiphany (LP ...\"}, \"The More I See You (Album Version) - Michael Bubl\\ufffd\\ufffd\": {\"frequency\": 12, \"value\": \"The More I See You ...\"}, \"Blackberry Stone - Laura Marling\": {\"frequency\": 3, \"value\": \"Blackberry Stone - ...\"}, \"Inaudible Melodies - Jack Johnson\": {\"frequency\": 2, \"value\": \"Inaudible Melodies ...\"}, \"Best I Ever Had - Gary Allan\": {\"frequency\": 3, \"value\": \"Best I Ever Had - ...\"}, \"Girl I Love You - Massive Attack\": {\"frequency\": 7, \"value\": \"Girl I Love You - ...\"}, \"GASOLINE&MATCHES - Stijn\": {\"frequency\": 9, \"value\": \"GASOLINE&MATCHES - ...\"}, \"Belle - Jack Johnson\": {\"frequency\": 26, \"value\": \"Belle - Jack ...\"}, \"Higher - Creed\": {\"frequency\": 2, \"value\": \"Higher - Creed\"}, \"Better Than (Album Version) - John Butler Trio\": {\"frequency\": 2, \"value\": \"Better Than (Album ...\"}, \"White Light - Gorillaz\": {\"frequency\": 19, \"value\": \"White Light - ...\"}, \"You Gotta Be - Des'ree\": {\"frequency\": 8, \"value\": \"You Gotta Be - ...\"}, \"Many Ghosts - Akron/Family\": {\"frequency\": 1, \"value\": \"Many Ghosts - ...\"}, \"Cheating On You - Franz Ferdinand\": {\"frequency\": 13, \"value\": \"Cheating On You - ...\"}, \"X Gon' Give It To Ya - DMX\": {\"frequency\": 5, \"value\": \"X Gon' Give It To ...\"}, \"Sam's Town - The Killers\": {\"frequency\": 15, \"value\": \"Sam's Town - The ...\"}, \"Left Hand Suzuki Method - Gorillaz\": {\"frequency\": 1, \"value\": \"Left Hand Suzuki ...\"}, \"Koigil Vaja On Verd (Estonian Version) - Beatallica\": {\"frequency\": 1, \"value\": \"Koigil Vaja On ...\"}, \"Sleepwalker - Adam Lambert\": {\"frequency\": 4, \"value\": \"Sleepwalker - Adam ...\"}, \"Secret Valentine - We The Kings\": {\"frequency\": 7, \"value\": \"Secret Valentine - ...\"}, \"Your Mouth - Telefon Tel Aviv\": {\"frequency\": 1, \"value\": \"Your Mouth - ...\"}, \"I Made A Tree On The Wold - Telefon Tel Aviv\": {\"frequency\": 1, \"value\": \"I Made A Tree On ...\"}, \"When We Murdered the World on the Fourteenth of May - Ordo Rosarius Equilibrio\": {\"frequency\": 9, \"value\": \"When We Murdered ...\"}, \"Old Flame - Arcade Fire\": {\"frequency\": 3, \"value\": \"Old Flame - Arcade ...\"}, \"Ask Me No Questions - Johnny Thunders\": {\"frequency\": 9, \"value\": \"Ask Me No ...\"}, \"5.45 - Gang Of Four\": {\"frequency\": 47, \"value\": \"5.45 - Gang Of ...\"}, \"Half Of My Heart - John Mayer\": {\"frequency\": 22, \"value\": \"Half Of My Heart - ...\"}, \"Metal Militia - Metallica\": {\"frequency\": 10, \"value\": \"Metal Militia - ...\"}, \"I'm No Angel - Dido\": {\"frequency\": 5, \"value\": \"I'm No Angel - ...\"}, \"Swan Song - A Fine Frenzy\": {\"frequency\": 2, \"value\": \"Swan Song - A Fine ...\"}, \"Rollerblades - Eliza Doolittle\": {\"frequency\": 3, \"value\": \"Rollerblades - ...\"}, \"Holiday - Madonna\": {\"frequency\": 1, \"value\": \"Holiday - Madonna\"}, \"Cemetery Gates - The Smiths\": {\"frequency\": 8, \"value\": \"Cemetery Gates - ...\"}, \"Through The Hosiery - Crystal Castles\": {\"frequency\": 2, \"value\": \"Through The ...\"}, \"Punch You In The Jeans - The Lonely Island\": {\"frequency\": 3, \"value\": \"Punch You In The ...\"}, \"Dead Flowers - The Rolling Stones\": {\"frequency\": 2, \"value\": \"Dead Flowers - The ...\"}, \"Arde el cielo - Man\\ufffd\\ufffd\": {\"frequency\": 18, \"value\": \"Arde el cielo - ...\"}, \"Bye Bye Beautiful - Nightwish\": {\"frequency\": 24, \"value\": \"Bye Bye Beautiful ...\"}, \"I'm Crying - The Animals\": {\"frequency\": 4, \"value\": \"I'm Crying - The ...\"}, \"Bury Your Head - Saosin\": {\"frequency\": 1, \"value\": \"Bury Your Head - ...\"}, \"Captain Kelly's Kitchen - Dropkick Murphys\": {\"frequency\": 15, \"value\": \"Captain Kelly's ...\"}, \"Jump Around (LP Version) - House Of Pain\": {\"frequency\": 1, \"value\": \"Jump Around (LP ...\"}, \"Tales Of Brave Ulysses - Cream\": {\"frequency\": 2, \"value\": \"Tales Of Brave ...\"}, \"Alcohol - Gogol Bordello\": {\"frequency\": 4, \"value\": \"Alcohol - Gogol ...\"}, \"I'm Good_ I'm Gone - Lykke Li\": {\"frequency\": 3, \"value\": \"I'm Good_ I'm Gone ...\"}, \"The Queen of Nothing - + / - {Plus/Minus}\": {\"frequency\": 16, \"value\": \"The Queen of ...\"}, \"Bones - Radiohead\": {\"frequency\": 9, \"value\": \"Bones - Radiohead\"}, \"Jude Law and a Semester Abroad - Brand New\": {\"frequency\": 2, \"value\": \"Jude Law and a ...\"}, \"The World At Large - Modest Mouse\": {\"frequency\": 3, \"value\": \"The World At Large ...\"}, \"Something Good Can Work - Two Door Cinema Club\": {\"frequency\": 5, \"value\": \"Something Good Can ...\"}, \"When It Rains (Album Version) - Paramore\": {\"frequency\": 7, \"value\": \"When It Rains ...\"}, \"Believe - Yellowcard\": {\"frequency\": 5, \"value\": \"Believe - ...\"}, \"Baby Love - The Supremes\": {\"frequency\": 1, \"value\": \"Baby Love - The ...\"}, \"Far Away (Album Version) - Nickelback\": {\"frequency\": 29, \"value\": \"Far Away (Album ...\"}, \"Tears Don't Fall - Bullet For My Valentine\": {\"frequency\": 9, \"value\": \"Tears Don't Fall - ...\"}, \"A Stranger - A Perfect Circle\": {\"frequency\": 1, \"value\": \"A Stranger - A ...\"}, \"Dear God (Album Version) - Avenged Sevenfold\": {\"frequency\": 5, \"value\": \"Dear God (Album ...\"}, \"SuperStar - Taylor Swift\": {\"frequency\": 21, \"value\": \"SuperStar - Taylor ...\"}, \"Devil's Spoke - Laura Marling\": {\"frequency\": 9, \"value\": \"Devil's Spoke - ...\"}, \"Old Yellow Bricks - Arctic Monkeys\": {\"frequency\": 4, \"value\": \"Old Yellow Bricks ...\"}, \"Unknown Brother - The Black Keys\": {\"frequency\": 2, \"value\": \"Unknown Brother - ...\"}, \"Thank U (Album Version) - Alanis Morissette\": {\"frequency\": 1, \"value\": \"Thank U (Album ...\"}, \"Be Kind - Devendra Banhart\": {\"frequency\": 5, \"value\": \"Be Kind - Devendra ...\"}, \"Sleeping Lessons (Album) - The Shins\": {\"frequency\": 1, \"value\": \"Sleeping Lessons ...\"}, \"Staple It Together - Jack Johnson\": {\"frequency\": 34, \"value\": \"Staple It Together ...\"}, \"The Final Episode (Let's Change The Channel) - Asking Alexandria\": {\"frequency\": 2, \"value\": \"The Final Episode ...\"}, \"House Of Fun (2000 Digital Remaster) - Madness\": {\"frequency\": 1, \"value\": \"House Of Fun (2000 ...\"}, \"Maybe - Second Hand Serenade\": {\"frequency\": 10, \"value\": \"Maybe - Second ...\"}, \"Break Through - Colbie Caillat\": {\"frequency\": 57, \"value\": \"Break Through - ...\"}, \"Alma De Diamante - Luis Alberto Spinetta\": {\"frequency\": 8, \"value\": \"Alma De Diamante - ...\"}, \"A Little Something - Casual featuring Del Tha Funkee Homosapien\": {\"frequency\": 6, \"value\": \"A Little Something ...\"}, \"Red Socks Pugie - Foals\": {\"frequency\": 2, \"value\": \"Red Socks Pugie - ...\"}, \"Robot Soul (Radio Edit) - Cosmo Vitelli\": {\"frequency\": 4, \"value\": \"Robot Soul (Radio ...\"}, \"Deprogram - Dr. Know\": {\"frequency\": 6, \"value\": \"Deprogram - Dr. ...\"}, \"The Mirror Conspiracy - Thievery Corporation\": {\"frequency\": 8, \"value\": \"The Mirror ...\"}, \"Rain Is A Good Thing - Luke Bryan\": {\"frequency\": 8, \"value\": \"Rain Is A Good ...\"}, \"Oh My God - Kaiser Chiefs\": {\"frequency\": 1, \"value\": \"Oh My God - Kaiser ...\"}, \"Black & Blue - Bring Me The Horizon\": {\"frequency\": 2, \"value\": \"Black & Blue - ...\"}, \"Vitamin - Incubus\": {\"frequency\": 2, \"value\": \"Vitamin - Incubus\"}, \"The '59 Sound - The Gaslight Anthem\": {\"frequency\": 1, \"value\": \"The '59 Sound - ...\"}, \"Big Brother - Kanye West\": {\"frequency\": 9, \"value\": \"Big Brother - ...\"}, \"Familiar Ground - Cinematic Orchestra\": {\"frequency\": 7, \"value\": \"Familiar Ground - ...\"}, \"Molossus - Hans Zimmer_ James Newton Howard\": {\"frequency\": 4, \"value\": \"Molossus - Hans ...\"}, \"Enter Sandman - Apocalyptica\": {\"frequency\": 1, \"value\": \"Enter Sandman - ...\"}, \"If You Don't_ Don't - Jimmy Eat World\": {\"frequency\": 4, \"value\": \"If You Don't_ ...\"}, \"Mirando - Ratatat\": {\"frequency\": 8, \"value\": \"Mirando - Ratatat\"}, \"Daughter - Bassholes\": {\"frequency\": 3, \"value\": \"Daughter - ...\"}, \"My Mom - Eminem\": {\"frequency\": 1, \"value\": \"My Mom - Eminem\"}, \"Until You're Over Me - Maroon 5\": {\"frequency\": 3, \"value\": \"Until You're Over ...\"}, \"Times Like These - Jack Johnson\": {\"frequency\": 53, \"value\": \"Times Like These - ...\"}, \"Adrenalin - Eisbrecher\": {\"frequency\": 3, \"value\": \"Adrenalin - ...\"}, \"Kiss (LP Version) - Prince & The Revolution\": {\"frequency\": 1, \"value\": \"Kiss (LP Version) ...\"}, \"What's Left of the Flag - Flogging Molly\": {\"frequency\": 57, \"value\": \"What's Left of the ...\"}, \"Love (original) - Parov Stelar\": {\"frequency\": 10, \"value\": \"Love (original) - ...\"}, \"Mr. Crowley - Ozzy Osbourne\": {\"frequency\": 9, \"value\": \"Mr. Crowley - Ozzy ...\"}, \"Give Me Novacaine [feat. Green Day & The Cast Of American Idiot] (Album Version) - Green Day\": {\"frequency\": 13, \"value\": \"Give Me Novacaine ...\"}, \"Y Hubo Alguien - Marc Anthony\": {\"frequency\": 3, \"value\": \"Y Hubo Alguien - ...\"}, \"Nothing Owed - Bonobo\": {\"frequency\": 1, \"value\": \"Nothing Owed - ...\"}, \"Rebels of the Sacred Heart - Flogging Molly\": {\"frequency\": 17, \"value\": \"Rebels of the ...\"}, \"Sick Little Games - All Time Low\": {\"frequency\": 9, \"value\": \"Sick Little Games ...\"}, \"Dub The Frequencies Of Love - Gogol Bordello\": {\"frequency\": 2, \"value\": \"Dub The ...\"}, \"Lump Sum - Bon Iver\": {\"frequency\": 117, \"value\": \"Lump Sum - Bon ...\"}, \"Cape Cod Kwassa Kwassa (Album) - Vampire Weekend\": {\"frequency\": 7, \"value\": \"Cape Cod Kwassa ...\"}, \"Te Hacen Falta Vitaminas - Soda Stereo\": {\"frequency\": 22, \"value\": \"Te Hacen Falta ...\"}, \"Especially In Michigan (Album Version) - Red Hot Chili Peppers\": {\"frequency\": 6, \"value\": \"Especially In ...\"}, \"Alright Hear This - Beastie Boys\": {\"frequency\": 3, \"value\": \"Alright Hear This ...\"}, \"Disco Heaven - Lady GaGa\": {\"frequency\": 16, \"value\": \"Disco Heaven - ...\"}, \"You Could Be Mine - Guns N' Roses\": {\"frequency\": 52, \"value\": \"You Could Be Mine ...\"}, \"Time to Go - Dropkick Murphys\": {\"frequency\": 6, \"value\": \"Time to Go - ...\"}, \"Feel The Love - Cut Copy\": {\"frequency\": 10, \"value\": \"Feel The Love - ...\"}, \"I'll Try Anything Once - The Strokes\": {\"frequency\": 9, \"value\": \"I'll Try Anything ...\"}, \"Wedding Dress - Matt Nathanson\": {\"frequency\": 3, \"value\": \"Wedding Dress - ...\"}, \"Back from hell - NARNIA\": {\"frequency\": 13, \"value\": \"Back from hell - ...\"}, \"Strut (1993 Digital Remaster) - Sheena Easton\": {\"frequency\": 1, \"value\": \"Strut (1993 ...\"}, \"Blood On The Ground - Incubus\": {\"frequency\": 7, \"value\": \"Blood On The ...\"}, \"Sleeping Awake (2006 Remastered LP Version) - P.O.D.\": {\"frequency\": 1, \"value\": \"Sleeping Awake ...\"}, \"Things Behind The Sun - Nick Drake\": {\"frequency\": 7, \"value\": \"Things Behind The ...\"}, \"Serenity - Godsmack\": {\"frequency\": 4, \"value\": \"Serenity - ...\"}, \"Goons Lurkin (Explicit Album Version) - Plies\": {\"frequency\": 2, \"value\": \"Goons Lurkin ...\"}, \"Climbing Up The Walls - Radiohead\": {\"frequency\": 21, \"value\": \"Climbing Up The ...\"}, \"Voodoo Fire - Cathedral\": {\"frequency\": 1, \"value\": \"Voodoo Fire - ...\"}, \"Broken Face - Pixies\": {\"frequency\": 7, \"value\": \"Broken Face - ...\"}, \"The Weight Of Lies - The Avett Brothers\": {\"frequency\": 12, \"value\": \"The Weight Of Lies ...\"}, \"Dangerous Animals - Arctic Monkeys\": {\"frequency\": 15, \"value\": \"Dangerous Animals ...\"}, \"Deseret - Cass McCombs\": {\"frequency\": 16, \"value\": \"Deseret - Cass ...\"}, \"Song Against Sex - Neutral Milk Hotel\": {\"frequency\": 3, \"value\": \"Song Against Sex - ...\"}, \"Never Stops - Deerhunter\": {\"frequency\": 13, \"value\": \"Never Stops - ...\"}, \"Die Kunst der Fuge_ BWV 1080 (2007 Digital Remaster): Contrapunctus XVII - Inversus - Lionel Rogg\": {\"frequency\": 1, \"value\": \"Die Kunst der ...\"}, \"Duke Of Earl - Gene Chandler\": {\"frequency\": 3, \"value\": \"Duke Of Earl - ...\"}, \"Stay Too Long - Plan B\": {\"frequency\": 1, \"value\": \"Stay Too Long - ...\"}, \"Perfect - Flyleaf\": {\"frequency\": 32, \"value\": \"Perfect - Flyleaf\"}, \"Around The World / Harder Better Faster Stronger - Daft Punk\": {\"frequency\": 1, \"value\": \"Around The World / ...\"}, \"The Breaks - Kurtis Blow\": {\"frequency\": 1, \"value\": \"The Breaks - ...\"}, \"Pam Berry (Album) - The Shins\": {\"frequency\": 18, \"value\": \"Pam Berry (Album) ...\"}, \"Damelo - Juanes\": {\"frequency\": 14, \"value\": \"Damelo - Juanes\"}, \"Que Lloro - Sin Bandera\": {\"frequency\": 8, \"value\": \"Que Lloro - Sin ...\"}, \"Friend Of The Night - Mogwai\": {\"frequency\": 3, \"value\": \"Friend Of The ...\"}, \"Survive - Rise Against\": {\"frequency\": 20, \"value\": \"Survive - Rise ...\"}, \"A Cloak Of Elvenkind - Marcy Playground\": {\"frequency\": 1, \"value\": \"A Cloak Of ...\"}, \"One (Always Hardcore) (Radio) - Scooter\": {\"frequency\": 3, \"value\": \"One (Always ...\"}, \"No Balan\\ufffd\\ufffdo Da Canoa - Alceu Valen\\ufffd\\ufffda\": {\"frequency\": 1, \"value\": \"No Balan\\u00e7o Da ...\"}, \"Chantilly Lace - Big Bopper\": {\"frequency\": 38, \"value\": \"Chantilly Lace - ...\"}, \"I'd Rather Fuck You (Explicit) (Feat. Eazy-E) - N.W.A featuring Eazy-E\": {\"frequency\": 3, \"value\": \"I'd Rather Fuck ...\"}, \"Sweet Darlin' - She & Him\": {\"frequency\": 17, \"value\": \"Sweet Darlin' - ...\"}, \"Lex - Ratatat\": {\"frequency\": 1, \"value\": \"Lex - Ratatat\"}, \"Cat Claw - The Kills\": {\"frequency\": 1, \"value\": \"Cat Claw - The ...\"}, \"Goodbye To You (Album Version) - The Veronicas\": {\"frequency\": 4, \"value\": \"Goodbye To You ...\"}, \"One Way Trip - Lil Wayne / Kevin Rudolf\": {\"frequency\": 1, \"value\": \"One Way Trip - Lil ...\"}, \"Intervention - Arcade Fire\": {\"frequency\": 10, \"value\": \"Intervention - ...\"}, \"Bla Bla Bla (Abbentenza In FM Mix) - Gigi D'agostino\": {\"frequency\": 1, \"value\": \"Bla Bla Bla ...\"}, \"I Want You Back - Shione Yukawa\": {\"frequency\": 3, \"value\": \"I Want You Back - ...\"}, \"Eco - Jorge Drexler\": {\"frequency\": 26, \"value\": \"Eco - Jorge ...\"}, \"Missed The Boat - Modest Mouse\": {\"frequency\": 2, \"value\": \"Missed The Boat - ...\"}, \"Stadium Love - Metric\": {\"frequency\": 7, \"value\": \"Stadium Love - ...\"}, \"The Ballad Of Love And Hate - The Avett Brothers\": {\"frequency\": 14, \"value\": \"The Ballad Of Love ...\"}, \"All I Ever Wanted - Basshunter\": {\"frequency\": 8, \"value\": \"All I Ever Wanted ...\"}, \"Let There Be Light (album version) - Justice\": {\"frequency\": 10, \"value\": \"Let There Be Light ...\"}, \"Eyes As Candles - Passion Pit\": {\"frequency\": 9, \"value\": \"Eyes As Candles - ...\"}, \"Ghost Of The Navigator - Iron Maiden\": {\"frequency\": 3, \"value\": \"Ghost Of The ...\"}, \"Come Gangsta - Tech N9ne\": {\"frequency\": 2, \"value\": \"Come Gangsta - ...\"}, \"Here_ There And Everywhere - Erin Bode\": {\"frequency\": 3, \"value\": \"Here_ There And ...\"}, \"Joy Ride - Mariah Carey\": {\"frequency\": 1, \"value\": \"Joy Ride - Mariah ...\"}, \"Hedonism - Just Because You Feel Good - Skunk Anansie\": {\"frequency\": 2, \"value\": \"Hedonism - Just ...\"}, \"Just Like You - Three Days Grace\": {\"frequency\": 8, \"value\": \"Just Like You - ...\"}, \"Hang On To Your Love - Sade\": {\"frequency\": 13, \"value\": \"Hang On To Your ...\"}, \"Radioactive Toy - Porcupine Tree\": {\"frequency\": 1, \"value\": \"Radioactive Toy - ...\"}, \"Would That Make U Love Me - Robin Thicke\": {\"frequency\": 11, \"value\": \"Would That Make U ...\"}, \"The Lighter - DJ SS\": {\"frequency\": 3, \"value\": \"The Lighter - DJ ...\"}, \"One Last Kiss (LP Version) - Madina Lake\": {\"frequency\": 4, \"value\": \"One Last Kiss (LP ...\"}, \"Ray Of Light (Album Version) - Madonna\": {\"frequency\": 2, \"value\": \"Ray Of Light ...\"}, \"Molly - Los Pericos\": {\"frequency\": 1, \"value\": \"Molly - Los ...\"}, \"Plush (LP Version) - Stone Temple Pilots\": {\"frequency\": 1, \"value\": \"Plush (LP Version) ...\"}, \"Great Dub In The Sky - Easy Star All-Stars\": {\"frequency\": 8, \"value\": \"Great Dub In The ...\"}, \"Eyes Full of Rose - Horse Feathers\": {\"frequency\": 3, \"value\": \"Eyes Full of Rose ...\"}, \"Dance with a Devil - Filo + Peri\": {\"frequency\": 13, \"value\": \"Dance with a Devil ...\"}, \"Paint The Sky With Stars - Enya\": {\"frequency\": 6, \"value\": \"Paint The Sky With ...\"}, \"Stay The Same - Bonobo Featuring Andreya Triana\": {\"frequency\": 1, \"value\": \"Stay The Same - ...\"}, \"Better Version Of Me - Fiona Apple\": {\"frequency\": 1, \"value\": \"Better Version Of ...\"}, \"Lead Me - Sanctus Real\": {\"frequency\": 12, \"value\": \"Lead Me - Sanctus ...\"}, \"Armchairs - Andrew Bird\": {\"frequency\": 3, \"value\": \"Armchairs - Andrew ...\"}, \"Jumping Jack Flash - The Rolling Stones\": {\"frequency\": 5, \"value\": \"Jumping Jack Flash ...\"}, \"The Sound of Settling (Album Version) - Death Cab for Cutie\": {\"frequency\": 6, \"value\": \"The Sound of ...\"}, \"I'll Back You Up - DAVE MATTHEWS BAND\": {\"frequency\": 3, \"value\": \"I'll Back You Up - ...\"}, \"Angel Malherido - El Barrio\": {\"frequency\": 13, \"value\": \"Angel Malherido - ...\"}, \"Ballad Of Mott The Hoople - Mott The Hoople\": {\"frequency\": 1, \"value\": \"Ballad Of Mott The ...\"}, \"Don't Play That Song (You Lied) (LP Version) - Aretha Franklin\": {\"frequency\": 1, \"value\": \"Don't Play That ...\"}, \"Pioneer to The Falls - Interpol\": {\"frequency\": 5, \"value\": \"Pioneer to The ...\"}, \"Angel With The Scabbed Wings - Marilyn Manson\": {\"frequency\": 5, \"value\": \"Angel With The ...\"}, \"Esperando El Impacto - Bersuit Vergarabat\": {\"frequency\": 15, \"value\": \"Esperando El ...\"}, \"Setting Forth - Eddie Vedder\": {\"frequency\": 8, \"value\": \"Setting Forth - ...\"}, \"Goodnight and Go - Imogen Heap\": {\"frequency\": 1, \"value\": \"Goodnight and Go - ...\"}, \"Song for Myla Goldberg - The Decemberists\": {\"frequency\": 39, \"value\": \"Song for Myla ...\"}, \"Crash / Concrete - Theatre Of Tragedy\": {\"frequency\": 1, \"value\": \"Crash / Concrete - ...\"}, \"Banquet (Phones Disco Edit) - Bloc Party\": {\"frequency\": 1, \"value\": \"Banquet (Phones ...\"}, \"Takin' Care Of Business - Bachman Turner Overdrive\": {\"frequency\": 2, \"value\": \"Takin' Care Of ...\"}, \"We Fight For Diamonds - Cut Copy\": {\"frequency\": 8, \"value\": \"We Fight For ...\"}, \"Movin' On - Bad Company\": {\"frequency\": 4, \"value\": \"Movin' On - Bad ...\"}, \"So Lonely - The Police\": {\"frequency\": 2, \"value\": \"So Lonely - The ...\"}, \"Hero (Album Version) - Skillet\": {\"frequency\": 30, \"value\": \"Hero (Album ...\"}, \"Heal Over - KT Tunstall\": {\"frequency\": 3, \"value\": \"Heal Over - KT ...\"}, \"Royksopp's Night Out - R\\ufffd\\ufffdyksopp\": {\"frequency\": 14, \"value\": \"Royksopp's Night ...\"}, \"Melody Day - Caribou\": {\"frequency\": 5, \"value\": \"Melody Day - ...\"}, \"Bark At The Moon - Ozzy Osbourne\": {\"frequency\": 4, \"value\": \"Bark At The Moon - ...\"}, \"I Have Seen - Zero 7\": {\"frequency\": 10, \"value\": \"I Have Seen - Zero ...\"}, \"Devour (Album Version) - Shinedown\": {\"frequency\": 33, \"value\": \"Devour (Album ...\"}, \"Precious - Esperanza Spalding / Leo Genovese\": {\"frequency\": 14, \"value\": \"Precious - ...\"}, \"Bottle Pop - The Pussycat Dolls / Snoop Dogg\": {\"frequency\": 1, \"value\": \"Bottle Pop - The ...\"}, \"All Hands Against His Own - The Black Keys\": {\"frequency\": 1, \"value\": \"All Hands Against ...\"}, \"The Mass - Era\": {\"frequency\": 1, \"value\": \"The Mass - Era\"}, \"Avalon - Sigur Ros\": {\"frequency\": 2, \"value\": \"Avalon - Sigur Ros\"}, \"Great Release - LCD Soundsystem\": {\"frequency\": 11, \"value\": \"Great Release - ...\"}, \"Imaginary Love - The Dirty Projectors\": {\"frequency\": 2, \"value\": \"Imaginary Love - ...\"}, \"Hardcore - Redman\": {\"frequency\": 2, \"value\": \"Hardcore - Redman\"}, \"Take Me Away - Lifehouse\": {\"frequency\": 5, \"value\": \"Take Me Away - ...\"}, \"The Lost Song - The Cat Empire\": {\"frequency\": 3, \"value\": \"The Lost Song - ...\"}, \"We Are Nowhere and It's Now - Bright Eyes\": {\"frequency\": 13, \"value\": \"We Are Nowhere and ...\"}, \"Witch - the bird and the bee\": {\"frequency\": 3, \"value\": \"Witch - the bird ...\"}, \"The Spicy McHaggis Jig (Album Version) - Dropkick Murphys\": {\"frequency\": 16, \"value\": \"The Spicy McHaggis ...\"}, \"Lemonade - Cocorosie\": {\"frequency\": 1, \"value\": \"Lemonade - ...\"}, \"Second Chance (Album Version) - Shinedown\": {\"frequency\": 1, \"value\": \"Second Chance ...\"}, \"Carousel (Album) - Iron And Wine\": {\"frequency\": 10, \"value\": \"Carousel (Album) - ...\"}, \"All At Once - Jack Johnson\": {\"frequency\": 11, \"value\": \"All At Once - Jack ...\"}, \"Be (Intro) - Common\": {\"frequency\": 4, \"value\": \"Be (Intro) - ...\"}, \"I Can Love You Like That (Remastered Version) - John Michael Montgomery\": {\"frequency\": 1, \"value\": \"I Can Love You ...\"}, \"Dishes - Yann Tiersen\": {\"frequency\": 13, \"value\": \"Dishes - Yann ...\"}, \"Leila Came Around And We Watched A Video - Four Tet\": {\"frequency\": 1, \"value\": \"Leila Came Around ...\"}, \"Pienso En Ti - Shakira\": {\"frequency\": 6, \"value\": \"Pienso En Ti - ...\"}, \"Clouds (Of Color Bright Album Version) - Velour 100\": {\"frequency\": 2, \"value\": \"Clouds (Of Color ...\"}, \"Scheme Eugene (Album Version) - Red Light Company\": {\"frequency\": 1, \"value\": \"Scheme Eugene ...\"}, \"Take A Chance On Me - Abba\": {\"frequency\": 5, \"value\": \"Take A Chance On ...\"}, \"Step Into My Office_ Baby - Belle & Sebastian\": {\"frequency\": 1, \"value\": \"Step Into My ...\"}, \"Don't Go - Yazoo\": {\"frequency\": 5, \"value\": \"Don't Go - Yazoo\"}, \"Into The Sun - Lifehouse\": {\"frequency\": 6, \"value\": \"Into The Sun - ...\"}, \"In Our Talons - Bowerbirds\": {\"frequency\": 1, \"value\": \"In Our Talons - ...\"}, \"Long As I Can See The Light - Creedence Clearwater Revival\": {\"frequency\": 22, \"value\": \"Long As I Can See ...\"}, \"Home - LCD Soundsystem\": {\"frequency\": 1, \"value\": \"Home - LCD ...\"}, \"Harder Better Faster Stronger (The Neptunes Remix) - Daft Punk\": {\"frequency\": 2, \"value\": \"Harder Better ...\"}, \"Wrong Turn - Jack Johnson\": {\"frequency\": 35, \"value\": \"Wrong Turn - Jack ...\"}, \"The Last Resort  (LP Version) - Eagles\": {\"frequency\": 4, \"value\": \"The Last Resort ...\"}, \"Le Million - Ste Strausz\": {\"frequency\": 4, \"value\": \"Le Million - Ste ...\"}, \"Fake Tales Of San Francisco - Arctic Monkeys\": {\"frequency\": 2, \"value\": \"Fake Tales Of San ...\"}, \"The New Chapter - Kiuas\": {\"frequency\": 10, \"value\": \"The New Chapter - ...\"}, \"Never Too Far - Mariah Carey\": {\"frequency\": 1, \"value\": \"Never Too Far - ...\"}, \"Puto - Molotov\": {\"frequency\": 8, \"value\": \"Puto - Molotov\"}, \"The Lengths - The Black Keys\": {\"frequency\": 5, \"value\": \"The Lengths - The ...\"}, \"Enjoy The Silence - Anberlin\": {\"frequency\": 1, \"value\": \"Enjoy The Silence ...\"}, \"Five Minutes To Midnight - Boys Like Girls\": {\"frequency\": 5, \"value\": \"Five Minutes To ...\"}, \"What Goes On - The Velvet Underground\": {\"frequency\": 6, \"value\": \"What Goes On - The ...\"}, \"Uhn Tiss Uhn Tiss Uhn Tiss - Bloodhound Gang\": {\"frequency\": 7, \"value\": \"Uhn Tiss Uhn Tiss ...\"}, \"Niets Dan Dit - Bl\\ufffd\\ufffdf\": {\"frequency\": 16, \"value\": \"Niets Dan Dit - ...\"}, \"Paper Gangsta - Lady GaGa\": {\"frequency\": 43, \"value\": \"Paper Gangsta - ...\"}, \"Meatplow (LP Version) - Stone Temple Pilots\": {\"frequency\": 1, \"value\": \"Meatplow (LP ...\"}, \"Heard Them Stirring - Fleet Foxes\": {\"frequency\": 9, \"value\": \"Heard Them ...\"}, \"Echoes - The Rapture\": {\"frequency\": 1, \"value\": \"Echoes - The ...\"}, \"I Come In Please - Edward Sharpe & The Magnetic Zeros\": {\"frequency\": 13, \"value\": \"I Come In Please - ...\"}, \"What's The Difference - Dr. Dre / Eminem / Alvin Joiner\": {\"frequency\": 16, \"value\": \"What's The ...\"}, \"James Dean  (LP Version) - Eagles\": {\"frequency\": 2, \"value\": \"James Dean  (LP ...\"}, \"Robots - Flight Of The Conchords\": {\"frequency\": 1, \"value\": \"Robots - Flight Of ...\"}, \"None Shall Pass (Main) - Aesop Rock\": {\"frequency\": 1, \"value\": \"None Shall Pass ...\"}, \"My Hippocratic Oath - Philmont\": {\"frequency\": 17, \"value\": \"My Hippocratic ...\"}, \"I'm Every Woman - Chaka Khan\": {\"frequency\": 2, \"value\": \"I'm Every Woman - ...\"}, \"A-Punk (Album) - Vampire Weekend\": {\"frequency\": 1, \"value\": \"A-Punk (Album) - ...\"}, \"Uprising - Muse\": {\"frequency\": 30, \"value\": \"Uprising - Muse\"}, \"There are Thousands Sleeping in Peace - The Mercury Program\": {\"frequency\": 1, \"value\": \"There are ...\"}, \"The Frayed Ends Of Sanity - Metallica\": {\"frequency\": 6, \"value\": \"The Frayed Ends Of ...\"}, \"Fight On (2002 Digital Remaster) - Peter Tosh\": {\"frequency\": 1, \"value\": \"Fight On (2002 ...\"}, \"There Must Be A Better World Somewhere - B.B. King\": {\"frequency\": 5, \"value\": \"There Must Be A ...\"}, \"Ocean Breathes Salty - Modest Mouse\": {\"frequency\": 13, \"value\": \"Ocean Breathes ...\"}, \"I'm With You - Avril Lavigne\": {\"frequency\": 9, \"value\": \"I'm With You - ...\"}, \"Echo (Explicit Album Version) - Gorilla Zoe\": {\"frequency\": 1, \"value\": \"Echo (Explicit ...\"}, \"The Thing That Should Not Be - Metallica\": {\"frequency\": 9, \"value\": \"The Thing That ...\"}, \"Blood To Bleed - Rise Against\": {\"frequency\": 30, \"value\": \"Blood To Bleed - ...\"}, \"Wishing Well - The Airborne Toxic Event\": {\"frequency\": 2, \"value\": \"Wishing Well - The ...\"}, \"The Underdog (Album version) - Spoon\": {\"frequency\": 1, \"value\": \"The Underdog ...\"}, \"Showdown (album version) - Pendulum\": {\"frequency\": 12, \"value\": \"Showdown (album ...\"}, \"Big Munny - Swizz Beatz\": {\"frequency\": 6, \"value\": \"Big Munny - Swizz ...\"}, \"The Guillotine (Album Version) - Escape The Fate\": {\"frequency\": 8, \"value\": \"The Guillotine ...\"}, \"Give It To Me Baby - Rick James\": {\"frequency\": 5, \"value\": \"Give It To Me Baby ...\"}, \"Where The Boat Leaves From (Album) - Zac Brown Band\": {\"frequency\": 54, \"value\": \"Where The Boat ...\"}, \"You Are the Moon (Album Version) - The Hush Sound\": {\"frequency\": 1, \"value\": \"You Are the Moon ...\"}, \"No Ordinary Love - Sade\": {\"frequency\": 3, \"value\": \"No Ordinary Love - ...\"}, \"Bigger Boys And Stolen Sweethearts - Arctic Monkeys\": {\"frequency\": 4, \"value\": \"Bigger Boys And ...\"}, \"Hit The Switch (Album Version) - Bright Eyes\": {\"frequency\": 1, \"value\": \"Hit The Switch ...\"}, \"Ragoo - Kings Of Leon\": {\"frequency\": 20, \"value\": \"Ragoo - Kings Of ...\"}, \"Susanne - Weezer\": {\"frequency\": 1, \"value\": \"Susanne - Weezer\"}, \"Mother's Journey - Yann Tiersen\": {\"frequency\": 2, \"value\": \"Mother's Journey - ...\"}, \"We Will Become Silhouettes (Album) - Postal Service\": {\"frequency\": 5, \"value\": \"We Will Become ...\"}, \"Blues In The Night - Katie Melua\": {\"frequency\": 7, \"value\": \"Blues In The Night ...\"}, \"Don't Wake Me (Album Version) - Skillet\": {\"frequency\": 27, \"value\": \"Don't Wake Me ...\"}, \"No Said Date - Masta Killa\": {\"frequency\": 10, \"value\": \"No Said Date - ...\"}, \"Reversing - Four Tet\": {\"frequency\": 4, \"value\": \"Reversing - Four ...\"}, \"Soul Of A Vagabond - STRATOVARIUS\": {\"frequency\": 2, \"value\": \"Soul Of A Vagabond ...\"}, \"Ex-Factor - Lauryn Hill\": {\"frequency\": 12, \"value\": \"Ex-Factor - Lauryn ...\"}, \"Prelude 12/21 - AFI\": {\"frequency\": 2, \"value\": \"Prelude 12/21 - ...\"}, \"Medley: Let Me Talk To You/ My Love - Justin Timberlake Featuring T.I.\": {\"frequency\": 1, \"value\": \"Medley: Let Me ...\"}, \"A Decade Under The Influence (Album Version) - Taking Back Sunday\": {\"frequency\": 2, \"value\": \"A Decade Under The ...\"}, \"Do I - Luke Bryan\": {\"frequency\": 19, \"value\": \"Do I - Luke Bryan\"}, \"Am I A Fool - Sense Field\": {\"frequency\": 1, \"value\": \"Am I A Fool - ...\"}, \"Toes (Album Version) - Zac Brown Band\": {\"frequency\": 2, \"value\": \"Toes (Album ...\"}, \"Tal Vez - Belanova\": {\"frequency\": 8, \"value\": \"Tal Vez - Belanova\"}, \"It's Not Over Yet - Klaxons\": {\"frequency\": 3, \"value\": \"It's Not Over Yet ...\"}, \"Wake Up Alone - Amy Winehouse\": {\"frequency\": 19, \"value\": \"Wake Up Alone - ...\"}, \"Fergalicious - Fergie / Will.I.Am\": {\"frequency\": 12, \"value\": \"Fergalicious - ...\"}, \"Gravity - A Perfect Circle\": {\"frequency\": 21, \"value\": \"Gravity - A ...\"}, \"Transporte - Jorge Drexler\": {\"frequency\": 27, \"value\": \"Transporte - Jorge ...\"}, \"Summer Smoke - Girl Talk\": {\"frequency\": 5, \"value\": \"Summer Smoke - ...\"}, \"Forever - Drake / Kanye West / Lil Wayne / Eminem\": {\"frequency\": 4, \"value\": \"Forever - Drake / ...\"}, \"Swing Tree - Discovery\": {\"frequency\": 1, \"value\": \"Swing Tree - ...\"}, \"Natural's Not In It - Gang Of Four\": {\"frequency\": 2, \"value\": \"Natural's Not In ...\"}, \"The Poet And The Pendulum - Nightwish\": {\"frequency\": 24, \"value\": \"The Poet And The ...\"}, \"Things Done Changed (Amended Version) - The Notorious B.I.G.\": {\"frequency\": 10, \"value\": \"Things Done ...\"}, \"Cathar Rhythm - Era\": {\"frequency\": 2, \"value\": \"Cathar Rhythm - ...\"}, \"Teenage Crush - Tommy Sands\": {\"frequency\": 1, \"value\": \"Teenage Crush - ...\"}, \"Wake (Album Version) - Linkin Park\": {\"frequency\": 2, \"value\": \"Wake (Album ...\"}, \"What A Shame (Album Version) - Shinedown\": {\"frequency\": 7, \"value\": \"What A Shame ...\"}, \"That Ain't The Way To Behave (2006 Digital Remaster) - Dr Feelgood\": {\"frequency\": 16, \"value\": \"That Ain't The Way ...\"}, \"Ho Ho Hopefully - The Maine\": {\"frequency\": 7, \"value\": \"Ho Ho Hopefully - ...\"}, \"Inertiatic Esp - The Mars Volta\": {\"frequency\": 6, \"value\": \"Inertiatic Esp - ...\"}, \"Summerfest '86 - Miami Horror\": {\"frequency\": 1, \"value\": \"Summerfest '86 - ...\"}, \"Beautiful Bride - Flyleaf\": {\"frequency\": 11, \"value\": \"Beautiful Bride - ...\"}, \"Start Shootin' - Little People\": {\"frequency\": 1, \"value\": \"Start Shootin' - ...\"}, \"Breakbeat Suckers - Cirrus\": {\"frequency\": 5, \"value\": \"Breakbeat Suckers ...\"}, \"Digital Love - Daft Punk\": {\"frequency\": 26, \"value\": \"Digital Love - ...\"}, \"Hear Me Out - Frou Frou\": {\"frequency\": 3, \"value\": \"Hear Me Out - Frou ...\"}, \"Miss U (Amended Version) - The Notorious B.I.G.\": {\"frequency\": 1, \"value\": \"Miss U (Amended ...\"}, \"Stop - Spice Girls\": {\"frequency\": 2, \"value\": \"Stop - Spice Girls\"}, \"Parisian Goldfish - Flying Lotus\": {\"frequency\": 1, \"value\": \"Parisian Goldfish ...\"}, \"Rhythm Is A Dancer 08 (Tom Novy Remix) - SNAP!\": {\"frequency\": 1, \"value\": \"Rhythm Is A Dancer ...\"}, \"Falling Through Your Clothes - The New Pornographers\": {\"frequency\": 1, \"value\": \"Falling Through ...\"}, \"The Christmas Song - Chris Isaak\": {\"frequency\": 1, \"value\": \"The Christmas Song ...\"}, \"It's A Hit (Live at 93 Feet East) - We Are Scientists\": {\"frequency\": 6, \"value\": \"It's A Hit (Live ...\"}, \"You're The One - Dwight Yoakam\": {\"frequency\": 1010, \"value\": \"You're The One - ...\"}, \"Beloved - Tenth Avenue North\": {\"frequency\": 12, \"value\": \"Beloved - Tenth ...\"}, \"Fun For Me - Moloko\": {\"frequency\": 4, \"value\": \"Fun For Me - ...\"}, \"Besame - Camila\": {\"frequency\": 6, \"value\": \"Besame - Camila\"}, \"Hold On To Me - Armin van Buuren\": {\"frequency\": 7, \"value\": \"Hold On To Me - ...\"}, \"Ditto (Album Version) - Cassie\": {\"frequency\": 7, \"value\": \"Ditto (Album ...\"}, \"Anything New - Digitalism\": {\"frequency\": 3, \"value\": \"Anything New - ...\"}, \"Speed - Chris Rea\": {\"frequency\": 10, \"value\": \"Speed - Chris Rea\"}, \"Never Let You Go - Justin Bieber\": {\"frequency\": 5, \"value\": \"Never Let You Go - ...\"}, \"Tessellate - Tokyo Police Club\": {\"frequency\": 4, \"value\": \"Tessellate - Tokyo ...\"}, \"Tribal Dance - Armored Saint\": {\"frequency\": 9, \"value\": \"Tribal Dance - ...\"}, \"Nothing - Ryan Leslie\": {\"frequency\": 4, \"value\": \"Nothing - Ryan ...\"}, \"Hypnopaedia - Octopus Project\": {\"frequency\": 21, \"value\": \"Hypnopaedia - ...\"}, \"Sound Of Madness (Album Version) - Shinedown\": {\"frequency\": 15, \"value\": \"Sound Of Madness ...\"}, \"Slow Country - Gorillaz\": {\"frequency\": 26, \"value\": \"Slow Country - ...\"}, \"Obsessions - Marina And The Diamonds\": {\"frequency\": 20, \"value\": \"Obsessions - ...\"}, \"Explosive - Bond\": {\"frequency\": 3, \"value\": \"Explosive - Bond\"}, \"Carmensita - Devendra Banhart\": {\"frequency\": 3, \"value\": \"Carmensita - ...\"}, \"Down To The River To Pray - Alison Krauss / Union Station\": {\"frequency\": 1, \"value\": \"Down To The River ...\"}, \"Machine Gun Funk  (Explicit Album Version) - The Notorious B.I.G.\": {\"frequency\": 37, \"value\": \"Machine Gun Funk ...\"}, \"Merry Happy / Little Red - Kate Nash\": {\"frequency\": 3, \"value\": \"Merry Happy / ...\"}, \"Angry Chair - Alice In Chains\": {\"frequency\": 5, \"value\": \"Angry Chair - ...\"}, \"Blue Blood - Foals\": {\"frequency\": 3, \"value\": \"Blue Blood - Foals\"}, \"Sorrow - Bad Religion\": {\"frequency\": 1, \"value\": \"Sorrow - Bad ...\"}, \"Leave Before The Lights Come On - Arctic Monkeys\": {\"frequency\": 1, \"value\": \"Leave Before The ...\"}, \"The Howling - Within Temptation\": {\"frequency\": 4, \"value\": \"The Howling - ...\"}, \"Still Take You Home - Arctic Monkeys\": {\"frequency\": 5, \"value\": \"Still Take You ...\"}, \"COLORADOSUNRISE (Explicit Album Version) - 3OH!3\": {\"frequency\": 2, \"value\": \"COLORADOSUNRISE ...\"}, \"Long Line Of Cars - Cake\": {\"frequency\": 20, \"value\": \"Long Line Of Cars ...\"}, \"To The End (Album Version) - My Chemical Romance\": {\"frequency\": 8, \"value\": \"To The End (Album ...\"}, \"This Joint - Slightly Stoopid\": {\"frequency\": 3, \"value\": \"This Joint - ...\"}, \"M\\ufffd\\ufffdlan\\ufffd\\ufffd - Sigur R\\ufffd\\ufffds\": {\"frequency\": 15, \"value\": \"M\\u00edlan\\u00f3 - Sigur R\\u00f3s\"}, \"Angel - Jack Johnson\": {\"frequency\": 3, \"value\": \"Angel - Jack ...\"}, \"All Alone - Gorillaz\": {\"frequency\": 2, \"value\": \"All Alone - ...\"}, \"Time Stands Still - Cut Copy\": {\"frequency\": 5, \"value\": \"Time Stands Still ...\"}, \"Black Balloon - The Kills\": {\"frequency\": 2, \"value\": \"Black Balloon - ...\"}, \"She's So Cold (1994 Digital Remaster) - The Rolling Stones\": {\"frequency\": 1, \"value\": \"She's So Cold ...\"}, \"Street Of Dreams - Guns N' Roses\": {\"frequency\": 3, \"value\": \"Street Of Dreams - ...\"}, \"I Swear  (Remastered LP Version) - John Michael Montgomery\": {\"frequency\": 4, \"value\": \"I Swear ...\"}, \"A Beggar On A Beach Of Gold - Mike And The Mechanics\": {\"frequency\": 113, \"value\": \"A Beggar On A ...\"}, \"Gotta Have You - The Weepies\": {\"frequency\": 4, \"value\": \"Gotta Have You - ...\"}, \"Black Rose Dying (Album Version) - blessthefall\": {\"frequency\": 3, \"value\": \"Black Rose Dying ...\"}, \"Giocoso gioioso - Ennio Morricone\": {\"frequency\": 13, \"value\": \"Giocoso gioioso - ...\"}, \"You'll Find A Way - Santogold\": {\"frequency\": 5, \"value\": \"You'll Find A Way ...\"}, \"Hand In My Pocket (Acoustic Album Version) - Alanis Morissette\": {\"frequency\": 18, \"value\": \"Hand In My Pocket ...\"}, \"Big Yellow Taxi - Counting Crows / Vanessa Carlton\": {\"frequency\": 1, \"value\": \"Big Yellow Taxi - ...\"}, \"Coffee Shop Soundtrack - All Time Low\": {\"frequency\": 3, \"value\": \"Coffee Shop ...\"}, \"Todo Cambio - Camila\": {\"frequency\": 3, \"value\": \"Todo Cambio - ...\"}, \"Friday Night - Lily Allen\": {\"frequency\": 14, \"value\": \"Friday Night - ...\"}, \"Wanted Dread And Alive (2002 Digital Remaster) - Peter Tosh\": {\"frequency\": 2, \"value\": \"Wanted Dread And ...\"}, \"Street Corner Preacher - Amos Lee\": {\"frequency\": 15, \"value\": \"Street Corner ...\"}, \"Saturday Night (Album Version) - Misfits\": {\"frequency\": 5, \"value\": \"Saturday Night ...\"}, \"From Left To Right - Boom Bip\": {\"frequency\": 59, \"value\": \"From Left To Right ...\"}, \"Volver\\ufffd\\ufffd - Gian Marco\": {\"frequency\": 1, \"value\": \"Volver\\u00e9 - Gian ...\"}, \"Raining Again (Steve Angello's Vocal Mix) - Moby\": {\"frequency\": 3, \"value\": \"Raining Again ...\"}, \"The Bachelor and the Bride - The Decemberists\": {\"frequency\": 15, \"value\": \"The Bachelor and ...\"}, \"Yearnin' - The Black Keys\": {\"frequency\": 2, \"value\": \"Yearnin' - The ...\"}, \"The New Year - Parachute\": {\"frequency\": 5, \"value\": \"The New Year - ...\"}, \"Rise To The Challenge - Asian Dub Foundation\": {\"frequency\": 4, \"value\": \"Rise To The ...\"}, \"Do You Hear The People Sing? - Les Mis\\ufffd\\ufffdrables - 10th Anniversary Concert\": {\"frequency\": 3, \"value\": \"Do You Hear The ...\"}, \"This Old House w/ When The Saints Medley - George Younce\": {\"frequency\": 8, \"value\": \"This Old House w/ ...\"}, \"Dinosaurs - Bonobo\": {\"frequency\": 5, \"value\": \"Dinosaurs - Bonobo\"}, \"Dakota (Album Version) - A Rocket To The Moon\": {\"frequency\": 3, \"value\": \"Dakota (Album ...\"}, \"Keep It Loose_ Keep It Tight - Amos Lee\": {\"frequency\": 1, \"value\": \"Keep It Loose_ ...\"}, \"DVNO - Justice\": {\"frequency\": 1, \"value\": \"DVNO - Justice\"}, \"Zopf: Pigtail - Penguin Caf\\ufffd\\ufffd Orchestra\": {\"frequency\": 10, \"value\": \"Zopf: Pigtail - ...\"}, \"My Band - D-12\": {\"frequency\": 2, \"value\": \"My Band - D-12\"}, \"Fast As I Can - Erin McKeown\": {\"frequency\": 31, \"value\": \"Fast As I Can - ...\"}, \"I Feel Better - Frightened Rabbit\": {\"frequency\": 3, \"value\": \"I Feel Better - ...\"}, \"Brooklyn Bound - The Black Keys\": {\"frequency\": 1, \"value\": \"Brooklyn Bound - ...\"}, \"Cudi Zone - Kid Cudi\": {\"frequency\": 14, \"value\": \"Cudi Zone - Kid ...\"}, \"Me Da Miedo - Tito El Bambino\": {\"frequency\": 4, \"value\": \"Me Da Miedo - Tito ...\"}, \"Jasey Rae - All Time Low\": {\"frequency\": 1, \"value\": \"Jasey Rae - All ...\"}, \"Picture - Sheryl Crow\": {\"frequency\": 1, \"value\": \"Picture - Sheryl ...\"}, \"Cold Day In The Sun - Foo Fighters\": {\"frequency\": 1, \"value\": \"Cold Day In The ...\"}, \"Mass Appeal (Explicit) - Gang Starr\": {\"frequency\": 2, \"value\": \"Mass Appeal ...\"}, \"Matchbox - The Kooks\": {\"frequency\": 3, \"value\": \"Matchbox - The ...\"}, \"In Our Blood - Horse Feathers\": {\"frequency\": 3, \"value\": \"In Our Blood - ...\"}, \"It's Raining Men (Radio Edit) - Geri Halliwell\": {\"frequency\": 1, \"value\": \"It's Raining Men ...\"}, \"Music Box - Eminem\": {\"frequency\": 4, \"value\": \"Music Box - Eminem\"}, \"Gone - Daughtry\": {\"frequency\": 7, \"value\": \"Gone - Daughtry\"}, \"Kid Charlemagne - Steely Dan\": {\"frequency\": 6, \"value\": \"Kid Charlemagne - ...\"}, \"4th Dimensional Transition - MGMT\": {\"frequency\": 1, \"value\": \"4th Dimensional ...\"}, \"Eyes On Fire - Blue Foundation\": {\"frequency\": 2, \"value\": \"Eyes On Fire - ...\"}, \"That Was Just A Dream - Cut Copy\": {\"frequency\": 1, \"value\": \"That Was Just A ...\"}, \"Pretty Little Ditty - Red Hot Chili Peppers\": {\"frequency\": 2, \"value\": \"Pretty Little ...\"}, \"Billy Liar - The Decemberists\": {\"frequency\": 4, \"value\": \"Billy Liar - The ...\"}, \"No One's Gonna Love You (Album) - Band Of Horses\": {\"frequency\": 5, \"value\": \"No One's Gonna ...\"}, \"All My Best Friends Are Metalheads - Less Than Jake\": {\"frequency\": 6, \"value\": \"All My Best ...\"}, \"Me Siento Mucho Mejor (I Feel Much Better) - Charly Garc\\ufffd\\ufffda\": {\"frequency\": 2, \"value\": \"Me Siento Mucho ...\"}, \"My Wife - Beirut\": {\"frequency\": 7, \"value\": \"My Wife - Beirut\"}, \"It's Christmas So We'll Stop (Choir Version) - The Pretend It's December Choir\": {\"frequency\": 1, \"value\": \"It's Christmas So ...\"}, \"Believe In Me (A&T Remix) - ATB\": {\"frequency\": 7, \"value\": \"Believe In Me (A&T ...\"}, \"Aww Skeet Skeet - Lil Jon / The East Side Boyz / DJ Flexx\": {\"frequency\": 2, \"value\": \"Aww Skeet Skeet - ...\"}, \"I?'m A Steady Rollin? Man - Robert Johnson\": {\"frequency\": 2, \"value\": \"I?'m A Steady ...\"}, \"Early Birdie - Owl City\": {\"frequency\": 4, \"value\": \"Early Birdie - Owl ...\"}, \"Henrietta - The Fratellis\": {\"frequency\": 1, \"value\": \"Henrietta - The ...\"}, \"The Scientist - Coldplay\": {\"frequency\": 280, \"value\": \"The Scientist - ...\"}, \"Chunga's Revenge - Gotan Project\": {\"frequency\": 3, \"value\": \"Chunga's Revenge - ...\"}, \"Stack Shot Billy - The Black Keys\": {\"frequency\": 1, \"value\": \"Stack Shot Billy - ...\"}, \"Girlfriend - Phoenix\": {\"frequency\": 23, \"value\": \"Girlfriend - ...\"}, \"Let It Go - Keyshia Cole / Missy Elliott / Lil' Kim\": {\"frequency\": 2, \"value\": \"Let It Go - ...\"}, \"The Empire - MxPx Feat. Mark Hoppus\": {\"frequency\": 20, \"value\": \"The Empire - MxPx ...\"}, \"Blessed Be Your Name - Matt Redman\": {\"frequency\": 3, \"value\": \"Blessed Be Your ...\"}, \"Keep The Streets Empty For Me - Fever Ray\": {\"frequency\": 7, \"value\": \"Keep The Streets ...\"}, \"Losing Touch - The Killers\": {\"frequency\": 24, \"value\": \"Losing Touch - The ...\"}, \"Three More Days - Ray LaMontagne\": {\"frequency\": 3, \"value\": \"Three More Days - ...\"}, \"The Maestro - Beastie Boys\": {\"frequency\": 75, \"value\": \"The Maestro - ...\"}, \"Narc - Interpol\": {\"frequency\": 7, \"value\": \"Narc - Interpol\"}, \"We Both Go Down together - The Decemberists\": {\"frequency\": 1, \"value\": \"We Both Go Down ...\"}, \"English Summer Rain - Placebo\": {\"frequency\": 6, \"value\": \"English Summer ...\"}, \"Bad News - Kanye West\": {\"frequency\": 3, \"value\": \"Bad News - Kanye ...\"}, \"Crossroads - John Mayer\": {\"frequency\": 8, \"value\": \"Crossroads - John ...\"}, \"Love Conquers Time (Album Version) - Air Supply\": {\"frequency\": 1, \"value\": \"Love Conquers Time ...\"}, \"Are We The Waiting [feat. Green Day & The Cast Of American Idiot] (Album Version) - Green Day\": {\"frequency\": 4, \"value\": \"Are We The Waiting ...\"}, \"Schie\\ufffd\\ufffdt die Deutschen raus - Mario Lang\": {\"frequency\": 1, \"value\": \"Schie\\u00dft die ...\"}, \"Vision One - Royksopp\": {\"frequency\": 2, \"value\": \"Vision One - ...\"}, \"Good Love Is On The Way - John Mayer\": {\"frequency\": 2, \"value\": \"Good Love Is On ...\"}, \"Strange Times - The Black Keys\": {\"frequency\": 18, \"value\": \"Strange Times - ...\"}, \"Fight For This Love - Cheryl Cole\": {\"frequency\": 1, \"value\": \"Fight For This ...\"}, \"Only The Moment (All The Time In The World Mix) - Marc Almond\": {\"frequency\": 15, \"value\": \"Only The Moment ...\"}, \"Make This Go On Forever - Snow Patrol\": {\"frequency\": 4, \"value\": \"Make This Go On ...\"}, \"Disposable Teens - Marilyn Manson\": {\"frequency\": 4, \"value\": \"Disposable Teens - ...\"}, \"For The Price Of A Cup Of Tea - Belle & Sebastian\": {\"frequency\": 1, \"value\": \"For The Price Of A ...\"}, \"Take The Power Back - Rage Against The Machine\": {\"frequency\": 16, \"value\": \"Take The Power ...\"}, \"Love Of My Life (1993 Digital Remaster) - Queen\": {\"frequency\": 8, \"value\": \"Love Of My Life ...\"}, \"Come Back Home - Two Door Cinema Club\": {\"frequency\": 143, \"value\": \"Come Back Home - ...\"}, \"Yesterdays - Guns N' Roses\": {\"frequency\": 35, \"value\": \"Yesterdays - Guns ...\"}, \"From This Day (Album Version) - Machine Head\": {\"frequency\": 2, \"value\": \"From This Day ...\"}, \"I've Been Better - Brad Paisley\": {\"frequency\": 4, \"value\": \"I've Been Better - ...\"}, \"Pretty Girls Make Graves - The Smiths\": {\"frequency\": 1, \"value\": \"Pretty Girls Make ...\"}, \"I Know It's Over - The Smiths\": {\"frequency\": 6, \"value\": \"I Know It's Over - ...\"}, \"The Next Episode - Dr. Dre / Snoop Dogg\": {\"frequency\": 4, \"value\": \"The Next Episode - ...\"}, \"Black Masks & Gasoline - Rise Against\": {\"frequency\": 1, \"value\": \"Black Masks & ...\"}, \"Gone - Kanye West / Consequence / Cam'Ron\": {\"frequency\": 1, \"value\": \"Gone - Kanye West ...\"}, \"Twin Cinema - The New Pornographers\": {\"frequency\": 2, \"value\": \"Twin Cinema - The ...\"}, \"Dry Spell (LP Version) - Pepper\": {\"frequency\": 23, \"value\": \"Dry Spell (LP ...\"}, \"Rambling Man - Laura Marling\": {\"frequency\": 11, \"value\": \"Rambling Man - ...\"}, \"Proud Mary - Creedence Clearwater Revival\": {\"frequency\": 35, \"value\": \"Proud Mary - ...\"}, \"She Just Likes To Fight - Four Tet\": {\"frequency\": 2, \"value\": \"She Just Likes To ...\"}, \"Nightlite (Zero dB Reconstruction - Radio Edit) - Bonobo feat.  Bajka\": {\"frequency\": 5, \"value\": \"Nightlite (Zero dB ...\"}, \"Just Couldn't Tie Me Down - The Black Keys\": {\"frequency\": 2, \"value\": \"Just Couldn't Tie ...\"}, \"Black Eyed Dog (Album Version) - Nick Drake\": {\"frequency\": 10, \"value\": \"Black Eyed Dog ...\"}, \"Run Run Run - The Velvet Underground / Nico\": {\"frequency\": 9, \"value\": \"Run Run Run - The ...\"}, \"Miss It So Much - Royksopp\": {\"frequency\": 3, \"value\": \"Miss It So Much - ...\"}, \"Butterfly - Corinne Bailey Rae\": {\"frequency\": 18, \"value\": \"Butterfly - ...\"}, \"I've Just Seen A Face - Jim Sturgess\": {\"frequency\": 17, \"value\": \"I've Just Seen A ...\"}, \"Dust N' Bones - Guns N' Roses\": {\"frequency\": 1, \"value\": \"Dust N' Bones - ...\"}, \"Heresy - Nine Inch Nails\": {\"frequency\": 5, \"value\": \"Heresy - Nine Inch ...\"}, \"Whenever I Say Your Name - Sting / Mary J. Blige\": {\"frequency\": 1, \"value\": \"Whenever I Say ...\"}, \"I Still Haven't Found What I'm Looking For - U2\": {\"frequency\": 1, \"value\": \"I Still Haven't ...\"}, \"A Little More Country Than That - Easton Corbin\": {\"frequency\": 24, \"value\": \"A Little More ...\"}, \"Innocent Son - Fleet Foxes\": {\"frequency\": 2, \"value\": \"Innocent Son - ...\"}, \"Opera Singer - Cake\": {\"frequency\": 31, \"value\": \"Opera Singer - ...\"}, \"Runnin' With The Devil - Van Halen\": {\"frequency\": 4, \"value\": \"Runnin' With The ...\"}, \"Heaven's gonna burn your eyes - Thievery Corporation feat. Emiliana Torrini\": {\"frequency\": 1, \"value\": \"Heaven's gonna ...\"}, \"Another Town - Regina Spektor\": {\"frequency\": 7, \"value\": \"Another Town - ...\"}, \"Heroin - The Velvet Underground / Lou Reed\": {\"frequency\": 10, \"value\": \"Heroin - The ...\"}, \"Figures - The Whitest Boy Alive\": {\"frequency\": 2, \"value\": \"Figures - The ...\"}, \"The Emperor's Soundtrack (Explicit Album Version) - Lupe Fiasco\": {\"frequency\": 10, \"value\": \"The Emperor's ...\"}, \"Medley: Summer Love/Set The Mood (Prelude) - Justin Timberlake\": {\"frequency\": 3, \"value\": \"Medley: Summer ...\"}, \"Bring Me Your Cup - UB40\": {\"frequency\": 2, \"value\": \"Bring Me Your Cup ...\"}, \"Who Will Save Your Soul - Jewel\": {\"frequency\": 1, \"value\": \"Who Will Save Your ...\"}, \"Add It Up - Violent Femmes\": {\"frequency\": 4, \"value\": \"Add It Up - ...\"}, \"All Over You - Live\": {\"frequency\": 3, \"value\": \"All Over You - ...\"}, \"Jump - Kris Kross\": {\"frequency\": 2, \"value\": \"Jump - Kris Kross\"}, \"Goccia - Cristina Don\\ufffd\\ufffd\": {\"frequency\": 29, \"value\": \"Goccia - Cristina ...\"}, \"Egyptian Cream - Robyn Hitchcock and The Egyptians\": {\"frequency\": 1, \"value\": \"Egyptian Cream - ...\"}, \"My Boy Builds Coffins - Florence + The Machine\": {\"frequency\": 125, \"value\": \"My Boy Builds ...\"}, \"Salt Water Sound - Zero 7\": {\"frequency\": 3, \"value\": \"Salt Water Sound - ...\"}, \"If You Want To Sing Out_ Sing Out - Cat Stevens\": {\"frequency\": 11, \"value\": \"If You Want To ...\"}, \"Violence - Blink-182\": {\"frequency\": 14, \"value\": \"Violence - ...\"}, \"Bedlam 1-2-3 - Exodus\": {\"frequency\": 1, \"value\": \"Bedlam 1-2-3 - ...\"}, \"Mirror Song - Live\": {\"frequency\": 1, \"value\": \"Mirror Song - Live\"}, \"Mr. Highway's Thinking About The End - A Day To Remember\": {\"frequency\": 16, \"value\": \"Mr. Highway's ...\"}, \"Stay Loose - Belle & Sebastian\": {\"frequency\": 2, \"value\": \"Stay Loose - Belle ...\"}, \"I Am The Law - Anthrax\": {\"frequency\": 2, \"value\": \"I Am The Law - ...\"}, \"That's Why I'm Here - James Taylor\": {\"frequency\": 1, \"value\": \"That's Why I'm ...\"}, \"Balloons (Single version) - Foals\": {\"frequency\": 1, \"value\": \"Balloons (Single ...\"}, \"Paris - Yael Na\\ufffd\\ufffdm\": {\"frequency\": 4, \"value\": \"Paris - Yael Na\\u00efm\"}, \"Chelsea Burns (Live In Reykjavik 2008) - Lady & Bird\": {\"frequency\": 9, \"value\": \"Chelsea Burns ...\"}, \"Give It Back - Polly Paulusma\": {\"frequency\": 18, \"value\": \"Give It Back - ...\"}, \"You Should Have Killed Me When You Had The Chance - A Day To Remember\": {\"frequency\": 1, \"value\": \"You Should Have ...\"}, \"Shimmy - System of a Down\": {\"frequency\": 2, \"value\": \"Shimmy - System of ...\"}, \"Eskimo - Album Version (not as hidden track) - Damien Rice\": {\"frequency\": 1, \"value\": \"Eskimo - Album ...\"}, \"Heavy Soul  - The Black Keys\": {\"frequency\": 16, \"value\": \"Heavy Soul  - The ...\"}, \"Don't Look Back - Boston\": {\"frequency\": 1, \"value\": \"Don't Look Back - ...\"}, \"Everybody Loves Me - OneRepublic\": {\"frequency\": 6, \"value\": \"Everybody Loves Me ...\"}, \"The Last Song - The All-American Rejects\": {\"frequency\": 10, \"value\": \"The Last Song - ...\"}, \"Quiet Houses - Fleet Foxes\": {\"frequency\": 25, \"value\": \"Quiet Houses - ...\"}, \"By The Sword (featuring Andrew Stockdale or Wolfmother) - Slash\": {\"frequency\": 3, \"value\": \"By The Sword ...\"}, \"Step Up - Drowning Pool\": {\"frequency\": 1, \"value\": \"Step Up - Drowning ...\"}, \"Losing My Edge - LCD Soundsystem\": {\"frequency\": 1, \"value\": \"Losing My Edge - ...\"}, \"Not To Touch The Earth [Take 2] - The Doors\": {\"frequency\": 1, \"value\": \"Not To Touch The ...\"}, \"Subterranean Homesick Alien - Radiohead\": {\"frequency\": 35, \"value\": \"Subterranean ...\"}, \"Rally - Phoenix\": {\"frequency\": 14, \"value\": \"Rally - Phoenix\"}, \"Half Alive - Secondhand Serenade\": {\"frequency\": 11, \"value\": \"Half Alive - ...\"}, \"Run To Me - Bee Gees\": {\"frequency\": 1, \"value\": \"Run To Me - Bee ...\"}, \"Sad Sad Day - The Griswolds\": {\"frequency\": 3, \"value\": \"Sad Sad Day - The ...\"}, \"You Know Your Boy Did That - Swizz Beatz\": {\"frequency\": 19, \"value\": \"You Know Your Boy ...\"}, \"New - No Doubt\": {\"frequency\": 2, \"value\": \"New - No Doubt\"}, \"Fell On Black Days - Soundgarden\": {\"frequency\": 2, \"value\": \"Fell On Black Days ...\"}, \"Too Afraid To Love - The Black Keys\": {\"frequency\": 8, \"value\": \"Too Afraid To Love ...\"}, \"The Memory Of Trees (Instrumental) - Enya\": {\"frequency\": 1, \"value\": \"The Memory Of ...\"}, \"The Tip Of The Iceberg - Owl City\": {\"frequency\": 21, \"value\": \"The Tip Of The ...\"}, \"Just Lose It - Eminem\": {\"frequency\": 1, \"value\": \"Just Lose It - ...\"}, \"Rikkalicious  - Herv\\ufffd\\ufffd & Kissy Sellout\": {\"frequency\": 5, \"value\": \"Rikkalicious  - ...\"}, \"The First Of Autumn - Enya\": {\"frequency\": 29, \"value\": \"The First Of ...\"}, \"Figure.09 (Album Version) - Linkin Park\": {\"frequency\": 21, \"value\": \"Figure.09 (Album ...\"}, \"Hi Scores - Boards of Canada\": {\"frequency\": 1, \"value\": \"Hi Scores - Boards ...\"}, \"Prisoner Of Love - Seventh Key\": {\"frequency\": 1, \"value\": \"Prisoner Of Love - ...\"}, \"Faxing Berlin - Deadmau5\": {\"frequency\": 3, \"value\": \"Faxing Berlin - ...\"}, \"The Voice - Celtic Woman\": {\"frequency\": 11, \"value\": \"The Voice - Celtic ...\"}, \"I Got Nerve (Karaoke) - Aruna Abrams/Ken Hauptman/Jeannie Lurie\": {\"frequency\": 5, \"value\": \"I Got Nerve ...\"}, \"The Gulag Orkestar - Beirut\": {\"frequency\": 1, \"value\": \"The Gulag Orkestar ...\"}, \"Never Let Me Down - Kanye West / Jay-Z / J. Ivy\": {\"frequency\": 2, \"value\": \"Never Let Me Down ...\"}, \"In The Summertime - Shaggy Featuring Rayvon\": {\"frequency\": 1, \"value\": \"In The Summertime ...\"}, \"St. Apollonia - Beirut\": {\"frequency\": 1, \"value\": \"St. Apollonia - ...\"}, \"The Only Difference Between Martyrdom and Suicide Is Press Coverage (Tommie Sunshine Brooklyn Fire Remix) - Panic! At The Disco\": {\"frequency\": 7, \"value\": \"The Only ...\"}, \"Run Me Down - The Black Keys\": {\"frequency\": 38, \"value\": \"Run Me Down - The ...\"}, \"Just Ain't Gonna Work Out - Mayer Hawthorne\": {\"frequency\": 1, \"value\": \"Just Ain't Gonna ...\"}, \"Deja Vu - Crosby_ Stills_ Nash & Young\": {\"frequency\": 12, \"value\": \"Deja Vu - Crosby_ ...\"}, \"Flaca - Andres Calamaro\": {\"frequency\": 2, \"value\": \"Flaca - Andres ...\"}, \"Dinosaurs Will Die - NOFX\": {\"frequency\": 1, \"value\": \"Dinosaurs Will Die ...\"}, \"This Afternoon (Album Version) - Nickelback\": {\"frequency\": 14, \"value\": \"This Afternoon ...\"}, \"Voodoo Chile Blues - Jimi Hendrix\": {\"frequency\": 1, \"value\": \"Voodoo Chile Blues ...\"}, \"It's Not My Time - 3 Doors Down\": {\"frequency\": 17, \"value\": \"It's Not My Time - ...\"}, \"Non E_ Per Te_ Per Me - Alejandro Sanz\": {\"frequency\": 6, \"value\": \"Non E_ Per Te_ Per ...\"}, \"Who's Kissing You Tonight - Jason Aldean\": {\"frequency\": 11, \"value\": \"Who's Kissing You ...\"}, \"Escap\\ufffd\\ufffdmonos - Marc Anthony;Jennifer Lopez\": {\"frequency\": 1, \"value\": \"Escap\\u00e9monos - Marc ...\"}, \"Chan Chan (Live) - Buena Vista Social Club\": {\"frequency\": 1, \"value\": \"Chan Chan (Live) - ...\"}, \"The Message/ Outro - Dr. Dre / Thomas Chong / Mary J. Blige / Rell\": {\"frequency\": 8, \"value\": \"The Message/ Outro ...\"}, \"Would? - Alice In Chains\": {\"frequency\": 9, \"value\": \"Would? - Alice In ...\"}, \"Last Chance On The Stairway (Manchester Square Demo) - Duran Duran\": {\"frequency\": 2, \"value\": \"Last Chance On The ...\"}, \"Black Star - Radiohead\": {\"frequency\": 3, \"value\": \"Black Star - ...\"}, \"Bringing Us Down - Les Savy Fav\": {\"frequency\": 3, \"value\": \"Bringing Us Down - ...\"}, \"Superfresh - Boys Noize\": {\"frequency\": 2, \"value\": \"Superfresh - Boys ...\"}, \"The Unforgiven III - Metallica\": {\"frequency\": 2, \"value\": \"The Unforgiven III ...\"}, \"Guys Like Me - Eric Church\": {\"frequency\": 9, \"value\": \"Guys Like Me - ...\"}, \"How You Remind Me - Nickelback\": {\"frequency\": 31, \"value\": \"How You Remind Me ...\"}, \"Southern Comfort - Burial\": {\"frequency\": 7, \"value\": \"Southern Comfort - ...\"}, \"Must Be The Ganja - Eminem\": {\"frequency\": 1, \"value\": \"Must Be The Ganja ...\"}, \"Demasiado Bueno - Edgar Oceransky\": {\"frequency\": 3, \"value\": \"Demasiado Bueno - ...\"}, \"Ooh La La - Goldfrapp\": {\"frequency\": 3, \"value\": \"Ooh La La - ...\"}, \"Me Amo - El Cuarteto De Nos\": {\"frequency\": 8, \"value\": \"Me Amo - El ...\"}, \"Birds Of A Feather - Phish\": {\"frequency\": 2, \"value\": \"Birds Of A Feather ...\"}, \"My Own Worst Enemy - Lit\": {\"frequency\": 1, \"value\": \"My Own Worst Enemy ...\"}, \"The Last Song - Rihanna\": {\"frequency\": 1, \"value\": \"The Last Song - ...\"}, \"Reasons - Minnie Riperton\": {\"frequency\": 17, \"value\": \"Reasons - Minnie ...\"}, \"Segert\\ufffd\\ufffdget (Dada Life remix) - Maskinen\": {\"frequency\": 1, \"value\": \"Segert\\u00e5get (Dada ...\"}, \"Green River - Creedence Clearwater Revival\": {\"frequency\": 5, \"value\": \"Green River - ...\"}, \"Bela Flor - Maria Gad\\ufffd\\ufffd\": {\"frequency\": 2, \"value\": \"Bela Flor - Maria ...\"}, \"Lemme Get That - Rihanna\": {\"frequency\": 3, \"value\": \"Lemme Get That - ...\"}, \"One More Chance (Album Version) - The Notorious B.I.G.\": {\"frequency\": 1, \"value\": \"One More Chance ...\"}, \"Plastic People - Four Tet\": {\"frequency\": 2, \"value\": \"Plastic People - ...\"}, \"Bankrupt On Selling - Modest Mouse\": {\"frequency\": 1, \"value\": \"Bankrupt On ...\"}, \"Shanty for the Arethusa - The Decemberists\": {\"frequency\": 11, \"value\": \"Shanty for the ...\"}, \"Keep Quiet - Hot Chip\": {\"frequency\": 3, \"value\": \"Keep Quiet - Hot ...\"}, \"Daylight - Coldplay\": {\"frequency\": 9, \"value\": \"Daylight - ...\"}, \"Fly (Remastered LP Version) - Sugar Ray feat. Super Cat\": {\"frequency\": 1, \"value\": \"Fly (Remastered LP ...\"}, \"Fingers And Thumbs (Cold Summer's Day) (Sound Factory Remix) - Erasure\": {\"frequency\": 2, \"value\": \"Fingers And Thumbs ...\"}, \"I Do Believe In Love - Katie Melua\": {\"frequency\": 14, \"value\": \"I Do Believe In ...\"}, \"Learn To Fly - Foo Fighters\": {\"frequency\": 2, \"value\": \"Learn To Fly - Foo ...\"}, \"Pearl Vision - Mary\": {\"frequency\": 2, \"value\": \"Pearl Vision - ...\"}, \"Path - Apocalyptica / Sandra Nasic\": {\"frequency\": 2, \"value\": \"Path - ...\"}, \"I Stay Away - Alice In Chains\": {\"frequency\": 4, \"value\": \"I Stay Away - ...\"}, \"All About The Benjamins (Album Version) - P. Diddy feat. The Notorious B.I.G._ The Lox_ Lil' Kim\": {\"frequency\": 13, \"value\": \"All About The ...\"}, \"Turn Around - Iration\": {\"frequency\": 1, \"value\": \"Turn Around - ...\"}, \"Use Somebody - Kings Of Leon\": {\"frequency\": 23, \"value\": \"Use Somebody - ...\"}, \"Watermark - Enya\": {\"frequency\": 52, \"value\": \"Watermark - Enya\"}, \"Gotta Get Some - The Spades\": {\"frequency\": 1, \"value\": \"Gotta Get Some - ...\"}, \"Forgiven (Album Version) - Disturbed\": {\"frequency\": 15, \"value\": \"Forgiven (Album ...\"}, \"Vzpominky IV. - Pavel Dobes\": {\"frequency\": 18, \"value\": \"Vzpominky IV. - ...\"}, \"Generation Nintendo - Kyle Cease\": {\"frequency\": 1, \"value\": \"Generation ...\"}, \"What's Been Going On - Amos Lee\": {\"frequency\": 3, \"value\": \"What's Been Going ...\"}, \"Sinners Like Me - Eric Church\": {\"frequency\": 24, \"value\": \"Sinners Like Me - ...\"}, \"Esisti Tu - Valerio Scanu\": {\"frequency\": 11, \"value\": \"Esisti Tu - ...\"}, \"Kim and Jessie - M83\": {\"frequency\": 1, \"value\": \"Kim and Jessie - ...\"}, \"Let You Down - Three Days Grace\": {\"frequency\": 3, \"value\": \"Let You Down - ...\"}, \"S\\ufffd\\ufffd Lest - Sigur R\\ufffd\\ufffds\": {\"frequency\": 4, \"value\": \"S\\u00e9 Lest - Sigur ...\"}, \"Forever Loving Jah - Bob Marley & The Wailers\": {\"frequency\": 1, \"value\": \"Forever Loving Jah ...\"}, \"One more night (your ex-lovers remains dead) - Stars\": {\"frequency\": 1, \"value\": \"One more night ...\"}, \"Fortune Faded (Album Version) - Red Hot Chili Peppers\": {\"frequency\": 3, \"value\": \"Fortune Faded ...\"}, \"Kept It Too Real (Amended Album Version) - Plies\": {\"frequency\": 1, \"value\": \"Kept It Too Real ...\"}, \"Roadside - Rise Against\": {\"frequency\": 1, \"value\": \"Roadside - Rise ...\"}, \"They Bring Me To You - Joshua Radin\": {\"frequency\": 41, \"value\": \"They Bring Me To ...\"}, \"Breakdown (Album Version) - Tom Petty And The Heartbreakers\": {\"frequency\": 6, \"value\": \"Breakdown (Album ...\"}, \"Grillz - Nelly / Paul Wall / Ali & Gipp\": {\"frequency\": 1, \"value\": \"Grillz - Nelly / ...\"}, \"Your Every Idol - Telefon Tel Aviv\": {\"frequency\": 3, \"value\": \"Your Every Idol - ...\"}, \"Ackrite - Dr. Dre / Hittman\": {\"frequency\": 1, \"value\": \"Ackrite - Dr. Dre ...\"}, \"Taki Rari (1999 Digital Remaster) - Yma Sumac\": {\"frequency\": 5, \"value\": \"Taki Rari (1999 ...\"}, \"Hold You In My Arms - Ray LaMontagne\": {\"frequency\": 12, \"value\": \"Hold You In My ...\"}, \"Blind Date - Bouncing Souls\": {\"frequency\": 1, \"value\": \"Blind Date - ...\"}, \"Video Killed The Radio Star - The Buggles\": {\"frequency\": 2, \"value\": \"Video Killed The ...\"}, \"Oh_ The Devastation - So Many Dynamos\": {\"frequency\": 55, \"value\": \"Oh_ The ...\"}, \"Al Di Fuori Di Me - Phil Collins\": {\"frequency\": 2, \"value\": \"Al Di Fuori Di Me ...\"}, \"Hey_ Soul Sister - Train\": {\"frequency\": 691, \"value\": \"Hey_ Soul Sister - ...\"}, \"La chica banda - Caf\\ufffd\\ufffd Tacvba\": {\"frequency\": 10, \"value\": \"La chica banda - ...\"}, \"Message In A Bottle - The Police\": {\"frequency\": 1, \"value\": \"Message In A ...\"}, \"Personal Jesus - Marilyn Manson\": {\"frequency\": 6, \"value\": \"Personal Jesus - ...\"}, \"Fast Forward To 2012 (Album Version) - A Day To Remember\": {\"frequency\": 4, \"value\": \"Fast Forward To ...\"}, \"Bird Song - Florence + The Machine\": {\"frequency\": 10, \"value\": \"Bird Song - ...\"}, \"Drones In The Valley - Cage The Elephant\": {\"frequency\": 29, \"value\": \"Drones In The ...\"}, \"Starry Eyed - Ellie Goulding\": {\"frequency\": 2, \"value\": \"Starry Eyed - ...\"}, \"Dolly Dagger - Jimi Hendrix\": {\"frequency\": 1, \"value\": \"Dolly Dagger - ...\"}, \"Pencil Full Of Lead (album) - Paolo Nutini\": {\"frequency\": 2, \"value\": \"Pencil Full Of ...\"}, \"Foxtrot Uniform Charlie Kilo - Bloodhound Gang\": {\"frequency\": 3, \"value\": \"Foxtrot Uniform ...\"}, \"Forever My Friend - Ray LaMontagne\": {\"frequency\": 18, \"value\": \"Forever My Friend ...\"}, \"Numb (album version) - Marina And The Diamonds\": {\"frequency\": 2, \"value\": \"Numb (album ...\"}, \"Espiritu De Esta Selva - Bersuit Vergarabat\": {\"frequency\": 2, \"value\": \"Espiritu De Esta ...\"}, \"If I Had A Heart - Fever Ray\": {\"frequency\": 7, \"value\": \"If I Had A Heart - ...\"}, \"Leaning Against The Wall - Kings Of Convenience\": {\"frequency\": 11, \"value\": \"Leaning Against ...\"}, \"Once In A Lifetime (Remastered LP Version ) - Talking Heads\": {\"frequency\": 3, \"value\": \"Once In A Lifetime ...\"}, \"Head Rolls Off - Frightened Rabbit\": {\"frequency\": 1, \"value\": \"Head Rolls Off - ...\"}, \"Felicidad - Gondwana\": {\"frequency\": 6, \"value\": \"Felicidad - ...\"}, \"Can't Stand Me Now - The Libertines\": {\"frequency\": 1, \"value\": \"Can't Stand Me Now ...\"}, \"Reflections Are Protection - La Roux\": {\"frequency\": 2, \"value\": \"Reflections Are ...\"}, \"The Quest - HYPOCRISY\": {\"frequency\": 2, \"value\": \"The Quest - ...\"}, \"You Don't Know Me (Album Version) - Michael Bubl\\ufffd\\ufffd\": {\"frequency\": 1, \"value\": \"You Don't Know Me ...\"}, \"The War - Angels and Airwaves\": {\"frequency\": 1, \"value\": \"The War - Angels ...\"}, \"Oceanside - Angels Of Light & Akron/Family\": {\"frequency\": 5, \"value\": \"Oceanside - Angels ...\"}, \"Home - Three Days Grace\": {\"frequency\": 2, \"value\": \"Home - Three Days ...\"}, \"Rest - The Temper Trap\": {\"frequency\": 19, \"value\": \"Rest - The Temper ...\"}, \"Double Bass - Gorillaz\": {\"frequency\": 4, \"value\": \"Double Bass - ...\"}, \"Siechen - Artist Unknown\": {\"frequency\": 2, \"value\": \"Siechen - Artist ...\"}, \"Deacon Blues - Steely Dan\": {\"frequency\": 1, \"value\": \"Deacon Blues - ...\"}, \"You Are So Beautiful - Escape The Fate\": {\"frequency\": 8, \"value\": \"You Are So ...\"}, \"Arroyito - Fonseca\": {\"frequency\": 7, \"value\": \"Arroyito - Fonseca\"}, \"Tribal War - Buju Banton\": {\"frequency\": 1, \"value\": \"Tribal War - Buju ...\"}, \"Moving - Macaco\": {\"frequency\": 3, \"value\": \"Moving - Macaco\"}, \"I Give You To His Heart - Alison Krauss\": {\"frequency\": 23, \"value\": \"I Give You To His ...\"}, \"Reality Check - Binary Star\": {\"frequency\": 3, \"value\": \"Reality Check - ...\"}, \"Servant in heaven - King in hell - Kreator\": {\"frequency\": 17, \"value\": \"Servant in heaven ...\"}, \"Brick By Brick - Train\": {\"frequency\": 23, \"value\": \"Brick By Brick - ...\"}, \"L.A. - Elliott Smith\": {\"frequency\": 13, \"value\": \"L.A. - Elliott ...\"}, \"With Pen In Hand - Johnny Darrell\": {\"frequency\": 4, \"value\": \"With Pen In Hand - ...\"}, \"Pak Dit Grej (1998 Digital Remaster) - C.V. J\\ufffd\\ufffdrgensen\": {\"frequency\": 1, \"value\": \"Pak Dit Grej (1998 ...\"}, \"Behind The Sea [Live In Chicago] - Panic At The Disco\": {\"frequency\": 18, \"value\": \"Behind The Sea ...\"}, \"Flora's Secret - Enya\": {\"frequency\": 18, \"value\": \"Flora's Secret - ...\"}, \"We Deal In Dreams - Live\": {\"frequency\": 3, \"value\": \"We Deal In Dreams ...\"}, \"Natural Anthem (Album) - Postal Service\": {\"frequency\": 2, \"value\": \"Natural Anthem ...\"}, \"Llamado De Emergencia - Daddy Yankee\": {\"frequency\": 23, \"value\": \"Llamado De ...\"}, \"Everything's Magic - Angels and Airwaves\": {\"frequency\": 1, \"value\": \"Everything's Magic ...\"}, \"Guarded (Album Version) - Disturbed\": {\"frequency\": 14, \"value\": \"Guarded (Album ...\"}, \"Oh! - Boys Noize\": {\"frequency\": 13, \"value\": \"Oh! - Boys Noize\"}, \"Soil_ Soil (Album Version) - Tegan And Sara\": {\"frequency\": 9, \"value\": \"Soil_ Soil (Album ...\"}, \"Seppuku - Beep Beep\": {\"frequency\": 1, \"value\": \"Seppuku - Beep ...\"}, \"Spiderwebs - No Doubt\": {\"frequency\": 2, \"value\": \"Spiderwebs - No ...\"}, \"Armistice - Phoenix\": {\"frequency\": 11, \"value\": \"Armistice - ...\"}, \"I Stand Alone - Godsmack\": {\"frequency\": 4, \"value\": \"I Stand Alone - ...\"}, \"Leather And Lace - Stevie Nicks & Don Henley\": {\"frequency\": 10, \"value\": \"Leather And Lace - ...\"}, \"Cute Without The E (cut From The Team) (Album Version) - Taking Back Sunday\": {\"frequency\": 3, \"value\": \"Cute Without The E ...\"}, \"Deutschland '04 feat. Joerilla - Pyranja\": {\"frequency\": 16, \"value\": \"Deutschland '04 ...\"}, \"Don't Cha - The Pussycat Dolls / Busta Rhymes\": {\"frequency\": 6, \"value\": \"Don't Cha - The ...\"}, \"A.T.H.F. (Aqua Teen Hunger Force) (Album Version) - Danger Doom\": {\"frequency\": 3, \"value\": \"A.T.H.F. (Aqua ...\"}, \"Straight Out Of Line - Godsmack\": {\"frequency\": 9, \"value\": \"Straight Out Of ...\"}, \"To Them These Streets Belong - Rise Against\": {\"frequency\": 3, \"value\": \"To Them These ...\"}, \"Crazy Love - Brian McKnight\": {\"frequency\": 1, \"value\": \"Crazy Love - Brian ...\"}, \"Adrift - Jack Johnson\": {\"frequency\": 1, \"value\": \"Adrift - Jack ...\"}, \"Beautiful - Damian Marley / Bobby Brown\": {\"frequency\": 8, \"value\": \"Beautiful - Damian ...\"}, \"Human After All - Daft Punk\": {\"frequency\": 3, \"value\": \"Human After All - ...\"}, \"Spice Up Your Life (Morales Beats) - Spice Girls\": {\"frequency\": 14, \"value\": \"Spice Up Your Life ...\"}, \"Kelly Watch The Stars - Air\": {\"frequency\": 4, \"value\": \"Kelly Watch The ...\"}, \"Too Long - Daft Punk\": {\"frequency\": 2, \"value\": \"Too Long - Daft ...\"}, \"The Climb - Miley Cyrus\": {\"frequency\": 6, \"value\": \"The Climb - Miley ...\"}, \"Fallin' Apart - The All-American Rejects\": {\"frequency\": 1, \"value\": \"Fallin' Apart - ...\"}, \"The Body Of An American - The Pogues\": {\"frequency\": 1, \"value\": \"The Body Of An ...\"}, \"See Saw - Devendra Banhart\": {\"frequency\": 1, \"value\": \"See Saw - Devendra ...\"}, \"Too Drunk to Fuck - Dead Kennedys\": {\"frequency\": 6, \"value\": \"Too Drunk to Fuck ...\"}, \"The Kids Don\\u0019t Stand A Chance (Album) - Vampire Weekend\": {\"frequency\": 7, \"value\": \"The Kids Don\\u0019t ...\"}, \"The Outer Banks - The Album Leaf\": {\"frequency\": 7, \"value\": \"The Outer Banks - ...\"}, \"These Days - The Black Keys\": {\"frequency\": 9, \"value\": \"These Days - The ...\"}, \"Make Me Happy - Cooly's Hot Box\": {\"frequency\": 3, \"value\": \"Make Me Happy - ...\"}, \"Dick In A Box - The Lonely Island / Justin Timberlake\": {\"frequency\": 37, \"value\": \"Dick In A Box - ...\"}, \"Pa - Ryan Adams & The Cardinals\": {\"frequency\": 1, \"value\": \"Pa - Ryan Adams & ...\"}, \"Siguiendo La Luna - Los Fabulosos Cadillacs\": {\"frequency\": 13, \"value\": \"Siguiendo La Luna ...\"}, \"Never_ Never Gonna Give Ya Up - Barry White\": {\"frequency\": 8, \"value\": \"Never_ Never Gonna ...\"}, \"Shelter - Ray LaMontagne\": {\"frequency\": 26, \"value\": \"Shelter - Ray ...\"}, \"Love Is All - The Tallest Man On Earth\": {\"frequency\": 6, \"value\": \"Love Is All - The ...\"}, \"Breathe - Taylor Swift / Colbie Caillat\": {\"frequency\": 4, \"value\": \"Breathe - Taylor ...\"}, \"Imanol - Platero Y Tu\": {\"frequency\": 15, \"value\": \"Imanol - Platero Y ...\"}, \"Wendy Clear - Blink-182\": {\"frequency\": 16, \"value\": \"Wendy Clear - ...\"}, \"Skin And Bones - Foo Fighters\": {\"frequency\": 3, \"value\": \"Skin And Bones - ...\"}, \"The Mixed Tape (Album Version) - Jack's Mannequin\": {\"frequency\": 4, \"value\": \"The Mixed Tape ...\"}, \"Evidence - Faith No More\": {\"frequency\": 1, \"value\": \"Evidence - Faith ...\"}, \"Mysterious Ways - U2\": {\"frequency\": 11, \"value\": \"Mysterious Ways - ...\"}, \"Listen To The Music (2006 Remastered Single Version) - The Doobie Brothers\": {\"frequency\": 1, \"value\": \"Listen To The ...\"}, \"Rockin To The Beat - Black Eyed Peas\": {\"frequency\": 1, \"value\": \"Rockin To The Beat ...\"}, \"Sensible Heart - City And Colour\": {\"frequency\": 11, \"value\": \"Sensible Heart - ...\"}, \"Little Of Your Time - Maroon 5\": {\"frequency\": 13, \"value\": \"Little Of Your ...\"}, \"Lun\\ufffd\\ufffdtico - Gotan Project\": {\"frequency\": 6, \"value\": \"Lun\\u00e1tico - Gotan ...\"}, \"True Stories - Datarock\": {\"frequency\": 6, \"value\": \"True Stories - ...\"}, \"Up - Justin Bieber\": {\"frequency\": 1, \"value\": \"Up - Justin Bieber\"}, \"Girls_ Girls_ Girls - M\\ufffd\\ufffdtley Cr\\ufffd\\ufffde\": {\"frequency\": 5, \"value\": \"Girls_ Girls_ ...\"}, \"Ripping Flesh - Wykked Wytch\": {\"frequency\": 7, \"value\": \"Ripping Flesh - ...\"}, \"Casting A Spell (Remixed) (1998 Digital Remaster) - Robert Palmer\": {\"frequency\": 1, \"value\": \"Casting A Spell ...\"}, \"When The Sun Comes Down - R.I.O.\": {\"frequency\": 13, \"value\": \"When The Sun Comes ...\"}, \"Waters Of Nazareth (album version) - Justice\": {\"frequency\": 33, \"value\": \"Waters Of Nazareth ...\"}, \"Xxplosive - Dr. Dre\": {\"frequency\": 2, \"value\": \"Xxplosive - Dr. ...\"}, \"Make Me - All Good Funk Alliance\": {\"frequency\": 2, \"value\": \"Make Me - All Good ...\"}, \"The Pyramids - Tim Wilson\": {\"frequency\": 1, \"value\": \"The Pyramids - Tim ...\"}, \"Dead & Bloated (LP Version) - Stone Temple Pilots\": {\"frequency\": 7, \"value\": \"Dead & Bloated (LP ...\"}, \"Spit It Out [Explicit] - Slipknot\": {\"frequency\": 15, \"value\": \"Spit It Out ...\"}, \"Baby It's You - JoJo / Lil' Bow Wow\": {\"frequency\": 4, \"value\": \"Baby It's You - ...\"}, \"Cum On Everybody - Eminem\": {\"frequency\": 8, \"value\": \"Cum On Everybody - ...\"}, \"Revenga - System of a Down\": {\"frequency\": 9, \"value\": \"Revenga - System ...\"}, \"Watching Lara - Yann Tiersen\": {\"frequency\": 3, \"value\": \"Watching Lara - ...\"}, \"The Girl And The Robot - Royksopp\": {\"frequency\": 5, \"value\": \"The Girl And The ...\"}, \"Baby Let Me Take You Home - The Animals\": {\"frequency\": 3, \"value\": \"Baby Let Me Take ...\"}, \"A Foggy Day (In London Town) (Album Version) - Michael Bubl\\ufffd\\ufffd\": {\"frequency\": 2, \"value\": \"A Foggy Day (In ...\"}, \"What Country Is - Luke Bryan\": {\"frequency\": 6, \"value\": \"What Country Is - ...\"}, \"Letterbomb [feat. Green Day & The Cast Of American Idiot] (Album Version) - Green Day\": {\"frequency\": 18, \"value\": \"Letterbomb [feat. ...\"}, \"You Fight Me - Breaking Benjamin\": {\"frequency\": 2, \"value\": \"You Fight Me - ...\"}, \"Roll Feat. Sean Kingston (Explicit Album Version) - Flo Rida\": {\"frequency\": 1, \"value\": \"Roll Feat. Sean ...\"}, \"The Last Goodbye - James Morrison\": {\"frequency\": 1, \"value\": \"The Last Goodbye - ...\"}, \"Brandenburg - Beirut\": {\"frequency\": 2, \"value\": \"Brandenburg - ...\"}, \"The List - Metric\": {\"frequency\": 1, \"value\": \"The List - Metric\"}, \"Carnaval de Brasil - Andres Calamaro\": {\"frequency\": 3, \"value\": \"Carnaval de Brasil ...\"}, \"Testify - Rage Against The Machine\": {\"frequency\": 2, \"value\": \"Testify - Rage ...\"}, \"Money On My Mind - Lil Wayne\": {\"frequency\": 1, \"value\": \"Money On My Mind - ...\"}, \"Lost - Katy Perry\": {\"frequency\": 2, \"value\": \"Lost - Katy Perry\"}, \"Because You Loved Me - C\\ufffd\\ufffdline Dion\": {\"frequency\": 7, \"value\": \"Because You Loved ...\"}, \"All Night Operator (Part 1) - Goldfrapp\": {\"frequency\": 14, \"value\": \"All Night Operator ...\"}, \"Been A Son - Nirvana\": {\"frequency\": 1, \"value\": \"Been A Son - ...\"}, \"Back Against The Wall - Cage The Elephant\": {\"frequency\": 13, \"value\": \"Back Against The ...\"}, \"Don de fluir - Jorge Drexler\": {\"frequency\": 4, \"value\": \"Don de fluir - ...\"}, \"No Envy No Fear - Joshua Radin\": {\"frequency\": 13, \"value\": \"No Envy No Fear - ...\"}, \"Made In The Dark - Hot Chip\": {\"frequency\": 1, \"value\": \"Made In The Dark - ...\"}, \"Bring Me To Life - Evanescence\": {\"frequency\": 7, \"value\": \"Bring Me To Life - ...\"}, \"Bagpipes From Baghdad - Eminem\": {\"frequency\": 1, \"value\": \"Bagpipes From ...\"}, \"Milk It - Nirvana\": {\"frequency\": 2, \"value\": \"Milk It - Nirvana\"}, \"Skeleton Boy - Friendly Fires\": {\"frequency\": 1, \"value\": \"Skeleton Boy - ...\"}, \"Won't Go Home Without You - Maroon 5\": {\"frequency\": 3, \"value\": \"Won't Go Home ...\"}, \"Love Me Girl - Yeasayer\": {\"frequency\": 18, \"value\": \"Love Me Girl - ...\"}, \"Latin America - Holy Fuck\": {\"frequency\": 4, \"value\": \"Latin America - ...\"}, \"Smile In Your Sleep (Album Version) - Silverstein\": {\"frequency\": 1, \"value\": \"Smile In Your ...\"}, \"Demolition Lovers - My Chemical Romance\": {\"frequency\": 4, \"value\": \"Demolition Lovers ...\"}, \"Dead Souls [Re-mastered] - Joy Division\": {\"frequency\": 9, \"value\": \"Dead Souls [Re- ...\"}, \"Ag\\ufffd\\ufffdela (Mi Abuela & The Magnificent Seven & Bust A Move) - Molotov\": {\"frequency\": 2, \"value\": \"Ag\\u00fcela (Mi Abuela ...\"}, \"Ganja Bus - Cypress Hill featuring Damian Marley\": {\"frequency\": 2, \"value\": \"Ganja Bus - ...\"}, \"Lentil - Sia\": {\"frequency\": 13, \"value\": \"Lentil - Sia\"}, \"Haunted - Evanescence\": {\"frequency\": 4, \"value\": \"Haunted - ...\"}, \"Still In Love With You - Jonas Brothers\": {\"frequency\": 1, \"value\": \"Still In Love With ...\"}, \"Love Comes Tumbling - U2\": {\"frequency\": 7, \"value\": \"Love Comes ...\"}, \"Everybody's Fool (Live in Europe) - Evanescence\": {\"frequency\": 3, \"value\": \"Everybody's Fool ...\"}, \"Champion Sound - Fatboy Slim\": {\"frequency\": 8, \"value\": \"Champion Sound - ...\"}, \"We Share Our Mothers' Health (Album Version) - The Knife\": {\"frequency\": 3, \"value\": \"We Share Our ...\"}, \"Chipi-Chipi - Charly Garc\\ufffd\\ufffda\": {\"frequency\": 3, \"value\": \"Chipi-Chipi - ...\"}, \"Skin Ticket (Album Version) - Slipknot\": {\"frequency\": 1, \"value\": \"Skin Ticket (Album ...\"}, \"Frases Mudas - Mikel Erentxun\": {\"frequency\": 4, \"value\": \"Frases Mudas - ...\"}, \"What Do You Go Home To? - Explosions In The Sky\": {\"frequency\": 5, \"value\": \"What Do You Go ...\"}, \"I Wonder - Kanye West\": {\"frequency\": 7, \"value\": \"I Wonder - Kanye ...\"}, \"I'm The One Who Understands (Edit Version) - War\": {\"frequency\": 1, \"value\": \"I'm The One Who ...\"}, \"Mowgli's Road (Single) - Marina And The Diamonds\": {\"frequency\": 16, \"value\": \"Mowgli's Road ...\"}, \"Aerodynamite - Daft Punk\": {\"frequency\": 10, \"value\": \"Aerodynamite - ...\"}, \"Johnny_ I Hardly Knew Ya - Dropkick Murphys\": {\"frequency\": 2, \"value\": \"Johnny_ I Hardly ...\"}, \"Sunshine - Matt Costa\": {\"frequency\": 2, \"value\": \"Sunshine - Matt ...\"}, \"Make Gay Love Not War - Need New Body\": {\"frequency\": 1, \"value\": \"Make Gay Love Not ...\"}, \"Desde Que O Samba E Samba - Jo\\ufffd\\ufffdo Gilberto\": {\"frequency\": 1, \"value\": \"Desde Que O Samba ...\"}, \"Peace Beneath the City (Album) - Iron And Wine\": {\"frequency\": 8, \"value\": \"Peace Beneath the ...\"}, \"La Fokin Moda - Calle 13\": {\"frequency\": 1, \"value\": \"La Fokin Moda - ...\"}, \"Nobody (Featuring Athena Cage) (LP Version) - Keith Sweat Featuring Athena Cage\": {\"frequency\": 1, \"value\": \"Nobody (Featuring ...\"}, \"Acadian Coast - Soltero\": {\"frequency\": 1, \"value\": \"Acadian Coast - ...\"}, \"Boombastic - Shaggy\": {\"frequency\": 1, \"value\": \"Boombastic - ...\"}, \"Don't Stop...Planet Rock (In The Pocket Mix) feat. Bambaataa_ Eric Kupper & Mohamed Moretta - Afrika Bambaataa & The Soul Sonic Force\": {\"frequency\": 5, \"value\": \"Don't ...\"}, \"Stay In The Shade - Jos\\ufffd\\ufffd Gonz\\ufffd\\ufffdlez\": {\"frequency\": 1, \"value\": \"Stay In The Shade ...\"}, \"Master Of Puppets - Metallica\": {\"frequency\": 2, \"value\": \"Master Of Puppets ...\"}, \"The Privateers - Andrew Bird\": {\"frequency\": 3, \"value\": \"The Privateers - ...\"}, \"Stone Love (LP Version) - Pepper\": {\"frequency\": 10, \"value\": \"Stone Love (LP ...\"}, \"Just One Nite (Album Version) - Cassie\": {\"frequency\": 9, \"value\": \"Just One Nite ...\"}, \"I'm Not Okay (I Promise) (Live From Sessions@AOL) - My Chemical Romance\": {\"frequency\": 18, \"value\": \"I'm Not Okay (I ...\"}, \"The Good Fight - Dashboard Confessional\": {\"frequency\": 1, \"value\": \"The Good Fight - ...\"}, \"Rhinestone Eyes - Gorillaz\": {\"frequency\": 8, \"value\": \"Rhinestone Eyes - ...\"}, \"She's Mine - Brett Dennen\": {\"frequency\": 7, \"value\": \"She's Mine - Brett ...\"}, \"Hace Tiempo - Fonseca\": {\"frequency\": 2, \"value\": \"Hace Tiempo - ...\"}, \"Lo Que Yo No Tengo - Son By 4\": {\"frequency\": 12, \"value\": \"Lo Que Yo No Tengo ...\"}, \"We're Not Making Love No More - Dru Hill\": {\"frequency\": 7, \"value\": \"We're Not Making ...\"}, \"They - Jem\": {\"frequency\": 1, \"value\": \"They - Jem\"}, \"Still - Matt Nathanson\": {\"frequency\": 13, \"value\": \"Still - Matt ...\"}, \"Duality (Album Version) - Slipknot\": {\"frequency\": 1, \"value\": \"Duality (Album ...\"}, \"Loose Lips - Kimya Dawson\": {\"frequency\": 6, \"value\": \"Loose Lips - Kimya ...\"}, \"Angeles - Elliott Smith\": {\"frequency\": 4, \"value\": \"Angeles - Elliott ...\"}, \"Not A Robot_ But A Ghost - Andrew Bird\": {\"frequency\": 1, \"value\": \"Not A Robot_ But A ...\"}, \"Lips Of An Angel - Hinder\": {\"frequency\": 1, \"value\": \"Lips Of An Angel - ...\"}, \"Masquerade (Reality Check Album Version) - Reality Check\": {\"frequency\": 61, \"value\": \"Masquerade ...\"}, \"Ageless beauty - Stars\": {\"frequency\": 1, \"value\": \"Ageless beauty - ...\"}, \"Fall To Pieces - Velvet Revolver\": {\"frequency\": 1, \"value\": \"Fall To Pieces - ...\"}, \"Illumination - Thievery Corporation\": {\"frequency\": 8, \"value\": \"Illumination - ...\"}, \"The Downward Spiral - Nine Inch Nails\": {\"frequency\": 3, \"value\": \"The Downward ...\"}, \"Wie Jetzt - Dynamite Deluxe\": {\"frequency\": 7, \"value\": \"Wie Jetzt - ...\"}, \"Find A Way - A Tribe Called Quest\": {\"frequency\": 3, \"value\": \"Find A Way - A ...\"}, \"The Stars of Track and Field - Belle and Sebastian\": {\"frequency\": 4, \"value\": \"The Stars of Track ...\"}, \"Tortured Soul - Skream\": {\"frequency\": 3, \"value\": \"Tortured Soul - ...\"}, \"Are You Hurting The One You Love? - Florence + The Machine\": {\"frequency\": 2, \"value\": \"Are You Hurting ...\"}, \"Paper Wings - Rise Against\": {\"frequency\": 18, \"value\": \"Paper Wings - Rise ...\"}, \"Dancin' On The Killing Floor - Dread Zeppelin\": {\"frequency\": 12, \"value\": \"Dancin' On The ...\"}, \"Atlas Air - Massive Attack\": {\"frequency\": 5, \"value\": \"Atlas Air - ...\"}, \"Excuse Me Mr. - No Doubt\": {\"frequency\": 6, \"value\": \"Excuse Me Mr. - No ...\"}, \"Pitiful (Radio Edit) () - Sick Puppies\": {\"frequency\": 4, \"value\": \"Pitiful (Radio ...\"}, \"The Cool (Amended Album Version) - Lupe Fiasco\": {\"frequency\": 6, \"value\": \"The Cool (Amended ...\"}, \"Find You Waiting - DecembeRadio\": {\"frequency\": 4, \"value\": \"Find You Waiting - ...\"}, \"Represent - Orishas\": {\"frequency\": 7, \"value\": \"Represent - ...\"}, \"Por quererte - Efecto Mariposa\": {\"frequency\": 27, \"value\": \"Por quererte - ...\"}, \"Do You Want It All\\ufffd\\ufffd? - Two Door Cinema Club\": {\"frequency\": 18, \"value\": \"Do You Want It All ...\"}, \"End Of The Road - Boyz II Men\": {\"frequency\": 24, \"value\": \"End Of The Road - ...\"}, \"Allison - Pixies\": {\"frequency\": 1, \"value\": \"Allison - Pixies\"}, \"Sugarland - Sugarland\": {\"frequency\": 3, \"value\": \"Sugarland - ...\"}, \"Goodbye Is All We Have - Alison Krauss and Union Station\": {\"frequency\": 12, \"value\": \"Goodbye Is All We ...\"}, \"The Bones Of You - Elbow\": {\"frequency\": 6, \"value\": \"The Bones Of You - ...\"}, \"Me And God - Josh Turner / Dr. Ralph Stanley / Diamond Rio\": {\"frequency\": 1, \"value\": \"Me And God - Josh ...\"}, \"Lies - Glen Hansard\": {\"frequency\": 8, \"value\": \"Lies - Glen ...\"}, \"Comet Course - Flying Lotus\": {\"frequency\": 2, \"value\": \"Comet Course - ...\"}, \"The Shrew - Beirut\": {\"frequency\": 3, \"value\": \"The Shrew - Beirut\"}, \"Bada - Flaminio Maphia\": {\"frequency\": 1, \"value\": \"Bada - Flaminio ...\"}, \"Sweet Baby James - James Taylor\": {\"frequency\": 9, \"value\": \"Sweet Baby James - ...\"}, \"Bullet And A Target - Citizen Cope\": {\"frequency\": 4, \"value\": \"Bullet And A ...\"}, \"Perro Amor Explota - Bersuit Vergarabat\": {\"frequency\": 12, \"value\": \"Perro Amor Explota ...\"}, \"Bad Meets Evil - Eminem / Royce Da 5-9\": {\"frequency\": 1, \"value\": \"Bad Meets Evil - ...\"}, \"When I'm Gone - 3 Doors Down\": {\"frequency\": 1, \"value\": \"When I'm Gone - 3 ...\"}, \"Do You Know Me - John Mayer\": {\"frequency\": 17, \"value\": \"Do You Know Me - ...\"}, \"Walk On Water Or Drown (Album) - Mayday Parade\": {\"frequency\": 37, \"value\": \"Walk On Water Or ...\"}, \"Quante Volte Ti Ho Cercato - Andrea Bocelli\": {\"frequency\": 15, \"value\": \"Quante Volte Ti Ho ...\"}, \"Been Caught Stealing ( LP Version ) - Jane's Addiction\": {\"frequency\": 1, \"value\": \"Been Caught ...\"}, \"Chant A Psalm - Steel Pulse\": {\"frequency\": 2, \"value\": \"Chant A Psalm - ...\"}, \"Tourniquet - Evanescence\": {\"frequency\": 17, \"value\": \"Tourniquet - ...\"}, \"Touch My Body - Mariah Carey\": {\"frequency\": 8, \"value\": \"Touch My Body - ...\"}, \"Girl Next Door - Musiq / Ayana\": {\"frequency\": 26, \"value\": \"Girl Next Door - ...\"}, \"Tramp - Otis Redding & Carla Thomas\": {\"frequency\": 10, \"value\": \"Tramp - Otis ...\"}, \"Kiss Me_ Diss Me - Home Grown\": {\"frequency\": 1, \"value\": \"Kiss Me_ Diss Me - ...\"}, \"Grounds For Divorce - Elbow\": {\"frequency\": 2, \"value\": \"Grounds For ...\"}, \"Floating Vibes - Surfer Blood\": {\"frequency\": 2, \"value\": \"Floating Vibes - ...\"}, \"Voodoo - Godsmack\": {\"frequency\": 4, \"value\": \"Voodoo - Godsmack\"}, \"Brainfeeder - Flying Lotus\": {\"frequency\": 1, \"value\": \"Brainfeeder - ...\"}, \"If I Ever Leave This World Alive - Flogging Molly\": {\"frequency\": 12, \"value\": \"If I Ever Leave ...\"}, \"Right Here - Miley Cyrus\": {\"frequency\": 3, \"value\": \"Right Here - Miley ...\"}, \"Sulk - Radiohead\": {\"frequency\": 4, \"value\": \"Sulk - Radiohead\"}, \"Awake - Angels Of Light & Akron/Family\": {\"frequency\": 4, \"value\": \"Awake - Angels Of ...\"}, \"La Despedida - Daddy Yankee\": {\"frequency\": 15, \"value\": \"La Despedida - ...\"}, \"Ghost Of Corporate Future [Live in California 2006] - Regina Spektor\": {\"frequency\": 5, \"value\": \"Ghost Of Corporate ...\"}, \"Last Cup Of Sorrow - Faith No More\": {\"frequency\": 8, \"value\": \"Last Cup Of Sorrow ...\"}, \"You Are The Sunshine Of My Life - Stevie Wonder\": {\"frequency\": 6, \"value\": \"You Are The ...\"}, \"Paint The Town Red - Delirious?\": {\"frequency\": 13, \"value\": \"Paint The Town Red ...\"}, \"Streets On Fire (Explicit Album Version) - Lupe Fiasco\": {\"frequency\": 39, \"value\": \"Streets On Fire ...\"}, \"Lovestain - Jos\\ufffd\\ufffd Gonz\\ufffd\\ufffdlez\": {\"frequency\": 5, \"value\": \"Lovestain - Jos\\u00e9 ...\"}, \"The Desperate Man - The Black Keys\": {\"frequency\": 7, \"value\": \"The Desperate Man ...\"}, \"Quiero Verte Sonreir - Carlos Vives\": {\"frequency\": 2, \"value\": \"Quiero Verte ...\"}, \"Secret Door - Arctic Monkeys\": {\"frequency\": 7, \"value\": \"Secret Door - ...\"}, \"Simplest Love - Edward Sharpe & The Magnetic Zeros\": {\"frequency\": 9, \"value\": \"Simplest Love - ...\"}, \"Birthday - Timbaland & Magoo\": {\"frequency\": 2, \"value\": \"Birthday - ...\"}, \"It's The Only One You've Got - 3 Doors Down\": {\"frequency\": 1, \"value\": \"It's The Only One ...\"}, \"I Wanna Be Down ( LP Version ) - Brandy\": {\"frequency\": 2, \"value\": \"I Wanna Be Down ( ...\"}, \"Superhereos - Daft Punk\": {\"frequency\": 3, \"value\": \"Superhereos - Daft ...\"}, \"Monsoon - Tokio Hotel\": {\"frequency\": 1, \"value\": \"Monsoon - Tokio ...\"}, \"Seventy Times 7 - Brand New\": {\"frequency\": 6, \"value\": \"Seventy Times 7 - ...\"}, \"Soldier On - The Temper Trap\": {\"frequency\": 19, \"value\": \"Soldier On - The ...\"}, \"Ragged Wood - Fleet Foxes\": {\"frequency\": 3, \"value\": \"Ragged Wood - ...\"}, \"The Package - A Perfect Circle\": {\"frequency\": 6, \"value\": \"The Package - A ...\"}, \"Too Much Love - LCD Soundsystem\": {\"frequency\": 6, \"value\": \"Too Much Love - ...\"}, \"On A Deeper Level - Blufeld\": {\"frequency\": 3, \"value\": \"On A Deeper Level ...\"}, \"Twisted Logic - Coldplay\": {\"frequency\": 3, \"value\": \"Twisted Logic - ...\"}, \"Into The Ocean - Blue October\": {\"frequency\": 1, \"value\": \"Into The Ocean - ...\"}, \"Real World  (LP Version) - matchbox twenty\": {\"frequency\": 5, \"value\": \"Real World  (LP ...\"}, \"Como Duele (Album) - Ricardo Arjona\": {\"frequency\": 5, \"value\": \"Como Duele (Album) ...\"}, \"Tennessee - ARRESTED DEVELOPMENT\": {\"frequency\": 3, \"value\": \"Tennessee - ...\"}, \"Lights Out - Santogold\": {\"frequency\": 1, \"value\": \"Lights Out - ...\"}, \"Polaris - Zero 7\": {\"frequency\": 6, \"value\": \"Polaris - Zero 7\"}, \"Divinations (Album Version) - Mastodon\": {\"frequency\": 4, \"value\": \"Divinations (Album ...\"}, \"Futurism - Muse\": {\"frequency\": 1, \"value\": \"Futurism - Muse\"}, \"The French Open - Foals\": {\"frequency\": 3, \"value\": \"The French Open - ...\"}, \"Spell - Nick Cave & The Bad Seeds\": {\"frequency\": 1, \"value\": \"Spell - Nick Cave ...\"}, \"Mercy - OneRepublic\": {\"frequency\": 2, \"value\": \"Mercy - ...\"}, \"Loving You [Album Version] - Paolo Nutini\": {\"frequency\": 16, \"value\": \"Loving You [Album ...\"}, \"Country House - Blur\": {\"frequency\": 3, \"value\": \"Country House - ...\"}, \"Sanctify Yourself - Simple Minds\": {\"frequency\": 1, \"value\": \"Sanctify Yourself ...\"}, \"Kong - Bonobo\": {\"frequency\": 1, \"value\": \"Kong - Bonobo\"}, \"Nice To Know You - Incubus\": {\"frequency\": 32, \"value\": \"Nice To Know You - ...\"}, \"Don\\ufffd\\ufffdt Believe The Hype - Boys Noize\": {\"frequency\": 1, \"value\": \"Don\\u00b4t Believe The ...\"}, \"Slow Dancing In A Burning Room - John Mayer\": {\"frequency\": 3, \"value\": \"Slow Dancing In A ...\"}, \"Audience Of One - Rise Against\": {\"frequency\": 11, \"value\": \"Audience Of One - ...\"}, \"El Revelde - La Renga\": {\"frequency\": 17, \"value\": \"El Revelde - La ...\"}, \"Execution Day - The New Pornographers\": {\"frequency\": 3, \"value\": \"Execution Day - ...\"}, \"Sky - Joshua Radin\": {\"frequency\": 1, \"value\": \"Sky - Joshua Radin\"}, \"Tailor Made - Colbie Caillat\": {\"frequency\": 4, \"value\": \"Tailor Made - ...\"}, \"Come In With The Rain - Taylor Swift\": {\"frequency\": 2, \"value\": \"Come In With The ...\"}, \"Diamond Dave - the bird and the bee\": {\"frequency\": 5, \"value\": \"Diamond Dave - the ...\"}, \"Lost In The Plot - The Dears\": {\"frequency\": 25, \"value\": \"Lost In The Plot - ...\"}, \"A Quai - Yann Tiersen\": {\"frequency\": 25, \"value\": \"A Quai - Yann ...\"}, \"My Immortal (Album Version) - Evanescence\": {\"frequency\": 7, \"value\": \"My Immortal (Album ...\"}, \"Eyesdown - Bonobo Featuring Andreya Triana\": {\"frequency\": 8, \"value\": \"Eyesdown - Bonobo ...\"}, \"Dimension - Wolfmother\": {\"frequency\": 2, \"value\": \"Dimension - ...\"}, \"Montanita - Ratatat\": {\"frequency\": 40, \"value\": \"Montanita - ...\"}, \"Like A Boss - The Lonely Island\": {\"frequency\": 19, \"value\": \"Like A Boss - The ...\"}, \"Vampires Will Never Hurt You - My Chemical Romance\": {\"frequency\": 5, \"value\": \"Vampires Will ...\"}, \"Perhaps Vampires Is A Bit Strong But... - Arctic Monkeys\": {\"frequency\": 8, \"value\": \"Perhaps Vampires ...\"}, \"It's Five O' Clock Somewhere - Alan Jackson\": {\"frequency\": 2, \"value\": \"It's Five O' Clock ...\"}, \"Necesito Amarte - Marc Anthony\": {\"frequency\": 5, \"value\": \"Necesito Amarte - ...\"}, \"Mockingbird - Eminem\": {\"frequency\": 108, \"value\": \"Mockingbird - ...\"}, \"Baila Esta Cumbia - Selena\": {\"frequency\": 2, \"value\": \"Baila Esta Cumbia ...\"}, \"Little Shadow - Yeah Yeah Yeahs\": {\"frequency\": 10, \"value\": \"Little Shadow - ...\"}, \"Guinnevere [Remastered LP Version] - Crosby_ Stills & Nash\": {\"frequency\": 1, \"value\": \"Guinnevere ...\"}, \"Good Night - Kanye West / Mos Def / Al Be Back\": {\"frequency\": 2, \"value\": \"Good Night - Kanye ...\"}, \"All That She Wants (Banghra Version) - Ace of Base\": {\"frequency\": 4, \"value\": \"All That She Wants ...\"}, \"There She Goes Again - Velvet Underground & Nico\": {\"frequency\": 10, \"value\": \"There She Goes ...\"}, \"I'm Here Again - Thelma Houston\": {\"frequency\": 1, \"value\": \"I'm Here Again - ...\"}, \"Everythings Just Wonderful - Lily Allen\": {\"frequency\": 14, \"value\": \"Everythings Just ...\"}, \"Winter - Aril Brikha\": {\"frequency\": 3, \"value\": \"Winter - Aril ...\"}, \"Bubbles They Bounce - Hot Chip\": {\"frequency\": 3, \"value\": \"Bubbles They ...\"}, \"When You Look Me In The Eyes - Jonas Brothers\": {\"frequency\": 8, \"value\": \"When You Look Me ...\"}, \"Monsoon - Jack Johnson\": {\"frequency\": 1, \"value\": \"Monsoon - Jack ...\"}, \"The Day That Never Comes - Metallica\": {\"frequency\": 3, \"value\": \"The Day That Never ...\"}, \"Shake - Ying Yang Twins ft. Pitbull\": {\"frequency\": 4, \"value\": \"Shake - Ying Yang ...\"}, \"Life Less Frightening - Rise Against\": {\"frequency\": 24, \"value\": \"Life Less ...\"}, \"Illuminati - Fatboy Slim\": {\"frequency\": 3, \"value\": \"Illuminati - ...\"}, \"U Can't Touch This - MC Hammer\": {\"frequency\": 4, \"value\": \"U Can't Touch This ...\"}, \"Smoke & Mirrors - Lifehouse\": {\"frequency\": 2, \"value\": \"Smoke & Mirrors - ...\"}, \"Man Next Door - Massive Attack\": {\"frequency\": 20, \"value\": \"Man Next Door - ...\"}, \"Green Light - Beyonc\\ufffd\\ufffd\": {\"frequency\": 8, \"value\": \"Green Light - ...\"}, \"Brimstone Landscapes - Augury\": {\"frequency\": 4, \"value\": \"Brimstone ...\"}, \"Sonrisa - Jonas Steur\": {\"frequency\": 5, \"value\": \"Sonrisa - Jonas ...\"}, \"You Don't Love Me - The Kooks\": {\"frequency\": 2, \"value\": \"You Don't Love Me ...\"}, \"Mardy Bum - Arctic Monkeys\": {\"frequency\": 2, \"value\": \"Mardy Bum - Arctic ...\"}, \"Maxine - Traveling Wilburys\": {\"frequency\": 2, \"value\": \"Maxine - Traveling ...\"}, \"El Hombre Dirigente - Spinetta Jade\": {\"frequency\": 1, \"value\": \"El Hombre ...\"}, \"If This Is Love - The Saturdays\": {\"frequency\": 10, \"value\": \"If This Is Love - ...\"}, \"En Glad Calypso Om V\\ufffd\\ufffdren (Live '62) - Olle Adolphson\": {\"frequency\": 1, \"value\": \"En Glad Calypso Om ...\"}, \"Bigger - Justin Bieber\": {\"frequency\": 167, \"value\": \"Bigger - Justin ...\"}, \"Rockin' Rollin' Stone - Andy Starr\": {\"frequency\": 7, \"value\": \"Rockin' Rollin' ...\"}, \"REISE_ REISE - Rammstein\": {\"frequency\": 20, \"value\": \"REISE_ REISE - ...\"}, \"Interlude - Muse\": {\"frequency\": 1, \"value\": \"Interlude - Muse\"}, \"Makes Me Wonder - Maroon 5\": {\"frequency\": 14, \"value\": \"Makes Me Wonder - ...\"}, \"Calm Before The Storm (Album Version) - Fall Out Boy\": {\"frequency\": 1, \"value\": \"Calm Before The ...\"}, \"Mutha'uckas (Album Version) - Flight Of The Conchords\": {\"frequency\": 19, \"value\": \"Mutha'uckas (Album ...\"}, \"Angels Fall First - Nightwish\": {\"frequency\": 1, \"value\": \"Angels Fall First ...\"}, \"Walk Away - Kelly Clarkson\": {\"frequency\": 1, \"value\": \"Walk Away - Kelly ...\"}, \"Hell On The Heart - Eric Church\": {\"frequency\": 1, \"value\": \"Hell On The Heart ...\"}, \"Blow Away - A Fine Frenzy\": {\"frequency\": 3, \"value\": \"Blow Away - A Fine ...\"}, \"Psycho Killer - Cage The Elephant\": {\"frequency\": 2, \"value\": \"Psycho Killer - ...\"}, \"Rayando el sol - Man\\ufffd\\ufffd\": {\"frequency\": 2, \"value\": \"Rayando el sol - ...\"}, \"Seven Months - Portishead\": {\"frequency\": 1, \"value\": \"Seven Months - ...\"}, \"Time Has Told Me - Nick Drake\": {\"frequency\": 3, \"value\": \"Time Has Told Me - ...\"}, \"Vuelvo Al Sur - Gotan Project\": {\"frequency\": 11, \"value\": \"Vuelvo Al Sur - ...\"}, \"Just Might (Make Me Believe) - Sugarland\": {\"frequency\": 1, \"value\": \"Just Might (Make ...\"}, \"City - Sara Bareilles\": {\"frequency\": 1, \"value\": \"City - Sara ...\"}, \"Watch The Tapes - LCD Soundsystem\": {\"frequency\": 2, \"value\": \"Watch The Tapes - ...\"}, \"Underneath It All - No Doubt / Lady Saw\": {\"frequency\": 1, \"value\": \"Underneath It All ...\"}, \"The Writer - Ellie Goulding\": {\"frequency\": 25, \"value\": \"The Writer - Ellie ...\"}, \"Home Is Where The Heart Is - Public Image Ltd\": {\"frequency\": 24, \"value\": \"Home Is Where The ...\"}, \"Feel.Love.Thinking.Of. - Faunts\": {\"frequency\": 2, \"value\": \"Feel.Love.Thinking ...\"}, \"At The Bottom Of Everything - Bright Eyes\": {\"frequency\": 6, \"value\": \"At The Bottom Of ...\"}, \"Don't Cry (Original) - Guns N' Roses\": {\"frequency\": 32, \"value\": \"Don't Cry ...\"}, \"You Are My Sister - Antony & The Johnsons with Boy George\": {\"frequency\": 17, \"value\": \"You Are My Sister ...\"}, \"Primary - The Cure\": {\"frequency\": 7, \"value\": \"Primary - The Cure\"}, \"Lovesong of the Buzzard (Album) - Iron And Wine\": {\"frequency\": 25, \"value\": \"Lovesong of the ...\"}, \"Seasons Change - Corinne Bailey Rae\": {\"frequency\": 14, \"value\": \"Seasons Change - ...\"}, \"Backstabber - Ke$ha\": {\"frequency\": 2, \"value\": \"Backstabber - ...\"}, \"Andy_ You're A Star - The Killers\": {\"frequency\": 1, \"value\": \"Andy_ You're A ...\"}, \"Love Story - Taylor Swift\": {\"frequency\": 114, \"value\": \"Love Story - ...\"}, \"I Love This Bar - Toby Keith\": {\"frequency\": 6, \"value\": \"I Love This Bar - ...\"}, \"Blood Bank - Bon Iver\": {\"frequency\": 3, \"value\": \"Blood Bank - Bon ...\"}, \"Hurricane - Something Corporate\": {\"frequency\": 1, \"value\": \"Hurricane - ...\"}, \"The Devil Never Sleeps (Album) - Iron And Wine\": {\"frequency\": 9, \"value\": \"The Devil Never ...\"}, \"Therapy - All Time Low\": {\"frequency\": 21, \"value\": \"Therapy - All Time ...\"}, \"Until It Sleeps - Metallica\": {\"frequency\": 1, \"value\": \"Until It Sleeps - ...\"}, \"La Soledad - Pink Martini\": {\"frequency\": 9, \"value\": \"La Soledad - Pink ...\"}, \"Keep Fallin - Hot Chip\": {\"frequency\": 2, \"value\": \"Keep Fallin - Hot ...\"}, \"10 Miles Wide - Escape The Fate\": {\"frequency\": 3, \"value\": \"10 Miles Wide - ...\"}, \"Online Songs - Blink-182\": {\"frequency\": 11, \"value\": \"Online Songs - ...\"}, \"Se\\ufffd\\ufffdorita - Justin Timberlake\": {\"frequency\": 2, \"value\": \"Se\\u00f1orita - Justin ...\"}, \"Family Business - Kanye West\": {\"frequency\": 8, \"value\": \"Family Business - ...\"}, \"Boombox - The Lonely Island / Julian Casablancas\": {\"frequency\": 7, \"value\": \"Boombox - The ...\"}, \"Karma Police - Easy Star All-Stars\": {\"frequency\": 3, \"value\": \"Karma Police - ...\"}, \"Burn - Three Days Grace\": {\"frequency\": 3, \"value\": \"Burn - Three Days ...\"}, \"So Glad To See You - Hot Chip\": {\"frequency\": 3, \"value\": \"So Glad To See You ...\"}, \"Joey - Sugarland\": {\"frequency\": 1, \"value\": \"Joey - Sugarland\"}, \"Near To You - A Fine Frenzy\": {\"frequency\": 6, \"value\": \"Near To You - A ...\"}, \"No Llores Por Mi - Enrique Iglesias\": {\"frequency\": 2, \"value\": \"No Llores Por Mi - ...\"}, \"Hey Daddy (Daddy's Home) - Usher\": {\"frequency\": 26, \"value\": \"Hey Daddy (Daddy's ...\"}, \"Permanent Daylight - Radiohead\": {\"frequency\": 7, \"value\": \"Permanent Daylight ...\"}, \"Hotel Song (Album Version) - Regina Spektor\": {\"frequency\": 24, \"value\": \"Hotel Song (Album ...\"}, \"My Love - Lionel Richie\": {\"frequency\": 3, \"value\": \"My Love - Lionel ...\"}, \"Te lo agradezco_ pero no - Alejandro Sanz\": {\"frequency\": 9, \"value\": \"Te lo agradezco_ ...\"}, \"Detached (Album Version) - Spineshank\": {\"frequency\": 11, \"value\": \"Detached (Album ...\"}, \"Billionaire [feat. Bruno Mars]  (Explicit Album Version) - Travie McCoy\": {\"frequency\": 9, \"value\": \"Billionaire [feat. ...\"}, \"One Touch - LCD Soundsystem\": {\"frequency\": 11, \"value\": \"One Touch - LCD ...\"}, \"My Paper Heart - The All-American Rejects\": {\"frequency\": 10, \"value\": \"My Paper Heart - ...\"}, \"Complications - Deadmau5\": {\"frequency\": 1, \"value\": \"Complications - ...\"}, \"Addicted - Amy Winehouse\": {\"frequency\": 17, \"value\": \"Addicted - Amy ...\"}, \"Lotion (LP Version) - Deftones\": {\"frequency\": 1, \"value\": \"Lotion (LP ...\"}, \"Heart Of Steel (LP Version) - Manowar\": {\"frequency\": 2, \"value\": \"Heart Of Steel (LP ...\"}, \"Tear It Up - Hollywood Undead\": {\"frequency\": 18, \"value\": \"Tear It Up - ...\"}, \"Party At A Rich Dude's House - Ke$ha\": {\"frequency\": 1, \"value\": \"Party At A Rich ...\"}, \"Time (featuring Corey Harris & Ranking Joe) - Easy Star All-Stars\": {\"frequency\": 4, \"value\": \"Time (featuring ...\"}, \"Hasta Ayer - Marc Anthony\": {\"frequency\": 3, \"value\": \"Hasta Ayer - Marc ...\"}, \"Change (Album Version) - Tracy Chapman\": {\"frequency\": 2, \"value\": \"Change (Album ...\"}, \"Holland_ 1945 - Neutral Milk Hotel\": {\"frequency\": 1, \"value\": \"Holland_ 1945 - ...\"}, \"Shadow Journal - Max Richter - Tilda Swinton\": {\"frequency\": 19, \"value\": \"Shadow Journal - ...\"}, \"Let's Go [from 'Salvation'] - New Order\": {\"frequency\": 6, \"value\": \"Let's Go [from ...\"}, \"Calling You - Blue October\": {\"frequency\": 1, \"value\": \"Calling You - Blue ...\"}, \"The Storm Is Over Now - Gods Property\": {\"frequency\": 20, \"value\": \"The Storm Is Over ...\"}, \"Valentine - Justice\": {\"frequency\": 10, \"value\": \"Valentine - ...\"}, \"Ya No Se Que Hacer Conmigo - El Cuarteto De Nos\": {\"frequency\": 5, \"value\": \"Ya No Se Que Hacer ...\"}, \"Roulette Dares (The Haunt Of) - The Mars Volta\": {\"frequency\": 9, \"value\": \"Roulette Dares ...\"}, \"Bird Song Intro - Florence + The Machine\": {\"frequency\": 3, \"value\": \"Bird Song Intro - ...\"}, \"Century - Ti\\ufffd\\ufffdsto feat. Calvin Harris\": {\"frequency\": 6, \"value\": \"Century - Ti\\u00ebsto ...\"}, \"Pins And Needles (Album Version) - Billy Talent\": {\"frequency\": 2, \"value\": \"Pins And Needles ...\"}, \"Parasito - Molotov\": {\"frequency\": 18, \"value\": \"Parasito - Molotov\"}, \"It's My Job To Keep Punk Rock Elite - NOFX\": {\"frequency\": 14, \"value\": \"It's My Job To ...\"}, \"Do The Rump - The Black Keys\": {\"frequency\": 2, \"value\": \"Do The Rump - The ...\"}, \"Cover My Eyes - La Roux\": {\"frequency\": 28, \"value\": \"Cover My Eyes - La ...\"}, \"V\\ufffd\\ufffdcio De Ti - Mesa (Portuguese Group)\": {\"frequency\": 2, \"value\": \"V\\u00edcio De Ti - Mesa ...\"}, \"La Dispute - Yann Tiersen\": {\"frequency\": 32, \"value\": \"La Dispute - Yann ...\"}, \"Crack The Shutters - Snow Patrol\": {\"frequency\": 11, \"value\": \"Crack The Shutters ...\"}, \"Black - Pearl Jam\": {\"frequency\": 1, \"value\": \"Black - Pearl Jam\"}, \"Feels So Good (Remastered Single Version) - Van Halen\": {\"frequency\": 1, \"value\": \"Feels So Good ...\"}, \"Summertime Clothes - Animal Collective\": {\"frequency\": 8, \"value\": \"Summertime Clothes ...\"}, \"Hailie's Song - Eminem\": {\"frequency\": 71, \"value\": \"Hailie's Song - ...\"}, \"The Islander - Nightwish\": {\"frequency\": 24, \"value\": \"The Islander - ...\"}, \"Hollywood (Album Version) - Marina And The Diamonds\": {\"frequency\": 3, \"value\": \"Hollywood (Album ...\"}, \"Give It Up - Amos Lee\": {\"frequency\": 29, \"value\": \"Give It Up - Amos ...\"}, \"Suffocate - J. Holiday\": {\"frequency\": 4, \"value\": \"Suffocate - J. ...\"}, \"Angels (Album Version) - Within Temptation\": {\"frequency\": 1, \"value\": \"Angels (Album ...\"}, \"I Get Joy - Coko featuring Kirk Franklin\": {\"frequency\": 24, \"value\": \"I Get Joy - Coko ...\"}, \"Estoy Aqu\\ufffd\\ufffd - Shakira\": {\"frequency\": 27, \"value\": \"Estoy Aqu\\u00ed - ...\"}, \"Yes - LMFAO\": {\"frequency\": 4, \"value\": \"Yes - LMFAO\"}, \"How It Ends (Album version) - Devotchka\": {\"frequency\": 2, \"value\": \"How It Ends (Album ...\"}, \"Of Wolf And Man - Metallica\": {\"frequency\": 32, \"value\": \"Of Wolf And Man - ...\"}, \"A Candlelit Dinner With Inamorta (feat. NO) - Asking Alexandria\": {\"frequency\": 11, \"value\": \"A Candlelit Dinner ...\"}, \"Stickin In My Eye - NOFX\": {\"frequency\": 1, \"value\": \"Stickin In My Eye ...\"}, \"Work Me - The Black Keys\": {\"frequency\": 6, \"value\": \"Work Me - The ...\"}, \"Love Is A Place - Metric\": {\"frequency\": 1, \"value\": \"Love Is A Place - ...\"}, \"Hilarious Movie Of The 90s - Four Tet\": {\"frequency\": 7, \"value\": \"Hilarious Movie Of ...\"}, \"Can I Stay - Ray LaMontagne\": {\"frequency\": 6, \"value\": \"Can I Stay - Ray ...\"}, \"No Doubling Back (Eagles Ballroom Live Version) - Jason Mraz\": {\"frequency\": 31, \"value\": \"No Doubling Back ...\"}, \"Warrior's Dance - The Prodigy\": {\"frequency\": 1, \"value\": \"Warrior's Dance - ...\"}, \"My Maudlin Career - Camera Obscura\": {\"frequency\": 2, \"value\": \"My Maudlin Career ...\"}, \"The Saltwater Room - Owl City\": {\"frequency\": 1, \"value\": \"The Saltwater Room ...\"}, \"Lady Dada's Nightmare - MGMT\": {\"frequency\": 18, \"value\": \"Lady Dada's ...\"}, \"Crying - TV On The Radio\": {\"frequency\": 1, \"value\": \"Crying - TV On The ...\"}, \"Shepherd Moons (Remastered 2009) - Enya\": {\"frequency\": 4, \"value\": \"Shepherd Moons ...\"}, \"Sirens - Angels and Airwaves\": {\"frequency\": 7, \"value\": \"Sirens - Angels ...\"}, \"Deja Vu - Yeah Yeah Yeahs\": {\"frequency\": 2, \"value\": \"Deja Vu - Yeah ...\"}, \"Da Funk - Daft Punk\": {\"frequency\": 1, \"value\": \"Da Funk - Daft ...\"}, \"My Glorious - Delirious?\": {\"frequency\": 1, \"value\": \"My Glorious - ...\"}, \"All I Want - LCD Soundsystem\": {\"frequency\": 14, \"value\": \"All I Want - LCD ...\"}, \"Rehab - Rihanna\": {\"frequency\": 14, \"value\": \"Rehab - Rihanna\"}, \"Last Nite - The Strokes\": {\"frequency\": 1, \"value\": \"Last Nite - The ...\"}, \"Al otro lado del R\\ufffd\\ufffdo - Jorge Drexler / Jeff Eckels / Carina Voly / John Vriesacker / Ana Laan / Leo Sidran / Ben Sidran\": {\"frequency\": 4, \"value\": \"Al otro lado del ...\"}, \"Creator [vs. Switch and FreQ Nasty] - Santogold\": {\"frequency\": 2, \"value\": \"Creator [vs. ...\"}, \"Beautiful_ Beautiful (Album) - Francesca Battistelli\": {\"frequency\": 1, \"value\": \"Beautiful_ ...\"}, \"Are You In? - Incubus\": {\"frequency\": 25, \"value\": \"Are You In? - ...\"}, \"The Prince - Metallica\": {\"frequency\": 1, \"value\": \"The Prince - ...\"}, \"Don't Leave Me - Blink-182\": {\"frequency\": 7, \"value\": \"Don't Leave Me - ...\"}, \"Crack Under Pressure - Righteous Pigs\": {\"frequency\": 4, \"value\": \"Crack Under ...\"}, \"Dive - Nirvana\": {\"frequency\": 2, \"value\": \"Dive - Nirvana\"}, \"A Sunday Smile - Beirut\": {\"frequency\": 6, \"value\": \"A Sunday Smile - ...\"}, \"Wattershed - Foo Fighters\": {\"frequency\": 11, \"value\": \"Wattershed - Foo ...\"}, \"Sofa Song - The Kooks\": {\"frequency\": 7, \"value\": \"Sofa Song - The ...\"}, \"Second Heartbeat - Avenged Sevenfold\": {\"frequency\": 8, \"value\": \"Second Heartbeat - ...\"}, \"I Gotta Feeling - Black Eyed Peas\": {\"frequency\": 87, \"value\": \"I Gotta Feeling - ...\"}, \"High Voltage - Linkin Park\": {\"frequency\": 4, \"value\": \"High Voltage - ...\"}, \"Someone Else Calling You Baby - Luke Bryan\": {\"frequency\": 19, \"value\": \"Someone Else ...\"}, \"Oh No! (album version) - Marina And The Diamonds\": {\"frequency\": 4, \"value\": \"Oh No! (album ...\"}, \"Where The White Boys Dance - The Killers\": {\"frequency\": 4, \"value\": \"Where The White ...\"}, \"My Friends Over You - New Found Glory\": {\"frequency\": 1, \"value\": \"My Friends Over ...\"}, \"Waking Up - OneRepublic\": {\"frequency\": 79, \"value\": \"Waking Up - ...\"}, \"Ringing Bells - Masta Killa\": {\"frequency\": 40, \"value\": \"Ringing Bells - ...\"}, \"Faith Works - Bobby Lee\": {\"frequency\": 1, \"value\": \"Faith Works - ...\"}, \"The Runner - Kings Of Leon\": {\"frequency\": 7, \"value\": \"The Runner - Kings ...\"}, \"No Te Quiero Ac\\ufffd\\ufffd - No Te Va Gustar\": {\"frequency\": 20, \"value\": \"No Te Quiero Ac\\u00e1 - ...\"}, \"I've Got You Under My Skin (Album Version) - Michael Bubl\\ufffd\\ufffd\": {\"frequency\": 1, \"value\": \"I've Got You Under ...\"}, \"Sea Horse - Devendra Banhart\": {\"frequency\": 7, \"value\": \"Sea Horse - ...\"}, \"Camera Talk - Local Natives\": {\"frequency\": 12, \"value\": \"Camera Talk - ...\"}, \"Indo Silver Club - Daft Punk\": {\"frequency\": 3, \"value\": \"Indo Silver Club - ...\"}, \"Secret Hell - dEUS\": {\"frequency\": 11, \"value\": \"Secret Hell - dEUS\"}, \"Rosa Pastel - Belanova\": {\"frequency\": 1, \"value\": \"Rosa Pastel - ...\"}, \"Sr. Cobranza - Bersuit Vergarabat\": {\"frequency\": 5, \"value\": \"Sr. Cobranza - ...\"}, \"Who'll Stop The Rain - Creedence Clearwater Revival\": {\"frequency\": 47, \"value\": \"Who'll Stop The ...\"}, \"The Unforgiven II - Metallica\": {\"frequency\": 9, \"value\": \"The Unforgiven II ...\"}, \"Don't Be Mean - Raincoats\": {\"frequency\": 2, \"value\": \"Don't Be Mean - ...\"}, \"Turn On Me (Album) - The Shins\": {\"frequency\": 2, \"value\": \"Turn On Me (Album) ...\"}, \"Cherry Red (Groundhogs Cover) - Earthless\": {\"frequency\": 9, \"value\": \"Cherry Red ...\"}, \"Prodigal - OneRepublic\": {\"frequency\": 4, \"value\": \"Prodigal - ...\"}, \"Wish I Stayed - Ellie Goulding\": {\"frequency\": 10, \"value\": \"Wish I Stayed - ...\"}, \"Katy Daley - Lonesome River Band\": {\"frequency\": 13, \"value\": \"Katy Daley - ...\"}, \"DLZ - TV On The Radio\": {\"frequency\": 1, \"value\": \"DLZ - TV On The ...\"}, \"Shadowplay - Joy Division\": {\"frequency\": 1, \"value\": \"Shadowplay - Joy ...\"}, \"Rich Girl - Gwen Stefani / Eve\": {\"frequency\": 5, \"value\": \"Rich Girl - Gwen ...\"}, \"Monolithe II - Monolithe\": {\"frequency\": 3, \"value\": \"Monolithe II - ...\"}, \"Right On Track - Breakfast Club\": {\"frequency\": 6, \"value\": \"Right On Track - ...\"}, \"Sweat It Out - The-Dream\": {\"frequency\": 18, \"value\": \"Sweat It Out - ...\"}, \"Rooster - Alice In Chains\": {\"frequency\": 9, \"value\": \"Rooster - Alice In ...\"}, \"You Raise Me Up - Celtic Woman\": {\"frequency\": 12, \"value\": \"You Raise Me Up - ...\"}, \"Don't Leave - Faithless\": {\"frequency\": 6, \"value\": \"Don't Leave - ...\"}, \"Cold As You - Taylor Swift\": {\"frequency\": 11, \"value\": \"Cold As You - ...\"}, \"Idealistic - Digitalism\": {\"frequency\": 1, \"value\": \"Idealistic - ...\"}, \"Jupiter Room (Martian Assault Mix) - Digitalism\": {\"frequency\": 2, \"value\": \"Jupiter Room ...\"}, \"Storms In Africa - Enya\": {\"frequency\": 29, \"value\": \"Storms In Africa - ...\"}, \"Golden earrings - Clive Scott\": {\"frequency\": 9, \"value\": \"Golden earrings - ...\"}, \"Pr\\ufffd\\ufffdfugos - Soda Stereo\": {\"frequency\": 10, \"value\": \"Pr\\u00f3fugos - Soda ...\"}, \"Substance (Felix Da Housecat Remix) - Dot Allison\": {\"frequency\": 2, \"value\": \"Substance (Felix ...\"}, \"Like The Sea - Alicia Keys\": {\"frequency\": 13, \"value\": \"Like The Sea - ...\"}, \"Velouria - Weezer\": {\"frequency\": 1, \"value\": \"Velouria - Weezer\"}, \"Behind The Screams - CKY\": {\"frequency\": 1, \"value\": \"Behind The Screams ...\"}, \"Oh_ George - Foo Fighters\": {\"frequency\": 1, \"value\": \"Oh_ George - Foo ...\"}, \"Global A Go-Go - Joe Strummer & The Mescaleros\": {\"frequency\": 3, \"value\": \"Global A Go-Go - ...\"}, \"Bastards on Parade - Dropkick Murphys\": {\"frequency\": 1, \"value\": \"Bastards on Parade ...\"}, \"Cuando Est\\ufffd\\ufffds Ac\\ufffd\\ufffd - La Renga\": {\"frequency\": 14, \"value\": \"Cuando Est\\u00e9s Ac\\u00e1 - ...\"}, \"Beneath The Surface - GZA/Genius / Killah Priest\": {\"frequency\": 3, \"value\": \"Beneath The ...\"}, \"If I Never See Your Face Again - Maroon 5 / Rihanna\": {\"frequency\": 2, \"value\": \"If I Never See ...\"}, \"Sex Out South - TECH N9NE feat. Kutt Calhoun & Big Krizz Kaliko\": {\"frequency\": 4, \"value\": \"Sex Out South - ...\"}, \"Push It - Rick Ross\": {\"frequency\": 1, \"value\": \"Push It - Rick ...\"}, \"Tears For Affairs - Camera Obscura\": {\"frequency\": 1, \"value\": \"Tears For Affairs ...\"}, \"Los Angeles_ I'm Yours - The Decemberists\": {\"frequency\": 2, \"value\": \"Los Angeles_ I'm ...\"}, \"Rockin' Robin - Michael Jackson\": {\"frequency\": 1, \"value\": \"Rockin' Robin - ...\"}, \"There_ There - Radiohead\": {\"frequency\": 9, \"value\": \"There_ There - ...\"}, \"Is It A Crime - Sade\": {\"frequency\": 39, \"value\": \"Is It A Crime - ...\"}, \"Fearless - Colbie Caillat\": {\"frequency\": 6, \"value\": \"Fearless - Colbie ...\"}, \"Revolution - Jim Sturgess\": {\"frequency\": 1, \"value\": \"Revolution - Jim ...\"}, \"End Of A Century - Blur\": {\"frequency\": 3, \"value\": \"End Of A Century - ...\"}, \"L'hiver : Allegro - Antonio Vivaldi\": {\"frequency\": 1, \"value\": \"L'hiver : Allegro ...\"}, \"Orinoco Flow - Celtic Woman\": {\"frequency\": 3, \"value\": \"Orinoco Flow - ...\"}, \"Car Wash - Rose Royce\": {\"frequency\": 1, \"value\": \"Car Wash - Rose ...\"}, \"Sugar_ We're Goin Down - Fall Out Boy\": {\"frequency\": 8, \"value\": \"Sugar_ We're Goin ...\"}, \"Stripped - Rammstein\": {\"frequency\": 1, \"value\": \"Stripped - ...\"}, \"Stoned Is The Way Of The Walk - Cypress Hill\": {\"frequency\": 1, \"value\": \"Stoned Is The Way ...\"}, \"Butterflies and Hurricanes - Muse\": {\"frequency\": 33, \"value\": \"Butterflies and ...\"}, \"You've Got The Love - Florence + The Machine\": {\"frequency\": 36, \"value\": \"You've Got The ...\"}, \"Cicatriz Esp - The Mars Volta\": {\"frequency\": 9, \"value\": \"Cicatriz Esp - The ...\"}, \"In The Dark (ft. Christian Burns) - Ti\\ufffd\\ufffdsto\": {\"frequency\": 3, \"value\": \"In The Dark (ft. ...\"}, \"Business Time (Album) - Flight Of The Conchords\": {\"frequency\": 12, \"value\": \"Business Time ...\"}, \"Las flores - Caf\\ufffd\\ufffd Tacvba\": {\"frequency\": 1, \"value\": \"Las flores - Caf\\u00e9 ...\"}, \"All This Time - OneRepublic\": {\"frequency\": 3, \"value\": \"All This Time - ...\"}, \"Shove It [feat. SpankRock] - Santogold\": {\"frequency\": 1, \"value\": \"Shove It [feat. ...\"}, \"The Places You Have Come To Fear The Most - Dashboard Confessional\": {\"frequency\": 1, \"value\": \"The Places You ...\"}, \"Ol' Red (Album Version) - Blake Shelton\": {\"frequency\": 4, \"value\": \"Ol' Red (Album ...\"}, \"Things - Frightened Rabbit\": {\"frequency\": 1, \"value\": \"Things - ...\"}, \"Your Place In The World - The Space Brothers\": {\"frequency\": 1, \"value\": \"Your Place In The ...\"}, \"Who Said (Karaoke) - Jay Landers/Matthew Gerrard/Robbie Nevil\": {\"frequency\": 4, \"value\": \"Who Said (Karaoke) ...\"}, \"Don't Get Lost In Heaven - Gorillaz\": {\"frequency\": 3, \"value\": \"Don't Get Lost In ...\"}, \"In The Mausoleum - Beirut\": {\"frequency\": 10, \"value\": \"In The Mausoleum - ...\"}, \"African Pride - Buju Banton\": {\"frequency\": 1, \"value\": \"African Pride - ...\"}, \"Poor Places - Wilco\": {\"frequency\": 1, \"value\": \"Poor Places - ...\"}, \"A Horse Is Not A Home - Miike Snow\": {\"frequency\": 3, \"value\": \"A Horse Is Not A ...\"}, \"White & Nerdy (Parody of \\\"Ridin'\\\" by Chamillionaire featuring Krayzie Bone) - Weird Al\\\" Yankovic\": {\"frequency\": 1, \"value\": \"White & Nerdy ...\"}, \"The Way I Feel (Not Our Master) - 12 Stones\": {\"frequency\": 2, \"value\": \"The Way I Feel ...\"}, \"Jam 4 U - Redman\": {\"frequency\": 2, \"value\": \"Jam 4 U - Redman\"}, \"I Wanna Make You Close Your Eyes - Dierks Bentley\": {\"frequency\": 5, \"value\": \"I Wanna Make You ...\"}, \"Limousine - Brand New\": {\"frequency\": 5, \"value\": \"Limousine - Brand ...\"}, \"Sorrow - Flyleaf\": {\"frequency\": 6, \"value\": \"Sorrow - Flyleaf\"}, \"Drunk On Love - Radney Foster\": {\"frequency\": 36, \"value\": \"Drunk On Love - ...\"}, \"Pulse Of The Maggots (Album Version) - Slipknot\": {\"frequency\": 2, \"value\": \"Pulse Of The ...\"}, \"My List - The Killers\": {\"frequency\": 1, \"value\": \"My List - The ...\"}, \"Behind Closed Doors - Rise Against\": {\"frequency\": 24, \"value\": \"Behind Closed ...\"}, \"Methamphetamine - Old Crow Medicine Show\": {\"frequency\": 4, \"value\": \"Methamphetamine - ...\"}, \"Hussel (Featuring Afrikan Boy) - M.I.A.\": {\"frequency\": 1, \"value\": \"Hussel (Featuring ...\"}, \"Old Man Time (Album Version) - O.A.R.\": {\"frequency\": 4, \"value\": \"Old Man Time ...\"}, \"All These Things I Hate [revolve Around Me] [album Version] - Bullet For My Valentine\": {\"frequency\": 1, \"value\": \"All These Things I ...\"}, \"Kiss Me_ I'm Gone - Marty Stuart\": {\"frequency\": 2, \"value\": \"Kiss Me_ I'm Gone ...\"}, \"Wherever You Will Go - The Calling\": {\"frequency\": 1, \"value\": \"Wherever You Will ...\"}, \"James Brown - Cage The Elephant\": {\"frequency\": 12, \"value\": \"James Brown - Cage ...\"}, \"Smart Bomb - Chumbawamba\": {\"frequency\": 1, \"value\": \"Smart Bomb - ...\"}, \"I Feel Just Like a Child - Devendra Banhart\": {\"frequency\": 4, \"value\": \"I Feel Just Like a ...\"}, \"Hannibal - Caribou\": {\"frequency\": 32, \"value\": \"Hannibal - Caribou\"}, \"Dreamer - Supertramp\": {\"frequency\": 20, \"value\": \"Dreamer - ...\"}, \"Hard To Explain - The Strokes\": {\"frequency\": 3, \"value\": \"Hard To Explain - ...\"}, \"I'm Me - Lil Wayne\": {\"frequency\": 3, \"value\": \"I'm Me - Lil Wayne\"}, \"Your Decision - Alice In Chains\": {\"frequency\": 4, \"value\": \"Your Decision - ...\"}, \"Jackie Big Tits - The Kooks\": {\"frequency\": 11, \"value\": \"Jackie Big Tits - ...\"}, \"Cold December - Matt Costa\": {\"frequency\": 3, \"value\": \"Cold December - ...\"}, \"Metalingus - Alter Bridge\": {\"frequency\": 3, \"value\": \"Metalingus - Alter ...\"}, \"Medicating - Boys Night Out\": {\"frequency\": 1, \"value\": \"Medicating - Boys ...\"}, \"The Sea - Morcheeba\": {\"frequency\": 1, \"value\": \"The Sea - ...\"}, \"Higher Than The Sun - Primal Scream\": {\"frequency\": 3, \"value\": \"Higher Than The ...\"}, \"Como Brillaba tu Alma - No Te Va Gustar\": {\"frequency\": 2, \"value\": \"Como Brillaba tu ...\"}, \"Love Is A Deserter - The Kills\": {\"frequency\": 1, \"value\": \"Love Is A Deserter ...\"}, \"Lord I Guess I'll Never Know - The Verve\": {\"frequency\": 3, \"value\": \"Lord I Guess I'll ...\"}, \"Fitter Happier - Radiohead\": {\"frequency\": 10, \"value\": \"Fitter Happier - ...\"}, \"Make You Smile - +44\": {\"frequency\": 5, \"value\": \"Make You Smile - ...\"}, \"Play Crack the Sky - Brand New\": {\"frequency\": 9, \"value\": \"Play Crack the Sky ...\"}, \"Sound Check (Gravity) - Gorillaz\": {\"frequency\": 28, \"value\": \"Sound Check ...\"}, \"The Stranger Song - Leonard Cohen\": {\"frequency\": 1, \"value\": \"The Stranger Song ...\"}, \"Bossa Nova Cha Cha - Luiz Bonfa / Oscar Castro Neves / Lalo Schifrin\": {\"frequency\": 1, \"value\": \"Bossa Nova Cha Cha ...\"}, \"Drain You - Nirvana\": {\"frequency\": 5, \"value\": \"Drain You - ...\"}, \"Salio El Sol - Don Omar\": {\"frequency\": 11, \"value\": \"Salio El Sol - Don ...\"}, \"The Hazards Of Love 4 (The Drowned) - The Decemberists\": {\"frequency\": 3, \"value\": \"The Hazards Of ...\"}, \"Vietnam - Crystal Castles\": {\"frequency\": 5, \"value\": \"Vietnam - Crystal ...\"}, \"Fui Eu - Os Paralamas Do Sucesso\": {\"frequency\": 1, \"value\": \"Fui Eu - Os ...\"}, \"Hysteric - Yeah Yeah Yeahs\": {\"frequency\": 8, \"value\": \"Hysteric - Yeah ...\"}, \"Bidi Bidi Bom Bom - Selena\": {\"frequency\": 21, \"value\": \"Bidi Bidi Bom Bom ...\"}, \"The General Specific (Album) - Band Of Horses\": {\"frequency\": 3, \"value\": \"The General ...\"}, \"The Passenger - Art Brut\": {\"frequency\": 1, \"value\": \"The Passenger - ...\"}, \"Influencia - Charly Garc\\ufffd\\ufffda\": {\"frequency\": 12, \"value\": \"Influencia - ...\"}, \"Six-Pack Summer - Phil Vassar\": {\"frequency\": 3, \"value\": \"Six-Pack Summer - ...\"}, \"My World - Sick Puppies\": {\"frequency\": 8, \"value\": \"My World - Sick ...\"}, \"My Last Breath - Evanescence\": {\"frequency\": 26, \"value\": \"My Last Breath - ...\"}, \"Departure (Album Version) - Trivium\": {\"frequency\": 2, \"value\": \"Departure (Album ...\"}, \"Stop This Song (Love Sick Melody) (Bonus Version) - Paramore\": {\"frequency\": 1, \"value\": \"Stop This Song ...\"}, \"Le Banquet - Yann Tiersen\": {\"frequency\": 53, \"value\": \"Le Banquet - Yann ...\"}, \"Come Into My Bedroom (LP Version) - Keith Sweat\": {\"frequency\": 1, \"value\": \"Come Into My ...\"}, \"Not Exactly - Deadmau5\": {\"frequency\": 3, \"value\": \"Not Exactly - ...\"}, \"Welcome_ Ghosts - Explosions In The Sky\": {\"frequency\": 5, \"value\": \"Welcome_ Ghosts - ...\"}, \"Pose - Daddy Yankee\": {\"frequency\": 7, \"value\": \"Pose - Daddy ...\"}, \"Empire State Of Mind (Part II) Broken Down - Alicia Keys\": {\"frequency\": 3, \"value\": \"Empire State Of ...\"}, \"Murmullo - Buena Vista Social Club\": {\"frequency\": 29, \"value\": \"Murmullo - Buena ...\"}, \"Me Voy - Andr\\ufffd\\ufffds Cepeda\": {\"frequency\": 23, \"value\": \"Me Voy - Andr\\u00e9s ...\"}, \"Taja's Lude (Interlude) - Blackstreet\": {\"frequency\": 1, \"value\": \"Taja's Lude ...\"}, \"Shine On (Album Version) - JET\": {\"frequency\": 1, \"value\": \"Shine On (Album ...\"}, \"Cherbourg - Beirut\": {\"frequency\": 7, \"value\": \"Cherbourg - Beirut\"}, \"Be With You - Enrique Iglesias\": {\"frequency\": 4, \"value\": \"Be With You - ...\"}, \"Bad - U2\": {\"frequency\": 2, \"value\": \"Bad - U2\"}, \"Insectica - Crystal Castles\": {\"frequency\": 1, \"value\": \"Insectica - ...\"}, \"Rainbow - Colbie Caillat\": {\"frequency\": 15, \"value\": \"Rainbow - Colbie ...\"}, \"The Penalty - Beirut\": {\"frequency\": 3, \"value\": \"The Penalty - ...\"}, \"My World - Kid Cudi / Billy Craven\": {\"frequency\": 31, \"value\": \"My World - Kid ...\"}, \"Cemeteries Of London - Coldplay\": {\"frequency\": 13, \"value\": \"Cemeteries Of ...\"}, \"Kid - Amos Lee\": {\"frequency\": 3, \"value\": \"Kid - Amos Lee\"}, \"Long Forgotten Sons - Rise Against\": {\"frequency\": 45, \"value\": \"Long Forgotten ...\"}, \"Breathe - Angels and Airwaves\": {\"frequency\": 3, \"value\": \"Breathe - Angels ...\"}, \"Love Like Winter - AFI\": {\"frequency\": 1, \"value\": \"Love Like Winter - ...\"}, \"The Akara - Beirut\": {\"frequency\": 1, \"value\": \"The Akara - Beirut\"}, \"The Slow Descent Into Alcoholism - The New Pornographers\": {\"frequency\": 3, \"value\": \"The Slow Descent ...\"}, \"Welcome To The World of The Plastic Beach (Feat. Snoop Dogg and Hypnotic Brass Ensemble) - Gorillaz\": {\"frequency\": 3, \"value\": \"Welcome To The ...\"}, \"Crying Shame - Jack Johnson\": {\"frequency\": 94, \"value\": \"Crying Shame - ...\"}, \"Lullaby In Three/Four - Erin McKeown\": {\"frequency\": 2, \"value\": \"Lullaby In ...\"}, \"Don't Let Me Be Misunderstood - The Animals\": {\"frequency\": 1, \"value\": \"Don't Let Me Be ...\"}, \"Moonshine - Jack Johnson\": {\"frequency\": 2, \"value\": \"Moonshine - Jack ...\"}, \"To The Core - Rise Against\": {\"frequency\": 1, \"value\": \"To The Core - Rise ...\"}, \"Black Water - Edward Sharpe & The Magnetic Zeros\": {\"frequency\": 12, \"value\": \"Black Water - ...\"}, \"Not The American Average (feat. NO) - Asking Alexandria\": {\"frequency\": 34, \"value\": \"Not The American ...\"}, \"Oltremare - Ludovico Einaudi\": {\"frequency\": 21, \"value\": \"Oltremare - ...\"}, \"Mamma - Bram Vermeulen\": {\"frequency\": 1, \"value\": \"Mamma - Bram ...\"}, \"I Get Money - 50 Cent\": {\"frequency\": 1, \"value\": \"I Get Money - 50 ...\"}, \"She Looks To Me (Album Version) - Red Hot Chili Peppers\": {\"frequency\": 7, \"value\": \"She Looks To Me ...\"}, \"Hold Me_ Thrill Me_ Kiss Me_ Kill Me - U2\": {\"frequency\": 7, \"value\": \"Hold Me_ Thrill ...\"}, \"Sacred Flame - Carnal Forge\": {\"frequency\": 17, \"value\": \"Sacred Flame - ...\"}, \"I'm A Little Rocket Ship - Cracker\": {\"frequency\": 13, \"value\": \"I'm A Little ...\"}, \"Come On (Featuring Sadat X)(Album Version) - The Notorious B.I.G.\": {\"frequency\": 2, \"value\": \"Come On (Featuring ...\"}, \"All In The Suit That You Wear (Album Version) - Stone Temple Pilots\": {\"frequency\": 1, \"value\": \"All In The Suit ...\"}, \"Teach Me How To Dougie - California Swag District\": {\"frequency\": 7, \"value\": \"Teach Me How To ...\"}, \"Leggy Blonde [feat. Rhys Darby] (Album Version) - Flight Of The Conchords\": {\"frequency\": 1, \"value\": \"Leggy Blonde ...\"}, \"Amie - Damien Rice\": {\"frequency\": 3, \"value\": \"Amie - Damien Rice\"}, \"Skills To Pay The Bills - Beastie Boys\": {\"frequency\": 1, \"value\": \"Skills To Pay The ...\"}, \"Kota - Bonobo\": {\"frequency\": 2, \"value\": \"Kota - Bonobo\"}, \"Someone Wake Me Up (Album Version) - The Veronicas\": {\"frequency\": 1, \"value\": \"Someone Wake Me Up ...\"}, \"Confessions - City And Colour\": {\"frequency\": 10, \"value\": \"Confessions - City ...\"}, \"Corynorhinus - Hans Zimmer_ James Newton Howard\": {\"frequency\": 2, \"value\": \"Corynorhinus - ...\"}, \"Strangers In The Wind - Cut Copy\": {\"frequency\": 8, \"value\": \"Strangers In The ...\"}, \"How Am I Doin' (w/o  intro or outro) - Dierks Bentley\": {\"frequency\": 1, \"value\": \"How Am I Doin' ...\"}, \"Everything's Ruined - Faith No More\": {\"frequency\": 1, \"value\": \"Everything's ...\"}, \"Go To Sleep - The Avett Brothers\": {\"frequency\": 1, \"value\": \"Go To Sleep - The ...\"}, \"Melancholy Mood - Ziggy Marley\": {\"frequency\": 1, \"value\": \"Melancholy Mood - ...\"}, \"I Got You - Train\": {\"frequency\": 8, \"value\": \"I Got You - Train\"}, \"Razor - Foo Fighters\": {\"frequency\": 6, \"value\": \"Razor - Foo ...\"}, \"Sleeping Giant (Album Version) - Mastodon\": {\"frequency\": 8, \"value\": \"Sleeping Giant ...\"}, \"Kennedy - Ratatat\": {\"frequency\": 5, \"value\": \"Kennedy - Ratatat\"}, \"Now I'm High_ Really High - Triple Six Mafia\": {\"frequency\": 2, \"value\": \"Now I'm High_ ...\"}, \"Someday - The Strokes\": {\"frequency\": 4, \"value\": \"Someday - The ...\"}, \"Kissy Kissy - The Kills\": {\"frequency\": 2, \"value\": \"Kissy Kissy - The ...\"}, \"Come On Eileen - Dexys Midnight Runners\": {\"frequency\": 1, \"value\": \"Come On Eileen - ...\"}, \"Majesty - Delirious?\": {\"frequency\": 2, \"value\": \"Majesty - ...\"}, \"Communication - Mae\": {\"frequency\": 8, \"value\": \"Communication - ...\"}, \"Zwitter - Rammstein\": {\"frequency\": 4, \"value\": \"Zwitter - ...\"}, \"Sura (2008 Digital Remaster) - CCCP - Fedeli Alla Linea\": {\"frequency\": 15, \"value\": \"Sura (2008 Digital ...\"}, \"Organum - Max Richter\": {\"frequency\": 8, \"value\": \"Organum - Max ...\"}, \"The Planets Bend Between Us - Snow Patrol\": {\"frequency\": 1, \"value\": \"The Planets Bend ...\"}, \"I Dont Wanna Wait - SOJA\": {\"frequency\": 2, \"value\": \"I Dont Wanna Wait ...\"}, \"Stay Away From Being Maybe - Telefon Tel Aviv\": {\"frequency\": 3, \"value\": \"Stay Away From ...\"}, \"Miss You - Aaliyah\": {\"frequency\": 3, \"value\": \"Miss You - Aaliyah\"}, \"Since U Been Gone - Kelly Clarkson\": {\"frequency\": 2, \"value\": \"Since U Been Gone ...\"}, \"The Older I Get (Album Version) - Skillet\": {\"frequency\": 8, \"value\": \"The Older I Get ...\"}, \"The Authority Song - Jimmy Eat World\": {\"frequency\": 4, \"value\": \"The Authority Song ...\"}, \"Heaven - Re-up Gang\": {\"frequency\": 4, \"value\": \"Heaven - Re-up ...\"}, \"Mr.Curiosity  (Album Version) - Jason Mraz\": {\"frequency\": 2, \"value\": \"Mr.Curiosity ...\"}, \"One Of These Things First - Nick Drake\": {\"frequency\": 8, \"value\": \"One Of These ...\"}, \"Don't Panic - Coldplay\": {\"frequency\": 29, \"value\": \"Don't Panic - ...\"}, \"Where'd You Go (Featuring Holly Brook & Jonah Matranga) (Album Version) - Fort Minor [Featuring Holly Brook And Jonah Matranga]\": {\"frequency\": 1, \"value\": \"Where'd You Go ...\"}, \"Sensimillia - Collie Buddz featuring Roache\": {\"frequency\": 10, \"value\": \"Sensimillia - ...\"}, \"Hoodoo - Muse\": {\"frequency\": 16, \"value\": \"Hoodoo - Muse\"}, \"Without You - Hinder\": {\"frequency\": 2, \"value\": \"Without You - ...\"}, \"Trashin' The Camp (Phil And 'N Sync Version) - 'N Sync/Phil Collins\": {\"frequency\": 3, \"value\": \"Trashin' The Camp ...\"}, \"Almost Here (Album Version) - The Academy Is...\": {\"frequency\": 1, \"value\": \"Almost Here (Album ...\"}, \"Put Your Head On My Shoulder (Album Version) - Michael Bubl\\ufffd\\ufffd\": {\"frequency\": 17, \"value\": \"Put Your Head On ...\"}, \"Emigrantes - Orishas\": {\"frequency\": 15, \"value\": \"Emigrantes - ...\"}, \"The Riddle - Gigi D'agostino\": {\"frequency\": 1, \"value\": \"The Riddle - Gigi ...\"}, \"Doo Wop (That Thing) - Lauryn Hill\": {\"frequency\": 1, \"value\": \"Doo Wop (That ...\"}, \"Good Days Bad Days - Kaiser Chiefs\": {\"frequency\": 1, \"value\": \"Good Days Bad Days ...\"}, \"Song Seven - Interpol\": {\"frequency\": 1, \"value\": \"Song Seven - ...\"}, \"A Single Moment Of Sincerity (feat. NO) - Asking Alexandria\": {\"frequency\": 20, \"value\": \"A Single Moment Of ...\"}, \"Let's Build A Home (Album Version) - The White Stripes\": {\"frequency\": 4, \"value\": \"Let's Build A Home ...\"}, \"Tattoo - Jordin Sparks\": {\"frequency\": 1, \"value\": \"Tattoo - Jordin ...\"}, \"Someday - Celtic Woman\": {\"frequency\": 23, \"value\": \"Someday - Celtic ...\"}, \"MEIN TEIL - Rammstein\": {\"frequency\": 45, \"value\": \"MEIN TEIL - ...\"}, \"Plans (Replanned by Mogwai) - Bloc Party\": {\"frequency\": 1, \"value\": \"Plans (Replanned ...\"}, \"La pachanga - Vilma Palma e Vampiros\": {\"frequency\": 6, \"value\": \"La pachanga - ...\"}, \"These Colours Don't Run - Iron Maiden\": {\"frequency\": 3, \"value\": \"These Colours ...\"}, \"The Small Print - Muse\": {\"frequency\": 13, \"value\": \"The Small Print - ...\"}, \"Oxford Comma (Album) - Vampire Weekend\": {\"frequency\": 6, \"value\": \"Oxford Comma ...\"}, \"Hold My Heart - Tenth Avenue North\": {\"frequency\": 14, \"value\": \"Hold My Heart - ...\"}, \"One Sweet Day - Mariah Carey feat. Boyz II Men\": {\"frequency\": 2, \"value\": \"One Sweet Day - ...\"}, \"Minors - Toro Y Moi\": {\"frequency\": 10, \"value\": \"Minors - Toro Y ...\"}, \"Thrill Me - Simply Red\": {\"frequency\": 1, \"value\": \"Thrill Me - Simply ...\"}, \"Move On - No Doubt\": {\"frequency\": 4, \"value\": \"Move On - No Doubt\"}, \"Tones Of Home - Blind Melon\": {\"frequency\": 9, \"value\": \"Tones Of Home - ...\"}, \"The Fight Song - Marilyn Manson\": {\"frequency\": 5, \"value\": \"The Fight Song - ...\"}, \"Evil Thing - Melody Club\": {\"frequency\": 1, \"value\": \"Evil Thing - ...\"}, \"STARSTRUKK [FEATURINGKATYPERRY] (Explicit Bonus Version) - 3OH!3\": {\"frequency\": 3, \"value\": \"STARSTRUKK [FEATUR ...\"}, \"A Little Something Refreshing - No Doubt\": {\"frequency\": 11, \"value\": \"A Little Something ...\"}, \"All You Ever Wanted - The Black Keys\": {\"frequency\": 31, \"value\": \"All You Ever ...\"}, \"Le Soir - Line Renaud\": {\"frequency\": 3, \"value\": \"Le Soir - Line ...\"}, \"Undone - Lifehouse\": {\"frequency\": 11, \"value\": \"Undone - Lifehouse\"}, \"Walk This Way - Aerosmith\": {\"frequency\": 3, \"value\": \"Walk This Way - ...\"}, \"Incomplete And Insecure - The Avett Brothers\": {\"frequency\": 13, \"value\": \"Incomplete And ...\"}, \"Choux Pastry Heart - Corinne Bailey Rae\": {\"frequency\": 1, \"value\": \"Choux Pastry Heart ...\"}, \"Baby I Want You - Amos Lee\": {\"frequency\": 3, \"value\": \"Baby I Want You - ...\"}, \"Black Hole Sun - Soundgarden\": {\"frequency\": 1, \"value\": \"Black Hole Sun - ...\"}, \"Le Jardin d'Hiver - Jacky Terrasson\": {\"frequency\": 65, \"value\": \"Le Jardin d'Hiver ...\"}, \"If It's Not With You - Phoenix\": {\"frequency\": 1, \"value\": \"If It's Not With ...\"}, \"Bodies Hit The Floor - Girl Talk\": {\"frequency\": 1, \"value\": \"Bodies Hit The ...\"}, \"Constellations - Jack Johnson\": {\"frequency\": 22, \"value\": \"Constellations - ...\"}, \"Angel On My Shoulder (EDX Radio Edit) - Kaskade\": {\"frequency\": 4, \"value\": \"Angel On My ...\"}, \"Times Like These - Foo Fighters\": {\"frequency\": 3, \"value\": \"Times Like These - ...\"}, \"The Rose - Bette Midler\": {\"frequency\": 24, \"value\": \"The Rose - Bette ...\"}, \"Long Arm Of The Law - Looptroop\": {\"frequency\": 3, \"value\": \"Long Arm Of The ...\"}, \"Dust - Theatres Des Vampires\": {\"frequency\": 1, \"value\": \"Dust - Theatres ...\"}, \"Hand Me Down (Album Version) - matchbox twenty\": {\"frequency\": 1, \"value\": \"Hand Me Down ...\"}, \"Some Kinda Love - The Velvet Underground\": {\"frequency\": 10, \"value\": \"Some Kinda Love - ...\"}, \"Fallin' Out - Keyshia Cole\": {\"frequency\": 8, \"value\": \"Fallin' Out - ...\"}, \"Congratulations_ I Hate You - Alesana\": {\"frequency\": 3, \"value\": \"Congratulations_ I ...\"}, \"Every Time You Go - Ellie Goulding\": {\"frequency\": 57, \"value\": \"Every Time You Go ...\"}, \"Atrevido - Orishas\": {\"frequency\": 36, \"value\": \"Atrevido - Orishas\"}, \"Ases\\ufffd\\ufffdname - Charly Garc\\ufffd\\ufffda\": {\"frequency\": 6, \"value\": \"Ases\\u00edname - Charly ...\"}, \"Grind With Me (Explicit Version) - Pretty Ricky\": {\"frequency\": 5, \"value\": \"Grind With Me ...\"}, \"Riot - Flying Lotus\": {\"frequency\": 2, \"value\": \"Riot - Flying ...\"}, \"White Knuckles - Five Finger Death Punch\": {\"frequency\": 4, \"value\": \"White Knuckles - ...\"}, \"Would You Die For Me (Featuring Lil' Kim & Puff Daddy) (Album Version) - The Notorious B.I.G.\": {\"frequency\": 1, \"value\": \"Would You Die For ...\"}, \"Gong - Sigur R\\ufffd\\ufffds\": {\"frequency\": 3, \"value\": \"Gong - Sigur R\\u00f3s\"}, \"Fire Up Ahead - The Trews\": {\"frequency\": 1, \"value\": \"Fire Up Ahead - ...\"}, \"First Dance - Justin Bieber / Usher\": {\"frequency\": 9, \"value\": \"First Dance - ...\"}, \"I'm Made Of Wax_ Larry_ What Are You Made Of? - A Day To Remember\": {\"frequency\": 78, \"value\": \"I'm Made Of Wax_ ...\"}, \"El baile y el sal\\ufffd\\ufffdn - Caf\\ufffd\\ufffd Tacvba\": {\"frequency\": 7, \"value\": \"El baile y el ...\"}, \"Lewis Takes Off His Shirt - Owen Pallett\": {\"frequency\": 23, \"value\": \"Lewis Takes Off ...\"}, \"Threat - Jay-Z\": {\"frequency\": 1, \"value\": \"Threat - Jay-Z\"}, \"Mr. P-Mosh - Plastilina Mosh\": {\"frequency\": 1, \"value\": \"Mr. P-Mosh - ...\"}, \"Your Protector - Fleet Foxes\": {\"frequency\": 7, \"value\": \"Your Protector - ...\"}, \"Build God_ Then We'll Talk (Album Version) - Panic! At The Disco\": {\"frequency\": 10, \"value\": \"Build God_ Then ...\"}, \"Sweet Sixteen - Billy Idol\": {\"frequency\": 1, \"value\": \"Sweet Sixteen - ...\"}, \"Betterman (full-length/album version) - John Butler Trio\": {\"frequency\": 4, \"value\": \"Betterman (full- ...\"}, \"Without A Face - Rage Against The Machine\": {\"frequency\": 3, \"value\": \"Without A Face - ...\"}, \"L.O.V.E. - Ashlee Simpson\": {\"frequency\": 1, \"value\": \"L.O.V.E. - Ashlee ...\"}, \"Velouria - Pixies\": {\"frequency\": 2, \"value\": \"Velouria - Pixies\"}, \"Epona - Enya\": {\"frequency\": 28, \"value\": \"Epona - Enya\"}, \"You Don't Know How It Feels (Album Version) - Tom Petty\": {\"frequency\": 1, \"value\": \"You Don't Know How ...\"}, \"Shame And Fortune - Yeah Yeah Yeahs\": {\"frequency\": 5, \"value\": \"Shame And Fortune ...\"}, \"She Don't Know Me - Bon Jovi\": {\"frequency\": 2, \"value\": \"She Don't Know Me ...\"}, \"It's Raining Again - Supertramp\": {\"frequency\": 5, \"value\": \"It's Raining Again ...\"}, \"Nut City (2000 Digital Remaster) (The Rudy Van Gelder Edition) - George Braith\": {\"frequency\": 2, \"value\": \"Nut City (2000 ...\"}, \"Tame - Pixies\": {\"frequency\": 2, \"value\": \"Tame - Pixies\"}, \"Heat Miser - Massive Attack\": {\"frequency\": 1, \"value\": \"Heat Miser - ...\"}, \"Astronaut - Beach House\": {\"frequency\": 11, \"value\": \"Astronaut - Beach ...\"}, \"Man Research (Clapper) - Gorillaz\": {\"frequency\": 3, \"value\": \"Man Research ...\"}, \"You Never Know - Immortal Technique\": {\"frequency\": 4, \"value\": \"You Never Know - ...\"}, \"Death Of A Martian (Album Version) - Red Hot Chili Peppers\": {\"frequency\": 12, \"value\": \"Death Of A Martian ...\"}, \"So Long-Guthrie - The Weavers\": {\"frequency\": 11, \"value\": \"So Long-Guthrie - ...\"}, \"Bad Girlfriend [Explicit] - Theory Of A Deadman\": {\"frequency\": 4, \"value\": \"Bad Girlfriend ...\"}, \"You Can't Hurry Love - Phil Collins\": {\"frequency\": 6, \"value\": \"You Can't Hurry ...\"}, \"Songs About Rain - Gary Allan\": {\"frequency\": 24, \"value\": \"Songs About Rain - ...\"}, \"You Know You're Right - Nirvana\": {\"frequency\": 2, \"value\": \"You Know You're ...\"}, \"I Want A New Drug - Huey Lewis & The News\": {\"frequency\": 1, \"value\": \"I Want A New Drug ...\"}, \"Hitched - The Kills\": {\"frequency\": 2, \"value\": \"Hitched - The ...\"}, \"Moment Of Clarity - Jay-Z\": {\"frequency\": 1, \"value\": \"Moment Of Clarity ...\"}, \"Move On (Album Version) - JET\": {\"frequency\": 1, \"value\": \"Move On (Album ...\"}, \"River Below - Billy Talent\": {\"frequency\": 2, \"value\": \"River Below - ...\"}, \"Skulls - The Misfits\": {\"frequency\": 11, \"value\": \"Skulls - The ...\"}, \"Un-thinkable (I'm Ready) - Alicia Keys\": {\"frequency\": 1, \"value\": \"Un-thinkable (I'm ...\"}, \"22 - Lily Allen\": {\"frequency\": 1, \"value\": \"22 - Lily Allen\"}, \"Shine Shine - Boys Noize\": {\"frequency\": 1, \"value\": \"Shine Shine - Boys ...\"}, \"Souverian - Andrew Bird\": {\"frequency\": 2, \"value\": \"Souverian - Andrew ...\"}, \"It Don't Have To Change - John Legend featuring The Stephens Family\": {\"frequency\": 11, \"value\": \"It Don't Have To ...\"}, \"White City - The Pogues\": {\"frequency\": 1, \"value\": \"White City - The ...\"}, \"Hey There Mr. Brooks (feat. Feat. Shawn Mike of Alesana) - Asking Alexandria\": {\"frequency\": 30, \"value\": \"Hey There Mr. ...\"}, \"Beat Somebody Up - MDC\": {\"frequency\": 1, \"value\": \"Beat Somebody Up - ...\"}, \"Stuck In A Rut - The Darkness\": {\"frequency\": 7, \"value\": \"Stuck In A Rut - ...\"}, \"Lullaby - Jack Johnson / Matt Costa\": {\"frequency\": 4, \"value\": \"Lullaby - Jack ...\"}, \"Soldier Of Love - Sade\": {\"frequency\": 2, \"value\": \"Soldier Of Love - ...\"}, \"Un Misil En Mi Placard - Soda Stereo\": {\"frequency\": 15, \"value\": \"Un Misil En Mi ...\"}, \"High Life - Daft Punk\": {\"frequency\": 12, \"value\": \"High Life - Daft ...\"}, \"Naturally - Selena Gomez & The Scene\": {\"frequency\": 1, \"value\": \"Naturally - Selena ...\"}, \"Dead Inside (Bonus Track) - Skillet\": {\"frequency\": 3, \"value\": \"Dead Inside (Bonus ...\"}, \"Love Me Like A River Does - Melody Gardot\": {\"frequency\": 8, \"value\": \"Love Me Like A ...\"}, \"Good Woman - Cat Power\": {\"frequency\": 2, \"value\": \"Good Woman - Cat ...\"}, \"Atlantic - Keane\": {\"frequency\": 1, \"value\": \"Atlantic - Keane\"}, \"One - Apocalyptica\": {\"frequency\": 3, \"value\": \"One - Apocalyptica\"}, \"Move Along - The All-American Rejects\": {\"frequency\": 6, \"value\": \"Move Along - The ...\"}, \"El Chupe Nibre (Album Version) - Danger Doom\": {\"frequency\": 10, \"value\": \"El Chupe Nibre ...\"}, \"Every Planet We Reach Is Dead - Gorillaz\": {\"frequency\": 26, \"value\": \"Every Planet We ...\"}, \"Dusty - Kings Of Leon\": {\"frequency\": 1, \"value\": \"Dusty - Kings Of ...\"}, \"Kabul Shit - Lily Allen\": {\"frequency\": 4, \"value\": \"Kabul Shit - Lily ...\"}, \"Could We - Cat Power\": {\"frequency\": 13, \"value\": \"Could We - Cat ...\"}, \"Thieves In The Night - Hot Chip\": {\"frequency\": 14, \"value\": \"Thieves In The ...\"}, \"Trahison - Vitalic\": {\"frequency\": 1, \"value\": \"Trahison - Vitalic\"}, \"Do What You Want - Ok Go\": {\"frequency\": 4, \"value\": \"Do What You Want - ...\"}, \"Night Bus - Burial\": {\"frequency\": 14, \"value\": \"Night Bus - Burial\"}, \"Spiral Static - Muse\": {\"frequency\": 2, \"value\": \"Spiral Static - ...\"}, \"Slow Down - Morcheeba\": {\"frequency\": 1, \"value\": \"Slow Down - ...\"}, \"Who's Your Daddy?  - Benny Benassi\": {\"frequency\": 2, \"value\": \"Who's Your Daddy? ...\"}, \"LoveStoned/I Think She Knows - Justin Timberlake\": {\"frequency\": 3, \"value\": \"LoveStoned/I Think ...\"}, \"Revelry - Kings Of Leon\": {\"frequency\": 1354, \"value\": \"Revelry - Kings Of ...\"}, \"Paradise & Dreams - Darren Styles\": {\"frequency\": 6, \"value\": \"Paradise & Dreams ...\"}, \"He Hit Me - Grizzly Bear\": {\"frequency\": 1, \"value\": \"He Hit Me - ...\"}, \"Head Over Heels - Tears For Fears\": {\"frequency\": 8, \"value\": \"Head Over Heels - ...\"}, \"Diamonds And Pearls [Edit] - Prince & The New Power Generation\": {\"frequency\": 3, \"value\": \"Diamonds And ...\"}, \"Kill The King - Megadeth\": {\"frequency\": 1, \"value\": \"Kill The King - ...\"}, \"Rock Wit U (Awww Baby) - Ashanti\": {\"frequency\": 1, \"value\": \"Rock Wit U (Awww ...\"}, \"5_ 6_ 7_ 8 - Steps\": {\"frequency\": 2, \"value\": \"5_ 6_ 7_ 8 - Steps\"}, \"Hand In Glove - The Smiths\": {\"frequency\": 50, \"value\": \"Hand In Glove - ...\"}, \"Positive Tension - Bloc Party\": {\"frequency\": 1, \"value\": \"Positive Tension - ...\"}, \"No Way Jose - Baby Bash / Akon\": {\"frequency\": 1, \"value\": \"No Way Jose - Baby ...\"}, \"The Medallion Calls - Klaus Badelt\": {\"frequency\": 13, \"value\": \"The Medallion ...\"}, \"Decisiones - Ruben Blades\": {\"frequency\": 3, \"value\": \"Decisiones - Ruben ...\"}, \"Love You Down - Ready For The World\": {\"frequency\": 1, \"value\": \"Love You Down - ...\"}, \"One Of The Boys - Katy Perry\": {\"frequency\": 10, \"value\": \"One Of The Boys - ...\"}, \"Storm - Lifehouse\": {\"frequency\": 2, \"value\": \"Storm - Lifehouse\"}, \"Low - Coldplay\": {\"frequency\": 3, \"value\": \"Low - Coldplay\"}, \"Electric Twist - A Fine Frenzy\": {\"frequency\": 12, \"value\": \"Electric Twist - A ...\"}, \"Who Can Compare - Foolish Things\": {\"frequency\": 72, \"value\": \"Who Can Compare - ...\"}, \"Dead Souls - Nine Inch Nails\": {\"frequency\": 1, \"value\": \"Dead Souls - Nine ...\"}, \"Riot Van - Arctic Monkeys\": {\"frequency\": 9, \"value\": \"Riot Van - Arctic ...\"}, \"Something In The Way She Moves - James Taylor\": {\"frequency\": 1, \"value\": \"Something In The ...\"}, \"Brand New Colony (Album) - Postal Service\": {\"frequency\": 33, \"value\": \"Brand New Colony ...\"}, \"When The Stars Go Blue - Ryan Adams\": {\"frequency\": 2, \"value\": \"When The Stars Go ...\"}, \"Imprint After - Toro Y Moi\": {\"frequency\": 1, \"value\": \"Imprint After - ...\"}, \"Choppers - Holy Fuck\": {\"frequency\": 3, \"value\": \"Choppers - Holy ...\"}, \"Mushaboom - Feist\": {\"frequency\": 1, \"value\": \"Mushaboom - Feist\"}, \"Speed Of Sound - Coldplay\": {\"frequency\": 5, \"value\": \"Speed Of Sound - ...\"}, \"Superheroes / Human After All / Rock'n Roll - Daft Punk\": {\"frequency\": 18, \"value\": \"Superheroes / ...\"}, \"Weathered - Creed\": {\"frequency\": 5, \"value\": \"Weathered - Creed\"}, \"Man/Bag Of Sand - Frightened Rabbit\": {\"frequency\": 1, \"value\": \"Man/Bag Of Sand - ...\"}, \"JUAN LOCO - Rodrigo y Gabriela\": {\"frequency\": 16, \"value\": \"JUAN LOCO - ...\"}, \"Colorado - Grizzly Bear\": {\"frequency\": 2, \"value\": \"Colorado - Grizzly ...\"}, \"I Really Want You  (Album Version) - James Blunt\": {\"frequency\": 2, \"value\": \"I Really Want You ...\"}, \"L'\\ufffd\\ufffdt\\ufffd\\ufffd : Adagio - Antonio Vivaldi\": {\"frequency\": 4, \"value\": \"L'\\u00e9t\\u00e9 : Adagio - ...\"}, \"Nightly Journey - Dim Pees\": {\"frequency\": 1, \"value\": \"Nightly Journey - ...\"}, \"Time To Dance (Album Version) - Panic! At The Disco\": {\"frequency\": 20, \"value\": \"Time To Dance ...\"}, \"Tape Song - The Kills\": {\"frequency\": 5, \"value\": \"Tape Song - The ...\"}, \"AMERIKA - Rammstein\": {\"frequency\": 3, \"value\": \"AMERIKA - ...\"}, \"I Kissed A Girl - Katy Perry\": {\"frequency\": 1, \"value\": \"I Kissed A Girl - ...\"}, \"Beauty School (Album Version) - Deftones\": {\"frequency\": 7, \"value\": \"Beauty School ...\"}, \"Phantom Lord - Metallica\": {\"frequency\": 13, \"value\": \"Phantom Lord - ...\"}, \"Everyday I Love You Less and Less - Kaiser Chiefs\": {\"frequency\": 1, \"value\": \"Everyday I Love ...\"}, \"Habana - Orishas\": {\"frequency\": 5, \"value\": \"Habana - Orishas\"}, \"That's How You Like It - Beyonc\\ufffd\\ufffd feat. Jay-Z\": {\"frequency\": 2, \"value\": \"That's How You ...\"}, \"The Voiceless - And So I Watch You from Afar\": {\"frequency\": 9, \"value\": \"The Voiceless - ...\"}, \"Magic - Colbie Caillat\": {\"frequency\": 2, \"value\": \"Magic - Colbie ...\"}, \"Rhythm Is A Dancer - SNAP!\": {\"frequency\": 1, \"value\": \"Rhythm Is A Dancer ...\"}, \"Mercedes Benz - Remix - Janis Joplin Vs Medicine Head\": {\"frequency\": 8, \"value\": \"Mercedes Benz - ...\"}, \"Chapter Four - Avenged Sevenfold\": {\"frequency\": 2, \"value\": \"Chapter Four - ...\"}, \"I Am Just A Rebel (LP Version) - Confederate Railroad\": {\"frequency\": 6, \"value\": \"I Am Just A Rebel ...\"}, \"Overload - Sugababes\": {\"frequency\": 14, \"value\": \"Overload - ...\"}, \"So Insane - Discovery\": {\"frequency\": 10, \"value\": \"So Insane - ...\"}, \"Manowar - Manowar\": {\"frequency\": 11, \"value\": \"Manowar - Manowar\"}, \"Five Vicodin Chased With A Shot Of Clarity (Album Version) - Atreyu\": {\"frequency\": 6, \"value\": \"Five Vicodin ...\"}, \"L'Esperanza - Airscape\": {\"frequency\": 6, \"value\": \"L'Esperanza - ...\"}, \"So What - Metallica\": {\"frequency\": 1, \"value\": \"So What - ...\"}, \"Attention - The Raconteurs\": {\"frequency\": 2, \"value\": \"Attention - The ...\"}, \"Red Right Ankle - The Decemberists\": {\"frequency\": 19, \"value\": \"Red Right Ankle - ...\"}, \"Deseo - Jorge Drexler\": {\"frequency\": 6, \"value\": \"Deseo - Jorge ...\"}, \"Hole In My Life - The Police\": {\"frequency\": 1, \"value\": \"Hole In My Life - ...\"}, \"Love is... - Common\": {\"frequency\": 2, \"value\": \"Love is... - ...\"}, \"Darlin' Do Not Fear - Brett Dennen\": {\"frequency\": 3, \"value\": \"Darlin' Do Not ...\"}, \"Tommy The Cat - Primus\": {\"frequency\": 8, \"value\": \"Tommy The Cat - ...\"}, \"Alexandra - Aventura\": {\"frequency\": 9, \"value\": \"Alexandra - ...\"}, \"Heart Ain't A Brain - Chris Brown\": {\"frequency\": 7, \"value\": \"Heart Ain't A ...\"}, \"Nights On Broadway (Album Version) - Bee Gees\": {\"frequency\": 13, \"value\": \"Nights On Broadway ...\"}, \"Almeno Tu Nell'Universo - Elisa\": {\"frequency\": 1, \"value\": \"Almeno Tu ...\"}, \"Lullaby - The Cure\": {\"frequency\": 2, \"value\": \"Lullaby - The Cure\"}, \"Dismantle. Repair. - Anberlin\": {\"frequency\": 2, \"value\": \"Dismantle. Repair. ...\"}, \"Shiver - Coldplay\": {\"frequency\": 16, \"value\": \"Shiver - Coldplay\"}, \"Moondance (Album Version) - Michael Bubl\\ufffd\\ufffd\": {\"frequency\": 18, \"value\": \"Moondance (Album ...\"}, \"Withering Heights - Ryan Adams & The Cardinals\": {\"frequency\": 1, \"value\": \"Withering Heights ...\"}, \"Disorder [2007 Re-mastered Album Version] - Joy Division\": {\"frequency\": 2, \"value\": \"Disorder [2007 Re- ...\"}, \"Superman - Eminem / Dina Rae\": {\"frequency\": 74, \"value\": \"Superman - Eminem ...\"}, \"Big Calm - Morcheeba\": {\"frequency\": 20, \"value\": \"Big Calm - ...\"}, \"The Outside - Taylor Swift\": {\"frequency\": 8, \"value\": \"The Outside - ...\"}, \"Recess - Muse\": {\"frequency\": 2, \"value\": \"Recess - Muse\"}, \"Breathe - Alexi Murdoch\": {\"frequency\": 15, \"value\": \"Breathe - Alexi ...\"}, \"Rescued (Album Version) - Jack's Mannequin\": {\"frequency\": 1, \"value\": \"Rescued (Album ...\"}, \"Song For Dan Treacy - MGMT\": {\"frequency\": 2, \"value\": \"Song For Dan ...\"}, \"Blood-Red White & Blue - Rise Against\": {\"frequency\": 2, \"value\": \"Blood-Red White & ...\"}, \"One - Metallica\": {\"frequency\": 14, \"value\": \"One - Metallica\"}, \"Between Two Lungs - Florence + The Machine\": {\"frequency\": 52, \"value\": \"Between Two Lungs ...\"}, \"Hall of Fame - Guru\": {\"frequency\": 4, \"value\": \"Hall of Fame - ...\"}, \"The Universal - Blur\": {\"frequency\": 2, \"value\": \"The Universal - ...\"}, \"The Calculation (Album Version) - Regina Spektor\": {\"frequency\": 2, \"value\": \"The Calculation ...\"}, \"Tu no tienes alma - Alejandro Sanz\": {\"frequency\": 4, \"value\": \"Tu no tienes alma ...\"}, \"Dirty World - Traveling Wilburys\": {\"frequency\": 9, \"value\": \"Dirty World - ...\"}, \"What You Know - Two Door Cinema Club\": {\"frequency\": 3, \"value\": \"What You Know - ...\"}, \"Spaceape - Burial\": {\"frequency\": 5, \"value\": \"Spaceape - Burial\"}, \"Vincent (Starry_ Starry Night) (Album Version) - Josh Groban\": {\"frequency\": 3, \"value\": \"Vincent (Starry_ ...\"}, \"Quutamo - Apocalyptica\": {\"frequency\": 9, \"value\": \"Quutamo - ...\"}, \"Elephants - Them Crooked Vultures\": {\"frequency\": 3, \"value\": \"Elephants - Them ...\"}, \"Delicate Answer - The Mercury Program\": {\"frequency\": 1, \"value\": \"Delicate Answer - ...\"}, \"Sniped - CKY\": {\"frequency\": 7, \"value\": \"Sniped - CKY\"}, \"Don't Matter - Akon\": {\"frequency\": 4, \"value\": \"Don't Matter - ...\"}, \"Body In A Box - City And Colour\": {\"frequency\": 9, \"value\": \"Body In A Box - ...\"}, \"Those Dancing Days Are Gone (Album) - Carla Bruni\": {\"frequency\": 12, \"value\": \"Those Dancing Days ...\"}, \"Santa Monica - Theory Of A Deadman\": {\"frequency\": 1, \"value\": \"Santa Monica - ...\"}, \"Automotywacja - Vienio & Pele\": {\"frequency\": 9, \"value\": \"Automotywacja - ...\"}, \"Stay Close_ Don't Go - Second Hand Serenade\": {\"frequency\": 19, \"value\": \"Stay Close_ Don't ...\"}, \"La Banlieue - Beirut\": {\"frequency\": 16, \"value\": \"La Banlieue - ...\"}, \"Arboretum - Max Richter\": {\"frequency\": 2, \"value\": \"Arboretum - Max ...\"}, \"The Hand That Rocks The Cradle (+ Sonny Boy) - The Smiths\": {\"frequency\": 13, \"value\": \"The Hand That ...\"}, \"Your Ex-Lover Is Dead (Album Version) - Stars\": {\"frequency\": 1, \"value\": \"Your Ex-Lover Is ...\"}, \"Boot Scootin' Boogie - Brooks & Dunn\": {\"frequency\": 6, \"value\": \"Boot Scootin' ...\"}, \"Dearly Departed (Album version) - Devotchka\": {\"frequency\": 2, \"value\": \"Dearly Departed ...\"}, \"Peace Of Mind - Boston\": {\"frequency\": 15, \"value\": \"Peace Of Mind - ...\"}, \"Agua - Jarabe De Palo\": {\"frequency\": 3, \"value\": \"Agua - Jarabe De ...\"}, \"Group Four - Massive Attack\": {\"frequency\": 7, \"value\": \"Group Four - ...\"}, \"Runaway (Album Version) - Linkin Park\": {\"frequency\": 18, \"value\": \"Runaway (Album ...\"}, \"Tribulations - LCD Soundsystem\": {\"frequency\": 4, \"value\": \"Tribulations - LCD ...\"}, \"Viva Las Vegas - The Grascals\": {\"frequency\": 3, \"value\": \"Viva Las Vegas - ...\"}, \"Words - Train\": {\"frequency\": 15, \"value\": \"Words - Train\"}, \"Something to Believe In - The Offspring\": {\"frequency\": 7, \"value\": \"Something to ...\"}, \"I Was Made For You - She & Him\": {\"frequency\": 6, \"value\": \"I Was Made For You ...\"}, \"Baker's Blue Jay Yarn - Dakota Oak\": {\"frequency\": 27, \"value\": \"Baker's Blue Jay ...\"}, \"Numb - Portishead\": {\"frequency\": 2, \"value\": \"Numb - Portishead\"}, \"Hands Up - Soltero\": {\"frequency\": 1, \"value\": \"Hands Up - Soltero\"}, \"Oh_ Susannah (LP Version) - James Taylor\": {\"frequency\": 3, \"value\": \"Oh_ Susannah (LP ...\"}, \"Karma Police - Radiohead\": {\"frequency\": 11, \"value\": \"Karma Police - ...\"}, \"Hip To Be Square - Huey Lewis And The News\": {\"frequency\": 7, \"value\": \"Hip To Be Square - ...\"}, \"A Prayer - East Blues Experience\": {\"frequency\": 6, \"value\": \"A Prayer - East ...\"}, \"War Pigs - Ozzy Osbourne\": {\"frequency\": 2, \"value\": \"War Pigs - Ozzy ...\"}, \"Skyscraper - Train\": {\"frequency\": 3, \"value\": \"Skyscraper - Train\"}, \"Great Indoors - John Mayer\": {\"frequency\": 7, \"value\": \"Great Indoors - ...\"}, \"CIE\\ufffd\\ufffd - Milczenie Owiec\": {\"frequency\": 2, \"value\": \"CIE\\u00d1 - Milczenie ...\"}, \"Breathing - Lifehouse\": {\"frequency\": 1, \"value\": \"Breathing - ...\"}, \"Falling in Hate - Five Finger Death Punch\": {\"frequency\": 17, \"value\": \"Falling in Hate - ...\"}, \"Dejame Entrar - Carlos Vives\": {\"frequency\": 2, \"value\": \"Dejame Entrar - ...\"}, \"Head Over Feet (Album Version) - Alanis Morissette\": {\"frequency\": 2, \"value\": \"Head Over Feet ...\"}, \"I'm Alive (Album Version) - Disturbed\": {\"frequency\": 1, \"value\": \"I'm Alive (Album ...\"}, \"Naked and Famous - The Presidents of the United States of America\": {\"frequency\": 2, \"value\": \"Naked and Famous - ...\"}, \"Reel Around The Fountain - The Smiths\": {\"frequency\": 2, \"value\": \"Reel Around The ...\"}, \"Shape Shifter - Local Natives\": {\"frequency\": 36, \"value\": \"Shape Shifter - ...\"}, \"Dile - Don Omar\": {\"frequency\": 1, \"value\": \"Dile - Don Omar\"}, \"It's Love - Jill Scott\": {\"frequency\": 2, \"value\": \"It's Love - Jill ...\"}, \"Droppin' Plates (Album Version) - Disturbed\": {\"frequency\": 2, \"value\": \"Droppin' Plates ...\"}, \"Faith (Album Version) - Air Supply\": {\"frequency\": 3, \"value\": \"Faith (Album ...\"}, \"Bubbly - Colbie Caillat\": {\"frequency\": 5, \"value\": \"Bubbly - Colbie ...\"}, \"Ugly - Bubba Sparxxx\": {\"frequency\": 11, \"value\": \"Ugly - Bubba ...\"}, \"Jimmy Kane - Muse\": {\"frequency\": 6, \"value\": \"Jimmy Kane - Muse\"}, \"Right Down The Line - Gerry Rafferty\": {\"frequency\": 1, \"value\": \"Right Down The ...\"}, \"You're The One (LP Version) - Tracy Chapman\": {\"frequency\": 3, \"value\": \"You're The One (LP ...\"}, \"Free Love - Cage The Elephant\": {\"frequency\": 5, \"value\": \"Free Love - Cage ...\"}, \"Good Time Boys (2003 Digital Remaster) - Red Hot Chili Peppers\": {\"frequency\": 6, \"value\": \"Good Time Boys ...\"}, \"Atlantis To Interzone - Klaxons\": {\"frequency\": 7, \"value\": \"Atlantis To ...\"}, \"Breathless - The Corrs\": {\"frequency\": 1, \"value\": \"Breathless - The ...\"}, \"Streamside - The Album Leaf\": {\"frequency\": 3, \"value\": \"Streamside - The ...\"}, \"Rabbit Heart (Raise It Up) - Florence + The Machine\": {\"frequency\": 171, \"value\": \"Rabbit Heart ...\"}, \"Dragon Queen - Yeah Yeah Yeahs\": {\"frequency\": 42, \"value\": \"Dragon Queen - ...\"}, \"Aghia Sophia (2008 Digital Remaster) - CCCP - Fedeli Alla Linea\": {\"frequency\": 1, \"value\": \"Aghia Sophia (2008 ...\"}, \"Breathless - Corinne Bailey Rae\": {\"frequency\": 14, \"value\": \"Breathless - ...\"}, \"Flutter Girl - Chris Cornell\": {\"frequency\": 1, \"value\": \"Flutter Girl - ...\"}, \"Chariot - Gavin DeGraw\": {\"frequency\": 2, \"value\": \"Chariot - Gavin ...\"}, \"We Like Sportz - The Lonely Island\": {\"frequency\": 50, \"value\": \"We Like Sportz - ...\"}, \"What I Be - Michael Franti & Spearhead\": {\"frequency\": 1, \"value\": \"What I Be - ...\"}, \"Sour Cherry - The Kills\": {\"frequency\": 1, \"value\": \"Sour Cherry - The ...\"}, \"Hanky Panky (Mono) - Tommy James And The Shondells\": {\"frequency\": 1, \"value\": \"Hanky Panky (Mono) ...\"}, \"Walk Away (Album Version) - Dropkick Murphys\": {\"frequency\": 1, \"value\": \"Walk Away (Album ...\"}, \"In The Aeroplane Over The Sea - Neutral Milk Hotel\": {\"frequency\": 1, \"value\": \"In The Aeroplane ...\"}, \"Ain't My Bitch - Metallica\": {\"frequency\": 2, \"value\": \"Ain't My Bitch - ...\"}, \"Injection - Rise Against\": {\"frequency\": 11, \"value\": \"Injection - Rise ...\"}, \"New Shoes (Album Version) - Paolo Nutini\": {\"frequency\": 1, \"value\": \"New Shoes (Album ...\"}, \"The Good Times Are Killing Me - Modest Mouse\": {\"frequency\": 4, \"value\": \"The Good Times Are ...\"}, \"What - Eve / Truth Hurts\": {\"frequency\": 35, \"value\": \"What - Eve / Truth ...\"}, \"Baby said - Hot Chip\": {\"frequency\": 1, \"value\": \"Baby said - Hot ...\"}, \"Illumination - Miami Horror\": {\"frequency\": 5, \"value\": \"Illumination - ...\"}, \"Whispers In The Dark (Radio Edit) - Skillet\": {\"frequency\": 15, \"value\": \"Whispers In The ...\"}, \"I Don't Wanna Be - LMFAO\": {\"frequency\": 9, \"value\": \"I Don't Wanna Be - ...\"}, \"Azure - Paul Kalkbrenner\": {\"frequency\": 7, \"value\": \"Azure - Paul ...\"}, \"Father Of Mine - Everclear\": {\"frequency\": 11, \"value\": \"Father Of Mine - ...\"}, \"Love Your Love The Most - Eric Church\": {\"frequency\": 9, \"value\": \"Love Your Love The ...\"}, \"Dance Sister Dance (Baila Mi Hermana) - Santana\": {\"frequency\": 1, \"value\": \"Dance Sister Dance ...\"}, \"How Do You Like Me Now?! - Toby Keith\": {\"frequency\": 13, \"value\": \"How Do You Like Me ...\"}, \"How It Feels To Fly - Alicia Keys\": {\"frequency\": 5, \"value\": \"How It Feels To ...\"}, \"Your Mother Should Have Told You - Robert Palmer\": {\"frequency\": 2, \"value\": \"Your Mother Should ...\"}, \"Let Me Inside - Iration\": {\"frequency\": 16, \"value\": \"Let Me Inside - ...\"}, \"Son et Lumiere - The Mars Volta\": {\"frequency\": 10, \"value\": \"Son et Lumiere - ...\"}, \"N\\ufffd\\ufffdo Posso Viver Sem Ela - Cartola\": {\"frequency\": 1, \"value\": \"N\\u00e3o Posso Viver ...\"}, \"We Major - Kanye West / Nas / Really Doe\": {\"frequency\": 4, \"value\": \"We Major - Kanye ...\"}, \"Universally Speaking (Album Version) - Red Hot Chili Peppers\": {\"frequency\": 1, \"value\": \"Universally ...\"}, \"Last Day Of Magic - The Kills\": {\"frequency\": 2, \"value\": \"Last Day Of Magic ...\"}, \"Drop The World - Lil Wayne / Eminem\": {\"frequency\": 124, \"value\": \"Drop The World - ...\"}, \"Searchin' - Brant Bjork\": {\"frequency\": 6, \"value\": \"Searchin' - Brant ...\"}, \"Going Nowhere - Cut Copy\": {\"frequency\": 1, \"value\": \"Going Nowhere - ...\"}, \"Good Life - OneRepublic\": {\"frequency\": 1, \"value\": \"Good Life - ...\"}, \"Far Behind - Eddie Vedder\": {\"frequency\": 12, \"value\": \"Far Behind - Eddie ...\"}, \"War - Sick Puppies\": {\"frequency\": 1, \"value\": \"War - Sick Puppies\"}, \"Without Me - Eminem\": {\"frequency\": 96, \"value\": \"Without Me - ...\"}, \"History In The Making - Darius Rucker\": {\"frequency\": 17, \"value\": \"History In The ...\"}, \"Gonna Find You - Operation Ivy\": {\"frequency\": 2, \"value\": \"Gonna Find You - ...\"}, \"A New Level [Live Version] - Pantera\": {\"frequency\": 6, \"value\": \"A New Level [Live ...\"}, \"Bailamos - Enrique Iglesias\": {\"frequency\": 3, \"value\": \"Bailamos - Enrique ...\"}, \"Man Makes The Zoo - USS (Ubiquitous Synergy Seeker)\": {\"frequency\": 5, \"value\": \"Man Makes The Zoo ...\"}, \"The Disconnect - Tycho\": {\"frequency\": 2, \"value\": \"The Disconnect - ...\"}, \"Automatik - Livvi Franc\": {\"frequency\": 1, \"value\": \"Automatik - Livvi ...\"}, \"Well Did You Evah! - Deborah Harry & Iggy Pop\": {\"frequency\": 17, \"value\": \"Well Did You Evah! ...\"}, \"We Belong Together - Mariah Carey\": {\"frequency\": 1, \"value\": \"We Belong Together ...\"}, \"Day & Night - Basshunter\": {\"frequency\": 4, \"value\": \"Day & Night - ...\"}, \"Kiss Me (Album Version) - Cassie\": {\"frequency\": 2, \"value\": \"Kiss Me (Album ...\"}, \"Dead Presidents II - Jay-Z\": {\"frequency\": 2, \"value\": \"Dead Presidents II ...\"}, \"All Over Me - Drowning Pool\": {\"frequency\": 3, \"value\": \"All Over Me - ...\"}, \"I'm Your Boogie Man - KC And The Sunshine Band\": {\"frequency\": 2, \"value\": \"I'm Your Boogie ...\"}, \"Dance Me To The End Of Love - Leonard Cohen\": {\"frequency\": 4, \"value\": \"Dance Me To The ...\"}, \"Tengo Ganas - Andr\\ufffd\\ufffds Cepeda\": {\"frequency\": 14, \"value\": \"Tengo Ganas - ...\"}, \"Jamaica Roots II(Agora E Sempre) - Natiruts\": {\"frequency\": 3, \"value\": \"Jamaica Roots ...\"}, \"Burnout (Album Version) - Green Day\": {\"frequency\": 5, \"value\": \"Burnout (Album ...\"}, \"As The Sun Still Burns Away (2002 Digital Remaster) - Ten Years After\": {\"frequency\": 13, \"value\": \"As The Sun Still ...\"}, \"Walking Away - Lifehouse\": {\"frequency\": 11, \"value\": \"Walking Away - ...\"}, \"Yawny And The Apocalypse - Andrew Bird\": {\"frequency\": 2, \"value\": \"Yawny And The ...\"}, \"Needy Girl - Chromeo\": {\"frequency\": 2, \"value\": \"Needy Girl - ...\"}, \"Little L - Jamiroquai\": {\"frequency\": 4, \"value\": \"Little L - ...\"}, \"People Watching - Jack Johnson\": {\"frequency\": 22, \"value\": \"People Watching - ...\"}, \"If There's a Rocket Tie Me To It - Snow Patrol\": {\"frequency\": 2, \"value\": \"If There's a ...\"}, \"Keep Me - The Black Keys\": {\"frequency\": 1, \"value\": \"Keep Me - The ...\"}, \"Paris - Friendly Fires\": {\"frequency\": 2, \"value\": \"Paris - Friendly ...\"}, \"Wake Up - Alicia Keys\": {\"frequency\": 27, \"value\": \"Wake Up - Alicia ...\"}, \"No Puedo Evitar (Pensar En Ti) - Duncan Dhu\": {\"frequency\": 13, \"value\": \"No Puedo Evitar ...\"}, \"Selling The Drama - Live\": {\"frequency\": 2, \"value\": \"Selling The Drama ...\"}, \"Rock The Boat - The Hues Corporation\": {\"frequency\": 1, \"value\": \"Rock The Boat - ...\"}, \"Mister Jung Stuffed - Man Man\": {\"frequency\": 2, \"value\": \"Mister Jung ...\"}, \"Play Girl - Ladytron\": {\"frequency\": 3, \"value\": \"Play Girl - ...\"}, \"La Camisa Negra - Juanes\": {\"frequency\": 13, \"value\": \"La Camisa Negra - ...\"}, \"Year of the Suckerpunch - Amoral\": {\"frequency\": 12, \"value\": \"Year of the ...\"}, \"Common Pleasure [Eagles Ballroom Live Version] - Jason Mraz\": {\"frequency\": 16, \"value\": \"Common Pleasure ...\"}, \"Dancing With Tears In My Eyes - Ke$ha\": {\"frequency\": 1, \"value\": \"Dancing With Tears ...\"}, \"Things I'll Never Say - Avril Lavigne\": {\"frequency\": 21, \"value\": \"Things I'll Never ...\"}, \"Graduation Day - Kanye West\": {\"frequency\": 1, \"value\": \"Graduation Day - ...\"}, \"Clark Gable (Album) - Postal Service\": {\"frequency\": 38, \"value\": \"Clark Gable ...\"}, \"Something Beautiful (Album Version) - NEEDTOBREATHE\": {\"frequency\": 3, \"value\": \"Something ...\"}, \"I Got Mine - The Black Keys\": {\"frequency\": 38, \"value\": \"I Got Mine - The ...\"}, \"Kissing Families (Album Version) - Silversun Pickups\": {\"frequency\": 1, \"value\": \"Kissing Families ...\"}, \"Danny Boy - Celtic Woman\": {\"frequency\": 2, \"value\": \"Danny Boy - Celtic ...\"}, \"All I Want (Live LP Version) - Joni Mitchell\": {\"frequency\": 4, \"value\": \"All I Want (Live ...\"}, \"Neon Knights - MSTRKRFT\": {\"frequency\": 17, \"value\": \"Neon Knights - ...\"}, \"Memorial - Explosions In The Sky\": {\"frequency\": 15, \"value\": \"Memorial - ...\"}, \"Volcano - Damien Rice\": {\"frequency\": 3, \"value\": \"Volcano - Damien ...\"}, \"Breathe (Album Version) - Nickelback\": {\"frequency\": 1, \"value\": \"Breathe (Album ...\"}, \"Por La Noche - Mala Rodriguez\": {\"frequency\": 3, \"value\": \"Por La Noche - ...\"}, \"Malibu - Hole\": {\"frequency\": 2, \"value\": \"Malibu - Hole\"}, \"Another Try - Josh Turner\": {\"frequency\": 1, \"value\": \"Another Try - Josh ...\"}, \"You And I (Album Version) - Michael Bubl\\ufffd\\ufffd\": {\"frequency\": 5, \"value\": \"You And I (Album ...\"}, \"The Ghost Of You (Album Version) - My Chemical Romance\": {\"frequency\": 2, \"value\": \"The Ghost Of You ...\"}, \"I'll Make Love To You - Boyz II Men\": {\"frequency\": 37, \"value\": \"I'll Make Love To ...\"}, \"Castle On A Cloud - Les Mis\\ufffd\\ufffdrables - 10th Anniversary Concert\": {\"frequency\": 12, \"value\": \"Castle On A Cloud ...\"}, \"Warrior - Yeah Yeah Yeahs\": {\"frequency\": 1, \"value\": \"Warrior - Yeah ...\"}, \"Runaway - 3 Doors Down\": {\"frequency\": 11, \"value\": \"Runaway - 3 Doors ...\"}, \"She's Good For You - Deana Carter\": {\"frequency\": 2, \"value\": \"She's Good For You ...\"}, \"Not Every Man Lives - Jason Aldean\": {\"frequency\": 2, \"value\": \"Not Every Man ...\"}, \"Humming - Portishead\": {\"frequency\": 9, \"value\": \"Humming - ...\"}, \"Ras Trent - The Lonely Island\": {\"frequency\": 19, \"value\": \"Ras Trent - The ...\"}, \"Today Your Love_ Tomorrow The World (Remastered Album Version ) - Ramones\": {\"frequency\": 7, \"value\": \"Today Your Love_ ...\"}, \"Yellow - Coldplay\": {\"frequency\": 27, \"value\": \"Yellow - Coldplay\"}, \"Teenage Kicks - Nouvelle Vague\": {\"frequency\": 3, \"value\": \"Teenage Kicks - ...\"}, \"In Heaven - Pixies\": {\"frequency\": 2, \"value\": \"In Heaven - Pixies\"}, \"Tenderly - Euge Groove\": {\"frequency\": 7, \"value\": \"Tenderly - Euge ...\"}, \"Anne's Song - Faith No More\": {\"frequency\": 7, \"value\": \"Anne's Song - ...\"}, \"Stranger - Angus & Julia Stone\": {\"frequency\": 6, \"value\": \"Stranger - Angus & ...\"}, \"I Still Care For You - Ray LaMontagne\": {\"frequency\": 1, \"value\": \"I Still Care For ...\"}, \"When the empire falls (Single Version) - When The Empire Falls\": {\"frequency\": 4, \"value\": \"When the empire ...\"}, \"Better Days To Come - Lonesome River Band\": {\"frequency\": 14, \"value\": \"Better Days To ...\"}, \"Rio - Duran Duran\": {\"frequency\": 2, \"value\": \"Rio - Duran Duran\"}, \"Sit Down. Stand Up - Radiohead\": {\"frequency\": 6, \"value\": \"Sit Down. Stand Up ...\"}, \"Doctor Jones - Aqua\": {\"frequency\": 3, \"value\": \"Doctor Jones - ...\"}, \"Gett Off - Prince & The New Power Generation [with Eric Leeds on Flute]\": {\"frequency\": 1, \"value\": \"Gett Off - Prince ...\"}, \"We Are Okay - Joshua Radin\": {\"frequency\": 14, \"value\": \"We Are Okay - ...\"}, \"Every Time You Say Goodbye - Alison Krauss / Union Station\": {\"frequency\": 1, \"value\": \"Every Time You Say ...\"}, \"Always Coming Back Home To You - Atmosphere\": {\"frequency\": 2, \"value\": \"Always Coming Back ...\"}, \"Slow Hands - Interpol\": {\"frequency\": 14, \"value\": \"Slow Hands - ...\"}, \"No Hay Dolor - No Te Va Gustar\": {\"frequency\": 2, \"value\": \"No Hay Dolor - No ...\"}, \"Down On The Corner - Creedence Clearwater Revival\": {\"frequency\": 43, \"value\": \"Down On The Corner ...\"}, \"Nightrain - Guns N' Roses\": {\"frequency\": 43, \"value\": \"Nightrain - Guns ...\"}, \"Zero - Yeah Yeah Yeahs\": {\"frequency\": 11, \"value\": \"Zero - Yeah Yeah ...\"}, \"Somebody's Watching Me - Rockwell\": {\"frequency\": 1, \"value\": \"Somebody's ...\"}, \"Strength - Agnostic Front\": {\"frequency\": 7, \"value\": \"Strength - ...\"}, \"Shine On - The Kooks\": {\"frequency\": 10, \"value\": \"Shine On - The ...\"}, \"Meanwhile_ Rick James... - Cake\": {\"frequency\": 4, \"value\": \"Meanwhile_ Rick ...\"}, \"Where Eagles Dare - The Misfits\": {\"frequency\": 7, \"value\": \"Where Eagles Dare ...\"}, \"Alerion (feat. NO) - Asking Alexandria\": {\"frequency\": 4, \"value\": \"Alerion (feat. NO) ...\"}, \"Higinia (Album Version) - blessthefall\": {\"frequency\": 9, \"value\": \"Higinia (Album ...\"}, \"Diferente - Gotan Project\": {\"frequency\": 3, \"value\": \"Diferente - Gotan ...\"}, \"Crosses - Jos\\ufffd\\ufffd Gonz\\ufffd\\ufffdlez\": {\"frequency\": 11, \"value\": \"Crosses - Jos\\u00e9 ...\"}, \"Everybody Wants To Rule The World - Tears For Fears\": {\"frequency\": 6, \"value\": \"Everybody Wants To ...\"}, \"Shame In You - Alice In Chains\": {\"frequency\": 11, \"value\": \"Shame In You - ...\"}, \"Run - Air\": {\"frequency\": 4, \"value\": \"Run - Air\"}, \"World News - Local Natives\": {\"frequency\": 1, \"value\": \"World News - Local ...\"}, \"Bachelorette (Family Tree Version) - Bjork\": {\"frequency\": 1, \"value\": \"Bachelorette ...\"}, \"Tha Crossroads - Bone Thugs-N-Harmony\": {\"frequency\": 1, \"value\": \"Tha Crossroads - ...\"}, \"Voices On A String (Album Version) - Thursday\": {\"frequency\": 4, \"value\": \"Voices On A String ...\"}, \"Acende O Candieiro (2003 Digital Remaster) - Adoniran Barbosa - Com Nosso Samba\": {\"frequency\": 5, \"value\": \"Acende O Candieiro ...\"}, \"A Wolf At The Door - Radiohead\": {\"frequency\": 1, \"value\": \"A Wolf At The Door ...\"}, \"Shame - The Avett Brothers\": {\"frequency\": 1, \"value\": \"Shame - The Avett ...\"}, \"Barfly - Ray LaMontagne\": {\"frequency\": 2, \"value\": \"Barfly - Ray ...\"}, \"Mystery Hours - The New Pornographers\": {\"frequency\": 3, \"value\": \"Mystery Hours - ...\"}, \"Hate My Life [Explicit] - Theory Of A Deadman\": {\"frequency\": 2, \"value\": \"Hate My Life ...\"}, \"I'm An Actor - Phoenix\": {\"frequency\": 1, \"value\": \"I'm An Actor - ...\"}, \"Nervous Breakdown - Rise Against\": {\"frequency\": 13, \"value\": \"Nervous Breakdown ...\"}, \"We Won't Back Down - Escape The Fate\": {\"frequency\": 5, \"value\": \"We Won't Back Down ...\"}, \"Public Service Announcement (Interlude) - Jay-Z\": {\"frequency\": 3, \"value\": \"Public Service ...\"}, \"Take This To Heart (Album) - Mayday Parade\": {\"frequency\": 36, \"value\": \"Take This To Heart ...\"}, \"Cupid - Amy Winehouse\": {\"frequency\": 2, \"value\": \"Cupid - Amy ...\"}, \"Think I Got A Beat - Hi-Tek\": {\"frequency\": 2, \"value\": \"Think I Got A Beat ...\"}, \"Spirits In The Material World - The Police\": {\"frequency\": 9, \"value\": \"Spirits In The ...\"}, \"Lover Of Mine - Beach House\": {\"frequency\": 18, \"value\": \"Lover Of Mine - ...\"}, \"Sun Giant - Fleet Foxes\": {\"frequency\": 2, \"value\": \"Sun Giant - Fleet ...\"}, \"M79 (Album) - Vampire Weekend\": {\"frequency\": 6, \"value\": \"M79 (Album) - ...\"}, \"Rip Tide - Sick Puppies\": {\"frequency\": 5, \"value\": \"Rip Tide - Sick ...\"}, \"Gravity's Rainbow - Klaxons\": {\"frequency\": 6, \"value\": \"Gravity's Rainbow ...\"}, \"Sad Statue - System of a Down\": {\"frequency\": 2, \"value\": \"Sad Statue - ...\"}, \"Be Somebody - Kings Of Leon\": {\"frequency\": 17, \"value\": \"Be Somebody - ...\"}, \"Sonne - Rammstein\": {\"frequency\": 54, \"value\": \"Sonne - Rammstein\"}, \"Decades Of Despair - Carnal Forge\": {\"frequency\": 1, \"value\": \"Decades Of Despair ...\"}, \"Deeply Disturbed - Infected Mushroom\": {\"frequency\": 7, \"value\": \"Deeply Disturbed - ...\"}, \"Feel That Fire - Dierks Bentley\": {\"frequency\": 10, \"value\": \"Feel That Fire - ...\"}, \"Father Cannot Yell (Pete Shelley/Black Radio Mix) - Can\": {\"frequency\": 5, \"value\": \"Father Cannot Yell ...\"}, \"The Execution Of All Things (Single Version) - Rilo Kiley\": {\"frequency\": 1, \"value\": \"The Execution Of ...\"}, \"Give Me More - Keyshia Cole\": {\"frequency\": 6, \"value\": \"Give Me More - ...\"}, \"The Girl's a Straight-Up Hustler - All Time Low\": {\"frequency\": 2, \"value\": \"The Girl's a ...\"}, \"Push It - Garbage\": {\"frequency\": 2, \"value\": \"Push It - Garbage\"}, \"Propane Nightmares - Pendulum\": {\"frequency\": 6, \"value\": \"Propane Nightmares ...\"}, \"('Til) I Kissed You - Everly Brothers\": {\"frequency\": 4, \"value\": \"('Til) I Kissed ...\"}, \"Firecracker - Josh Turner\": {\"frequency\": 32, \"value\": \"Firecracker - Josh ...\"}, \"Risingson - Massive Attack\": {\"frequency\": 8, \"value\": \"Risingson - ...\"}, \"Posters - Jack Johnson\": {\"frequency\": 69, \"value\": \"Posters - Jack ...\"}, \"La Del Ruso - Gotan Project\": {\"frequency\": 7, \"value\": \"La Del Ruso - ...\"}, \"Just Stop (Album Version) - Disturbed\": {\"frequency\": 28, \"value\": \"Just Stop (Album ...\"}, \"Magick - Klaxons\": {\"frequency\": 2, \"value\": \"Magick - Klaxons\"}, \"China Roses - Enya\": {\"frequency\": 3, \"value\": \"China Roses - Enya\"}, \"You And I Both (LP Version) - Jason Mraz\": {\"frequency\": 2, \"value\": \"You And I Both (LP ...\"}, \"Lost! - Coldplay\": {\"frequency\": 7, \"value\": \"Lost! - Coldplay\"}, \"Brooklyn King - Masta Killa\": {\"frequency\": 33, \"value\": \"Brooklyn King - ...\"}, \"Fascination - La Roux\": {\"frequency\": 14, \"value\": \"Fascination - La ...\"}, \"J'ai Dormi Sous L'eau - Air\": {\"frequency\": 2, \"value\": \"J'ai Dormi Sous ...\"}, \"Rock Your Body - Justin Timberlake\": {\"frequency\": 1, \"value\": \"Rock Your Body - ...\"}, \"Babylon - Angus & Julia Stone\": {\"frequency\": 1, \"value\": \"Babylon - Angus & ...\"}, \"Medicine Man  (LP Version) - Pantera\": {\"frequency\": 5, \"value\": \"Medicine Man  (LP ...\"}, \"Who's Real - Jadakiss / Swizz Beatz / OJ Da Juiceman\": {\"frequency\": 12, \"value\": \"Who's Real - ...\"}, \"Straight Outta Compton (Extended Mix) (Edit) (Explicit) - N.W.A.\": {\"frequency\": 1, \"value\": \"Straight Outta ...\"}, \"Tempus Vernum - Enya\": {\"frequency\": 2, \"value\": \"Tempus Vernum - ...\"}, \"Welcome - Phil Collins\": {\"frequency\": 4, \"value\": \"Welcome - Phil ...\"}, \"Harvest (Remastered Album Version) - Neil Young\": {\"frequency\": 3, \"value\": \"Harvest ...\"}, \"Voto Latino - Molotov\": {\"frequency\": 4, \"value\": \"Voto Latino - ...\"}, \"Y solo se me ocurre amarte (Unplugged) - Alejandro Sanz\": {\"frequency\": 14, \"value\": \"Y solo se me ...\"}, \"Ocean Of Noise - Arcade Fire\": {\"frequency\": 18, \"value\": \"Ocean Of Noise - ...\"}, \"Something In Your Mouth (Album Version) - Nickelback\": {\"frequency\": 16, \"value\": \"Something In Your ...\"}, \"Too Little_ Too Late - JoJo\": {\"frequency\": 3, \"value\": \"Too Little_ Too ...\"}, \"Last Of The American Girls (Album Version) - Green Day\": {\"frequency\": 3, \"value\": \"Last Of The ...\"}, \"Elephant - Damien Rice\": {\"frequency\": 6, \"value\": \"Elephant - Damien ...\"}, \"A Cura - Lulu  Santos\": {\"frequency\": 3, \"value\": \"A Cura - Lulu ...\"}, \"Dangerously In Love - Beyonc\\ufffd\\ufffd\": {\"frequency\": 2, \"value\": \"Dangerously In ...\"}, \"Fantasy - The xx\": {\"frequency\": 60, \"value\": \"Fantasy - The xx\"}, \"Hope - Apocalyptica\": {\"frequency\": 44, \"value\": \"Hope - ...\"}, \"Into The Great Wide Open - Tom Petty And The Heartbreakers\": {\"frequency\": 1, \"value\": \"Into The Great ...\"}, \"KissKiss - Parov Stelar\": {\"frequency\": 20, \"value\": \"KissKiss - Parov ...\"}, \"El Novio Del Olvido - Andres Calamaro\": {\"frequency\": 9, \"value\": \"El Novio Del ...\"}, \"Drift Away - Dobie Gray\": {\"frequency\": 1, \"value\": \"Drift Away - Dobie ...\"}, \"Maybe - Sick Puppies\": {\"frequency\": 21, \"value\": \"Maybe - Sick ...\"}, \"Creature Fear - Bon Iver\": {\"frequency\": 27, \"value\": \"Creature Fear - ...\"}, \"They Might Follow You - Tiny Vipers\": {\"frequency\": 60, \"value\": \"They Might Follow ...\"}, \"The Airway - Owl City\": {\"frequency\": 7, \"value\": \"The Airway - Owl ...\"}, \"That's my DJ - Girl Talk\": {\"frequency\": 1, \"value\": \"That's my DJ - ...\"}, \"Should've Been A Cowboy - Toby Keith\": {\"frequency\": 1, \"value\": \"Should've Been A ...\"}, \"An Unsavoury Urge - The Rogue Element\": {\"frequency\": 1, \"value\": \"An Unsavoury Urge ...\"}, \"Snow [Hey Oh] (Album Version) - Red Hot Chili Peppers\": {\"frequency\": 4, \"value\": \"Snow [Hey Oh] ...\"}, \"Move For Me - Kaskade\": {\"frequency\": 2, \"value\": \"Move For Me - ...\"}, \"Hold up - Girl Talk\": {\"frequency\": 29, \"value\": \"Hold up - Girl ...\"}, \"Lafayette Blues - The White Stripes\": {\"frequency\": 1, \"value\": \"Lafayette Blues - ...\"}, \"Milk - Garbage\": {\"frequency\": 3, \"value\": \"Milk - Garbage\"}, \"Nasty Girl (Featuring Diddy_ Nelly_ Jagged Edge and Avery Storm) (Explicit Album Version) - The Notorious B.I.G.\": {\"frequency\": 1, \"value\": \"Nasty Girl ...\"}, \"Hero/Heroine - Boys Like Girls\": {\"frequency\": 6, \"value\": \"Hero/Heroine - ...\"}, \"Bottle Of Red Wine - Eric Clapton\": {\"frequency\": 5, \"value\": \"Bottle Of Red Wine ...\"}, \"Possessed - Kruiz\": {\"frequency\": 1, \"value\": \"Possessed - Kruiz\"}, \"Don't You Forget It - Glenn Lewis\": {\"frequency\": 14, \"value\": \"Don't You Forget ...\"}, \"When I Grow Up - The Pussycat Dolls\": {\"frequency\": 3, \"value\": \"When I Grow Up - ...\"}, \"Falling Slowly (Album version) - Glen Hansard & Marketa Irglova\": {\"frequency\": 3, \"value\": \"Falling Slowly ...\"}, \"I'll Be Your Man - The Black Keys\": {\"frequency\": 6, \"value\": \"I'll Be Your Man - ...\"}, \"Old Song - Max Richter\": {\"frequency\": 2, \"value\": \"Old Song - Max ...\"}, \"Squirm - DAVE MATTHEWS BAND\": {\"frequency\": 3, \"value\": \"Squirm - DAVE ...\"}, \"Alright - Mystikal\": {\"frequency\": 4, \"value\": \"Alright - Mystikal\"}, \"In The Backseat - Arcade Fire\": {\"frequency\": 22, \"value\": \"In The Backseat - ...\"}, \"Second Hand News (LP Version) - Fleetwood Mac\": {\"frequency\": 2, \"value\": \"Second Hand News ...\"}, \"Stand Up - Flobots\": {\"frequency\": 3, \"value\": \"Stand Up - Flobots\"}, \"Runaway - Yeah Yeah Yeahs\": {\"frequency\": 4, \"value\": \"Runaway - Yeah ...\"}, \"Helicopter - Bloc Party\": {\"frequency\": 1, \"value\": \"Helicopter - Bloc ...\"}, \"I Never (Album Version) - Rilo Kiley\": {\"frequency\": 1, \"value\": \"I Never (Album ...\"}, \"How 'Bout You - Eric Church\": {\"frequency\": 7, \"value\": \"How 'Bout You - ...\"}, \"Cat And Mouse - The Red Jumpsuit Apparatus\": {\"frequency\": 5, \"value\": \"Cat And Mouse - ...\"}, \"Magic - Selena Gomez\": {\"frequency\": 1, \"value\": \"Magic - Selena ...\"}, \"Scythian Empires - Andrew Bird\": {\"frequency\": 2, \"value\": \"Scythian Empires - ...\"}, \"Get Money - The Notorious B.I.G.\": {\"frequency\": 6, \"value\": \"Get Money - The ...\"}, \"Fix You - Coldplay\": {\"frequency\": 49, \"value\": \"Fix You - Coldplay\"}, \"The Keeper - Bonobo Featuring Andreya Triana\": {\"frequency\": 21, \"value\": \"The Keeper - ...\"}, \"Mercy:The Laundromat - Pavement\": {\"frequency\": 6, \"value\": \"Mercy:The ...\"}, \"Rising Moon - ATB\": {\"frequency\": 1, \"value\": \"Rising Moon - ATB\"}, \"Lesson Learned - Ray LaMontagne\": {\"frequency\": 9, \"value\": \"Lesson Learned - ...\"}, \"Only Human - Usher Featuring The Nu Beginning\": {\"frequency\": 5, \"value\": \"Only Human - Usher ...\"}, \"Everybody Needs Somebody To Love - The Blues Brothers\": {\"frequency\": 18, \"value\": \"Everybody Needs ...\"}, \"Monday Morning (LP Version) - Fleetwood Mac\": {\"frequency\": 6, \"value\": \"Monday Morning (LP ...\"}, \"Shempi - Ratatat\": {\"frequency\": 12, \"value\": \"Shempi - Ratatat\"}, \"Open All Night - Bon Jovi\": {\"frequency\": 6, \"value\": \"Open All Night - ...\"}, \"In Da Club - Lil Jon / The East Side Boyz / R. Kelly / Ludacris\": {\"frequency\": 3, \"value\": \"In Da Club - Lil ...\"}, \"Wind Of Change - Scorpions\": {\"frequency\": 1, \"value\": \"Wind Of Change - ...\"}, \"A Dios Le Pido - Juanes\": {\"frequency\": 27, \"value\": \"A Dios Le Pido - ...\"}, \"Never Know - Jack Johnson\": {\"frequency\": 21, \"value\": \"Never Know - Jack ...\"}, \"Back In Time - V V Brown\": {\"frequency\": 2, \"value\": \"Back In Time - V V ...\"}, \"The Sun In The Stream - Enya\": {\"frequency\": 1, \"value\": \"The Sun In The ...\"}, \"Horizon Variations - Max Richter\": {\"frequency\": 7, \"value\": \"Horizon Variations ...\"}, \"Nantes - Beirut\": {\"frequency\": 5, \"value\": \"Nantes - Beirut\"}, \"Stronger Than Me - Amy Winehouse\": {\"frequency\": 3, \"value\": \"Stronger Than Me - ...\"}, \"Si Te Vas - Shakira\": {\"frequency\": 6, \"value\": \"Si Te Vas - ...\"}, \"Back To You - John Mayer\": {\"frequency\": 9, \"value\": \"Back To You - John ...\"}, \"I Fought The Law (LP Version) - The Bobby Fuller Four\": {\"frequency\": 2, \"value\": \"I Fought The Law ...\"}, \"Like A Rolling Stone - Cher\": {\"frequency\": 16, \"value\": \"Like A Rolling ...\"}, \"There's Your Trouble - Dixie Chicks\": {\"frequency\": 1, \"value\": \"There's Your ...\"}, \"Through The Rain - Mariah Carey\": {\"frequency\": 1, \"value\": \"Through The Rain - ...\"}, \"When The Lights Go Out - The Black Keys\": {\"frequency\": 1, \"value\": \"When The Lights Go ...\"}, \"Crosshairs - Dangerdoom\": {\"frequency\": 9, \"value\": \"Crosshairs - ...\"}, \"Show You How - The Killers\": {\"frequency\": 1, \"value\": \"Show You How - The ...\"}, \"Fade To Black - Metallica\": {\"frequency\": 2, \"value\": \"Fade To Black - ...\"}, \"Destroy Everything You Touch - Ladytron\": {\"frequency\": 1, \"value\": \"Destroy Everything ...\"}, \"The Limit To Your Love - Feist\": {\"frequency\": 6, \"value\": \"The Limit To Your ...\"}, \"Aerodynamic (Daft Punk Remix) - Daft Punk\": {\"frequency\": 2, \"value\": \"Aerodynamic (Daft ...\"}, \"Links 2 3 4 - Rammstein\": {\"frequency\": 2, \"value\": \"Links 2 3 4 - ...\"}, \"Till It Gets Wet - Slightly Stoopid\": {\"frequency\": 7, \"value\": \"Till It Gets Wet - ...\"}, \"How Sweet It Is - James Taylor\": {\"frequency\": 4, \"value\": \"How Sweet It Is - ...\"}, \"If He Should Break Your Heart - Journey\": {\"frequency\": 7, \"value\": \"If He Should Break ...\"}, \"Pleasant Valley Sunday - The Monkees\": {\"frequency\": 1, \"value\": \"Pleasant Valley ...\"}, \"Digging The Grave - Faith No More\": {\"frequency\": 1, \"value\": \"Digging The Grave ...\"}, \"Felicidade - Suba  feat. Cibelle\": {\"frequency\": 13, \"value\": \"Felicidade - Suba ...\"}, \"Mrs Thompson - The Kooks\": {\"frequency\": 7, \"value\": \"Mrs Thompson - The ...\"}, \"Killing For Love - Jos\\ufffd\\ufffd Gonz\\ufffd\\ufffdlez\": {\"frequency\": 1, \"value\": \"Killing For Love - ...\"}, \"Unite (2009 Digital Remaster) - Beastie Boys\": {\"frequency\": 29, \"value\": \"Unite (2009 ...\"}, \"The Bones Of An Idol - The New Pornographers\": {\"frequency\": 1, \"value\": \"The Bones Of An ...\"}, \"Once Upon A December (LP Version) - Liz Callaway\": {\"frequency\": 1, \"value\": \"Once Upon A ...\"}, \"For Emma - Bon Iver\": {\"frequency\": 7, \"value\": \"For Emma - Bon ...\"}, \"Mr Sandman - The Chordettes\": {\"frequency\": 1, \"value\": \"Mr Sandman - The ...\"}, \"Untangle - Four Tet\": {\"frequency\": 1, \"value\": \"Untangle - Four ...\"}, \"Hochmah (Interlude) - Olivia Newton-John\": {\"frequency\": 18, \"value\": \"Hochmah ...\"}, \"Dream About Flying - Alexi Murdoch\": {\"frequency\": 2, \"value\": \"Dream About Flying ...\"}, \"Harmonic Necklace (2008 Digital Remaster) - Penguin Caf\\ufffd\\ufffd Orchestra\": {\"frequency\": 5, \"value\": \"Harmonic Necklace ...\"}, \"No Ceiling - Eddie Vedder\": {\"frequency\": 5, \"value\": \"No Ceiling - Eddie ...\"}, \"Six Days At The Bottom Of The Ocean - Explosions In The Sky\": {\"frequency\": 22, \"value\": \"Six Days At The ...\"}, \"Elysium - Portishead\": {\"frequency\": 1, \"value\": \"Elysium - ...\"}, \"Man Of A Thousand Faces (Album Version) - Regina Spektor\": {\"frequency\": 15, \"value\": \"Man Of A Thousand ...\"}, \"Fields Of Athenry - Dropkick Murphys\": {\"frequency\": 11, \"value\": \"Fields Of Athenry ...\"}, \"Nobody's Perfect - Hannah Montana\": {\"frequency\": 6, \"value\": \"Nobody's Perfect - ...\"}, \"Faith - Bruce Dickinson\": {\"frequency\": 2, \"value\": \"Faith - Bruce ...\"}, \"Never Before - Deep Purple\": {\"frequency\": 1, \"value\": \"Never Before - ...\"}, \"So Here We Are - Bloc Party\": {\"frequency\": 3, \"value\": \"So Here We Are - ...\"}, \"Dudley - Yeah Yeah Yeahs\": {\"frequency\": 3, \"value\": \"Dudley - Yeah Yeah ...\"}, \"You Are Not Stubborn - Two Door Cinema Club\": {\"frequency\": 10, \"value\": \"You Are Not ...\"}, \"Nothing Even Matters - Lauryn Hill Featuring D'Angelo\": {\"frequency\": 26, \"value\": \"Nothing Even ...\"}, \"Magic Man - Heart\": {\"frequency\": 6, \"value\": \"Magic Man - Heart\"}, \"Going Home (For A Time Like This Album Version) - Sheila Walsh\": {\"frequency\": 12, \"value\": \"Going Home (For A ...\"}, \"Rock'n Roll - Daft Punk\": {\"frequency\": 1, \"value\": \"Rock'n Roll - Daft ...\"}, \"Train Round The Bend (LP Version) - The Velvet Underground\": {\"frequency\": 3, \"value\": \"Train Round The ...\"}, \"Who Knows Who Cares - Local Natives\": {\"frequency\": 4, \"value\": \"Who Knows Who ...\"}, \"Everything Flows - Teenage Fanclub\": {\"frequency\": 13, \"value\": \"Everything Flows - ...\"}, \"This Mess We're In - PJ Harvey\": {\"frequency\": 1, \"value\": \"This Mess We're In ...\"}, \"Future Connection - Alex K\": {\"frequency\": 11, \"value\": \"Future Connection ...\"}, \"Beautiful Dangerous (featuring Fergie) - Slash\": {\"frequency\": 1, \"value\": \"Beautiful ...\"}, \"The Cove - Jack Johnson\": {\"frequency\": 10, \"value\": \"The Cove - Jack ...\"}, \"Doesn't Mean Anything - Alicia Keys\": {\"frequency\": 2, \"value\": \"Doesn't Mean ...\"}, \"The Mystery Zone - Spoon\": {\"frequency\": 5, \"value\": \"The Mystery Zone - ...\"}, \"I Think I'll Live - Charlie Louvin\": {\"frequency\": 29, \"value\": \"I Think I'll Live ...\"}, \"Baby_ I Go Crazy - Josh Turner\": {\"frequency\": 2, \"value\": \"Baby_ I Go Crazy - ...\"}, \"She Took My Soul In Istanbul (The Blue Mosque Mix) - Marc Almond\": {\"frequency\": 16, \"value\": \"She Took My Soul ...\"}, \"The Shape (Album Version) - Slipknot\": {\"frequency\": 5, \"value\": \"The Shape (Album ...\"}, \"Hello/Goodbye [Uncool] (feat. Unkle) (Explicit Album Version) - Lupe Fiasco feat. Unkle\": {\"frequency\": 3, \"value\": \"Hello/Goodbye ...\"}, \"Buttons - The Pussycat Dolls\": {\"frequency\": 10, \"value\": \"Buttons - The ...\"}, \"Tonebank Computer - Holy Fuck\": {\"frequency\": 1, \"value\": \"Tonebank Computer ...\"}, \"Overboard - Justin Bieber / Jessica Jarrell\": {\"frequency\": 16, \"value\": \"Overboard - Justin ...\"}, \"Dream Of Mirrors - Iron Maiden\": {\"frequency\": 11, \"value\": \"Dream Of Mirrors - ...\"}, \"Timeless - Ron Van Den Beuken\": {\"frequency\": 24, \"value\": \"Timeless - Ron Van ...\"}, \"Your Man - Josh Turner\": {\"frequency\": 6, \"value\": \"Your Man - Josh ...\"}, \"Divine Hammer - The Breeders\": {\"frequency\": 2, \"value\": \"Divine Hammer - ...\"}, \"Thanks Vision - Toro Y Moi\": {\"frequency\": 32, \"value\": \"Thanks Vision - ...\"}, \"Es liegt nur an Dir - Tony Marshall\": {\"frequency\": 2, \"value\": \"Es liegt nur an ...\"}, \"Old Man (Album Version) - Neil Young\": {\"frequency\": 1, \"value\": \"Old Man (Album ...\"}, \"Queen Of Memphis (Dance Mix) - Confederate Railroad\": {\"frequency\": 3, \"value\": \"Queen Of Memphis ...\"}, \"Everything You Touch We Touch First (America'S Mexican) - George Lopez\": {\"frequency\": 7, \"value\": \"Everything You ...\"}, \"Let It Whip - Dazz Band\": {\"frequency\": 1, \"value\": \"Let It Whip - Dazz ...\"}, \"Slow Down - Alicia Keys\": {\"frequency\": 13, \"value\": \"Slow Down - Alicia ...\"}, \"The Reeling - Passion Pit\": {\"frequency\": 1, \"value\": \"The Reeling - ...\"}, \"Just Like Heaven - Katie Melua\": {\"frequency\": 1, \"value\": \"Just Like Heaven - ...\"}, \"Windmill Wedding - Air France\": {\"frequency\": 9, \"value\": \"Windmill Wedding - ...\"}, \"Whistle For Will - Hot Chip\": {\"frequency\": 1, \"value\": \"Whistle For Will - ...\"}, \"Take A Bow - Rihanna\": {\"frequency\": 6, \"value\": \"Take A Bow - ...\"}, \"Star Bodies - The New Pornographers\": {\"frequency\": 2, \"value\": \"Star Bodies - The ...\"}, \"Girl With a Problem - The Northern Pikes\": {\"frequency\": 1, \"value\": \"Girl With a ...\"}, \"The Wind Blows - The All-American Rejects\": {\"frequency\": 1, \"value\": \"The Wind Blows - ...\"}, \"Inside Job - Pearl Jam\": {\"frequency\": 3, \"value\": \"Inside Job - Pearl ...\"}, \"Eli_ The Barrow Boy - The Decemberists\": {\"frequency\": 2, \"value\": \"Eli_ The Barrow ...\"}, \"A Warning (Dub) - Thievery Corporation\": {\"frequency\": 3, \"value\": \"A Warning (Dub) - ...\"}, \"Fortunate Son - Dropkick Murphys\": {\"frequency\": 3, \"value\": \"Fortunate Son - ...\"}, \"A Time To Be So Small - Interpol\": {\"frequency\": 4, \"value\": \"A Time To Be So ...\"}, \"Get Me Bodied - Beyonc\\ufffd\\ufffd\": {\"frequency\": 5, \"value\": \"Get Me Bodied - ...\"}, \"Throw Me A Rope - KT Tunstall\": {\"frequency\": 1, \"value\": \"Throw Me A Rope - ...\"}, \"Sea Of Love - Cat Power\": {\"frequency\": 1, \"value\": \"Sea Of Love - Cat ...\"}, \"Una M\\ufffd\\ufffdsica Brutal - Gotan Project\": {\"frequency\": 53, \"value\": \"Una M\\u00fasica Brutal ...\"}, \"Coda - Chris Bathgate\": {\"frequency\": 3, \"value\": \"Coda - Chris ...\"}, \"Pupilas Lejanas - Los Pericos\": {\"frequency\": 2, \"value\": \"Pupilas Lejanas - ...\"}, \"Rebelion - Joe Arroyo\": {\"frequency\": 1, \"value\": \"Rebelion - Joe ...\"}, \"Ocean Avenue - Yellowcard\": {\"frequency\": 1, \"value\": \"Ocean Avenue - ...\"}, \"Jailbird - M Ward\": {\"frequency\": 3, \"value\": \"Jailbird - M Ward\"}, \"Remedy - The Black Crowes\": {\"frequency\": 1, \"value\": \"Remedy - The Black ...\"}, \"Who Am I (Medium without background vocals) - Casting Crowns\": {\"frequency\": 6, \"value\": \"Who Am I (Medium ...\"}, \"Mr. Maker - The Kooks\": {\"frequency\": 18, \"value\": \"Mr. Maker - The ...\"}, \"Su veneno - Aventura\": {\"frequency\": 23, \"value\": \"Su veneno - ...\"}, \"Hitsville U.K. - The Clash\": {\"frequency\": 8, \"value\": \"Hitsville U.K. - ...\"}, \"Odd One (Radio Edit) - Sick Puppies\": {\"frequency\": 4, \"value\": \"Odd One (Radio ...\"}, \"She Never Cried (Remastered Album Version) - Confederate Railroad\": {\"frequency\": 34, \"value\": \"She Never Cried ...\"}, \"3 Rounds and a Sound - Blind Pilot\": {\"frequency\": 1, \"value\": \"3 Rounds and a ...\"}, \"Cheers Darlin' - Damien Rice\": {\"frequency\": 1, \"value\": \"Cheers Darlin' - ...\"}, \"We'll Never Know - Lifehouse\": {\"frequency\": 35, \"value\": \"We'll Never Know - ...\"}, \"Hotel California - Gipsy Kings\": {\"frequency\": 1, \"value\": \"Hotel California - ...\"}, \"Cannabis - Ska-P\": {\"frequency\": 3, \"value\": \"Cannabis - Ska-P\"}, \"On The Run - Easy Star All-Stars\": {\"frequency\": 24, \"value\": \"On The Run - Easy ...\"}, \"Bye Bye Baby - Ok Go\": {\"frequency\": 2, \"value\": \"Bye Bye Baby - Ok ...\"}, \"Guitarra y vos - Jorge Drexler\": {\"frequency\": 16, \"value\": \"Guitarra y vos - ...\"}, \"The Strength To Go On - Rise Against\": {\"frequency\": 3, \"value\": \"The Strength To Go ...\"}, \"Devil In A Midnight Mass - Billy Talent\": {\"frequency\": 4, \"value\": \"Devil In A ...\"}, \"Half Mast - Empire Of The Sun\": {\"frequency\": 7, \"value\": \"Half Mast - Empire ...\"}, \"Song 4 Mutya (Out Of Control) - Groove Armada\": {\"frequency\": 2, \"value\": \"Song 4 Mutya (Out ...\"}, \"Still Alive - Jonathan Coulton\": {\"frequency\": 7, \"value\": \"Still Alive - ...\"}, \"Too Little Too Late - Metric\": {\"frequency\": 5, \"value\": \"Too Little Too ...\"}, \"Sinisten t\\ufffd\\ufffdhtien alla - J. Karjalainen & Mustat Lasit\": {\"frequency\": 56, \"value\": \"Sinisten t\\u00e4htien ...\"}, \"The Special Two (Album Version) - Missy Higgins\": {\"frequency\": 2, \"value\": \"The Special Two ...\"}, \"Midnight Special - Creedence Clearwater Revival\": {\"frequency\": 2, \"value\": \"Midnight Special - ...\"}, \"Stay Awhile - Dusty Springfield\": {\"frequency\": 1, \"value\": \"Stay Awhile - ...\"}, \"Complaint Department - Lykke Li\": {\"frequency\": 5, \"value\": \"Complaint ...\"}, \"Learning To Fall - Boys Like Girls\": {\"frequency\": 3, \"value\": \"Learning To Fall - ...\"}, \"I Cried For You - Katie Melua\": {\"frequency\": 5, \"value\": \"I Cried For You - ...\"}, \"Refuse / Resist - Apocalyptica\": {\"frequency\": 8, \"value\": \"Refuse / Resist - ...\"}, \"You Could Be Happy - Snow Patrol\": {\"frequency\": 1, \"value\": \"You Could Be Happy ...\"}, \"Crawling (Album Version) - Linkin Park\": {\"frequency\": 58, \"value\": \"Crawling (Album ...\"}, \"Smothered (Album Version) - Spineshank\": {\"frequency\": 36, \"value\": \"Smothered (Album ...\"}, \"City On Our Knees - tobyMac\": {\"frequency\": 1, \"value\": \"City On Our Knees ...\"}, \"Invisible - Dio\": {\"frequency\": 2, \"value\": \"Invisible - Dio\"}, \"Written In Reverse - Spoon\": {\"frequency\": 3, \"value\": \"Written In Reverse ...\"}, \"First Breath After Coma - Explosions In The Sky\": {\"frequency\": 12, \"value\": \"First Breath After ...\"}, \"Some Kind Of Blue - Deadmau5\": {\"frequency\": 3, \"value\": \"Some Kind Of Blue ...\"}, \"Future Reflections - MGMT\": {\"frequency\": 4, \"value\": \"Future Reflections ...\"}, \"Jolly Dance - Usher Featuring The Nu Beginning\": {\"frequency\": 7, \"value\": \"Jolly Dance - ...\"}, \"Le Plus Beau Du Quartier - Carla Bruni\": {\"frequency\": 21, \"value\": \"Le Plus Beau Du ...\"}, \"Ona Kasuita - Che Sudaka\": {\"frequency\": 63, \"value\": \"Ona Kasuita - Che ...\"}, \"Hallelujah (Album Version) - Paramore\": {\"frequency\": 3, \"value\": \"Hallelujah (Album ...\"}, \"Too Young - Phoenix\": {\"frequency\": 1, \"value\": \"Too Young - ...\"}, \"Deny Selected - Boys Noize\": {\"frequency\": 3, \"value\": \"Deny Selected - ...\"}, \"Fold - Jos\\ufffd\\ufffd Gonz\\ufffd\\ufffdlez\": {\"frequency\": 15, \"value\": \"Fold - Jos\\u00e9 ...\"}, \"Let Me Be - Xavier Rudd\": {\"frequency\": 1, \"value\": \"Let Me Be - Xavier ...\"}, \"Heartache Tonight  (LP Version) - Eagles\": {\"frequency\": 2, \"value\": \"Heartache Tonight ...\"}, \"Hollow (LP Version) - Pantera\": {\"frequency\": 1, \"value\": \"Hollow (LP ...\"}, \"How I Could Just Kill A Man - Rage Against The Machine\": {\"frequency\": 1, \"value\": \"How I Could Just ...\"}, \"U.R.A Fever - The Kills\": {\"frequency\": 20, \"value\": \"U.R.A Fever - The ...\"}, \"Only Wanna Be With You (LP Version) - Hootie And The Blowfish\": {\"frequency\": 1, \"value\": \"Only Wanna Be With ...\"}, \"Asleep On A Sunbeam - Belle & Sebastian\": {\"frequency\": 1, \"value\": \"Asleep On A ...\"}, \"This Ain't A Love Song - Scouting for Girls\": {\"frequency\": 1, \"value\": \"This Ain't A Love ...\"}, \"Bring Em Back Alive - Audioslave\": {\"frequency\": 27, \"value\": \"Bring Em Back ...\"}, \"Ni T\\ufffd\\ufffd Ni Nadie (Versi\\ufffd\\ufffdn Demo) - Alaska Y Dinarama\": {\"frequency\": 32, \"value\": \"Ni T\\u00fa Ni Nadie ...\"}, \"Yendo A La Casa De Dami\\ufffd\\ufffdn - El Cuarteto De Nos\": {\"frequency\": 11, \"value\": \"Yendo A La Casa De ...\"}, \"You Can Do Better Than Me (Album Version) - Death Cab for Cutie\": {\"frequency\": 7, \"value\": \"You Can Do Better ...\"}, \"Absence of Fear - War Of Ages\": {\"frequency\": 4, \"value\": \"Absence of Fear - ...\"}, \"Boys Boys Boys - Lady GaGa\": {\"frequency\": 3, \"value\": \"Boys Boys Boys - ...\"}, \"The Blue Notebooks - Max Richter\": {\"frequency\": 1, \"value\": \"The Blue Notebooks ...\"}, \"Goodbye My Lover - James Blunt\": {\"frequency\": 3, \"value\": \"Goodbye My Lover - ...\"}, \"Poster Of A Girl - Metric\": {\"frequency\": 2, \"value\": \"Poster Of A Girl - ...\"}, \"Crying Shame - Muse\": {\"frequency\": 1, \"value\": \"Crying Shame - ...\"}, \"This Charming Man - The Smiths\": {\"frequency\": 2, \"value\": \"This Charming Man ...\"}, \"Beautiful Morning - Ace of Base\": {\"frequency\": 37, \"value\": \"Beautiful Morning ...\"}, \"Bulletproof - Five Finger Death Punch\": {\"frequency\": 21, \"value\": \"Bulletproof - Five ...\"}, \"Silver Bath - Plastic Boy\": {\"frequency\": 31, \"value\": \"Silver Bath - ...\"}, \"Love/Hate - Iration\": {\"frequency\": 18, \"value\": \"Love/Hate - ...\"}, \"Misirloo - Gary Hoey\": {\"frequency\": 1, \"value\": \"Misirloo - Gary ...\"}, \"Caraluna - Bacilos\": {\"frequency\": 14, \"value\": \"Caraluna - Bacilos\"}, \"Go Away - R\\ufffd\\ufffdyksopp\": {\"frequency\": 7, \"value\": \"Go Away - R\\u00f6yksopp\"}, \"M1 A1 - Gorillaz\": {\"frequency\": 3, \"value\": \"M1 A1 - Gorillaz\"}, \"Invitation To Understanding - MxPx\": {\"frequency\": 1, \"value\": \"Invitation To ...\"}, \"Deadweight On Velveteen - Jos\\ufffd\\ufffd Gonz\\ufffd\\ufffdlez\": {\"frequency\": 27, \"value\": \"Deadweight On ...\"}, \"Perfect Crime - Guns N' Roses\": {\"frequency\": 7, \"value\": \"Perfect Crime - ...\"}, \"Beach Party - Air France\": {\"frequency\": 23, \"value\": \"Beach Party - Air ...\"}, \"Structure - Custom Blue\": {\"frequency\": 1, \"value\": \"Structure - Custom ...\"}, \"Cuando Nadie Me Ve - Alejandro Sanz\": {\"frequency\": 1, \"value\": \"Cuando Nadie Me Ve ...\"}, \"Road To Zion - Damian Marley / Nas\": {\"frequency\": 8, \"value\": \"Road To Zion - ...\"}, \"My Girl Is Calling Me a Liar - Chromeo\": {\"frequency\": 14, \"value\": \"My Girl Is Calling ...\"}, \"Truly Madly Deeply - Savage Garden\": {\"frequency\": 1, \"value\": \"Truly Madly Deeply ...\"}, \"If I Can't Change Your Mind - Train\": {\"frequency\": 9, \"value\": \"If I Can't Change ...\"}, \"The Cut - Benga\": {\"frequency\": 1, \"value\": \"The Cut - Benga\"}, \"Dirt - Alice In Chains\": {\"frequency\": 2, \"value\": \"Dirt - Alice In ...\"}, \"That's How Country Boys Roll - Billy Currington\": {\"frequency\": 26, \"value\": \"That's How Country ...\"}, \"Would You Go With Me - Josh Turner\": {\"frequency\": 25, \"value\": \"Would You Go With ...\"}, \"The Day I Left The Womb - Escape The Fate\": {\"frequency\": 2, \"value\": \"The Day I Left The ...\"}, \"A Whisper - Coldplay\": {\"frequency\": 12, \"value\": \"A Whisper - ...\"}, \"El\\ufffd\\ufffdctrico - Calle 13\": {\"frequency\": 77, \"value\": \"El\\u00e9ctrico - Calle ...\"}, \"Punchdrunk Lovesick Singalong - Radiohead\": {\"frequency\": 2, \"value\": \"Punchdrunk ...\"}, \"Everything I Own - Bread\": {\"frequency\": 3, \"value\": \"Everything I Own - ...\"}, \"Full Clip (Explicit) - Gang Starr\": {\"frequency\": 1, \"value\": \"Full Clip ...\"}, \"The What - The Notorious B.I.G.\": {\"frequency\": 1, \"value\": \"The What - The ...\"}, \"In The End (Album Version) - Linkin Park\": {\"frequency\": 62, \"value\": \"In The End (Album ...\"}, \"Misfits - Third Eye Blind\": {\"frequency\": 14, \"value\": \"Misfits - Third ...\"}, \"Timebomb - The Whitest Boy Alive\": {\"frequency\": 23, \"value\": \"Timebomb - The ...\"}, \"Stay Away - Nirvana\": {\"frequency\": 39, \"value\": \"Stay Away - ...\"}, \"Blue Shoes - Katie Melua\": {\"frequency\": 4, \"value\": \"Blue Shoes - Katie ...\"}, \"Suffocation - Crystal Castles\": {\"frequency\": 27, \"value\": \"Suffocation - ...\"}, \"Soil To The Sun - Cage The Elephant\": {\"frequency\": 40, \"value\": \"Soil To The Sun - ...\"}, \"Is This It - The Strokes\": {\"frequency\": 9, \"value\": \"Is This It - The ...\"}, \"' Cello Song - Nick Drake\": {\"frequency\": 9, \"value\": \"' Cello Song - ...\"}, \"India Ink - 311\": {\"frequency\": 14, \"value\": \"India Ink - 311\"}, \"Go Places - The New Pornographers\": {\"frequency\": 2, \"value\": \"Go Places - The ...\"}, \"Go With The Flow - Queens Of The Stone Age\": {\"frequency\": 3, \"value\": \"Go With The Flow - ...\"}, \"Uncle Jonny - The Killers\": {\"frequency\": 1, \"value\": \"Uncle Jonny - The ...\"}, \"Phone Call From The Moon - Adrian Belew\": {\"frequency\": 1, \"value\": \"Phone Call From ...\"}, \"Revolvi\\ufffd\\ufffd - Bebe\": {\"frequency\": 14, \"value\": \"Revolvi\\u00f3 - Bebe\"}, \"Balada Del Diablo y La Muerte - La Renga\": {\"frequency\": 3, \"value\": \"Balada Del Diablo ...\"}, \"Meu Mundo \\ufffd\\ufffd Hoje (Eu Sou Assim) - Paulinho Da Viola\": {\"frequency\": 1, \"value\": \"Meu Mundo \\u00c9 Hoje ...\"}, \"Untitled (Figures) - Max Richter\": {\"frequency\": 2, \"value\": \"Untitled (Figures) ...\"}, \"Silvia - Miike Snow\": {\"frequency\": 10, \"value\": \"Silvia - Miike ...\"}, \"Sometimes Things Get_ Whatever - Deadmau5\": {\"frequency\": 6, \"value\": \"Sometimes Things ...\"}, \"Dr. Feelgood - M\\ufffd\\ufffdtley Cr\\ufffd\\ufffde\": {\"frequency\": 6, \"value\": \"Dr. Feelgood - ...\"}, \"Music Sounds Better With You (12\\\" Club Mix) - Stardust\": {\"frequency\": 1, \"value\": \"Music Sounds ...\"}, \"The Beast - Angus & Julia Stone\": {\"frequency\": 7, \"value\": \"The Beast - Angus ...\"}, \"Trunk - Kings Of Leon\": {\"frequency\": 15, \"value\": \"Trunk - Kings Of ...\"}, \"Twenty-Six Temptations (Album version) - Devotchka\": {\"frequency\": 2, \"value\": \"Twenty-Six ...\"}, \"Again Again - Lady GaGa\": {\"frequency\": 2, \"value\": \"Again Again - Lady ...\"}, \"Party In The U.S.A. - Miley Cyrus\": {\"frequency\": 8, \"value\": \"Party In The ...\"}, \"Friend Like You - Joshua Radin\": {\"frequency\": 2, \"value\": \"Friend Like You - ...\"}, \"You Picked Me - A Fine Frenzy\": {\"frequency\": 1, \"value\": \"You Picked Me - A ...\"}, \"The Minnow & The Trout - A Fine Frenzy\": {\"frequency\": 15, \"value\": \"The Minnow & The ...\"}, \"When I Get Home You're So Dead (New Version) (Album) - Mayday Parade\": {\"frequency\": 16, \"value\": \"When I Get Home ...\"}, \"Filosofia Barata Y Zapatos De Goma - Charly Garc\\ufffd\\ufffda\": {\"frequency\": 11, \"value\": \"Filosofia Barata Y ...\"}, \"Recado Falado (Metr\\ufffd\\ufffd Da Saudade) - Alceu Valen\\ufffd\\ufffda\": {\"frequency\": 9, \"value\": \"Recado Falado ...\"}, \"Frente A Frente - Bunbury\": {\"frequency\": 5, \"value\": \"Frente A Frente - ...\"}, \"Tenuousness - Andrew Bird\": {\"frequency\": 1, \"value\": \"Tenuousness - ...\"}, \"Pimpin' - Hollywood Undead\": {\"frequency\": 13, \"value\": \"Pimpin' - ...\"}, \"Tomorrow's World feat. Lacks - Harvey Lindo\": {\"frequency\": 3, \"value\": \"Tomorrow's World ...\"}, \"Walk-Don't Run - The Ventures\": {\"frequency\": 1, \"value\": \"Walk-Don't Run - ...\"}, \"When You Feel The Mess - Starflyer 59\": {\"frequency\": 51, \"value\": \"When You Feel The ...\"}, \"Alguien Soy Yo - Enrique Iglesias\": {\"frequency\": 4, \"value\": \"Alguien Soy Yo - ...\"}, \"Infatueighties - Musiq\": {\"frequency\": 12, \"value\": \"Infatueighties - ...\"}, \"Wide Eyes - Local Natives\": {\"frequency\": 3, \"value\": \"Wide Eyes - Local ...\"}, \"Pop Champagne - Jim Jones & Ron Browz featuring Juelz Santana\": {\"frequency\": 4, \"value\": \"Pop Champagne - ...\"}, \"Wake Up And Smell The Coffee - The Cranberries\": {\"frequency\": 4, \"value\": \"Wake Up And Smell ...\"}, \"O Hosanna - Pedestrian\": {\"frequency\": 2, \"value\": \"O Hosanna - ...\"}, \"Gotas De Agua Dulce - Juanes\": {\"frequency\": 1, \"value\": \"Gotas De Agua ...\"}, \"TTHHEE PPAARRTTYY - Justice\": {\"frequency\": 12, \"value\": \"TTHHEE PPAARRTTYY ...\"}, \"Crazy - Aerosmith\": {\"frequency\": 4, \"value\": \"Crazy - Aerosmith\"}, \"You Don\\u0019t Understand Me - The Raconteurs\": {\"frequency\": 16, \"value\": \"You Don\\u0019t ...\"}, \"Learning To Fly - Tom Petty And The Heartbreakers\": {\"frequency\": 3, \"value\": \"Learning To Fly - ...\"}, \"Your Star - The All-American Rejects\": {\"frequency\": 1, \"value\": \"Your Star - The ...\"}, \"Watch Dis (Explicit Album Version) - Plies\": {\"frequency\": 1, \"value\": \"Watch Dis ...\"}, \"Fortress Around Your Heart - Sting\": {\"frequency\": 7, \"value\": \"Fortress Around ...\"}, \"Heavy Water - Foals\": {\"frequency\": 1, \"value\": \"Heavy Water - ...\"}, \"Time Bomb (Album Version) - Rancid\": {\"frequency\": 8, \"value\": \"Time Bomb (Album ...\"}, \"Hierbas Ibicencas - Sunlounger\": {\"frequency\": 1, \"value\": \"Hierbas Ibicencas ...\"}, \"Basic Space - The xx\": {\"frequency\": 12, \"value\": \"Basic Space - The ...\"}, \"Over And Out - Foo Fighters\": {\"frequency\": 1, \"value\": \"Over And Out - Foo ...\"}, \"Unravel - Bj\\ufffd\\ufffdrk\": {\"frequency\": 4, \"value\": \"Unravel - Bj\\u00f6rk\"}, \"What We Do (Explicit) (Feat. Memphis Bleek) - Sauce Money Featuring Memphis Bleek\": {\"frequency\": 21, \"value\": \"What We Do ...\"}, \"Honey In The Sun - Camera Obscura\": {\"frequency\": 1, \"value\": \"Honey In The Sun - ...\"}, \"All You Need Is Love - Jim Sturgess / Dana Fuchs\": {\"frequency\": 1, \"value\": \"All You Need Is ...\"}, \"Darkness - Third Eye Blind\": {\"frequency\": 4, \"value\": \"Darkness - Third ...\"}, \"VIP - Ke$ha\": {\"frequency\": 5, \"value\": \"VIP - Ke$ha\"}, \"Como Me Mira - Fonseca\": {\"frequency\": 4, \"value\": \"Como Me Mira - ...\"}, \"Crimson And Clover - Tommy James And The Shondells\": {\"frequency\": 1, \"value\": \"Crimson And Clover ...\"}, \"The Driveway - Miley Cyrus\": {\"frequency\": 1, \"value\": \"The Driveway - ...\"}, \"Digital - Joy Division\": {\"frequency\": 4, \"value\": \"Digital - Joy ...\"}, \"Final Path - Yeasayer\": {\"frequency\": 1, \"value\": \"Final Path - ...\"}, \"This Ain't Goodbye - Train\": {\"frequency\": 2, \"value\": \"This Ain't Goodbye ...\"}, \"Jinxed - The Aluminum Group\": {\"frequency\": 5, \"value\": \"Jinxed - The ...\"}, \"Whoa (Album Version) - Paramore\": {\"frequency\": 1, \"value\": \"Whoa (Album ...\"}, \"Just Friends (Sunny) - Musiq\": {\"frequency\": 1, \"value\": \"Just Friends ...\"}, \"Troubles Will Be Gone - The Tallest Man On Earth\": {\"frequency\": 6, \"value\": \"Troubles Will Be ...\"}, \"Broken Arrows - Jos\\ufffd\\ufffd Gonz\\ufffd\\ufffdlez\": {\"frequency\": 5, \"value\": \"Broken Arrows - ...\"}, \"Dirty Road - Days Of The New\": {\"frequency\": 2, \"value\": \"Dirty Road - Days ...\"}, \"Bliss - Muse\": {\"frequency\": 1, \"value\": \"Bliss - Muse\"}, \"Right Through You (LP Version) - Alanis Morissette\": {\"frequency\": 22, \"value\": \"Right Through You ...\"}, \"Bed - J. Holiday\": {\"frequency\": 5, \"value\": \"Bed - J. Holiday\"}, \"Slang Blade - Binary Star\": {\"frequency\": 1, \"value\": \"Slang Blade - ...\"}, \"Lay Your Hands On Me - Bon Jovi\": {\"frequency\": 1, \"value\": \"Lay Your Hands On ...\"}, \"teachme (Album Version) - Musiq Soulchild\": {\"frequency\": 8, \"value\": \"teachme (Album ...\"}, \"Too Long / Steam Machine - Daft Punk\": {\"frequency\": 40, \"value\": \"Too Long / Steam ...\"}, \"Bad Company - Five Finger Death Punch\": {\"frequency\": 1, \"value\": \"Bad Company - Five ...\"}, \"Home - Daughtry\": {\"frequency\": 7, \"value\": \"Home - Daughtry\"}, \"Monkey 23 - The Kills\": {\"frequency\": 1, \"value\": \"Monkey 23 - The ...\"}, \"Agaetis Byrjun - Sigur Ros\": {\"frequency\": 2, \"value\": \"Agaetis Byrjun - ...\"}, \"Taste Test - Sleater-kinney\": {\"frequency\": 1, \"value\": \"Taste Test - ...\"}, \"Leader Of Men (Album Version) - Nickelback\": {\"frequency\": 1, \"value\": \"Leader Of Men ...\"}, \"Black Is My Color - I-Roy\": {\"frequency\": 2, \"value\": \"Black Is My Color ...\"}, \"Lovebug - Jonas Brothers\": {\"frequency\": 2, \"value\": \"Lovebug - Jonas ...\"}, \"Gimme Some - Big Tymers / TQ / Barewolf\": {\"frequency\": 2, \"value\": \"Gimme Some - Big ...\"}, \"Beginners Falafel - Flying Lotus\": {\"frequency\": 5, \"value\": \"Beginners Falafel ...\"}, \"Come On Over (All I Want Is You) - Christina Aguilera\": {\"frequency\": 1, \"value\": \"Come On Over (All ...\"}, \"Mad World - Tears For Fears\": {\"frequency\": 3, \"value\": \"Mad World - Tears ...\"}, \"If She Wants Me - Belle & Sebastian\": {\"frequency\": 4, \"value\": \"If She Wants Me - ...\"}, \"Movement - LCD Soundsystem\": {\"frequency\": 7, \"value\": \"Movement - LCD ...\"}, \"Axel F - Harold Faltermeyer\": {\"frequency\": 1, \"value\": \"Axel F - Harold ...\"}, \"High Of 75 (Album Version) - Relient K\": {\"frequency\": 3, \"value\": \"High Of 75 (Album ...\"}, \"Forgive Me - Leona Lewis\": {\"frequency\": 18, \"value\": \"Forgive Me - Leona ...\"}, \"You're In My Heart - Rhonda Vincent\": {\"frequency\": 5, \"value\": \"You're In My Heart ...\"}, \"Consolation Prizes - Phoenix\": {\"frequency\": 3, \"value\": \"Consolation Prizes ...\"}, \"Te Amo - Rihanna\": {\"frequency\": 3, \"value\": \"Te Amo - Rihanna\"}, \"Born To Be Wild - Steppenwolf\": {\"frequency\": 3, \"value\": \"Born To Be Wild - ...\"}, \"Goodbye Babylon - The Black Keys\": {\"frequency\": 4, \"value\": \"Goodbye Babylon - ...\"}, \"She Blinded Me With Science - Thomas Dolby\": {\"frequency\": 2, \"value\": \"She Blinded Me ...\"}, \"Woman In Chains - Tears For Fears / Oleta Adams\": {\"frequency\": 1, \"value\": \"Woman In Chains - ...\"}, \"Lady Marmalade - Labelle (featuring Patti Labelle)\": {\"frequency\": 3, \"value\": \"Lady Marmalade - ...\"}, \"You're A Cad - the bird and the bee\": {\"frequency\": 4, \"value\": \"You're A Cad - the ...\"}, \"It's Been Awhile (Clean Edit) - Staind\": {\"frequency\": 1, \"value\": \"It's Been Awhile ...\"}, \"False Pretense - The Red Jumpsuit Apparatus\": {\"frequency\": 1, \"value\": \"False Pretense - ...\"}, \"Roller Coaster - Blink-182\": {\"frequency\": 7, \"value\": \"Roller Coaster - ...\"}, \"Luz Dos Olhos - Nando Reis\": {\"frequency\": 13, \"value\": \"Luz Dos Olhos - ...\"}, \"Knocks Me Off My Feet - Stevie Wonder\": {\"frequency\": 4, \"value\": \"Knocks Me Off My ...\"}, \"Sunday Arak - Balkan Beat Box\": {\"frequency\": 12, \"value\": \"Sunday Arak - ...\"}, \"Keep Breathing - Redemption\": {\"frequency\": 5, \"value\": \"Keep Breathing - ...\"}, \"Spanish Caravan  [New Stereo Mix] (Advanced Resolution) - The Doors\": {\"frequency\": 7, \"value\": \"Spanish Caravan ...\"}, \"Holdin' It Down For The Underground - A Day To Remember\": {\"frequency\": 3, \"value\": \"Holdin' It Down ...\"}, \"Godlovesugly - Atmosphere\": {\"frequency\": 1, \"value\": \"Godlovesugly - ...\"}, \"John Blaze - Timbaland & Magoo\": {\"frequency\": 2, \"value\": \"John Blaze - ...\"}, \"Skeleton Song - Kate Nash\": {\"frequency\": 2, \"value\": \"Skeleton Song - ...\"}, \"Paradise City - Guns N' Roses\": {\"frequency\": 8, \"value\": \"Paradise City - ...\"}, \"Once In A Lifetime - Dragonforce\": {\"frequency\": 3, \"value\": \"Once In A Lifetime ...\"}, \"Invincible - Ok Go\": {\"frequency\": 1, \"value\": \"Invincible - Ok Go\"}, \"Something - Jim Sturgess\": {\"frequency\": 6, \"value\": \"Something - Jim ...\"}, \"The Devil's Been Busy (2007 Remastered LP Version) - Traveling Wilburys\": {\"frequency\": 3, \"value\": \"The Devil's Been ...\"}, \"Koop Island Blues - Koop\": {\"frequency\": 2, \"value\": \"Koop Island Blues ...\"}, \"2 Become 1 - Spice Girls\": {\"frequency\": 1, \"value\": \"2 Become 1 - Spice ...\"}, \"On a Neck_ On a Spit - Grizzly Bear\": {\"frequency\": 3, \"value\": \"On a Neck_ On a ...\"}, \"Armour Love - La Roux\": {\"frequency\": 11, \"value\": \"Armour Love - La ...\"}, \"Coming Your Way - Iration\": {\"frequency\": 31, \"value\": \"Coming Your Way - ...\"}, \"Modern world - Modern Lovers\": {\"frequency\": 21, \"value\": \"Modern world - ...\"}, \"Bent (LP Version) - matchbox twenty\": {\"frequency\": 4, \"value\": \"Bent (LP Version) ...\"}, \"My Propeller - Arctic Monkeys\": {\"frequency\": 9, \"value\": \"My Propeller - ...\"}, \"Son's Gonna Rise - Citizen Cope featuring Carlos Santana\": {\"frequency\": 2, \"value\": \"Son's Gonna Rise - ...\"}, \"My Friends (Album Version) - Red Hot Chili Peppers\": {\"frequency\": 9, \"value\": \"My Friends (Album ...\"}, \"The Beat Goes On - Britney Spears\": {\"frequency\": 1, \"value\": \"The Beat Goes On - ...\"}, \"Lasso - Phoenix\": {\"frequency\": 5, \"value\": \"Lasso - Phoenix\"}, \"Hoy Te Deje De Amar (copia) - Paulina Rubio\": {\"frequency\": 6, \"value\": \"Hoy Te Deje De ...\"}, \"Bottle And A Gun - Hollywood Undead\": {\"frequency\": 59, \"value\": \"Bottle And A Gun - ...\"}, \"The Modern Leper - Frightened Rabbit\": {\"frequency\": 5, \"value\": \"The Modern Leper - ...\"}, \"Settlin' - Sugarland\": {\"frequency\": 2, \"value\": \"Settlin' - ...\"}, \"On My Way Home - Enya\": {\"frequency\": 12, \"value\": \"On My Way Home - ...\"}, \"SATORI - Rodrigo y Gabriela\": {\"frequency\": 21, \"value\": \"SATORI - Rodrigo y ...\"}, \"La guitarra del joven soldado - Silvio Rodr\\ufffd\\ufffdguez\": {\"frequency\": 4, \"value\": \"La guitarra del ...\"}, \"Black Swan - Thom Yorke\": {\"frequency\": 3, \"value\": \"Black Swan - Thom ...\"}, \"See The Sun - Dido\": {\"frequency\": 7, \"value\": \"See The Sun - Dido\"}, \"Hot Boyz (w/ Dear Nora) - Casiotone For The Painfully Alone\": {\"frequency\": 2, \"value\": \"Hot Boyz (w/ Dear ...\"}, \"Me_ My Yoke And I - Damien Rice\": {\"frequency\": 2, \"value\": \"Me_ My Yoke And I ...\"}, \"Biscuit - Portishead\": {\"frequency\": 9, \"value\": \"Biscuit - ...\"}, \"Gotta Eat (Explicit Album Version) - Lupe Fiasco\": {\"frequency\": 10, \"value\": \"Gotta Eat ...\"}, \"Aguas De Marco - Jo\\ufffd\\ufffdo Gilberto\": {\"frequency\": 18, \"value\": \"Aguas De Marco - ...\"}, \"Change Down / The Sugar Rhyme - Bonobo\": {\"frequency\": 2, \"value\": \"Change Down / The ...\"}, \"Matenme Porque Me Muero - Caifanes\": {\"frequency\": 9, \"value\": \"Matenme Porque Me ...\"}, \"No Te Rindas - Alex Ubago\": {\"frequency\": 7, \"value\": \"No Te Rindas - ...\"}, \"I Want You - Kings Of Leon\": {\"frequency\": 5, \"value\": \"I Want You - Kings ...\"}, \"Twenty Three - Four Tet\": {\"frequency\": 1, \"value\": \"Twenty Three - ...\"}, \"Mistica - Orishas\": {\"frequency\": 5, \"value\": \"Mistica - Orishas\"}, \"On The Radio (Album Version) - Regina Spektor\": {\"frequency\": 18, \"value\": \"On The Radio ...\"}, \"On Repeat - LCD Soundsystem\": {\"frequency\": 5, \"value\": \"On Repeat - LCD ...\"}, \"Broken Hearts - Kiss Kiss Kiss\": {\"frequency\": 2, \"value\": \"Broken Hearts - ...\"}, \"Blame It On The Tetons - Modest Mouse\": {\"frequency\": 22, \"value\": \"Blame It On The ...\"}, \"Musti Sotakoira (2007 Digital Remaster) - Kollaa Kest\\ufffd\\ufffd\\ufffd\\ufffd\": {\"frequency\": 2, \"value\": \"Musti Sotakoira ...\"}, \"El Chubasco - Carlos Y Jos\\ufffd\\ufffd\": {\"frequency\": 1, \"value\": \"El Chubasco - ...\"}, \"Let U Go - ATB\": {\"frequency\": 1, \"value\": \"Let U Go - ATB\"}, \"Don't Think I Don't Think About It - Darius Rucker\": {\"frequency\": 4, \"value\": \"Don't Think I ...\"}, \"Lalibela - Caribou\": {\"frequency\": 4, \"value\": \"Lalibela - Caribou\"}, \"Friend Of A Friend - Foo Fighters\": {\"frequency\": 5, \"value\": \"Friend Of A Friend ...\"}, \"I Feel So Fine  - KMC Feat. Dhany\": {\"frequency\": 4, \"value\": \"I Feel So Fine  - ...\"}, \"Naked As We Can - Iron And Wine\": {\"frequency\": 2, \"value\": \"Naked As We Can - ...\"}, \"East Infection - Gogol Bordello\": {\"frequency\": 2, \"value\": \"East Infection - ...\"}, \"Sitting - Cat Stevens\": {\"frequency\": 11, \"value\": \"Sitting - Cat ...\"}, \"Ruska - Apocalyptica\": {\"frequency\": 20, \"value\": \"Ruska - ...\"}, \"A Kiss Is Not A Contract (Album Version) - Flight Of The Conchords\": {\"frequency\": 13, \"value\": \"A Kiss Is Not A ...\"}, \"Exchange - Massive Attack\": {\"frequency\": 8, \"value\": \"Exchange - Massive ...\"}, \"It's Good To Be In Love - Frou Frou\": {\"frequency\": 5, \"value\": \"It's Good To Be In ...\"}, \"Sun Moon And Stars - Thievery Corporation\": {\"frequency\": 1, \"value\": \"Sun Moon And Stars ...\"}, \"White Room - Cream\": {\"frequency\": 1, \"value\": \"White Room - Cream\"}, \"Undo - Bj\\ufffd\\ufffdrk\": {\"frequency\": 2513, \"value\": \"Undo - Bj\\u00f6rk\"}, \"240 Years Before Your Time - The Black Keys\": {\"frequency\": 14, \"value\": \"240 Years Before ...\"}, \"La Maison De Mes Parents (Edit) - Ours\": {\"frequency\": 14, \"value\": \"La Maison De Mes ...\"}, \"Addicted - Enrique Iglesias\": {\"frequency\": 3, \"value\": \"Addicted - Enrique ...\"}, \"Some Kind Of Wonderful (Non-Album Track) - Michael Bubl\\ufffd\\ufffd\": {\"frequency\": 5, \"value\": \"Some Kind Of ...\"}, \"Fire And Rain - James Taylor\": {\"frequency\": 2, \"value\": \"Fire And Rain - ...\"}, \"Picture U & Me - Mo B. Dick\": {\"frequency\": 5, \"value\": \"Picture U & Me - ...\"}, \"I'm In Miami Bitch - LMFAO\": {\"frequency\": 6, \"value\": \"I'm In Miami Bitch ...\"}, \"I Heard Love Is Blind - Amy Winehouse\": {\"frequency\": 4, \"value\": \"I Heard Love Is ...\"}, \"J.E.E.Z.Y. - Young Jeezy\": {\"frequency\": 1, \"value\": \"J.E.E.Z.Y. - Young ...\"}, \"clouding - Four Tet\": {\"frequency\": 1, \"value\": \"clouding - Four ...\"}, \"Beautiful Day Without You - R\\ufffd\\ufffdyksopp\": {\"frequency\": 7, \"value\": \"Beautiful Day ...\"}, \"Val's Blues (Digitally Remastered) - Louis Smith\": {\"frequency\": 14, \"value\": \"Val's Blues ...\"}, \"So I Need You - 3 Doors Down\": {\"frequency\": 1, \"value\": \"So I Need You - 3 ...\"}, \"Your Love Is King - Sade\": {\"frequency\": 2, \"value\": \"Your Love Is King ...\"}, \"Reckless Life - Guns N' Roses\": {\"frequency\": 3, \"value\": \"Reckless Life - ...\"}, \"Lose My Soul feat. Kirk Franklin & Mandisa / Afterparty - tobyMac\": {\"frequency\": 1, \"value\": \"Lose My Soul feat. ...\"}, \"This Bitter Pill - Dashboard Confessional\": {\"frequency\": 3, \"value\": \"This Bitter Pill - ...\"}, \"Jackie_ Dressed In Cobras - The New Pornographers\": {\"frequency\": 2, \"value\": \"Jackie_ Dressed In ...\"}, \"If You Wanted A Song Written About You_ All You Had To Do Was Ask (Album) - Mayday Parade\": {\"frequency\": 8, \"value\": \"If You Wanted A ...\"}, \"Gently Turned on Your Head - The Mercury Program\": {\"frequency\": 3, \"value\": \"Gently Turned on ...\"}, \"ICH TU DIR WEH - Rammstein\": {\"frequency\": 1, \"value\": \"ICH TU DIR WEH - ...\"}, \"Gente Que No - Los Aut\\ufffd\\ufffdnticos Decadentes\": {\"frequency\": 2, \"value\": \"Gente Que No - Los ...\"}, \"Living In Colour - Frightened Rabbit\": {\"frequency\": 1, \"value\": \"Living In Colour - ...\"}, \"Carries On - Edward Sharpe & The Magnetic Zeros\": {\"frequency\": 7, \"value\": \"Carries On - ...\"}, \"Kiss Kiss - Chris Brown featuring T-Pain\": {\"frequency\": 1, \"value\": \"Kiss Kiss - Chris ...\"}, \"Reasons Why - Nickel Creek\": {\"frequency\": 11, \"value\": \"Reasons Why - ...\"}, \"The Good Left Undone - Rise Against\": {\"frequency\": 2, \"value\": \"The Good Left ...\"}, \"Fear And Love - Morcheeba\": {\"frequency\": 1, \"value\": \"Fear And Love - ...\"}, \"Window Blues (Album) - Band Of Horses\": {\"frequency\": 22, \"value\": \"Window Blues ...\"}, \"Olsen Olsen - Sigur Ros\": {\"frequency\": 6, \"value\": \"Olsen Olsen - ...\"}, \"The Little Things Give You Away [Live At Milton Keynes] - Linkin Park\": {\"frequency\": 3, \"value\": \"The Little Things ...\"}, \"(iii) - The Gerbils\": {\"frequency\": 1, \"value\": \"(iii) - The ...\"}, \"Union House Branch - Alison Krauss / Union Station\": {\"frequency\": 9, \"value\": \"Union House Branch ...\"}, \"The Unwinding Cable Car - Anberlin\": {\"frequency\": 8, \"value\": \"The Unwinding ...\"}, \"Hips Don't Lie - Shakira ft. Wyclef Jean\": {\"frequency\": 1, \"value\": \"Hips Don't Lie - ...\"}, \"Right Where I Need To Be - Gary Allan\": {\"frequency\": 2, \"value\": \"Right Where I Need ...\"}, \"Product Man - Swizz Beatz\": {\"frequency\": 14, \"value\": \"Product Man - ...\"}, \"Weihnacht in mein Elternhaus - Piratensound\": {\"frequency\": 7, \"value\": \"Weihnacht in mein ...\"}, \"Each Coming Night - Iron & Wine\": {\"frequency\": 5, \"value\": \"Each Coming Night ...\"}, \"Phantom Limb (Album) - The Shins\": {\"frequency\": 1, \"value\": \"Phantom Limb ...\"}, \"All Ears - The Whitest Boy Alive\": {\"frequency\": 14, \"value\": \"All Ears - The ...\"}, \"Him - Lily Allen\": {\"frequency\": 13, \"value\": \"Him - Lily Allen\"}, \"Cry Me A River - Justin Timberlake\": {\"frequency\": 3, \"value\": \"Cry Me A River - ...\"}, \"Thank You Stars - Katie Melua\": {\"frequency\": 32, \"value\": \"Thank You Stars - ...\"}, \"Down On The Street - Rage Against The Machine\": {\"frequency\": 1, \"value\": \"Down On The Street ...\"}, \"The Sky's Ablaze - Was (Not Was)\": {\"frequency\": 2, \"value\": \"The Sky's Ablaze - ...\"}, \"He Can Only Hold Her - Amy Winehouse\": {\"frequency\": 8, \"value\": \"He Can Only Hold ...\"}, \"Sulk - Billy Bragg\": {\"frequency\": 4, \"value\": \"Sulk - Billy Bragg\"}, \"In Her Eyes (Album Version) - Josh Groban\": {\"frequency\": 6, \"value\": \"In Her Eyes (Album ...\"}, \"The Worm - Audioslave\": {\"frequency\": 11, \"value\": \"The Worm - ...\"}, \"In The Flesh - Blondie\": {\"frequency\": 4, \"value\": \"In The Flesh - ...\"}, \"Colors Of The Wind - Vanessa Williams\": {\"frequency\": 2, \"value\": \"Colors Of The Wind ...\"}, \"I Felt My Life With Both My Hands (Album) - Carla Bruni\": {\"frequency\": 10, \"value\": \"I Felt My Life ...\"}, \"Exhausted - Foo Fighters\": {\"frequency\": 3, \"value\": \"Exhausted - Foo ...\"}, \"That Should Be Me - Justin Bieber\": {\"frequency\": 32, \"value\": \"That Should Be Me ...\"}, \"You Got Lucky - Tom Petty And The Heartbreakers\": {\"frequency\": 15, \"value\": \"You Got Lucky - ...\"}, \"Falling Inside The Black (Album Version) - Skillet\": {\"frequency\": 8, \"value\": \"Falling Inside The ...\"}, \"Nearly Home - Lange\": {\"frequency\": 16, \"value\": \"Nearly Home - ...\"}, \"Boom (2006 Remastered Album Version) - P.O.D.\": {\"frequency\": 2, \"value\": \"Boom (2006 ...\"}, \"Headlights Look Like Diamonds - Arcade Fire\": {\"frequency\": 3, \"value\": \"Headlights Look ...\"}, \"Simple As... - Kid Cudi\": {\"frequency\": 8, \"value\": \"Simple As... - Kid ...\"}, \"Fiesta De Locos - Calle 13\": {\"frequency\": 4, \"value\": \"Fiesta De Locos - ...\"}, \"Knights - Crystal Castles\": {\"frequency\": 9, \"value\": \"Knights - Crystal ...\"}, \"Losing My Ground - Fergie\": {\"frequency\": 1, \"value\": \"Losing My Ground - ...\"}, \"People Of The Sun - Rage Against The Machine\": {\"frequency\": 4, \"value\": \"People Of The Sun ...\"}, \"143 - Musiq\": {\"frequency\": 28, \"value\": \"143 - Musiq\"}, \"Rome Wasn't Built In A Day - Morcheeba\": {\"frequency\": 1, \"value\": \"Rome Wasn't Built ...\"}, \"Mission's Message - Throw Rag\": {\"frequency\": 6, \"value\": \"Mission's Message ...\"}, \"For You - Coldplay\": {\"frequency\": 16, \"value\": \"For You - Coldplay\"}, \"Goodnight Bad Morning - The Kills\": {\"frequency\": 6, \"value\": \"Goodnight Bad ...\"}, \"Not So Usual (Eagles Ballroom Live Version) - Jason Mraz\": {\"frequency\": 7, \"value\": \"Not So Usual ...\"}, \"Fences - Phoenix\": {\"frequency\": 29, \"value\": \"Fences - Phoenix\"}, \"Auditorium - Mos Def / Slick Rick\": {\"frequency\": 1, \"value\": \"Auditorium - Mos ...\"}, \"Harlem Streets - Immortal Technique\": {\"frequency\": 4, \"value\": \"Harlem Streets - ...\"}, \"June 9th - Boards of Canada\": {\"frequency\": 1, \"value\": \"June 9th - Boards ...\"}, \"Brand New Day - No Doubt\": {\"frequency\": 9, \"value\": \"Brand New Day - No ...\"}, \"Bullets - Creed\": {\"frequency\": 1, \"value\": \"Bullets - Creed\"}, \"Introduce Yourself - Faith No More\": {\"frequency\": 4, \"value\": \"Introduce Yourself ...\"}, \"Hell Yeah Featuring P. Diddy (Explicit Album Version) - Yung Joc featuring Diddy\": {\"frequency\": 2, \"value\": \"Hell Yeah ...\"}, \"The Way I Feel Inside - The Zombies\": {\"frequency\": 2, \"value\": \"The Way I Feel ...\"}, \"Knife Prty (LP Version) - Deftones\": {\"frequency\": 10, \"value\": \"Knife Prty (LP ...\"}, \"Black Jack County Chains - The Del McCoury Band\": {\"frequency\": 21, \"value\": \"Black Jack County ...\"}, \"The Way Things Go - Octopus Project\": {\"frequency\": 3, \"value\": \"The Way Things Go ...\"}, \"Wait And Bleed (Album Version) - Slipknot\": {\"frequency\": 3, \"value\": \"Wait And Bleed ...\"}, \"Natalie's Rap - The Lonely Island / Natalie Portman / Chris Parnell\": {\"frequency\": 11, \"value\": \"Natalie's Rap - ...\"}, \"I'm In Love (Single/LP Version) - Wilson Pickett\": {\"frequency\": 17, \"value\": \"I'm In Love ...\"}, \"Raspberry Beret - Prince\": {\"frequency\": 35, \"value\": \"Raspberry Beret - ...\"}, \"Over And Over (Maurice Fulton Dub) - Hot Chip\": {\"frequency\": 3, \"value\": \"Over And Over ...\"}, \"Another Day In Paradise - Phil Collins\": {\"frequency\": 1, \"value\": \"Another Day In ...\"}, \"Walkabout - Blue States\": {\"frequency\": 8, \"value\": \"Walkabout - Blue ...\"}, \"Don't Know What You Got (Till It's Gone) - Cinderella\": {\"frequency\": 1, \"value\": \"Don't Know What ...\"}, \"Creil City - Alliance Ethnik\": {\"frequency\": 58, \"value\": \"Creil City - ...\"}, \"Sleep Now In The Fire - Rage Against The Machine\": {\"frequency\": 3, \"value\": \"Sleep Now In The ...\"}, \"Crazy On You - Heart\": {\"frequency\": 5, \"value\": \"Crazy On You - ...\"}, \"Hot Summer (Radio Edit) - Monrose\": {\"frequency\": 17, \"value\": \"Hot Summer (Radio ...\"}, \"Clenching The Fists Of Dissent (Explicit Album Version) - Machine Head\": {\"frequency\": 4, \"value\": \"Clenching The ...\"}, \"Y\\ufffd\\ufffdn hetket - Y\\ufffd\\ufffdlintu\": {\"frequency\": 2, \"value\": \"Y\\u00f6n hetket - ...\"}, \"Rush Minute - Massive Attack\": {\"frequency\": 5, \"value\": \"Rush Minute - ...\"}, \"Till It Happens To You - Corinne Bailey Rae\": {\"frequency\": 1, \"value\": \"Till It Happens To ...\"}, \"When You Say You Love Me (Album Version) - Josh Groban\": {\"frequency\": 4, \"value\": \"When You Say You ...\"}, \"The Pretender - Foo Fighters\": {\"frequency\": 4, \"value\": \"The Pretender - ...\"}, \"Golden Age - TV On The Radio\": {\"frequency\": 4, \"value\": \"Golden Age - TV On ...\"}, \"Breathe - U2\": {\"frequency\": 1, \"value\": \"Breathe - U2\"}, \"All The Right Moves - OneRepublic\": {\"frequency\": 2, \"value\": \"All The Right ...\"}, \"World Spins Madly On - The Weepies\": {\"frequency\": 4, \"value\": \"World Spins Madly ...\"}, \"Guaranteed - Eddie Vedder\": {\"frequency\": 1, \"value\": \"Guaranteed - Eddie ...\"}, \"Keep Our Ring - Sunlounger\": {\"frequency\": 2, \"value\": \"Keep Our Ring - ...\"}, \"Fast Forward - Decadence\": {\"frequency\": 4, \"value\": \"Fast Forward - ...\"}, \"Auto-Dub - Skream\": {\"frequency\": 19, \"value\": \"Auto-Dub - Skream\"}, \"Andalucia - Medina Azahara\": {\"frequency\": 11, \"value\": \"Andalucia - Medina ...\"}, \"Music When The Lights Go Out - The Libertines\": {\"frequency\": 6, \"value\": \"Music When The ...\"}, \"The Webs We Weave - Escape The Fate\": {\"frequency\": 22, \"value\": \"The Webs We Weave ...\"}, \"The District Sleeps Alone Tonight (Album) - Postal Service\": {\"frequency\": 3, \"value\": \"The District ...\"}, \"\\ufffd\\ufffdpoca - Gotan Project\": {\"frequency\": 14, \"value\": \"\\u00c9poca - Gotan ...\"}, \"Heaven Beside You - Alice In Chains\": {\"frequency\": 10, \"value\": \"Heaven Beside You ...\"}, \"It's Dangerous Business Walking Out Your Front Door - Underoath\": {\"frequency\": 3, \"value\": \"It's Dangerous ...\"}, \"Gunn Clapp - O.G.C.\": {\"frequency\": 24, \"value\": \"Gunn Clapp - ...\"}, \"Can't Make You Love Me - Britney Spears\": {\"frequency\": 1, \"value\": \"Can't Make You ...\"}, \"Bass Solo - Incubus\": {\"frequency\": 5, \"value\": \"Bass Solo - ...\"}, \"El pu\\ufffd\\ufffdal y el coraz\\ufffd\\ufffdn - Caf\\ufffd\\ufffd Tacvba\": {\"frequency\": 2, \"value\": \"El pu\\u00f1al y el ...\"}, \"Till The Sky Falls Down - Dash Berlin\": {\"frequency\": 3, \"value\": \"Till The Sky Falls ...\"}, \"Sleeping Sickness - City And Colour\": {\"frequency\": 3, \"value\": \"Sleeping Sickness ...\"}, \"I'm Not Waiting In Line - Train\": {\"frequency\": 3, \"value\": \"I'm Not Waiting In ...\"}, \"Overrated - Three Days Grace\": {\"frequency\": 14, \"value\": \"Overrated - Three ...\"}, \"Think About You - Guns N' Roses\": {\"frequency\": 3, \"value\": \"Think About You - ...\"}, \"My Rights Versus Yours - The New Pornographers\": {\"frequency\": 3, \"value\": \"My Rights Versus ...\"}, \"The Day and the Time (featuring Gustavo Cerati) - Shakira\": {\"frequency\": 1, \"value\": \"The Day and the ...\"}, \"Perderte De Nuevo - Camila\": {\"frequency\": 29, \"value\": \"Perderte De Nuevo ...\"}, \"Solid State - Menno De Jong feat. Relocate\": {\"frequency\": 31, \"value\": \"Solid State - ...\"}, \"Escape From Hellview - CKY\": {\"frequency\": 2, \"value\": \"Escape From ...\"}, \"Kabuki Girl - Descendents\": {\"frequency\": 1, \"value\": \"Kabuki Girl - ...\"}, \"Heaven - Bryan Adams\": {\"frequency\": 1, \"value\": \"Heaven - Bryan ...\"}, \"When You're Gone - Avril Lavigne\": {\"frequency\": 3, \"value\": \"When You're Gone - ...\"}, \"Bigger Isn't Better - The String Cheese Incident\": {\"frequency\": 55, \"value\": \"Bigger Isn't ...\"}, \"The Chimbley Sweep - The Decemberists\": {\"frequency\": 7, \"value\": \"The Chimbley Sweep ...\"}, \"It's My Life - Talk Talk\": {\"frequency\": 1, \"value\": \"It's My Life - ...\"}, \"Spectre - Non\": {\"frequency\": 27, \"value\": \"Spectre - Non\"}, \"Give Me Your Eyes - Brandon Heath\": {\"frequency\": 6, \"value\": \"Give Me Your Eyes ...\"}, \"Say It Ain't So - Weezer\": {\"frequency\": 20, \"value\": \"Say It Ain't So - ...\"}, \"Bullet Proof - Morcheeba\": {\"frequency\": 5, \"value\": \"Bullet Proof - ...\"}, \"Drop It Low - Ester Dean / Chris Brown\": {\"frequency\": 1, \"value\": \"Drop It Low - ...\"}, \"If You Could Only See - Tonic\": {\"frequency\": 3, \"value\": \"If You Could Only ...\"}, \"Next To You - The Police\": {\"frequency\": 19, \"value\": \"Next To You - The ...\"}, \"Ocean And Atlantic (Album) - Mayday Parade\": {\"frequency\": 3, \"value\": \"Ocean And Atlantic ...\"}, \"Cry - Godley & Creme\": {\"frequency\": 2, \"value\": \"Cry - Godley & ...\"}, \"Let's Get Back - No Doubt\": {\"frequency\": 20, \"value\": \"Let's Get Back - ...\"}, \"Just The Two Of Us (WSM Compilation Edit) - Grover Washington Jr. feat. Bill Withers\": {\"frequency\": 1, \"value\": \"Just The Two Of Us ...\"}, \"You're Crazy - Guns N' Roses\": {\"frequency\": 11, \"value\": \"You're Crazy - ...\"}, \"Jigsaw Falling Into Place - Radiohead\": {\"frequency\": 26, \"value\": \"Jigsaw Falling ...\"}, \"Hearts On Fire - Cut Copy\": {\"frequency\": 3, \"value\": \"Hearts On Fire - ...\"}, \"Dog Days Are Over (Radio Edit) - Florence + The Machine\": {\"frequency\": 290, \"value\": \"Dog Days Are Over ...\"}, \"Everybody Wants You (1995 Digital Remaster) - Billy Squier\": {\"frequency\": 2, \"value\": \"Everybody Wants ...\"}, \"Where You From? - Rin\\ufffd\\ufffd\\ufffd\\ufffd\\ufffd\\ufffdr\\ufffd\\ufffdse / Mark Gardener\": {\"frequency\": 4, \"value\": \"Where You From? - ...\"}, \"Wake For Young Souls - Third Eye Blind\": {\"frequency\": 2, \"value\": \"Wake For Young ...\"}, \"Sweet Home Chicago - The Blues Brothers\": {\"frequency\": 11, \"value\": \"Sweet Home Chicago ...\"}, \"Weak And Powerless - A Perfect Circle\": {\"frequency\": 21, \"value\": \"Weak And Powerless ...\"}, \"Eleven (Album Version) - Jaco Pastorius\": {\"frequency\": 2, \"value\": \"Eleven (Album ...\"}, \"Ex Lover - Friendly Fires\": {\"frequency\": 2, \"value\": \"Ex Lover - ...\"}, \"Watching The Detectives - Elvis Costello\": {\"frequency\": 1, \"value\": \"Watching The ...\"}, \"Bolinha De Papel - Jo\\ufffd\\ufffdo Gilberto\": {\"frequency\": 14, \"value\": \"Bolinha De Papel - ...\"}, \"Insane - Eminem\": {\"frequency\": 2, \"value\": \"Insane - Eminem\"}, \"Two Coins - Dispatch\": {\"frequency\": 15, \"value\": \"Two Coins - ...\"}, \"Settle For A Slowdown - Dierks Bentley\": {\"frequency\": 3, \"value\": \"Settle For A ...\"}, \"Above You - The Whitest Boy Alive\": {\"frequency\": 5, \"value\": \"Above You - The ...\"}, \"Sea Legs (Album) - The Shins\": {\"frequency\": 10, \"value\": \"Sea Legs (Album) - ...\"}, \"I Wanna Love You - Akon / Snoop Dogg\": {\"frequency\": 2, \"value\": \"I Wanna Love You - ...\"}, \"Prelude - The Decemberists\": {\"frequency\": 1, \"value\": \"Prelude - The ...\"}, \"Young Folks - Peter_ Bjorn and John Featuring Victoria Bergsman\": {\"frequency\": 1, \"value\": \"Young Folks - ...\"}, \"Incredibad - The Lonely Island\": {\"frequency\": 8, \"value\": \"Incredibad - The ...\"}, \"Arcade Robot - Boys Noize\": {\"frequency\": 3, \"value\": \"Arcade Robot - ...\"}, \"Manuel - The Car Is On Fire\": {\"frequency\": 1, \"value\": \"Manuel - The Car ...\"}, \"Marry Me - Train\": {\"frequency\": 144, \"value\": \"Marry Me - Train\"}, \"Estadio Azteca - Andres Calamaro\": {\"frequency\": 15, \"value\": \"Estadio Azteca - ...\"}, \"Rainin' You - Brad Paisley\": {\"frequency\": 1, \"value\": \"Rainin' You - Brad ...\"}, \"Bleeding Me - Metallica\": {\"frequency\": 1, \"value\": \"Bleeding Me - ...\"}, \"Undercover Martyn - Two Door Cinema Club\": {\"frequency\": 4, \"value\": \"Undercover Martyn ...\"}, \"Red Dirt Road - Brooks & Dunn\": {\"frequency\": 1, \"value\": \"Red Dirt Road - ...\"}, \"Baby M - Marumari\": {\"frequency\": 1, \"value\": \"Baby M - Marumari\"}, \"Put Your Hands Up For Detroit - Fedde Le Grand\": {\"frequency\": 1, \"value\": \"Put Your Hands Up ...\"}, \"Sympathique - Pink Martini\": {\"frequency\": 4, \"value\": \"Sympathique - Pink ...\"}, \"Speechless (Album Version) - The Veronicas\": {\"frequency\": 4, \"value\": \"Speechless (Album ...\"}, \"Teen Angst - M83\": {\"frequency\": 1, \"value\": \"Teen Angst - M83\"}, \"Hidden Agenda - Craig David\": {\"frequency\": 2, \"value\": \"Hidden Agenda - ...\"}, \"The Hardest Button To Button - The White Stripes\": {\"frequency\": 5, \"value\": \"The Hardest Button ...\"}, \"Destiny - Zero 7\": {\"frequency\": 1, \"value\": \"Destiny - Zero 7\"}, \"Easier - Grizzly Bear\": {\"frequency\": 10, \"value\": \"Easier - Grizzly ...\"}, \"Was It Worth It? - Keyshia Cole\": {\"frequency\": 3, \"value\": \"Was It Worth It? - ...\"}, \"Welk - Bohren & Der Club Of Gore\": {\"frequency\": 41, \"value\": \"Welk - Bohren & ...\"}, \"Come As You Are - Nirvana\": {\"frequency\": 19, \"value\": \"Come As You Are - ...\"}, \"Halo - Beyonc\\ufffd\\ufffd\": {\"frequency\": 3, \"value\": \"Halo - Beyonc\\u00e9\"}, \"Strong Will Continue - Nas / Damian \\\"Jr. Gong\\\" Marley\": {\"frequency\": 1, \"value\": \"Strong Will ...\"}, \"Conspiracy (Album Version) - Paramore\": {\"frequency\": 31, \"value\": \"Conspiracy (Album ...\"}, \"A fuego lento - Rosana\": {\"frequency\": 4, \"value\": \"A fuego lento - ...\"}, \"Bom_ Bom - Suenan - Freddy Fader meets Locana\": {\"frequency\": 2, \"value\": \"Bom_ Bom - Suenan ...\"}, \"Horse With No Name - America\": {\"frequency\": 1, \"value\": \"Horse With No Name ...\"}, \"Amish Paradise (Parody of \\\"Gangsta's Paradise\\\" by Coolio) - Weird Al Yankovic\": {\"frequency\": 2, \"value\": \"Amish Paradise ...\"}, \"Tu Vicio - Charly Garc\\ufffd\\ufffda\": {\"frequency\": 25, \"value\": \"Tu Vicio - Charly ...\"}, \"New Direction (Original Version) - Echo And The Bunnymen\": {\"frequency\": 11, \"value\": \"New Direction ...\"}, \"Breathe . Something/Stellar STar - Flying Lotus\": {\"frequency\": 5, \"value\": \"Breathe . ...\"}, \"Horseshoes And Handgrenades (Album Version) - Green Day\": {\"frequency\": 1, \"value\": \"Horseshoes And ...\"}, \"Bloody Well Right - Supertramp\": {\"frequency\": 24, \"value\": \"Bloody Well Right ...\"}, \"Adir Adirim (Featuring Victoria Hanna) - Balkan Beat Box\": {\"frequency\": 13, \"value\": \"Adir Adirim ...\"}, \"Skit Kuba - Vienio & Pele\": {\"frequency\": 5, \"value\": \"Skit Kuba - Vienio ...\"}, \"Donde Estas Corazon - Shakira\": {\"frequency\": 46, \"value\": \"Donde Estas ...\"}, \"Ghosts - Laura Marling\": {\"frequency\": 2, \"value\": \"Ghosts - Laura ...\"}, \"Respect (Amended Version) - The Notorious B.I.G.\": {\"frequency\": 14, \"value\": \"Respect (Amended ...\"}, \"Monkey Gone To Heaven - Pixies\": {\"frequency\": 23, \"value\": \"Monkey Gone To ...\"}, \"Mar\\ufffd\\ufffda - Caf\\ufffd\\ufffd Tacvba\": {\"frequency\": 5, \"value\": \"Mar\\u00eda - Caf\\u00e9 ...\"}, \"My Heart Will Go On - C\\ufffd\\ufffdline Dion\": {\"frequency\": 1, \"value\": \"My Heart Will Go ...\"}, \"Nightshift - Commodores\": {\"frequency\": 1, \"value\": \"Nightshift - ...\"}, \"La Valse D'Am\\ufffd\\ufffdlie (Version Orchestre) - Yann Tiersen\": {\"frequency\": 3, \"value\": \"La Valse D'Am\\u00e9lie ...\"}, \"Fire - Scooter\": {\"frequency\": 14, \"value\": \"Fire - Scooter\"}, \"Tabaco Y Chanel - Bacilos\": {\"frequency\": 14, \"value\": \"Tabaco Y Chanel - ...\"}, \"The Fox - Nickel Creek\": {\"frequency\": 8, \"value\": \"The Fox - Nickel ...\"}, \"Frankly_ Mr. Shankly - The Smiths\": {\"frequency\": 4, \"value\": \"Frankly_ Mr. ...\"}, \"Red Cave - Yeasayer\": {\"frequency\": 4, \"value\": \"Red Cave - ...\"}, \"The Evil That Men Do (1998 Digital Remaster) - Iron Maiden\": {\"frequency\": 3, \"value\": \"The Evil That Men ...\"}, \"Back To Life (Album Version) - Rock Kills Kid\": {\"frequency\": 16, \"value\": \"Back To Life ...\"}, \"Dirty Movies\\\" (Album Version) - Van Halen\": {\"frequency\": 2, \"value\": \"Dirty Movies\\\" ...\"}, \"Everyday Struggle (Album Version) - The Notorious B.I.G.\": {\"frequency\": 1, \"value\": \"Everyday Struggle ...\"}, \"Flacana 16 - Melodium\": {\"frequency\": 12, \"value\": \"Flacana 16 - ...\"}, \"Strange Days - The Doors\": {\"frequency\": 11, \"value\": \"Strange Days - The ...\"}, \"I'm Letting Go (Album) - Francesca Battistelli\": {\"frequency\": 5, \"value\": \"I'm Letting Go ...\"}, \"Who Did You Think I Was - John Mayer\": {\"frequency\": 1, \"value\": \"Who Did You Think ...\"}, \"Clap Again - Akon\": {\"frequency\": 3, \"value\": \"Clap Again - Akon\"}, \"Melatonin - Radiohead\": {\"frequency\": 2, \"value\": \"Melatonin - ...\"}, \"Hum Hallelujah - Fall Out Boy\": {\"frequency\": 5, \"value\": \"Hum Hallelujah - ...\"}, \"Owl Eyes - Devendra Banhart\": {\"frequency\": 4, \"value\": \"Owl Eyes - ...\"}, \"Golden Diva - Flying Lotus\": {\"frequency\": 1, \"value\": \"Golden Diva - ...\"}, \"Not Miserable - Frightened Rabbit\": {\"frequency\": 1, \"value\": \"Not Miserable - ...\"}, \"RoboCop - Kanye West\": {\"frequency\": 7, \"value\": \"RoboCop - Kanye ...\"}, \"Going Away To College - Blink-182\": {\"frequency\": 4, \"value\": \"Going Away To ...\"}, \"The Lost Get Found - Britt Nicole\": {\"frequency\": 1, \"value\": \"The Lost Get Found ...\"}, \"Le Toi Du Moi - Carla Bruni\": {\"frequency\": 20, \"value\": \"Le Toi Du Moi - ...\"}, \"Let Me Go - Cake\": {\"frequency\": 1, \"value\": \"Let Me Go - Cake\"}, \"Taste In Men - Placebo\": {\"frequency\": 8, \"value\": \"Taste In Men - ...\"}, \"What Happened to You? - The Offspring\": {\"frequency\": 2, \"value\": \"What Happened to ...\"}, \"Dreams-Come-True-Girl - Cass McCombs feat. Karen Black\": {\"frequency\": 12, \"value\": \"Dreams-Come-True- ...\"}, \"'Round Midnight - Miles Davis\": {\"frequency\": 2, \"value\": \"'Round Midnight - ...\"}, \"Crazy Eyes - Old Crow Medicine Show\": {\"frequency\": 2, \"value\": \"Crazy Eyes - Old ...\"}, \"Pervert Pop Song (feat. Ximena Sari\\ufffd\\ufffdana and Patricia Lynn) - Plastilina Mosh_ Ximena Sari\\ufffd\\ufffdana_ Patricia Lynn\": {\"frequency\": 1, \"value\": \"Pervert Pop Song ...\"}, \"Hallowed Be My Name - HAMMERFALL\": {\"frequency\": 17, \"value\": \"Hallowed Be My ...\"}, \"I Forgot To Be Your Lover - William Bell\": {\"frequency\": 3, \"value\": \"I Forgot To Be ...\"}, \"Daytona Demon - Suzi Quatro\": {\"frequency\": 1, \"value\": \"Daytona Demon - ...\"}, \"Volare (Nel blu di pinto Di blu) - Gipsy Kings\": {\"frequency\": 2, \"value\": \"Volare (Nel blu di ...\"}, \"Strange Desire - The Black Keys\": {\"frequency\": 4, \"value\": \"Strange Desire - ...\"}, \"Lovers And Friends - Lil Jon & The East Side Boyz / Ludacris / Usher\": {\"frequency\": 2, \"value\": \"Lovers And Friends ...\"}, \"I And Love And You - The Avett Brothers\": {\"frequency\": 33, \"value\": \"I And Love And You ...\"}, \"I Stay In Love - Mariah Carey\": {\"frequency\": 9, \"value\": \"I Stay In Love - ...\"}, \"Thieves - She & Him\": {\"frequency\": 2, \"value\": \"Thieves - She & ...\"}, \"The Flame - The Black Keys\": {\"frequency\": 2, \"value\": \"The Flame - The ...\"}, \"Help Yourself - Amy Winehouse\": {\"frequency\": 6, \"value\": \"Help Yourself - ...\"}, \"J.Icaro - Ni\\ufffd\\ufffdos Mutantes\": {\"frequency\": 1, \"value\": \"J.Icaro - Ni\\u00f1os ...\"}, \"Cassie - Flyleaf\": {\"frequency\": 14, \"value\": \"Cassie - Flyleaf\"}, \"The Kiss - Eminem\": {\"frequency\": 8, \"value\": \"The Kiss - Eminem\"}, \"Out Of Exile - Audioslave\": {\"frequency\": 1, \"value\": \"Out Of Exile - ...\"}, \"Otherside (Album Version) - Red Hot Chili Peppers\": {\"frequency\": 8, \"value\": \"Otherside (Album ...\"}, \"Lights And Sounds - Yellowcard\": {\"frequency\": 8, \"value\": \"Lights And Sounds ...\"}, \"Sinister Kid - The Black Keys\": {\"frequency\": 21, \"value\": \"Sinister Kid - The ...\"}, \"Salty Dog - Flogging Molly\": {\"frequency\": 3, \"value\": \"Salty Dog - ...\"}, \"Lullabye - Grizzly Bear\": {\"frequency\": 10, \"value\": \"Lullabye - Grizzly ...\"}, \"After An Afternoon (Eagles Ballroom Live Version) - Jason Mraz\": {\"frequency\": 3, \"value\": \"After An Afternoon ...\"}, \"Fox On The Run - Sweet\": {\"frequency\": 1, \"value\": \"Fox On The Run - ...\"}, \"Don't Be On With Her - Miami Horror\": {\"frequency\": 2, \"value\": \"Don't Be On With ...\"}, \"I'll Call Ya - Chris Brown\": {\"frequency\": 1, \"value\": \"I'll Call Ya - ...\"}, \"Be Aware - Bobby Lee\": {\"frequency\": 10, \"value\": \"Be Aware - Bobby ...\"}, \"High (Album Version) - James Blunt\": {\"frequency\": 9, \"value\": \"High (Album ...\"}, \"Cuid\\ufffd\\ufffdndote - Bebe\": {\"frequency\": 2, \"value\": \"Cuid\\u00e1ndote - Bebe\"}, \"Guernica - Brand New\": {\"frequency\": 9, \"value\": \"Guernica - Brand ...\"}, \"Heartbreakin' Wreck - The Boxmasters\": {\"frequency\": 9, \"value\": \"Heartbreakin' ...\"}, \"Autumn's Child - Devendra Banhart\": {\"frequency\": 8, \"value\": \"Autumn's Child - ...\"}, \"Save Me_ San Francisco - Train\": {\"frequency\": 1, \"value\": \"Save Me_ San ...\"}, \"That's That - Cass McCombs\": {\"frequency\": 27, \"value\": \"That's That - Cass ...\"}, \"The Pulse - Digitalism\": {\"frequency\": 1, \"value\": \"The Pulse - ...\"}, \"Clampdown - The Strokes\": {\"frequency\": 3, \"value\": \"Clampdown - The ...\"}, \"Ode to LRC (Album) - Band Of Horses\": {\"frequency\": 3, \"value\": \"Ode to LRC (Album) ...\"}, \"She Bangs The Drums - The Stone Roses\": {\"frequency\": 2, \"value\": \"She Bangs The ...\"}, \"Ay Mama - Devendra Banhart\": {\"frequency\": 7, \"value\": \"Ay Mama - Devendra ...\"}, \"Spiritual Holocaust - Hate Eternal\": {\"frequency\": 2, \"value\": \"Spiritual ...\"}, \"Bermuda - Fluke\": {\"frequency\": 2, \"value\": \"Bermuda - Fluke\"}, \"El Chico Del Apartamento 512 - Selena\": {\"frequency\": 1, \"value\": \"El Chico Del ...\"}, \"All Over Me - Josh Turner\": {\"frequency\": 9, \"value\": \"All Over Me - Josh ...\"}, \"Crimewave (Crystal Castles vs Health) - Crystal Castles\": {\"frequency\": 7, \"value\": \"Crimewave (Crystal ...\"}, \"Find The Cost Of Freedom - Crosby_ Stills_ Nash & Young\": {\"frequency\": 3, \"value\": \"Find The Cost Of ...\"}, \"Too Late For Goodbyes - Julian Lennon\": {\"frequency\": 3, \"value\": \"Too Late For ...\"}, \"Red Rabbits (Album) - The Shins\": {\"frequency\": 5, \"value\": \"Red Rabbits ...\"}, \"Thinking Of You - A Perfect Circle\": {\"frequency\": 14, \"value\": \"Thinking Of You - ...\"}, \"Untouchable - Taylor Swift\": {\"frequency\": 6, \"value\": \"Untouchable - ...\"}, \"The Wolves (Act I and II) - Bon Iver\": {\"frequency\": 14, \"value\": \"The Wolves (Act I ...\"}, \"Rhyme & Reason - DAVE MATTHEWS BAND\": {\"frequency\": 3, \"value\": \"Rhyme & Reason - ...\"}, \"Bones - The Killers\": {\"frequency\": 7, \"value\": \"Bones - The ...\"}, \"She's A Lady - Forever The Sickest Kids\": {\"frequency\": 1, \"value\": \"She's A Lady - ...\"}, \"We're Looking For A Lot Of Love - Hot Chip\": {\"frequency\": 1, \"value\": \"We're Looking For ...\"}, \"Pap Smear - Crystal Castles\": {\"frequency\": 2, \"value\": \"Pap Smear - ...\"}, \"I Believe (When I Fall In Love It Will Be Forever) - Stevie Wonder\": {\"frequency\": 11, \"value\": \"I Believe (When I ...\"}, \"There's A War Going On For Your Mind - Flobots\": {\"frequency\": 2, \"value\": \"There's A War ...\"}, \"The Gymnast_ High Above the Ground - The Decemberists\": {\"frequency\": 14, \"value\": \"The Gymnast_ High ...\"}, \"Here (In Your Arms) (Radio Edit) - Hellogoodbye;Elliott Yamin\": {\"frequency\": 1, \"value\": \"Here (In Your ...\"}, \"0010 - Ayabie\": {\"frequency\": 10, \"value\": \"0010 - Ayabie\"}, \"Evil Deeds - Eminem\": {\"frequency\": 4, \"value\": \"Evil Deeds - ...\"}, \"Down In The Past - Mando Diao\": {\"frequency\": 1, \"value\": \"Down In The Past - ...\"}, \"Don't Leave Home - Dido\": {\"frequency\": 3, \"value\": \"Don't Leave Home - ...\"}, \"Michael - Soltero\": {\"frequency\": 1, \"value\": \"Michael - Soltero\"}, \"The Hustle - Van McCoy\": {\"frequency\": 1, \"value\": \"The Hustle - Van ...\"}, \"A Day Without Me - U2\": {\"frequency\": 9, \"value\": \"A Day Without Me - ...\"}, \"Stressed Out - A Tribe Called Quest featuring Faith Evans\": {\"frequency\": 3, \"value\": \"Stressed Out - A ...\"}, \"The Warrior's Code - Dropkick Murphys\": {\"frequency\": 3, \"value\": \"The Warrior's Code ...\"}, \"What You Thought You Need - Jack Johnson\": {\"frequency\": 8, \"value\": \"What You Thought ...\"}, \"Run - Vampire Weekend\": {\"frequency\": 18, \"value\": \"Run - Vampire ...\"}, \"Should've Known Better - Sick Puppies\": {\"frequency\": 3, \"value\": \"Should've Known ...\"}, \"Crescendolls - Daft Punk\": {\"frequency\": 26, \"value\": \"Crescendolls - ...\"}, \"Bad Luck - Hot Chip\": {\"frequency\": 1, \"value\": \"Bad Luck - Hot ...\"}, \"Girls And Boys - Blur\": {\"frequency\": 1, \"value\": \"Girls And Boys - ...\"}, \"Replay (Album Version) - Iyaz\": {\"frequency\": 1, \"value\": \"Replay (Album ...\"}, \"Square One (Album Version) - Tom Petty\": {\"frequency\": 1, \"value\": \"Square One (Album ...\"}, \"Toca's Miracle - Fragma\": {\"frequency\": 1, \"value\": \"Toca's Miracle - ...\"}, \"Stranger than Fiction - Five Finger Death Punch\": {\"frequency\": 1, \"value\": \"Stranger than ...\"}, \"Stream - Moby\": {\"frequency\": 42, \"value\": \"Stream - Moby\"}, \"Leader Of The Pack - The Shangri-Las\": {\"frequency\": 1, \"value\": \"Leader Of The Pack ...\"}, \"Alejandro - Lady GaGa\": {\"frequency\": 55, \"value\": \"Alejandro - Lady ...\"}, \"Open Your Eyes (Explicit LP Version) - Staind\": {\"frequency\": 1, \"value\": \"Open Your Eyes ...\"}, \"Dulce Compa\\ufffd\\ufffdia - Julieta Venegas\": {\"frequency\": 2, \"value\": \"Dulce Compa\\u00f1ia - ...\"}, \"Street Justice - MSTRKRFT\": {\"frequency\": 22, \"value\": \"Street Justice - ...\"}, \"I'm A Cuckoo - Belle & Sebastian\": {\"frequency\": 11, \"value\": \"I'm A Cuckoo - ...\"}, \"Don't You Want Me (Original Version) - The Human League\": {\"frequency\": 4, \"value\": \"Don't You Want Me ...\"}, \"My Family\\u0019s Role In The World Revolution - Beirut\": {\"frequency\": 1, \"value\": \"My Family\\u0019s Role ...\"}, \"Bow Down - Westside Connection\": {\"frequency\": 2, \"value\": \"Bow Down - ...\"}, \"Slip - Deadmau5\": {\"frequency\": 8, \"value\": \"Slip - Deadmau5\"}, \"One Last Time - The Kooks\": {\"frequency\": 7, \"value\": \"One Last Time - ...\"}, \"Youth Against Fascism - Sonic Youth\": {\"frequency\": 9, \"value\": \"Youth Against ...\"}, \"Jewels And Gold - Angus & Julia Stone\": {\"frequency\": 2, \"value\": \"Jewels And Gold - ...\"}, \"Rebirthing (Album Version) - Skillet\": {\"frequency\": 12, \"value\": \"Rebirthing (Album ...\"}, \"Promises Like Pie-Crust (Album) - Carla Bruni\": {\"frequency\": 11, \"value\": \"Promises Like Pie- ...\"}, \"Con s\\ufffd\\ufffdlo una mirada - Ol\\ufffd\\ufffd Ol\\ufffd\\ufffd\": {\"frequency\": 1, \"value\": \"Con s\\u00f3lo una ...\"}, \"Older Chests - Damien Rice\": {\"frequency\": 4, \"value\": \"Older Chests - ...\"}, \"To End The Rapture - Avenged Sevenfold\": {\"frequency\": 2, \"value\": \"To End The Rapture ...\"}, \"Lowrider - Cypress Hill\": {\"frequency\": 4, \"value\": \"Lowrider - Cypress ...\"}, \"Doperide - Saliva\": {\"frequency\": 9, \"value\": \"Doperide - Saliva\"}, \"Tim McGraw - Taylor Swift\": {\"frequency\": 1, \"value\": \"Tim McGraw - ...\"}, \"Living Proof - Cat Power\": {\"frequency\": 3, \"value\": \"Living Proof - Cat ...\"}, \"Ghost At The Foot Of The Bed - Soltero\": {\"frequency\": 2, \"value\": \"Ghost At The Foot ...\"}, \"O Meu Amor Anda Em Fama - Caman\\ufffd\\ufffd\": {\"frequency\": 18, \"value\": \"O Meu Amor Anda Em ...\"}, \"Check On It - Beyonc\\ufffd\\ufffd feat. Slim Thug\": {\"frequency\": 8, \"value\": \"Check On It - ...\"}, \"STEIN UM STEIN - Rammstein\": {\"frequency\": 19, \"value\": \"STEIN UM STEIN - ...\"}, \"Back Down - 50 Cent\": {\"frequency\": 3, \"value\": \"Back Down - 50 ...\"}, \"The Sweetest Taboo - Sade\": {\"frequency\": 3, \"value\": \"The Sweetest Taboo ...\"}, \"CMYK - James Blake\": {\"frequency\": 2, \"value\": \"CMYK - James Blake\"}, \"Hollywood Blvd._ 2:17 AM - Dirty Sanchez\": {\"frequency\": 16, \"value\": \"Hollywood Blvd._ ...\"}, \"Daisy - Brand New\": {\"frequency\": 1, \"value\": \"Daisy - Brand New\"}, \"Scream Aim Fire - Bullet For My Valentine\": {\"frequency\": 39, \"value\": \"Scream Aim Fire - ...\"}, \"Pro Lover - Usher\": {\"frequency\": 2, \"value\": \"Pro Lover - Usher\"}, \"Misguided Ghosts (Album Version) - Paramore\": {\"frequency\": 13, \"value\": \"Misguided Ghosts ...\"}, \"Provider - Days Of The New\": {\"frequency\": 3, \"value\": \"Provider - Days Of ...\"}, \"The End - Pearl Jam\": {\"frequency\": 1, \"value\": \"The End - Pearl ...\"}, \"Dumb It Down (feat. GemStones and Graham Burris) (Amended Album Version) - Lupe Fiasco feat. GemStones and Graham Burris\": {\"frequency\": 14, \"value\": \"Dumb It Down ...\"}, \"Return - Ok Go\": {\"frequency\": 5, \"value\": \"Return - Ok Go\"}, \"Notorious - Duran Duran\": {\"frequency\": 1, \"value\": \"Notorious - Duran ...\"}, \"Babel - Massive Attack\": {\"frequency\": 42, \"value\": \"Babel - Massive ...\"}, \"Two Shoes - The Cat Empire\": {\"frequency\": 5, \"value\": \"Two Shoes - The ...\"}, \"Must Be Dreaming - Frou Frou\": {\"frequency\": 3, \"value\": \"Must Be Dreaming - ...\"}, \"Rocket Queen - Guns N' Roses\": {\"frequency\": 1, \"value\": \"Rocket Queen - ...\"}, \"Compa\\ufffd\\ufffdera - Silvio Rodr\\ufffd\\ufffdguez\": {\"frequency\": 6, \"value\": \"Compa\\u00f1era - Silvio ...\"}, \"Smooth Operator - Sade\": {\"frequency\": 1, \"value\": \"Smooth Operator - ...\"}, \"Wonderlust King - Gogol Bordello\": {\"frequency\": 4, \"value\": \"Wonderlust King - ...\"}, \"Kiss Off - Violent Femmes\": {\"frequency\": 5, \"value\": \"Kiss Off - Violent ...\"}, \"Orion - Rodrigo y Gabriela\": {\"frequency\": 7, \"value\": \"Orion - Rodrigo y ...\"}, \"The End - Ryan Adams & The Cardinals\": {\"frequency\": 6, \"value\": \"The End - Ryan ...\"}, \"C-C-C-Cinnamon Lips - Ok Go\": {\"frequency\": 2, \"value\": \"C-C-C-Cinnamon ...\"}, \"There Is - Box Car Racer\": {\"frequency\": 1, \"value\": \"There Is - Box Car ...\"}, \"Bone Machine - Pixies\": {\"frequency\": 3, \"value\": \"Bone Machine - ...\"}, \"Having A Blast (Album Version) - Green Day\": {\"frequency\": 1, \"value\": \"Having A Blast ...\"}, \"One Of Those Days - Chesney Hawkes\": {\"frequency\": 1, \"value\": \"One Of Those Days ...\"}, \"Hot N Cold (Manhattan Clique Remix Radio Edit) - Katy Perry\": {\"frequency\": 1, \"value\": \"Hot N Cold ...\"}, \"Marchin On - OneRepublic\": {\"frequency\": 4, \"value\": \"Marchin On - ...\"}, \"Layla - Derek & The Dominos / Eric Clapton\": {\"frequency\": 1, \"value\": \"Layla - Derek & ...\"}, \"Do You Want To Know Love (Pray For Rain Album Version) - PFR\": {\"frequency\": 1, \"value\": \"Do You Want To ...\"}, \"Revenge Is Sweeter [Than You Ever Were] (Album Version) - The Veronicas\": {\"frequency\": 5, \"value\": \"Revenge Is Sweeter ...\"}, \"Prodigal Son (Harvey's A Star In Your Own Mind Mix) - Electronic\": {\"frequency\": 28, \"value\": \"Prodigal Son ...\"}, \"Burnin' / Too Long - Daft Punk\": {\"frequency\": 11, \"value\": \"Burnin' / Too Long ...\"}, \"Too Deep - Girl Talk\": {\"frequency\": 5, \"value\": \"Too Deep - Girl ...\"}, \"Whereabouts Unknown - Rise Against\": {\"frequency\": 5, \"value\": \"Whereabouts ...\"}, \"All I Hear - Train\": {\"frequency\": 26, \"value\": \"All I Hear - Train\"}, \"Secret Crowds - Angels and Airwaves\": {\"frequency\": 2, \"value\": \"Secret Crowds - ...\"}, \"Some Girls Are Bigger Than Others - The Smiths\": {\"frequency\": 1, \"value\": \"Some Girls Are ...\"}, \"Woodstock - Crosby_ Stills_ Nash and Young\": {\"frequency\": 12, \"value\": \"Woodstock - ...\"}, \"Ain't It Fun - Guns N' Roses\": {\"frequency\": 3, \"value\": \"Ain't It Fun - ...\"}, \"Say Goodbye (Album Version) - Skillet\": {\"frequency\": 2, \"value\": \"Say Goodbye (Album ...\"}, \"Wasted - Angus & Julia Stone\": {\"frequency\": 15, \"value\": \"Wasted - Angus & ...\"}, \"We Weren't Born To Follow - Bon Jovi\": {\"frequency\": 2, \"value\": \"We Weren't Born To ...\"}, \"Ni\\ufffd\\ufffdo - Belanova\": {\"frequency\": 3, \"value\": \"Ni\\u00f1o - Belanova\"}, \"Age Of Consent - New Order\": {\"frequency\": 1, \"value\": \"Age Of Consent - ...\"}, \"Where My Money (I Need That) - Rick Ross\": {\"frequency\": 2, \"value\": \"Where My Money (I ...\"}, \"The Feel Good Drag - Anberlin\": {\"frequency\": 1, \"value\": \"The Feel Good Drag ...\"}, \"Un Aro En La Nariz - Jeans (Mexico)\": {\"frequency\": 1, \"value\": \"Un Aro En La Nariz ...\"}, \"Kotov Syndrome - Rise Against\": {\"frequency\": 5, \"value\": \"Kotov Syndrome - ...\"}, \"All Night Long (All Night) - Lionel Richie\": {\"frequency\": 2, \"value\": \"All Night Long ...\"}, \"Hyper Hyper - Scooter\": {\"frequency\": 7, \"value\": \"Hyper Hyper - ...\"}, \"Marry Song (Album) - Band Of Horses\": {\"frequency\": 9, \"value\": \"Marry Song (Album) ...\"}, \"Stretchin' Out (In A Rubber Band) (LP Version) - Bootsy Collins\": {\"frequency\": 6, \"value\": \"Stretchin' Out (In ...\"}, \"Growing Pains - La Roux\": {\"frequency\": 5, \"value\": \"Growing Pains - La ...\"}, \"Rose Among the Ashes - Inhale Exhale\": {\"frequency\": 2, \"value\": \"Rose Among the ...\"}, \"Get Ready For This - 2 Unlimited\": {\"frequency\": 1, \"value\": \"Get Ready For This ...\"}, \"Freakum Dress - Beyonc\\ufffd\\ufffd\": {\"frequency\": 18, \"value\": \"Freakum Dress - ...\"}, \"Intermission (Album Version) - Panic! At The Disco\": {\"frequency\": 1, \"value\": \"Intermission ...\"}, \"Epilogue - Asia 2001\": {\"frequency\": 1, \"value\": \"Epilogue - Asia ...\"}, \"Astair - Matt Costa\": {\"frequency\": 1, \"value\": \"Astair - Matt ...\"}, \"Fall Out - The Police\": {\"frequency\": 16, \"value\": \"Fall Out - The ...\"}, \"The Arms of Sorrow (Album Version) - Killswitch Engage\": {\"frequency\": 10, \"value\": \"The Arms of Sorrow ...\"}, \"Damn Girl - Justin Timberlake;Justin Timberlake featuring will.i.am\": {\"frequency\": 1, \"value\": \"Damn Girl - Justin ...\"}, \"Rock The Boat - Aaliyah\": {\"frequency\": 4, \"value\": \"Rock The Boat - ...\"}, \"People Are Crazy - Billy Curringham\": {\"frequency\": 25, \"value\": \"People Are Crazy - ...\"}, \"Somebody (Remix) - Depeche Mode\": {\"frequency\": 14, \"value\": \"Somebody (Remix) - ...\"}, \"Breed - Nirvana\": {\"frequency\": 3, \"value\": \"Breed - Nirvana\"}, \"The Power Of Love - C\\ufffd\\ufffdline Dion\": {\"frequency\": 3, \"value\": \"The Power Of Love ...\"}, \"Mutiny (album version) - Pendulum\": {\"frequency\": 20, \"value\": \"Mutiny (album ...\"}, \"Mi primer millon - Bacilos\": {\"frequency\": 2, \"value\": \"Mi primer millon - ...\"}, \"Bubbles - Biffy Clyro\": {\"frequency\": 3, \"value\": \"Bubbles - Biffy ...\"}, \"Do You Think I'm Spooky? - Far Corner\": {\"frequency\": 5, \"value\": \"Do You Think I'm ...\"}, \"Welcome To The Masquerade - Thousand Foot Krutch\": {\"frequency\": 6, \"value\": \"Welcome To The ...\"}, \"Televators - The Mars Volta\": {\"frequency\": 12, \"value\": \"Televators - The ...\"}, \"A Lion's Heart - The Tallest Man On Earth\": {\"frequency\": 6, \"value\": \"A Lion's Heart - ...\"}, \"Wuthering Heights - Kate Bush\": {\"frequency\": 2, \"value\": \"Wuthering Heights ...\"}, \"Swing_ Swing - The All-American Rejects\": {\"frequency\": 2, \"value\": \"Swing_ Swing - The ...\"}, \"Breaking Down The Walls Of Heartache - Dexys Midnight Runners\": {\"frequency\": 7, \"value\": \"Breaking Down The ...\"}, \"What Have You Done For Me Lately - Steve Goodman\": {\"frequency\": 16, \"value\": \"What Have You Done ...\"}, \"Me Name Jr. Gong - Damian \\\"Jr. Gong\\\" Marley\": {\"frequency\": 5, \"value\": \"Me Name Jr. Gong - ...\"}, \"Burn Clear - Something Happens\": {\"frequency\": 29, \"value\": \"Burn Clear - ...\"}, \"Head Full Of Doubt/Road Full Of Promise - The Avett Brothers\": {\"frequency\": 13, \"value\": \"Head Full Of ...\"}, \"Two Headed Boy - Neutral Milk Hotel\": {\"frequency\": 3, \"value\": \"Two Headed Boy - ...\"}, \"As Good As I Once Was - Toby Keith\": {\"frequency\": 27, \"value\": \"As Good As I Once ...\"}, \"I'm Not In Love - Charly Garc\\ufffd\\ufffda\": {\"frequency\": 4, \"value\": \"I'm Not In Love - ...\"}, \"Let's Dance To Joy Division (Full Length Version) - The Wombats\": {\"frequency\": 3, \"value\": \"Let's Dance To Joy ...\"}, \"Blu Elettrico - Sergio Caputo\": {\"frequency\": 8, \"value\": \"Blu Elettrico - ...\"}, \"Aero Zeppelin - Nirvana\": {\"frequency\": 3, \"value\": \"Aero Zeppelin - ...\"}, \"Purity (Album Version) - Slipknot\": {\"frequency\": 2, \"value\": \"Purity (Album ...\"}, \"Bluish - Animal Collective\": {\"frequency\": 22, \"value\": \"Bluish - Animal ...\"}, \"The Chariot - The Cat Empire\": {\"frequency\": 6, \"value\": \"The Chariot - The ...\"}, \"Be My Lover - Alice Cooper\": {\"frequency\": 1, \"value\": \"Be My Lover - ...\"}, \"Nlogax - Boards of Canada\": {\"frequency\": 4, \"value\": \"Nlogax - Boards of ...\"}, \"Eat The Meek - NOFX\": {\"frequency\": 17, \"value\": \"Eat The Meek - ...\"}, \"Silver Soul - Beach House\": {\"frequency\": 25, \"value\": \"Silver Soul - ...\"}, \"Eye For An Eye - UNKLE\": {\"frequency\": 1, \"value\": \"Eye For An Eye - ...\"}, \"Such A Lovely Thing (Album version) - Devotchka\": {\"frequency\": 5, \"value\": \"Such A Lovely ...\"}, \"Break My Body - Pixies\": {\"frequency\": 3, \"value\": \"Break My Body - ...\"}, \"Rule Of Thumb (Album Version) - John Scofield\": {\"frequency\": 3, \"value\": \"Rule Of Thumb ...\"}, \"The Canals Of Our City - Beirut\": {\"frequency\": 2, \"value\": \"The Canals Of Our ...\"}, \"Have Faith In Me - A Day To Remember\": {\"frequency\": 26, \"value\": \"Have Faith In Me - ...\"}, \"Funny Little Frog - Belle & Sebastian\": {\"frequency\": 4, \"value\": \"Funny Little Frog ...\"}, \"You Dont Know Me - SOJA\": {\"frequency\": 4, \"value\": \"You Dont Know Me - ...\"}, \"Commissioning A Symphony In C - Cake\": {\"frequency\": 5, \"value\": \"Commissioning A ...\"}, \"Ddiamondd - Battles\": {\"frequency\": 2, \"value\": \"Ddiamondd - ...\"}, \"The End Of The Line - Metallica\": {\"frequency\": 5, \"value\": \"The End Of The ...\"}, \"Hold Up - The Raconteurs\": {\"frequency\": 3, \"value\": \"Hold Up - The ...\"}, \"Purple Weed - Mondo Marcio\": {\"frequency\": 2, \"value\": \"Purple Weed - ...\"}, \"Lazy Sunday - The Lonely Island / Chris Parnell\": {\"frequency\": 1, \"value\": \"Lazy Sunday - The ...\"}, \"Gap - The Kooks\": {\"frequency\": 2, \"value\": \"Gap - The Kooks\"}, \"Tapatio - Dave Aju\": {\"frequency\": 7, \"value\": \"Tapatio - Dave Aju\"}, \"I Will Buy You A New Life - Everclear\": {\"frequency\": 1, \"value\": \"I Will Buy You A ...\"}, \"A Veces Vuelvo - Catupecu Machu\": {\"frequency\": 7, \"value\": \"A Veces Vuelvo - ...\"}, \"Rorol - Octopus Project\": {\"frequency\": 8, \"value\": \"Rorol - Octopus ...\"}, \"Ready_ Steady_ Go (Album Version) - Paul Oakenfold\": {\"frequency\": 10, \"value\": \"Ready_ Steady_ Go ...\"}, \"Good Directions - Billy Currington\": {\"frequency\": 38, \"value\": \"Good Directions - ...\"}, \"The City Sleeps - MC 900 Ft. Jesus\": {\"frequency\": 7, \"value\": \"The City Sleeps - ...\"}, \"& Down - Boys Noize\": {\"frequency\": 5, \"value\": \"& Down - Boys ...\"}, \"Cherry Blossom Girl (Fanny Demo Version) - Air\": {\"frequency\": 2, \"value\": \"Cherry Blossom ...\"}, \"Till I Get My Way - The Black Keys\": {\"frequency\": 1, \"value\": \"Till I Get My Way ...\"}, \"This Ain't A Scene_ It's An Arms Race - Fall Out Boy\": {\"frequency\": 10, \"value\": \"This Ain't A ...\"}, \"Me and Your Cigarettes - Miranda Lambert\": {\"frequency\": 4, \"value\": \"Me and Your ...\"}, \"Hollaback Girl - Gwen Stefani\": {\"frequency\": 1, \"value\": \"Hollaback Girl - ...\"}, \"True love - SOJA\": {\"frequency\": 6, \"value\": \"True love - SOJA\"}, \"Hello - Lionel Richie\": {\"frequency\": 4, \"value\": \"Hello - Lionel ...\"}, \"Glue Of The World - Four Tet\": {\"frequency\": 15, \"value\": \"Glue Of The World ...\"}, \"Black & Blue - Miike Snow\": {\"frequency\": 1, \"value\": \"Black & Blue - ...\"}, \"Nokian Takana - Ismo Alanko S\\ufffd\\ufffd\\ufffd\\ufffdti\\ufffd\\ufffd\": {\"frequency\": 6, \"value\": \"Nokian Takana - ...\"}, \"Satellite Mind - Metric\": {\"frequency\": 36, \"value\": \"Satellite Mind - ...\"}, \"Dude (Looks Like A Lady) - Aerosmith\": {\"frequency\": 3, \"value\": \"Dude (Looks Like A ...\"}, \"Too Much - Spice Girls\": {\"frequency\": 3, \"value\": \"Too Much - Spice ...\"}, \"Hanging High - Lykke Li\": {\"frequency\": 31, \"value\": \"Hanging High - ...\"}, \"Holiday [feat. Green Day & The Cast Of American Idiot] (Album Version) - Green Day\": {\"frequency\": 2, \"value\": \"Holiday [feat. ...\"}, \"Vegas - All Time Low\": {\"frequency\": 1, \"value\": \"Vegas - All Time ...\"}, \"Stork & Owl - TV On The Radio\": {\"frequency\": 24, \"value\": \"Stork & Owl - TV ...\"}, \"Paradise Circus (Gui Boratto Remix) - Massive Attack\": {\"frequency\": 2, \"value\": \"Paradise Circus ...\"}, \"Possibly Maybe - Bj\\ufffd\\ufffdrk\": {\"frequency\": 13, \"value\": \"Possibly Maybe - ...\"}, \"Cyanide Sweet Tooth Suicide (Album Version) - Shinedown\": {\"frequency\": 6, \"value\": \"Cyanide Sweet ...\"}, \"White Meat - Lil Jon / The East Side Boyz / 8-Ball / MJG\": {\"frequency\": 6, \"value\": \"White Meat - Lil ...\"}, \"La Carcacha - Selena\": {\"frequency\": 2, \"value\": \"La Carcacha - ...\"}, \"Newjack - Justice\": {\"frequency\": 11, \"value\": \"Newjack - Justice\"}, \"I'm Broken  (LP Version) - Pantera\": {\"frequency\": 5, \"value\": \"I'm Broken  (LP ...\"}, \"Paa vauhtii - Uniikki\": {\"frequency\": 8, \"value\": \"Paa vauhtii - ...\"}, \"Let Me Fall (From Cirque du Soleil) (Album Version) - Josh Groban\": {\"frequency\": 14, \"value\": \"Let Me Fall (From ...\"}, \"Acid Rain - Liquid Tension Experiment\": {\"frequency\": 1, \"value\": \"Acid Rain - Liquid ...\"}, \"Down To Earth - Justin Bieber\": {\"frequency\": 58, \"value\": \"Down To Earth - ...\"}, \"Infatuation - Maroon 5\": {\"frequency\": 5, \"value\": \"Infatuation - ...\"}, \"I Can't Love You Back - Easton Corbin\": {\"frequency\": 10, \"value\": \"I Can't Love You ...\"}, \"Guyamas Sonora - Beirut\": {\"frequency\": 12, \"value\": \"Guyamas Sonora - ...\"}, \"Surf Wax America - Weezer\": {\"frequency\": 1, \"value\": \"Surf Wax America - ...\"}, \"McFearless - Kings Of Leon\": {\"frequency\": 13, \"value\": \"McFearless - Kings ...\"}, \"Jump Then Fall - Taylor Swift\": {\"frequency\": 2, \"value\": \"Jump Then Fall - ...\"}, \"Moar Ghosts 'n' Stuff - Deadmau5\": {\"frequency\": 5, \"value\": \"Moar Ghosts 'n' ...\"}, \"She Moves In Her Own Way - The Kooks\": {\"frequency\": 8, \"value\": \"She Moves In Her ...\"}, \"War - Chikita Violenta\": {\"frequency\": 26, \"value\": \"War - Chikita ...\"}, \"Pesada (Con Maigaz) - Control Machete\": {\"frequency\": 4, \"value\": \"Pesada (Con ...\"}, \"Puppets - Atmosphere\": {\"frequency\": 3, \"value\": \"Puppets - ...\"}, \"Sehr kosmisch - Harmonia\": {\"frequency\": 533, \"value\": \"Sehr kosmisch - ...\"}, \"Temblor - Daddy Yankee\": {\"frequency\": 4, \"value\": \"Temblor - Daddy ...\"}, \"Taxi  (LP Version) - Harry Chapin\": {\"frequency\": 1, \"value\": \"Taxi  (LP Version) ...\"}, \"Delicate - Damien Rice\": {\"frequency\": 5, \"value\": \"Delicate - Damien ...\"}, \"Fuck Tha Police - N.W.A.\": {\"frequency\": 1, \"value\": \"Fuck Tha Police - ...\"}, \"Sway - The Pussycat Dolls\": {\"frequency\": 1, \"value\": \"Sway - The ...\"}, \"Savage Circle - The Ruts\": {\"frequency\": 2, \"value\": \"Savage Circle - ...\"}, \"Cuando Pase El Temblor - Soda Stereo\": {\"frequency\": 7, \"value\": \"Cuando Pase El ...\"}, \"You Were Meant For Me (LP Version) - Jewel\": {\"frequency\": 1, \"value\": \"You Were Meant For ...\"}, \"Secrets - OneRepublic\": {\"frequency\": 2249, \"value\": \"Secrets - ...\"}, \"Homesick - A Day To Remember\": {\"frequency\": 4, \"value\": \"Homesick - A Day ...\"}, \"Bette Davis Eyes - Kim Carnes\": {\"frequency\": 2, \"value\": \"Bette Davis Eyes - ...\"}, \"Don't Stop Dancing - Creed\": {\"frequency\": 9, \"value\": \"Don't Stop Dancing ...\"}, \"Glad All Over - Terrorvision\": {\"frequency\": 28, \"value\": \"Glad All Over - ...\"}, \"What I've Done (Album Version) - Linkin Park\": {\"frequency\": 20, \"value\": \"What I've Done ...\"}, \"How It Makes You Feel - Jill Scott\": {\"frequency\": 3, \"value\": \"How It Makes You ...\"}, \"An Island - Devendra Banhart\": {\"frequency\": 2, \"value\": \"An Island - ...\"}, \"California \\ufffd\\ufffdber Alles - Dead Kennedys\": {\"frequency\": 5, \"value\": \"California \\u00dcber ...\"}, \"Get Ready To Bounce Recall 08 - Brooklyn Bounce\": {\"frequency\": 3, \"value\": \"Get Ready To ...\"}, \"Speak To Me In Mysteries - Chris Taylor\": {\"frequency\": 15, \"value\": \"Speak To Me In ...\"}, \"Tumbling Dice (LP Version) - Linda Ronstadt\": {\"frequency\": 2, \"value\": \"Tumbling Dice (LP ...\"}, \"Everyday People - Sly & The Family Stone\": {\"frequency\": 1, \"value\": \"Everyday People - ...\"}, \"Livin' On A Prayer - Bon Jovi\": {\"frequency\": 24, \"value\": \"Livin' On A Prayer ...\"}, \"You're The One - The Black Keys\": {\"frequency\": 9, \"value\": \"You're The One - ...\"}, \"Can't Help But Wait (Album Version) - Trey Songz\": {\"frequency\": 3, \"value\": \"Can't Help But ...\"}, \"These Are The Days - Sugarland\": {\"frequency\": 14, \"value\": \"These Are The Days ...\"}, \"Y Nos Dieron Las Diez - Joaquin Sabina\": {\"frequency\": 3, \"value\": \"Y Nos Dieron Las ...\"}, \"Fall To Pieces - Avril Lavigne\": {\"frequency\": 54, \"value\": \"Fall To Pieces - ...\"}, \"Q-Ball - Brotha Lynch Hung\": {\"frequency\": 8, \"value\": \"Q-Ball - Brotha ...\"}, \"Fallin' - Jay-Z\": {\"frequency\": 1, \"value\": \"Fallin' - Jay-Z\"}, \"No Sabes Como Duele - Marc Anthony\": {\"frequency\": 6, \"value\": \"No Sabes Como ...\"}, \"When Will They Shoot? (Edited) - Ice Cube\": {\"frequency\": 11, \"value\": \"When Will They ...\"}, \"Black Hole - She & Him\": {\"frequency\": 19, \"value\": \"Black Hole - She & ...\"}, \"Back Home (Album Version) - Fort Minor (Featuring Common And Styles Of Beyond)\": {\"frequency\": 7, \"value\": \"Back Home (Album ...\"}, \"Wine Red (Tommie Sunshine's Brooklyn Fire Retouch) - The Hush Sound\": {\"frequency\": 3, \"value\": \"Wine Red (Tommie ...\"}, \"Alley Cats - Hot Chip\": {\"frequency\": 5, \"value\": \"Alley Cats - Hot ...\"}, \"Esa noche - Caf\\ufffd\\ufffd Tacvba\": {\"frequency\": 17, \"value\": \"Esa noche - Caf\\u00e9 ...\"}, \"Criminal - Gotan Project\": {\"frequency\": 4, \"value\": \"Criminal - Gotan ...\"}, \"Eye Of The Beholder - Metallica\": {\"frequency\": 5, \"value\": \"Eye Of The ...\"}, \"Frisch und g'sund - Die Mooskirchner\": {\"frequency\": 4, \"value\": \"Frisch und g'sund ...\"}, \"Truth - Amos Lee\": {\"frequency\": 1, \"value\": \"Truth - Amos Lee\"}, \"Spying Glass - Massive Attack\": {\"frequency\": 2, \"value\": \"Spying Glass - ...\"}, \"Thrills - LCD Soundsystem\": {\"frequency\": 18, \"value\": \"Thrills - LCD ...\"}, \"The Trapeze Swinger (Album) - Iron And Wine\": {\"frequency\": 1, \"value\": \"The Trapeze ...\"}, \"Pass Out (Instrumental) - Tinie Tempah\": {\"frequency\": 22, \"value\": \"Pass Out ...\"}, \"When We Dance - Sting\": {\"frequency\": 6, \"value\": \"When We Dance - ...\"}, \"Right Now (Album Version) - Fort Minor (Featuring Black Thought Of The Roots And Styles Of Beyond)\": {\"frequency\": 8, \"value\": \"Right Now (Album ...\"}, \"Soon We'll Be Found - Sia\": {\"frequency\": 2, \"value\": \"Soon We'll Be ...\"}, \"Stop (2006 Remastered Album Version) - Jane's Addiction\": {\"frequency\": 4, \"value\": \"Stop (2006 ...\"}, \"Savior (Comes Alive Version) - Skillet\": {\"frequency\": 1, \"value\": \"Savior (Comes ...\"}, \"Recycled Air (Album) - Postal Service\": {\"frequency\": 11, \"value\": \"Recycled Air ...\"}, \"Like A Pen - The Knife\": {\"frequency\": 4, \"value\": \"Like A Pen - The ...\"}, \"Welcome Home (Sanitarium) - Metallica\": {\"frequency\": 21, \"value\": \"Welcome Home ...\"}, \"Hotel Yorba - The White Stripes\": {\"frequency\": 1, \"value\": \"Hotel Yorba - The ...\"}, \"Middle Man - Jack Johnson\": {\"frequency\": 6, \"value\": \"Middle Man - Jack ...\"}, \"No Excuses - Alice In Chains\": {\"frequency\": 4, \"value\": \"No Excuses - Alice ...\"}, \"Sentimental Heart - She & Him\": {\"frequency\": 1, \"value\": \"Sentimental Heart ...\"}, \"Where Do The Children Play? - Cat Stevens\": {\"frequency\": 12, \"value\": \"Where Do The ...\"}, \"Como Un Sue\\ufffd\\ufffdo (Am I Dreaming) - Kat DeLuna\": {\"frequency\": 8, \"value\": \"Como Un Sue\\u00f1o (Am ...\"}, \"Hustler - Simian Mobile Disco\": {\"frequency\": 1, \"value\": \"Hustler - Simian ...\"}, \"Fighters (feat. Matthew Santos) (Amended Album Version) - Lupe Fiasco feat. Matthew Santos\": {\"frequency\": 19, \"value\": \"Fighters (feat. ...\"}, \"Norway - Beach House\": {\"frequency\": 2, \"value\": \"Norway - Beach ...\"}, \"Do You Remember - Moose\": {\"frequency\": 6, \"value\": \"Do You Remember - ...\"}, \"House By the Sea (Album) - Iron And Wine\": {\"frequency\": 9, \"value\": \"House By the Sea ...\"}, \"C.S. Lewis Song - Brooke Fraser\": {\"frequency\": 13, \"value\": \"C.S. Lewis Song - ...\"}, \"I'd Love To Change The World (1998 Digital Remaster) - Ten Years After\": {\"frequency\": 2, \"value\": \"I'd Love To Change ...\"}, \"Pushing Me Away (Album Version) - Linkin Park\": {\"frequency\": 5, \"value\": \"Pushing Me Away ...\"}, \"We Don't Care - Kanye West\": {\"frequency\": 4, \"value\": \"We Don't Care - ...\"}, \"Where I Come From - The Grascals\": {\"frequency\": 2, \"value\": \"Where I Come From ...\"}, \"Up Up & Away - Kid Cudi\": {\"frequency\": 17, \"value\": \"Up Up & Away - Kid ...\"}, \"Ruled By Secrecy - Muse\": {\"frequency\": 1, \"value\": \"Ruled By Secrecy - ...\"}, \"Fortunate Fool - Jack Johnson\": {\"frequency\": 2, \"value\": \"Fortunate Fool - ...\"}, \"War Of My Life - John Mayer\": {\"frequency\": 38, \"value\": \"War Of My Life - ...\"}, \"Waiting For A Girl Like You - Foreigner\": {\"frequency\": 20, \"value\": \"Waiting For A Girl ...\"}, \"There Goes My Baby - Usher\": {\"frequency\": 12, \"value\": \"There Goes My Baby ...\"}, \"you were there with me - Four Tet\": {\"frequency\": 1, \"value\": \"you were there ...\"}, \"Me Falta El Aliento - Estopa\": {\"frequency\": 3, \"value\": \"Me Falta El ...\"}, \"Who Is Watching - Armin van Buuren feat. Nadia Ali\": {\"frequency\": 5, \"value\": \"Who Is Watching - ...\"}, \"Television Rules The Nation / Crescendolls - Daft Punk\": {\"frequency\": 2, \"value\": \"Television Rules ...\"}, \"Mike Mills - Air\": {\"frequency\": 2, \"value\": \"Mike Mills - Air\"}, \"Josie - Steely Dan\": {\"frequency\": 22, \"value\": \"Josie - Steely Dan\"}, \"Baby (Album Version) - Serj Tankian\": {\"frequency\": 2, \"value\": \"Baby (Album ...\"}, \"Walk In The Park - Beach House\": {\"frequency\": 17, \"value\": \"Walk In The Park - ...\"}, \"Constant Knot - City And Colour\": {\"frequency\": 5, \"value\": \"Constant Knot - ...\"}, \"Tu Silencio - Bebe\": {\"frequency\": 24, \"value\": \"Tu Silencio - Bebe\"}, \"Sacred Lie (Album Version) - Disturbed\": {\"frequency\": 17, \"value\": \"Sacred Lie (Album ...\"}, \"Games - Jonas Brothers\": {\"frequency\": 2, \"value\": \"Games - Jonas ...\"}, \"The Game (Amended Version) - Disturbed\": {\"frequency\": 6, \"value\": \"The Game (Amended ...\"}, \"The Sword & the Pen (Non-Album Track) - Regina Spektor\": {\"frequency\": 5, \"value\": \"The Sword & the ...\"}, \"Here We Go Again (Album Version) - Paramore\": {\"frequency\": 17, \"value\": \"Here We Go Again ...\"}, \"This Unfolds - Four Tet\": {\"frequency\": 2, \"value\": \"This Unfolds - ...\"}, \"Bottom Of the Barrel - Amos Lee\": {\"frequency\": 43, \"value\": \"Bottom Of the ...\"}, \"Touched By The Sun - Envio\": {\"frequency\": 29, \"value\": \"Touched By The Sun ...\"}, \"Better Days - Amos Lee\": {\"frequency\": 1, \"value\": \"Better Days - Amos ...\"}, \"Call Me Up - Chromeo\": {\"frequency\": 4, \"value\": \"Call Me Up - ...\"}, \"Frances Farmer Will Have Her Revenge On Seattle - Nirvana\": {\"frequency\": 4, \"value\": \"Frances Farmer ...\"}, \"Hero Of War - Rise Against\": {\"frequency\": 4, \"value\": \"Hero Of War - Rise ...\"}, \"Say Yes - Elliott Smith\": {\"frequency\": 3, \"value\": \"Say Yes - Elliott ...\"}, \"My Life - Deviates\": {\"frequency\": 19, \"value\": \"My Life - Deviates\"}, \"Circus - Tristania\": {\"frequency\": 2, \"value\": \"Circus - Tristania\"}, \"Jambalaya - Tab Benoit\": {\"frequency\": 17, \"value\": \"Jambalaya - Tab ...\"}, \"Sun Hands - Local Natives\": {\"frequency\": 5, \"value\": \"Sun Hands - Local ...\"}, \"Horchata - Vampire Weekend\": {\"frequency\": 2, \"value\": \"Horchata - Vampire ...\"}, \"Bricks - Rise Against\": {\"frequency\": 1, \"value\": \"Bricks - Rise ...\"}, \"The Curse - Audioslave\": {\"frequency\": 11, \"value\": \"The Curse - ...\"}, \"Wagon Wheel - Old Crow Medicine Show\": {\"frequency\": 1, \"value\": \"Wagon Wheel - Old ...\"}, \"Bontempi Latin - Holy Fuck\": {\"frequency\": 3, \"value\": \"Bontempi Latin - ...\"}, \"Ain't Talkin'  'Bout Love (Remastered Version) - Van Halen\": {\"frequency\": 3, \"value\": \"Ain't Talkin' ...\"}, \"Voyager - Daft Punk\": {\"frequency\": 25, \"value\": \"Voyager - Daft ...\"}, \"Cerdo - Molotov\": {\"frequency\": 5, \"value\": \"Cerdo - Molotov\"}, \"She's Got You High - Mumm-Ra\": {\"frequency\": 1, \"value\": \"She's Got You High ...\"}, \"Spaceship - Kanye West / GLC / Consequence\": {\"frequency\": 11, \"value\": \"Spaceship - Kanye ...\"}, \"Watermelon Man - Oscar Brown Jr.\": {\"frequency\": 1, \"value\": \"Watermelon Man - ...\"}, \"Colourless Colour - La Roux\": {\"frequency\": 1, \"value\": \"Colourless Colour ...\"}, \"Bye Bye - Mariah Carey\": {\"frequency\": 5, \"value\": \"Bye Bye - Mariah ...\"}, \"Get Down - 311\": {\"frequency\": 19, \"value\": \"Get Down - 311\"}, \"Harder Better Faster Stronger - Daft Punk\": {\"frequency\": 3, \"value\": \"Harder Better ...\"}, \"\\ufffd\\ufffdViva La Gloria! (Album Version) - Green Day\": {\"frequency\": 10, \"value\": \"\\u00a1Viva La Gloria! ...\"}, \"3 - Britney Spears\": {\"frequency\": 2, \"value\": \"3 - Britney Spears\"}, \"Unspoken - Four Tet\": {\"frequency\": 2, \"value\": \"Unspoken - Four ...\"}, \"Comfort Eagle - Cake\": {\"frequency\": 2, \"value\": \"Comfort Eagle - ...\"}, \"Screenager - Muse\": {\"frequency\": 3, \"value\": \"Screenager - Muse\"}, \"Tu Y Yo Somos Uno Mismo - Timbiriche\": {\"frequency\": 1, \"value\": \"Tu Y Yo Somos Uno ...\"}, \"Communist Daughter - Neutral Milk Hotel\": {\"frequency\": 32, \"value\": \"Communist Daughter ...\"}, \"PUNKB*TCH (Explicit Album Version) - 3OH!3\": {\"frequency\": 3, \"value\": \"PUNKB*TCH ...\"}, \"For Boston (Album Version) - Dropkick Murphys\": {\"frequency\": 9, \"value\": \"For Boston (Album ...\"}, \"Let's Live For Today - The Grass Roots\": {\"frequency\": 8, \"value\": \"Let's Live For ...\"}, \"Tokyo Witch - Beach House\": {\"frequency\": 5, \"value\": \"Tokyo Witch - ...\"}, \"So Jealous - Tegan And Sara\": {\"frequency\": 5, \"value\": \"So Jealous - Tegan ...\"}, \"Falling In - Lifehouse\": {\"frequency\": 3, \"value\": \"Falling In - ...\"}, \"Chambermaid Swing - Parov Stelar\": {\"frequency\": 9, \"value\": \"Chambermaid Swing ...\"}, \"Camel - Flying Lotus\": {\"frequency\": 2, \"value\": \"Camel - Flying ...\"}, \"Oops!...I Did It Again - Britney Spears\": {\"frequency\": 1, \"value\": \"Oops!...I Did It ...\"}, \"Foreplay/Long Time - Boston\": {\"frequency\": 9, \"value\": \"Foreplay/Long Time ...\"}, \"3AM (LP Version) - matchbox twenty\": {\"frequency\": 8, \"value\": \"3AM (LP Version) - ...\"}, \"Ruby_ Don't Take Your Love To Town - The Killers\": {\"frequency\": 1, \"value\": \"Ruby_ Don't Take ...\"}, \"Mercy - Moby\": {\"frequency\": 12, \"value\": \"Mercy - Moby\"}, \"Burn Your Life Down (Album Version) - Tegan And Sara\": {\"frequency\": 2, \"value\": \"Burn Your Life ...\"}, \"We Ride - Rihanna\": {\"frequency\": 4, \"value\": \"We Ride - Rihanna\"}, \"Hey Girl - Damian Marley / Stephen Marley / Rovleta Fraser\": {\"frequency\": 13, \"value\": \"Hey Girl - Damian ...\"}, \"Howlin\\u0019 For You - The Black Keys\": {\"frequency\": 10, \"value\": \"Howlin\\u0019 For You - ...\"}, \"People Gotta Move - Gino Vannelli\": {\"frequency\": 10, \"value\": \"People Gotta Move ...\"}, \"Jesus And Mama (LP Version) - Confederate Railroad\": {\"frequency\": 10, \"value\": \"Jesus And Mama (LP ...\"}, \"Rx Queen (LP Version) - Deftones\": {\"frequency\": 7, \"value\": \"Rx Queen (LP ...\"}, \"We Are Winning - Flobots\": {\"frequency\": 5, \"value\": \"We Are Winning - ...\"}, \"Lost And Found - Phoenix\": {\"frequency\": 4, \"value\": \"Lost And Found - ...\"}, \"Move - Thousand Foot Krutch\": {\"frequency\": 2, \"value\": \"Move - Thousand ...\"}, \"June Evenings - Air France\": {\"frequency\": 1, \"value\": \"June Evenings - ...\"}, \"Les derniers aventuriers - La Rue Ketanou\": {\"frequency\": 23, \"value\": \"Les derniers ...\"}, \"Lodi - Creedence Clearwater Revival\": {\"frequency\": 3, \"value\": \"Lodi - Creedence ...\"}, \"Don - Miranda!\": {\"frequency\": 1, \"value\": \"Don - Miranda!\"}, \"Myxomatosis - Radiohead\": {\"frequency\": 5, \"value\": \"Myxomatosis - ...\"}, \"Run The Show (featuring Busta Rhymes) - Kat DeLuna featuring Busta Rhymes\": {\"frequency\": 6, \"value\": \"Run The Show ...\"}, \"I Go To Sleep - Sia\": {\"frequency\": 4, \"value\": \"I Go To Sleep - ...\"}, \"Break It Off - Rihanna / Sean Paul\": {\"frequency\": 2, \"value\": \"Break It Off - ...\"}, \"Bittersweet - Apocalyptica\": {\"frequency\": 1, \"value\": \"Bittersweet - ...\"}, \"Welcome To Jamrock - Damian Marley\": {\"frequency\": 5, \"value\": \"Welcome To Jamrock ...\"}, \"Whataya Want From Me - Adam Lambert\": {\"frequency\": 1, \"value\": \"Whataya Want From ...\"}, \"Decadence (Album Version) - Disturbed\": {\"frequency\": 1, \"value\": \"Decadence (Album ...\"}, \"My Happiness - Powderfinger\": {\"frequency\": 1, \"value\": \"My Happiness - ...\"}, \"Blue Beard - Band Of Horses\": {\"frequency\": 9, \"value\": \"Blue Beard - Band ...\"}, \"Streets Of Fire - The New Pornographers\": {\"frequency\": 1, \"value\": \"Streets Of Fire - ...\"}, \"Halfway There - Rise Against\": {\"frequency\": 3, \"value\": \"Halfway There - ...\"}, \"County Line - Sugarland\": {\"frequency\": 13, \"value\": \"County Line - ...\"}, \"Snake - Big Tymers\": {\"frequency\": 1, \"value\": \"Snake - Big Tymers\"}, \"DONTTRUSTME [BENNYBLANCOREMIX] FEATURINGKIDCUDI (Explicit Bonus Version) - 3OH!3\": {\"frequency\": 3, \"value\": \"DONTTRUSTME ...\"}, \"Why Can't This Be Love (Remastered Version) - Van Halen\": {\"frequency\": 5, \"value\": \"Why Can't This Be ...\"}, \"Going For the Gold - Bright Eyes\": {\"frequency\": 1, \"value\": \"Going For the Gold ...\"}, \"Historia Del Portero - Ricardo Arjona\": {\"frequency\": 1, \"value\": \"Historia Del ...\"}, \"PDA (E.P Version) - Interpol\": {\"frequency\": 1, \"value\": \"PDA (E.P Version) ...\"}, \"Baltimore Blues No. 1 - Deer Tick\": {\"frequency\": 2, \"value\": \"Baltimore Blues ...\"}, \"Me Fui - Bebe\": {\"frequency\": 4, \"value\": \"Me Fui - Bebe\"}, \"A Dustland Fairytale - The Killers\": {\"frequency\": 13, \"value\": \"A Dustland ...\"}, \"Don't Let The Sun Go Down On Me - George Michael;George Michael Duet with Elton John\": {\"frequency\": 2, \"value\": \"Don't Let The Sun ...\"}, \"Do This Anymore (Album Version) - Nickelback\": {\"frequency\": 2, \"value\": \"Do This Anymore ...\"}, \"All Of This - Blink-182\": {\"frequency\": 7, \"value\": \"All Of This - ...\"}, \"Brompton Cocktail (Album Version) - Avenged Sevenfold\": {\"frequency\": 27, \"value\": \"Brompton Cocktail ...\"}, \"Voices (Album Fade) - Saosin\": {\"frequency\": 2, \"value\": \"Voices (Album ...\"}, \"If I Ain't Got You - Alicia Keys\": {\"frequency\": 7, \"value\": \"If I Ain't Got You ...\"}, \"I'd Hate To Be You When People Find Out What This Song Is About (Album) - Mayday Parade\": {\"frequency\": 21, \"value\": \"I'd Hate To Be You ...\"}, \"Hands And Feet - Audio Adrenaline\": {\"frequency\": 1, \"value\": \"Hands And Feet - ...\"}, \"Meteor - the bird and the bee\": {\"frequency\": 1, \"value\": \"Meteor - the bird ...\"}, \"If It Means A Lot To You - A Day To Remember\": {\"frequency\": 3, \"value\": \"If It Means A Lot ...\"}, \"North American Scum - LCD Soundsystem\": {\"frequency\": 7, \"value\": \"North American ...\"}, \"Theme From Harry's Game - Clannad\": {\"frequency\": 7, \"value\": \"Theme From Harry's ...\"}, \"Roses - Kanye West\": {\"frequency\": 1, \"value\": \"Roses - Kanye West\"}, \"Baby Boy [feat. Beyonce] - Sean Paul\": {\"frequency\": 13, \"value\": \"Baby Boy [feat. ...\"}, \"P.D.A. (We Just Don't Care) - John Legend\": {\"frequency\": 1, \"value\": \"P.D.A. (We Just ...\"}, \"Face To Face (Demon Remix) - Daft Punk\": {\"frequency\": 11, \"value\": \"Face To Face ...\"}, \"Girl of My Dreams - Two Cow Garage\": {\"frequency\": 14, \"value\": \"Girl of My Dreams ...\"}, \"Ashes And Wine - A Fine Frenzy\": {\"frequency\": 5, \"value\": \"Ashes And Wine - A ...\"}, \"It Could Be Sweet - Portishead\": {\"frequency\": 7, \"value\": \"It Could Be Sweet ...\"}, \"Pre-Game (Explicit) (Feat. Jay-Z) - Sauce Money Featuring Jay-Z\": {\"frequency\": 9, \"value\": \"Pre-Game ...\"}, \"My Week Beats Your Year - Telefon Tel Aviv\": {\"frequency\": 7, \"value\": \"My Week Beats Your ...\"}, \"Neighborhood #4 (Kettles) - Arcade Fire\": {\"frequency\": 18, \"value\": \"Neighborhood #4 ...\"}, \"Unwell (Album Version) - matchbox twenty\": {\"frequency\": 4, \"value\": \"Unwell (Album ...\"}, \"Annihilation By The Hands Of God (Album Version) - Roadrunner United\": {\"frequency\": 19, \"value\": \"Annihilation By ...\"}, \"Dysfunctional (feat. Big Scoob & Krizz Kaliko) - Tech N9NE Collabos featuring Big Scoob_ Krizz Kaliko\": {\"frequency\": 1, \"value\": \"Dysfunctional ...\"}, \"Fragile or Possibly Extinct - The Mercury Program\": {\"frequency\": 1, \"value\": \"Fragile or ...\"}, \"Totgeliebt - Tokio Hotel\": {\"frequency\": 6, \"value\": \"Totgeliebt - Tokio ...\"}, \"Excuses - The Morning Benders\": {\"frequency\": 1, \"value\": \"Excuses - The ...\"}, \"She Wouldn't Be Gone (Album Version) - Blake Shelton\": {\"frequency\": 1, \"value\": \"She Wouldn't Be ...\"}, \"Team - Bon Iver\": {\"frequency\": 39, \"value\": \"Team - Bon Iver\"}, \"Walking In The Air - Nightwish\": {\"frequency\": 1, \"value\": \"Walking In The Air ...\"}, \"Love Walks In (Remastered Album Version) - Van Halen\": {\"frequency\": 17, \"value\": \"Love Walks In ...\"}, \"The Son Never Shines (On Closed Doors) - Flogging Molly\": {\"frequency\": 3, \"value\": \"The Son Never ...\"}, \"A Good Idea At The Time - Ok Go\": {\"frequency\": 1, \"value\": \"A Good Idea At The ...\"}, \"Away From The Sun - 3 Doors Down\": {\"frequency\": 1, \"value\": \"Away From The Sun ...\"}, \"Furr - Blitzen Trapper\": {\"frequency\": 8, \"value\": \"Furr - Blitzen ...\"}, \"Groundzero (Original Version) - Aghast View\": {\"frequency\": 2, \"value\": \"Groundzero ...\"}, \"Best Of Both Worlds (Remastered Album Version) - Van Halen\": {\"frequency\": 10, \"value\": \"Best Of Both ...\"}, \"La Raya - Maldita Nerea\": {\"frequency\": 1, \"value\": \"La Raya - Maldita ...\"}, \"Runaway ( LP Version ) - The Corrs\": {\"frequency\": 1, \"value\": \"Runaway ( LP ...\"}, \"Rage! - Chromeo\": {\"frequency\": 1, \"value\": \"Rage! - Chromeo\"}, \"Ain't No Sunshine - Lighthouse Family\": {\"frequency\": 2, \"value\": \"Ain't No Sunshine ...\"}, \"In den G\\ufffd\\ufffdrten Pharaos - Popol Vuh\": {\"frequency\": 2, \"value\": \"In den G\\u00e4rten ...\"}, \"No One Else - Weezer\": {\"frequency\": 13, \"value\": \"No One Else - ...\"}, \"No Regrets - Robbie Williams\": {\"frequency\": 2, \"value\": \"No Regrets - ...\"}, \"Kiksu - Kyau & Albert\": {\"frequency\": 1, \"value\": \"Kiksu - Kyau & ...\"}, \"Desafinado - Joao Gilberto\": {\"frequency\": 3, \"value\": \"Desafinado - Joao ...\"}, \"Two Pink Lines - Eric Church\": {\"frequency\": 4, \"value\": \"Two Pink Lines - ...\"}, \"In The Sun - She & Him\": {\"frequency\": 3, \"value\": \"In The Sun - She & ...\"}, \"Take You On A Cruise - Interpol\": {\"frequency\": 3, \"value\": \"Take You On A ...\"}, \"Gold Mine Gutted - Bright Eyes\": {\"frequency\": 3, \"value\": \"Gold Mine Gutted - ...\"}, \"Citizen Erased - Muse\": {\"frequency\": 13, \"value\": \"Citizen Erased - ...\"}, \"Wat and See - Iration\": {\"frequency\": 10, \"value\": \"Wat and See - ...\"}, \"New York City Cops - The Strokes\": {\"frequency\": 22, \"value\": \"New York City Cops ...\"}, \"Be Aggressive - Faith No More\": {\"frequency\": 2, \"value\": \"Be Aggressive - ...\"}, \"The Most Beautiful Girl [In The Room] (Album Version) - Flight Of The Conchords\": {\"frequency\": 9, \"value\": \"The Most Beautiful ...\"}, \"Lazarus (Album Version) - Porcupine Tree\": {\"frequency\": 15, \"value\": \"Lazarus (Album ...\"}, \"On The Bus Mall - The Decemberists\": {\"frequency\": 2, \"value\": \"On The Bus Mall - ...\"}, \"(Splash) Turn Twist - Jimmy Eat World\": {\"frequency\": 1, \"value\": \"(Splash) Turn ...\"}, \"Waimea Bay - Jan & Dean\": {\"frequency\": 8, \"value\": \"Waimea Bay - Jan & ...\"}, \"Foundations - Kate Nash\": {\"frequency\": 2, \"value\": \"Foundations - Kate ...\"}, \"Soul Suckers - Amos Lee\": {\"frequency\": 11, \"value\": \"Soul Suckers - ...\"}, \"N\\ufffd\\ufffdo \\ufffd\\ufffd Proibido - Marisa Monte\": {\"frequency\": 6, \"value\": \"N\\u00e3o \\u00c9 Proibido - ...\"}, \"Let Me - Rihanna\": {\"frequency\": 2, \"value\": \"Let Me - Rihanna\"}, \"You Appearing - M83\": {\"frequency\": 3, \"value\": \"You Appearing - ...\"}, \"Never Gonna Be Alone (Album Version) - Nickelback\": {\"frequency\": 19, \"value\": \"Never Gonna Be ...\"}, \"Act Nice and Gentle - The Black Keys\": {\"frequency\": 1, \"value\": \"Act Nice and ...\"}, \"Is There a Ghost (Album) - Band Of Horses\": {\"frequency\": 11, \"value\": \"Is There a Ghost ...\"}, \"Dile al amor - Aventura\": {\"frequency\": 14, \"value\": \"Dile al amor - ...\"}, \"Nobody But You - The Black Keys\": {\"frequency\": 2, \"value\": \"Nobody But You - ...\"}, \"Speechless - Lady GaGa\": {\"frequency\": 18, \"value\": \"Speechless - Lady ...\"}, \"Here It Comes - Modest Mouse\": {\"frequency\": 2, \"value\": \"Here It Comes - ...\"}, \"Sympathy For The Devil - Guns N' Roses\": {\"frequency\": 2, \"value\": \"Sympathy For The ...\"}, \"Beach Baby - Bon Iver\": {\"frequency\": 5, \"value\": \"Beach Baby - Bon ...\"}, \"The Diary - Hollywood Undead\": {\"frequency\": 2, \"value\": \"The Diary - ...\"}, \"Too Shy - Kajagoogoo\": {\"frequency\": 13, \"value\": \"Too Shy - ...\"}, \"What Goes Around...Comes Around - Justin Timberlake\": {\"frequency\": 11, \"value\": \"What Goes ...\"}, \"Sexy Love - Anneli Drecker\": {\"frequency\": 1, \"value\": \"Sexy Love - Anneli ...\"}, \"Favorite Son [feat. Green Day & The Cast Of American Idiot] (Album Version) - Green Day\": {\"frequency\": 5, \"value\": \"Favorite Son ...\"}, \"Million Faces (Album Version) - Paolo Nutini\": {\"frequency\": 13, \"value\": \"Million Faces ...\"}, \"Sway - The Kooks\": {\"frequency\": 8, \"value\": \"Sway - The Kooks\"}, \"Breathe - Prodigy\": {\"frequency\": 3, \"value\": \"Breathe - Prodigy\"}, \"Jenny From The Block - Jennifer Lopez\": {\"frequency\": 1, \"value\": \"Jenny From The ...\"}, \"Boadicea - Enya\": {\"frequency\": 3, \"value\": \"Boadicea - Enya\"}, \"Bard Dance - Enya\": {\"frequency\": 75, \"value\": \"Bard Dance - Enya\"}, \"Change - Blind Melon\": {\"frequency\": 1, \"value\": \"Change - Blind ...\"}, \"Suffer Little Children - The Smiths\": {\"frequency\": 1, \"value\": \"Suffer Little ...\"}, \"Too Drunk Too F**** - Nouvelle Vague\": {\"frequency\": 6, \"value\": \"Too Drunk Too ...\"}, \"From Where You Are - Lifehouse\": {\"frequency\": 2, \"value\": \"From Where You Are ...\"}, \"Punch Drunk Love - Common / Kanye West\": {\"frequency\": 1, \"value\": \"Punch Drunk Love - ...\"}, \"When It's Over - 3 Doors Down\": {\"frequency\": 3, \"value\": \"When It's Over - 3 ...\"}, \"Province - TV On The Radio\": {\"frequency\": 1, \"value\": \"Province - TV On ...\"}, \"I Predict A Riot - Kaiser Chiefs\": {\"frequency\": 2, \"value\": \"I Predict A Riot - ...\"}, \"Lua (Single Version) - Bright Eyes\": {\"frequency\": 1, \"value\": \"Lua (Single ...\"}, \"All Star - Nando Reis\": {\"frequency\": 12, \"value\": \"All Star - Nando ...\"}, \"My Happy Ending - Avril Lavigne\": {\"frequency\": 4, \"value\": \"My Happy Ending - ...\"}, \"Leavin' Trunk - The Black Keys\": {\"frequency\": 1, \"value\": \"Leavin' Trunk - ...\"}, \"One In A Million - Aaliyah\": {\"frequency\": 9, \"value\": \"One In A Million - ...\"}, \"Fools - The Dodos\": {\"frequency\": 2, \"value\": \"Fools - The Dodos\"}, \"Complicated - Avril Lavigne\": {\"frequency\": 2, \"value\": \"Complicated - ...\"}, \"Ring Of Fire - Social Distortion\": {\"frequency\": 3, \"value\": \"Ring Of Fire - ...\"}, \"Lifespan Of A Fly - the bird and the bee\": {\"frequency\": 1, \"value\": \"Lifespan Of A Fly ...\"}, \"Wind Farm - Lange\": {\"frequency\": 2, \"value\": \"Wind Farm - Lange\"}, \"The Moan - The Black Keys\": {\"frequency\": 1, \"value\": \"The Moan - The ...\"}, \"Daydream - Markus Schulz\": {\"frequency\": 6, \"value\": \"Daydream - Markus ...\"}, \"Bittersweet Memories - Bullet For My Valentine\": {\"frequency\": 5, \"value\": \"Bittersweet ...\"}, \"Abrazame - Camila\": {\"frequency\": 48, \"value\": \"Abrazame - Camila\"}, \"My Love - the bird and the bee\": {\"frequency\": 1, \"value\": \"My Love - the bird ...\"}, \"Friction (LP Version) - Television\": {\"frequency\": 5, \"value\": \"Friction (LP ...\"}, \"Jerry Was A Race Car Driver - Primus\": {\"frequency\": 2, \"value\": \"Jerry Was A Race ...\"}, \"Your Time Has Come - Audioslave\": {\"frequency\": 12, \"value\": \"Your Time Has Come ...\"}, \"Supermassive Black Hole (Twilight Soundtrack Version) - Muse\": {\"frequency\": 15, \"value\": \"Supermassive Black ...\"}, \"I.R.S. - Guns N' Roses\": {\"frequency\": 3, \"value\": \"I.R.S. - Guns N' ...\"}, \"Stella - All Time Low\": {\"frequency\": 12, \"value\": \"Stella - All Time ...\"}, \"Last Tango In Paris - Gotan Project\": {\"frequency\": 6, \"value\": \"Last Tango In ...\"}, \"Moon Baby - Godsmack\": {\"frequency\": 1, \"value\": \"Moon Baby - ...\"}, \"More Than Meets The Eye - Europe\": {\"frequency\": 14, \"value\": \"More Than Meets ...\"}, \"I Could Have Lied (Album Version) - Red Hot Chili Peppers\": {\"frequency\": 1, \"value\": \"I Could Have Lied ...\"}, \"Hold On - KT Tunstall\": {\"frequency\": 2, \"value\": \"Hold On - KT ...\"}, \"Just - Radiohead\": {\"frequency\": 7, \"value\": \"Just - Radiohead\"}, \"Rise - Flobots\": {\"frequency\": 4, \"value\": \"Rise - Flobots\"}, \"Them Eyes - The Black Keys\": {\"frequency\": 3, \"value\": \"Them Eyes - The ...\"}, \"Dog Days Are Over (Demo) - Florence + The Machine\": {\"frequency\": 20, \"value\": \"Dog Days Are Over ...\"}, \"You'll Never Know (Live Version) - Michael Bubl\\ufffd\\ufffd\": {\"frequency\": 2, \"value\": \"You'll Never Know ...\"}, \"La Tablada - An\\ufffd\\ufffdbal Troilo - Roberto Grela\": {\"frequency\": 3, \"value\": \"La Tablada - ...\"}, \"Faster [Explicit Version] - Third Eye Blind\": {\"frequency\": 4, \"value\": \"Faster [Explicit ...\"}, \"Two Steps_ Twice - Foals\": {\"frequency\": 10, \"value\": \"Two Steps_ Twice - ...\"}, \"War Ensemble - Slayer\": {\"frequency\": 6, \"value\": \"War Ensemble - ...\"}, \"Harlem's Nocturne - Alicia Keys\": {\"frequency\": 4, \"value\": \"Harlem's Nocturne ...\"}, \"Prince Caspian - Phish\": {\"frequency\": 2, \"value\": \"Prince Caspian - ...\"}, \"This Is The Future - Owl City\": {\"frequency\": 3, \"value\": \"This Is The Future ...\"}, \"I\\u0019m Not The One - The Black Keys\": {\"frequency\": 67, \"value\": \"I\\u0019m Not The One - ...\"}, \"Holiday - Happy Mondays\": {\"frequency\": 4, \"value\": \"Holiday - Happy ...\"}, \"Helpless - Crosby_ Stills_ Nash and Young\": {\"frequency\": 1, \"value\": \"Helpless - Crosby_ ...\"}, \"Oh Comely - Neutral Milk Hotel\": {\"frequency\": 3, \"value\": \"Oh Comely - ...\"}, \"Naked - Marques Houston\": {\"frequency\": 5, \"value\": \"Naked - Marques ...\"}, \"Super Honeymoon - Owl City\": {\"frequency\": 1, \"value\": \"Super Honeymoon - ...\"}, \"Postcards From Italy - Beirut\": {\"frequency\": 3, \"value\": \"Postcards From ...\"}, \"God & Satan - Biffy Clyro\": {\"frequency\": 6, \"value\": \"God & Satan - ...\"}, \"Everything You Do Is A Balloon - Boards of Canada\": {\"frequency\": 3, \"value\": \"Everything You Do ...\"}, \"All My Mistakes (US4BW0700133) - The Avett Brothers\": {\"frequency\": 6, \"value\": \"All My Mistakes ...\"}, \"Never As Tired As When I'm Waking Up - LCD Soundsystem\": {\"frequency\": 5, \"value\": \"Never As Tired As ...\"}, \"In The Shadows - The Stranglers\": {\"frequency\": 1, \"value\": \"In The Shadows - ...\"}, \"In One Ear - Cage The Elephant\": {\"frequency\": 8, \"value\": \"In One Ear - Cage ...\"}, \"Past In Present - Feist\": {\"frequency\": 5, \"value\": \"Past In Present - ...\"}, \"Punk - Gorillaz\": {\"frequency\": 9, \"value\": \"Punk - Gorillaz\"}, \"Webers - Caribou (formerly Dan Snaith's Manitoba)\": {\"frequency\": 1, \"value\": \"Webers - Caribou ...\"}, \"Common Denominator - Justin Bieber\": {\"frequency\": 24, \"value\": \"Common Denominator ...\"}, \"Listen To Her Heart - Tom Petty And The Heartbreakers\": {\"frequency\": 4, \"value\": \"Listen To Her ...\"}, \"One Less Lonely Girl - Justin Bieber\": {\"frequency\": 104, \"value\": \"One Less Lonely ...\"}, \"From The Ritz To The Rubble - Arctic Monkeys\": {\"frequency\": 1, \"value\": \"From The Ritz To ...\"}, \"Burnin' Sky - Bad Company\": {\"frequency\": 1, \"value\": \"Burnin' Sky - Bad ...\"}, \"Never Ever - Shout Out Louds\": {\"frequency\": 2, \"value\": \"Never Ever - Shout ...\"}, \"Runnin' Around - Colbie Caillat\": {\"frequency\": 4, \"value\": \"Runnin' Around - ...\"}, \"Roger That - Young Money\": {\"frequency\": 15, \"value\": \"Roger That - Young ...\"}, \"Mix Tape - Brand New\": {\"frequency\": 1, \"value\": \"Mix Tape - Brand ...\"}, \"Feel Like Home (Album Version) - Fort Minor (Featuring Styles Of Beyond)\": {\"frequency\": 26, \"value\": \"Feel Like Home ...\"}, \"If This Is It - Huey Lewis & The News\": {\"frequency\": 12, \"value\": \"If This Is It - ...\"}, \"Pet Semetary - The Ramones\": {\"frequency\": 1, \"value\": \"Pet Semetary - The ...\"}, \"Blood - El-P\": {\"frequency\": 2, \"value\": \"Blood - El-P\"}, \"You Never Let Go - Matt Redman\": {\"frequency\": 2, \"value\": \"You Never Let Go - ...\"}, \"Swim - Surfer Blood\": {\"frequency\": 1, \"value\": \"Swim - Surfer ...\"}, \"Goodbye To Love - Carpenters\": {\"frequency\": 5, \"value\": \"Goodbye To Love - ...\"}, \"Ch-Check It Out - Beastie Boys\": {\"frequency\": 2, \"value\": \"Ch-Check It Out - ...\"}, \"Hate On Me - Jill Scott\": {\"frequency\": 2, \"value\": \"Hate On Me - Jill ...\"}, \"Trouble (Album Version) - Ray LaMontagne\": {\"frequency\": 2, \"value\": \"Trouble (Album ...\"}, \"Lullaby - OneRepublic\": {\"frequency\": 11, \"value\": \"Lullaby - ...\"}, \"Never Ending Math Equation - Modest Mouse\": {\"frequency\": 6, \"value\": \"Never Ending Math ...\"}, \"Say You Will - Kanye West\": {\"frequency\": 9, \"value\": \"Say You Will - ...\"}, \"Champion - Kanye West\": {\"frequency\": 13, \"value\": \"Champion - Kanye ...\"}, \"I Want You - Marvin Gaye\": {\"frequency\": 1, \"value\": \"I Want You - ...\"}, \"Sextape (Album Version) - Deftones\": {\"frequency\": 7, \"value\": \"Sextape (Album ...\"}, \"Soul Man (Live Version) - The Blues Brothers\": {\"frequency\": 18, \"value\": \"Soul Man (Live ...\"}, \"Many Of Horror - Biffy Clyro\": {\"frequency\": 4, \"value\": \"Many Of Horror - ...\"}, \"Circling - Four Tet\": {\"frequency\": 5, \"value\": \"Circling - Four ...\"}, \"Afternoon (Album) - Carla Bruni\": {\"frequency\": 8, \"value\": \"Afternoon (Album) ...\"}, \"Dig This Well Deep - Howard Jones\": {\"frequency\": 10, \"value\": \"Dig This Well Deep ...\"}, \"Slippin' - DMX\": {\"frequency\": 1, \"value\": \"Slippin' - DMX\"}, \"Burden of Tomorrow - The Tallest Man On Earth\": {\"frequency\": 4, \"value\": \"Burden of Tomorrow ...\"}, \"The Prime Time Of Your Life - Daft Punk\": {\"frequency\": 2, \"value\": \"The Prime Time Of ...\"}, \"Me & My B*tch (Album Version) - The Notorious B.I.G.\": {\"frequency\": 2, \"value\": \"Me & My B*tch ...\"}, \"California - Hollywood Undead\": {\"frequency\": 43, \"value\": \"California - ...\"}, \"Foolish - Ashanti\": {\"frequency\": 1, \"value\": \"Foolish - Ashanti\"}, \"Steam Machine - Daft Punk\": {\"frequency\": 6, \"value\": \"Steam Machine - ...\"}, \"Sometime Around Midnight - The Airborne Toxic Event\": {\"frequency\": 2, \"value\": \"Sometime Around ...\"}, \"Cold Desert - Kings Of Leon\": {\"frequency\": 45, \"value\": \"Cold Desert - ...\"}, \"You Are A Knife - Veto\": {\"frequency\": 2, \"value\": \"You Are A Knife - ...\"}, \"5 Minutes Alone [Live Version] - Pantera\": {\"frequency\": 1, \"value\": \"5 Minutes Alone ...\"}, \"I Will Be Here - Ti\\ufffd\\ufffdsto & Sneaky Sound System\": {\"frequency\": 8, \"value\": \"I Will Be Here - ...\"}, \"53rd & 3rd   (Remastered Version ) - Ramones\": {\"frequency\": 3, \"value\": \"53rd & 3rd ...\"}, \"Another Day - Angus & Julia Stone\": {\"frequency\": 7, \"value\": \"Another Day - ...\"}, \"Unnatural Selection - Muse\": {\"frequency\": 9, \"value\": \"Unnatural ...\"}, \"All The Same - Sick Puppies\": {\"frequency\": 1, \"value\": \"All The Same - ...\"}, \"Sky Blue Sky - Wilco\": {\"frequency\": 15, \"value\": \"Sky Blue Sky - ...\"}, \"O My God - The Police\": {\"frequency\": 3, \"value\": \"O My God - The ...\"}, \"Blue Mind - Alexi Murdoch\": {\"frequency\": 1, \"value\": \"Blue Mind - Alexi ...\"}, \"Danger - Erykah Badu\": {\"frequency\": 1, \"value\": \"Danger - Erykah ...\"}, \"Laundry Room - The Avett Brothers\": {\"frequency\": 43, \"value\": \"Laundry Room - The ...\"}, \"Weenie Beenie - Foo Fighters\": {\"frequency\": 21, \"value\": \"Weenie Beenie - ...\"}, \"There Is A Light That Never Goes Out - The Smiths\": {\"frequency\": 1, \"value\": \"There Is A Light ...\"}, \"Dekh Le - Sunidhi Chauhan / Anu Malik / Jatin Sharma\": {\"frequency\": 1, \"value\": \"Dekh Le - Sunidhi ...\"}, \"Sax Man - The Lonely Island / Jack Black\": {\"frequency\": 23, \"value\": \"Sax Man - The ...\"}, \"Pogo - Digitalism\": {\"frequency\": 1, \"value\": \"Pogo - Digitalism\"}, \"Should've Listened (Album Version) - Nickelback\": {\"frequency\": 1, \"value\": \"Should've Listened ...\"}, \"Hollywood - Angus & Julia Stone\": {\"frequency\": 41, \"value\": \"Hollywood - Angus ...\"}, \"Outro - Stavento\": {\"frequency\": 4, \"value\": \"Outro - Stavento\"}, \"Ghost Under Rocks - Ra Ra Riot\": {\"frequency\": 1, \"value\": \"Ghost Under Rocks ...\"}, \"All Star - Smash Mouth\": {\"frequency\": 2, \"value\": \"All Star - Smash ...\"}, \"I Am Not a Robot - Marina And The Diamonds\": {\"frequency\": 1, \"value\": \"I Am Not a Robot - ...\"}, \"Spare-Ohs - Andrew Bird\": {\"frequency\": 1, \"value\": \"Spare-Ohs - Andrew ...\"}, \"In The Waiting Line - Zero 7\": {\"frequency\": 2, \"value\": \"In The Waiting ...\"}, \"Damn Girl - The All-American Rejects\": {\"frequency\": 2, \"value\": \"Damn Girl - The ...\"}, \"Let's Go Crazy (LP Version) - Prince & The Revolution\": {\"frequency\": 24, \"value\": \"Let's Go Crazy (LP ...\"}, \"The Carpal Tunnel Of Love - Fall Out Boy\": {\"frequency\": 2, \"value\": \"The Carpal Tunnel ...\"}, \"Sowing Season (Yeah) - Brand New\": {\"frequency\": 1, \"value\": \"Sowing Season ...\"}, \"Lots More Stairs - Octopus Project\": {\"frequency\": 7, \"value\": \"Lots More Stairs - ...\"}, \"Friends And Alibis - Escape The Fate\": {\"frequency\": 7, \"value\": \"Friends And Alibis ...\"}, \"The Perfect Drug - Nine Inch Nails\": {\"frequency\": 5, \"value\": \"The Perfect Drug - ...\"}, \"Pain - Hollywood Undead\": {\"frequency\": 24, \"value\": \"Pain - Hollywood ...\"}, \"Macarena - Los Del Rio\": {\"frequency\": 1, \"value\": \"Macarena - Los Del ...\"}, \"Engel - Rammstein\": {\"frequency\": 1, \"value\": \"Engel - Rammstein\"}, \"Scream - Michael Jackson\": {\"frequency\": 2, \"value\": \"Scream - Michael ...\"}, \"Soldier Side - System of a Down\": {\"frequency\": 9, \"value\": \"Soldier Side - ...\"}, \"I'm A Lady [feat. Trouble Andrew] - Santigold\": {\"frequency\": 5, \"value\": \"I'm A Lady [feat. ...\"}, \"South Side (Digitally Remastered) - Louis Smith\": {\"frequency\": 5, \"value\": \"South Side ...\"}, \"Better Man - Pearl Jam\": {\"frequency\": 5, \"value\": \"Better Man - Pearl ...\"}, \"The Best Thing - Relient K\": {\"frequency\": 2, \"value\": \"The Best Thing - ...\"}, \"Last Night A DJ Saved My Life - Mariah Carey Featuring Busta Rhymes_ Fabulous And  DJ Clue\": {\"frequency\": 3, \"value\": \"Last Night A DJ ...\"}, \"Monument (Album Version) - A Day To Remember\": {\"frequency\": 2, \"value\": \"Monument (Album ...\"}, \"Wounder - Burial\": {\"frequency\": 21, \"value\": \"Wounder - Burial\"}, \"Ride A White Horse - Goldfrapp\": {\"frequency\": 1, \"value\": \"Ride A White Horse ...\"}, \"10 A.M. Automatic - The Black Keys\": {\"frequency\": 1, \"value\": \"10 A.M. Automatic ...\"}, \"The Way You Lived - CKY\": {\"frequency\": 4, \"value\": \"The Way You Lived ...\"}, \"What A Beautiful Day - Chris Cagle\": {\"frequency\": 1, \"value\": \"What A Beautiful ...\"}, \"A Lack Of Color (Album Version) - Death Cab for Cutie\": {\"frequency\": 7, \"value\": \"A Lack Of Color ...\"}, \"Going Bad - Tech N9ne\": {\"frequency\": 1, \"value\": \"Going Bad - Tech ...\"}, \"Analyse - Thom Yorke\": {\"frequency\": 5, \"value\": \"Analyse - Thom ...\"}, \"She's Everything - Brad Paisley\": {\"frequency\": 3, \"value\": \"She's Everything - ...\"}, \"Over And Over - Morcheeba\": {\"frequency\": 3, \"value\": \"Over And Over - ...\"}, \"Killing Lies - The Strokes\": {\"frequency\": 8, \"value\": \"Killing Lies - The ...\"}, \"Born In The 50's - The Police\": {\"frequency\": 1, \"value\": \"Born In The 50's - ...\"}, \"Yeah - Moby\": {\"frequency\": 19, \"value\": \"Yeah - Moby\"}, \"Cosmic Love - Florence + The Machine\": {\"frequency\": 48, \"value\": \"Cosmic Love - ...\"}, \"Coming Of Age - Jay-Z featuring Memphis Bleek\": {\"frequency\": 1, \"value\": \"Coming Of Age - ...\"}, \"Red Right Hand - Nick Cave & The Bad Seeds\": {\"frequency\": 2, \"value\": \"Red Right Hand - ...\"}, \"Either Way - Wilco\": {\"frequency\": 6, \"value\": \"Either Way - Wilco\"}, \"Mince Meat - Dangerdoom\": {\"frequency\": 12, \"value\": \"Mince Meat - ...\"}, \"November Has Come - Gorillaz\": {\"frequency\": 2, \"value\": \"November Has Come ...\"}, \"Meet the Monster - Five Finger Death Punch\": {\"frequency\": 9, \"value\": \"Meet the Monster - ...\"}, \"Comatose (Album Version) - Skillet\": {\"frequency\": 2, \"value\": \"Comatose (Album ...\"}, \"Vivo Muriendo - Luis Fonsi\": {\"frequency\": 1, \"value\": \"Vivo Muriendo - ...\"}, \"January Wedding - The Avett Brothers\": {\"frequency\": 12, \"value\": \"January Wedding - ...\"}, \"Pi-di-di-di - Calle 13\": {\"frequency\": 3, \"value\": \"Pi-di-di-di - ...\"}, \"Keep You Much Longer - Akon\": {\"frequency\": 8, \"value\": \"Keep You Much ...\"}, \"Microdaze - Jonny L\": {\"frequency\": 2, \"value\": \"Microdaze - Jonny ...\"}, \"Breathing - Yellowcard\": {\"frequency\": 10, \"value\": \"Breathing - ...\"}, \"Emotion - Daft Punk\": {\"frequency\": 1, \"value\": \"Emotion - Daft ...\"}, \"Give A Little Bit - Supertramp\": {\"frequency\": 13, \"value\": \"Give A Little Bit ...\"}, \"In a Cave  - Tokyo Police Club\": {\"frequency\": 2, \"value\": \"In a Cave  - Tokyo ...\"}, \"Big Idea - Radney Foster\": {\"frequency\": 55, \"value\": \"Big Idea - Radney ...\"}, \"Kiss You All Over - Exile\": {\"frequency\": 4, \"value\": \"Kiss You All Over ...\"}, \"The Glory - Kanye West\": {\"frequency\": 10, \"value\": \"The Glory - Kanye ...\"}, \"Holding Back The Years - Simply Red\": {\"frequency\": 1, \"value\": \"Holding Back The ...\"}, \"Sunrise - Yeasayer\": {\"frequency\": 1, \"value\": \"Sunrise - Yeasayer\"}, \"Monster - Lady GaGa\": {\"frequency\": 14, \"value\": \"Monster - Lady ...\"}, \"Wishin' And  Hopin' - Dusty Springfield\": {\"frequency\": 5, \"value\": \"Wishin' And ...\"}, \"Peg - Steely Dan\": {\"frequency\": 16, \"value\": \"Peg - Steely Dan\"}, \"Everything Ends (Album Version) - Slipknot\": {\"frequency\": 2, \"value\": \"Everything Ends ...\"}, \"Change - Taylor Swift\": {\"frequency\": 2, \"value\": \"Change - Taylor ...\"}, \"Time To Pretend - MGMT\": {\"frequency\": 5, \"value\": \"Time To Pretend - ...\"}, \"Love To Hate You - Erasure\": {\"frequency\": 2, \"value\": \"Love To Hate You - ...\"}, \"Precious - Depeche Mode\": {\"frequency\": 1, \"value\": \"Precious - Depeche ...\"}, \"Screaming Infidelities - Dashboard Confessional\": {\"frequency\": 8, \"value\": \"Screaming ...\"}, \"Acapulco 1922 - Herb Alpert And The Tijuana Brass\": {\"frequency\": 3, \"value\": \"Acapulco 1922 - ...\"}, \"Human - The Human League\": {\"frequency\": 2, \"value\": \"Human - The Human ...\"}, \"Sun It Rises - Fleet Foxes\": {\"frequency\": 6, \"value\": \"Sun It Rises - ...\"}, \"I Hate Myself For Loving You - Joan Jett & The Blackhearts\": {\"frequency\": 1, \"value\": \"I Hate Myself For ...\"}, \"God Put A Smile Upon Your Face - Coldplay\": {\"frequency\": 9, \"value\": \"God Put A Smile ...\"}, \"New York - Cat Power\": {\"frequency\": 7, \"value\": \"New York - Cat ...\"}, \"Supposed To Be - Jack Johnson\": {\"frequency\": 25, \"value\": \"Supposed To Be - ...\"}, \"Blackbird - Alter Bridge\": {\"frequency\": 3, \"value\": \"Blackbird - Alter ...\"}, \"Son Of Dragon - Liquid People\": {\"frequency\": 17, \"value\": \"Son Of Dragon - ...\"}, \"Que pides tu? - Alex Ubago\": {\"frequency\": 1, \"value\": \"Que pides tu? - ...\"}, \"Bang Bang - Dispatch\": {\"frequency\": 5, \"value\": \"Bang Bang - ...\"}, \"Mutiny_ I Promise You - The New Pornographers\": {\"frequency\": 2, \"value\": \"Mutiny_ I Promise ...\"}, \"Sleeping Beauty - A Perfect Circle\": {\"frequency\": 7, \"value\": \"Sleeping Beauty - ...\"}, \"L'Via L'Viaquez - The Mars Volta\": {\"frequency\": 3, \"value\": \"L'Via L'Viaquez - ...\"}, \"Heart Attack and Vine - Screamin' Jay Hawkins\": {\"frequency\": 15, \"value\": \"Heart Attack and ...\"}, \"Le Moulin - Yann Tiersen\": {\"frequency\": 24, \"value\": \"Le Moulin - Yann ...\"}, \"In The End (Album Version) - Green Day\": {\"frequency\": 1, \"value\": \"In The End (Album ...\"}, \"The Moon - Cat Power\": {\"frequency\": 5, \"value\": \"The Moon - Cat ...\"}, \"Puppetmad - Puppetmastaz\": {\"frequency\": 2, \"value\": \"Puppetmad - ...\"}, \"Lookin' Out My Back Door - Creedence Clearwater Revival\": {\"frequency\": 13, \"value\": \"Lookin' Out My ...\"}, \"Sky And Sand - Paul & Fritz Kalkbrenner\": {\"frequency\": 6, \"value\": \"Sky And Sand - ...\"}, \"The Hazards Of Love 3 (Revenge!) - The Decemberists\": {\"frequency\": 2, \"value\": \"The Hazards Of ...\"}, \"Gente - Laura Pausini\": {\"frequency\": 1, \"value\": \"Gente - Laura ...\"}, \"Soft Shock - Yeah Yeah Yeahs\": {\"frequency\": 14, \"value\": \"Soft Shock - Yeah ...\"}, \"Como Los Olivos - Bebe\": {\"frequency\": 4, \"value\": \"Como Los Olivos - ...\"}, \"I'm Only Me When I'm With You - Taylor Swift\": {\"frequency\": 31, \"value\": \"I'm Only Me When ...\"}, \"She Said_ She Said - The Black Keys\": {\"frequency\": 4, \"value\": \"She Said_ She Said ...\"}, \"A Better Place_ A Better Time (Album Version) - Streetlight Manifesto\": {\"frequency\": 5, \"value\": \"A Better Place_ A ...\"}, \"Space Dementia - Muse\": {\"frequency\": 6, \"value\": \"Space Dementia - ...\"}, \"Hello_ Brooklyn - All Time Low\": {\"frequency\": 49, \"value\": \"Hello_ Brooklyn - ...\"}, \"Blessa - Toro Y Moi\": {\"frequency\": 3, \"value\": \"Blessa - Toro Y ...\"}, \"Vagabond - Wolfmother\": {\"frequency\": 4, \"value\": \"Vagabond - ...\"}, \"I'd Come For You (Album Version) - Nickelback\": {\"frequency\": 22, \"value\": \"I'd Come For You ...\"}, \"I Put A Spell On You - Creedence Clearwater Revival\": {\"frequency\": 1, \"value\": \"I Put A Spell On ...\"}, \"Catastrophe And The Cure - Explosions In The Sky\": {\"frequency\": 10, \"value\": \"Catastrophe And ...\"}, \"Citizens Of The World - Dr. Know\": {\"frequency\": 1, \"value\": \"Citizens Of The ...\"}, \"Abrazame  (Version Acustica) - Camila\": {\"frequency\": 7, \"value\": \"Abrazame  (Version ...\"}, \"Becoming [Live Version] - Pantera\": {\"frequency\": 7, \"value\": \"Becoming [Live ...\"}, \"Chinese - Lily Allen\": {\"frequency\": 18, \"value\": \"Chinese - Lily ...\"}, \"Lithium - Nirvana\": {\"frequency\": 29, \"value\": \"Lithium - Nirvana\"}, \"Hypnotize(Album Version) - The Notorious B.I.G.\": {\"frequency\": 1, \"value\": \"Hypnotize(Album ...\"}, \"Fast Car (LP Version) - Tracy Chapman\": {\"frequency\": 1, \"value\": \"Fast Car (LP ...\"}, \"Luxurious - Gwen Stefani\": {\"frequency\": 1, \"value\": \"Luxurious - Gwen ...\"}, \"Opened Once - Jeff Buckley\": {\"frequency\": 6, \"value\": \"Opened Once - Jeff ...\"}, \"In The Arms Of Perdition - Despised Icon\": {\"frequency\": 13, \"value\": \"In The Arms Of ...\"}, \"The Dirt Whispered - Rise Against\": {\"frequency\": 42, \"value\": \"The Dirt Whispered ...\"}, \"Hidden Place - Bj\\ufffd\\ufffdrk\": {\"frequency\": 2, \"value\": \"Hidden Place - ...\"}, \"Afterlife (Album Version) - Avenged Sevenfold\": {\"frequency\": 4, \"value\": \"Afterlife (Album ...\"}, \"Karabali - Herbie Hancock\": {\"frequency\": 1, \"value\": \"Karabali - Herbie ...\"}, \"Too Many Puppies - Primus\": {\"frequency\": 13, \"value\": \"Too Many Puppies - ...\"}, \"Happy? - Mudvayne\": {\"frequency\": 2, \"value\": \"Happy? - Mudvayne\"}, \"Hucklebuck - Canned Heat\": {\"frequency\": 17, \"value\": \"Hucklebuck - ...\"}, \"Enterlude - The Killers\": {\"frequency\": 6, \"value\": \"Enterlude - The ...\"}, \"Leg 8 - The Tough Alliance\": {\"frequency\": 1, \"value\": \"Leg 8 - The Tough ...\"}, \"India'Song - India.Arie\": {\"frequency\": 1, \"value\": \"India'Song - ...\"}, \"Romancipation - Musiq\": {\"frequency\": 4, \"value\": \"Romancipation - ...\"}, \"Laredo - Band Of Horses\": {\"frequency\": 1, \"value\": \"Laredo - Band Of ...\"}, \"Also Frightened - Animal Collective\": {\"frequency\": 7, \"value\": \"Also Frightened - ...\"}, \"Two Worlds Collide - Demi Lovato\": {\"frequency\": 3, \"value\": \"Two Worlds Collide ...\"}, \"X & Y - Coldplay\": {\"frequency\": 1, \"value\": \"X & Y - Coldplay\"}, \"Someone's Missing - MGMT\": {\"frequency\": 5, \"value\": \"Someone's Missing ...\"}, \"No Creo En El Jamas - Juanes\": {\"frequency\": 2, \"value\": \"No Creo En El ...\"}, \"What Up Gangsta - 50 Cent\": {\"frequency\": 1, \"value\": \"What Up Gangsta - ...\"}, \"The Boy Is Mine (Duet With Monica) (LP Version) - Brandy duet with Monica\": {\"frequency\": 1, \"value\": \"The Boy Is Mine ...\"}, \"Global Warning - Steel Pulse\": {\"frequency\": 4, \"value\": \"Global Warning - ...\"}, \"Oh My God - A Tribe Called Quest\": {\"frequency\": 2, \"value\": \"Oh My God - A ...\"}, \"Lights Of Ayodhya - Yulara\": {\"frequency\": 11, \"value\": \"Lights Of Ayodhya ...\"}, \"A Year - Loudon Wainwright III\": {\"frequency\": 6, \"value\": \"A Year - Loudon ...\"}, \"Mea Culpa - Enigma\": {\"frequency\": 1, \"value\": \"Mea Culpa - Enigma\"}, \"Invisible Sun - The Police\": {\"frequency\": 19, \"value\": \"Invisible Sun - ...\"}, \"Korock - Holy Fuck\": {\"frequency\": 1, \"value\": \"Korock - Holy Fuck\"}, \"Believe (Album Version) - Skillet\": {\"frequency\": 15, \"value\": \"Believe (Album ...\"}, \"Sharecropper's Son - Yonder Mountain String Band\": {\"frequency\": 15, \"value\": \"Sharecropper's Son ...\"}, \"Girl I Love You (She is Danger Remix) - Massive Attack\": {\"frequency\": 14, \"value\": \"Girl I Love You ...\"}, \"The Mask (Featuring Ghostface Killah) (Album Version) - Danger Doom\": {\"frequency\": 9, \"value\": \"The Mask ...\"}, \"She'll Come Back To Me - Cake\": {\"frequency\": 6, \"value\": \"She'll Come Back ...\"}, \"Moonshadow - Cat Stevens\": {\"frequency\": 33, \"value\": \"Moonshadow - Cat ...\"}, \"Stacked Actors - Foo Fighters\": {\"frequency\": 3, \"value\": \"Stacked Actors - ...\"}, \"What Is Light? Where Is Laughter? (Album Version) - Twin Atlantic\": {\"frequency\": 3, \"value\": \"What Is Light? ...\"}, \"The Sporting Life - The Decemberists\": {\"frequency\": 2, \"value\": \"The Sporting Life ...\"}, \"Be With You - Akon\": {\"frequency\": 12, \"value\": \"Be With You - Akon\"}, \"Untitled #7 - Flying Lotus\": {\"frequency\": 1, \"value\": \"Untitled #7 - ...\"}, \"Awake - Secondhand Serenade\": {\"frequency\": 2, \"value\": \"Awake - Secondhand ...\"}, \"All We Ever Do Is Say Goodbye - John Mayer\": {\"frequency\": 48, \"value\": \"All We Ever Do Is ...\"}, \"Jolene - Cake\": {\"frequency\": 1, \"value\": \"Jolene - Cake\"}, \"Sick_ Sick_ Sick - Queens Of The Stone Age\": {\"frequency\": 4, \"value\": \"Sick_ Sick_ Sick - ...\"}, \"Lifeboats - Snow Patrol\": {\"frequency\": 13, \"value\": \"Lifeboats - Snow ...\"}, \"Orishas Llego - Orishas\": {\"frequency\": 56, \"value\": \"Orishas Llego - ...\"}, \"King & Queen - Mary J. Blige / John Legend\": {\"frequency\": 2, \"value\": \"King & Queen - ...\"}, \"Bad Moon Rising - Creedence Clearwater Revival\": {\"frequency\": 25, \"value\": \"Bad Moon Rising - ...\"}, \"Dark Moves Of Love - M83\": {\"frequency\": 1, \"value\": \"Dark Moves Of Love ...\"}, \"Deliver Us from Evil - Bullet For My Valentine\": {\"frequency\": 11, \"value\": \"Deliver Us from ...\"}, \"Blasphemous rumours - ANGELZOOM\": {\"frequency\": 3, \"value\": \"Blasphemous ...\"}, \"Not Fair - Lily Allen\": {\"frequency\": 5, \"value\": \"Not Fair - Lily ...\"}, \"It Goes On And On - The Avett Brothers\": {\"frequency\": 9, \"value\": \"It Goes On And On ...\"}, \"Big Green Tractor - Jason Aldean\": {\"frequency\": 1, \"value\": \"Big Green Tractor ...\"}, \"Empty Apartment - Yellowcard\": {\"frequency\": 3, \"value\": \"Empty Apartment - ...\"}, \"Innocent Bones (Album) - Iron And Wine\": {\"frequency\": 1, \"value\": \"Innocent Bones ...\"}, \"Annan Water - The Decemberists\": {\"frequency\": 4, \"value\": \"Annan Water - The ...\"}, \"Sacrifice - Steve Miller\": {\"frequency\": 51, \"value\": \"Sacrifice - Steve ...\"}, \"Hurt - Nine Inch Nails\": {\"frequency\": 3, \"value\": \"Hurt - Nine Inch ...\"}, \"Old Enough (Featuring Ricky Skaggs and Ashley Monroe) - The Raconteurs\": {\"frequency\": 5, \"value\": \"Old Enough ...\"}, \"Me And Bobby McGee - Janis Joplin\": {\"frequency\": 1, \"value\": \"Me And Bobby McGee ...\"}, \"Our Swords (Soundtrack Version) - Band Of Horses\": {\"frequency\": 1, \"value\": \"Our Swords ...\"}, \"Runnin' - The Pharcyde\": {\"frequency\": 1, \"value\": \"Runnin' - The ...\"}, \"Pjanoo - Eric Prydz\": {\"frequency\": 5, \"value\": \"Pjanoo - Eric ...\"}, \"Oxygen - Colbie Caillat\": {\"frequency\": 15, \"value\": \"Oxygen - Colbie ...\"}, \"Strange Reunions - Yeasayer\": {\"frequency\": 23, \"value\": \"Strange Reunions - ...\"}, \"Up And Down (explicit album version) - Pretty Ricky\": {\"frequency\": 33, \"value\": \"Up And Down ...\"}, \"A Rush Of Blood To The Head - Coldplay\": {\"frequency\": 12, \"value\": \"A Rush Of Blood To ...\"}, \"Kiss Me Where It Smells Funny - Bloodhound Gang\": {\"frequency\": 1, \"value\": \"Kiss Me Where It ...\"}, \"Roll On Down The Highway - Bachman-Turner Overdrive\": {\"frequency\": 7, \"value\": \"Roll On Down The ...\"}, \"No Sleep Till Brooklyn - The Beastie Boys\": {\"frequency\": 1, \"value\": \"No Sleep Till ...\"}, \"Heart Less - A Day To Remember\": {\"frequency\": 3, \"value\": \"Heart Less - A Day ...\"}, \"Smoking Gun - Jadakiss / Jazmine Sullivan\": {\"frequency\": 1, \"value\": \"Smoking Gun - ...\"}, \"We've Only Just Begun - Carpenters\": {\"frequency\": 1, \"value\": \"We've Only Just ...\"}, \"Besame Mucho - Andrea Bocelli\": {\"frequency\": 7, \"value\": \"Besame Mucho - ...\"}, \"Saturdays - Cut Copy\": {\"frequency\": 2, \"value\": \"Saturdays - Cut ...\"}, \"Ball And Chain - Janis Joplin\": {\"frequency\": 5, \"value\": \"Ball And Chain - ...\"}, \"But Tonight We Dance - Rise Against\": {\"frequency\": 1, \"value\": \"But Tonight We ...\"}, \"Baobabs (Bonus Album Version) - Regina Spektor\": {\"frequency\": 1, \"value\": \"Baobabs (Bonus ...\"}, \"Mondegreen - Yeasayer\": {\"frequency\": 4, \"value\": \"Mondegreen - ...\"}, \"Knocking On Forbidden Doors - Enigma\": {\"frequency\": 2, \"value\": \"Knocking On ...\"}, \"Virginia Moon - Foo Fighters\": {\"frequency\": 1, \"value\": \"Virginia Moon - ...\"}, \"Fever - Adam Lambert\": {\"frequency\": 5, \"value\": \"Fever - Adam ...\"}, \"Rianna - Fisher\": {\"frequency\": 5, \"value\": \"Rianna - Fisher\"}, \"Beat Goes On [Featuring Kanye West] (Album Version) - Madonna\": {\"frequency\": 1, \"value\": \"Beat Goes On ...\"}, \"I Just Don't Think I'll Ever Get Over You - Colin Hay\": {\"frequency\": 1, \"value\": \"I Just Don't Think ...\"}, \"Hello - Beyonc\\ufffd\\ufffd\": {\"frequency\": 6, \"value\": \"Hello - Beyonc\\u00e9\"}, \"Watch Your Movements (feat. Akon) (amended album version) - Black Rob\": {\"frequency\": 4, \"value\": \"Watch Your ...\"}, \"Camaro - Kings Of Leon\": {\"frequency\": 12, \"value\": \"Camaro - Kings Of ...\"}, \"Seize The Day (Album Version) - Avenged Sevenfold\": {\"frequency\": 16, \"value\": \"Seize The Day ...\"}, \"Cigarettes_ Wedding Bands (Album) - Band Of Horses\": {\"frequency\": 2, \"value\": \"Cigarettes_ ...\"}, \"North Sea Storm (Live) - Amon Amarth\": {\"frequency\": 4, \"value\": \"North Sea Storm ...\"}, \"My Old School - Steely Dan\": {\"frequency\": 17, \"value\": \"My Old School - ...\"}, \"Primavera - Ludovico Einaudi\": {\"frequency\": 8, \"value\": \"Primavera - ...\"}, \"Fire It Up - Modest Mouse\": {\"frequency\": 1, \"value\": \"Fire It Up - ...\"}, \"Stop Coming To My House - Mogwai\": {\"frequency\": 1, \"value\": \"Stop Coming To My ...\"}, \"Pr\\ufffd\\ufffdte A Porter - Paris Combo\": {\"frequency\": 47, \"value\": \"Pr\\u00eate A Porter - ...\"}, \"Dreaming Out Loud - OneRepublic\": {\"frequency\": 1, \"value\": \"Dreaming Out Loud ...\"}, \"I'll Hold My Breath - Ellie Goulding\": {\"frequency\": 8, \"value\": \"I'll Hold My ...\"}, \"Mr Vain - Culture Beat\": {\"frequency\": 1, \"value\": \"Mr Vain - Culture ...\"}, \"Something I Can Never Have - Nine Inch Nails\": {\"frequency\": 1, \"value\": \"Something I Can ...\"}, \"Tired Of Being Sorry - Enrique Iglesias\": {\"frequency\": 4, \"value\": \"Tired Of Being ...\"}, \"Distance And Time - Alicia Keys\": {\"frequency\": 26, \"value\": \"Distance And Time ...\"}, \"Unstoppable - Santigold\": {\"frequency\": 5, \"value\": \"Unstoppable - ...\"}, \"Between The Bars - Elliott Smith\": {\"frequency\": 1, \"value\": \"Between The Bars - ...\"}, \"Canada - Five Iron Frenzy\": {\"frequency\": 6, \"value\": \"Canada - Five Iron ...\"}, \"Devil's path - Dimmu Borgir\": {\"frequency\": 2, \"value\": \"Devil's path - ...\"}, \"La Colina De La Vida - Leon Gieco\": {\"frequency\": 2, \"value\": \"La Colina De La ...\"}, \"Little Yellow Spider - Devendra Banhart\": {\"frequency\": 10, \"value\": \"Little Yellow ...\"}, \"Times - Tenth Avenue North\": {\"frequency\": 10, \"value\": \"Times - Tenth ...\"}, \"Un Beso de Desayuno - Calle 13\": {\"frequency\": 2, \"value\": \"Un Beso de ...\"}, \"In The Dark - Flyleaf\": {\"frequency\": 6, \"value\": \"In The Dark - ...\"}, \"Office (LP Version) - Pepper\": {\"frequency\": 17, \"value\": \"Office (LP ...\"}, \"15 Step - Radiohead\": {\"frequency\": 12, \"value\": \"15 Step - ...\"}, \"East To West - Casting Crowns\": {\"frequency\": 8, \"value\": \"East To West - ...\"}, \"Exit Music (For A Film) - Radiohead\": {\"frequency\": 37, \"value\": \"Exit Music (For A ...\"}, \"Oh! You Pretty Things (1997 Digital Remaster) - David Bowie\": {\"frequency\": 2, \"value\": \"Oh! You Pretty ...\"}, \"Black Wave/Bad Vibrations - Arcade Fire\": {\"frequency\": 4, \"value\": \"Black Wave/Bad ...\"}, \"Getaway - Train\": {\"frequency\": 7, \"value\": \"Getaway - Train\"}, \"Elevator Love Letter - Stars\": {\"frequency\": 3, \"value\": \"Elevator Love ...\"}, \"Boy's Life - Dr. Know\": {\"frequency\": 8, \"value\": \"Boy's Life - Dr. ...\"}, \"Put It Down - The-Dream\": {\"frequency\": 5, \"value\": \"Put It Down - The- ...\"}, \"Superstition - The Kills\": {\"frequency\": 6, \"value\": \"Superstition - The ...\"}, \"Free Of Me - Joshua Radin\": {\"frequency\": 46, \"value\": \"Free Of Me - ...\"}, \"I Am The Club (Explicit Album Version) - Plies\": {\"frequency\": 3, \"value\": \"I Am The Club ...\"}, \"Hip Hop Star - Beyonc\\ufffd\\ufffd featuring Big Boi and Sleepy Brown\": {\"frequency\": 3, \"value\": \"Hip Hop Star - ...\"}, \"Indra - Thievery Corporation\": {\"frequency\": 2, \"value\": \"Indra - Thievery ...\"}, \"Ooh La - The Kooks\": {\"frequency\": 19, \"value\": \"Ooh La - The Kooks\"}, \"Who Do You Think You Are - Spice Girls\": {\"frequency\": 17, \"value\": \"Who Do You Think ...\"}, \"Salvation - Five Finger Death Punch\": {\"frequency\": 5, \"value\": \"Salvation - Five ...\"}, \"Soldier - Destiny's Child featuring T.I. and Lil Wayne\": {\"frequency\": 5, \"value\": \"Soldier - ...\"}, \"Air & Lack Thereof - James Blake\": {\"frequency\": 3, \"value\": \"Air & Lack Thereof ...\"}, \"For What It's Worth - The Cardigans\": {\"frequency\": 2, \"value\": \"For What It's ...\"}, \"Scream (Album Version) - Avenged Sevenfold\": {\"frequency\": 41, \"value\": \"Scream (Album ...\"}, \"Midnight Bottle - Colbie Caillat\": {\"frequency\": 5, \"value\": \"Midnight Bottle - ...\"}, \"Ghost - Parachute\": {\"frequency\": 7, \"value\": \"Ghost - Parachute\"}, \"Closer To The Sun - Slightly Stoopid\": {\"frequency\": 1, \"value\": \"Closer To The Sun ...\"}, \"La Rock 01 - Vitalic\": {\"frequency\": 1, \"value\": \"La Rock 01 - ...\"}, \"Dress Me Like a Clown - Margot & The Nuclear So And So's\": {\"frequency\": 1, \"value\": \"Dress Me Like a ...\"}, \"Imma Be - Black Eyed Peas\": {\"frequency\": 10, \"value\": \"Imma Be - Black ...\"}, \"Year 3000 - Jonas Brothers\": {\"frequency\": 2, \"value\": \"Year 3000 - Jonas ...\"}, \"Moth's Wings - Passion Pit\": {\"frequency\": 5, \"value\": \"Moth's Wings - ...\"}, \"The Voice Of Enigma - Enigma\": {\"frequency\": 9, \"value\": \"The Voice Of ...\"}, \"Give Me Anything - The Maine\": {\"frequency\": 13, \"value\": \"Give Me Anything - ...\"}, \"Honest Expression - Binary Star\": {\"frequency\": 1, \"value\": \"Honest Expression ...\"}, \"Only One - Yellowcard\": {\"frequency\": 11, \"value\": \"Only One - ...\"}, \"Everybody But Me - Lykke Li\": {\"frequency\": 1, \"value\": \"Everybody But Me - ...\"}, \"Cousin Dupree - Steely Dan\": {\"frequency\": 2, \"value\": \"Cousin Dupree - ...\"}, \"La Madre De Los Enanos - Calle 13\": {\"frequency\": 20, \"value\": \"La Madre De Los ...\"}, \"Familiar Realm - CKY\": {\"frequency\": 7, \"value\": \"Familiar Realm - ...\"}, \"Peaches & Cream (full-length/album version) - John Butler Trio\": {\"frequency\": 3, \"value\": \"Peaches & Cream ...\"}, \"Head Up (LP Version) - Deftones\": {\"frequency\": 1, \"value\": \"Head Up (LP ...\"}, \"IMNOTYOURBOYFRIENDBABY (Amended Album Version) - 3OH!3\": {\"frequency\": 1, \"value\": \"IMNOTYOURBOYFRIEND ...\"}, \"Freedom - Jurassic 5\": {\"frequency\": 1, \"value\": \"Freedom - Jurassic ...\"}, \"I Was Once_ Possibly_ Maybe_ Perhaps A Cowboy King (feat. NO) - Asking Alexandria\": {\"frequency\": 2, \"value\": \"I Was Once_ ...\"}, \"Creatures (For A While) - 311\": {\"frequency\": 1, \"value\": \"Creatures (For A ...\"}, \"Walk Through The World (RemasteredLP Version) - MARC COHN\": {\"frequency\": 1, \"value\": \"Walk Through The ...\"}, \"Mama Tierra - Macaco\": {\"frequency\": 7, \"value\": \"Mama Tierra - ...\"}, \"Here We Go Again - Demi Lovato\": {\"frequency\": 9, \"value\": \"Here We Go Again - ...\"}, \"Beat It - Fall Out Boy\": {\"frequency\": 1, \"value\": \"Beat It - Fall Out ...\"}, \"All We Are - Matt Nathanson\": {\"frequency\": 1, \"value\": \"All We Are - Matt ...\"}, \"End Of The Line - Traveling Wilburys\": {\"frequency\": 4, \"value\": \"End Of The Line - ...\"}, \"You Wanted A Hit - LCD Soundsystem\": {\"frequency\": 4, \"value\": \"You Wanted A Hit - ...\"}, \"Talk Show Host - Radiohead\": {\"frequency\": 2, \"value\": \"Talk Show Host - ...\"}, \"What Have I Done To Deserve This? (2001 Digital Remaster) - Pet Shop Boys With Dusty Springfield\": {\"frequency\": 2, \"value\": \"What Have I Done ...\"}, \"Feelin' Way Too Damn Good - Nickelback\": {\"frequency\": 6, \"value\": \"Feelin' Way Too ...\"}, \"West One (Shine On Me) - The Ruts\": {\"frequency\": 62, \"value\": \"West One (Shine On ...\"}, \"Hate To Say I Told You So - The Hives\": {\"frequency\": 1, \"value\": \"Hate To Say I Told ...\"}, \"Teddy Picker - Arctic Monkeys\": {\"frequency\": 3, \"value\": \"Teddy Picker - ...\"}, \"Genom tunna tyger - Markus Kruneg\\ufffd\\ufffdrd\": {\"frequency\": 16, \"value\": \"Genom tunna tyger ...\"}, \"Of Moons_ Birds & Monsters - MGMT\": {\"frequency\": 2, \"value\": \"Of Moons_ Birds & ...\"}, \"The Jessica Numbers - The New Pornographers\": {\"frequency\": 4, \"value\": \"The Jessica ...\"}, \"Wayfaring Stranger - Tony Rice\": {\"frequency\": 7, \"value\": \"Wayfaring Stranger ...\"}, \"Collect Call - Metric\": {\"frequency\": 15, \"value\": \"Collect Call - ...\"}, \"Remember When It Rained (Revised Live Version) - Josh Groban\": {\"frequency\": 4, \"value\": \"Remember When It ...\"}, \"Por Onde Andei - Nando Reis\": {\"frequency\": 13, \"value\": \"Por Onde Andei - ...\"}, \"We're Going To Be Friends - Jack Johnson\": {\"frequency\": 1, \"value\": \"We're Going To Be ...\"}, \"The Once Lost Returns - Jules Shear\": {\"frequency\": 24, \"value\": \"The Once Lost ...\"}, \"Let's Dance - Miley Cyrus\": {\"frequency\": 3, \"value\": \"Let's Dance - ...\"}, \"Sunny Day - Big Tymers / Gotti / TQ / Mikkey\": {\"frequency\": 1, \"value\": \"Sunny Day - Big ...\"}, \"I Am The Highway - Audioslave\": {\"frequency\": 18, \"value\": \"I Am The Highway - ...\"}, \"Wasting Time - Jack Johnson\": {\"frequency\": 1, \"value\": \"Wasting Time - ...\"}, \"I'm About To Come Alive - Train\": {\"frequency\": 1, \"value\": \"I'm About To Come ...\"}, \"Wake Up (Album Version) - Rage Against The Machine\": {\"frequency\": 1, \"value\": \"Wake Up (Album ...\"}, \"Intro - Gorillaz\": {\"frequency\": 27, \"value\": \"Intro - Gorillaz\"}, \"One In A Million - Guns N' Roses\": {\"frequency\": 4, \"value\": \"One In A Million - ...\"}, \"Karibien - Air France\": {\"frequency\": 4, \"value\": \"Karibien - Air ...\"}, \"Bubble Toes / Express Yourself - Jack Johnson\": {\"frequency\": 8, \"value\": \"Bubble Toes / ...\"}, \"Whoever Brings The Night - Nightwish\": {\"frequency\": 4, \"value\": \"Whoever Brings The ...\"}, \"Panty Droppa [Intro] (Album Version) - Trey Songz\": {\"frequency\": 4, \"value\": \"Panty Droppa ...\"}, \"It Won't Be Like This For Long - Darius Rucker\": {\"frequency\": 11, \"value\": \"It Won't Be Like ...\"}, \"Malo (Explicit) - Bebe\": {\"frequency\": 1, \"value\": \"Malo (Explicit) - ...\"}, \"Sombra De Ti - Shakira\": {\"frequency\": 3, \"value\": \"Sombra De Ti - ...\"}, \"The King Of Carrot Flowers Parts Two And Three - Neutral Milk Hotel\": {\"frequency\": 6, \"value\": \"The King Of Carrot ...\"}, \"Big Me - Foo Fighters\": {\"frequency\": 7, \"value\": \"Big Me - Foo ...\"}, \"Lava Lava - Boys Noize\": {\"frequency\": 49, \"value\": \"Lava Lava - Boys ...\"}, \"From Out Of Nowhere - Faith No More\": {\"frequency\": 3, \"value\": \"From Out Of ...\"}, \"The Sharing Song - Jack Johnson\": {\"frequency\": 2, \"value\": \"The Sharing Song - ...\"}, \"Shallow Be Thy Game (Album Version) - Red Hot Chili Peppers\": {\"frequency\": 7, \"value\": \"Shallow Be Thy ...\"}, \"Cherry Lips (Go Baby Go!) (Re-mastered 07) - Garbage\": {\"frequency\": 5, \"value\": \"Cherry Lips (Go ...\"}, \"Not the One (Album Version) - The Offspring\": {\"frequency\": 1, \"value\": \"Not the One (Album ...\"}, \"Wandering Eye - Fat Freddy's Drop\": {\"frequency\": 2, \"value\": \"Wandering Eye - ...\"}, \"Royal Gregory - Holy Fuck\": {\"frequency\": 1, \"value\": \"Royal Gregory - ...\"}, \"Great Expectations - The Gaslight Anthem\": {\"frequency\": 6, \"value\": \"Great Expectations ...\"}, \"Normal Guy - The Lonely Island\": {\"frequency\": 12, \"value\": \"Normal Guy - The ...\"}, \"Here I Am - SOJA\": {\"frequency\": 7, \"value\": \"Here I Am - SOJA\"}, \"The Little Things - Colbie Caillat\": {\"frequency\": 4, \"value\": \"The Little Things ...\"}, \"Ave Maria No Morro - Jo\\ufffd\\ufffdo Gilberto\": {\"frequency\": 1, \"value\": \"Ave Maria No Morro ...\"}, \"Kiss Me Like You Mean It (Album Version) - Air Supply\": {\"frequency\": 1, \"value\": \"Kiss Me Like You ...\"}, \"Song For You - Alexi Murdoch\": {\"frequency\": 4, \"value\": \"Song For You - ...\"}, \"Coleccionista De Canciones  (Version Acustica) - Camila\": {\"frequency\": 4, \"value\": \"Coleccionista De ...\"}, \"Say You'll Be There (Single Mix) - Spice Girls\": {\"frequency\": 7, \"value\": \"Say You'll Be ...\"}, \"Alley Oop (Girls Version) (2007 Digital Remaster) - The Bonzo Dog Band\": {\"frequency\": 6, \"value\": \"Alley Oop (Girls ...\"}, \"Jive Talkin' (Album Version) - Bee Gees\": {\"frequency\": 5, \"value\": \"Jive Talkin' ...\"}, \"A Woman's Worth - Alicia Keys\": {\"frequency\": 1, \"value\": \"A Woman's Worth - ...\"}, \"Next Girl - The Black Keys\": {\"frequency\": 13, \"value\": \"Next Girl - The ...\"}, \"A La Mierda - Ska-P\": {\"frequency\": 8, \"value\": \"A La Mierda - ...\"}, \"The Heart Of Everything - Within Temptation\": {\"frequency\": 6, \"value\": \"The Heart Of ...\"}, \"Angel - Amanda Perez\": {\"frequency\": 1, \"value\": \"Angel - Amanda ...\"}, \"Discotraxx - Ladytron\": {\"frequency\": 3, \"value\": \"Discotraxx - ...\"}, \"Delilah - The Cranberries\": {\"frequency\": 1, \"value\": \"Delilah - The ...\"}, \"Overburdened (Album Version) - Disturbed\": {\"frequency\": 6, \"value\": \"Overburdened ...\"}, \"Homecoming - Kanye West\": {\"frequency\": 4, \"value\": \"Homecoming - Kanye ...\"}, \"Love Me - Justin Bieber\": {\"frequency\": 128, \"value\": \"Love Me - Justin ...\"}, \"Gimme Sympathy - Metric\": {\"frequency\": 3, \"value\": \"Gimme Sympathy - ...\"}, \"Kiwi - Maroon 5\": {\"frequency\": 15, \"value\": \"Kiwi - Maroon 5\"}, \"Thule - The Album Leaf\": {\"frequency\": 1, \"value\": \"Thule - The Album ...\"}, \"38:45 (A Thievery Number) - Thievery Corporation\": {\"frequency\": 3, \"value\": \"38:45 (A Thievery ...\"}, \"Full Moon - The Black Ghosts\": {\"frequency\": 9, \"value\": \"Full Moon - The ...\"}, \"My Michelle - Guns N' Roses\": {\"frequency\": 26, \"value\": \"My Michelle - Guns ...\"}, \"Seven Nation Army (Album Version) - The White Stripes\": {\"frequency\": 1, \"value\": \"Seven Nation Army ...\"}, \"Sunday - The Cranberries\": {\"frequency\": 3, \"value\": \"Sunday - The ...\"}, \"Ball & Chain (Album) - Social Distortion\": {\"frequency\": 6, \"value\": \"Ball & Chain ...\"}, \"Youth Of The Nation (2006 Remastered Album Version) - P.O.D.\": {\"frequency\": 5, \"value\": \"Youth Of The ...\"}, \"The Remedy (I Won't Worry) (New EQ'd LP Version) - Jason Mraz\": {\"frequency\": 4, \"value\": \"The Remedy (I ...\"}, \"No Government - Nicolette\": {\"frequency\": 41, \"value\": \"No Government - ...\"}, \"I Stand Corrected (Album) - Vampire Weekend\": {\"frequency\": 9, \"value\": \"I Stand Corrected ...\"}, \"Ever Dream - Nightwish\": {\"frequency\": 2, \"value\": \"Ever Dream - ...\"}, \"Thank You For The Venom (Album Version) - My Chemical Romance\": {\"frequency\": 2, \"value\": \"Thank You For The ...\"}, \"Stand Up Guy (Amended Album Version) - T.I.\": {\"frequency\": 1, \"value\": \"Stand Up Guy ...\"}, \"Mil Horas - Los Abuelos De La Nada\": {\"frequency\": 1, \"value\": \"Mil Horas - Los ...\"}, \"I Feel Better - Hot Chip\": {\"frequency\": 1, \"value\": \"I Feel Better - ...\"}, \"Pictures - Sia\": {\"frequency\": 3, \"value\": \"Pictures - Sia\"}, \"Crucifucks (Album Version) - Gallows\": {\"frequency\": 3, \"value\": \"Crucifucks (Album ...\"}, \"Call Me If You Need Me - Magic Sam\": {\"frequency\": 1, \"value\": \"Call Me If You ...\"}, \"Paralyzer - Finger Eleven\": {\"frequency\": 4, \"value\": \"Paralyzer - Finger ...\"}, \"Road To Joy - Bright Eyes\": {\"frequency\": 7, \"value\": \"Road To Joy - ...\"}, \"Better That We Break - Maroon 5\": {\"frequency\": 1, \"value\": \"Better That We ...\"}, \"Infinity - The xx\": {\"frequency\": 29, \"value\": \"Infinity - The xx\"}, \"Black Wave (Album) - The Shins\": {\"frequency\": 7, \"value\": \"Black Wave (Album) ...\"}, \"It's Not Over - Secondhand Serenade\": {\"frequency\": 1, \"value\": \"It's Not Over - ...\"}, \"You Never Miss The Water Until The Well Runs Dry - Lindisfarne\": {\"frequency\": 8, \"value\": \"You Never Miss The ...\"}, \"Stand Back - Stevie Nicks\": {\"frequency\": 2, \"value\": \"Stand Back - ...\"}, \"Daisy And Prudence - Erin McKeown\": {\"frequency\": 1, \"value\": \"Daisy And Prudence ...\"}, \"Build High - Pixies\": {\"frequency\": 22, \"value\": \"Build High - ...\"}, \"Reach Out - Refused\": {\"frequency\": 8, \"value\": \"Reach Out - ...\"}, \"Be Like You - Notes From Underground\": {\"frequency\": 1, \"value\": \"Be Like You - ...\"}, \"Me And Charlie Talking - Miranda Lambert\": {\"frequency\": 3, \"value\": \"Me And Charlie ...\"}, \"What To Do - Ok Go\": {\"frequency\": 1, \"value\": \"What To Do - Ok Go\"}, \"Bounce That - Girl Talk\": {\"frequency\": 2, \"value\": \"Bounce That - Girl ...\"}, \"Live To Tell The Tale - Passion Pit\": {\"frequency\": 10, \"value\": \"Live To Tell The ...\"}, \"Modern Guilt - Beck\": {\"frequency\": 5, \"value\": \"Modern Guilt - ...\"}, \"Prelude And Yodel (2008 Digital Remaster) - Penguin Caf\\ufffd\\ufffd Orchestra\": {\"frequency\": 2, \"value\": \"Prelude And Yodel ...\"}, \"Intentions - The Whitest Boy Alive\": {\"frequency\": 2, \"value\": \"Intentions - The ...\"}, \"Baby Blue Eyes (Album Version) - A Rocket To The Moon\": {\"frequency\": 2, \"value\": \"Baby Blue Eyes ...\"}, \"Cream ( LP Version W/O Rap Monologue ) - Prince & The New Power Generation\": {\"frequency\": 4, \"value\": \"Cream ( LP Version ...\"}, \"So Long_ Marianne - Leonard Cohen\": {\"frequency\": 1, \"value\": \"So Long_ Marianne ...\"}, \"Making Love (Into The Night) - Usher\": {\"frequency\": 8, \"value\": \"Making Love (Into ...\"}, \"Alice Practise - Crystal Castles\": {\"frequency\": 7, \"value\": \"Alice Practise - ...\"}, \"Cherish The Day - Sade\": {\"frequency\": 23, \"value\": \"Cherish The Day - ...\"}, \"Mr. Brownstone - Guns N' Roses\": {\"frequency\": 9, \"value\": \"Mr. Brownstone - ...\"}, \"Imagine Dead John Lennon - Times New Viking\": {\"frequency\": 33, \"value\": \"Imagine Dead John ...\"}, \"Me Arde - Andres Calamaro\": {\"frequency\": 12, \"value\": \"Me Arde - Andres ...\"}, \"All That I Need - STEVE CAMP\": {\"frequency\": 3, \"value\": \"All That I Need - ...\"}, \"Pedro Navaja (Live LP Version) - Ruben Blades\": {\"frequency\": 1, \"value\": \"Pedro Navaja (Live ...\"}, \"Everlong - Foo Fighters\": {\"frequency\": 5, \"value\": \"Everlong - Foo ...\"}, \"Blame It On The Boogie - The Jacksons\": {\"frequency\": 6, \"value\": \"Blame It On The ...\"}, \"Vladimir's Blues - Max Richter\": {\"frequency\": 9, \"value\": \"Vladimir's Blues - ...\"}, \"Clumsy - Fergie\": {\"frequency\": 2, \"value\": \"Clumsy - Fergie\"}, \"Writer's Block - Just Jack\": {\"frequency\": 3, \"value\": \"Writer's Block - ...\"}, \"I Am A Man Of Constant Sorrow - The Soggy Bottom Boys\": {\"frequency\": 1, \"value\": \"I Am A Man Of ...\"}, \"In - Leggo Beast\": {\"frequency\": 1, \"value\": \"In - Leggo Beast\"}, \"We Have Love - Hot Chip\": {\"frequency\": 1, \"value\": \"We Have Love - Hot ...\"}, \"Sin Coro - Calle 13\": {\"frequency\": 20, \"value\": \"Sin Coro - Calle ...\"}, \"Cult Logic - Miike Snow\": {\"frequency\": 3, \"value\": \"Cult Logic - Miike ...\"}, \"Whoomp! There It Is - Tag Team\": {\"frequency\": 1, \"value\": \"Whoomp! There It ...\"}, \"Around The World (Radio Edit) - Daft Punk\": {\"frequency\": 9, \"value\": \"Around The World ...\"}, \"Not Alone Any More - Traveling Wilburys\": {\"frequency\": 2, \"value\": \"Not Alone Any More ...\"}, \"Police Truck - Dead Kennedys\": {\"frequency\": 3, \"value\": \"Police Truck - ...\"}, \"Calendar girl - Stars\": {\"frequency\": 1, \"value\": \"Calendar girl - ...\"}, \"You Hid - Toro Y Moi\": {\"frequency\": 1, \"value\": \"You Hid - Toro Y ...\"}, \"Easy Love - MSTRKRFT\": {\"frequency\": 11, \"value\": \"Easy Love - ...\"}, \"Fools - The Temper Trap\": {\"frequency\": 40, \"value\": \"Fools - The Temper ...\"}, \"Come To Me - Koop\": {\"frequency\": 2, \"value\": \"Come To Me - Koop\"}, \"It's Not What - SKOLD vs. KMFDM\": {\"frequency\": 2, \"value\": \"It's Not What - ...\"}, \"Unforgettable Season - Cut Copy\": {\"frequency\": 4, \"value\": \"Unforgettable ...\"}, \"Lovesick - Friendly Fires\": {\"frequency\": 7, \"value\": \"Lovesick - ...\"}, \"Redefine - Incubus\": {\"frequency\": 2, \"value\": \"Redefine - Incubus\"}, \"The Last Cigarette - Ed Harcourt\": {\"frequency\": 10, \"value\": \"The Last Cigarette ...\"}, \"No Ordinary Love (Remastered LP Version) - Deftones\": {\"frequency\": 1, \"value\": \"No Ordinary Love ...\"}, \"Revolution Deathsquad (Album Version) - Dragonforce\": {\"frequency\": 5, \"value\": \"Revolution ...\"}, \"Black Cadillacs - Modest Mouse\": {\"frequency\": 17, \"value\": \"Black Cadillacs - ...\"}, \"Opus No. 12 - Dustin O'Halloran\": {\"frequency\": 1, \"value\": \"Opus No. 12 - ...\"}, \"So Nice So Smart - Kimya Dawson\": {\"frequency\": 4, \"value\": \"So Nice So Smart - ...\"}, \"Civil War - Guns N' Roses\": {\"frequency\": 148, \"value\": \"Civil War - Guns ...\"}, \"Love Letter To Japan - the bird and the bee\": {\"frequency\": 1, \"value\": \"Love Letter To ...\"}, \"I Feel So - Box Car Racer\": {\"frequency\": 2, \"value\": \"I Feel So - Box ...\"}, \"1234 - Feist\": {\"frequency\": 1, \"value\": \"1234 - Feist\"}, \"Invalid - Tub Ring\": {\"frequency\": 26, \"value\": \"Invalid - Tub Ring\"}, \"The Lion Sleeps Tonight - The Tokens\": {\"frequency\": 1, \"value\": \"The Lion Sleeps ...\"}, \"What They Found - Octopus Project\": {\"frequency\": 27, \"value\": \"What They Found - ...\"}, \"Bootstrap's Bootstraps - Klaus Badelt\": {\"frequency\": 2, \"value\": \"Bootstrap's ...\"}, \"The Gift - Angels and Airwaves\": {\"frequency\": 37, \"value\": \"The Gift - Angels ...\"}, \"Top Drawer - Man Man\": {\"frequency\": 1, \"value\": \"Top Drawer - Man ...\"}, \"Cannonball - Damien Rice\": {\"frequency\": 2, \"value\": \"Cannonball - ...\"}, \"Never Again - Nickelback\": {\"frequency\": 11, \"value\": \"Never Again - ...\"}, \"Electric Feel - MGMT\": {\"frequency\": 13, \"value\": \"Electric Feel - ...\"}, \"The Lighthouse's Tale - Nickel Creek\": {\"frequency\": 9, \"value\": \"The Lighthouse's ...\"}, \"Spies - Coldplay\": {\"frequency\": 44, \"value\": \"Spies - Coldplay\"}, \"Don't Come Around Here No More - Tom Petty And The Heartbreakers\": {\"frequency\": 10, \"value\": \"Don't Come Around ...\"}, \"Breakout - Foo Fighters\": {\"frequency\": 16, \"value\": \"Breakout - Foo ...\"}, \"Solo Dolo (nightmare) - Kid Cudi\": {\"frequency\": 17, \"value\": \"Solo Dolo ...\"}, \"El Cuatrero - Miguel Calo\": {\"frequency\": 55, \"value\": \"El Cuatrero - ...\"}, \"Moonlight Drive [Version 1] - The Doors\": {\"frequency\": 3, \"value\": \"Moonlight Drive ...\"}, \"The Police And The Private - Metric\": {\"frequency\": 2, \"value\": \"The Police And The ...\"}, \"Cut Throat (feat. The Game_ Jim Jones & Block) (Amended Album Version) - Yung Joc featuring The Game_ Jim Jones & Block\": {\"frequency\": 3, \"value\": \"Cut Throat (feat. ...\"}, \"Missing Persons 1 & 2 - OneRepublic\": {\"frequency\": 4, \"value\": \"Missing Persons 1 ...\"}, \"Billy (Album Version) - James Blunt\": {\"frequency\": 1, \"value\": \"Billy (Album ...\"}, \"Mandarine Girl - Booka Shade\": {\"frequency\": 1, \"value\": \"Mandarine Girl - ...\"}, \"Backdoor Love Affair (LP Version) - ZZ Top\": {\"frequency\": 1, \"value\": \"Backdoor Love ...\"}, \"(The Symphony Of) Blase' - Anberlin\": {\"frequency\": 7, \"value\": \"(The Symphony Of) ...\"}, \"Spark My Soul (feat. Substantial) - Inverse\": {\"frequency\": 15, \"value\": \"Spark My Soul ...\"}, \"Guiding Light - Muse\": {\"frequency\": 15, \"value\": \"Guiding Light - ...\"}, \"Friction - Morcheeba\": {\"frequency\": 2, \"value\": \"Friction - ...\"}, \"ROSENROT - Rammstein\": {\"frequency\": 14, \"value\": \"ROSENROT - ...\"}, \"Many Shades Of Black - The Raconteurs\": {\"frequency\": 3, \"value\": \"Many Shades Of ...\"}, \"Splitting The Atom - Massive Attack\": {\"frequency\": 1, \"value\": \"Splitting The Atom ...\"}, \"London Beckoned Songs About Money Written By Machines (Album Version) - Panic! At The Disco\": {\"frequency\": 5, \"value\": \"London Beckoned ...\"}, \"Murder The Government - NOFX\": {\"frequency\": 3, \"value\": \"Murder The ...\"}, \"Down Home Girl - Old Crow Medicine Show\": {\"frequency\": 4, \"value\": \"Down Home Girl - ...\"}, \"Fuori Dal Tunnel (Album Version) - Caparezza\": {\"frequency\": 2, \"value\": \"Fuori Dal Tunnel ...\"}, \"Sorry (Album Version) - Buckcherry\": {\"frequency\": 1, \"value\": \"Sorry (Album ...\"}, \"What Can Be Safely Written - Nile\": {\"frequency\": 1, \"value\": \"What Can Be Safely ...\"}, \"Detlef Schrempf (Album) - Band Of Horses\": {\"frequency\": 43, \"value\": \"Detlef Schrempf ...\"}, \"Turn This Car Around (Album Version) - Tom Petty\": {\"frequency\": 2, \"value\": \"Turn This Car ...\"}, \"Pintame - Elvis Crespo\": {\"frequency\": 1, \"value\": \"Pintame - Elvis ...\"}, \"I'm Bad - Rick Ross\": {\"frequency\": 3, \"value\": \"I'm Bad - Rick ...\"}, \"A Little Less Sixteen Candles_ A Little More \\\"Touch Me - Fall Out Boy\": {\"frequency\": 1, \"value\": \"A Little Less ...\"}, \"Leave House - Caribou\": {\"frequency\": 3, \"value\": \"Leave House - ...\"}, \"Forgive Me - City And Colour\": {\"frequency\": 9, \"value\": \"Forgive Me - City ...\"}, \"Shooter - Robin Thicke / Lil Wayne\": {\"frequency\": 4, \"value\": \"Shooter - Robin ...\"}, \"Heavy  (LP Version) - Collective Soul\": {\"frequency\": 1, \"value\": \"Heavy  (LP ...\"}, \"Transatlanticism - Death Cab for Cutie\": {\"frequency\": 5, \"value\": \"Transatlanticism - ...\"}, \"Never Gonna Happen - Lily Allen\": {\"frequency\": 4, \"value\": \"Never Gonna Happen ...\"}, \"Sei L\\ufffd\\ufffd Mangueira - Elizeth Cardoso\": {\"frequency\": 1, \"value\": \"Sei L\\u00e1 Mangueira - ...\"}, \"My Poor Old Heart - Alison Krauss / Union Station\": {\"frequency\": 4, \"value\": \"My Poor Old Heart ...\"}, \"Untitled (Domestic Album Version) - Simple Plan\": {\"frequency\": 1, \"value\": \"Untitled (Domestic ...\"}, \"Love Lost - The Temper Trap\": {\"frequency\": 1, \"value\": \"Love Lost - The ...\"}, \"Jolene (Album) - Zac Brown Band\": {\"frequency\": 18, \"value\": \"Jolene (Album) - ...\"}, \"Too Much - All Time Low\": {\"frequency\": 3, \"value\": \"Too Much - All ...\"}, \"Om Nashi Me - Edward Sharpe & The Magnetic Zeros\": {\"frequency\": 1, \"value\": \"Om Nashi Me - ...\"}, \"Almost Easy (Album Version) - Avenged Sevenfold\": {\"frequency\": 2, \"value\": \"Almost Easy (Album ...\"}, \"Dear Maria_ Count Me In - All Time Low\": {\"frequency\": 1, \"value\": \"Dear Maria_ Count ...\"}, \"Quicksand - La Roux\": {\"frequency\": 5, \"value\": \"Quicksand - La ...\"}, \"Lo Fr\\ufffd\\ufffdgil De La Locura - La Renga\": {\"frequency\": 13, \"value\": \"Lo Fr\\u00e1gil De La ...\"}, \"Bright Lights (Remastered Version) - matchbox twenty\": {\"frequency\": 1, \"value\": \"Bright Lights ...\"}, \"Drum Song - The Temper Trap\": {\"frequency\": 7, \"value\": \"Drum Song - The ...\"}, \"Gel (LP Version) - Collective Soul\": {\"frequency\": 1, \"value\": \"Gel (LP Version) - ...\"}, \"For Today I Am A Boy - Antony & The Johnsons\": {\"frequency\": 17, \"value\": \"For Today I Am A ...\"}, \"Salvapantallas - Jorge Drexler\": {\"frequency\": 20, \"value\": \"Salvapantallas - ...\"}, \"D\\ufffd\\ufffdmelo - Enrique Iglesias\": {\"frequency\": 2, \"value\": \"D\\u00edmelo - Enrique ...\"}, \"Back To The Old House - The Smiths\": {\"frequency\": 2, \"value\": \"Back To The Old ...\"}, \"VIKING MAN - Rodrigo y Gabriela\": {\"frequency\": 30, \"value\": \"VIKING MAN - ...\"}, \"Full Circle - Miley Cyrus\": {\"frequency\": 3, \"value\": \"Full Circle - ...\"}, \"Shortly Before The End - Ok Go\": {\"frequency\": 15, \"value\": \"Shortly Before The ...\"}, \"Glamorous - Fergie / Ludacris\": {\"frequency\": 6, \"value\": \"Glamorous - Fergie ...\"}, \"Farewell - Apocalyptica\": {\"frequency\": 43, \"value\": \"Farewell - ...\"}, \"Oh What A Night - The Dells\": {\"frequency\": 58, \"value\": \"Oh What A Night - ...\"}, \"Monster (Album Version) - Skillet\": {\"frequency\": 21, \"value\": \"Monster (Album ...\"}, \"Alala (Album) - CSS\": {\"frequency\": 1, \"value\": \"Alala (Album) - ...\"}, \"Tania - Camper Van Beethoven\": {\"frequency\": 3, \"value\": \"Tania - Camper Van ...\"}, \"Things Ain't Like They Used To Be - The Black Keys\": {\"frequency\": 3, \"value\": \"Things Ain't Like ...\"}, \"Eyeless (Live version) (Album Version) - Slipknot\": {\"frequency\": 15, \"value\": \"Eyeless (Live ...\"}, \"Temptation [7\\\" Version ] (Remastered) - New Order\": {\"frequency\": 1, \"value\": \"Temptation [7\\\" ...\"}, \"MIC (Speak Life Album Version) - Sev Statik\": {\"frequency\": 7, \"value\": \"MIC (Speak Life ...\"}, \"Thousand Ways - The Tallest Man On Earth\": {\"frequency\": 15, \"value\": \"Thousand Ways - ...\"}, \"Taxi Driver (Album Version) - Gym Class Heroes\": {\"frequency\": 1, \"value\": \"Taxi Driver (Album ...\"}, \"Only You - Joshua Radin\": {\"frequency\": 5, \"value\": \"Only You - Joshua ...\"}, \"Down The Line - Jos\\ufffd\\ufffd Gonz\\ufffd\\ufffdlez\": {\"frequency\": 1, \"value\": \"Down The Line - ...\"}, \"Aja - Steely Dan\": {\"frequency\": 5, \"value\": \"Aja - Steely Dan\"}, \"Carolina - Eric Church\": {\"frequency\": 11, \"value\": \"Carolina - Eric ...\"}, \"Christmas Is My Favorite Time Of The Year - Kenny Rogers\": {\"frequency\": 7, \"value\": \"Christmas Is My ...\"}, \"Iconography - Max Richter\": {\"frequency\": 55, \"value\": \"Iconography - Max ...\"}, \"Live from Heart - Sa Trincha\": {\"frequency\": 1, \"value\": \"Live from Heart - ...\"}, \"Our Lawyer Made Us Change The Name Of This Song So We Wouldn't Get Sued - Fall Out Boy\": {\"frequency\": 4, \"value\": \"Our Lawyer Made Us ...\"}, \"Porterville - Creedence Clearwater Revival\": {\"frequency\": 1, \"value\": \"Porterville - ...\"}, \"Who's Cheatin' Who - Alan Jackson\": {\"frequency\": 3, \"value\": \"Who's Cheatin' Who ...\"}, \"In Our Nature - Jos\\ufffd\\ufffd Gonz\\ufffd\\ufffdlez\": {\"frequency\": 14, \"value\": \"In Our Nature - ...\"}, \"Sin Cadenas - Los Pericos\": {\"frequency\": 6, \"value\": \"Sin Cadenas - Los ...\"}, \"Painting by Chagall - The Weepies\": {\"frequency\": 3, \"value\": \"Painting by ...\"}, \"Jamelia - Caribou\": {\"frequency\": 11, \"value\": \"Jamelia - Caribou\"}, \"Cay's Crays - Fat Freddy's Drop\": {\"frequency\": 2, \"value\": \"Cay's Crays - Fat ...\"}, \"I Wanna Be Your Lover (LP Version) - Prince\": {\"frequency\": 5, \"value\": \"I Wanna Be Your ...\"}, \"Hold On (LP Version) - En Vogue\": {\"frequency\": 2, \"value\": \"Hold On (LP ...\"}, \"Wish You Were Here - Incubus\": {\"frequency\": 4, \"value\": \"Wish You Were Here ...\"}, \"Love Dog - TV On The Radio\": {\"frequency\": 1, \"value\": \"Love Dog - TV On ...\"}, \"Vulnerable - Secondhand Serenade\": {\"frequency\": 1, \"value\": \"Vulnerable - ...\"}, \"Nature of the Experiment - Tokyo Police Club\": {\"frequency\": 3, \"value\": \"Nature of the ...\"}, \"Touch Too Much - Hot Chip\": {\"frequency\": 1, \"value\": \"Touch Too Much - ...\"}, \"Method Man - Wu-Tang Clan\": {\"frequency\": 1, \"value\": \"Method Man - Wu- ...\"}, \"Face To Face / Short Circuit - Daft Punk\": {\"frequency\": 16, \"value\": \"Face To Face / ...\"}, \"Year Of Tha Boomerang - Rage Against The Machine\": {\"frequency\": 12, \"value\": \"Year Of Tha ...\"}, \"Superstar Talking Blues - Edwyn Collins\": {\"frequency\": 11, \"value\": \"Superstar Talking ...\"}, \"Bar Tacuba - Caf\\ufffd\\ufffd Tacvba\": {\"frequency\": 18, \"value\": \"Bar Tacuba - Caf\\u00e9 ...\"}, \"Me & U - Cassie Feat. Diddy & Yung Joc\": {\"frequency\": 1, \"value\": \"Me & U - Cassie ...\"}, \"Ich Will - Rammstein\": {\"frequency\": 46, \"value\": \"Ich Will - ...\"}, \"Break Stuff - Limp Bizkit\": {\"frequency\": 1, \"value\": \"Break Stuff - Limp ...\"}, \"What Am I Gonna Do With You - Barry White\": {\"frequency\": 11, \"value\": \"What Am I Gonna Do ...\"}, \"Buffalo Bill - Eminem\": {\"frequency\": 8, \"value\": \"Buffalo Bill - ...\"}, \"Exitlude - The Killers\": {\"frequency\": 2, \"value\": \"Exitlude - The ...\"}, \"All My Loving - Jim Sturgess\": {\"frequency\": 2, \"value\": \"All My Loving - ...\"}, \"Waiting - Dash Berlin\": {\"frequency\": 1, \"value\": \"Waiting - Dash ...\"}, \"Susie Q - Creedence Clearwater Revival\": {\"frequency\": 1, \"value\": \"Susie Q - ...\"}, \"Runaway (2007 Remastered Remix Version) - Traveling Wilburys\": {\"frequency\": 9, \"value\": \"Runaway (2007 ...\"}, \"Can't Take My Eyes Off Of You - Lauryn Hill\": {\"frequency\": 8, \"value\": \"Can't Take My Eyes ...\"}, \"Coming Up Roses - Elliott Smith\": {\"frequency\": 3, \"value\": \"Coming Up Roses - ...\"}, \"Here Comes My Girl - Tom Petty And The Heartbreakers\": {\"frequency\": 9, \"value\": \"Here Comes My Girl ...\"}, \"Repr\\ufffd\\ufffdsente - Alliance Ethnik\": {\"frequency\": 77, \"value\": \"Repr\\u00e9sente - ...\"}, \"Didn't I - Petey Pablo\": {\"frequency\": 7, \"value\": \"Didn't I - Petey ...\"}, \"Someone Is Waiting - Neutral Milk Hotel\": {\"frequency\": 1, \"value\": \"Someone Is Waiting ...\"}, \"Let It Rain - Ok Go\": {\"frequency\": 6, \"value\": \"Let It Rain - Ok ...\"}, \"Realize - Colbie Caillat\": {\"frequency\": 16, \"value\": \"Realize - Colbie ...\"}, \"Dial Me Up - Lange\": {\"frequency\": 3, \"value\": \"Dial Me Up - Lange\"}, \"Workin For A Livin - Huey Lewis And The News\": {\"frequency\": 1, \"value\": \"Workin For A Livin ...\"}, \"Christmas Card From A Hooker In Minneapolis - Tom Waits\": {\"frequency\": 2, \"value\": \"Christmas Card ...\"}, \"I Wonder Why - Dion & The Belmonts\": {\"frequency\": 1, \"value\": \"I Wonder Why - ...\"}, \"A Comet Appears (Album) - The Shins\": {\"frequency\": 1, \"value\": \"A Comet Appears ...\"}, \"Troublemaker - Weezer\": {\"frequency\": 2, \"value\": \"Troublemaker - ...\"}, \"Riot In Cell Block Number Nine - Dr Feelgood\": {\"frequency\": 5, \"value\": \"Riot In Cell Block ...\"}, \"True Faith - New Order\": {\"frequency\": 2, \"value\": \"True Faith - New ...\"}, \"Sample Track 2 - Simon Harris\": {\"frequency\": 2, \"value\": \"Sample Track 2 - ...\"}, \"A Small Victory (2009 Remastered) - Faith No More\": {\"frequency\": 5, \"value\": \"A Small Victory ...\"}, \"All My Friends Say - Luke Bryan\": {\"frequency\": 11, \"value\": \"All My Friends Say ...\"}, \"Mean Street (Album Version) - Van Halen\": {\"frequency\": 3, \"value\": \"Mean Street (Album ...\"}, \"I Don't Feel Like Dancin' - Scissor Sisters\": {\"frequency\": 1, \"value\": \"I Don't Feel Like ...\"}, \"Sencillamente - Bersuit Vergarabat\": {\"frequency\": 30, \"value\": \"Sencillamente - ...\"}, \"Crece La Voz - Macaco\": {\"frequency\": 1, \"value\": \"Crece La Voz - ...\"}, \"Empty Walls (Album Version) - Serj Tankian\": {\"frequency\": 11, \"value\": \"Empty Walls (Album ...\"}, \"The Road To Mandalay - Robbie Williams\": {\"frequency\": 2, \"value\": \"The Road To ...\"}, \"Taste The Pain - Red Hot Chili Peppers\": {\"frequency\": 3, \"value\": \"Taste The Pain - ...\"}, \"Al Vac\\ufffd\\ufffdo - No Te Va Gustar\": {\"frequency\": 6, \"value\": \"Al Vac\\u00edo - No Te ...\"}, \"At The Beginning (LP Version) - Richard Marx & Donna Lewis\": {\"frequency\": 1, \"value\": \"At The Beginning ...\"}, \"My Maria - Brooks & Dunn\": {\"frequency\": 4, \"value\": \"My Maria - Brooks ...\"}, \"The Story I Heard - Blind Pilot\": {\"frequency\": 5, \"value\": \"The Story I Heard ...\"}, \"California (LP Version) - Joni Mitchell\": {\"frequency\": 2, \"value\": \"California (LP ...\"}, \"Perdiendo El Tiempo - Vilma Palma\": {\"frequency\": 38, \"value\": \"Perdiendo El ...\"}, \"Drown Me Slowly - Audioslave\": {\"frequency\": 1, \"value\": \"Drown Me Slowly - ...\"}, \"Implosion of Eternity - Origin\": {\"frequency\": 3, \"value\": \"Implosion of ...\"}, \"Fag Hag - Lily Allen\": {\"frequency\": 3, \"value\": \"Fag Hag - Lily ...\"}, \"Our Love Is Easy - Melody Gardot\": {\"frequency\": 5, \"value\": \"Our Love Is Easy - ...\"}, \"Settle For Nothing - Rage Against The Machine\": {\"frequency\": 2, \"value\": \"Settle For Nothing ...\"}, \"The Perfect Space - The Avett Brothers\": {\"frequency\": 6, \"value\": \"The Perfect Space ...\"}, \"Human Of The Year (Album Version) - Regina Spektor\": {\"frequency\": 14, \"value\": \"Human Of The Year ...\"}, \"Paradise Circus (Breakage's Tight Rope Remix) - Massive Attack\": {\"frequency\": 2, \"value\": \"Paradise Circus ...\"}, \"Sala De Recep\\ufffd\\ufffd\\ufffd\\ufffdo - Cartola\": {\"frequency\": 2, \"value\": \"Sala De Recep\\u00e7\\u00e3o - ...\"}, \"Nada De Ti - Paulina Rubio\": {\"frequency\": 3, \"value\": \"Nada De Ti - ...\"}, \"New Divide (Album Version) - Linkin Park\": {\"frequency\": 6, \"value\": \"New Divide (Album ...\"}, \"Future Foe Scenarios - Silversun Pickups\": {\"frequency\": 7, \"value\": \"Future Foe ...\"}, \"Sunday Morning - No Doubt\": {\"frequency\": 8, \"value\": \"Sunday Morning - ...\"}, \"The Sweets - Yeah Yeah Yeahs\": {\"frequency\": 2, \"value\": \"The Sweets - Yeah ...\"}, \"Silvergun Superman (LP Version) - Stone Temple Pilots\": {\"frequency\": 2, \"value\": \"Silvergun Superman ...\"}, \"Jeane - The Smiths\": {\"frequency\": 7, \"value\": \"Jeane - The Smiths\"}, \"Verde Que Te Quero Rosa - Cartola\": {\"frequency\": 29, \"value\": \"Verde Que Te Quero ...\"}, \"Womanopoly - Musiq\": {\"frequency\": 1, \"value\": \"Womanopoly - Musiq\"}, \"Shine On (Album Version) - NEEDTOBREATHE\": {\"frequency\": 3, \"value\": \"Shine On (Album ...\"}, \"The Heretic Anthem (Album Version) - Slipknot\": {\"frequency\": 1, \"value\": \"The Heretic Anthem ...\"}, \"Again I Go Unnoticed - Dashboard Confessional\": {\"frequency\": 3, \"value\": \"Again I Go ...\"}, \"Matin\\ufffd\\ufffde - Franz Ferdinand\": {\"frequency\": 5, \"value\": \"Matin\\u00e9e - Franz ...\"}, \"Help I'm Alive - Metric\": {\"frequency\": 4, \"value\": \"Help I'm Alive - ...\"}, \"Sometimes Selling Out Is Giving Up - Rise Against\": {\"frequency\": 8, \"value\": \"Sometimes Selling ...\"}, \"Sun - Caribou\": {\"frequency\": 2, \"value\": \"Sun - Caribou\"}, \"Du Hast - Rammstein\": {\"frequency\": 5, \"value\": \"Du Hast - ...\"}, \"Make It Mine (Album Version) - Jason Mraz\": {\"frequency\": 1, \"value\": \"Make It Mine ...\"}, \"My Worst Nightmare - Forever The Sickest Kids\": {\"frequency\": 1, \"value\": \"My Worst Nightmare ...\"}, \"Stepping Stone - Duffy\": {\"frequency\": 1, \"value\": \"Stepping Stone - ...\"}, \"Tides - Tarot\": {\"frequency\": 15, \"value\": \"Tides - Tarot\"}, \"The Good Old Days - The Libertines\": {\"frequency\": 7, \"value\": \"The Good Old Days ...\"}, \"Stop Draggin' My Heart Around - Stevie Nicks / Tom Petty And The Heartbreakers\": {\"frequency\": 8, \"value\": \"Stop Draggin' My ...\"}, \"Fotograf\\ufffd\\ufffda - Juanes / Nelly Furtado\": {\"frequency\": 9, \"value\": \"Fotograf\\u00eda - ...\"}, \"Demolition Man - The Police\": {\"frequency\": 11, \"value\": \"Demolition Man - ...\"}, \"No Pienses De Mas - Jorge Drexler\": {\"frequency\": 3, \"value\": \"No Pienses De Mas ...\"}, \"Toxic Girl - Kings Of Convenience\": {\"frequency\": 10, \"value\": \"Toxic Girl - Kings ...\"}, \"In Limbo - Radiohead\": {\"frequency\": 14, \"value\": \"In Limbo - ...\"}, \"Nostalgia - The Long Blondes\": {\"frequency\": 1, \"value\": \"Nostalgia - The ...\"}, \"Erase / Rewind - The Cardigans\": {\"frequency\": 4, \"value\": \"Erase / Rewind - ...\"}, \"Slush - Hot Chip\": {\"frequency\": 1, \"value\": \"Slush - Hot Chip\"}, \"re:stacks - Bon Iver\": {\"frequency\": 3, \"value\": \"re:stacks - Bon ...\"}, \"Shakin' Hands (Album Version) - Nickelback\": {\"frequency\": 15, \"value\": \"Shakin' Hands ...\"}, \"Part Of The Process - Morcheeba\": {\"frequency\": 43, \"value\": \"Part Of The ...\"}, \"My Last Serenade - Killswitch Engage\": {\"frequency\": 4, \"value\": \"My Last Serenade - ...\"}, \"Flugufrelsarinn - Sigur Ros\": {\"frequency\": 5, \"value\": \"Flugufrelsarinn - ...\"}, \"One More Night - Phil Collins\": {\"frequency\": 8, \"value\": \"One More Night - ...\"}, \"The God That Failed - Metallica\": {\"frequency\": 12, \"value\": \"The God That ...\"}, \"Mack The Knife (Album Version) - Michael Bubl\\ufffd\\ufffd\": {\"frequency\": 2, \"value\": \"Mack The Knife ...\"}, \"We Never Change - Coldplay\": {\"frequency\": 15, \"value\": \"We Never Change - ...\"}, \"Le Soleil Est Pr\\ufffd\\ufffds De Moi - Air\": {\"frequency\": 1, \"value\": \"Le Soleil Est Pr\\u00e8s ...\"}, \"Surrender - Billy Talent\": {\"frequency\": 1, \"value\": \"Surrender - Billy ...\"}, \"The Leaving Song Pt. II - AFI\": {\"frequency\": 2, \"value\": \"The Leaving Song ...\"}, \"Radio Nowhere - Bruce Springsteen\": {\"frequency\": 2, \"value\": \"Radio Nowhere - ...\"}, \"Keep The Change_ You Filthy Animal - All Time Low\": {\"frequency\": 3, \"value\": \"Keep The Change_ ...\"}, \"Autumn (Album) - Carla Bruni\": {\"frequency\": 33, \"value\": \"Autumn (Album) - ...\"}, \"The Season - The Dodos\": {\"frequency\": 3, \"value\": \"The Season - The ...\"}, \"Pirate Jet - Gorillaz\": {\"frequency\": 21, \"value\": \"Pirate Jet - ...\"}, \"Sticky Thread - Local Natives\": {\"frequency\": 5, \"value\": \"Sticky Thread - ...\"}, \"Unplayed Piano (Chris Lord-Alge Mix) - Damien Rice and Lisa Hannigan\": {\"frequency\": 1, \"value\": \"Unplayed Piano ...\"}, \"Falling - Iration\": {\"frequency\": 3, \"value\": \"Falling - Iration\"}, \"My Little Brother - Art Brut\": {\"frequency\": 7, \"value\": \"My Little Brother ...\"}, \"Dig Up Her Bones - The Misfits\": {\"frequency\": 12, \"value\": \"Dig Up Her Bones - ...\"}, \"High On The Heels - The Whitest Boy Alive\": {\"frequency\": 5, \"value\": \"High On The Heels ...\"}, \"I'm A G (feat. Bun B & Young Dro) (Explicit Album Version) - Yung Joc featuring Bun B & Young Dro\": {\"frequency\": 3, \"value\": \"I'm A G (feat. Bun ...\"}, \"I'm Your Captain/Closer To Home (Medley) (2002 Digital Remaster) - Grand Funk Railroad\": {\"frequency\": 1, \"value\": \"I'm Your ...\"}, \"Embrace - Pnau\": {\"frequency\": 2, \"value\": \"Embrace - Pnau\"}, \"5' O'Clock In the Morning - Village People\": {\"frequency\": 11, \"value\": \"5' O'Clock In the ...\"}, \"All My Friends - Amos Lee\": {\"frequency\": 7, \"value\": \"All My Friends - ...\"}, \"Glory Days - Just Jack\": {\"frequency\": 1, \"value\": \"Glory Days - Just ...\"}, \"Succubus - Five Finger Death Punch\": {\"frequency\": 15, \"value\": \"Succubus - Five ...\"}, \"Mein Herz (Live) - Mediengruppe Telekommander\": {\"frequency\": 4, \"value\": \"Mein Herz (Live) - ...\"}, \"Alejate De Mi - Camila\": {\"frequency\": 9, \"value\": \"Alejate De Mi - ...\"}, \"These Walls Are Thin (Album Version) - The Boxer Rebellion\": {\"frequency\": 25, \"value\": \"These Walls Are ...\"}, \"Love And Caring - Crystal Castles\": {\"frequency\": 8, \"value\": \"Love And Caring - ...\"}, \"Two Hearts - Phil Collins\": {\"frequency\": 12, \"value\": \"Two Hearts - Phil ...\"}, \"My Sundown - Jimmy Eat World\": {\"frequency\": 12, \"value\": \"My Sundown - Jimmy ...\"}, \"Invincible - Muse\": {\"frequency\": 29, \"value\": \"Invincible - Muse\"}, \"De Weg - Guus Meeuwis\": {\"frequency\": 1, \"value\": \"De Weg - Guus ...\"}, \"Failure - Kings Of Convenience\": {\"frequency\": 5, \"value\": \"Failure - Kings Of ...\"}, \"Forget Myself (2006 Remastered Version) - Third Eye Blind\": {\"frequency\": 1, \"value\": \"Forget Myself ...\"}, \"F L M - Mel & Kim\": {\"frequency\": 3, \"value\": \"F L M - Mel & Kim\"}, \"Linoleum - NOFX\": {\"frequency\": 2, \"value\": \"Linoleum - NOFX\"}, \"I Believe (DJ Tandu Mix) - Lange\": {\"frequency\": 2, \"value\": \"I Believe (DJ ...\"}, \"Wait A Minute - The Pussycat Dolls / Timbaland\": {\"frequency\": 1, \"value\": \"Wait A Minute - ...\"}, \"Drag The Waters (Remastered LP Version) - Pantera\": {\"frequency\": 1, \"value\": \"Drag The Waters ...\"}, \"War on war - Wilco\": {\"frequency\": 7, \"value\": \"War on war - Wilco\"}, \"Hellbound - J-Black & Masta Ace\": {\"frequency\": 1, \"value\": \"Hellbound - ...\"}, \"Kaili - Caribou\": {\"frequency\": 3, \"value\": \"Kaili - Caribou\"}, \"Siempre Es De Noche - Alejandro Sanz\": {\"frequency\": 4, \"value\": \"Siempre Es De ...\"}, \"One Red Thread - Blind Pilot\": {\"frequency\": 1, \"value\": \"One Red Thread - ...\"}, \"Battle - Colbie Caillat\": {\"frequency\": 9, \"value\": \"Battle - Colbie ...\"}, \"Misunderstood - Robbie Williams\": {\"frequency\": 2, \"value\": \"Misunderstood - ...\"}, \"Feelings Show - Colbie Caillat\": {\"frequency\": 4, \"value\": \"Feelings Show - ...\"}, \"Ni\\ufffd\\ufffdo Soldado - Ska-P\": {\"frequency\": 5, \"value\": \"Ni\\u00f1o Soldado - ...\"}, \"True Grit - The Crystal Method\": {\"frequency\": 4, \"value\": \"True Grit - The ...\"}, \"Where The Rain Grows - Helloween\": {\"frequency\": 7, \"value\": \"Where The Rain ...\"}, \"Hello - Evanescence\": {\"frequency\": 5, \"value\": \"Hello - ...\"}, \"Danse Pour Moi - M. Pokora\": {\"frequency\": 3, \"value\": \"Danse Pour Moi - ...\"}, \"The Pulse - Holy Fuck\": {\"frequency\": 1, \"value\": \"The Pulse - Holy ...\"}, \"Knocked Up - Kings Of Leon\": {\"frequency\": 3, \"value\": \"Knocked Up - Kings ...\"}, \"Northern Sky - Nick Drake\": {\"frequency\": 1, \"value\": \"Northern Sky - ...\"}, \"Hoy Me Voy - Juanes\": {\"frequency\": 5, \"value\": \"Hoy Me Voy - ...\"}, \"Porno Graphique - Myl\\ufffd\\ufffdne Farmer\": {\"frequency\": 1, \"value\": \"Porno Graphique - ...\"}, \"Sing_ Sing_ Sing (Key-E-Premiere Performance Plus w/o Background Vocals) - Chris Tomlin\": {\"frequency\": 4, \"value\": \"Sing_ Sing_ Sing ...\"}, \"Half Of My Mistakes - Radney Foster\": {\"frequency\": 74, \"value\": \"Half Of My ...\"}, \"My Holiday - Mindy Smith\": {\"frequency\": 1, \"value\": \"My Holiday - Mindy ...\"}, \"42 - Coldplay\": {\"frequency\": 7, \"value\": \"42 - Coldplay\"}, \"Resurrection - The Temper Trap\": {\"frequency\": 42, \"value\": \"Resurrection - The ...\"}, \"Butterfly Caught (Radio Edit) - Massive Attack\": {\"frequency\": 1, \"value\": \"Butterfly Caught ...\"}, \"Till You Return To Me - GROVER WASHINGTON_ JR.\": {\"frequency\": 48, \"value\": \"Till You Return To ...\"}, \"Faces - Yeah Yeah Yeahs\": {\"frequency\": 1, \"value\": \"Faces - Yeah Yeah ...\"}, \"Dark Blue (Album Version) - Jack's Mannequin\": {\"frequency\": 1, \"value\": \"Dark Blue (Album ...\"}, \"Shiller - Ratatat\": {\"frequency\": 7, \"value\": \"Shiller - Ratatat\"}, \"Silver Coin - Angus & Julia Stone\": {\"frequency\": 24, \"value\": \"Silver Coin - ...\"}, \"Sky Might Fall - Kid Cudi\": {\"frequency\": 42, \"value\": \"Sky Might Fall - ...\"}, \"Love - Musiq\": {\"frequency\": 8, \"value\": \"Love - Musiq\"}, \"Yin Yang - Jarabe De Palo\": {\"frequency\": 7, \"value\": \"Yin Yang - Jarabe ...\"}, \"Misfit Love - Queens Of The Stone Age\": {\"frequency\": 4, \"value\": \"Misfit Love - ...\"}, \"Cannonball - The Breeders\": {\"frequency\": 1, \"value\": \"Cannonball - The ...\"}, \"Disease (Album Version) - matchbox twenty\": {\"frequency\": 4, \"value\": \"Disease (Album ...\"}, \"Dissident - Pearl Jam\": {\"frequency\": 1, \"value\": \"Dissident - Pearl ...\"}, \"Pretty Pink Ribbon - Cake\": {\"frequency\": 30, \"value\": \"Pretty Pink Ribbon ...\"}, \"Ask The Mountains - Vangelis\": {\"frequency\": 2, \"value\": \"Ask The Mountains ...\"}, \"Kamasutra - Yahel\": {\"frequency\": 1, \"value\": \"Kamasutra - Yahel\"}, \"Different (album version) - Pendulum\": {\"frequency\": 15, \"value\": \"Different (album ...\"}, \"So Payaso (Version 2004) - Extremoduro\": {\"frequency\": 1, \"value\": \"So Payaso (Version ...\"}, \"One Shot (Album Version) - Danity Kane\": {\"frequency\": 1, \"value\": \"One Shot (Album ...\"}, \"No Siento Penas - Juanes\": {\"frequency\": 4, \"value\": \"No Siento Penas - ...\"}, \"Amerika (Album Version) - Jaco Pastorius Big Band\": {\"frequency\": 4, \"value\": \"Amerika (Album ...\"}, \"No Remorse - Metallica\": {\"frequency\": 1, \"value\": \"No Remorse - ...\"}, \"Still Don't Give A Fuck - Eminem\": {\"frequency\": 8, \"value\": \"Still Don't Give A ...\"}, \"Piece By Piece - Katie Melua\": {\"frequency\": 4, \"value\": \"Piece By Piece - ...\"}, \"Unholy Confessions - Avenged Sevenfold\": {\"frequency\": 5, \"value\": \"Unholy Confessions ...\"}, \"On The Road Again (Pigna People Remix) - Telex\": {\"frequency\": 2, \"value\": \"On The Road Again ...\"}, \"Shine On  (Album Version) - James Blunt\": {\"frequency\": 10, \"value\": \"Shine On  (Album ...\"}, \"Hey Stephen - Taylor Swift\": {\"frequency\": 38, \"value\": \"Hey Stephen - ...\"}, \"Right Back - Sublime\": {\"frequency\": 1, \"value\": \"Right Back - ...\"}, \"Evolution - The Cinematic Orchestra feat. Fontella Bass\": {\"frequency\": 3, \"value\": \"Evolution - The ...\"}, \"Take Your Mama - Scissor Sisters\": {\"frequency\": 2, \"value\": \"Take Your Mama - ...\"}, \"Drown - Three Days Grace\": {\"frequency\": 7, \"value\": \"Drown - Three Days ...\"}, \"All Mine - Portishead\": {\"frequency\": 7, \"value\": \"All Mine - ...\"}, \"Love Is Stronger Than Pride - Sade\": {\"frequency\": 13, \"value\": \"Love Is Stronger ...\"}, \"Pansy Twist - Huggy Bear\": {\"frequency\": 17, \"value\": \"Pansy Twist - ...\"}, \"I'm the man who loves you - Wilco\": {\"frequency\": 10, \"value\": \"I'm the man who ...\"}, \"Birds - Kate Nash\": {\"frequency\": 19, \"value\": \"Birds - Kate Nash\"}, \"Magdalena - A Perfect Circle\": {\"frequency\": 1, \"value\": \"Magdalena - A ...\"}, \"All The Wild Horses - Ray LaMontagne\": {\"frequency\": 20, \"value\": \"All The Wild ...\"}, \"If I Could - Jack Johnson\": {\"frequency\": 43, \"value\": \"If I Could - Jack ...\"}, \"March Of The Celts - Enya\": {\"frequency\": 16, \"value\": \"March Of The Celts ...\"}, \"Freeze - K-OS\": {\"frequency\": 1, \"value\": \"Freeze - K-OS\"}, \"No Llegas A M\\ufffd\\ufffd - No Te Va Gustar\": {\"frequency\": 8, \"value\": \"No Llegas A M\\u00ed - ...\"}, \"True Colors - Cyndi Lauper\": {\"frequency\": 3, \"value\": \"True Colors - ...\"}, \"Dumb - Nirvana\": {\"frequency\": 71, \"value\": \"Dumb - Nirvana\"}, \"Something In The Way - Nirvana\": {\"frequency\": 10, \"value\": \"Something In The ...\"}, \"Missing - Flyleaf\": {\"frequency\": 18, \"value\": \"Missing - Flyleaf\"}, \"Courtesy Of The Red_ White And Blue (The Angry American) - Toby Keith\": {\"frequency\": 9, \"value\": \"Courtesy Of The ...\"}, \"Save The Last Dance For Me [Ralphi Rosario Anthomic Vocal] - Michael Bubl\\ufffd\\ufffd\": {\"frequency\": 2, \"value\": \"Save The Last ...\"}, \"Still Ill - The Smiths\": {\"frequency\": 10, \"value\": \"Still Ill - The ...\"}, \"Love Lost (Album Version) - Trey Songz\": {\"frequency\": 5, \"value\": \"Love Lost (Album ...\"}, \"Time Bomb - Iration\": {\"frequency\": 1, \"value\": \"Time Bomb - ...\"}, \"Do We Need This? - Muse\": {\"frequency\": 1, \"value\": \"Do We Need This? - ...\"}, \"A Lo Cubano - Orishas\": {\"frequency\": 12, \"value\": \"A Lo Cubano - ...\"}, \"How Sweet It Is (Album Version) - Michael Bubl\\ufffd\\ufffd\": {\"frequency\": 12, \"value\": \"How Sweet It Is ...\"}, \"Passenger (LP Version) - Deftones\": {\"frequency\": 4, \"value\": \"Passenger (LP ...\"}, \"Borders - The Whitest Boy Alive\": {\"frequency\": 4, \"value\": \"Borders - The ...\"}, \"Change Is Hard - She & Him\": {\"frequency\": 10, \"value\": \"Change Is Hard - ...\"}, \"Let It Fall - Lykke Li\": {\"frequency\": 21, \"value\": \"Let It Fall - ...\"}, \"Spider's Web - Katie Melua\": {\"frequency\": 4, \"value\": \"Spider's Web - ...\"}, \"Marshall Mathers - Eminem\": {\"frequency\": 9, \"value\": \"Marshall Mathers - ...\"}, \"Jeb Rand - Bedouin Soundclash\": {\"frequency\": 3, \"value\": \"Jeb Rand - Bedouin ...\"}, \"Wait & See (Gucci Soundsystem Remix) - Tiefschwarz\": {\"frequency\": 17, \"value\": \"Wait & See (Gucci ...\"}, \"Nitro (Youth Energy) - The Offspring\": {\"frequency\": 10, \"value\": \"Nitro (Youth ...\"}, \"In My Place - Coldplay\": {\"frequency\": 6, \"value\": \"In My Place - ...\"}, \"Mars vs. Venus - Usher\": {\"frequency\": 13, \"value\": \"Mars vs. Venus - ...\"}, \"A Better Son/Daughter - Rilo Kiley\": {\"frequency\": 1, \"value\": \"A Better ...\"}, \"Slight Figure Of Speech - The Avett Brothers\": {\"frequency\": 20, \"value\": \"Slight Figure Of ...\"}, \"Make A Mistake - Brad Paisley\": {\"frequency\": 8, \"value\": \"Make A Mistake - ...\"}, \"Pagan Angel and a Borrowed Car (Album) - Iron And Wine\": {\"frequency\": 3, \"value\": \"Pagan Angel and a ...\"}, \"Godspeed - Anberlin\": {\"frequency\": 8, \"value\": \"Godspeed - ...\"}, \"Bonafied Lovin (Radio Edit) - Chromeo\": {\"frequency\": 12, \"value\": \"Bonafied Lovin ...\"}, \"Television Rules The Nation - Daft Punk\": {\"frequency\": 6, \"value\": \"Television Rules ...\"}, \"Let's Dance (Remastered Album Version ) - Ramones\": {\"frequency\": 6, \"value\": \"Let's Dance ...\"}}, \"size\": 58628}, \"selected_variable\": {\"name\": [\"result\"], \"dtype\": \"str\", \"view_component\": \"Categorical\", \"view_file\": \"sarray\", \"descriptives\": {\"rows\": 58628}, \"type\": \"SArray\", \"view_components\": [\"Categorical\"]}, \"histogram\": null}, e);\n",
       "                });\n",
       "            })();\n",
       "        "
      ]
     },
     "metadata": {},
     "output_type": "display_data"
    }
   ],
   "source": [
    "result.show()"
   ]
  },
  {
   "cell_type": "markdown",
   "metadata": {},
   "source": [
    "# 4 Using the first 10,000 unique users only in the test data, use the personalized_model learned on the training data to recommend 1 song to each user. What’s the most recommended song? \n",
    "Undo - Björk"
   ]
  },
  {
   "cell_type": "code",
   "execution_count": 123,
   "metadata": {
    "collapsed": false
   },
   "outputs": [
    {
     "data": {
      "text/plain": [
       "dtype: str\n",
       "Rows: 3375\n",
       "['The Dells', 'Lil Jon / The East Side Boyz', 'Tom Petty And The Heartbreakers', 'Blackstreet', 'Ratatat', 'Shotta', 'Airscape', 'Mecano', 'Moimir Papalescu & The Nihilists', 'Brad Paisley', '16Volt', 'Prohom', 'Gogol Bordello', 'The Stray Cats', 'Billy Preston / Syreeta', 'Emma Shapplin', 'Manu Chao', 'Lil Jon & The East Side Boyz / Ludacris / Usher', 'Trapt', 'George Younce', 'Rammstein', 'Caifanes', 'Everly Brothers', 'Spoon', 'Sam & Dave', 'Giannis Aggelakas', 'Blue Swede', 'Scooter', \"The Men They Couldn't Hang\", 'Serj Tankian', 'Fionn Regan', 'Crystal Gayle', 'Kid Rock', 'The Cat Empire', 'No Doubt / Bounty Killer', 'Jonathan Butler', 'Forever The Sickest Kids', 'Young Money / Shawt Dawg', 'Michael Nyman', 'Dido', 'Steps', 'MIMS', 'Rob De Nijs', 'Devotchka', 'Bayside', 'Randy Houser', 'All That Remains', 'Stevie Nicks / Tom Petty And The Heartbreakers', 'Secret Garden', 'DUNCAN SHEIK', 'DESTRUCTION', 'Streetlight Manifesto', 'No Doubt', 'Sugar Ray feat. Super Cat', 'Sugar Pie DeSanto', 'Neutral Milk Hotel', 'Bone Thugs-N-Harmony / Akon', 'The Subways', 'Custom Blue', 'Lady & Bird', 'Simon Patterson', 'Melendi', 'Eric Prydz', 'Sabrina Malheiros', 'Big Punisher featuring Joe', 'Wilson Pickett', 'Love', 'Faithless', 'Charlie Louvin', 'CCCP - Fedeli Alla Linea', 'Dakis', 'Mudvayne', \"Kanye West / Consequence / Cam'Ron\", 'Mondo Marcio', 'DHT Feat. Edmée', 'Demi Lovato/Joe Jonas', 'Gang Starr', 'Big Tymers / Tateeze / Boo And Gotti', 'Arctic Monkeys', 'Elizeth Cardoso', 'Noosa Head Feat. Marshall Jefferson', 'José González', 'John Legend featuring The Stephens Family', 'Fountains Of Wayne', 'Rosana', 'Cows', 'Aaliyah', 'Jim Jones & Ron Browz featuring Juelz Santana', 'Armin van Buuren feat. Nadia Ali', 'Joao Gilberto', 'Junip', 'Pohlmann.', 'Metronomy', 'Del Tha Funkee Homosapien', 'Gabriella Cilmi', 'Jodeci', 'Clara Hill', 'Richard Souther', 'Kanye West / T-Pain', 'Newsboys', ... ]"
      ]
     },
     "execution_count": 123,
     "metadata": {},
     "output_type": "execute_result"
    }
   ],
   "source": [
    "song_data['artist'].unique()"
   ]
  },
  {
   "cell_type": "code",
   "execution_count": null,
   "metadata": {
    "collapsed": true
   },
   "outputs": [],
   "source": []
  }
 ],
 "metadata": {
  "kernelspec": {
   "display_name": "Python 2",
   "language": "python",
   "name": "python2"
  },
  "language_info": {
   "codemirror_mode": {
    "name": "ipython",
    "version": 2
   },
   "file_extension": ".py",
   "mimetype": "text/x-python",
   "name": "python",
   "nbconvert_exporter": "python",
   "pygments_lexer": "ipython2",
   "version": "2.7.11"
  }
 },
 "nbformat": 4,
 "nbformat_minor": 0
}
