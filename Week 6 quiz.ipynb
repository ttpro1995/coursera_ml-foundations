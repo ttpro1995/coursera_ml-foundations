{
 "cells": [
  {
   "cell_type": "markdown",
   "metadata": {},
   "source": [
    "# 1 Which of the following statements are true? (Check all that apply)\n",
    "### Linear classifiers are never useful, because they cannot represent XOR.\n",
    "\n",
    "### Linear classifiers are useful, because, with enough data, they can represent anything.\n"
   ]
  },
  {
   "cell_type": "markdown",
   "metadata": {},
   "source": [
    "# 2 A simple linear classifier can represent which of the following functions? (Check all that apply)\n",
    "### x1 AND x2 AND NOT x3\n",
    "### x1 OR (x2 AND NOT x3) \n",
    "### x1 OR x2 OR NOT x3"
   ]
  },
  {
   "cell_type": "markdown",
   "metadata": {},
   "source": [
    "# 3 Which of the the following neural networks can represent the following function? Select all that apply.\n",
    "### 4rd \n",
    "http://i.imgur.com/UtGyN9z.png"
   ]
  },
  {
   "cell_type": "markdown",
   "metadata": {},
   "source": [
    "# 4 Which of the following statements is true? (Check all that apply)\n",
    "### Features in computer vision act like local detectors.\n",
    "### By learning non-linear features, neural networks have allowed us to automatically learn detectors for computer vision."
   ]
  },
  {
   "cell_type": "markdown",
   "metadata": {},
   "source": [
    "# 5 If you have lots of images of different types of plankton labeled with their species name, and lots of computational resources, what would you expect to perform better predictions:\n",
    "### a deep neural network trained on this data."
   ]
  },
  {
   "cell_type": "markdown",
   "metadata": {},
   "source": [
    "# 6 If you have a few images of different types of plankton labeled with their species name, what would you expect to perform better predictions: \n",
    "### a simple classifier trained on this data, using deep features as input, which were trained using ImageNet data."
   ]
  },
  {
   "cell_type": "code",
   "execution_count": null,
   "metadata": {
    "collapsed": true
   },
   "outputs": [],
   "source": []
  }
 ],
 "metadata": {
  "kernelspec": {
   "display_name": "Python 2",
   "language": "python",
   "name": "python2"
  },
  "language_info": {
   "codemirror_mode": {
    "name": "ipython",
    "version": 2
   },
   "file_extension": ".py",
   "mimetype": "text/x-python",
   "name": "python",
   "nbconvert_exporter": "python",
   "pygments_lexer": "ipython2",
   "version": "2.7.11"
  }
 },
 "nbformat": 4,
 "nbformat_minor": 0
}
