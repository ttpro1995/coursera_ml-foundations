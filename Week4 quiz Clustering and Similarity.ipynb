{
 "cells": [
  {
   "cell_type": "markdown",
   "metadata": {},
   "source": [
    "# A country, called Simpleland, has a language with a small vocabulary of just “the”, “on”, “and”, “go”, “round”, “bus”, and “wheels”. For a word count vector with indices ordered as the words appear above, what is the word count vector for a document that simply says “the wheels on the bus go round and round.”\n",
    "\n",
    "## Please enter the vector of counts as follows: If the counts were [\"the\"=1, “on”=3, \"and\"=2, \"go\"=1, \"round\"=2, \"bus\"=1, \"wheels\"=1], enter 1321211.\n",
    "\n",
    "### 2111211\n"
   ]
  },
  {
   "cell_type": "markdown",
   "metadata": {},
   "source": [
    "# In Simpleland, a reader is enjoying a document with a representation: [1 3 2 1 2 1 1]. Which of the following articles would you recommend to this reader next?\n",
    "\n",
    "### 1700201"
   ]
  },
  {
   "cell_type": "markdown",
   "metadata": {},
   "source": [
    "# For the TF-IDF representation, does the relative importance of words in a document depend on the base of the logarithm used? For example, take the words \"bus\" and \"wheels\" in a particular document. Is the ratio between the TF-IDF values for \"bus\" and \"wheels\" different when computed using log base 2 versus log base 10?\n",
    "### No"
   ]
  },
  {
   "cell_type": "markdown",
   "metadata": {},
   "source": [
    "# A corpus in Simpleland has 99 articles. If you pick one article and perform 1-nearest neighbor search to find the closest article to this query article, how many times must you compute the similarity between two articles?\n",
    "\n",
    "### 98^2 \n",
    "### 98\n"
   ]
  },
  {
   "cell_type": "markdown",
   "metadata": {
    "collapsed": true
   },
   "source": [
    "# Which of the following statements are true? (Check all that apply):\n",
    "### spam vs not spam using label is supervised \n",
    "### if we are performing cluster, we do not use class label "
   ]
  },
  {
   "cell_type": "code",
   "execution_count": null,
   "metadata": {
    "collapsed": true
   },
   "outputs": [],
   "source": []
  }
 ],
 "metadata": {
  "kernelspec": {
   "display_name": "Python 2",
   "language": "python",
   "name": "python2"
  },
  "language_info": {
   "codemirror_mode": {
    "name": "ipython",
    "version": 2
   },
   "file_extension": ".py",
   "mimetype": "text/x-python",
   "name": "python",
   "nbconvert_exporter": "python",
   "pygments_lexer": "ipython2",
   "version": "2.7.11"
  }
 },
 "nbformat": 4,
 "nbformat_minor": 0
}
